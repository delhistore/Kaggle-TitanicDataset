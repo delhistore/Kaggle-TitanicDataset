{
 "cells": [
  {
   "cell_type": "markdown",
   "metadata": {},
   "source": [
    "# Titanic Survival Prediction"
   ]
  },
  {
   "cell_type": "markdown",
   "metadata": {},
   "source": [
    "Dataset Description :   \n",
    "\n",
    "<br>PassengerId: and id given to each traveler on the boat\n",
    "<br>Pclass: the passenger class. It has three possible values: 1,2,3 (first, second and third class)\n",
    "<br>The Name of the passeger\n",
    "<br>The Sex\n",
    "<br>The Age\n",
    "<br>SibSp: number of siblings and spouses traveling with the passenger\n",
    "<br>Parch: number of parents and children traveling with the passenger\n",
    "<br>The ticket number\n",
    "<br>The ticket Fare\n",
    "<br>The cabin number\n",
    "<br>The embarkation. This describes three possible ports at which people boarded Titanic. Three possible values S,C,Q"
   ]
  },
  {
   "cell_type": "code",
   "execution_count": 1,
   "metadata": {
    "collapsed": true
   },
   "outputs": [],
   "source": [
    "train_location = 'train.csv'\n",
    "Original_train_location = 'trainOriginal.csv'\n",
    "test_location = 'test.csv'\n",
    "Original_test_location = 'testOriginal.csv'"
   ]
  },
  {
   "cell_type": "code",
   "execution_count": 2,
   "metadata": {},
   "outputs": [
    {
     "name": "stderr",
     "output_type": "stream",
     "text": [
      "C:\\Users\\DELL PC\\Anaconda3\\lib\\site-packages\\sklearn\\cross_validation.py:44: DeprecationWarning: This module was deprecated in version 0.18 in favor of the model_selection module into which all the refactored classes and functions are moved. Also note that the interface of the new CV iterators are different from that of this module. This module will be removed in 0.20.\n",
      "  \"This module will be removed in 0.20.\", DeprecationWarning)\n",
      "C:\\Users\\DELL PC\\Anaconda3\\lib\\site-packages\\sklearn\\grid_search.py:43: DeprecationWarning: This module was deprecated in version 0.18 in favor of the model_selection module into which all the refactored classes and functions are moved. This module will be removed in 0.20.\n",
      "  DeprecationWarning)\n"
     ]
    }
   ],
   "source": [
    "import numpy as np\n",
    "import pandas as pd\n",
    "from sklearn.cross_validation import cross_val_score\n",
    "from sklearn.grid_search import GridSearchCV\n",
    "from sklearn.grid_search import RandomizedSearchCV\n",
    "import matplotlib as plt"
   ]
  },
  {
   "cell_type": "code",
   "execution_count": 3,
   "metadata": {
    "collapsed": true
   },
   "outputs": [],
   "source": [
    "trainData = pd.read_csv(train_location)\n",
    "testData = pd.read_csv(test_location)"
   ]
  },
  {
   "cell_type": "code",
   "execution_count": 4,
   "metadata": {},
   "outputs": [
    {
     "data": {
      "text/html": [
       "<div>\n",
       "<style>\n",
       "    .dataframe thead tr:only-child th {\n",
       "        text-align: right;\n",
       "    }\n",
       "\n",
       "    .dataframe thead th {\n",
       "        text-align: left;\n",
       "    }\n",
       "\n",
       "    .dataframe tbody tr th {\n",
       "        vertical-align: top;\n",
       "    }\n",
       "</style>\n",
       "<table border=\"1\" class=\"dataframe\">\n",
       "  <thead>\n",
       "    <tr style=\"text-align: right;\">\n",
       "      <th></th>\n",
       "      <th>Pclass</th>\n",
       "      <th>Sex</th>\n",
       "      <th>Age</th>\n",
       "      <th>SibSp</th>\n",
       "      <th>Parch</th>\n",
       "      <th>Fare</th>\n",
       "      <th>Embarked</th>\n",
       "      <th>Survived</th>\n",
       "    </tr>\n",
       "  </thead>\n",
       "  <tbody>\n",
       "    <tr>\n",
       "      <th>0</th>\n",
       "      <td>3</td>\n",
       "      <td>0</td>\n",
       "      <td>22.0</td>\n",
       "      <td>1</td>\n",
       "      <td>0</td>\n",
       "      <td>7.2500</td>\n",
       "      <td>1.0</td>\n",
       "      <td>0</td>\n",
       "    </tr>\n",
       "    <tr>\n",
       "      <th>1</th>\n",
       "      <td>1</td>\n",
       "      <td>1</td>\n",
       "      <td>38.0</td>\n",
       "      <td>1</td>\n",
       "      <td>0</td>\n",
       "      <td>71.2833</td>\n",
       "      <td>0.0</td>\n",
       "      <td>1</td>\n",
       "    </tr>\n",
       "    <tr>\n",
       "      <th>2</th>\n",
       "      <td>3</td>\n",
       "      <td>1</td>\n",
       "      <td>26.0</td>\n",
       "      <td>0</td>\n",
       "      <td>0</td>\n",
       "      <td>7.9250</td>\n",
       "      <td>1.0</td>\n",
       "      <td>1</td>\n",
       "    </tr>\n",
       "    <tr>\n",
       "      <th>3</th>\n",
       "      <td>1</td>\n",
       "      <td>1</td>\n",
       "      <td>35.0</td>\n",
       "      <td>1</td>\n",
       "      <td>0</td>\n",
       "      <td>53.1000</td>\n",
       "      <td>1.0</td>\n",
       "      <td>1</td>\n",
       "    </tr>\n",
       "    <tr>\n",
       "      <th>4</th>\n",
       "      <td>3</td>\n",
       "      <td>0</td>\n",
       "      <td>35.0</td>\n",
       "      <td>0</td>\n",
       "      <td>0</td>\n",
       "      <td>8.0500</td>\n",
       "      <td>1.0</td>\n",
       "      <td>0</td>\n",
       "    </tr>\n",
       "  </tbody>\n",
       "</table>\n",
       "</div>"
      ],
      "text/plain": [
       "   Pclass  Sex   Age  SibSp  Parch     Fare  Embarked  Survived\n",
       "0       3    0  22.0      1      0   7.2500       1.0         0\n",
       "1       1    1  38.0      1      0  71.2833       0.0         1\n",
       "2       3    1  26.0      0      0   7.9250       1.0         1\n",
       "3       1    1  35.0      1      0  53.1000       1.0         1\n",
       "4       3    0  35.0      0      0   8.0500       1.0         0"
      ]
     },
     "execution_count": 4,
     "metadata": {},
     "output_type": "execute_result"
    }
   ],
   "source": [
    "trainData.head()"
   ]
  },
  {
   "cell_type": "code",
   "execution_count": 5,
   "metadata": {},
   "outputs": [
    {
     "data": {
      "text/plain": [
       "(891, 8)"
      ]
     },
     "execution_count": 5,
     "metadata": {},
     "output_type": "execute_result"
    }
   ],
   "source": [
    "trainData.shape"
   ]
  },
  {
   "cell_type": "code",
   "execution_count": 6,
   "metadata": {},
   "outputs": [
    {
     "data": {
      "text/html": [
       "<div>\n",
       "<style>\n",
       "    .dataframe thead tr:only-child th {\n",
       "        text-align: right;\n",
       "    }\n",
       "\n",
       "    .dataframe thead th {\n",
       "        text-align: left;\n",
       "    }\n",
       "\n",
       "    .dataframe tbody tr th {\n",
       "        vertical-align: top;\n",
       "    }\n",
       "</style>\n",
       "<table border=\"1\" class=\"dataframe\">\n",
       "  <thead>\n",
       "    <tr style=\"text-align: right;\">\n",
       "      <th></th>\n",
       "      <th>Pclass</th>\n",
       "      <th>Sex</th>\n",
       "      <th>Age</th>\n",
       "      <th>SibSp</th>\n",
       "      <th>Parch</th>\n",
       "      <th>Fare</th>\n",
       "      <th>Embarked</th>\n",
       "    </tr>\n",
       "  </thead>\n",
       "  <tbody>\n",
       "    <tr>\n",
       "      <th>0</th>\n",
       "      <td>3</td>\n",
       "      <td>0</td>\n",
       "      <td>34.5</td>\n",
       "      <td>0</td>\n",
       "      <td>0</td>\n",
       "      <td>7.8292</td>\n",
       "      <td>2</td>\n",
       "    </tr>\n",
       "    <tr>\n",
       "      <th>1</th>\n",
       "      <td>3</td>\n",
       "      <td>1</td>\n",
       "      <td>47.0</td>\n",
       "      <td>1</td>\n",
       "      <td>0</td>\n",
       "      <td>7.0000</td>\n",
       "      <td>1</td>\n",
       "    </tr>\n",
       "    <tr>\n",
       "      <th>2</th>\n",
       "      <td>2</td>\n",
       "      <td>0</td>\n",
       "      <td>62.0</td>\n",
       "      <td>0</td>\n",
       "      <td>0</td>\n",
       "      <td>9.6875</td>\n",
       "      <td>2</td>\n",
       "    </tr>\n",
       "    <tr>\n",
       "      <th>3</th>\n",
       "      <td>3</td>\n",
       "      <td>0</td>\n",
       "      <td>27.0</td>\n",
       "      <td>0</td>\n",
       "      <td>0</td>\n",
       "      <td>8.6625</td>\n",
       "      <td>1</td>\n",
       "    </tr>\n",
       "    <tr>\n",
       "      <th>4</th>\n",
       "      <td>3</td>\n",
       "      <td>1</td>\n",
       "      <td>22.0</td>\n",
       "      <td>1</td>\n",
       "      <td>1</td>\n",
       "      <td>12.2875</td>\n",
       "      <td>1</td>\n",
       "    </tr>\n",
       "  </tbody>\n",
       "</table>\n",
       "</div>"
      ],
      "text/plain": [
       "   Pclass  Sex   Age  SibSp  Parch     Fare  Embarked\n",
       "0       3    0  34.5      0      0   7.8292         2\n",
       "1       3    1  47.0      1      0   7.0000         1\n",
       "2       2    0  62.0      0      0   9.6875         2\n",
       "3       3    0  27.0      0      0   8.6625         1\n",
       "4       3    1  22.0      1      1  12.2875         1"
      ]
     },
     "execution_count": 6,
     "metadata": {},
     "output_type": "execute_result"
    }
   ],
   "source": [
    "testData.head()"
   ]
  },
  {
   "cell_type": "code",
   "execution_count": 7,
   "metadata": {},
   "outputs": [
    {
     "data": {
      "text/plain": [
       "(418, 7)"
      ]
     },
     "execution_count": 7,
     "metadata": {},
     "output_type": "execute_result"
    }
   ],
   "source": [
    "testData.shape"
   ]
  },
  {
   "cell_type": "markdown",
   "metadata": {},
   "source": [
    "## Replacing Name with title "
   ]
  },
  {
   "cell_type": "markdown",
   "metadata": {},
   "source": [
    "Adding column titles:\n",
    "    <br> 0 - Mr.\n",
    "    <br> 1 - Master.\n",
    "    <br> 2 - Mrs.\n",
    "    <br> 3 - Miss.\n",
    "    "
   ]
  },
  {
   "cell_type": "code",
   "execution_count": 8,
   "metadata": {},
   "outputs": [
    {
     "ename": "AttributeError",
     "evalue": "'numpy.int64' object has no attribute 'split'",
     "output_type": "error",
     "traceback": [
      "\u001b[1;31m---------------------------------------------------------------------------\u001b[0m",
      "\u001b[1;31mAttributeError\u001b[0m                            Traceback (most recent call last)",
      "\u001b[1;32m<ipython-input-8-25cddfbf7cc1>\u001b[0m in \u001b[0;36m<module>\u001b[1;34m()\u001b[0m\n\u001b[0;32m      3\u001b[0m \u001b[1;32mfor\u001b[0m \u001b[0mi\u001b[0m \u001b[1;32min\u001b[0m \u001b[0mtrainData\u001b[0m\u001b[1;33m.\u001b[0m\u001b[0miloc\u001b[0m\u001b[1;33m[\u001b[0m\u001b[1;33m:\u001b[0m\u001b[1;33m,\u001b[0m\u001b[1;36m0\u001b[0m\u001b[1;33m]\u001b[0m\u001b[1;33m:\u001b[0m\u001b[1;33m\u001b[0m\u001b[0m\n\u001b[0;32m      4\u001b[0m     \u001b[0mfoundTitle\u001b[0m \u001b[1;33m=\u001b[0m \u001b[1;36m0\u001b[0m\u001b[1;33m\u001b[0m\u001b[0m\n\u001b[1;32m----> 5\u001b[1;33m     \u001b[1;32mfor\u001b[0m \u001b[0mtitle\u001b[0m \u001b[1;32min\u001b[0m \u001b[0mi\u001b[0m\u001b[1;33m.\u001b[0m\u001b[0msplit\u001b[0m\u001b[1;33m(\u001b[0m\u001b[1;33m)\u001b[0m\u001b[1;33m:\u001b[0m\u001b[1;33m\u001b[0m\u001b[0m\n\u001b[0m\u001b[0;32m      6\u001b[0m         \u001b[1;32mif\u001b[0m \u001b[1;33m(\u001b[0m\u001b[0mtitle\u001b[0m \u001b[1;32min\u001b[0m \u001b[1;33m[\u001b[0m\u001b[1;34m'Mr.'\u001b[0m\u001b[1;33m,\u001b[0m \u001b[1;34m'Don.'\u001b[0m\u001b[1;33m,\u001b[0m \u001b[1;34m'Dr.'\u001b[0m\u001b[1;33m,\u001b[0m \u001b[1;34m'Major.'\u001b[0m\u001b[1;33m,\u001b[0m \u001b[1;34m'Col.'\u001b[0m\u001b[1;33m,\u001b[0m \u001b[1;34m'Rev.'\u001b[0m\u001b[1;33m,\u001b[0m \u001b[1;34m'Sir.'\u001b[0m\u001b[1;33m,\u001b[0m \u001b[1;34m'Capt.'\u001b[0m\u001b[1;33m]\u001b[0m\u001b[1;33m)\u001b[0m\u001b[1;33m:\u001b[0m\u001b[1;33m\u001b[0m\u001b[0m\n\u001b[0;32m      7\u001b[0m             \u001b[0mtitles\u001b[0m\u001b[1;33m.\u001b[0m\u001b[0mappend\u001b[0m\u001b[1;33m(\u001b[0m\u001b[1;36m0\u001b[0m\u001b[1;33m)\u001b[0m\u001b[1;33m\u001b[0m\u001b[0m\n",
      "\u001b[1;31mAttributeError\u001b[0m: 'numpy.int64' object has no attribute 'split'"
     ]
    }
   ],
   "source": [
    "titles = []\n",
    "k=0\n",
    "for i in trainData.iloc[:,0]:\n",
    "    foundTitle = 0\n",
    "    for title in i.split():\n",
    "        if (title in ['Mr.', 'Don.', 'Dr.', 'Major.', 'Col.', 'Rev.', 'Sir.', 'Capt.']):\n",
    "            titles.append(0)\n",
    "            foundTitle = 1\n",
    "            break\n",
    "        elif (title == 'Master.'):\n",
    "            titles.append(1)\n",
    "            foundTitle = 1\n",
    "            break\n",
    "        elif (title in ['Mrs.', 'Mme.', 'Lady.', 'Countess.']):\n",
    "            titles.append(2)\n",
    "            foundTitle = 1\n",
    "            break\n",
    "        elif (title in ['Miss.', 'Ms.', 'Mlle.']):\n",
    "            titles.append(3)\n",
    "            foundTitle = 1\n",
    "            break\n",
    "    \n",
    "    if(foundTitle == 0):\n",
    "        titles.append(0)\n",
    "        print(i)"
   ]
  },
  {
   "cell_type": "code",
   "execution_count": 9,
   "metadata": {},
   "outputs": [
    {
     "data": {
      "text/plain": [
       "0"
      ]
     },
     "execution_count": 9,
     "metadata": {},
     "output_type": "execute_result"
    }
   ],
   "source": [
    "len(titles)"
   ]
  },
  {
   "cell_type": "code",
   "execution_count": 10,
   "metadata": {},
   "outputs": [
    {
     "ename": "ValueError",
     "evalue": "Length of values does not match length of index",
     "output_type": "error",
     "traceback": [
      "\u001b[1;31m---------------------------------------------------------------------------\u001b[0m",
      "\u001b[1;31mValueError\u001b[0m                                Traceback (most recent call last)",
      "\u001b[1;32m<ipython-input-10-f8bb7fea5557>\u001b[0m in \u001b[0;36m<module>\u001b[1;34m()\u001b[0m\n\u001b[1;32m----> 1\u001b[1;33m \u001b[0mtrainData\u001b[0m\u001b[1;33m.\u001b[0m\u001b[0minsert\u001b[0m\u001b[1;33m(\u001b[0m\u001b[0mloc\u001b[0m\u001b[1;33m=\u001b[0m\u001b[1;36m1\u001b[0m\u001b[1;33m,\u001b[0m \u001b[0mcolumn\u001b[0m\u001b[1;33m=\u001b[0m\u001b[1;34m'Title'\u001b[0m\u001b[1;33m,\u001b[0m \u001b[0mvalue\u001b[0m\u001b[1;33m=\u001b[0m\u001b[0mtitles\u001b[0m\u001b[1;33m)\u001b[0m\u001b[1;33m\u001b[0m\u001b[0m\n\u001b[0m\u001b[0;32m      2\u001b[0m \u001b[0mtrainData\u001b[0m \u001b[1;33m=\u001b[0m \u001b[0mtrainData\u001b[0m\u001b[1;33m.\u001b[0m\u001b[0mdrop\u001b[0m\u001b[1;33m(\u001b[0m\u001b[0mlabels\u001b[0m\u001b[1;33m=\u001b[0m\u001b[1;33m[\u001b[0m\u001b[1;34m'Name'\u001b[0m\u001b[1;33m]\u001b[0m\u001b[1;33m,\u001b[0m \u001b[0maxis\u001b[0m\u001b[1;33m=\u001b[0m\u001b[1;36m1\u001b[0m\u001b[1;33m)\u001b[0m\u001b[1;33m\u001b[0m\u001b[0m\n\u001b[0;32m      3\u001b[0m \u001b[0mtrainData\u001b[0m\u001b[1;33m.\u001b[0m\u001b[0mhead\u001b[0m\u001b[1;33m(\u001b[0m\u001b[1;33m)\u001b[0m\u001b[1;33m\u001b[0m\u001b[0m\n",
      "\u001b[1;32mC:\\Users\\DELL PC\\Anaconda3\\lib\\site-packages\\pandas\\core\\frame.py\u001b[0m in \u001b[0;36minsert\u001b[1;34m(self, loc, column, value, allow_duplicates)\u001b[0m\n\u001b[0;32m   2517\u001b[0m         \"\"\"\n\u001b[0;32m   2518\u001b[0m         \u001b[0mself\u001b[0m\u001b[1;33m.\u001b[0m\u001b[0m_ensure_valid_index\u001b[0m\u001b[1;33m(\u001b[0m\u001b[0mvalue\u001b[0m\u001b[1;33m)\u001b[0m\u001b[1;33m\u001b[0m\u001b[0m\n\u001b[1;32m-> 2519\u001b[1;33m         \u001b[0mvalue\u001b[0m \u001b[1;33m=\u001b[0m \u001b[0mself\u001b[0m\u001b[1;33m.\u001b[0m\u001b[0m_sanitize_column\u001b[0m\u001b[1;33m(\u001b[0m\u001b[0mcolumn\u001b[0m\u001b[1;33m,\u001b[0m \u001b[0mvalue\u001b[0m\u001b[1;33m,\u001b[0m \u001b[0mbroadcast\u001b[0m\u001b[1;33m=\u001b[0m\u001b[1;32mFalse\u001b[0m\u001b[1;33m)\u001b[0m\u001b[1;33m\u001b[0m\u001b[0m\n\u001b[0m\u001b[0;32m   2520\u001b[0m         self._data.insert(loc, column, value,\n\u001b[0;32m   2521\u001b[0m                           allow_duplicates=allow_duplicates)\n",
      "\u001b[1;32mC:\\Users\\DELL PC\\Anaconda3\\lib\\site-packages\\pandas\\core\\frame.py\u001b[0m in \u001b[0;36m_sanitize_column\u001b[1;34m(self, key, value, broadcast)\u001b[0m\n\u001b[0;32m   2664\u001b[0m \u001b[1;33m\u001b[0m\u001b[0m\n\u001b[0;32m   2665\u001b[0m             \u001b[1;31m# turn me into an ndarray\u001b[0m\u001b[1;33m\u001b[0m\u001b[1;33m\u001b[0m\u001b[0m\n\u001b[1;32m-> 2666\u001b[1;33m             \u001b[0mvalue\u001b[0m \u001b[1;33m=\u001b[0m \u001b[0m_sanitize_index\u001b[0m\u001b[1;33m(\u001b[0m\u001b[0mvalue\u001b[0m\u001b[1;33m,\u001b[0m \u001b[0mself\u001b[0m\u001b[1;33m.\u001b[0m\u001b[0mindex\u001b[0m\u001b[1;33m,\u001b[0m \u001b[0mcopy\u001b[0m\u001b[1;33m=\u001b[0m\u001b[1;32mFalse\u001b[0m\u001b[1;33m)\u001b[0m\u001b[1;33m\u001b[0m\u001b[0m\n\u001b[0m\u001b[0;32m   2667\u001b[0m             \u001b[1;32mif\u001b[0m \u001b[1;32mnot\u001b[0m \u001b[0misinstance\u001b[0m\u001b[1;33m(\u001b[0m\u001b[0mvalue\u001b[0m\u001b[1;33m,\u001b[0m \u001b[1;33m(\u001b[0m\u001b[0mnp\u001b[0m\u001b[1;33m.\u001b[0m\u001b[0mndarray\u001b[0m\u001b[1;33m,\u001b[0m \u001b[0mIndex\u001b[0m\u001b[1;33m)\u001b[0m\u001b[1;33m)\u001b[0m\u001b[1;33m:\u001b[0m\u001b[1;33m\u001b[0m\u001b[0m\n\u001b[0;32m   2668\u001b[0m                 \u001b[1;32mif\u001b[0m \u001b[0misinstance\u001b[0m\u001b[1;33m(\u001b[0m\u001b[0mvalue\u001b[0m\u001b[1;33m,\u001b[0m \u001b[0mlist\u001b[0m\u001b[1;33m)\u001b[0m \u001b[1;32mand\u001b[0m \u001b[0mlen\u001b[0m\u001b[1;33m(\u001b[0m\u001b[0mvalue\u001b[0m\u001b[1;33m)\u001b[0m \u001b[1;33m>\u001b[0m \u001b[1;36m0\u001b[0m\u001b[1;33m:\u001b[0m\u001b[1;33m\u001b[0m\u001b[0m\n",
      "\u001b[1;32mC:\\Users\\DELL PC\\Anaconda3\\lib\\site-packages\\pandas\\core\\series.py\u001b[0m in \u001b[0;36m_sanitize_index\u001b[1;34m(data, index, copy)\u001b[0m\n\u001b[0;32m   2877\u001b[0m \u001b[1;33m\u001b[0m\u001b[0m\n\u001b[0;32m   2878\u001b[0m     \u001b[1;32mif\u001b[0m \u001b[0mlen\u001b[0m\u001b[1;33m(\u001b[0m\u001b[0mdata\u001b[0m\u001b[1;33m)\u001b[0m \u001b[1;33m!=\u001b[0m \u001b[0mlen\u001b[0m\u001b[1;33m(\u001b[0m\u001b[0mindex\u001b[0m\u001b[1;33m)\u001b[0m\u001b[1;33m:\u001b[0m\u001b[1;33m\u001b[0m\u001b[0m\n\u001b[1;32m-> 2879\u001b[1;33m         \u001b[1;32mraise\u001b[0m \u001b[0mValueError\u001b[0m\u001b[1;33m(\u001b[0m\u001b[1;34m'Length of values does not match length of '\u001b[0m \u001b[1;34m'index'\u001b[0m\u001b[1;33m)\u001b[0m\u001b[1;33m\u001b[0m\u001b[0m\n\u001b[0m\u001b[0;32m   2880\u001b[0m \u001b[1;33m\u001b[0m\u001b[0m\n\u001b[0;32m   2881\u001b[0m     \u001b[1;32mif\u001b[0m \u001b[0misinstance\u001b[0m\u001b[1;33m(\u001b[0m\u001b[0mdata\u001b[0m\u001b[1;33m,\u001b[0m \u001b[0mPeriodIndex\u001b[0m\u001b[1;33m)\u001b[0m\u001b[1;33m:\u001b[0m\u001b[1;33m\u001b[0m\u001b[0m\n",
      "\u001b[1;31mValueError\u001b[0m: Length of values does not match length of index"
     ]
    }
   ],
   "source": [
    "trainData.insert(loc=1, column='Title', value=titles)\n",
    "trainData = trainData.drop(labels=['Name'], axis=1) \n",
    "trainData.head()"
   ]
  },
  {
   "cell_type": "code",
   "execution_count": 11,
   "metadata": {},
   "outputs": [
    {
     "ename": "AttributeError",
     "evalue": "'numpy.int64' object has no attribute 'split'",
     "output_type": "error",
     "traceback": [
      "\u001b[1;31m---------------------------------------------------------------------------\u001b[0m",
      "\u001b[1;31mAttributeError\u001b[0m                            Traceback (most recent call last)",
      "\u001b[1;32m<ipython-input-11-6fbd457af510>\u001b[0m in \u001b[0;36m<module>\u001b[1;34m()\u001b[0m\n\u001b[0;32m      3\u001b[0m \u001b[1;32mfor\u001b[0m \u001b[0mi\u001b[0m \u001b[1;32min\u001b[0m \u001b[0mtestData\u001b[0m\u001b[1;33m.\u001b[0m\u001b[0miloc\u001b[0m\u001b[1;33m[\u001b[0m\u001b[1;33m:\u001b[0m\u001b[1;33m,\u001b[0m\u001b[1;36m0\u001b[0m\u001b[1;33m]\u001b[0m\u001b[1;33m:\u001b[0m\u001b[1;33m\u001b[0m\u001b[0m\n\u001b[0;32m      4\u001b[0m     \u001b[0mfoundTitle\u001b[0m \u001b[1;33m=\u001b[0m \u001b[1;36m0\u001b[0m\u001b[1;33m\u001b[0m\u001b[0m\n\u001b[1;32m----> 5\u001b[1;33m     \u001b[1;32mfor\u001b[0m \u001b[0mtitle\u001b[0m \u001b[1;32min\u001b[0m \u001b[0mi\u001b[0m\u001b[1;33m.\u001b[0m\u001b[0msplit\u001b[0m\u001b[1;33m(\u001b[0m\u001b[1;33m)\u001b[0m\u001b[1;33m:\u001b[0m\u001b[1;33m\u001b[0m\u001b[0m\n\u001b[0m\u001b[0;32m      6\u001b[0m         \u001b[1;32mif\u001b[0m \u001b[1;33m(\u001b[0m\u001b[0mtitle\u001b[0m \u001b[1;32min\u001b[0m \u001b[1;33m[\u001b[0m\u001b[1;34m'Mr.'\u001b[0m\u001b[1;33m,\u001b[0m \u001b[1;34m'Don.'\u001b[0m\u001b[1;33m,\u001b[0m \u001b[1;34m'Dr.'\u001b[0m\u001b[1;33m,\u001b[0m \u001b[1;34m'Major.'\u001b[0m\u001b[1;33m,\u001b[0m \u001b[1;34m'Col.'\u001b[0m\u001b[1;33m,\u001b[0m \u001b[1;34m'Rev.'\u001b[0m\u001b[1;33m,\u001b[0m \u001b[1;34m'Sir.'\u001b[0m\u001b[1;33m,\u001b[0m \u001b[1;34m'Capt.'\u001b[0m\u001b[1;33m]\u001b[0m\u001b[1;33m)\u001b[0m\u001b[1;33m:\u001b[0m\u001b[1;33m\u001b[0m\u001b[0m\n\u001b[0;32m      7\u001b[0m             \u001b[0mtitles\u001b[0m\u001b[1;33m.\u001b[0m\u001b[0mappend\u001b[0m\u001b[1;33m(\u001b[0m\u001b[1;36m0\u001b[0m\u001b[1;33m)\u001b[0m\u001b[1;33m\u001b[0m\u001b[0m\n",
      "\u001b[1;31mAttributeError\u001b[0m: 'numpy.int64' object has no attribute 'split'"
     ]
    }
   ],
   "source": [
    "titles = []\n",
    "k=0\n",
    "for i in testData.iloc[:,0]:\n",
    "    foundTitle = 0\n",
    "    for title in i.split():\n",
    "        if (title in ['Mr.', 'Don.', 'Dr.', 'Major.', 'Col.', 'Rev.', 'Sir.', 'Capt.']):\n",
    "            titles.append(0)\n",
    "            foundTitle = 1\n",
    "            break\n",
    "        elif (title == 'Master.'):\n",
    "            titles.append(1)\n",
    "            foundTitle = 1\n",
    "            break\n",
    "        elif (title in ['Mrs.', 'Mme.', 'Lady.', 'Countess.']):\n",
    "            titles.append(2)\n",
    "            foundTitle = 1\n",
    "            break\n",
    "        elif (title in ['Miss.', 'Ms.', 'Mlle.']):\n",
    "            titles.append(3)\n",
    "            foundTitle = 1\n",
    "            break\n",
    "    \n",
    "    if(foundTitle == 0):\n",
    "        titles.append(3)\n",
    "        print(i)"
   ]
  },
  {
   "cell_type": "code",
   "execution_count": 12,
   "metadata": {},
   "outputs": [
    {
     "data": {
      "text/plain": [
       "0"
      ]
     },
     "execution_count": 12,
     "metadata": {},
     "output_type": "execute_result"
    }
   ],
   "source": [
    "len(titles)"
   ]
  },
  {
   "cell_type": "code",
   "execution_count": 13,
   "metadata": {},
   "outputs": [
    {
     "ename": "ValueError",
     "evalue": "Length of values does not match length of index",
     "output_type": "error",
     "traceback": [
      "\u001b[1;31m---------------------------------------------------------------------------\u001b[0m",
      "\u001b[1;31mValueError\u001b[0m                                Traceback (most recent call last)",
      "\u001b[1;32m<ipython-input-13-8d62bb8cf177>\u001b[0m in \u001b[0;36m<module>\u001b[1;34m()\u001b[0m\n\u001b[1;32m----> 1\u001b[1;33m \u001b[0mtestData\u001b[0m\u001b[1;33m.\u001b[0m\u001b[0minsert\u001b[0m\u001b[1;33m(\u001b[0m\u001b[0mloc\u001b[0m\u001b[1;33m=\u001b[0m\u001b[1;36m1\u001b[0m\u001b[1;33m,\u001b[0m \u001b[0mcolumn\u001b[0m\u001b[1;33m=\u001b[0m\u001b[1;34m'Title'\u001b[0m\u001b[1;33m,\u001b[0m \u001b[0mvalue\u001b[0m\u001b[1;33m=\u001b[0m\u001b[0mtitles\u001b[0m\u001b[1;33m)\u001b[0m\u001b[1;33m\u001b[0m\u001b[0m\n\u001b[0m\u001b[0;32m      2\u001b[0m \u001b[0mtestData\u001b[0m \u001b[1;33m=\u001b[0m \u001b[0mtestData\u001b[0m\u001b[1;33m.\u001b[0m\u001b[0mdrop\u001b[0m\u001b[1;33m(\u001b[0m\u001b[0mlabels\u001b[0m\u001b[1;33m=\u001b[0m\u001b[1;33m[\u001b[0m\u001b[1;34m'Name'\u001b[0m\u001b[1;33m]\u001b[0m\u001b[1;33m,\u001b[0m \u001b[0maxis\u001b[0m\u001b[1;33m=\u001b[0m\u001b[1;36m1\u001b[0m\u001b[1;33m)\u001b[0m\u001b[1;33m\u001b[0m\u001b[0m\n\u001b[0;32m      3\u001b[0m \u001b[0mtestData\u001b[0m\u001b[1;33m.\u001b[0m\u001b[0mhead\u001b[0m\u001b[1;33m(\u001b[0m\u001b[1;33m)\u001b[0m\u001b[1;33m\u001b[0m\u001b[0m\n",
      "\u001b[1;32mC:\\Users\\DELL PC\\Anaconda3\\lib\\site-packages\\pandas\\core\\frame.py\u001b[0m in \u001b[0;36minsert\u001b[1;34m(self, loc, column, value, allow_duplicates)\u001b[0m\n\u001b[0;32m   2517\u001b[0m         \"\"\"\n\u001b[0;32m   2518\u001b[0m         \u001b[0mself\u001b[0m\u001b[1;33m.\u001b[0m\u001b[0m_ensure_valid_index\u001b[0m\u001b[1;33m(\u001b[0m\u001b[0mvalue\u001b[0m\u001b[1;33m)\u001b[0m\u001b[1;33m\u001b[0m\u001b[0m\n\u001b[1;32m-> 2519\u001b[1;33m         \u001b[0mvalue\u001b[0m \u001b[1;33m=\u001b[0m \u001b[0mself\u001b[0m\u001b[1;33m.\u001b[0m\u001b[0m_sanitize_column\u001b[0m\u001b[1;33m(\u001b[0m\u001b[0mcolumn\u001b[0m\u001b[1;33m,\u001b[0m \u001b[0mvalue\u001b[0m\u001b[1;33m,\u001b[0m \u001b[0mbroadcast\u001b[0m\u001b[1;33m=\u001b[0m\u001b[1;32mFalse\u001b[0m\u001b[1;33m)\u001b[0m\u001b[1;33m\u001b[0m\u001b[0m\n\u001b[0m\u001b[0;32m   2520\u001b[0m         self._data.insert(loc, column, value,\n\u001b[0;32m   2521\u001b[0m                           allow_duplicates=allow_duplicates)\n",
      "\u001b[1;32mC:\\Users\\DELL PC\\Anaconda3\\lib\\site-packages\\pandas\\core\\frame.py\u001b[0m in \u001b[0;36m_sanitize_column\u001b[1;34m(self, key, value, broadcast)\u001b[0m\n\u001b[0;32m   2664\u001b[0m \u001b[1;33m\u001b[0m\u001b[0m\n\u001b[0;32m   2665\u001b[0m             \u001b[1;31m# turn me into an ndarray\u001b[0m\u001b[1;33m\u001b[0m\u001b[1;33m\u001b[0m\u001b[0m\n\u001b[1;32m-> 2666\u001b[1;33m             \u001b[0mvalue\u001b[0m \u001b[1;33m=\u001b[0m \u001b[0m_sanitize_index\u001b[0m\u001b[1;33m(\u001b[0m\u001b[0mvalue\u001b[0m\u001b[1;33m,\u001b[0m \u001b[0mself\u001b[0m\u001b[1;33m.\u001b[0m\u001b[0mindex\u001b[0m\u001b[1;33m,\u001b[0m \u001b[0mcopy\u001b[0m\u001b[1;33m=\u001b[0m\u001b[1;32mFalse\u001b[0m\u001b[1;33m)\u001b[0m\u001b[1;33m\u001b[0m\u001b[0m\n\u001b[0m\u001b[0;32m   2667\u001b[0m             \u001b[1;32mif\u001b[0m \u001b[1;32mnot\u001b[0m \u001b[0misinstance\u001b[0m\u001b[1;33m(\u001b[0m\u001b[0mvalue\u001b[0m\u001b[1;33m,\u001b[0m \u001b[1;33m(\u001b[0m\u001b[0mnp\u001b[0m\u001b[1;33m.\u001b[0m\u001b[0mndarray\u001b[0m\u001b[1;33m,\u001b[0m \u001b[0mIndex\u001b[0m\u001b[1;33m)\u001b[0m\u001b[1;33m)\u001b[0m\u001b[1;33m:\u001b[0m\u001b[1;33m\u001b[0m\u001b[0m\n\u001b[0;32m   2668\u001b[0m                 \u001b[1;32mif\u001b[0m \u001b[0misinstance\u001b[0m\u001b[1;33m(\u001b[0m\u001b[0mvalue\u001b[0m\u001b[1;33m,\u001b[0m \u001b[0mlist\u001b[0m\u001b[1;33m)\u001b[0m \u001b[1;32mand\u001b[0m \u001b[0mlen\u001b[0m\u001b[1;33m(\u001b[0m\u001b[0mvalue\u001b[0m\u001b[1;33m)\u001b[0m \u001b[1;33m>\u001b[0m \u001b[1;36m0\u001b[0m\u001b[1;33m:\u001b[0m\u001b[1;33m\u001b[0m\u001b[0m\n",
      "\u001b[1;32mC:\\Users\\DELL PC\\Anaconda3\\lib\\site-packages\\pandas\\core\\series.py\u001b[0m in \u001b[0;36m_sanitize_index\u001b[1;34m(data, index, copy)\u001b[0m\n\u001b[0;32m   2877\u001b[0m \u001b[1;33m\u001b[0m\u001b[0m\n\u001b[0;32m   2878\u001b[0m     \u001b[1;32mif\u001b[0m \u001b[0mlen\u001b[0m\u001b[1;33m(\u001b[0m\u001b[0mdata\u001b[0m\u001b[1;33m)\u001b[0m \u001b[1;33m!=\u001b[0m \u001b[0mlen\u001b[0m\u001b[1;33m(\u001b[0m\u001b[0mindex\u001b[0m\u001b[1;33m)\u001b[0m\u001b[1;33m:\u001b[0m\u001b[1;33m\u001b[0m\u001b[0m\n\u001b[1;32m-> 2879\u001b[1;33m         \u001b[1;32mraise\u001b[0m \u001b[0mValueError\u001b[0m\u001b[1;33m(\u001b[0m\u001b[1;34m'Length of values does not match length of '\u001b[0m \u001b[1;34m'index'\u001b[0m\u001b[1;33m)\u001b[0m\u001b[1;33m\u001b[0m\u001b[0m\n\u001b[0m\u001b[0;32m   2880\u001b[0m \u001b[1;33m\u001b[0m\u001b[0m\n\u001b[0;32m   2881\u001b[0m     \u001b[1;32mif\u001b[0m \u001b[0misinstance\u001b[0m\u001b[1;33m(\u001b[0m\u001b[0mdata\u001b[0m\u001b[1;33m,\u001b[0m \u001b[0mPeriodIndex\u001b[0m\u001b[1;33m)\u001b[0m\u001b[1;33m:\u001b[0m\u001b[1;33m\u001b[0m\u001b[0m\n",
      "\u001b[1;31mValueError\u001b[0m: Length of values does not match length of index"
     ]
    }
   ],
   "source": [
    "testData.insert(loc=1, column='Title', value=titles)\n",
    "testData = testData.drop(labels=['Name'], axis=1) \n",
    "testData.head()"
   ]
  },
  {
   "cell_type": "markdown",
   "metadata": {},
   "source": [
    "## Loading train and test data \n",
    "<br> With age - (predicting age with help Title and Fare) \n",
    "<br> Without age (dropping those rows where age is missing)"
   ]
  },
  {
   "cell_type": "code",
   "execution_count": 14,
   "metadata": {},
   "outputs": [
    {
     "ename": "IndexError",
     "evalue": "positional indexers are out-of-bounds",
     "output_type": "error",
     "traceback": [
      "\u001b[1;31m---------------------------------------------------------------------------\u001b[0m",
      "\u001b[1;31mIndexError\u001b[0m                                Traceback (most recent call last)",
      "\u001b[1;32m<ipython-input-14-1f7ea71a9595>\u001b[0m in \u001b[0;36m<module>\u001b[1;34m()\u001b[0m\n\u001b[1;32m----> 1\u001b[1;33m \u001b[0mtrainData\u001b[0m\u001b[1;33m.\u001b[0m\u001b[0miloc\u001b[0m\u001b[1;33m[\u001b[0m\u001b[1;33m:\u001b[0m\u001b[1;33m,\u001b[0m\u001b[1;33m[\u001b[0m\u001b[1;36m0\u001b[0m\u001b[1;33m,\u001b[0m\u001b[1;36m1\u001b[0m\u001b[1;33m,\u001b[0m\u001b[1;36m2\u001b[0m\u001b[1;33m,\u001b[0m\u001b[1;36m3\u001b[0m\u001b[1;33m,\u001b[0m\u001b[1;36m6\u001b[0m\u001b[1;33m,\u001b[0m\u001b[1;36m8\u001b[0m\u001b[1;33m]\u001b[0m\u001b[1;33m]\u001b[0m\u001b[1;33m.\u001b[0m\u001b[0mhead\u001b[0m\u001b[1;33m(\u001b[0m\u001b[1;33m)\u001b[0m\u001b[1;33m\u001b[0m\u001b[0m\n\u001b[0m",
      "\u001b[1;32mC:\\Users\\DELL PC\\Anaconda3\\lib\\site-packages\\pandas\\core\\indexing.py\u001b[0m in \u001b[0;36m__getitem__\u001b[1;34m(self, key)\u001b[0m\n\u001b[0;32m   1323\u001b[0m             \u001b[1;32mexcept\u001b[0m \u001b[1;33m(\u001b[0m\u001b[0mKeyError\u001b[0m\u001b[1;33m,\u001b[0m \u001b[0mIndexError\u001b[0m\u001b[1;33m)\u001b[0m\u001b[1;33m:\u001b[0m\u001b[1;33m\u001b[0m\u001b[0m\n\u001b[0;32m   1324\u001b[0m                 \u001b[1;32mpass\u001b[0m\u001b[1;33m\u001b[0m\u001b[0m\n\u001b[1;32m-> 1325\u001b[1;33m             \u001b[1;32mreturn\u001b[0m \u001b[0mself\u001b[0m\u001b[1;33m.\u001b[0m\u001b[0m_getitem_tuple\u001b[0m\u001b[1;33m(\u001b[0m\u001b[0mkey\u001b[0m\u001b[1;33m)\u001b[0m\u001b[1;33m\u001b[0m\u001b[0m\n\u001b[0m\u001b[0;32m   1326\u001b[0m         \u001b[1;32melse\u001b[0m\u001b[1;33m:\u001b[0m\u001b[1;33m\u001b[0m\u001b[0m\n\u001b[0;32m   1327\u001b[0m             \u001b[0mkey\u001b[0m \u001b[1;33m=\u001b[0m \u001b[0mcom\u001b[0m\u001b[1;33m.\u001b[0m\u001b[0m_apply_if_callable\u001b[0m\u001b[1;33m(\u001b[0m\u001b[0mkey\u001b[0m\u001b[1;33m,\u001b[0m \u001b[0mself\u001b[0m\u001b[1;33m.\u001b[0m\u001b[0mobj\u001b[0m\u001b[1;33m)\u001b[0m\u001b[1;33m\u001b[0m\u001b[0m\n",
      "\u001b[1;32mC:\\Users\\DELL PC\\Anaconda3\\lib\\site-packages\\pandas\\core\\indexing.py\u001b[0m in \u001b[0;36m_getitem_tuple\u001b[1;34m(self, tup)\u001b[0m\n\u001b[0;32m   1660\u001b[0m     \u001b[1;32mdef\u001b[0m \u001b[0m_getitem_tuple\u001b[0m\u001b[1;33m(\u001b[0m\u001b[0mself\u001b[0m\u001b[1;33m,\u001b[0m \u001b[0mtup\u001b[0m\u001b[1;33m)\u001b[0m\u001b[1;33m:\u001b[0m\u001b[1;33m\u001b[0m\u001b[0m\n\u001b[0;32m   1661\u001b[0m \u001b[1;33m\u001b[0m\u001b[0m\n\u001b[1;32m-> 1662\u001b[1;33m         \u001b[0mself\u001b[0m\u001b[1;33m.\u001b[0m\u001b[0m_has_valid_tuple\u001b[0m\u001b[1;33m(\u001b[0m\u001b[0mtup\u001b[0m\u001b[1;33m)\u001b[0m\u001b[1;33m\u001b[0m\u001b[0m\n\u001b[0m\u001b[0;32m   1663\u001b[0m         \u001b[1;32mtry\u001b[0m\u001b[1;33m:\u001b[0m\u001b[1;33m\u001b[0m\u001b[0m\n\u001b[0;32m   1664\u001b[0m             \u001b[1;32mreturn\u001b[0m \u001b[0mself\u001b[0m\u001b[1;33m.\u001b[0m\u001b[0m_getitem_lowerdim\u001b[0m\u001b[1;33m(\u001b[0m\u001b[0mtup\u001b[0m\u001b[1;33m)\u001b[0m\u001b[1;33m\u001b[0m\u001b[0m\n",
      "\u001b[1;32mC:\\Users\\DELL PC\\Anaconda3\\lib\\site-packages\\pandas\\core\\indexing.py\u001b[0m in \u001b[0;36m_has_valid_tuple\u001b[1;34m(self, key)\u001b[0m\n\u001b[0;32m    187\u001b[0m             \u001b[1;32mif\u001b[0m \u001b[0mi\u001b[0m \u001b[1;33m>=\u001b[0m \u001b[0mself\u001b[0m\u001b[1;33m.\u001b[0m\u001b[0mobj\u001b[0m\u001b[1;33m.\u001b[0m\u001b[0mndim\u001b[0m\u001b[1;33m:\u001b[0m\u001b[1;33m\u001b[0m\u001b[0m\n\u001b[0;32m    188\u001b[0m                 \u001b[1;32mraise\u001b[0m \u001b[0mIndexingError\u001b[0m\u001b[1;33m(\u001b[0m\u001b[1;34m'Too many indexers'\u001b[0m\u001b[1;33m)\u001b[0m\u001b[1;33m\u001b[0m\u001b[0m\n\u001b[1;32m--> 189\u001b[1;33m             \u001b[1;32mif\u001b[0m \u001b[1;32mnot\u001b[0m \u001b[0mself\u001b[0m\u001b[1;33m.\u001b[0m\u001b[0m_has_valid_type\u001b[0m\u001b[1;33m(\u001b[0m\u001b[0mk\u001b[0m\u001b[1;33m,\u001b[0m \u001b[0mi\u001b[0m\u001b[1;33m)\u001b[0m\u001b[1;33m:\u001b[0m\u001b[1;33m\u001b[0m\u001b[0m\n\u001b[0m\u001b[0;32m    190\u001b[0m                 raise ValueError(\"Location based indexing can only have [%s] \"\n\u001b[0;32m    191\u001b[0m                                  \"types\" % self._valid_types)\n",
      "\u001b[1;32mC:\\Users\\DELL PC\\Anaconda3\\lib\\site-packages\\pandas\\core\\indexing.py\u001b[0m in \u001b[0;36m_has_valid_type\u001b[1;34m(self, key, axis)\u001b[0m\n\u001b[0;32m   1597\u001b[0m             \u001b[1;32mreturn\u001b[0m \u001b[0mself\u001b[0m\u001b[1;33m.\u001b[0m\u001b[0m_is_valid_integer\u001b[0m\u001b[1;33m(\u001b[0m\u001b[0mkey\u001b[0m\u001b[1;33m,\u001b[0m \u001b[0maxis\u001b[0m\u001b[1;33m)\u001b[0m\u001b[1;33m\u001b[0m\u001b[0m\n\u001b[0;32m   1598\u001b[0m         \u001b[1;32melif\u001b[0m \u001b[0mis_list_like_indexer\u001b[0m\u001b[1;33m(\u001b[0m\u001b[0mkey\u001b[0m\u001b[1;33m)\u001b[0m\u001b[1;33m:\u001b[0m\u001b[1;33m\u001b[0m\u001b[0m\n\u001b[1;32m-> 1599\u001b[1;33m             \u001b[1;32mreturn\u001b[0m \u001b[0mself\u001b[0m\u001b[1;33m.\u001b[0m\u001b[0m_is_valid_list_like\u001b[0m\u001b[1;33m(\u001b[0m\u001b[0mkey\u001b[0m\u001b[1;33m,\u001b[0m \u001b[0maxis\u001b[0m\u001b[1;33m)\u001b[0m\u001b[1;33m\u001b[0m\u001b[0m\n\u001b[0m\u001b[0;32m   1600\u001b[0m         \u001b[1;32mreturn\u001b[0m \u001b[1;32mFalse\u001b[0m\u001b[1;33m\u001b[0m\u001b[0m\n\u001b[0;32m   1601\u001b[0m \u001b[1;33m\u001b[0m\u001b[0m\n",
      "\u001b[1;32mC:\\Users\\DELL PC\\Anaconda3\\lib\\site-packages\\pandas\\core\\indexing.py\u001b[0m in \u001b[0;36m_is_valid_list_like\u001b[1;34m(self, key, axis)\u001b[0m\n\u001b[0;32m   1654\u001b[0m         if (hasattr(arr, '__len__') and len(arr) and\n\u001b[0;32m   1655\u001b[0m                 (arr.max() >= l or arr.min() < -l)):\n\u001b[1;32m-> 1656\u001b[1;33m             \u001b[1;32mraise\u001b[0m \u001b[0mIndexError\u001b[0m\u001b[1;33m(\u001b[0m\u001b[1;34m\"positional indexers are out-of-bounds\"\u001b[0m\u001b[1;33m)\u001b[0m\u001b[1;33m\u001b[0m\u001b[0m\n\u001b[0m\u001b[0;32m   1657\u001b[0m \u001b[1;33m\u001b[0m\u001b[0m\n\u001b[0;32m   1658\u001b[0m         \u001b[1;32mreturn\u001b[0m \u001b[1;32mTrue\u001b[0m\u001b[1;33m\u001b[0m\u001b[0m\n",
      "\u001b[1;31mIndexError\u001b[0m: positional indexers are out-of-bounds"
     ]
    }
   ],
   "source": [
    "trainData.iloc[:,[0,1,2,3,6,8]].head()"
   ]
  },
  {
   "cell_type": "code",
   "execution_count": 15,
   "metadata": {},
   "outputs": [
    {
     "ename": "IndexError",
     "evalue": "positional indexers are out-of-bounds",
     "output_type": "error",
     "traceback": [
      "\u001b[1;31m---------------------------------------------------------------------------\u001b[0m",
      "\u001b[1;31mIndexError\u001b[0m                                Traceback (most recent call last)",
      "\u001b[1;32m<ipython-input-15-fcd10a08c5b9>\u001b[0m in \u001b[0;36m<module>\u001b[1;34m()\u001b[0m\n\u001b[1;32m----> 1\u001b[1;33m \u001b[0mtrainData\u001b[0m \u001b[1;33m=\u001b[0m \u001b[0mtrainData\u001b[0m\u001b[1;33m.\u001b[0m\u001b[0miloc\u001b[0m\u001b[1;33m[\u001b[0m\u001b[1;33m:\u001b[0m\u001b[1;33m,\u001b[0m\u001b[1;33m[\u001b[0m\u001b[1;36m0\u001b[0m\u001b[1;33m,\u001b[0m\u001b[1;36m1\u001b[0m\u001b[1;33m,\u001b[0m\u001b[1;36m2\u001b[0m\u001b[1;33m,\u001b[0m\u001b[1;36m3\u001b[0m\u001b[1;33m,\u001b[0m\u001b[1;36m6\u001b[0m\u001b[1;33m,\u001b[0m\u001b[1;36m8\u001b[0m\u001b[1;33m]\u001b[0m\u001b[1;33m]\u001b[0m\u001b[1;33m\u001b[0m\u001b[0m\n\u001b[0m",
      "\u001b[1;32mC:\\Users\\DELL PC\\Anaconda3\\lib\\site-packages\\pandas\\core\\indexing.py\u001b[0m in \u001b[0;36m__getitem__\u001b[1;34m(self, key)\u001b[0m\n\u001b[0;32m   1323\u001b[0m             \u001b[1;32mexcept\u001b[0m \u001b[1;33m(\u001b[0m\u001b[0mKeyError\u001b[0m\u001b[1;33m,\u001b[0m \u001b[0mIndexError\u001b[0m\u001b[1;33m)\u001b[0m\u001b[1;33m:\u001b[0m\u001b[1;33m\u001b[0m\u001b[0m\n\u001b[0;32m   1324\u001b[0m                 \u001b[1;32mpass\u001b[0m\u001b[1;33m\u001b[0m\u001b[0m\n\u001b[1;32m-> 1325\u001b[1;33m             \u001b[1;32mreturn\u001b[0m \u001b[0mself\u001b[0m\u001b[1;33m.\u001b[0m\u001b[0m_getitem_tuple\u001b[0m\u001b[1;33m(\u001b[0m\u001b[0mkey\u001b[0m\u001b[1;33m)\u001b[0m\u001b[1;33m\u001b[0m\u001b[0m\n\u001b[0m\u001b[0;32m   1326\u001b[0m         \u001b[1;32melse\u001b[0m\u001b[1;33m:\u001b[0m\u001b[1;33m\u001b[0m\u001b[0m\n\u001b[0;32m   1327\u001b[0m             \u001b[0mkey\u001b[0m \u001b[1;33m=\u001b[0m \u001b[0mcom\u001b[0m\u001b[1;33m.\u001b[0m\u001b[0m_apply_if_callable\u001b[0m\u001b[1;33m(\u001b[0m\u001b[0mkey\u001b[0m\u001b[1;33m,\u001b[0m \u001b[0mself\u001b[0m\u001b[1;33m.\u001b[0m\u001b[0mobj\u001b[0m\u001b[1;33m)\u001b[0m\u001b[1;33m\u001b[0m\u001b[0m\n",
      "\u001b[1;32mC:\\Users\\DELL PC\\Anaconda3\\lib\\site-packages\\pandas\\core\\indexing.py\u001b[0m in \u001b[0;36m_getitem_tuple\u001b[1;34m(self, tup)\u001b[0m\n\u001b[0;32m   1660\u001b[0m     \u001b[1;32mdef\u001b[0m \u001b[0m_getitem_tuple\u001b[0m\u001b[1;33m(\u001b[0m\u001b[0mself\u001b[0m\u001b[1;33m,\u001b[0m \u001b[0mtup\u001b[0m\u001b[1;33m)\u001b[0m\u001b[1;33m:\u001b[0m\u001b[1;33m\u001b[0m\u001b[0m\n\u001b[0;32m   1661\u001b[0m \u001b[1;33m\u001b[0m\u001b[0m\n\u001b[1;32m-> 1662\u001b[1;33m         \u001b[0mself\u001b[0m\u001b[1;33m.\u001b[0m\u001b[0m_has_valid_tuple\u001b[0m\u001b[1;33m(\u001b[0m\u001b[0mtup\u001b[0m\u001b[1;33m)\u001b[0m\u001b[1;33m\u001b[0m\u001b[0m\n\u001b[0m\u001b[0;32m   1663\u001b[0m         \u001b[1;32mtry\u001b[0m\u001b[1;33m:\u001b[0m\u001b[1;33m\u001b[0m\u001b[0m\n\u001b[0;32m   1664\u001b[0m             \u001b[1;32mreturn\u001b[0m \u001b[0mself\u001b[0m\u001b[1;33m.\u001b[0m\u001b[0m_getitem_lowerdim\u001b[0m\u001b[1;33m(\u001b[0m\u001b[0mtup\u001b[0m\u001b[1;33m)\u001b[0m\u001b[1;33m\u001b[0m\u001b[0m\n",
      "\u001b[1;32mC:\\Users\\DELL PC\\Anaconda3\\lib\\site-packages\\pandas\\core\\indexing.py\u001b[0m in \u001b[0;36m_has_valid_tuple\u001b[1;34m(self, key)\u001b[0m\n\u001b[0;32m    187\u001b[0m             \u001b[1;32mif\u001b[0m \u001b[0mi\u001b[0m \u001b[1;33m>=\u001b[0m \u001b[0mself\u001b[0m\u001b[1;33m.\u001b[0m\u001b[0mobj\u001b[0m\u001b[1;33m.\u001b[0m\u001b[0mndim\u001b[0m\u001b[1;33m:\u001b[0m\u001b[1;33m\u001b[0m\u001b[0m\n\u001b[0;32m    188\u001b[0m                 \u001b[1;32mraise\u001b[0m \u001b[0mIndexingError\u001b[0m\u001b[1;33m(\u001b[0m\u001b[1;34m'Too many indexers'\u001b[0m\u001b[1;33m)\u001b[0m\u001b[1;33m\u001b[0m\u001b[0m\n\u001b[1;32m--> 189\u001b[1;33m             \u001b[1;32mif\u001b[0m \u001b[1;32mnot\u001b[0m \u001b[0mself\u001b[0m\u001b[1;33m.\u001b[0m\u001b[0m_has_valid_type\u001b[0m\u001b[1;33m(\u001b[0m\u001b[0mk\u001b[0m\u001b[1;33m,\u001b[0m \u001b[0mi\u001b[0m\u001b[1;33m)\u001b[0m\u001b[1;33m:\u001b[0m\u001b[1;33m\u001b[0m\u001b[0m\n\u001b[0m\u001b[0;32m    190\u001b[0m                 raise ValueError(\"Location based indexing can only have [%s] \"\n\u001b[0;32m    191\u001b[0m                                  \"types\" % self._valid_types)\n",
      "\u001b[1;32mC:\\Users\\DELL PC\\Anaconda3\\lib\\site-packages\\pandas\\core\\indexing.py\u001b[0m in \u001b[0;36m_has_valid_type\u001b[1;34m(self, key, axis)\u001b[0m\n\u001b[0;32m   1597\u001b[0m             \u001b[1;32mreturn\u001b[0m \u001b[0mself\u001b[0m\u001b[1;33m.\u001b[0m\u001b[0m_is_valid_integer\u001b[0m\u001b[1;33m(\u001b[0m\u001b[0mkey\u001b[0m\u001b[1;33m,\u001b[0m \u001b[0maxis\u001b[0m\u001b[1;33m)\u001b[0m\u001b[1;33m\u001b[0m\u001b[0m\n\u001b[0;32m   1598\u001b[0m         \u001b[1;32melif\u001b[0m \u001b[0mis_list_like_indexer\u001b[0m\u001b[1;33m(\u001b[0m\u001b[0mkey\u001b[0m\u001b[1;33m)\u001b[0m\u001b[1;33m:\u001b[0m\u001b[1;33m\u001b[0m\u001b[0m\n\u001b[1;32m-> 1599\u001b[1;33m             \u001b[1;32mreturn\u001b[0m \u001b[0mself\u001b[0m\u001b[1;33m.\u001b[0m\u001b[0m_is_valid_list_like\u001b[0m\u001b[1;33m(\u001b[0m\u001b[0mkey\u001b[0m\u001b[1;33m,\u001b[0m \u001b[0maxis\u001b[0m\u001b[1;33m)\u001b[0m\u001b[1;33m\u001b[0m\u001b[0m\n\u001b[0m\u001b[0;32m   1600\u001b[0m         \u001b[1;32mreturn\u001b[0m \u001b[1;32mFalse\u001b[0m\u001b[1;33m\u001b[0m\u001b[0m\n\u001b[0;32m   1601\u001b[0m \u001b[1;33m\u001b[0m\u001b[0m\n",
      "\u001b[1;32mC:\\Users\\DELL PC\\Anaconda3\\lib\\site-packages\\pandas\\core\\indexing.py\u001b[0m in \u001b[0;36m_is_valid_list_like\u001b[1;34m(self, key, axis)\u001b[0m\n\u001b[0;32m   1654\u001b[0m         if (hasattr(arr, '__len__') and len(arr) and\n\u001b[0;32m   1655\u001b[0m                 (arr.max() >= l or arr.min() < -l)):\n\u001b[1;32m-> 1656\u001b[1;33m             \u001b[1;32mraise\u001b[0m \u001b[0mIndexError\u001b[0m\u001b[1;33m(\u001b[0m\u001b[1;34m\"positional indexers are out-of-bounds\"\u001b[0m\u001b[1;33m)\u001b[0m\u001b[1;33m\u001b[0m\u001b[0m\n\u001b[0m\u001b[0;32m   1657\u001b[0m \u001b[1;33m\u001b[0m\u001b[0m\n\u001b[0;32m   1658\u001b[0m         \u001b[1;32mreturn\u001b[0m \u001b[1;32mTrue\u001b[0m\u001b[1;33m\u001b[0m\u001b[0m\n",
      "\u001b[1;31mIndexError\u001b[0m: positional indexers are out-of-bounds"
     ]
    }
   ],
   "source": [
    "trainData = trainData.iloc[:,[0,1,2,3,6,8]]"
   ]
  },
  {
   "cell_type": "code",
   "execution_count": 16,
   "metadata": {
    "collapsed": true
   },
   "outputs": [],
   "source": [
    "X_train_WA = trainData.iloc[:,:5].values\n",
    "Y_train_WA = trainData.iloc[:,5].values"
   ]
  },
  {
   "cell_type": "code",
   "execution_count": 17,
   "metadata": {
    "collapsed": true
   },
   "outputs": [],
   "source": [
    "# dropping any row where age is nan because it is a huge factor\n",
    "trainData_WOA = trainData.dropna(how='any',axis=0) \n",
    "X_train_WOA = trainData_WOA.iloc[:,:5].values\n",
    "Y_train_WOA = trainData_WOA.iloc[:,5].values"
   ]
  },
  {
   "cell_type": "code",
   "execution_count": 18,
   "metadata": {},
   "outputs": [
    {
     "data": {
      "text/plain": [
       "(418, 7)"
      ]
     },
     "execution_count": 18,
     "metadata": {},
     "output_type": "execute_result"
    }
   ],
   "source": [
    "testData.shape"
   ]
  },
  {
   "cell_type": "code",
   "execution_count": 19,
   "metadata": {
    "collapsed": true
   },
   "outputs": [],
   "source": [
    "testOriginalData = pd.read_csv(Original_test_location)"
   ]
  },
  {
   "cell_type": "code",
   "execution_count": 20,
   "metadata": {
    "collapsed": true
   },
   "outputs": [],
   "source": [
    "X_test_WA = testData.iloc[:,:8].values"
   ]
  },
  {
   "cell_type": "markdown",
   "metadata": {},
   "source": [
    "## Replacing missing Age with the mean of respective Titles (Mr/Master/Mrs/Miss)"
   ]
  },
  {
   "cell_type": "code",
   "execution_count": 21,
   "metadata": {},
   "outputs": [
    {
     "ename": "KeyError",
     "evalue": "'Title'",
     "output_type": "error",
     "traceback": [
      "\u001b[1;31m---------------------------------------------------------------------------\u001b[0m",
      "\u001b[1;31mTypeError\u001b[0m                                 Traceback (most recent call last)",
      "\u001b[1;32mC:\\Users\\DELL PC\\Anaconda3\\lib\\site-packages\\pandas\\core\\indexes\\base.py\u001b[0m in \u001b[0;36mget_value\u001b[1;34m(self, series, key)\u001b[0m\n\u001b[0;32m   2433\u001b[0m             \u001b[1;32mtry\u001b[0m\u001b[1;33m:\u001b[0m\u001b[1;33m\u001b[0m\u001b[0m\n\u001b[1;32m-> 2434\u001b[1;33m                 \u001b[1;32mreturn\u001b[0m \u001b[0mlibts\u001b[0m\u001b[1;33m.\u001b[0m\u001b[0mget_value_box\u001b[0m\u001b[1;33m(\u001b[0m\u001b[0ms\u001b[0m\u001b[1;33m,\u001b[0m \u001b[0mkey\u001b[0m\u001b[1;33m)\u001b[0m\u001b[1;33m\u001b[0m\u001b[0m\n\u001b[0m\u001b[0;32m   2435\u001b[0m             \u001b[1;32mexcept\u001b[0m \u001b[0mIndexError\u001b[0m\u001b[1;33m:\u001b[0m\u001b[1;33m\u001b[0m\u001b[0m\n",
      "\u001b[1;32mpandas\\_libs\\tslib.pyx\u001b[0m in \u001b[0;36mpandas._libs.tslib.get_value_box (pandas\\_libs\\tslib.c:18843)\u001b[1;34m()\u001b[0m\n",
      "\u001b[1;32mpandas\\_libs\\tslib.pyx\u001b[0m in \u001b[0;36mpandas._libs.tslib.get_value_box (pandas\\_libs\\tslib.c:18477)\u001b[1;34m()\u001b[0m\n",
      "\u001b[1;31mTypeError\u001b[0m: 'str' object cannot be interpreted as an integer",
      "\nDuring handling of the above exception, another exception occurred:\n",
      "\u001b[1;31mKeyError\u001b[0m                                  Traceback (most recent call last)",
      "\u001b[1;32m<ipython-input-21-0193e70cfddd>\u001b[0m in \u001b[0;36m<module>\u001b[1;34m()\u001b[0m\n\u001b[0;32m     13\u001b[0m         \u001b[0mmissing\u001b[0m \u001b[1;33m=\u001b[0m \u001b[0mmissing\u001b[0m \u001b[1;33m+\u001b[0m \u001b[1;36m1\u001b[0m\u001b[1;33m\u001b[0m\u001b[0m\n\u001b[0;32m     14\u001b[0m     \u001b[1;32melse\u001b[0m\u001b[1;33m:\u001b[0m\u001b[1;33m\u001b[0m\u001b[0m\n\u001b[1;32m---> 15\u001b[1;33m         \u001b[1;32mif\u001b[0m\u001b[1;33m(\u001b[0m\u001b[0mrow\u001b[0m\u001b[1;33m[\u001b[0m\u001b[1;34m'Title'\u001b[0m\u001b[1;33m]\u001b[0m \u001b[1;33m==\u001b[0m \u001b[1;36m0\u001b[0m\u001b[1;33m)\u001b[0m\u001b[1;33m:\u001b[0m\u001b[1;33m\u001b[0m\u001b[0m\n\u001b[0m\u001b[0;32m     16\u001b[0m             \u001b[0mageMr\u001b[0m \u001b[1;33m=\u001b[0m \u001b[0mageMr\u001b[0m \u001b[1;33m+\u001b[0m \u001b[0mrow\u001b[0m\u001b[1;33m[\u001b[0m\u001b[1;34m'Age'\u001b[0m\u001b[1;33m]\u001b[0m\u001b[1;33m\u001b[0m\u001b[0m\n\u001b[0;32m     17\u001b[0m             \u001b[0mcountMr\u001b[0m \u001b[1;33m=\u001b[0m \u001b[0mcountMr\u001b[0m \u001b[1;33m+\u001b[0m \u001b[1;36m1\u001b[0m\u001b[1;33m\u001b[0m\u001b[0m\n",
      "\u001b[1;32mC:\\Users\\DELL PC\\Anaconda3\\lib\\site-packages\\pandas\\core\\series.py\u001b[0m in \u001b[0;36m__getitem__\u001b[1;34m(self, key)\u001b[0m\n\u001b[0;32m    599\u001b[0m         \u001b[0mkey\u001b[0m \u001b[1;33m=\u001b[0m \u001b[0mcom\u001b[0m\u001b[1;33m.\u001b[0m\u001b[0m_apply_if_callable\u001b[0m\u001b[1;33m(\u001b[0m\u001b[0mkey\u001b[0m\u001b[1;33m,\u001b[0m \u001b[0mself\u001b[0m\u001b[1;33m)\u001b[0m\u001b[1;33m\u001b[0m\u001b[0m\n\u001b[0;32m    600\u001b[0m         \u001b[1;32mtry\u001b[0m\u001b[1;33m:\u001b[0m\u001b[1;33m\u001b[0m\u001b[0m\n\u001b[1;32m--> 601\u001b[1;33m             \u001b[0mresult\u001b[0m \u001b[1;33m=\u001b[0m \u001b[0mself\u001b[0m\u001b[1;33m.\u001b[0m\u001b[0mindex\u001b[0m\u001b[1;33m.\u001b[0m\u001b[0mget_value\u001b[0m\u001b[1;33m(\u001b[0m\u001b[0mself\u001b[0m\u001b[1;33m,\u001b[0m \u001b[0mkey\u001b[0m\u001b[1;33m)\u001b[0m\u001b[1;33m\u001b[0m\u001b[0m\n\u001b[0m\u001b[0;32m    602\u001b[0m \u001b[1;33m\u001b[0m\u001b[0m\n\u001b[0;32m    603\u001b[0m             \u001b[1;32mif\u001b[0m \u001b[1;32mnot\u001b[0m \u001b[0mis_scalar\u001b[0m\u001b[1;33m(\u001b[0m\u001b[0mresult\u001b[0m\u001b[1;33m)\u001b[0m\u001b[1;33m:\u001b[0m\u001b[1;33m\u001b[0m\u001b[0m\n",
      "\u001b[1;32mC:\\Users\\DELL PC\\Anaconda3\\lib\\site-packages\\pandas\\core\\indexes\\base.py\u001b[0m in \u001b[0;36mget_value\u001b[1;34m(self, series, key)\u001b[0m\n\u001b[0;32m   2440\u001b[0m                     \u001b[1;32mraise\u001b[0m \u001b[0mInvalidIndexError\u001b[0m\u001b[1;33m(\u001b[0m\u001b[0mkey\u001b[0m\u001b[1;33m)\u001b[0m\u001b[1;33m\u001b[0m\u001b[0m\n\u001b[0;32m   2441\u001b[0m                 \u001b[1;32melse\u001b[0m\u001b[1;33m:\u001b[0m\u001b[1;33m\u001b[0m\u001b[0m\n\u001b[1;32m-> 2442\u001b[1;33m                     \u001b[1;32mraise\u001b[0m \u001b[0me1\u001b[0m\u001b[1;33m\u001b[0m\u001b[0m\n\u001b[0m\u001b[0;32m   2443\u001b[0m             \u001b[1;32mexcept\u001b[0m \u001b[0mException\u001b[0m\u001b[1;33m:\u001b[0m  \u001b[1;31m# pragma: no cover\u001b[0m\u001b[1;33m\u001b[0m\u001b[0m\n\u001b[0;32m   2444\u001b[0m                 \u001b[1;32mraise\u001b[0m \u001b[0me1\u001b[0m\u001b[1;33m\u001b[0m\u001b[0m\n",
      "\u001b[1;32mC:\\Users\\DELL PC\\Anaconda3\\lib\\site-packages\\pandas\\core\\indexes\\base.py\u001b[0m in \u001b[0;36mget_value\u001b[1;34m(self, series, key)\u001b[0m\n\u001b[0;32m   2426\u001b[0m         \u001b[1;32mtry\u001b[0m\u001b[1;33m:\u001b[0m\u001b[1;33m\u001b[0m\u001b[0m\n\u001b[0;32m   2427\u001b[0m             return self._engine.get_value(s, k,\n\u001b[1;32m-> 2428\u001b[1;33m                                           tz=getattr(series.dtype, 'tz', None))\n\u001b[0m\u001b[0;32m   2429\u001b[0m         \u001b[1;32mexcept\u001b[0m \u001b[0mKeyError\u001b[0m \u001b[1;32mas\u001b[0m \u001b[0me1\u001b[0m\u001b[1;33m:\u001b[0m\u001b[1;33m\u001b[0m\u001b[0m\n\u001b[0;32m   2430\u001b[0m             \u001b[1;32mif\u001b[0m \u001b[0mlen\u001b[0m\u001b[1;33m(\u001b[0m\u001b[0mself\u001b[0m\u001b[1;33m)\u001b[0m \u001b[1;33m>\u001b[0m \u001b[1;36m0\u001b[0m \u001b[1;32mand\u001b[0m \u001b[0mself\u001b[0m\u001b[1;33m.\u001b[0m\u001b[0minferred_type\u001b[0m \u001b[1;32min\u001b[0m \u001b[1;33m[\u001b[0m\u001b[1;34m'integer'\u001b[0m\u001b[1;33m,\u001b[0m \u001b[1;34m'boolean'\u001b[0m\u001b[1;33m]\u001b[0m\u001b[1;33m:\u001b[0m\u001b[1;33m\u001b[0m\u001b[0m\n",
      "\u001b[1;32mpandas\\_libs\\index.pyx\u001b[0m in \u001b[0;36mpandas._libs.index.IndexEngine.get_value (pandas\\_libs\\index.c:4363)\u001b[1;34m()\u001b[0m\n",
      "\u001b[1;32mpandas\\_libs\\index.pyx\u001b[0m in \u001b[0;36mpandas._libs.index.IndexEngine.get_value (pandas\\_libs\\index.c:4046)\u001b[1;34m()\u001b[0m\n",
      "\u001b[1;32mpandas\\_libs\\index.pyx\u001b[0m in \u001b[0;36mpandas._libs.index.IndexEngine.get_loc (pandas\\_libs\\index.c:5085)\u001b[1;34m()\u001b[0m\n",
      "\u001b[1;32mpandas\\_libs\\hashtable_class_helper.pxi\u001b[0m in \u001b[0;36mpandas._libs.hashtable.PyObjectHashTable.get_item (pandas\\_libs\\hashtable.c:20405)\u001b[1;34m()\u001b[0m\n",
      "\u001b[1;32mpandas\\_libs\\hashtable_class_helper.pxi\u001b[0m in \u001b[0;36mpandas._libs.hashtable.PyObjectHashTable.get_item (pandas\\_libs\\hashtable.c:20359)\u001b[1;34m()\u001b[0m\n",
      "\u001b[1;31mKeyError\u001b[0m: 'Title'"
     ]
    }
   ],
   "source": [
    "ageMr = 0\n",
    "countMr = 0\n",
    "ageMaster = 0\n",
    "countMaster = 0\n",
    "ageMrs = 0\n",
    "countMrs = 0\n",
    "ageMiss = 0\n",
    "countMiss = 0\n",
    "missing = 0\n",
    "\n",
    "for index, row in trainData.iterrows():\n",
    "    if(row.isnull().any()):\n",
    "        missing = missing + 1\n",
    "    else:\n",
    "        if(row['Title'] == 0):\n",
    "            ageMr = ageMr + row['Age']\n",
    "            countMr = countMr + 1 \n",
    "        elif(row['Title'] == 1):\n",
    "            ageMaster = ageMaster + row['Age']\n",
    "            countMaster = countMaster + 1\n",
    "        elif(row['Title'] == 2):\n",
    "            ageMrs = ageMrs + row['Age']\n",
    "            countMrs = countMrs + 1\n",
    "        elif(row['Title'] == 3):\n",
    "            ageMiss = ageMiss + row['Age']\n",
    "            countMiss = countMiss + 1   "
   ]
  },
  {
   "cell_type": "code",
   "execution_count": 22,
   "metadata": {},
   "outputs": [
    {
     "name": "stdout",
     "output_type": "stream",
     "text": [
      "418 36 111 149 177\n"
     ]
    }
   ],
   "source": [
    "# Counting number of Mr, Master, Mrs, Miss, Missing Age in training set\n",
    "print(countMr, countMaster, countMrs, countMiss, missing)"
   ]
  },
  {
   "cell_type": "code",
   "execution_count": 23,
   "metadata": {},
   "outputs": [
    {
     "name": "stdout",
     "output_type": "stream",
     "text": [
      "33.02272727272727 4.574166666666667 35.873873873873876 21.845637583892618\n"
     ]
    }
   ],
   "source": [
    "# Their average Ages\n",
    "print(ageMr/countMr, ageMaster/countMaster, ageMrs/countMrs, ageMiss/countMiss)"
   ]
  },
  {
   "cell_type": "code",
   "execution_count": 24,
   "metadata": {
    "collapsed": true
   },
   "outputs": [],
   "source": [
    "# Replacing Missing Age values\n",
    "for index, row in trainData.iterrows():\n",
    "    if(row.isnull().any()):\n",
    "        if(row['Title'] == 0):\n",
    "            trainData.set_value(index,'Age',ageMr/countMr)\n",
    "        elif(row['Title'] == 1):\n",
    "            trainData.set_value(index,'Age',ageMaster/countMaster)\n",
    "        elif(row['Title'] == 2):\n",
    "            trainData.set_value(index,'Age',ageMrs/countMrs)\n",
    "        elif(row['Title'] == 3):\n",
    "            trainData.set_value(index,'Age',ageMiss/countMiss)"
   ]
  },
  {
   "cell_type": "code",
   "execution_count": 25,
   "metadata": {},
   "outputs": [
    {
     "data": {
      "text/html": [
       "<div>\n",
       "<style>\n",
       "    .dataframe thead tr:only-child th {\n",
       "        text-align: right;\n",
       "    }\n",
       "\n",
       "    .dataframe thead th {\n",
       "        text-align: left;\n",
       "    }\n",
       "\n",
       "    .dataframe tbody tr th {\n",
       "        vertical-align: top;\n",
       "    }\n",
       "</style>\n",
       "<table border=\"1\" class=\"dataframe\">\n",
       "  <thead>\n",
       "    <tr style=\"text-align: right;\">\n",
       "      <th></th>\n",
       "      <th>Title</th>\n",
       "      <th>Pclass</th>\n",
       "      <th>Sex</th>\n",
       "      <th>Age</th>\n",
       "      <th>Fare</th>\n",
       "      <th>Survived</th>\n",
       "    </tr>\n",
       "  </thead>\n",
       "  <tbody>\n",
       "    <tr>\n",
       "      <th>0</th>\n",
       "      <td>0</td>\n",
       "      <td>3</td>\n",
       "      <td>0</td>\n",
       "      <td>22.000000</td>\n",
       "      <td>7.2500</td>\n",
       "      <td>0</td>\n",
       "    </tr>\n",
       "    <tr>\n",
       "      <th>1</th>\n",
       "      <td>2</td>\n",
       "      <td>1</td>\n",
       "      <td>1</td>\n",
       "      <td>38.000000</td>\n",
       "      <td>71.2833</td>\n",
       "      <td>1</td>\n",
       "    </tr>\n",
       "    <tr>\n",
       "      <th>2</th>\n",
       "      <td>3</td>\n",
       "      <td>3</td>\n",
       "      <td>1</td>\n",
       "      <td>26.000000</td>\n",
       "      <td>7.9250</td>\n",
       "      <td>1</td>\n",
       "    </tr>\n",
       "    <tr>\n",
       "      <th>3</th>\n",
       "      <td>2</td>\n",
       "      <td>1</td>\n",
       "      <td>1</td>\n",
       "      <td>35.000000</td>\n",
       "      <td>53.1000</td>\n",
       "      <td>1</td>\n",
       "    </tr>\n",
       "    <tr>\n",
       "      <th>4</th>\n",
       "      <td>0</td>\n",
       "      <td>3</td>\n",
       "      <td>0</td>\n",
       "      <td>35.000000</td>\n",
       "      <td>8.0500</td>\n",
       "      <td>0</td>\n",
       "    </tr>\n",
       "    <tr>\n",
       "      <th>5</th>\n",
       "      <td>0</td>\n",
       "      <td>3</td>\n",
       "      <td>0</td>\n",
       "      <td>33.022727</td>\n",
       "      <td>8.4583</td>\n",
       "      <td>0</td>\n",
       "    </tr>\n",
       "    <tr>\n",
       "      <th>6</th>\n",
       "      <td>0</td>\n",
       "      <td>1</td>\n",
       "      <td>0</td>\n",
       "      <td>54.000000</td>\n",
       "      <td>51.8625</td>\n",
       "      <td>0</td>\n",
       "    </tr>\n",
       "    <tr>\n",
       "      <th>7</th>\n",
       "      <td>1</td>\n",
       "      <td>3</td>\n",
       "      <td>0</td>\n",
       "      <td>2.000000</td>\n",
       "      <td>21.0750</td>\n",
       "      <td>0</td>\n",
       "    </tr>\n",
       "    <tr>\n",
       "      <th>8</th>\n",
       "      <td>2</td>\n",
       "      <td>3</td>\n",
       "      <td>1</td>\n",
       "      <td>27.000000</td>\n",
       "      <td>11.1333</td>\n",
       "      <td>1</td>\n",
       "    </tr>\n",
       "    <tr>\n",
       "      <th>9</th>\n",
       "      <td>2</td>\n",
       "      <td>2</td>\n",
       "      <td>1</td>\n",
       "      <td>14.000000</td>\n",
       "      <td>30.0708</td>\n",
       "      <td>1</td>\n",
       "    </tr>\n",
       "  </tbody>\n",
       "</table>\n",
       "</div>"
      ],
      "text/plain": [
       "   Title  Pclass  Sex        Age     Fare  Survived\n",
       "0      0       3    0  22.000000   7.2500         0\n",
       "1      2       1    1  38.000000  71.2833         1\n",
       "2      3       3    1  26.000000   7.9250         1\n",
       "3      2       1    1  35.000000  53.1000         1\n",
       "4      0       3    0  35.000000   8.0500         0\n",
       "5      0       3    0  33.022727   8.4583         0\n",
       "6      0       1    0  54.000000  51.8625         0\n",
       "7      1       3    0   2.000000  21.0750         0\n",
       "8      2       3    1  27.000000  11.1333         1\n",
       "9      2       2    1  14.000000  30.0708         1"
      ]
     },
     "execution_count": 25,
     "metadata": {},
     "output_type": "execute_result"
    }
   ],
   "source": [
    "trainData.head(10)"
   ]
  },
  {
   "cell_type": "code",
   "execution_count": 26,
   "metadata": {
    "collapsed": true
   },
   "outputs": [],
   "source": [
    "# Replacing the 2 missing embarked values with 0 as frequency of embarked = 0 is highest\n",
    "for index, row in trainData.iterrows():\n",
    "    if(row.isnull().any()):\n",
    "        trainData.set_value(index,'Embarked',0)"
   ]
  },
  {
   "cell_type": "code",
   "execution_count": 27,
   "metadata": {
    "collapsed": true
   },
   "outputs": [],
   "source": [
    "for index, row in trainData.iterrows():\n",
    "    if(row.isnull().any()):\n",
    "        print('Missing value found')"
   ]
  },
  {
   "cell_type": "markdown",
   "metadata": {},
   "source": [
    "For Test set"
   ]
  },
  {
   "cell_type": "code",
   "execution_count": 28,
   "metadata": {
    "collapsed": true
   },
   "outputs": [],
   "source": [
    "for index, row in testData.iterrows():\n",
    "    if(row.isnull().any()):\n",
    "        if(row['Title'] == 0):\n",
    "            testData.set_value(index,'Age',ageMr/countMr)\n",
    "        elif(row['Title'] == 1):\n",
    "            testData.set_value(index,'Age',ageMaster/countMaster)\n",
    "        elif(row['Title'] == 2):\n",
    "            testData.set_value(index,'Age',ageMrs/countMrs)\n",
    "        elif(row['Title'] == 3):\n",
    "            testData.set_value(index,'Age',ageMiss/countMiss)"
   ]
  },
  {
   "cell_type": "code",
   "execution_count": 29,
   "metadata": {
    "collapsed": true
   },
   "outputs": [],
   "source": [
    "for index, row in trainData.iterrows():\n",
    "    if(row.isnull().any()):\n",
    "        print('Missing value found')"
   ]
  },
  {
   "cell_type": "markdown",
   "metadata": {},
   "source": [
    "All missing values have been dealt with"
   ]
  },
  {
   "cell_type": "code",
   "execution_count": 30,
   "metadata": {
    "collapsed": true
   },
   "outputs": [],
   "source": [
    "X_train_WA = trainData.iloc[:,:5].values\n",
    "Y_train_WA = trainData.iloc[:,5].values\n",
    "X_test_WA = testData.iloc[:,:5].values"
   ]
  },
  {
   "cell_type": "markdown",
   "metadata": {},
   "source": [
    "## With Scaling"
   ]
  },
  {
   "cell_type": "code",
   "execution_count": 31,
   "metadata": {
    "collapsed": true
   },
   "outputs": [],
   "source": [
    "# scaling \n",
    "from sklearn.preprocessing import MinMaxScaler\n",
    "scaler = MinMaxScaler(feature_range=(0, 1), copy=True)\n",
    "X_train_WA = scaler.fit_transform(X_train_WA)\n",
    "X_test_WA = scaler.fit_transform(X_test_WA)"
   ]
  },
  {
   "cell_type": "code",
   "execution_count": 32,
   "metadata": {},
   "outputs": [
    {
     "data": {
      "text/plain": [
       "(891, 5)"
      ]
     },
     "execution_count": 32,
     "metadata": {},
     "output_type": "execute_result"
    }
   ],
   "source": [
    "X_train_WA.shape"
   ]
  },
  {
   "cell_type": "code",
   "execution_count": 33,
   "metadata": {},
   "outputs": [
    {
     "name": "stderr",
     "output_type": "stream",
     "text": [
      "C:\\Users\\DELL PC\\Anaconda3\\lib\\site-packages\\h5py\\__init__.py:34: FutureWarning: Conversion of the second argument of issubdtype from `float` to `np.floating` is deprecated. In future, it will be treated as `np.float64 == np.dtype(float).type`.\n",
      "  from ._conv import register_converters as _register_converters\n",
      "Using TensorFlow backend.\n"
     ]
    },
    {
     "data": {
      "text/plain": [
       "(891, 2)"
      ]
     },
     "execution_count": 33,
     "metadata": {},
     "output_type": "execute_result"
    }
   ],
   "source": [
    "# One Hot encoding of Y_train\n",
    "from keras.utils import to_categorical\n",
    "Y_train_WA = to_categorical(Y_train_WA)\n",
    "Y_train_WA.shape"
   ]
  },
  {
   "cell_type": "code",
   "execution_count": 34,
   "metadata": {},
   "outputs": [
    {
     "data": {
      "text/plain": [
       "(418, 5)"
      ]
     },
     "execution_count": 34,
     "metadata": {},
     "output_type": "execute_result"
    }
   ],
   "source": [
    "X_test_WA.shape"
   ]
  },
  {
   "cell_type": "code",
   "execution_count": null,
   "metadata": {
    "collapsed": true
   },
   "outputs": [],
   "source": []
  },
  {
   "cell_type": "markdown",
   "metadata": {
    "collapsed": true
   },
   "source": [
    "# ANN\n"
   ]
  },
  {
   "cell_type": "code",
   "execution_count": 35,
   "metadata": {
    "collapsed": true
   },
   "outputs": [],
   "source": [
    "import keras\n",
    "from keras import layers\n",
    "from keras import models\n",
    "from keras import optimizers"
   ]
  },
  {
   "cell_type": "code",
   "execution_count": 36,
   "metadata": {
    "collapsed": true
   },
   "outputs": [],
   "source": [
    "model = models.Sequential()"
   ]
  },
  {
   "cell_type": "code",
   "execution_count": 37,
   "metadata": {
    "collapsed": true
   },
   "outputs": [],
   "source": [
    "model.add(layers.Dense(16, input_shape=(5,), activation='relu'))\n",
    "# the model now takes input of dimensions (*,5)\n",
    "model.add(layers.Dense(16, activation='relu'))\n",
    "model.add(layers.Dense(32, activation='relu'))\n",
    "model.add(layers.Dropout(0.4))\n",
    "model.add(layers.Dense(2, activation='softmax'))"
   ]
  },
  {
   "cell_type": "code",
   "execution_count": 38,
   "metadata": {},
   "outputs": [
    {
     "name": "stdout",
     "output_type": "stream",
     "text": [
      "_________________________________________________________________\n",
      "Layer (type)                 Output Shape              Param #   \n",
      "=================================================================\n",
      "dense_1 (Dense)              (None, 16)                96        \n",
      "_________________________________________________________________\n",
      "dense_2 (Dense)              (None, 16)                272       \n",
      "_________________________________________________________________\n",
      "dense_3 (Dense)              (None, 32)                544       \n",
      "_________________________________________________________________\n",
      "dropout_1 (Dropout)          (None, 32)                0         \n",
      "_________________________________________________________________\n",
      "dense_4 (Dense)              (None, 2)                 66        \n",
      "=================================================================\n",
      "Total params: 978\n",
      "Trainable params: 978\n",
      "Non-trainable params: 0\n",
      "_________________________________________________________________\n"
     ]
    }
   ],
   "source": [
    "model.summary()"
   ]
  },
  {
   "cell_type": "code",
   "execution_count": 39,
   "metadata": {
    "collapsed": true
   },
   "outputs": [],
   "source": [
    "model.compile(loss='categorical_crossentropy', optimizer='adam', metrics=['accuracy'])"
   ]
  },
  {
   "cell_type": "code",
   "execution_count": 40,
   "metadata": {},
   "outputs": [
    {
     "data": {
      "text/plain": [
       "(891, 5)"
      ]
     },
     "execution_count": 40,
     "metadata": {},
     "output_type": "execute_result"
    }
   ],
   "source": [
    "X_train_WA.shape"
   ]
  },
  {
   "cell_type": "code",
   "execution_count": 41,
   "metadata": {},
   "outputs": [
    {
     "name": "stdout",
     "output_type": "stream",
     "text": [
      "Train on 668 samples, validate on 223 samples\n",
      "Epoch 1/200\n",
      " - 1s - loss: 0.7152 - acc: 0.4281 - val_loss: 0.6834 - val_acc: 0.4215\n",
      "Epoch 2/200\n",
      " - 0s - loss: 0.6598 - acc: 0.6647 - val_loss: 0.6426 - val_acc: 0.7892\n",
      "Epoch 3/200\n",
      " - 0s - loss: 0.6348 - acc: 0.7455 - val_loss: 0.6075 - val_acc: 0.7892\n",
      "Epoch 4/200\n",
      " - 0s - loss: 0.5979 - acc: 0.7754 - val_loss: 0.5669 - val_acc: 0.7892\n",
      "Epoch 5/200\n",
      " - 0s - loss: 0.5596 - acc: 0.7844 - val_loss: 0.5200 - val_acc: 0.7892\n",
      "Epoch 6/200\n",
      " - 0s - loss: 0.5197 - acc: 0.7859 - val_loss: 0.4807 - val_acc: 0.7892\n",
      "Epoch 7/200\n",
      " - 0s - loss: 0.4969 - acc: 0.7919 - val_loss: 0.4602 - val_acc: 0.7803\n",
      "Epoch 8/200\n",
      " - 0s - loss: 0.4961 - acc: 0.7799 - val_loss: 0.4550 - val_acc: 0.7848\n",
      "Epoch 9/200\n",
      " - 0s - loss: 0.4900 - acc: 0.7859 - val_loss: 0.4505 - val_acc: 0.7848\n",
      "Epoch 10/200\n",
      " - 0s - loss: 0.4843 - acc: 0.7889 - val_loss: 0.4463 - val_acc: 0.7803\n",
      "Epoch 11/200\n",
      " - 0s - loss: 0.4657 - acc: 0.7844 - val_loss: 0.4430 - val_acc: 0.7803\n",
      "Epoch 12/200\n",
      " - 0s - loss: 0.4880 - acc: 0.7904 - val_loss: 0.4417 - val_acc: 0.7758\n",
      "Epoch 13/200\n",
      " - 0s - loss: 0.4808 - acc: 0.7874 - val_loss: 0.4384 - val_acc: 0.7848\n",
      "Epoch 14/200\n",
      " - 0s - loss: 0.4694 - acc: 0.7874 - val_loss: 0.4374 - val_acc: 0.7803\n",
      "Epoch 15/200\n",
      " - 0s - loss: 0.4672 - acc: 0.7874 - val_loss: 0.4350 - val_acc: 0.7803\n",
      "Epoch 16/200\n",
      " - 0s - loss: 0.4757 - acc: 0.7769 - val_loss: 0.4332 - val_acc: 0.7848\n",
      "Epoch 17/200\n",
      " - 0s - loss: 0.4617 - acc: 0.7814 - val_loss: 0.4330 - val_acc: 0.7803\n",
      "Epoch 18/200\n",
      " - 0s - loss: 0.4588 - acc: 0.7799 - val_loss: 0.4310 - val_acc: 0.7848\n",
      "Epoch 19/200\n",
      " - 0s - loss: 0.4636 - acc: 0.7919 - val_loss: 0.4294 - val_acc: 0.7848\n",
      "Epoch 20/200\n",
      " - 0s - loss: 0.4658 - acc: 0.7949 - val_loss: 0.4279 - val_acc: 0.7937\n",
      "Epoch 21/200\n",
      " - 0s - loss: 0.4661 - acc: 0.7844 - val_loss: 0.4308 - val_acc: 0.7758\n",
      "Epoch 22/200\n",
      " - 0s - loss: 0.4577 - acc: 0.7889 - val_loss: 0.4252 - val_acc: 0.7848\n",
      "Epoch 23/200\n",
      " - 0s - loss: 0.4613 - acc: 0.7904 - val_loss: 0.4250 - val_acc: 0.7848\n",
      "Epoch 24/200\n",
      " - 0s - loss: 0.4643 - acc: 0.7799 - val_loss: 0.4237 - val_acc: 0.7937\n",
      "Epoch 25/200\n",
      " - 0s - loss: 0.4640 - acc: 0.7949 - val_loss: 0.4236 - val_acc: 0.7892\n",
      "Epoch 26/200\n",
      " - 0s - loss: 0.4644 - acc: 0.7784 - val_loss: 0.4213 - val_acc: 0.7982\n",
      "Epoch 27/200\n",
      " - 0s - loss: 0.4650 - acc: 0.7859 - val_loss: 0.4209 - val_acc: 0.7892\n",
      "Epoch 28/200\n",
      " - 0s - loss: 0.4530 - acc: 0.7844 - val_loss: 0.4185 - val_acc: 0.7982\n",
      "Epoch 29/200\n",
      " - 0s - loss: 0.4571 - acc: 0.7874 - val_loss: 0.4181 - val_acc: 0.7892\n",
      "Epoch 30/200\n",
      " - 0s - loss: 0.4613 - acc: 0.7904 - val_loss: 0.4162 - val_acc: 0.7982\n",
      "Epoch 31/200\n",
      " - 0s - loss: 0.4465 - acc: 0.7829 - val_loss: 0.4190 - val_acc: 0.7892\n",
      "Epoch 32/200\n",
      " - 0s - loss: 0.4516 - acc: 0.7859 - val_loss: 0.4158 - val_acc: 0.7892\n",
      "Epoch 33/200\n",
      " - 0s - loss: 0.4607 - acc: 0.7934 - val_loss: 0.4147 - val_acc: 0.7982\n",
      "Epoch 34/200\n",
      " - 0s - loss: 0.4535 - acc: 0.7904 - val_loss: 0.4130 - val_acc: 0.8072\n",
      "Epoch 35/200\n",
      " - 0s - loss: 0.4512 - acc: 0.7874 - val_loss: 0.4142 - val_acc: 0.7892\n",
      "Epoch 36/200\n",
      " - 0s - loss: 0.4415 - acc: 0.7844 - val_loss: 0.4119 - val_acc: 0.8027\n",
      "Epoch 37/200\n",
      " - 0s - loss: 0.4550 - acc: 0.7844 - val_loss: 0.4129 - val_acc: 0.7892\n",
      "Epoch 38/200\n",
      " - 0s - loss: 0.4541 - acc: 0.7784 - val_loss: 0.4115 - val_acc: 0.7982\n",
      "Epoch 39/200\n",
      " - 0s - loss: 0.4479 - acc: 0.7919 - val_loss: 0.4118 - val_acc: 0.7982\n",
      "Epoch 40/200\n",
      " - 0s - loss: 0.4422 - acc: 0.7919 - val_loss: 0.4103 - val_acc: 0.7982\n",
      "Epoch 41/200\n",
      " - 0s - loss: 0.4420 - acc: 0.7889 - val_loss: 0.4103 - val_acc: 0.7982\n",
      "Epoch 42/200\n",
      " - 0s - loss: 0.4528 - acc: 0.7829 - val_loss: 0.4082 - val_acc: 0.8027\n",
      "Epoch 43/200\n",
      " - 0s - loss: 0.4652 - acc: 0.7844 - val_loss: 0.4078 - val_acc: 0.8027\n",
      "Epoch 44/200\n",
      " - 0s - loss: 0.4380 - acc: 0.8039 - val_loss: 0.4088 - val_acc: 0.7892\n",
      "Epoch 45/200\n",
      " - 0s - loss: 0.4493 - acc: 0.7740 - val_loss: 0.4063 - val_acc: 0.8117\n",
      "Epoch 46/200\n",
      " - 0s - loss: 0.4484 - acc: 0.7814 - val_loss: 0.4063 - val_acc: 0.8072\n",
      "Epoch 47/200\n",
      " - 0s - loss: 0.4575 - acc: 0.7889 - val_loss: 0.4061 - val_acc: 0.7982\n",
      "Epoch 48/200\n",
      " - 0s - loss: 0.4434 - acc: 0.7934 - val_loss: 0.4067 - val_acc: 0.7982\n",
      "Epoch 49/200\n",
      " - 0s - loss: 0.4428 - acc: 0.8054 - val_loss: 0.4054 - val_acc: 0.7982\n",
      "Epoch 50/200\n",
      " - 0s - loss: 0.4457 - acc: 0.7979 - val_loss: 0.4063 - val_acc: 0.7982\n",
      "Epoch 51/200\n",
      " - 0s - loss: 0.4457 - acc: 0.7949 - val_loss: 0.4055 - val_acc: 0.7982\n",
      "Epoch 52/200\n",
      " - 0s - loss: 0.4420 - acc: 0.7889 - val_loss: 0.4029 - val_acc: 0.7982\n",
      "Epoch 53/200\n",
      " - 0s - loss: 0.4481 - acc: 0.7859 - val_loss: 0.4056 - val_acc: 0.7982\n",
      "Epoch 54/200\n",
      " - 0s - loss: 0.4385 - acc: 0.8069 - val_loss: 0.4077 - val_acc: 0.7982\n",
      "Epoch 55/200\n",
      " - 0s - loss: 0.4564 - acc: 0.7754 - val_loss: 0.4051 - val_acc: 0.7982\n",
      "Epoch 56/200\n",
      " - 0s - loss: 0.4431 - acc: 0.7919 - val_loss: 0.4062 - val_acc: 0.8027\n",
      "Epoch 57/200\n",
      " - 0s - loss: 0.4429 - acc: 0.7859 - val_loss: 0.4031 - val_acc: 0.7982\n",
      "Epoch 58/200\n",
      " - 0s - loss: 0.4380 - acc: 0.8054 - val_loss: 0.4020 - val_acc: 0.8027\n",
      "Epoch 59/200\n",
      " - 0s - loss: 0.4536 - acc: 0.7979 - val_loss: 0.4040 - val_acc: 0.8072\n",
      "Epoch 60/200\n",
      " - 0s - loss: 0.4498 - acc: 0.7814 - val_loss: 0.4023 - val_acc: 0.8027\n",
      "Epoch 61/200\n",
      " - 0s - loss: 0.4515 - acc: 0.7994 - val_loss: 0.4073 - val_acc: 0.8117\n",
      "Epoch 62/200\n",
      " - 0s - loss: 0.4531 - acc: 0.7799 - val_loss: 0.4033 - val_acc: 0.8117\n",
      "Epoch 63/200\n",
      " - 0s - loss: 0.4401 - acc: 0.8009 - val_loss: 0.4030 - val_acc: 0.8117\n",
      "Epoch 64/200\n",
      " - 0s - loss: 0.4465 - acc: 0.7874 - val_loss: 0.4008 - val_acc: 0.8161\n",
      "Epoch 65/200\n",
      " - 0s - loss: 0.4440 - acc: 0.7979 - val_loss: 0.4018 - val_acc: 0.8117\n",
      "Epoch 66/200\n",
      " - 0s - loss: 0.4352 - acc: 0.7859 - val_loss: 0.3999 - val_acc: 0.8206\n",
      "Epoch 67/200\n",
      " - 0s - loss: 0.4424 - acc: 0.7889 - val_loss: 0.4014 - val_acc: 0.8161\n",
      "Epoch 68/200\n",
      " - 0s - loss: 0.4402 - acc: 0.7979 - val_loss: 0.4001 - val_acc: 0.8206\n",
      "Epoch 69/200\n",
      " - 0s - loss: 0.4451 - acc: 0.7964 - val_loss: 0.3998 - val_acc: 0.8251\n",
      "Epoch 70/200\n",
      " - 0s - loss: 0.4447 - acc: 0.7799 - val_loss: 0.4014 - val_acc: 0.8251\n",
      "Epoch 71/200\n",
      " - 0s - loss: 0.4420 - acc: 0.8099 - val_loss: 0.4005 - val_acc: 0.8161\n",
      "Epoch 72/200\n",
      " - 0s - loss: 0.4423 - acc: 0.7979 - val_loss: 0.4023 - val_acc: 0.8206\n",
      "Epoch 73/200\n",
      " - 0s - loss: 0.4399 - acc: 0.8084 - val_loss: 0.3990 - val_acc: 0.8251\n",
      "Epoch 74/200\n",
      " - 0s - loss: 0.4348 - acc: 0.7934 - val_loss: 0.3998 - val_acc: 0.8117\n",
      "Epoch 75/200\n",
      " - 0s - loss: 0.4399 - acc: 0.7979 - val_loss: 0.4000 - val_acc: 0.8117\n",
      "Epoch 76/200\n",
      " - 0s - loss: 0.4295 - acc: 0.8084 - val_loss: 0.3987 - val_acc: 0.8161\n",
      "Epoch 77/200\n",
      " - 0s - loss: 0.4316 - acc: 0.8054 - val_loss: 0.3977 - val_acc: 0.8251\n",
      "Epoch 78/200\n",
      " - 0s - loss: 0.4475 - acc: 0.8024 - val_loss: 0.4000 - val_acc: 0.8072\n",
      "Epoch 79/200\n",
      " - 0s - loss: 0.4506 - acc: 0.7934 - val_loss: 0.3995 - val_acc: 0.8117\n",
      "Epoch 80/200\n",
      " - 0s - loss: 0.4432 - acc: 0.8009 - val_loss: 0.3991 - val_acc: 0.8117\n",
      "Epoch 81/200\n",
      " - 0s - loss: 0.4463 - acc: 0.7919 - val_loss: 0.3997 - val_acc: 0.8072\n",
      "Epoch 82/200\n",
      " - 0s - loss: 0.4478 - acc: 0.7889 - val_loss: 0.3997 - val_acc: 0.8117\n",
      "Epoch 83/200\n",
      " - 0s - loss: 0.4355 - acc: 0.8039 - val_loss: 0.3990 - val_acc: 0.8072\n",
      "Epoch 84/200\n",
      " - 0s - loss: 0.4323 - acc: 0.8069 - val_loss: 0.3975 - val_acc: 0.8117\n",
      "Epoch 85/200\n",
      " - 0s - loss: 0.4480 - acc: 0.7829 - val_loss: 0.3994 - val_acc: 0.8072\n",
      "Epoch 86/200\n",
      " - 0s - loss: 0.4510 - acc: 0.7904 - val_loss: 0.3984 - val_acc: 0.8161\n",
      "Epoch 87/200\n",
      " - 0s - loss: 0.4394 - acc: 0.7874 - val_loss: 0.3979 - val_acc: 0.8117\n",
      "Epoch 88/200\n",
      " - 0s - loss: 0.4410 - acc: 0.7874 - val_loss: 0.3977 - val_acc: 0.8072\n",
      "Epoch 89/200\n",
      " - 0s - loss: 0.4384 - acc: 0.7964 - val_loss: 0.3967 - val_acc: 0.8206\n",
      "Epoch 90/200\n",
      " - 0s - loss: 0.4371 - acc: 0.7919 - val_loss: 0.3975 - val_acc: 0.8072\n",
      "Epoch 91/200\n",
      " - 0s - loss: 0.4507 - acc: 0.7919 - val_loss: 0.3970 - val_acc: 0.8161\n",
      "Epoch 92/200\n",
      " - 0s - loss: 0.4424 - acc: 0.8054 - val_loss: 0.3995 - val_acc: 0.8206\n",
      "Epoch 93/200\n",
      " - 0s - loss: 0.4343 - acc: 0.7949 - val_loss: 0.3957 - val_acc: 0.8161\n",
      "Epoch 94/200\n",
      " - 0s - loss: 0.4313 - acc: 0.8114 - val_loss: 0.3962 - val_acc: 0.8072\n",
      "Epoch 95/200\n",
      " - 0s - loss: 0.4293 - acc: 0.8129 - val_loss: 0.3970 - val_acc: 0.8161\n",
      "Epoch 96/200\n",
      " - 0s - loss: 0.4364 - acc: 0.8069 - val_loss: 0.3972 - val_acc: 0.8161\n"
     ]
    },
    {
     "name": "stdout",
     "output_type": "stream",
     "text": [
      "Epoch 97/200\n",
      " - 0s - loss: 0.4390 - acc: 0.8024 - val_loss: 0.3994 - val_acc: 0.8296\n",
      "Epoch 98/200\n",
      " - 0s - loss: 0.4436 - acc: 0.8039 - val_loss: 0.3972 - val_acc: 0.8117\n",
      "Epoch 99/200\n",
      " - 0s - loss: 0.4420 - acc: 0.8219 - val_loss: 0.3971 - val_acc: 0.8117\n",
      "Epoch 100/200\n",
      " - 0s - loss: 0.4436 - acc: 0.7949 - val_loss: 0.3968 - val_acc: 0.8251\n",
      "Epoch 101/200\n",
      " - 0s - loss: 0.4348 - acc: 0.8024 - val_loss: 0.3952 - val_acc: 0.8161\n",
      "Epoch 102/200\n",
      " - 0s - loss: 0.4523 - acc: 0.8039 - val_loss: 0.3962 - val_acc: 0.8251\n",
      "Epoch 103/200\n",
      " - 0s - loss: 0.4415 - acc: 0.7949 - val_loss: 0.3964 - val_acc: 0.8161\n",
      "Epoch 104/200\n",
      " - 0s - loss: 0.4450 - acc: 0.8024 - val_loss: 0.3972 - val_acc: 0.8206\n",
      "Epoch 105/200\n",
      " - 0s - loss: 0.4436 - acc: 0.8009 - val_loss: 0.3953 - val_acc: 0.8072\n",
      "Epoch 106/200\n",
      " - 0s - loss: 0.4359 - acc: 0.8069 - val_loss: 0.3958 - val_acc: 0.8251\n",
      "Epoch 107/200\n",
      " - 0s - loss: 0.4320 - acc: 0.8054 - val_loss: 0.3953 - val_acc: 0.8251\n",
      "Epoch 108/200\n",
      " - 0s - loss: 0.4409 - acc: 0.7919 - val_loss: 0.3962 - val_acc: 0.8161\n",
      "Epoch 109/200\n",
      " - 0s - loss: 0.4305 - acc: 0.7979 - val_loss: 0.3942 - val_acc: 0.8430\n",
      "Epoch 110/200\n",
      " - 0s - loss: 0.4280 - acc: 0.8069 - val_loss: 0.3969 - val_acc: 0.8296\n",
      "Epoch 111/200\n",
      " - 0s - loss: 0.4391 - acc: 0.7964 - val_loss: 0.3941 - val_acc: 0.8206\n",
      "Epoch 112/200\n",
      " - 0s - loss: 0.4500 - acc: 0.7994 - val_loss: 0.3946 - val_acc: 0.8161\n",
      "Epoch 113/200\n",
      " - 0s - loss: 0.4433 - acc: 0.8039 - val_loss: 0.3960 - val_acc: 0.8206\n",
      "Epoch 114/200\n",
      " - 0s - loss: 0.4380 - acc: 0.8114 - val_loss: 0.3958 - val_acc: 0.8206\n",
      "Epoch 115/200\n",
      " - 0s - loss: 0.4374 - acc: 0.7874 - val_loss: 0.3974 - val_acc: 0.8296\n",
      "Epoch 116/200\n",
      " - 0s - loss: 0.4427 - acc: 0.7889 - val_loss: 0.3951 - val_acc: 0.8251\n",
      "Epoch 117/200\n",
      " - 0s - loss: 0.4454 - acc: 0.7994 - val_loss: 0.3993 - val_acc: 0.8206\n",
      "Epoch 118/200\n",
      " - 0s - loss: 0.4319 - acc: 0.8024 - val_loss: 0.3959 - val_acc: 0.8251\n",
      "Epoch 119/200\n",
      " - 0s - loss: 0.4297 - acc: 0.8099 - val_loss: 0.3945 - val_acc: 0.8206\n",
      "Epoch 120/200\n",
      " - 0s - loss: 0.4369 - acc: 0.8069 - val_loss: 0.3963 - val_acc: 0.8296\n",
      "Epoch 121/200\n",
      " - 0s - loss: 0.4308 - acc: 0.8129 - val_loss: 0.3939 - val_acc: 0.8206\n",
      "Epoch 122/200\n",
      " - 0s - loss: 0.4411 - acc: 0.8084 - val_loss: 0.3951 - val_acc: 0.8161\n",
      "Epoch 123/200\n",
      " - 0s - loss: 0.4309 - acc: 0.8054 - val_loss: 0.3946 - val_acc: 0.8161\n",
      "Epoch 124/200\n",
      " - 0s - loss: 0.4284 - acc: 0.8039 - val_loss: 0.3959 - val_acc: 0.8296\n",
      "Epoch 125/200\n",
      " - 0s - loss: 0.4257 - acc: 0.8039 - val_loss: 0.3949 - val_acc: 0.8161\n",
      "Epoch 126/200\n",
      " - 0s - loss: 0.4422 - acc: 0.8024 - val_loss: 0.3937 - val_acc: 0.8251\n",
      "Epoch 127/200\n",
      " - 0s - loss: 0.4210 - acc: 0.8099 - val_loss: 0.3946 - val_acc: 0.8251\n",
      "Epoch 128/200\n",
      " - 0s - loss: 0.4305 - acc: 0.8024 - val_loss: 0.3943 - val_acc: 0.8341\n",
      "Epoch 129/200\n",
      " - 0s - loss: 0.4331 - acc: 0.8084 - val_loss: 0.3934 - val_acc: 0.8341\n",
      "Epoch 130/200\n",
      " - 0s - loss: 0.4286 - acc: 0.8039 - val_loss: 0.3934 - val_acc: 0.8206\n",
      "Epoch 131/200\n",
      " - 0s - loss: 0.4363 - acc: 0.7979 - val_loss: 0.3934 - val_acc: 0.8296\n",
      "Epoch 132/200\n",
      " - 0s - loss: 0.4345 - acc: 0.8099 - val_loss: 0.3941 - val_acc: 0.8341\n",
      "Epoch 133/200\n",
      " - 0s - loss: 0.4430 - acc: 0.7919 - val_loss: 0.3926 - val_acc: 0.8296\n",
      "Epoch 134/200\n",
      " - 0s - loss: 0.4435 - acc: 0.8069 - val_loss: 0.3945 - val_acc: 0.8296\n",
      "Epoch 135/200\n",
      " - 0s - loss: 0.4251 - acc: 0.7994 - val_loss: 0.3927 - val_acc: 0.8296\n",
      "Epoch 136/200\n",
      " - 0s - loss: 0.4366 - acc: 0.8024 - val_loss: 0.3927 - val_acc: 0.8296\n",
      "Epoch 137/200\n",
      " - 0s - loss: 0.4335 - acc: 0.8084 - val_loss: 0.3924 - val_acc: 0.8161\n",
      "Epoch 138/200\n",
      " - 0s - loss: 0.4402 - acc: 0.8054 - val_loss: 0.3920 - val_acc: 0.8251\n",
      "Epoch 139/200\n",
      " - 0s - loss: 0.4354 - acc: 0.8189 - val_loss: 0.3922 - val_acc: 0.8251\n",
      "Epoch 140/200\n",
      " - 0s - loss: 0.4285 - acc: 0.8114 - val_loss: 0.3921 - val_acc: 0.8296\n",
      "Epoch 141/200\n",
      " - 0s - loss: 0.4382 - acc: 0.7994 - val_loss: 0.3906 - val_acc: 0.8386\n",
      "Epoch 142/200\n",
      " - 0s - loss: 0.4265 - acc: 0.8024 - val_loss: 0.3912 - val_acc: 0.8296\n",
      "Epoch 143/200\n",
      " - 0s - loss: 0.4271 - acc: 0.8293 - val_loss: 0.3916 - val_acc: 0.8251\n",
      "Epoch 144/200\n",
      " - 0s - loss: 0.4366 - acc: 0.8009 - val_loss: 0.3930 - val_acc: 0.8251\n",
      "Epoch 145/200\n",
      " - 0s - loss: 0.4347 - acc: 0.7964 - val_loss: 0.3913 - val_acc: 0.8341\n",
      "Epoch 146/200\n",
      " - 0s - loss: 0.4311 - acc: 0.8069 - val_loss: 0.3919 - val_acc: 0.8386\n",
      "Epoch 147/200\n",
      " - 0s - loss: 0.4328 - acc: 0.8024 - val_loss: 0.3907 - val_acc: 0.8296\n",
      "Epoch 148/200\n",
      " - 0s - loss: 0.4267 - acc: 0.8069 - val_loss: 0.3903 - val_acc: 0.8341\n",
      "Epoch 149/200\n",
      " - 0s - loss: 0.4388 - acc: 0.8054 - val_loss: 0.3904 - val_acc: 0.8341\n",
      "Epoch 150/200\n",
      " - 0s - loss: 0.4300 - acc: 0.8024 - val_loss: 0.3936 - val_acc: 0.8386\n",
      "Epoch 151/200\n",
      " - 0s - loss: 0.4315 - acc: 0.8039 - val_loss: 0.3903 - val_acc: 0.8296\n",
      "Epoch 152/200\n",
      " - 0s - loss: 0.4406 - acc: 0.8069 - val_loss: 0.3937 - val_acc: 0.8341\n",
      "Epoch 153/200\n",
      " - 0s - loss: 0.4303 - acc: 0.8039 - val_loss: 0.3894 - val_acc: 0.8386\n",
      "Epoch 154/200\n",
      " - 0s - loss: 0.4279 - acc: 0.8159 - val_loss: 0.3904 - val_acc: 0.8386\n",
      "Epoch 155/200\n",
      " - 0s - loss: 0.4394 - acc: 0.8009 - val_loss: 0.3892 - val_acc: 0.8341\n",
      "Epoch 156/200\n",
      " - 0s - loss: 0.4236 - acc: 0.8039 - val_loss: 0.3912 - val_acc: 0.8386\n",
      "Epoch 157/200\n",
      " - 0s - loss: 0.4310 - acc: 0.7964 - val_loss: 0.3889 - val_acc: 0.8251\n",
      "Epoch 158/200\n",
      " - 0s - loss: 0.4250 - acc: 0.8009 - val_loss: 0.3900 - val_acc: 0.8475\n",
      "Epoch 159/200\n",
      " - 0s - loss: 0.4413 - acc: 0.7964 - val_loss: 0.3885 - val_acc: 0.8341\n",
      "Epoch 160/200\n",
      " - 0s - loss: 0.4233 - acc: 0.8084 - val_loss: 0.3909 - val_acc: 0.8430\n",
      "Epoch 161/200\n",
      " - 0s - loss: 0.4411 - acc: 0.8069 - val_loss: 0.3887 - val_acc: 0.8251\n",
      "Epoch 162/200\n",
      " - 0s - loss: 0.4287 - acc: 0.8114 - val_loss: 0.3887 - val_acc: 0.8296\n",
      "Epoch 163/200\n",
      " - 0s - loss: 0.4366 - acc: 0.8129 - val_loss: 0.3897 - val_acc: 0.8296\n",
      "Epoch 164/200\n",
      " - 0s - loss: 0.4330 - acc: 0.8219 - val_loss: 0.3920 - val_acc: 0.8296\n",
      "Epoch 165/200\n",
      " - 0s - loss: 0.4332 - acc: 0.8024 - val_loss: 0.3899 - val_acc: 0.8341\n",
      "Epoch 166/200\n",
      " - 0s - loss: 0.4258 - acc: 0.8114 - val_loss: 0.3892 - val_acc: 0.8296\n",
      "Epoch 167/200\n",
      " - 0s - loss: 0.4231 - acc: 0.7979 - val_loss: 0.3890 - val_acc: 0.8341\n",
      "Epoch 168/200\n",
      " - 0s - loss: 0.4198 - acc: 0.8144 - val_loss: 0.3879 - val_acc: 0.8386\n",
      "Epoch 169/200\n",
      " - 0s - loss: 0.4253 - acc: 0.8204 - val_loss: 0.3883 - val_acc: 0.8475\n",
      "Epoch 170/200\n",
      " - 0s - loss: 0.4402 - acc: 0.7934 - val_loss: 0.3911 - val_acc: 0.8520\n",
      "Epoch 171/200\n",
      " - 0s - loss: 0.4359 - acc: 0.7979 - val_loss: 0.3887 - val_acc: 0.8341\n",
      "Epoch 172/200\n",
      " - 0s - loss: 0.4280 - acc: 0.8024 - val_loss: 0.3879 - val_acc: 0.8341\n",
      "Epoch 173/200\n",
      " - 0s - loss: 0.4223 - acc: 0.8009 - val_loss: 0.3901 - val_acc: 0.8430\n",
      "Epoch 174/200\n",
      " - 0s - loss: 0.4321 - acc: 0.7994 - val_loss: 0.3887 - val_acc: 0.8296\n",
      "Epoch 175/200\n",
      " - 0s - loss: 0.4336 - acc: 0.8009 - val_loss: 0.3901 - val_acc: 0.8386\n",
      "Epoch 176/200\n",
      " - 0s - loss: 0.4355 - acc: 0.8039 - val_loss: 0.3902 - val_acc: 0.8296\n",
      "Epoch 177/200\n",
      " - 0s - loss: 0.4313 - acc: 0.8024 - val_loss: 0.3890 - val_acc: 0.8251\n",
      "Epoch 178/200\n",
      " - 0s - loss: 0.4302 - acc: 0.8009 - val_loss: 0.3882 - val_acc: 0.8341\n",
      "Epoch 179/200\n",
      " - 0s - loss: 0.4365 - acc: 0.8159 - val_loss: 0.3889 - val_acc: 0.8430\n",
      "Epoch 180/200\n",
      " - 0s - loss: 0.4366 - acc: 0.7964 - val_loss: 0.3892 - val_acc: 0.8386\n",
      "Epoch 181/200\n",
      " - 0s - loss: 0.4345 - acc: 0.8069 - val_loss: 0.3888 - val_acc: 0.8386\n",
      "Epoch 182/200\n",
      " - 0s - loss: 0.4242 - acc: 0.7964 - val_loss: 0.3889 - val_acc: 0.8386\n",
      "Epoch 183/200\n",
      " - 0s - loss: 0.4291 - acc: 0.8084 - val_loss: 0.3886 - val_acc: 0.8386\n",
      "Epoch 184/200\n",
      " - 0s - loss: 0.4344 - acc: 0.7979 - val_loss: 0.3895 - val_acc: 0.8430\n",
      "Epoch 185/200\n",
      " - 0s - loss: 0.4349 - acc: 0.8024 - val_loss: 0.3893 - val_acc: 0.8386\n",
      "Epoch 186/200\n",
      " - 0s - loss: 0.4244 - acc: 0.8189 - val_loss: 0.3923 - val_acc: 0.8386\n",
      "Epoch 187/200\n",
      " - 0s - loss: 0.4313 - acc: 0.8024 - val_loss: 0.3884 - val_acc: 0.8206\n",
      "Epoch 188/200\n",
      " - 0s - loss: 0.4172 - acc: 0.8263 - val_loss: 0.3881 - val_acc: 0.8430\n",
      "Epoch 189/200\n",
      " - 0s - loss: 0.4279 - acc: 0.8204 - val_loss: 0.3870 - val_acc: 0.8341\n",
      "Epoch 190/200\n",
      " - 0s - loss: 0.4218 - acc: 0.8009 - val_loss: 0.3857 - val_acc: 0.8430\n",
      "Epoch 191/200\n",
      " - 0s - loss: 0.4337 - acc: 0.8144 - val_loss: 0.3870 - val_acc: 0.8520\n",
      "Epoch 192/200\n",
      " - 0s - loss: 0.4235 - acc: 0.8099 - val_loss: 0.3880 - val_acc: 0.8341\n"
     ]
    },
    {
     "name": "stdout",
     "output_type": "stream",
     "text": [
      "Epoch 193/200\n",
      " - 0s - loss: 0.4309 - acc: 0.8174 - val_loss: 0.3893 - val_acc: 0.8386\n",
      "Epoch 194/200\n",
      " - 0s - loss: 0.4272 - acc: 0.8129 - val_loss: 0.3870 - val_acc: 0.8430\n",
      "Epoch 195/200\n",
      " - 0s - loss: 0.4303 - acc: 0.8054 - val_loss: 0.3852 - val_acc: 0.8386\n",
      "Epoch 196/200\n",
      " - 0s - loss: 0.4264 - acc: 0.8069 - val_loss: 0.3854 - val_acc: 0.8430\n",
      "Epoch 197/200\n",
      " - 0s - loss: 0.4267 - acc: 0.8039 - val_loss: 0.3856 - val_acc: 0.8386\n",
      "Epoch 198/200\n",
      " - 0s - loss: 0.4296 - acc: 0.7949 - val_loss: 0.3875 - val_acc: 0.8430\n",
      "Epoch 199/200\n",
      " - 0s - loss: 0.4280 - acc: 0.8144 - val_loss: 0.3844 - val_acc: 0.8341\n",
      "Epoch 200/200\n",
      " - 0s - loss: 0.4294 - acc: 0.8204 - val_loss: 0.3851 - val_acc: 0.8475\n"
     ]
    },
    {
     "data": {
      "text/plain": [
       "<keras.callbacks.History at 0x233d84f98d0>"
      ]
     },
     "execution_count": 41,
     "metadata": {},
     "output_type": "execute_result"
    }
   ],
   "source": [
    "model.fit(x=X_train_WA, y=Y_train_WA, epochs=200, batch_size=None, verbose=2, validation_split=0.25, shuffle=True)"
   ]
  },
  {
   "cell_type": "code",
   "execution_count": 42,
   "metadata": {},
   "outputs": [
    {
     "data": {
      "text/plain": [
       "(418,)"
      ]
     },
     "execution_count": 42,
     "metadata": {},
     "output_type": "execute_result"
    }
   ],
   "source": [
    "predictions = model.predict_classes(X_test_WA)\n",
    "predictions.shape"
   ]
  },
  {
   "cell_type": "code",
   "execution_count": 43,
   "metadata": {
    "collapsed": true
   },
   "outputs": [],
   "source": [
    "testDataOriginal = pd.read_csv(Original_test_location)\n",
    "testDataOriginal[\"PassengerId\"];"
   ]
  },
  {
   "cell_type": "code",
   "execution_count": 44,
   "metadata": {
    "collapsed": true
   },
   "outputs": [],
   "source": [
    "results = pd.DataFrame({\n",
    "    \"PassengerId\": testDataOriginal[\"PassengerId\"],\n",
    "    \"Survived\": predictions})"
   ]
  },
  {
   "cell_type": "code",
   "execution_count": 45,
   "metadata": {
    "collapsed": true
   },
   "outputs": [],
   "source": [
    "results.to_csv('titanic_ANN6.csv', index=False)"
   ]
  },
  {
   "cell_type": "code",
   "execution_count": null,
   "metadata": {
    "collapsed": true
   },
   "outputs": [],
   "source": []
  },
  {
   "cell_type": "code",
   "execution_count": null,
   "metadata": {
    "collapsed": true
   },
   "outputs": [],
   "source": []
  },
  {
   "cell_type": "code",
   "execution_count": null,
   "metadata": {
    "collapsed": true
   },
   "outputs": [],
   "source": []
  },
  {
   "cell_type": "code",
   "execution_count": null,
   "metadata": {
    "collapsed": true
   },
   "outputs": [],
   "source": []
  },
  {
   "cell_type": "code",
   "execution_count": null,
   "metadata": {
    "collapsed": true
   },
   "outputs": [],
   "source": []
  },
  {
   "cell_type": "code",
   "execution_count": null,
   "metadata": {
    "collapsed": true
   },
   "outputs": [],
   "source": []
  },
  {
   "cell_type": "code",
   "execution_count": null,
   "metadata": {
    "collapsed": true
   },
   "outputs": [],
   "source": []
  },
  {
   "cell_type": "code",
   "execution_count": null,
   "metadata": {
    "collapsed": true
   },
   "outputs": [],
   "source": []
  },
  {
   "cell_type": "code",
   "execution_count": null,
   "metadata": {
    "collapsed": true
   },
   "outputs": [],
   "source": []
  }
 ],
 "metadata": {
  "kernelspec": {
   "display_name": "Python 3",
   "language": "python",
   "name": "python3"
  },
  "language_info": {
   "codemirror_mode": {
    "name": "ipython",
    "version": 3
   },
   "file_extension": ".py",
   "mimetype": "text/x-python",
   "name": "python",
   "nbconvert_exporter": "python",
   "pygments_lexer": "ipython3",
   "version": "3.6.1"
  }
 },
 "nbformat": 4,
 "nbformat_minor": 2
}
