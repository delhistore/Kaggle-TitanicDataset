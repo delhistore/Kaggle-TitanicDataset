{
 "cells": [
  {
   "cell_type": "markdown",
   "metadata": {},
   "source": [
    "# ANN implementation "
   ]
  },
  {
   "cell_type": "code",
   "execution_count": 211,
   "metadata": {
    "collapsed": true
   },
   "outputs": [],
   "source": [
    "train_location = 'C:/Users/DELL PC/Desktop/Kaggle/Titanic/train.csv'\n",
    "test_location = 'C:/Users/DELL PC/Desktop/Kaggle/Titanic/test.csv'\n",
    "Original_test_location = 'C:/Users/DELL PC/Desktop/Kaggle/Titanic/testOriginal.csv'"
   ]
  },
  {
   "cell_type": "code",
   "execution_count": 212,
   "metadata": {},
   "outputs": [],
   "source": [
    "import numpy as np\n",
    "import pandas as pd\n",
    "from sklearn.cross_validation import cross_val_score\n",
    "from sklearn.grid_search import GridSearchCV\n",
    "from sklearn.grid_search import RandomizedSearchCV\n",
    "import matplotlib as plt"
   ]
  },
  {
   "cell_type": "code",
   "execution_count": 213,
   "metadata": {
    "collapsed": true
   },
   "outputs": [],
   "source": [
    "trainData = pd.read_csv(train_location)\n",
    "# dropping any row where age is nan because it is a huge factor\n",
    "trainData = trainData.dropna(how='any',axis=0) \n",
    "X_train = trainData.iloc[:,:7].values\n",
    "Y_train = trainData.iloc[:,7].values"
   ]
  },
  {
   "cell_type": "code",
   "execution_count": null,
   "metadata": {
    "collapsed": true
   },
   "outputs": [],
   "source": [
    "# You are passing a target array of shape (712, 1) while using as loss `categorical_crossentropy`. `categorical_crossentropy` \n",
    "# expects targets to be binary matrices (1s and 0s) of shape (samples, classes). If your targets are integer classes, you \n",
    "# can convert them to the expected format via: ie convert 1 and 0 to [1, 0] and [0, 1] respectively.\n",
    "\n",
    "from keras.utils import to_categorical\n",
    "Y_train = to_categorical(Y_train)"
   ]
  },
  {
   "cell_type": "code",
   "execution_count": 214,
   "metadata": {
    "collapsed": true
   },
   "outputs": [],
   "source": [
    "testData = pd.read_csv(test_location)\n",
    "X_test = testData.iloc[:,:7].values"
   ]
  },
  {
   "cell_type": "code",
   "execution_count": 215,
   "metadata": {},
   "outputs": [
    {
     "data": {
      "text/plain": [
       "(712, 8)"
      ]
     },
     "execution_count": 215,
     "metadata": {},
     "output_type": "execute_result"
    }
   ],
   "source": [
    "trainData.shape"
   ]
  },
  {
   "cell_type": "code",
   "execution_count": 216,
   "metadata": {},
   "outputs": [
    {
     "data": {
      "text/plain": [
       "(418, 7)"
      ]
     },
     "execution_count": 216,
     "metadata": {},
     "output_type": "execute_result"
    }
   ],
   "source": [
    "testData.shape"
   ]
  },
  {
   "cell_type": "code",
   "execution_count": 217,
   "metadata": {},
   "outputs": [],
   "source": [
    "trainData;"
   ]
  },
  {
   "cell_type": "code",
   "execution_count": 218,
   "metadata": {
    "collapsed": true
   },
   "outputs": [],
   "source": [
    "# dont drop test values as it is required to submit 418 rows of predictions\n",
    "from sklearn.preprocessing import Imputer\n",
    "imputer = Imputer(missing_values='NaN', strategy='mean', axis=0)\n",
    "testImputer = imputer.fit(X_test[:,:])\n",
    "X_test[:,:] = testImputer.transform(X_test[:,:])"
   ]
  },
  {
   "cell_type": "code",
   "execution_count": 219,
   "metadata": {},
   "outputs": [
    {
     "data": {
      "text/plain": [
       "array([[ 3.    ,  0.    , 22.    , ...,  0.    ,  7.25  ,  1.    ],\n",
       "       [ 1.    ,  1.    , 38.    , ...,  0.    , 71.2833,  0.    ],\n",
       "       [ 3.    ,  1.    , 26.    , ...,  0.    ,  7.925 ,  1.    ],\n",
       "       ...,\n",
       "       [ 1.    ,  1.    , 19.    , ...,  0.    , 30.    ,  1.    ],\n",
       "       [ 1.    ,  0.    , 26.    , ...,  0.    , 30.    ,  0.    ],\n",
       "       [ 3.    ,  0.    , 32.    , ...,  0.    ,  7.75  ,  2.    ]])"
      ]
     },
     "execution_count": 219,
     "metadata": {},
     "output_type": "execute_result"
    }
   ],
   "source": [
    "X_train"
   ]
  },
  {
   "cell_type": "code",
   "execution_count": 220,
   "metadata": {},
   "outputs": [],
   "source": [
    "# scaling \n",
    "from sklearn.preprocessing import MinMaxScaler\n",
    "scaler = MinMaxScaler(feature_range=(0, 1), copy=True)\n",
    "X_train = scaler.fit_transform(X_train)\n",
    "X_test = scaler.fit_transform(X_test)"
   ]
  },
  {
   "cell_type": "code",
   "execution_count": 221,
   "metadata": {},
   "outputs": [
    {
     "data": {
      "text/plain": [
       "(712, 7)"
      ]
     },
     "execution_count": 221,
     "metadata": {},
     "output_type": "execute_result"
    }
   ],
   "source": [
    "X_train.shape"
   ]
  },
  {
   "cell_type": "code",
   "execution_count": 222,
   "metadata": {},
   "outputs": [
    {
     "data": {
      "text/plain": [
       "dtype('float64')"
      ]
     },
     "execution_count": 222,
     "metadata": {},
     "output_type": "execute_result"
    }
   ],
   "source": [
    "X_train.dtype"
   ]
  },
  {
   "cell_type": "markdown",
   "metadata": {},
   "source": [
    "# Building ANN"
   ]
  },
  {
   "cell_type": "code",
   "execution_count": 366,
   "metadata": {
    "collapsed": true
   },
   "outputs": [],
   "source": [
    "import keras\n",
    "from keras import layers\n",
    "from keras import models\n",
    "from keras import optimizers"
   ]
  },
  {
   "cell_type": "code",
   "execution_count": 367,
   "metadata": {
    "collapsed": true
   },
   "outputs": [],
   "source": [
    "model = models.Sequential()"
   ]
  },
  {
   "cell_type": "code",
   "execution_count": 368,
   "metadata": {},
   "outputs": [],
   "source": [
    "model.add(layers.Dense(4, input_shape=(7,), activation='relu'))\n",
    "# the model now takes input of dimensions (*,7)\n",
    "model.add(layers.Dense(8, activation='relu'))\n",
    "model.add(layers.Dense(16, activation='relu'))\n",
    "model.add(layers.Dense(2, activation='softmax'))"
   ]
  },
  {
   "cell_type": "code",
   "execution_count": 369,
   "metadata": {},
   "outputs": [
    {
     "name": "stdout",
     "output_type": "stream",
     "text": [
      "_________________________________________________________________\n",
      "Layer (type)                 Output Shape              Param #   \n",
      "=================================================================\n",
      "dense_106 (Dense)            (None, 4)                 32        \n",
      "_________________________________________________________________\n",
      "dense_107 (Dense)            (None, 8)                 40        \n",
      "_________________________________________________________________\n",
      "dense_108 (Dense)            (None, 16)                144       \n",
      "_________________________________________________________________\n",
      "dense_109 (Dense)            (None, 2)                 34        \n",
      "=================================================================\n",
      "Total params: 250\n",
      "Trainable params: 250\n",
      "Non-trainable params: 0\n",
      "_________________________________________________________________\n"
     ]
    }
   ],
   "source": [
    "model.summary()"
   ]
  },
  {
   "cell_type": "code",
   "execution_count": 378,
   "metadata": {},
   "outputs": [],
   "source": [
    "model.compile(loss='categorical_crossentropy', optimizer='adam', metrics=['accuracy'])"
   ]
  },
  {
   "cell_type": "code",
   "execution_count": 379,
   "metadata": {},
   "outputs": [],
   "source": [
    "Y_train;"
   ]
  },
  {
   "cell_type": "code",
   "execution_count": 380,
   "metadata": {},
   "outputs": [
    {
     "name": "stdout",
     "output_type": "stream",
     "text": [
      "Train on 640 samples, validate on 72 samples\n",
      "Epoch 1/75\n",
      " - 1s - loss: 0.3923 - acc: 0.8391 - val_loss: 0.3737 - val_acc: 0.8194\n",
      "Epoch 2/75\n",
      " - 0s - loss: 0.3886 - acc: 0.8391 - val_loss: 0.3796 - val_acc: 0.7917\n",
      "Epoch 3/75\n",
      " - 0s - loss: 0.3885 - acc: 0.8391 - val_loss: 0.3772 - val_acc: 0.8056\n",
      "Epoch 4/75\n",
      " - 0s - loss: 0.3879 - acc: 0.8375 - val_loss: 0.3764 - val_acc: 0.7917\n",
      "Epoch 5/75\n",
      " - 0s - loss: 0.3875 - acc: 0.8422 - val_loss: 0.3756 - val_acc: 0.8056\n",
      "Epoch 6/75\n",
      " - 0s - loss: 0.3881 - acc: 0.8438 - val_loss: 0.3752 - val_acc: 0.7778\n",
      "Epoch 7/75\n",
      " - 0s - loss: 0.3879 - acc: 0.8391 - val_loss: 0.3765 - val_acc: 0.7917\n",
      "Epoch 8/75\n",
      " - 0s - loss: 0.3869 - acc: 0.8406 - val_loss: 0.3765 - val_acc: 0.7917\n",
      "Epoch 9/75\n",
      " - 0s - loss: 0.3867 - acc: 0.8391 - val_loss: 0.3745 - val_acc: 0.7917\n",
      "Epoch 10/75\n",
      " - 0s - loss: 0.3881 - acc: 0.8391 - val_loss: 0.3776 - val_acc: 0.7917\n",
      "Epoch 11/75\n",
      " - 0s - loss: 0.3861 - acc: 0.8406 - val_loss: 0.3759 - val_acc: 0.7917\n",
      "Epoch 12/75\n",
      " - 0s - loss: 0.3867 - acc: 0.8438 - val_loss: 0.3779 - val_acc: 0.7917\n",
      "Epoch 13/75\n",
      " - 0s - loss: 0.3864 - acc: 0.8422 - val_loss: 0.3756 - val_acc: 0.7778\n",
      "Epoch 14/75\n",
      " - 0s - loss: 0.3868 - acc: 0.8422 - val_loss: 0.3801 - val_acc: 0.7917\n",
      "Epoch 15/75\n",
      " - 0s - loss: 0.3861 - acc: 0.8406 - val_loss: 0.3757 - val_acc: 0.7917\n",
      "Epoch 16/75\n",
      " - 0s - loss: 0.3867 - acc: 0.8359 - val_loss: 0.3773 - val_acc: 0.7917\n",
      "Epoch 17/75\n",
      " - 0s - loss: 0.3869 - acc: 0.8391 - val_loss: 0.3797 - val_acc: 0.7917\n",
      "Epoch 18/75\n",
      " - 0s - loss: 0.3853 - acc: 0.8438 - val_loss: 0.3772 - val_acc: 0.7917\n",
      "Epoch 19/75\n",
      " - 0s - loss: 0.3868 - acc: 0.8406 - val_loss: 0.3782 - val_acc: 0.7917\n",
      "Epoch 20/75\n",
      " - 0s - loss: 0.3857 - acc: 0.8406 - val_loss: 0.3754 - val_acc: 0.7778\n",
      "Epoch 21/75\n",
      " - 0s - loss: 0.3860 - acc: 0.8406 - val_loss: 0.3770 - val_acc: 0.7917\n",
      "Epoch 22/75\n",
      " - 0s - loss: 0.3856 - acc: 0.8438 - val_loss: 0.3760 - val_acc: 0.7917\n",
      "Epoch 23/75\n",
      " - 0s - loss: 0.3860 - acc: 0.8438 - val_loss: 0.3770 - val_acc: 0.7917\n",
      "Epoch 24/75\n",
      " - 0s - loss: 0.3862 - acc: 0.8422 - val_loss: 0.3779 - val_acc: 0.7917\n",
      "Epoch 25/75\n",
      " - 0s - loss: 0.3854 - acc: 0.8406 - val_loss: 0.3780 - val_acc: 0.7917\n",
      "Epoch 26/75\n",
      " - 0s - loss: 0.3857 - acc: 0.8406 - val_loss: 0.3748 - val_acc: 0.7778\n",
      "Epoch 27/75\n",
      " - 0s - loss: 0.3850 - acc: 0.8406 - val_loss: 0.3799 - val_acc: 0.7917\n",
      "Epoch 28/75\n",
      " - 0s - loss: 0.3852 - acc: 0.8438 - val_loss: 0.3762 - val_acc: 0.7917\n",
      "Epoch 29/75\n",
      " - 0s - loss: 0.3851 - acc: 0.8422 - val_loss: 0.3772 - val_acc: 0.7917\n",
      "Epoch 30/75\n",
      " - 0s - loss: 0.3850 - acc: 0.8422 - val_loss: 0.3773 - val_acc: 0.7917\n",
      "Epoch 31/75\n",
      " - 0s - loss: 0.3854 - acc: 0.8422 - val_loss: 0.3806 - val_acc: 0.7917\n",
      "Epoch 32/75\n",
      " - 0s - loss: 0.3852 - acc: 0.8438 - val_loss: 0.3781 - val_acc: 0.7917\n",
      "Epoch 33/75\n",
      " - 0s - loss: 0.3848 - acc: 0.8438 - val_loss: 0.3763 - val_acc: 0.7917\n",
      "Epoch 34/75\n",
      " - 0s - loss: 0.3848 - acc: 0.8438 - val_loss: 0.3801 - val_acc: 0.7917\n",
      "Epoch 35/75\n",
      " - 0s - loss: 0.3852 - acc: 0.8453 - val_loss: 0.3758 - val_acc: 0.7778\n",
      "Epoch 36/75\n",
      " - 0s - loss: 0.3852 - acc: 0.8422 - val_loss: 0.3775 - val_acc: 0.7917\n",
      "Epoch 37/75\n",
      " - 0s - loss: 0.3843 - acc: 0.8422 - val_loss: 0.3773 - val_acc: 0.7917\n",
      "Epoch 38/75\n",
      " - 0s - loss: 0.3846 - acc: 0.8438 - val_loss: 0.3781 - val_acc: 0.7917\n",
      "Epoch 39/75\n",
      " - 0s - loss: 0.3849 - acc: 0.8422 - val_loss: 0.3757 - val_acc: 0.7917\n",
      "Epoch 40/75\n",
      " - 0s - loss: 0.3849 - acc: 0.8438 - val_loss: 0.3786 - val_acc: 0.7917\n",
      "Epoch 41/75\n",
      " - 0s - loss: 0.3847 - acc: 0.8422 - val_loss: 0.3775 - val_acc: 0.7917\n",
      "Epoch 42/75\n",
      " - 0s - loss: 0.3846 - acc: 0.8453 - val_loss: 0.3787 - val_acc: 0.7917\n",
      "Epoch 43/75\n",
      " - 0s - loss: 0.3842 - acc: 0.8453 - val_loss: 0.3762 - val_acc: 0.7778\n",
      "Epoch 44/75\n",
      " - 0s - loss: 0.3843 - acc: 0.8438 - val_loss: 0.3752 - val_acc: 0.7917\n",
      "Epoch 45/75\n",
      " - 0s - loss: 0.3835 - acc: 0.8484 - val_loss: 0.3780 - val_acc: 0.7917\n",
      "Epoch 46/75\n",
      " - 0s - loss: 0.3851 - acc: 0.8406 - val_loss: 0.3752 - val_acc: 0.7639\n",
      "Epoch 47/75\n",
      " - 0s - loss: 0.3846 - acc: 0.8500 - val_loss: 0.3798 - val_acc: 0.7917\n",
      "Epoch 48/75\n",
      " - 0s - loss: 0.3840 - acc: 0.8438 - val_loss: 0.3759 - val_acc: 0.7778\n",
      "Epoch 49/75\n",
      " - 0s - loss: 0.3836 - acc: 0.8391 - val_loss: 0.3772 - val_acc: 0.7917\n",
      "Epoch 50/75\n",
      " - 0s - loss: 0.3848 - acc: 0.8406 - val_loss: 0.3774 - val_acc: 0.7778\n",
      "Epoch 51/75\n",
      " - 0s - loss: 0.3855 - acc: 0.8422 - val_loss: 0.3746 - val_acc: 0.7917\n",
      "Epoch 52/75\n",
      " - 0s - loss: 0.3843 - acc: 0.8453 - val_loss: 0.3797 - val_acc: 0.7917\n",
      "Epoch 53/75\n",
      " - 0s - loss: 0.3837 - acc: 0.8453 - val_loss: 0.3775 - val_acc: 0.7917\n",
      "Epoch 54/75\n",
      " - 0s - loss: 0.3835 - acc: 0.8406 - val_loss: 0.3767 - val_acc: 0.7917\n",
      "Epoch 55/75\n",
      " - 0s - loss: 0.3835 - acc: 0.8406 - val_loss: 0.3760 - val_acc: 0.7778\n",
      "Epoch 56/75\n",
      " - 0s - loss: 0.3836 - acc: 0.8469 - val_loss: 0.3773 - val_acc: 0.7917\n",
      "Epoch 57/75\n",
      " - 0s - loss: 0.3837 - acc: 0.8453 - val_loss: 0.3751 - val_acc: 0.7917\n",
      "Epoch 58/75\n",
      " - 0s - loss: 0.3838 - acc: 0.8406 - val_loss: 0.3745 - val_acc: 0.7917\n",
      "Epoch 59/75\n",
      " - 0s - loss: 0.3837 - acc: 0.8438 - val_loss: 0.3790 - val_acc: 0.7917\n",
      "Epoch 60/75\n",
      " - 0s - loss: 0.3828 - acc: 0.8453 - val_loss: 0.3766 - val_acc: 0.7917\n",
      "Epoch 61/75\n",
      " - 0s - loss: 0.3843 - acc: 0.8406 - val_loss: 0.3742 - val_acc: 0.7917\n",
      "Epoch 62/75\n",
      " - 0s - loss: 0.3826 - acc: 0.8422 - val_loss: 0.3771 - val_acc: 0.7917\n",
      "Epoch 63/75\n",
      " - 0s - loss: 0.3836 - acc: 0.8438 - val_loss: 0.3767 - val_acc: 0.7778\n",
      "Epoch 64/75\n",
      " - 0s - loss: 0.3836 - acc: 0.8469 - val_loss: 0.3764 - val_acc: 0.7917\n",
      "Epoch 65/75\n"
     ]
    },
    {
     "ename": "KeyboardInterrupt",
     "evalue": "",
     "output_type": "error",
     "traceback": [
      "\u001b[1;31m---------------------------------------------------------------------------\u001b[0m",
      "\u001b[1;31mKeyboardInterrupt\u001b[0m                         Traceback (most recent call last)",
      "\u001b[1;32m<ipython-input-380-0d5fa8ef34fe>\u001b[0m in \u001b[0;36m<module>\u001b[1;34m()\u001b[0m\n\u001b[1;32m----> 1\u001b[1;33m \u001b[0mmodel\u001b[0m\u001b[1;33m.\u001b[0m\u001b[0mfit\u001b[0m\u001b[1;33m(\u001b[0m\u001b[0mx\u001b[0m\u001b[1;33m=\u001b[0m\u001b[0mX_train\u001b[0m\u001b[1;33m,\u001b[0m \u001b[0my\u001b[0m\u001b[1;33m=\u001b[0m\u001b[0mY_train\u001b[0m\u001b[1;33m,\u001b[0m \u001b[0mepochs\u001b[0m\u001b[1;33m=\u001b[0m\u001b[1;36m75\u001b[0m\u001b[1;33m,\u001b[0m \u001b[0mbatch_size\u001b[0m\u001b[1;33m=\u001b[0m\u001b[1;32mNone\u001b[0m\u001b[1;33m,\u001b[0m \u001b[0mverbose\u001b[0m\u001b[1;33m=\u001b[0m\u001b[1;36m2\u001b[0m\u001b[1;33m,\u001b[0m \u001b[0mvalidation_split\u001b[0m\u001b[1;33m=\u001b[0m\u001b[1;36m0.1\u001b[0m\u001b[1;33m,\u001b[0m \u001b[0mshuffle\u001b[0m\u001b[1;33m=\u001b[0m\u001b[1;32mTrue\u001b[0m\u001b[1;33m)\u001b[0m\u001b[1;33m\u001b[0m\u001b[0m\n\u001b[0m",
      "\u001b[1;32mC:\\Users\\DELL PC\\Anaconda3\\lib\\site-packages\\keras\\engine\\training.py\u001b[0m in \u001b[0;36mfit\u001b[1;34m(self, x, y, batch_size, epochs, verbose, callbacks, validation_split, validation_data, shuffle, class_weight, sample_weight, initial_epoch, steps_per_epoch, validation_steps, **kwargs)\u001b[0m\n\u001b[0;32m   1035\u001b[0m                                         \u001b[0minitial_epoch\u001b[0m\u001b[1;33m=\u001b[0m\u001b[0minitial_epoch\u001b[0m\u001b[1;33m,\u001b[0m\u001b[1;33m\u001b[0m\u001b[0m\n\u001b[0;32m   1036\u001b[0m                                         \u001b[0msteps_per_epoch\u001b[0m\u001b[1;33m=\u001b[0m\u001b[0msteps_per_epoch\u001b[0m\u001b[1;33m,\u001b[0m\u001b[1;33m\u001b[0m\u001b[0m\n\u001b[1;32m-> 1037\u001b[1;33m                                         validation_steps=validation_steps)\n\u001b[0m\u001b[0;32m   1038\u001b[0m \u001b[1;33m\u001b[0m\u001b[0m\n\u001b[0;32m   1039\u001b[0m     def evaluate(self, x=None, y=None,\n",
      "\u001b[1;32mC:\\Users\\DELL PC\\Anaconda3\\lib\\site-packages\\keras\\engine\\training_arrays.py\u001b[0m in \u001b[0;36mfit_loop\u001b[1;34m(model, f, ins, out_labels, batch_size, epochs, verbose, callbacks, val_f, val_ins, shuffle, callback_metrics, initial_epoch, steps_per_epoch, validation_steps)\u001b[0m\n\u001b[0;32m    185\u001b[0m                             ins[:-1], batch_ids) + [ins[-1]]\n\u001b[0;32m    186\u001b[0m                     \u001b[1;32melse\u001b[0m\u001b[1;33m:\u001b[0m\u001b[1;33m\u001b[0m\u001b[0m\n\u001b[1;32m--> 187\u001b[1;33m                         \u001b[0mins_batch\u001b[0m \u001b[1;33m=\u001b[0m \u001b[0mslice_arrays\u001b[0m\u001b[1;33m(\u001b[0m\u001b[0mins\u001b[0m\u001b[1;33m,\u001b[0m \u001b[0mbatch_ids\u001b[0m\u001b[1;33m)\u001b[0m\u001b[1;33m\u001b[0m\u001b[0m\n\u001b[0m\u001b[0;32m    188\u001b[0m                 \u001b[1;32mexcept\u001b[0m \u001b[0mTypeError\u001b[0m\u001b[1;33m:\u001b[0m\u001b[1;33m\u001b[0m\u001b[0m\n\u001b[0;32m    189\u001b[0m                     raise TypeError('TypeError while preparing batch. '\n",
      "\u001b[1;32mC:\\Users\\DELL PC\\Anaconda3\\lib\\site-packages\\keras\\utils\\generic_utils.py\u001b[0m in \u001b[0;36mslice_arrays\u001b[1;34m(arrays, start, stop)\u001b[0m\n\u001b[0;32m    521\u001b[0m             \u001b[1;32mif\u001b[0m \u001b[0mhasattr\u001b[0m\u001b[1;33m(\u001b[0m\u001b[0mstart\u001b[0m\u001b[1;33m,\u001b[0m \u001b[1;34m'shape'\u001b[0m\u001b[1;33m)\u001b[0m\u001b[1;33m:\u001b[0m\u001b[1;33m\u001b[0m\u001b[0m\n\u001b[0;32m    522\u001b[0m                 \u001b[0mstart\u001b[0m \u001b[1;33m=\u001b[0m \u001b[0mstart\u001b[0m\u001b[1;33m.\u001b[0m\u001b[0mtolist\u001b[0m\u001b[1;33m(\u001b[0m\u001b[1;33m)\u001b[0m\u001b[1;33m\u001b[0m\u001b[0m\n\u001b[1;32m--> 523\u001b[1;33m             \u001b[1;32mreturn\u001b[0m \u001b[1;33m[\u001b[0m\u001b[1;32mNone\u001b[0m \u001b[1;32mif\u001b[0m \u001b[0mx\u001b[0m \u001b[1;32mis\u001b[0m \u001b[1;32mNone\u001b[0m \u001b[1;32melse\u001b[0m \u001b[0mx\u001b[0m\u001b[1;33m[\u001b[0m\u001b[0mstart\u001b[0m\u001b[1;33m]\u001b[0m \u001b[1;32mfor\u001b[0m \u001b[0mx\u001b[0m \u001b[1;32min\u001b[0m \u001b[0marrays\u001b[0m\u001b[1;33m]\u001b[0m\u001b[1;33m\u001b[0m\u001b[0m\n\u001b[0m\u001b[0;32m    524\u001b[0m         \u001b[1;32melse\u001b[0m\u001b[1;33m:\u001b[0m\u001b[1;33m\u001b[0m\u001b[0m\n\u001b[0;32m    525\u001b[0m             \u001b[1;32mreturn\u001b[0m \u001b[1;33m[\u001b[0m\u001b[1;32mNone\u001b[0m \u001b[1;32mif\u001b[0m \u001b[0mx\u001b[0m \u001b[1;32mis\u001b[0m \u001b[1;32mNone\u001b[0m \u001b[1;32melse\u001b[0m \u001b[0mx\u001b[0m\u001b[1;33m[\u001b[0m\u001b[0mstart\u001b[0m\u001b[1;33m:\u001b[0m\u001b[0mstop\u001b[0m\u001b[1;33m]\u001b[0m \u001b[1;32mfor\u001b[0m \u001b[0mx\u001b[0m \u001b[1;32min\u001b[0m \u001b[0marrays\u001b[0m\u001b[1;33m]\u001b[0m\u001b[1;33m\u001b[0m\u001b[0m\n",
      "\u001b[1;32mC:\\Users\\DELL PC\\Anaconda3\\lib\\site-packages\\keras\\utils\\generic_utils.py\u001b[0m in \u001b[0;36m<listcomp>\u001b[1;34m(.0)\u001b[0m\n\u001b[0;32m    521\u001b[0m             \u001b[1;32mif\u001b[0m \u001b[0mhasattr\u001b[0m\u001b[1;33m(\u001b[0m\u001b[0mstart\u001b[0m\u001b[1;33m,\u001b[0m \u001b[1;34m'shape'\u001b[0m\u001b[1;33m)\u001b[0m\u001b[1;33m:\u001b[0m\u001b[1;33m\u001b[0m\u001b[0m\n\u001b[0;32m    522\u001b[0m                 \u001b[0mstart\u001b[0m \u001b[1;33m=\u001b[0m \u001b[0mstart\u001b[0m\u001b[1;33m.\u001b[0m\u001b[0mtolist\u001b[0m\u001b[1;33m(\u001b[0m\u001b[1;33m)\u001b[0m\u001b[1;33m\u001b[0m\u001b[0m\n\u001b[1;32m--> 523\u001b[1;33m             \u001b[1;32mreturn\u001b[0m \u001b[1;33m[\u001b[0m\u001b[1;32mNone\u001b[0m \u001b[1;32mif\u001b[0m \u001b[0mx\u001b[0m \u001b[1;32mis\u001b[0m \u001b[1;32mNone\u001b[0m \u001b[1;32melse\u001b[0m \u001b[0mx\u001b[0m\u001b[1;33m[\u001b[0m\u001b[0mstart\u001b[0m\u001b[1;33m]\u001b[0m \u001b[1;32mfor\u001b[0m \u001b[0mx\u001b[0m \u001b[1;32min\u001b[0m \u001b[0marrays\u001b[0m\u001b[1;33m]\u001b[0m\u001b[1;33m\u001b[0m\u001b[0m\n\u001b[0m\u001b[0;32m    524\u001b[0m         \u001b[1;32melse\u001b[0m\u001b[1;33m:\u001b[0m\u001b[1;33m\u001b[0m\u001b[0m\n\u001b[0;32m    525\u001b[0m             \u001b[1;32mreturn\u001b[0m \u001b[1;33m[\u001b[0m\u001b[1;32mNone\u001b[0m \u001b[1;32mif\u001b[0m \u001b[0mx\u001b[0m \u001b[1;32mis\u001b[0m \u001b[1;32mNone\u001b[0m \u001b[1;32melse\u001b[0m \u001b[0mx\u001b[0m\u001b[1;33m[\u001b[0m\u001b[0mstart\u001b[0m\u001b[1;33m:\u001b[0m\u001b[0mstop\u001b[0m\u001b[1;33m]\u001b[0m \u001b[1;32mfor\u001b[0m \u001b[0mx\u001b[0m \u001b[1;32min\u001b[0m \u001b[0marrays\u001b[0m\u001b[1;33m]\u001b[0m\u001b[1;33m\u001b[0m\u001b[0m\n",
      "\u001b[1;31mKeyboardInterrupt\u001b[0m: "
     ]
    }
   ],
   "source": [
    "model.fit(x=X_train, y=Y_train, epochs=75, batch_size=None, verbose=2, validation_split=0.1, shuffle=True)"
   ]
  },
  {
   "cell_type": "code",
   "execution_count": 373,
   "metadata": {},
   "outputs": [
    {
     "data": {
      "text/plain": [
       "(418,)"
      ]
     },
     "execution_count": 373,
     "metadata": {},
     "output_type": "execute_result"
    }
   ],
   "source": [
    "predictions = model.predict_classes(X_test)\n",
    "predictions.shape"
   ]
  },
  {
   "cell_type": "code",
   "execution_count": 374,
   "metadata": {
    "collapsed": true
   },
   "outputs": [],
   "source": [
    "testDataOriginal = pd.read_csv(Original_test_location)\n",
    "testDataOriginal[\"PassengerId\"];"
   ]
  },
  {
   "cell_type": "code",
   "execution_count": 375,
   "metadata": {
    "collapsed": true
   },
   "outputs": [],
   "source": [
    "results = pd.DataFrame({\n",
    "    \"PassengerId\": testDataOriginal[\"PassengerId\"],\n",
    "    \"Survived\": predictions})"
   ]
  },
  {
   "cell_type": "code",
   "execution_count": 376,
   "metadata": {},
   "outputs": [],
   "source": [
    "results.to_csv('titanic_ANN4.csv', index=False)"
   ]
  },
  {
   "cell_type": "code",
   "execution_count": 381,
   "metadata": {
    "collapsed": true
   },
   "outputs": [],
   "source": [
    "model.save('Model.h5',overwrite=True)"
   ]
  },
  {
   "cell_type": "markdown",
   "metadata": {},
   "source": [
    "do a train test split and then test on validation set"
   ]
  },
  {
   "cell_type": "code",
   "execution_count": null,
   "metadata": {
    "collapsed": true
   },
   "outputs": [],
   "source": []
  },
  {
   "cell_type": "code",
   "execution_count": null,
   "metadata": {
    "collapsed": true
   },
   "outputs": [],
   "source": []
  },
  {
   "cell_type": "code",
   "execution_count": null,
   "metadata": {
    "collapsed": true
   },
   "outputs": [],
   "source": []
  },
  {
   "cell_type": "code",
   "execution_count": null,
   "metadata": {
    "collapsed": true
   },
   "outputs": [],
   "source": []
  },
  {
   "cell_type": "code",
   "execution_count": null,
   "metadata": {
    "collapsed": true
   },
   "outputs": [],
   "source": []
  }
 ],
 "metadata": {
  "kernelspec": {
   "display_name": "Python 3",
   "language": "python",
   "name": "python3"
  },
  "language_info": {
   "codemirror_mode": {
    "name": "ipython",
    "version": 3
   },
   "file_extension": ".py",
   "mimetype": "text/x-python",
   "name": "python",
   "nbconvert_exporter": "python",
   "pygments_lexer": "ipython3",
   "version": "3.6.1"
  }
 },
 "nbformat": 4,
 "nbformat_minor": 2
}
