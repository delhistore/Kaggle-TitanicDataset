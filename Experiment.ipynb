{
 "cells": [
  {
   "cell_type": "markdown",
   "metadata": {
    "collapsed": true
   },
   "source": [
    "# Predicting Cat scores based on mock test data"
   ]
  },
  {
   "cell_type": "markdown",
   "metadata": {
    "collapsed": true
   },
   "source": [
    "<b> Dataset Description </b> \n",
    "<br><b>USER_ID</b> :  User id\n",
    "<br><b>CAT_PERC</b> : Final CAT Percentile (Actual ) - this is what is to be predicted\n",
    "<br><b>QA_PERC</b>              : Final CAT Quant percentile\n",
    "<br><b>LRDI_PERC</b>           : Final CAT LRDI  percentile\n",
    "<br><b>VA_PERC</b>                : Final CAT verbal percentile\n",
    "<br><b>PREV_CAT_PERC</b>    : Last years CAT scor, 0= not taken cat or unknown\n",
    "<br><b>PREV_QA_PERC</b>      : Last years CAT QA percentile\n",
    "<br><b>PREV_LRDI_PERC</b>            : Last years CAT DI percentile\n",
    "<br><b>PREV_VA_PERC</b>              : Last years CAT verbal percentile\n",
    "<br><b>NMOCKS</b>              : No of Mocks taken in 2017\n",
    "<br><b>BEST_MOCK</b>         : Highest percentile achieved\n",
    "<br><b>TOP3_MOCK</b>          : Best of 3 percentile\n",
    "<br><b>AVG_MOCK</b>             : All mock average percentile\n",
    "<br><b>BEST_MOCK_QA</b>       -- same for Quant\n",
    "<br><b>TOP3_MOCK_QA</b>          -- same for Quant\n",
    "<br><b>AVG_MOCK_QA</b>               -- same for Quant\n",
    "<br><b>BEST_MOCK_DI</b>            -- same for DI\n",
    "<br><b>TOP3_MOCK_DI</b>             -- same for DI\n",
    "<br><b>AVG_MOCK_DI</b>              -- same for DI\n",
    "<br><b>BEST_MOCK_VA</b>          -- same for VA\n",
    "<br><b>TOP3_MOCK_VA</b>           -- same for VA\n",
    "<br><b>AVG_MOCK_VA</b>             -- same for VA\n",
    "<br><b>PROC_PERC</b>                Avg Percentile of all PROCTORED tests\n",
    "<br><b>PROC_QA</b>                  Avg Percentile in QA section of all PROCTORED tests\n",
    "<br><b>PROC_DI</b>                  Avg Percentile in DI of all PROCTORED tests\n",
    "<br><b>PROC_VA</b>                 Avg Percentile in VA of all PROCTORED tests\n",
    "<br><b>DIFF_ATT</b>                 Percentage of all difficult qs attempted\n",
    "<br><b>DIFF_ACC</b>                Accuracy of all difficult qs attempted\n",
    "<br><b>TOP5_MOCK</b>            Best of 5 Mocks - will be 0 if no of proc < 5\n",
    "<br><b>TOP8_MOCK</b>                Best of 8 Mocks - will be 0 if no of proc < 8\n",
    "<br><b> NPROCS</b>      : Number of Proctored tests"
   ]
  },
  {
   "cell_type": "markdown",
   "metadata": {},
   "source": [
    "## Parameters to be set"
   ]
  },
  {
   "cell_type": "code",
   "execution_count": 65,
   "metadata": {
    "collapsed": true
   },
   "outputs": [],
   "source": [
    "dataset_location = 'ml_trng_2017_2_3_overall.csv'\n",
    "\n",
    "# Maximum allowed Difference between average of top 3 mocks and final cat percentile\n",
    "# Total samples = 3513, for max_allowed_difference = 10 samples = 2000 and for 5 it is 1326\n",
    "max_allowed_difference = 10\n",
    "\n",
    "# If student has attempted less than min_NMOCKS_value then we will remove him/her from data because\n",
    "# he hasnt given enough mocks for us to predic his final CAT Percentile\n",
    "min_NMOCKS_value = 5"
   ]
  },
  {
   "cell_type": "code",
   "execution_count": 66,
   "metadata": {},
   "outputs": [],
   "source": [
    "# Restore all the stored variables \n",
    "%store -r"
   ]
  },
  {
   "cell_type": "code",
   "execution_count": null,
   "metadata": {
    "collapsed": true
   },
   "outputs": [],
   "source": []
  },
  {
   "cell_type": "markdown",
   "metadata": {
    "collapsed": true
   },
   "source": [
    "## Data preprocessing"
   ]
  },
  {
   "cell_type": "code",
   "execution_count": 67,
   "metadata": {
    "collapsed": true
   },
   "outputs": [],
   "source": [
    "import pandas as pd"
   ]
  },
  {
   "cell_type": "code",
   "execution_count": 68,
   "metadata": {
    "collapsed": true
   },
   "outputs": [],
   "source": [
    "data = pd.read_csv(dataset_location)"
   ]
  },
  {
   "cell_type": "code",
   "execution_count": 69,
   "metadata": {},
   "outputs": [
    {
     "data": {
      "text/plain": [
       "(3513, 15)"
      ]
     },
     "execution_count": 69,
     "metadata": {},
     "output_type": "execute_result"
    }
   ],
   "source": [
    "data.shape"
   ]
  },
  {
   "cell_type": "code",
   "execution_count": 70,
   "metadata": {},
   "outputs": [
    {
     "data": {
      "text/html": [
       "<div>\n",
       "<style>\n",
       "    .dataframe thead tr:only-child th {\n",
       "        text-align: right;\n",
       "    }\n",
       "\n",
       "    .dataframe thead th {\n",
       "        text-align: left;\n",
       "    }\n",
       "\n",
       "    .dataframe tbody tr th {\n",
       "        vertical-align: top;\n",
       "    }\n",
       "</style>\n",
       "<table border=\"1\" class=\"dataframe\">\n",
       "  <thead>\n",
       "    <tr style=\"text-align: right;\">\n",
       "      <th></th>\n",
       "      <th>USER_ID</th>\n",
       "      <th>CAT_PERC</th>\n",
       "      <th>PREV_CAT_PERC</th>\n",
       "      <th>NMOCKS</th>\n",
       "      <th>BEST_MOCK</th>\n",
       "      <th>TOP3_MOCK</th>\n",
       "      <th>AVG_MOCK</th>\n",
       "      <th>PROC_PERC</th>\n",
       "      <th>DIFF_ATT</th>\n",
       "      <th>DIFF_ACC</th>\n",
       "      <th>TOP5_MOCK</th>\n",
       "      <th>TOP8_MOCK</th>\n",
       "      <th>NPROCS</th>\n",
       "      <th>EASY_ATT</th>\n",
       "      <th>EASY_ACC</th>\n",
       "    </tr>\n",
       "  </thead>\n",
       "  <tbody>\n",
       "    <tr>\n",
       "      <th>0</th>\n",
       "      <td>2809628</td>\n",
       "      <td>81.53</td>\n",
       "      <td>NaN</td>\n",
       "      <td>19</td>\n",
       "      <td>86.32</td>\n",
       "      <td>78.76</td>\n",
       "      <td>49.75</td>\n",
       "      <td>56.37</td>\n",
       "      <td>0.52</td>\n",
       "      <td>0.13</td>\n",
       "      <td>74.49</td>\n",
       "      <td>68.98</td>\n",
       "      <td>9</td>\n",
       "      <td>0.55</td>\n",
       "      <td>0.36</td>\n",
       "    </tr>\n",
       "    <tr>\n",
       "      <th>1</th>\n",
       "      <td>2809643</td>\n",
       "      <td>90.30</td>\n",
       "      <td>70.0</td>\n",
       "      <td>16</td>\n",
       "      <td>88.00</td>\n",
       "      <td>82.52</td>\n",
       "      <td>69.58</td>\n",
       "      <td>67.96</td>\n",
       "      <td>0.41</td>\n",
       "      <td>0.16</td>\n",
       "      <td>80.85</td>\n",
       "      <td>79.24</td>\n",
       "      <td>13</td>\n",
       "      <td>0.57</td>\n",
       "      <td>0.45</td>\n",
       "    </tr>\n",
       "    <tr>\n",
       "      <th>2</th>\n",
       "      <td>2809688</td>\n",
       "      <td>90.53</td>\n",
       "      <td>82.0</td>\n",
       "      <td>18</td>\n",
       "      <td>96.51</td>\n",
       "      <td>93.42</td>\n",
       "      <td>81.08</td>\n",
       "      <td>83.48</td>\n",
       "      <td>0.58</td>\n",
       "      <td>0.21</td>\n",
       "      <td>91.35</td>\n",
       "      <td>88.83</td>\n",
       "      <td>6</td>\n",
       "      <td>0.67</td>\n",
       "      <td>0.51</td>\n",
       "    </tr>\n",
       "    <tr>\n",
       "      <th>3</th>\n",
       "      <td>2809701</td>\n",
       "      <td>98.66</td>\n",
       "      <td>87.0</td>\n",
       "      <td>20</td>\n",
       "      <td>95.53</td>\n",
       "      <td>93.43</td>\n",
       "      <td>74.50</td>\n",
       "      <td>77.59</td>\n",
       "      <td>0.46</td>\n",
       "      <td>0.19</td>\n",
       "      <td>89.31</td>\n",
       "      <td>85.10</td>\n",
       "      <td>15</td>\n",
       "      <td>0.58</td>\n",
       "      <td>0.45</td>\n",
       "    </tr>\n",
       "    <tr>\n",
       "      <th>4</th>\n",
       "      <td>2809732</td>\n",
       "      <td>72.96</td>\n",
       "      <td>70.0</td>\n",
       "      <td>7</td>\n",
       "      <td>44.33</td>\n",
       "      <td>41.51</td>\n",
       "      <td>30.52</td>\n",
       "      <td>0.00</td>\n",
       "      <td>0.41</td>\n",
       "      <td>0.12</td>\n",
       "      <td>36.10</td>\n",
       "      <td>NaN</td>\n",
       "      <td>0</td>\n",
       "      <td>0.43</td>\n",
       "      <td>0.25</td>\n",
       "    </tr>\n",
       "  </tbody>\n",
       "</table>\n",
       "</div>"
      ],
      "text/plain": [
       "   USER_ID  CAT_PERC  PREV_CAT_PERC  NMOCKS  BEST_MOCK  TOP3_MOCK  AVG_MOCK  \\\n",
       "0  2809628     81.53            NaN      19      86.32      78.76     49.75   \n",
       "1  2809643     90.30           70.0      16      88.00      82.52     69.58   \n",
       "2  2809688     90.53           82.0      18      96.51      93.42     81.08   \n",
       "3  2809701     98.66           87.0      20      95.53      93.43     74.50   \n",
       "4  2809732     72.96           70.0       7      44.33      41.51     30.52   \n",
       "\n",
       "   PROC_PERC  DIFF_ATT  DIFF_ACC  TOP5_MOCK  TOP8_MOCK  NPROCS  EASY_ATT  \\\n",
       "0      56.37      0.52      0.13      74.49      68.98       9      0.55   \n",
       "1      67.96      0.41      0.16      80.85      79.24      13      0.57   \n",
       "2      83.48      0.58      0.21      91.35      88.83       6      0.67   \n",
       "3      77.59      0.46      0.19      89.31      85.10      15      0.58   \n",
       "4       0.00      0.41      0.12      36.10        NaN       0      0.43   \n",
       "\n",
       "   EASY_ACC  \n",
       "0      0.36  \n",
       "1      0.45  \n",
       "2      0.51  \n",
       "3      0.45  \n",
       "4      0.25  "
      ]
     },
     "execution_count": 70,
     "metadata": {},
     "output_type": "execute_result"
    }
   ],
   "source": [
    "data.head()"
   ]
  },
  {
   "cell_type": "code",
   "execution_count": 71,
   "metadata": {
    "collapsed": true
   },
   "outputs": [],
   "source": [
    "def mod_difference(a,b):\n",
    "    if(a>b):\n",
    "        return (a-b)\n",
    "    else:\n",
    "        return (b-a)"
   ]
  },
  {
   "cell_type": "markdown",
   "metadata": {},
   "source": [
    "Dropping those samples where difference between top 3 mocks and final cat percentile is more than 10."
   ]
  },
  {
   "cell_type": "code",
   "execution_count": 72,
   "metadata": {
    "collapsed": true
   },
   "outputs": [],
   "source": [
    "for index, row in data.iterrows():\n",
    "    if mod_difference(row['CAT_PERC'], row['TOP3_MOCK']) > max_allowed_difference:\n",
    "        data.drop(index, inplace=True)"
   ]
  },
  {
   "cell_type": "markdown",
   "metadata": {},
   "source": [
    "Dropping those samples where number of mocks attempted is less than 5 because the student has not given enough mocks for us to predict his percentile."
   ]
  },
  {
   "cell_type": "code",
   "execution_count": 73,
   "metadata": {},
   "outputs": [
    {
     "data": {
      "text/plain": [
       "(2000, 15)"
      ]
     },
     "execution_count": 73,
     "metadata": {},
     "output_type": "execute_result"
    }
   ],
   "source": [
    "data.shape"
   ]
  },
  {
   "cell_type": "code",
   "execution_count": 74,
   "metadata": {
    "collapsed": true
   },
   "outputs": [],
   "source": [
    "for index, row in data.iterrows():\n",
    "    if row['NMOCKS'] < min_NMOCKS_value:\n",
    "        data.drop(index, inplace=True)"
   ]
  },
  {
   "cell_type": "markdown",
   "metadata": {},
   "source": [
    "We will replace PREV_CAT_PERC with AVG_MOCK wherever its missing because correlation is 0.6996 and students average mock score would have been his/her previous year score. After replacement correlation of PREV_CAT_PERC with CAT_PERC increased to 0.87"
   ]
  },
  {
   "cell_type": "code",
   "execution_count": 75,
   "metadata": {},
   "outputs": [
    {
     "name": "stderr",
     "output_type": "stream",
     "text": [
      "C:\\Users\\DELL PC\\Anaconda3\\lib\\site-packages\\ipykernel_launcher.py:3: SettingWithCopyWarning: \n",
      "A value is trying to be set on a copy of a slice from a DataFrame\n",
      "\n",
      "See the caveats in the documentation: http://pandas.pydata.org/pandas-docs/stable/indexing.html#indexing-view-versus-copy\n",
      "  This is separate from the ipykernel package so we can avoid doing imports until\n"
     ]
    },
    {
     "name": "stdout",
     "output_type": "stream",
     "text": [
      "Wall time: 49.1 s\n"
     ]
    }
   ],
   "source": [
    "%%time\n",
    "for index, row in data.iterrows():\n",
    "    if pd.isnull(row['PREV_CAT_PERC']):\n",
    "        data['PREV_CAT_PERC'][index] = row['AVG_MOCK']"
   ]
  },
  {
   "cell_type": "code",
   "execution_count": 76,
   "metadata": {
    "collapsed": true
   },
   "outputs": [],
   "source": [
    "data['DIFF_ATTX100'] = data.DIFF_ATT * 100\n",
    "data['DIFF_ACCX100'] = data.DIFF_ACC * 100\n",
    "data['EASY_ATTX100'] = data.EASY_ATT * 100\n",
    "data['EASY_ACCX100'] = data.EASY_ACC * 100"
   ]
  },
  {
   "cell_type": "code",
   "execution_count": 77,
   "metadata": {},
   "outputs": [
    {
     "data": {
      "text/html": [
       "<div>\n",
       "<style>\n",
       "    .dataframe thead tr:only-child th {\n",
       "        text-align: right;\n",
       "    }\n",
       "\n",
       "    .dataframe thead th {\n",
       "        text-align: left;\n",
       "    }\n",
       "\n",
       "    .dataframe tbody tr th {\n",
       "        vertical-align: top;\n",
       "    }\n",
       "</style>\n",
       "<table border=\"1\" class=\"dataframe\">\n",
       "  <thead>\n",
       "    <tr style=\"text-align: right;\">\n",
       "      <th></th>\n",
       "      <th>USER_ID</th>\n",
       "      <th>CAT_PERC</th>\n",
       "      <th>PREV_CAT_PERC</th>\n",
       "      <th>NMOCKS</th>\n",
       "      <th>BEST_MOCK</th>\n",
       "      <th>TOP3_MOCK</th>\n",
       "      <th>AVG_MOCK</th>\n",
       "      <th>PROC_PERC</th>\n",
       "      <th>DIFF_ATT</th>\n",
       "      <th>DIFF_ACC</th>\n",
       "      <th>TOP5_MOCK</th>\n",
       "      <th>TOP8_MOCK</th>\n",
       "      <th>NPROCS</th>\n",
       "      <th>EASY_ATT</th>\n",
       "      <th>EASY_ACC</th>\n",
       "      <th>DIFF_ATTX100</th>\n",
       "      <th>DIFF_ACCX100</th>\n",
       "      <th>EASY_ATTX100</th>\n",
       "      <th>EASY_ACCX100</th>\n",
       "    </tr>\n",
       "  </thead>\n",
       "  <tbody>\n",
       "    <tr>\n",
       "      <th>0</th>\n",
       "      <td>2809628</td>\n",
       "      <td>81.53</td>\n",
       "      <td>49.75</td>\n",
       "      <td>19</td>\n",
       "      <td>86.32</td>\n",
       "      <td>78.76</td>\n",
       "      <td>49.75</td>\n",
       "      <td>56.37</td>\n",
       "      <td>0.52</td>\n",
       "      <td>0.13</td>\n",
       "      <td>74.49</td>\n",
       "      <td>68.98</td>\n",
       "      <td>9</td>\n",
       "      <td>0.55</td>\n",
       "      <td>0.36</td>\n",
       "      <td>52.0</td>\n",
       "      <td>13.0</td>\n",
       "      <td>55.0</td>\n",
       "      <td>36.0</td>\n",
       "    </tr>\n",
       "    <tr>\n",
       "      <th>1</th>\n",
       "      <td>2809643</td>\n",
       "      <td>90.30</td>\n",
       "      <td>70.00</td>\n",
       "      <td>16</td>\n",
       "      <td>88.00</td>\n",
       "      <td>82.52</td>\n",
       "      <td>69.58</td>\n",
       "      <td>67.96</td>\n",
       "      <td>0.41</td>\n",
       "      <td>0.16</td>\n",
       "      <td>80.85</td>\n",
       "      <td>79.24</td>\n",
       "      <td>13</td>\n",
       "      <td>0.57</td>\n",
       "      <td>0.45</td>\n",
       "      <td>41.0</td>\n",
       "      <td>16.0</td>\n",
       "      <td>57.0</td>\n",
       "      <td>45.0</td>\n",
       "    </tr>\n",
       "    <tr>\n",
       "      <th>2</th>\n",
       "      <td>2809688</td>\n",
       "      <td>90.53</td>\n",
       "      <td>82.00</td>\n",
       "      <td>18</td>\n",
       "      <td>96.51</td>\n",
       "      <td>93.42</td>\n",
       "      <td>81.08</td>\n",
       "      <td>83.48</td>\n",
       "      <td>0.58</td>\n",
       "      <td>0.21</td>\n",
       "      <td>91.35</td>\n",
       "      <td>88.83</td>\n",
       "      <td>6</td>\n",
       "      <td>0.67</td>\n",
       "      <td>0.51</td>\n",
       "      <td>58.0</td>\n",
       "      <td>21.0</td>\n",
       "      <td>67.0</td>\n",
       "      <td>51.0</td>\n",
       "    </tr>\n",
       "    <tr>\n",
       "      <th>3</th>\n",
       "      <td>2809701</td>\n",
       "      <td>98.66</td>\n",
       "      <td>87.00</td>\n",
       "      <td>20</td>\n",
       "      <td>95.53</td>\n",
       "      <td>93.43</td>\n",
       "      <td>74.50</td>\n",
       "      <td>77.59</td>\n",
       "      <td>0.46</td>\n",
       "      <td>0.19</td>\n",
       "      <td>89.31</td>\n",
       "      <td>85.10</td>\n",
       "      <td>15</td>\n",
       "      <td>0.58</td>\n",
       "      <td>0.45</td>\n",
       "      <td>46.0</td>\n",
       "      <td>19.0</td>\n",
       "      <td>58.0</td>\n",
       "      <td>45.0</td>\n",
       "    </tr>\n",
       "    <tr>\n",
       "      <th>5</th>\n",
       "      <td>2809762</td>\n",
       "      <td>98.53</td>\n",
       "      <td>85.42</td>\n",
       "      <td>18</td>\n",
       "      <td>99.79</td>\n",
       "      <td>97.14</td>\n",
       "      <td>85.42</td>\n",
       "      <td>85.42</td>\n",
       "      <td>0.48</td>\n",
       "      <td>0.22</td>\n",
       "      <td>95.71</td>\n",
       "      <td>94.38</td>\n",
       "      <td>18</td>\n",
       "      <td>0.64</td>\n",
       "      <td>0.54</td>\n",
       "      <td>48.0</td>\n",
       "      <td>22.0</td>\n",
       "      <td>64.0</td>\n",
       "      <td>54.0</td>\n",
       "    </tr>\n",
       "  </tbody>\n",
       "</table>\n",
       "</div>"
      ],
      "text/plain": [
       "   USER_ID  CAT_PERC  PREV_CAT_PERC  NMOCKS  BEST_MOCK  TOP3_MOCK  AVG_MOCK  \\\n",
       "0  2809628     81.53          49.75      19      86.32      78.76     49.75   \n",
       "1  2809643     90.30          70.00      16      88.00      82.52     69.58   \n",
       "2  2809688     90.53          82.00      18      96.51      93.42     81.08   \n",
       "3  2809701     98.66          87.00      20      95.53      93.43     74.50   \n",
       "5  2809762     98.53          85.42      18      99.79      97.14     85.42   \n",
       "\n",
       "   PROC_PERC  DIFF_ATT  DIFF_ACC  TOP5_MOCK  TOP8_MOCK  NPROCS  EASY_ATT  \\\n",
       "0      56.37      0.52      0.13      74.49      68.98       9      0.55   \n",
       "1      67.96      0.41      0.16      80.85      79.24      13      0.57   \n",
       "2      83.48      0.58      0.21      91.35      88.83       6      0.67   \n",
       "3      77.59      0.46      0.19      89.31      85.10      15      0.58   \n",
       "5      85.42      0.48      0.22      95.71      94.38      18      0.64   \n",
       "\n",
       "   EASY_ACC  DIFF_ATTX100  DIFF_ACCX100  EASY_ATTX100  EASY_ACCX100  \n",
       "0      0.36          52.0          13.0          55.0          36.0  \n",
       "1      0.45          41.0          16.0          57.0          45.0  \n",
       "2      0.51          58.0          21.0          67.0          51.0  \n",
       "3      0.45          46.0          19.0          58.0          45.0  \n",
       "5      0.54          48.0          22.0          64.0          54.0  "
      ]
     },
     "execution_count": 77,
     "metadata": {},
     "output_type": "execute_result"
    }
   ],
   "source": [
    "data.head()"
   ]
  },
  {
   "cell_type": "code",
   "execution_count": 78,
   "metadata": {},
   "outputs": [
    {
     "data": {
      "text/plain": [
       "(1886, 19)"
      ]
     },
     "execution_count": 78,
     "metadata": {},
     "output_type": "execute_result"
    }
   ],
   "source": [
    "data.shape"
   ]
  },
  {
   "cell_type": "code",
   "execution_count": 79,
   "metadata": {},
   "outputs": [
    {
     "name": "stdout",
     "output_type": "stream",
     "text": [
      "Stored 'data' (DataFrame)\n"
     ]
    }
   ],
   "source": [
    "%store data"
   ]
  },
  {
   "cell_type": "markdown",
   "metadata": {},
   "source": [
    "## All samples"
   ]
  },
  {
   "cell_type": "code",
   "execution_count": 88,
   "metadata": {},
   "outputs": [
    {
     "data": {
      "text/html": [
       "<div>\n",
       "<style>\n",
       "    .dataframe thead tr:only-child th {\n",
       "        text-align: right;\n",
       "    }\n",
       "\n",
       "    .dataframe thead th {\n",
       "        text-align: left;\n",
       "    }\n",
       "\n",
       "    .dataframe tbody tr th {\n",
       "        vertical-align: top;\n",
       "    }\n",
       "</style>\n",
       "<table border=\"1\" class=\"dataframe\">\n",
       "  <thead>\n",
       "    <tr style=\"text-align: right;\">\n",
       "      <th></th>\n",
       "      <th>USER_ID</th>\n",
       "      <th>CAT_PERC</th>\n",
       "      <th>PREV_CAT_PERC</th>\n",
       "      <th>NMOCKS</th>\n",
       "      <th>BEST_MOCK</th>\n",
       "      <th>TOP3_MOCK</th>\n",
       "      <th>AVG_MOCK</th>\n",
       "      <th>PROC_PERC</th>\n",
       "      <th>DIFF_ATT</th>\n",
       "      <th>DIFF_ACC</th>\n",
       "      <th>TOP5_MOCK</th>\n",
       "      <th>TOP8_MOCK</th>\n",
       "      <th>NPROCS</th>\n",
       "      <th>EASY_ATT</th>\n",
       "      <th>EASY_ACC</th>\n",
       "      <th>DIFF_ATTX100</th>\n",
       "      <th>DIFF_ACCX100</th>\n",
       "      <th>EASY_ATTX100</th>\n",
       "      <th>EASY_ACCX100</th>\n",
       "    </tr>\n",
       "  </thead>\n",
       "  <tbody>\n",
       "    <tr>\n",
       "      <th>0</th>\n",
       "      <td>2809628</td>\n",
       "      <td>81.53</td>\n",
       "      <td>49.75</td>\n",
       "      <td>19</td>\n",
       "      <td>86.32</td>\n",
       "      <td>78.76</td>\n",
       "      <td>49.75</td>\n",
       "      <td>56.37</td>\n",
       "      <td>0.52</td>\n",
       "      <td>0.13</td>\n",
       "      <td>74.49</td>\n",
       "      <td>68.98</td>\n",
       "      <td>9</td>\n",
       "      <td>0.55</td>\n",
       "      <td>0.36</td>\n",
       "      <td>52.0</td>\n",
       "      <td>13.0</td>\n",
       "      <td>55.0</td>\n",
       "      <td>36.0</td>\n",
       "    </tr>\n",
       "    <tr>\n",
       "      <th>1</th>\n",
       "      <td>2809643</td>\n",
       "      <td>90.30</td>\n",
       "      <td>70.00</td>\n",
       "      <td>16</td>\n",
       "      <td>88.00</td>\n",
       "      <td>82.52</td>\n",
       "      <td>69.58</td>\n",
       "      <td>67.96</td>\n",
       "      <td>0.41</td>\n",
       "      <td>0.16</td>\n",
       "      <td>80.85</td>\n",
       "      <td>79.24</td>\n",
       "      <td>13</td>\n",
       "      <td>0.57</td>\n",
       "      <td>0.45</td>\n",
       "      <td>41.0</td>\n",
       "      <td>16.0</td>\n",
       "      <td>57.0</td>\n",
       "      <td>45.0</td>\n",
       "    </tr>\n",
       "    <tr>\n",
       "      <th>2</th>\n",
       "      <td>2809688</td>\n",
       "      <td>90.53</td>\n",
       "      <td>82.00</td>\n",
       "      <td>18</td>\n",
       "      <td>96.51</td>\n",
       "      <td>93.42</td>\n",
       "      <td>81.08</td>\n",
       "      <td>83.48</td>\n",
       "      <td>0.58</td>\n",
       "      <td>0.21</td>\n",
       "      <td>91.35</td>\n",
       "      <td>88.83</td>\n",
       "      <td>6</td>\n",
       "      <td>0.67</td>\n",
       "      <td>0.51</td>\n",
       "      <td>58.0</td>\n",
       "      <td>21.0</td>\n",
       "      <td>67.0</td>\n",
       "      <td>51.0</td>\n",
       "    </tr>\n",
       "    <tr>\n",
       "      <th>3</th>\n",
       "      <td>2809701</td>\n",
       "      <td>98.66</td>\n",
       "      <td>87.00</td>\n",
       "      <td>20</td>\n",
       "      <td>95.53</td>\n",
       "      <td>93.43</td>\n",
       "      <td>74.50</td>\n",
       "      <td>77.59</td>\n",
       "      <td>0.46</td>\n",
       "      <td>0.19</td>\n",
       "      <td>89.31</td>\n",
       "      <td>85.10</td>\n",
       "      <td>15</td>\n",
       "      <td>0.58</td>\n",
       "      <td>0.45</td>\n",
       "      <td>46.0</td>\n",
       "      <td>19.0</td>\n",
       "      <td>58.0</td>\n",
       "      <td>45.0</td>\n",
       "    </tr>\n",
       "    <tr>\n",
       "      <th>5</th>\n",
       "      <td>2809762</td>\n",
       "      <td>98.53</td>\n",
       "      <td>85.42</td>\n",
       "      <td>18</td>\n",
       "      <td>99.79</td>\n",
       "      <td>97.14</td>\n",
       "      <td>85.42</td>\n",
       "      <td>85.42</td>\n",
       "      <td>0.48</td>\n",
       "      <td>0.22</td>\n",
       "      <td>95.71</td>\n",
       "      <td>94.38</td>\n",
       "      <td>18</td>\n",
       "      <td>0.64</td>\n",
       "      <td>0.54</td>\n",
       "      <td>48.0</td>\n",
       "      <td>22.0</td>\n",
       "      <td>64.0</td>\n",
       "      <td>54.0</td>\n",
       "    </tr>\n",
       "  </tbody>\n",
       "</table>\n",
       "</div>"
      ],
      "text/plain": [
       "   USER_ID  CAT_PERC  PREV_CAT_PERC  NMOCKS  BEST_MOCK  TOP3_MOCK  AVG_MOCK  \\\n",
       "0  2809628     81.53          49.75      19      86.32      78.76     49.75   \n",
       "1  2809643     90.30          70.00      16      88.00      82.52     69.58   \n",
       "2  2809688     90.53          82.00      18      96.51      93.42     81.08   \n",
       "3  2809701     98.66          87.00      20      95.53      93.43     74.50   \n",
       "5  2809762     98.53          85.42      18      99.79      97.14     85.42   \n",
       "\n",
       "   PROC_PERC  DIFF_ATT  DIFF_ACC  TOP5_MOCK  TOP8_MOCK  NPROCS  EASY_ATT  \\\n",
       "0      56.37      0.52      0.13      74.49      68.98       9      0.55   \n",
       "1      67.96      0.41      0.16      80.85      79.24      13      0.57   \n",
       "2      83.48      0.58      0.21      91.35      88.83       6      0.67   \n",
       "3      77.59      0.46      0.19      89.31      85.10      15      0.58   \n",
       "5      85.42      0.48      0.22      95.71      94.38      18      0.64   \n",
       "\n",
       "   EASY_ACC  DIFF_ATTX100  DIFF_ACCX100  EASY_ATTX100  EASY_ACCX100  \n",
       "0      0.36          52.0          13.0          55.0          36.0  \n",
       "1      0.45          41.0          16.0          57.0          45.0  \n",
       "2      0.51          58.0          21.0          67.0          51.0  \n",
       "3      0.45          46.0          19.0          58.0          45.0  \n",
       "5      0.54          48.0          22.0          64.0          54.0  "
      ]
     },
     "execution_count": 88,
     "metadata": {},
     "output_type": "execute_result"
    }
   ],
   "source": [
    "data.head()"
   ]
  },
  {
   "cell_type": "code",
   "execution_count": 89,
   "metadata": {
    "collapsed": true
   },
   "outputs": [],
   "source": [
    "X_allSamples = data.iloc[:,2:-3]\n",
    "Y_allSamples = data.iloc[:,1]"
   ]
  },
  {
   "cell_type": "code",
   "execution_count": 90,
   "metadata": {},
   "outputs": [
    {
     "data": {
      "text/plain": [
       "(1886, 14)"
      ]
     },
     "execution_count": 90,
     "metadata": {},
     "output_type": "execute_result"
    }
   ],
   "source": [
    "X_allSamples.shape"
   ]
  },
  {
   "cell_type": "code",
   "execution_count": 91,
   "metadata": {},
   "outputs": [
    {
     "data": {
      "text/plain": [
       "(1886,)"
      ]
     },
     "execution_count": 91,
     "metadata": {},
     "output_type": "execute_result"
    }
   ],
   "source": [
    "Y_allSamples.shape"
   ]
  },
  {
   "cell_type": "markdown",
   "metadata": {},
   "source": [
    "<b>Train-Test Split : </b> We will have a 70-30 random train-test split on data and 4 fold cross validation on train data for hyperparameter tuning and avoiding overfitting.  "
   ]
  },
  {
   "cell_type": "code",
   "execution_count": 92,
   "metadata": {
    "collapsed": true
   },
   "outputs": [],
   "source": [
    "from sklearn.model_selection import train_test_split"
   ]
  },
  {
   "cell_type": "code",
   "execution_count": 93,
   "metadata": {
    "collapsed": true
   },
   "outputs": [],
   "source": [
    "X_train, X_test, Y_train, Y_test = train_test_split(X_allSamples, Y_allSamples, test_size=0.3, random_state=3)"
   ]
  },
  {
   "cell_type": "code",
   "execution_count": 94,
   "metadata": {},
   "outputs": [
    {
     "data": {
      "text/html": [
       "<div>\n",
       "<style>\n",
       "    .dataframe thead tr:only-child th {\n",
       "        text-align: right;\n",
       "    }\n",
       "\n",
       "    .dataframe thead th {\n",
       "        text-align: left;\n",
       "    }\n",
       "\n",
       "    .dataframe tbody tr th {\n",
       "        vertical-align: top;\n",
       "    }\n",
       "</style>\n",
       "<table border=\"1\" class=\"dataframe\">\n",
       "  <thead>\n",
       "    <tr style=\"text-align: right;\">\n",
       "      <th></th>\n",
       "      <th>PREV_CAT_PERC</th>\n",
       "      <th>NMOCKS</th>\n",
       "      <th>BEST_MOCK</th>\n",
       "      <th>TOP3_MOCK</th>\n",
       "      <th>AVG_MOCK</th>\n",
       "      <th>PROC_PERC</th>\n",
       "      <th>DIFF_ATT</th>\n",
       "      <th>DIFF_ACC</th>\n",
       "      <th>TOP5_MOCK</th>\n",
       "      <th>TOP8_MOCK</th>\n",
       "      <th>NPROCS</th>\n",
       "      <th>EASY_ATT</th>\n",
       "      <th>EASY_ACC</th>\n",
       "      <th>DIFF_ATTX100</th>\n",
       "    </tr>\n",
       "  </thead>\n",
       "  <tbody>\n",
       "    <tr>\n",
       "      <th>2003</th>\n",
       "      <td>68.49</td>\n",
       "      <td>17</td>\n",
       "      <td>95.18</td>\n",
       "      <td>87.42</td>\n",
       "      <td>68.49</td>\n",
       "      <td>70.14</td>\n",
       "      <td>0.43</td>\n",
       "      <td>0.14</td>\n",
       "      <td>84.19</td>\n",
       "      <td>79.68</td>\n",
       "      <td>12</td>\n",
       "      <td>0.61</td>\n",
       "      <td>0.45</td>\n",
       "      <td>43.0</td>\n",
       "    </tr>\n",
       "    <tr>\n",
       "      <th>1374</th>\n",
       "      <td>33.87</td>\n",
       "      <td>6</td>\n",
       "      <td>72.20</td>\n",
       "      <td>44.86</td>\n",
       "      <td>33.87</td>\n",
       "      <td>30.76</td>\n",
       "      <td>0.53</td>\n",
       "      <td>0.11</td>\n",
       "      <td>37.03</td>\n",
       "      <td>NaN</td>\n",
       "      <td>1</td>\n",
       "      <td>0.53</td>\n",
       "      <td>0.28</td>\n",
       "      <td>53.0</td>\n",
       "    </tr>\n",
       "    <tr>\n",
       "      <th>1452</th>\n",
       "      <td>77.50</td>\n",
       "      <td>19</td>\n",
       "      <td>98.65</td>\n",
       "      <td>94.56</td>\n",
       "      <td>77.50</td>\n",
       "      <td>77.00</td>\n",
       "      <td>0.57</td>\n",
       "      <td>0.23</td>\n",
       "      <td>91.81</td>\n",
       "      <td>89.56</td>\n",
       "      <td>11</td>\n",
       "      <td>0.64</td>\n",
       "      <td>0.48</td>\n",
       "      <td>57.0</td>\n",
       "    </tr>\n",
       "    <tr>\n",
       "      <th>346</th>\n",
       "      <td>73.96</td>\n",
       "      <td>16</td>\n",
       "      <td>93.32</td>\n",
       "      <td>89.56</td>\n",
       "      <td>73.96</td>\n",
       "      <td>73.96</td>\n",
       "      <td>0.37</td>\n",
       "      <td>0.15</td>\n",
       "      <td>87.09</td>\n",
       "      <td>83.50</td>\n",
       "      <td>16</td>\n",
       "      <td>0.61</td>\n",
       "      <td>0.49</td>\n",
       "      <td>37.0</td>\n",
       "    </tr>\n",
       "    <tr>\n",
       "      <th>1362</th>\n",
       "      <td>76.37</td>\n",
       "      <td>10</td>\n",
       "      <td>89.52</td>\n",
       "      <td>87.00</td>\n",
       "      <td>76.37</td>\n",
       "      <td>77.77</td>\n",
       "      <td>0.42</td>\n",
       "      <td>0.18</td>\n",
       "      <td>83.90</td>\n",
       "      <td>78.73</td>\n",
       "      <td>7</td>\n",
       "      <td>0.52</td>\n",
       "      <td>0.45</td>\n",
       "      <td>42.0</td>\n",
       "    </tr>\n",
       "  </tbody>\n",
       "</table>\n",
       "</div>"
      ],
      "text/plain": [
       "      PREV_CAT_PERC  NMOCKS  BEST_MOCK  TOP3_MOCK  AVG_MOCK  PROC_PERC  \\\n",
       "2003          68.49      17      95.18      87.42     68.49      70.14   \n",
       "1374          33.87       6      72.20      44.86     33.87      30.76   \n",
       "1452          77.50      19      98.65      94.56     77.50      77.00   \n",
       "346           73.96      16      93.32      89.56     73.96      73.96   \n",
       "1362          76.37      10      89.52      87.00     76.37      77.77   \n",
       "\n",
       "      DIFF_ATT  DIFF_ACC  TOP5_MOCK  TOP8_MOCK  NPROCS  EASY_ATT  EASY_ACC  \\\n",
       "2003      0.43      0.14      84.19      79.68      12      0.61      0.45   \n",
       "1374      0.53      0.11      37.03        NaN       1      0.53      0.28   \n",
       "1452      0.57      0.23      91.81      89.56      11      0.64      0.48   \n",
       "346       0.37      0.15      87.09      83.50      16      0.61      0.49   \n",
       "1362      0.42      0.18      83.90      78.73       7      0.52      0.45   \n",
       "\n",
       "      DIFF_ATTX100  \n",
       "2003          43.0  \n",
       "1374          53.0  \n",
       "1452          57.0  \n",
       "346           37.0  \n",
       "1362          42.0  "
      ]
     },
     "execution_count": 94,
     "metadata": {},
     "output_type": "execute_result"
    }
   ],
   "source": [
    "X_train.head()"
   ]
  },
  {
   "cell_type": "code",
   "execution_count": 95,
   "metadata": {},
   "outputs": [
    {
     "data": {
      "text/plain": [
       "(566, 14)"
      ]
     },
     "execution_count": 95,
     "metadata": {},
     "output_type": "execute_result"
    }
   ],
   "source": [
    "X_test.shape"
   ]
  },
  {
   "cell_type": "code",
   "execution_count": 96,
   "metadata": {
    "collapsed": true
   },
   "outputs": [],
   "source": [
    "# Leaving out \"TOP8_MOCK\" because of too many null values\n",
    "X_train = X_train.drop(axis=1, labels=[\"DIFF_ATT\",\"EASY_ATT\",\"TOP8_MOCK\"])\n",
    "X_test = X_test.drop(axis=1, labels=[\"DIFF_ATT\",\"EASY_ATT\",\"TOP8_MOCK\"])"
   ]
  },
  {
   "cell_type": "code",
   "execution_count": 97,
   "metadata": {},
   "outputs": [
    {
     "data": {
      "text/plain": [
       "PREV_CAT_PERC    0\n",
       "NMOCKS           0\n",
       "BEST_MOCK        0\n",
       "TOP3_MOCK        0\n",
       "AVG_MOCK         0\n",
       "PROC_PERC        0\n",
       "DIFF_ACC         0\n",
       "TOP5_MOCK        0\n",
       "NPROCS           0\n",
       "EASY_ACC         0\n",
       "DIFF_ATTX100     0\n",
       "dtype: int64"
      ]
     },
     "execution_count": 97,
     "metadata": {},
     "output_type": "execute_result"
    }
   ],
   "source": [
    "# Printing missing values\n",
    "X_train.apply(lambda x: sum(x.isnull()),axis=0) "
   ]
  },
  {
   "cell_type": "code",
   "execution_count": 98,
   "metadata": {},
   "outputs": [
    {
     "data": {
      "text/plain": [
       "PREV_CAT_PERC    0\n",
       "NMOCKS           0\n",
       "BEST_MOCK        0\n",
       "TOP3_MOCK        0\n",
       "AVG_MOCK         0\n",
       "PROC_PERC        0\n",
       "DIFF_ACC         0\n",
       "TOP5_MOCK        0\n",
       "NPROCS           0\n",
       "EASY_ACC         0\n",
       "DIFF_ATTX100     0\n",
       "dtype: int64"
      ]
     },
     "execution_count": 98,
     "metadata": {},
     "output_type": "execute_result"
    }
   ],
   "source": [
    "# Printing missing values\n",
    "X_test.apply(lambda x: sum(x.isnull()),axis=0) "
   ]
  },
  {
   "cell_type": "markdown",
   "metadata": {
    "collapsed": true
   },
   "source": [
    "No missing values found"
   ]
  },
  {
   "cell_type": "code",
   "execution_count": null,
   "metadata": {
    "collapsed": true
   },
   "outputs": [],
   "source": []
  },
  {
   "cell_type": "markdown",
   "metadata": {},
   "source": [
    "## Importing all Regressors"
   ]
  },
  {
   "cell_type": "code",
   "execution_count": 166,
   "metadata": {
    "collapsed": true
   },
   "outputs": [],
   "source": [
    "from sklearn.linear_model import LinearRegression\n",
    "from sklearn.linear_model import Ridge\n",
    "from sklearn.linear_model import Lasso\n",
    "from sklearn.linear_model import ElasticNet\n",
    "from sklearn.linear_model import Lars\n",
    "from sklearn.linear_model import LassoLars\n",
    "from sklearn.linear_model import BayesianRidge\n",
    "from sklearn.linear_model import SGDRegressor\n",
    "from sklearn.linear_model import PassiveAggressiveRegressor\n",
    "\n",
    "# Robust regression is interested in fitting a regression model in the presence of corrupt data: \n",
    "# either outliers, or error in the model.\n",
    "# Scikit-learn provides 3 robust regression estimators: RANSAC, Theil Sen and HuberRegressor\n",
    "from sklearn.linear_model import HuberRegressor\n",
    "from sklearn.linear_model import RANSACRegressor\n",
    "from sklearn.linear_model import TheilSenRegressor\n",
    "\n",
    "# TO BE WORKED ON : Polynomial regression: extending linear models with basis functions\n",
    "\n",
    "from sklearn.kernel_ridge import KernelRidge\n",
    "from sklearn.svm import SVR\n",
    "from sklearn.svm import LinearSVR\n",
    "from sklearn.svm import NuSVR\n",
    "from sklearn.neighbors import KNeighborsRegressor\n",
    "from sklearn.gaussian_process import GaussianProcessRegressor\n",
    "from sklearn.tree import DecisionTreeRegressor\n",
    "from sklearn.tree import ExtraTreeRegressor\n",
    "from sklearn.ensemble import RandomForestRegressor\n",
    "from sklearn.ensemble import AdaBoostRegressor\n",
    "from sklearn.ensemble import BaggingRegressor\n",
    "from sklearn.ensemble import ExtraTreesRegressor\n",
    "from sklearn.ensemble import GradientBoostingRegressor\n",
    "from sklearn.neural_network import MLPRegressor\n",
    "from xgboost.sklearn import XGBRegressor\n",
    "from lightgbm import LGBMRegressor"
   ]
  },
  {
   "cell_type": "code",
   "execution_count": 167,
   "metadata": {
    "collapsed": true
   },
   "outputs": [],
   "source": [
    "import pandas as pd\n",
    "from sklearn.metrics import mean_squared_error\n",
    "from math import sqrt"
   ]
  },
  {
   "cell_type": "code",
   "execution_count": 168,
   "metadata": {
    "collapsed": true
   },
   "outputs": [],
   "source": [
    "Regressors = []"
   ]
  },
  {
   "cell_type": "code",
   "execution_count": 169,
   "metadata": {
    "collapsed": true
   },
   "outputs": [],
   "source": [
    "# 0\n",
    "Linear = LinearRegression()\n",
    "Regressors.append(Linear)\n",
    "\n",
    "# 1\n",
    "XGBR = XGBRegressor()\n",
    "Regressors.append(XGBR)\n",
    "\n",
    "# 2\n",
    "Lars = Lars()\n",
    "Regressors.append(Lars)\n",
    "\n",
    "# 3\n",
    "RandomForest = RandomForestRegressor()\n",
    "Regressors.append(RandomForest)\n",
    "\n",
    "\n",
    "# 4\n",
    "KernelRidge = KernelRidge()\n",
    "Regressors.append(KernelRidge)\n",
    "\n",
    "# 5\n",
    "LGBMR = LGBMRegressor()\n",
    "Regressors.append(LGBMR)\n",
    "\n",
    "# 6\n",
    "ExtraTrees = ExtraTreesRegressor()\n",
    "Regressors.append(ExtraTrees)\n",
    "\n",
    "# 7\n",
    "Huber = HuberRegressor()\n",
    "Regressors.append(Huber)\n",
    "\n",
    "# 8\n",
    "\n",
    "\n",
    "# 9 \n",
    "\n",
    "\n",
    "# 10\n",
    "\n",
    "\n",
    "# 11\n",
    "\n",
    "\n",
    "# 12\n",
    "\n",
    "\n",
    "# 13\n",
    "\n",
    "\n",
    "# 14\n",
    "GradientBoosting = GradientBoostingRegressor()\n",
    "Regressors.append(GradientBoosting)\n",
    "\n",
    "# 15\n",
    "RANSAC = RANSACRegressor()\n",
    "Regressors.append(RANSAC)\n",
    "\n",
    "# 16\n",
    "ExtraTree = ExtraTreeRegressor()\n",
    "Regressors.append(ExtraTree)\n",
    "\n",
    "# 17\n",
    "\n",
    "# 18\n",
    "AdaBoost = AdaBoostRegressor()\n",
    "Regressors.append(AdaBoost)\n",
    "\n",
    "# 19\n",
    "Bagging = BaggingRegressor()\n",
    "Regressors.append(Bagging)\n",
    "\n",
    "# 20\n",
    "KNeighbors = KNeighborsRegressor()\n",
    "Regressors.append(KNeighbors)\n",
    "\n",
    "# 21\n",
    "PassiveAggressive = PassiveAggressiveRegressor()\n",
    "Regressors.append(PassiveAggressive)\n",
    "\n",
    "LinearSVR = LinearSVR()\n",
    "Regressors.append(LinearSVR)\n",
    "\n",
    "Ridge = Ridge()\n",
    "Regressors.append(Ridge)\n",
    "\n",
    "\n",
    "Lasso = Lasso()\n",
    "Regressors.append(Lasso)\n",
    "\n",
    "\n",
    "ElasticNet = ElasticNet()\n",
    "Regressors.append(ElasticNet)\n",
    "\n",
    "\n",
    "BayesianRidge = BayesianRidge()\n",
    "Regressors.append(BayesianRidge)\n",
    "\n",
    "\n",
    "TheilSen = TheilSenRegressor()\n",
    "Regressors.append(TheilSen)\n",
    "\n",
    "\n",
    "DecisionTree = DecisionTreeRegressor()\n",
    "Regressors.append(DecisionTree)\n",
    "\n",
    "# 22\n",
    "MLPR = MLPRegressor()\n",
    "Regressors.append(MLPR)\n",
    "\n",
    "# 23\n",
    "GaussianProcess = GaussianProcessRegressor()\n",
    "Regressors.append(GaussianProcess)\n",
    "\n",
    "# 24\n",
    "LassoLars = LassoLars()\n",
    "Regressors.append(LassoLars)\n",
    "\n",
    "# 25\n",
    "SGD = SGDRegressor()\n",
    "Regressors.append(SGD)\n",
    "\n",
    "# 26\n",
    "SVR = SVR()\n",
    "Regressors.append(SVR)\n",
    "\n",
    "# 27\n",
    "NuSVR = NuSVR()\n",
    "Regressors.append(NuSVR)\n",
    "\n"
   ]
  },
  {
   "cell_type": "code",
   "execution_count": 170,
   "metadata": {},
   "outputs": [
    {
     "data": {
      "text/plain": [
       "28"
      ]
     },
     "execution_count": 170,
     "metadata": {},
     "output_type": "execute_result"
    }
   ],
   "source": [
    "len(Regressors)"
   ]
  },
  {
   "cell_type": "code",
   "execution_count": 171,
   "metadata": {
    "collapsed": true
   },
   "outputs": [],
   "source": [
    "predictions = []"
   ]
  },
  {
   "cell_type": "code",
   "execution_count": 172,
   "metadata": {},
   "outputs": [
    {
     "name": "stderr",
     "output_type": "stream",
     "text": [
      "C:\\Users\\DELL PC\\Anaconda3\\lib\\site-packages\\sklearn\\utils\\__init__.py:54: FutureWarning: Conversion of the second argument of issubdtype from `int` to `np.signedinteger` is deprecated. In future, it will be treated as `np.int32 == np.dtype(int).type`.\n",
      "  if np.issubdtype(mask.dtype, np.int):\n"
     ]
    },
    {
     "name": "stdout",
     "output_type": "stream",
     "text": [
      "Wall time: 4.05 s\n"
     ]
    }
   ],
   "source": [
    "%%time\n",
    "for regressor in Regressors:\n",
    "    regressor.fit(X_train,Y_train)\n",
    "    prediction = regressor.predict(X_test)\n",
    "    predictions.append(prediction)"
   ]
  },
  {
   "cell_type": "code",
   "execution_count": 173,
   "metadata": {},
   "outputs": [
    {
     "data": {
      "text/plain": [
       "566"
      ]
     },
     "execution_count": 173,
     "metadata": {},
     "output_type": "execute_result"
    }
   ],
   "source": [
    "len(prediction)"
   ]
  },
  {
   "cell_type": "code",
   "execution_count": 174,
   "metadata": {
    "collapsed": true
   },
   "outputs": [],
   "source": [
    "RMS = []"
   ]
  },
  {
   "cell_type": "code",
   "execution_count": 175,
   "metadata": {
    "collapsed": true
   },
   "outputs": [],
   "source": [
    "for prediction in predictions:\n",
    "    msscore = mean_squared_error(Y_test, prediction)\n",
    "    rms = sqrt(msscore)\n",
    "    RMS.append(rms)"
   ]
  },
  {
   "cell_type": "code",
   "execution_count": 176,
   "metadata": {},
   "outputs": [
    {
     "data": {
      "text/plain": [
       "28"
      ]
     },
     "execution_count": 176,
     "metadata": {},
     "output_type": "execute_result"
    }
   ],
   "source": [
    "len(RMS)"
   ]
  },
  {
   "cell_type": "code",
   "execution_count": 272,
   "metadata": {},
   "outputs": [],
   "source": [
    "X_test.to_csv('X_test.csv')"
   ]
  },
  {
   "cell_type": "code",
   "execution_count": 177,
   "metadata": {},
   "outputs": [
    {
     "name": "stdout",
     "output_type": "stream",
     "text": [
      "0 4.2039290554180155\n",
      "1 4.1670070631957\n",
      "2 4.20392905541801\n",
      "3 4.507520626646831\n",
      "4 4.219548436281928\n",
      "5 4.44129160071842\n",
      "6 4.441302082814533\n",
      "7 4.358688931859551\n",
      "8 4.237355103373596\n",
      "9 4.960287306196002\n",
      "10 5.778950731298054\n",
      "11 4.433119272227475\n",
      "12 4.389657046497564\n",
      "13 4.692651827394067\n",
      "14 7.100682525239875\n",
      "15 4.453100589917714\n",
      "16 4.224025398699453\n",
      "17 4.28293946625073\n",
      "18 4.289576278364059\n",
      "19 4.282418635415653\n",
      "20 4.427297969627779\n",
      "21 5.907427139318811\n",
      "22 4.288198028052241\n",
      "23 87.23234200577043\n",
      "24 17.916437279359158\n",
      "25 9553137717176.908\n",
      "26 19.078576981843558\n",
      "27 18.14443626968445\n"
     ]
    }
   ],
   "source": [
    "for i, j in enumerate(RMS):\n",
    "    print(i,j)"
   ]
  },
  {
   "cell_type": "code",
   "execution_count": 178,
   "metadata": {
    "collapsed": true
   },
   "outputs": [],
   "source": [
    "RMS.sort()"
   ]
  },
  {
   "cell_type": "code",
   "execution_count": 179,
   "metadata": {
    "scrolled": true
   },
   "outputs": [
    {
     "data": {
      "text/plain": [
       "[4.1670070631957,\n",
       " 4.20392905541801,\n",
       " 4.2039290554180155,\n",
       " 4.219548436281928,\n",
       " 4.224025398699453,\n",
       " 4.237355103373596,\n",
       " 4.282418635415653,\n",
       " 4.28293946625073,\n",
       " 4.288198028052241,\n",
       " 4.289576278364059,\n",
       " 4.358688931859551,\n",
       " 4.389657046497564,\n",
       " 4.427297969627779,\n",
       " 4.433119272227475,\n",
       " 4.44129160071842,\n",
       " 4.441302082814533,\n",
       " 4.453100589917714,\n",
       " 4.507520626646831,\n",
       " 4.692651827394067,\n",
       " 4.960287306196002,\n",
       " 5.778950731298054,\n",
       " 5.907427139318811,\n",
       " 7.100682525239875,\n",
       " 17.916437279359158,\n",
       " 18.14443626968445,\n",
       " 19.078576981843558,\n",
       " 87.23234200577043,\n",
       " 9553137717176.908]"
      ]
     },
     "execution_count": 179,
     "metadata": {},
     "output_type": "execute_result"
    }
   ],
   "source": [
    "RMS"
   ]
  },
  {
   "cell_type": "markdown",
   "metadata": {},
   "source": [
    "#### Analysing outputs and making ensembles"
   ]
  },
  {
   "cell_type": "code",
   "execution_count": 269,
   "metadata": {},
   "outputs": [
    {
     "data": {
      "text/html": [
       "<div>\n",
       "<style>\n",
       "    .dataframe thead tr:only-child th {\n",
       "        text-align: right;\n",
       "    }\n",
       "\n",
       "    .dataframe thead th {\n",
       "        text-align: left;\n",
       "    }\n",
       "\n",
       "    .dataframe tbody tr th {\n",
       "        vertical-align: top;\n",
       "    }\n",
       "</style>\n",
       "<table border=\"1\" class=\"dataframe\">\n",
       "  <thead>\n",
       "    <tr style=\"text-align: right;\">\n",
       "      <th></th>\n",
       "      <th>PREV_CAT_PERC</th>\n",
       "      <th>NMOCKS</th>\n",
       "      <th>BEST_MOCK</th>\n",
       "      <th>TOP3_MOCK</th>\n",
       "      <th>AVG_MOCK</th>\n",
       "      <th>PROC_PERC</th>\n",
       "      <th>DIFF_ACC</th>\n",
       "      <th>TOP5_MOCK</th>\n",
       "      <th>NPROCS</th>\n",
       "      <th>EASY_ACC</th>\n",
       "      <th>DIFF_ATTX100</th>\n",
       "    </tr>\n",
       "  </thead>\n",
       "  <tbody>\n",
       "    <tr>\n",
       "      <th>0</th>\n",
       "      <td>92.00</td>\n",
       "      <td>16</td>\n",
       "      <td>96.84</td>\n",
       "      <td>94.95</td>\n",
       "      <td>84.23</td>\n",
       "      <td>84.36</td>\n",
       "      <td>0.22</td>\n",
       "      <td>93.69</td>\n",
       "      <td>14</td>\n",
       "      <td>0.53</td>\n",
       "      <td>53.0</td>\n",
       "    </tr>\n",
       "    <tr>\n",
       "      <th>1</th>\n",
       "      <td>70.00</td>\n",
       "      <td>20</td>\n",
       "      <td>86.48</td>\n",
       "      <td>84.78</td>\n",
       "      <td>68.95</td>\n",
       "      <td>71.06</td>\n",
       "      <td>0.13</td>\n",
       "      <td>83.56</td>\n",
       "      <td>18</td>\n",
       "      <td>0.43</td>\n",
       "      <td>33.0</td>\n",
       "    </tr>\n",
       "    <tr>\n",
       "      <th>2</th>\n",
       "      <td>47.08</td>\n",
       "      <td>20</td>\n",
       "      <td>70.34</td>\n",
       "      <td>67.14</td>\n",
       "      <td>47.08</td>\n",
       "      <td>47.08</td>\n",
       "      <td>0.12</td>\n",
       "      <td>63.96</td>\n",
       "      <td>20</td>\n",
       "      <td>0.34</td>\n",
       "      <td>54.0</td>\n",
       "    </tr>\n",
       "    <tr>\n",
       "      <th>3</th>\n",
       "      <td>97.00</td>\n",
       "      <td>10</td>\n",
       "      <td>99.98</td>\n",
       "      <td>99.97</td>\n",
       "      <td>99.52</td>\n",
       "      <td>99.39</td>\n",
       "      <td>0.45</td>\n",
       "      <td>99.94</td>\n",
       "      <td>7</td>\n",
       "      <td>0.79</td>\n",
       "      <td>73.0</td>\n",
       "    </tr>\n",
       "    <tr>\n",
       "      <th>4</th>\n",
       "      <td>70.00</td>\n",
       "      <td>15</td>\n",
       "      <td>94.16</td>\n",
       "      <td>86.00</td>\n",
       "      <td>71.10</td>\n",
       "      <td>71.10</td>\n",
       "      <td>0.16</td>\n",
       "      <td>83.99</td>\n",
       "      <td>15</td>\n",
       "      <td>0.43</td>\n",
       "      <td>37.0</td>\n",
       "    </tr>\n",
       "    <tr>\n",
       "      <th>5</th>\n",
       "      <td>87.61</td>\n",
       "      <td>20</td>\n",
       "      <td>96.95</td>\n",
       "      <td>96.48</td>\n",
       "      <td>87.61</td>\n",
       "      <td>93.94</td>\n",
       "      <td>0.21</td>\n",
       "      <td>95.93</td>\n",
       "      <td>5</td>\n",
       "      <td>0.56</td>\n",
       "      <td>57.0</td>\n",
       "    </tr>\n",
       "    <tr>\n",
       "      <th>6</th>\n",
       "      <td>97.00</td>\n",
       "      <td>20</td>\n",
       "      <td>95.80</td>\n",
       "      <td>94.99</td>\n",
       "      <td>86.50</td>\n",
       "      <td>82.23</td>\n",
       "      <td>0.20</td>\n",
       "      <td>94.15</td>\n",
       "      <td>5</td>\n",
       "      <td>0.54</td>\n",
       "      <td>49.0</td>\n",
       "    </tr>\n",
       "    <tr>\n",
       "      <th>7</th>\n",
       "      <td>97.00</td>\n",
       "      <td>18</td>\n",
       "      <td>99.89</td>\n",
       "      <td>99.86</td>\n",
       "      <td>97.32</td>\n",
       "      <td>98.44</td>\n",
       "      <td>0.31</td>\n",
       "      <td>99.75</td>\n",
       "      <td>12</td>\n",
       "      <td>0.70</td>\n",
       "      <td>60.0</td>\n",
       "    </tr>\n",
       "    <tr>\n",
       "      <th>8</th>\n",
       "      <td>90.45</td>\n",
       "      <td>8</td>\n",
       "      <td>99.69</td>\n",
       "      <td>96.87</td>\n",
       "      <td>90.45</td>\n",
       "      <td>90.56</td>\n",
       "      <td>0.28</td>\n",
       "      <td>95.01</td>\n",
       "      <td>7</td>\n",
       "      <td>0.56</td>\n",
       "      <td>58.0</td>\n",
       "    </tr>\n",
       "    <tr>\n",
       "      <th>9</th>\n",
       "      <td>70.00</td>\n",
       "      <td>19</td>\n",
       "      <td>92.71</td>\n",
       "      <td>91.20</td>\n",
       "      <td>75.89</td>\n",
       "      <td>75.55</td>\n",
       "      <td>0.19</td>\n",
       "      <td>89.70</td>\n",
       "      <td>5</td>\n",
       "      <td>0.46</td>\n",
       "      <td>50.0</td>\n",
       "    </tr>\n",
       "    <tr>\n",
       "      <th>10</th>\n",
       "      <td>87.00</td>\n",
       "      <td>7</td>\n",
       "      <td>99.08</td>\n",
       "      <td>93.24</td>\n",
       "      <td>65.26</td>\n",
       "      <td>65.26</td>\n",
       "      <td>0.15</td>\n",
       "      <td>76.82</td>\n",
       "      <td>7</td>\n",
       "      <td>0.43</td>\n",
       "      <td>38.0</td>\n",
       "    </tr>\n",
       "    <tr>\n",
       "      <th>11</th>\n",
       "      <td>92.00</td>\n",
       "      <td>18</td>\n",
       "      <td>90.47</td>\n",
       "      <td>86.20</td>\n",
       "      <td>69.65</td>\n",
       "      <td>73.92</td>\n",
       "      <td>0.15</td>\n",
       "      <td>83.62</td>\n",
       "      <td>7</td>\n",
       "      <td>0.45</td>\n",
       "      <td>49.0</td>\n",
       "    </tr>\n",
       "    <tr>\n",
       "      <th>12</th>\n",
       "      <td>92.00</td>\n",
       "      <td>17</td>\n",
       "      <td>99.57</td>\n",
       "      <td>98.87</td>\n",
       "      <td>93.29</td>\n",
       "      <td>93.28</td>\n",
       "      <td>0.26</td>\n",
       "      <td>97.71</td>\n",
       "      <td>16</td>\n",
       "      <td>0.62</td>\n",
       "      <td>55.0</td>\n",
       "    </tr>\n",
       "    <tr>\n",
       "      <th>13</th>\n",
       "      <td>92.13</td>\n",
       "      <td>13</td>\n",
       "      <td>99.23</td>\n",
       "      <td>98.42</td>\n",
       "      <td>92.13</td>\n",
       "      <td>94.10</td>\n",
       "      <td>0.26</td>\n",
       "      <td>97.68</td>\n",
       "      <td>9</td>\n",
       "      <td>0.63</td>\n",
       "      <td>74.0</td>\n",
       "    </tr>\n",
       "    <tr>\n",
       "      <th>14</th>\n",
       "      <td>70.00</td>\n",
       "      <td>10</td>\n",
       "      <td>84.27</td>\n",
       "      <td>81.81</td>\n",
       "      <td>63.25</td>\n",
       "      <td>66.50</td>\n",
       "      <td>0.13</td>\n",
       "      <td>76.88</td>\n",
       "      <td>6</td>\n",
       "      <td>0.39</td>\n",
       "      <td>31.0</td>\n",
       "    </tr>\n",
       "    <tr>\n",
       "      <th>15</th>\n",
       "      <td>73.23</td>\n",
       "      <td>14</td>\n",
       "      <td>89.64</td>\n",
       "      <td>84.66</td>\n",
       "      <td>73.23</td>\n",
       "      <td>76.56</td>\n",
       "      <td>0.12</td>\n",
       "      <td>82.90</td>\n",
       "      <td>10</td>\n",
       "      <td>0.48</td>\n",
       "      <td>41.0</td>\n",
       "    </tr>\n",
       "    <tr>\n",
       "      <th>16</th>\n",
       "      <td>79.84</td>\n",
       "      <td>6</td>\n",
       "      <td>94.48</td>\n",
       "      <td>90.11</td>\n",
       "      <td>79.84</td>\n",
       "      <td>84.71</td>\n",
       "      <td>0.21</td>\n",
       "      <td>84.71</td>\n",
       "      <td>5</td>\n",
       "      <td>0.53</td>\n",
       "      <td>68.0</td>\n",
       "    </tr>\n",
       "    <tr>\n",
       "      <th>17</th>\n",
       "      <td>84.82</td>\n",
       "      <td>14</td>\n",
       "      <td>96.03</td>\n",
       "      <td>95.25</td>\n",
       "      <td>84.82</td>\n",
       "      <td>84.34</td>\n",
       "      <td>0.23</td>\n",
       "      <td>93.71</td>\n",
       "      <td>12</td>\n",
       "      <td>0.55</td>\n",
       "      <td>59.0</td>\n",
       "    </tr>\n",
       "    <tr>\n",
       "      <th>18</th>\n",
       "      <td>36.46</td>\n",
       "      <td>17</td>\n",
       "      <td>62.02</td>\n",
       "      <td>51.48</td>\n",
       "      <td>36.46</td>\n",
       "      <td>40.60</td>\n",
       "      <td>0.07</td>\n",
       "      <td>46.54</td>\n",
       "      <td>5</td>\n",
       "      <td>0.27</td>\n",
       "      <td>22.0</td>\n",
       "    </tr>\n",
       "    <tr>\n",
       "      <th>19</th>\n",
       "      <td>89.90</td>\n",
       "      <td>8</td>\n",
       "      <td>96.55</td>\n",
       "      <td>95.29</td>\n",
       "      <td>89.90</td>\n",
       "      <td>89.90</td>\n",
       "      <td>0.27</td>\n",
       "      <td>92.92</td>\n",
       "      <td>8</td>\n",
       "      <td>0.52</td>\n",
       "      <td>47.0</td>\n",
       "    </tr>\n",
       "    <tr>\n",
       "      <th>20</th>\n",
       "      <td>69.02</td>\n",
       "      <td>14</td>\n",
       "      <td>91.94</td>\n",
       "      <td>84.16</td>\n",
       "      <td>69.02</td>\n",
       "      <td>54.49</td>\n",
       "      <td>0.11</td>\n",
       "      <td>80.87</td>\n",
       "      <td>2</td>\n",
       "      <td>0.46</td>\n",
       "      <td>30.0</td>\n",
       "    </tr>\n",
       "    <tr>\n",
       "      <th>21</th>\n",
       "      <td>70.00</td>\n",
       "      <td>19</td>\n",
       "      <td>82.17</td>\n",
       "      <td>64.69</td>\n",
       "      <td>46.59</td>\n",
       "      <td>48.86</td>\n",
       "      <td>0.11</td>\n",
       "      <td>60.62</td>\n",
       "      <td>12</td>\n",
       "      <td>0.33</td>\n",
       "      <td>38.0</td>\n",
       "    </tr>\n",
       "    <tr>\n",
       "      <th>22</th>\n",
       "      <td>92.00</td>\n",
       "      <td>7</td>\n",
       "      <td>99.19</td>\n",
       "      <td>94.05</td>\n",
       "      <td>85.22</td>\n",
       "      <td>99.19</td>\n",
       "      <td>0.18</td>\n",
       "      <td>90.76</td>\n",
       "      <td>1</td>\n",
       "      <td>0.55</td>\n",
       "      <td>50.0</td>\n",
       "    </tr>\n",
       "    <tr>\n",
       "      <th>23</th>\n",
       "      <td>70.00</td>\n",
       "      <td>19</td>\n",
       "      <td>89.12</td>\n",
       "      <td>87.80</td>\n",
       "      <td>67.64</td>\n",
       "      <td>68.32</td>\n",
       "      <td>0.18</td>\n",
       "      <td>86.50</td>\n",
       "      <td>18</td>\n",
       "      <td>0.43</td>\n",
       "      <td>52.0</td>\n",
       "    </tr>\n",
       "    <tr>\n",
       "      <th>24</th>\n",
       "      <td>57.74</td>\n",
       "      <td>21</td>\n",
       "      <td>90.61</td>\n",
       "      <td>84.32</td>\n",
       "      <td>57.74</td>\n",
       "      <td>58.98</td>\n",
       "      <td>0.12</td>\n",
       "      <td>77.31</td>\n",
       "      <td>17</td>\n",
       "      <td>0.37</td>\n",
       "      <td>43.0</td>\n",
       "    </tr>\n",
       "    <tr>\n",
       "      <th>25</th>\n",
       "      <td>90.25</td>\n",
       "      <td>9</td>\n",
       "      <td>99.11</td>\n",
       "      <td>98.42</td>\n",
       "      <td>90.25</td>\n",
       "      <td>90.25</td>\n",
       "      <td>0.25</td>\n",
       "      <td>95.93</td>\n",
       "      <td>9</td>\n",
       "      <td>0.58</td>\n",
       "      <td>55.0</td>\n",
       "    </tr>\n",
       "    <tr>\n",
       "      <th>26</th>\n",
       "      <td>82.00</td>\n",
       "      <td>18</td>\n",
       "      <td>97.27</td>\n",
       "      <td>93.78</td>\n",
       "      <td>78.52</td>\n",
       "      <td>78.93</td>\n",
       "      <td>0.21</td>\n",
       "      <td>91.51</td>\n",
       "      <td>8</td>\n",
       "      <td>0.50</td>\n",
       "      <td>56.0</td>\n",
       "    </tr>\n",
       "    <tr>\n",
       "      <th>27</th>\n",
       "      <td>82.00</td>\n",
       "      <td>19</td>\n",
       "      <td>89.88</td>\n",
       "      <td>88.23</td>\n",
       "      <td>76.47</td>\n",
       "      <td>76.47</td>\n",
       "      <td>0.15</td>\n",
       "      <td>86.67</td>\n",
       "      <td>19</td>\n",
       "      <td>0.48</td>\n",
       "      <td>39.0</td>\n",
       "    </tr>\n",
       "    <tr>\n",
       "      <th>28</th>\n",
       "      <td>70.00</td>\n",
       "      <td>17</td>\n",
       "      <td>88.07</td>\n",
       "      <td>79.98</td>\n",
       "      <td>48.41</td>\n",
       "      <td>59.67</td>\n",
       "      <td>0.09</td>\n",
       "      <td>70.97</td>\n",
       "      <td>8</td>\n",
       "      <td>0.33</td>\n",
       "      <td>38.0</td>\n",
       "    </tr>\n",
       "    <tr>\n",
       "      <th>29</th>\n",
       "      <td>67.60</td>\n",
       "      <td>13</td>\n",
       "      <td>85.15</td>\n",
       "      <td>81.40</td>\n",
       "      <td>67.60</td>\n",
       "      <td>68.10</td>\n",
       "      <td>0.17</td>\n",
       "      <td>79.32</td>\n",
       "      <td>7</td>\n",
       "      <td>0.46</td>\n",
       "      <td>50.0</td>\n",
       "    </tr>\n",
       "    <tr>\n",
       "      <th>30</th>\n",
       "      <td>95.50</td>\n",
       "      <td>10</td>\n",
       "      <td>99.00</td>\n",
       "      <td>98.69</td>\n",
       "      <td>98.00</td>\n",
       "      <td>99.50</td>\n",
       "      <td>0.40</td>\n",
       "      <td>97.79</td>\n",
       "      <td>7</td>\n",
       "      <td>0.75</td>\n",
       "      <td>73.0</td>\n",
       "    </tr>\n",
       "  </tbody>\n",
       "</table>\n",
       "</div>"
      ],
      "text/plain": [
       "    PREV_CAT_PERC  NMOCKS  BEST_MOCK  TOP3_MOCK  AVG_MOCK  PROC_PERC  \\\n",
       "0           92.00      16      96.84      94.95     84.23      84.36   \n",
       "1           70.00      20      86.48      84.78     68.95      71.06   \n",
       "2           47.08      20      70.34      67.14     47.08      47.08   \n",
       "3           97.00      10      99.98      99.97     99.52      99.39   \n",
       "4           70.00      15      94.16      86.00     71.10      71.10   \n",
       "5           87.61      20      96.95      96.48     87.61      93.94   \n",
       "6           97.00      20      95.80      94.99     86.50      82.23   \n",
       "7           97.00      18      99.89      99.86     97.32      98.44   \n",
       "8           90.45       8      99.69      96.87     90.45      90.56   \n",
       "9           70.00      19      92.71      91.20     75.89      75.55   \n",
       "10          87.00       7      99.08      93.24     65.26      65.26   \n",
       "11          92.00      18      90.47      86.20     69.65      73.92   \n",
       "12          92.00      17      99.57      98.87     93.29      93.28   \n",
       "13          92.13      13      99.23      98.42     92.13      94.10   \n",
       "14          70.00      10      84.27      81.81     63.25      66.50   \n",
       "15          73.23      14      89.64      84.66     73.23      76.56   \n",
       "16          79.84       6      94.48      90.11     79.84      84.71   \n",
       "17          84.82      14      96.03      95.25     84.82      84.34   \n",
       "18          36.46      17      62.02      51.48     36.46      40.60   \n",
       "19          89.90       8      96.55      95.29     89.90      89.90   \n",
       "20          69.02      14      91.94      84.16     69.02      54.49   \n",
       "21          70.00      19      82.17      64.69     46.59      48.86   \n",
       "22          92.00       7      99.19      94.05     85.22      99.19   \n",
       "23          70.00      19      89.12      87.80     67.64      68.32   \n",
       "24          57.74      21      90.61      84.32     57.74      58.98   \n",
       "25          90.25       9      99.11      98.42     90.25      90.25   \n",
       "26          82.00      18      97.27      93.78     78.52      78.93   \n",
       "27          82.00      19      89.88      88.23     76.47      76.47   \n",
       "28          70.00      17      88.07      79.98     48.41      59.67   \n",
       "29          67.60      13      85.15      81.40     67.60      68.10   \n",
       "30          95.50      10      99.00      98.69     98.00      99.50   \n",
       "\n",
       "    DIFF_ACC  TOP5_MOCK  NPROCS  EASY_ACC  DIFF_ATTX100  \n",
       "0       0.22      93.69      14      0.53          53.0  \n",
       "1       0.13      83.56      18      0.43          33.0  \n",
       "2       0.12      63.96      20      0.34          54.0  \n",
       "3       0.45      99.94       7      0.79          73.0  \n",
       "4       0.16      83.99      15      0.43          37.0  \n",
       "5       0.21      95.93       5      0.56          57.0  \n",
       "6       0.20      94.15       5      0.54          49.0  \n",
       "7       0.31      99.75      12      0.70          60.0  \n",
       "8       0.28      95.01       7      0.56          58.0  \n",
       "9       0.19      89.70       5      0.46          50.0  \n",
       "10      0.15      76.82       7      0.43          38.0  \n",
       "11      0.15      83.62       7      0.45          49.0  \n",
       "12      0.26      97.71      16      0.62          55.0  \n",
       "13      0.26      97.68       9      0.63          74.0  \n",
       "14      0.13      76.88       6      0.39          31.0  \n",
       "15      0.12      82.90      10      0.48          41.0  \n",
       "16      0.21      84.71       5      0.53          68.0  \n",
       "17      0.23      93.71      12      0.55          59.0  \n",
       "18      0.07      46.54       5      0.27          22.0  \n",
       "19      0.27      92.92       8      0.52          47.0  \n",
       "20      0.11      80.87       2      0.46          30.0  \n",
       "21      0.11      60.62      12      0.33          38.0  \n",
       "22      0.18      90.76       1      0.55          50.0  \n",
       "23      0.18      86.50      18      0.43          52.0  \n",
       "24      0.12      77.31      17      0.37          43.0  \n",
       "25      0.25      95.93       9      0.58          55.0  \n",
       "26      0.21      91.51       8      0.50          56.0  \n",
       "27      0.15      86.67      19      0.48          39.0  \n",
       "28      0.09      70.97       8      0.33          38.0  \n",
       "29      0.17      79.32       7      0.46          50.0  \n",
       "30      0.40      97.79       7      0.75          73.0  "
      ]
     },
     "execution_count": 269,
     "metadata": {},
     "output_type": "execute_result"
    }
   ],
   "source": [
    "X_test"
   ]
  },
  {
   "cell_type": "code",
   "execution_count": 180,
   "metadata": {
    "collapsed": true
   },
   "outputs": [],
   "source": [
    "Scores = pd.DataFrame({'actual': Y_test})\n",
    "for index, prediction in enumerate(predictions):\n",
    "    column = pd.DataFrame({index: prediction})\n",
    "    Scores = Scores.join(column.set_index(Scores.index))"
   ]
  },
  {
   "cell_type": "code",
   "execution_count": 181,
   "metadata": {},
   "outputs": [
    {
     "data": {
      "text/html": [
       "<div>\n",
       "<style>\n",
       "    .dataframe thead tr:only-child th {\n",
       "        text-align: right;\n",
       "    }\n",
       "\n",
       "    .dataframe thead th {\n",
       "        text-align: left;\n",
       "    }\n",
       "\n",
       "    .dataframe tbody tr th {\n",
       "        vertical-align: top;\n",
       "    }\n",
       "</style>\n",
       "<table border=\"1\" class=\"dataframe\">\n",
       "  <thead>\n",
       "    <tr style=\"text-align: right;\">\n",
       "      <th></th>\n",
       "      <th>actual</th>\n",
       "      <th>0</th>\n",
       "      <th>1</th>\n",
       "      <th>2</th>\n",
       "      <th>3</th>\n",
       "      <th>4</th>\n",
       "      <th>5</th>\n",
       "      <th>6</th>\n",
       "      <th>7</th>\n",
       "      <th>8</th>\n",
       "      <th>9</th>\n",
       "      <th>10</th>\n",
       "      <th>11</th>\n",
       "    </tr>\n",
       "  </thead>\n",
       "  <tbody>\n",
       "    <tr>\n",
       "      <th>2414</th>\n",
       "      <td>97.09</td>\n",
       "      <td>96.624178</td>\n",
       "      <td>96.526703</td>\n",
       "      <td>96.624178</td>\n",
       "      <td>96.922</td>\n",
       "      <td>96.589707</td>\n",
       "      <td>96.753164</td>\n",
       "      <td>97.020</td>\n",
       "      <td>96.618044</td>\n",
       "      <td>96.523789</td>\n",
       "      <td>96.412376</td>\n",
       "      <td>96.84</td>\n",
       "      <td>95.688090</td>\n",
       "    </tr>\n",
       "    <tr>\n",
       "      <th>1536</th>\n",
       "      <td>91.94</td>\n",
       "      <td>86.834756</td>\n",
       "      <td>86.728943</td>\n",
       "      <td>86.834756</td>\n",
       "      <td>87.382</td>\n",
       "      <td>85.916398</td>\n",
       "      <td>83.777020</td>\n",
       "      <td>87.358</td>\n",
       "      <td>86.037909</td>\n",
       "      <td>86.565721</td>\n",
       "      <td>87.553306</td>\n",
       "      <td>92.66</td>\n",
       "      <td>86.485325</td>\n",
       "    </tr>\n",
       "    <tr>\n",
       "      <th>2368</th>\n",
       "      <td>70.47</td>\n",
       "      <td>67.320951</td>\n",
       "      <td>68.066849</td>\n",
       "      <td>67.320951</td>\n",
       "      <td>66.619</td>\n",
       "      <td>67.325791</td>\n",
       "      <td>65.460121</td>\n",
       "      <td>67.616</td>\n",
       "      <td>67.142823</td>\n",
       "      <td>67.699213</td>\n",
       "      <td>70.408848</td>\n",
       "      <td>68.05</td>\n",
       "      <td>66.867396</td>\n",
       "    </tr>\n",
       "    <tr>\n",
       "      <th>158</th>\n",
       "      <td>99.77</td>\n",
       "      <td>94.370349</td>\n",
       "      <td>97.385063</td>\n",
       "      <td>94.370349</td>\n",
       "      <td>96.052</td>\n",
       "      <td>98.221489</td>\n",
       "      <td>98.957176</td>\n",
       "      <td>96.939</td>\n",
       "      <td>100.472855</td>\n",
       "      <td>97.320067</td>\n",
       "      <td>92.401098</td>\n",
       "      <td>98.93</td>\n",
       "      <td>96.387635</td>\n",
       "    </tr>\n",
       "    <tr>\n",
       "      <th>3318</th>\n",
       "      <td>91.20</td>\n",
       "      <td>88.909348</td>\n",
       "      <td>88.517784</td>\n",
       "      <td>88.909348</td>\n",
       "      <td>88.742</td>\n",
       "      <td>88.444170</td>\n",
       "      <td>90.709770</td>\n",
       "      <td>89.301</td>\n",
       "      <td>88.910375</td>\n",
       "      <td>88.531038</td>\n",
       "      <td>88.585717</td>\n",
       "      <td>95.41</td>\n",
       "      <td>87.325814</td>\n",
       "    </tr>\n",
       "    <tr>\n",
       "      <th>3111</th>\n",
       "      <td>99.35</td>\n",
       "      <td>98.505864</td>\n",
       "      <td>97.488663</td>\n",
       "      <td>98.505864</td>\n",
       "      <td>96.776</td>\n",
       "      <td>98.470024</td>\n",
       "      <td>97.378320</td>\n",
       "      <td>97.200</td>\n",
       "      <td>97.989232</td>\n",
       "      <td>97.586386</td>\n",
       "      <td>99.239787</td>\n",
       "      <td>98.92</td>\n",
       "      <td>95.339034</td>\n",
       "    </tr>\n",
       "    <tr>\n",
       "      <th>2809</th>\n",
       "      <td>96.33</td>\n",
       "      <td>97.946515</td>\n",
       "      <td>97.850342</td>\n",
       "      <td>97.946515</td>\n",
       "      <td>98.406</td>\n",
       "      <td>97.684712</td>\n",
       "      <td>98.542061</td>\n",
       "      <td>97.690</td>\n",
       "      <td>97.475050</td>\n",
       "      <td>97.827028</td>\n",
       "      <td>98.171408</td>\n",
       "      <td>97.92</td>\n",
       "      <td>95.005050</td>\n",
       "    </tr>\n",
       "    <tr>\n",
       "      <th>266</th>\n",
       "      <td>99.82</td>\n",
       "      <td>97.859984</td>\n",
       "      <td>98.992073</td>\n",
       "      <td>97.859984</td>\n",
       "      <td>99.588</td>\n",
       "      <td>99.727137</td>\n",
       "      <td>99.354708</td>\n",
       "      <td>99.476</td>\n",
       "      <td>100.417360</td>\n",
       "      <td>98.985619</td>\n",
       "      <td>98.347753</td>\n",
       "      <td>99.69</td>\n",
       "      <td>96.387635</td>\n",
       "    </tr>\n",
       "    <tr>\n",
       "      <th>2216</th>\n",
       "      <td>97.65</td>\n",
       "      <td>98.863846</td>\n",
       "      <td>98.077118</td>\n",
       "      <td>98.863846</td>\n",
       "      <td>97.584</td>\n",
       "      <td>98.711388</td>\n",
       "      <td>97.249620</td>\n",
       "      <td>96.566</td>\n",
       "      <td>98.948147</td>\n",
       "      <td>97.839067</td>\n",
       "      <td>98.074656</td>\n",
       "      <td>95.27</td>\n",
       "      <td>96.387635</td>\n",
       "    </tr>\n",
       "    <tr>\n",
       "      <th>2852</th>\n",
       "      <td>97.68</td>\n",
       "      <td>93.609853</td>\n",
       "      <td>93.906326</td>\n",
       "      <td>93.609853</td>\n",
       "      <td>96.849</td>\n",
       "      <td>93.185093</td>\n",
       "      <td>95.786235</td>\n",
       "      <td>93.852</td>\n",
       "      <td>92.924491</td>\n",
       "      <td>94.378554</td>\n",
       "      <td>93.531767</td>\n",
       "      <td>92.83</td>\n",
       "      <td>91.947248</td>\n",
       "    </tr>\n",
       "    <tr>\n",
       "      <th>935</th>\n",
       "      <td>87.51</td>\n",
       "      <td>94.526371</td>\n",
       "      <td>89.968796</td>\n",
       "      <td>94.526371</td>\n",
       "      <td>90.562</td>\n",
       "      <td>97.292926</td>\n",
       "      <td>88.096623</td>\n",
       "      <td>86.400</td>\n",
       "      <td>99.378972</td>\n",
       "      <td>89.499773</td>\n",
       "      <td>93.676188</td>\n",
       "      <td>93.14</td>\n",
       "      <td>90.560629</td>\n",
       "    </tr>\n",
       "    <tr>\n",
       "      <th>2834</th>\n",
       "      <td>93.37</td>\n",
       "      <td>89.444141</td>\n",
       "      <td>89.047592</td>\n",
       "      <td>89.444141</td>\n",
       "      <td>89.718</td>\n",
       "      <td>89.585360</td>\n",
       "      <td>89.021195</td>\n",
       "      <td>90.088</td>\n",
       "      <td>89.943744</td>\n",
       "      <td>89.462239</td>\n",
       "      <td>88.741920</td>\n",
       "      <td>91.72</td>\n",
       "      <td>87.452710</td>\n",
       "    </tr>\n",
       "    <tr>\n",
       "      <th>163</th>\n",
       "      <td>93.39</td>\n",
       "      <td>98.628051</td>\n",
       "      <td>98.044815</td>\n",
       "      <td>98.628051</td>\n",
       "      <td>97.801</td>\n",
       "      <td>99.342108</td>\n",
       "      <td>98.465080</td>\n",
       "      <td>98.829</td>\n",
       "      <td>99.452086</td>\n",
       "      <td>98.104304</td>\n",
       "      <td>99.575362</td>\n",
       "      <td>99.91</td>\n",
       "      <td>96.387635</td>\n",
       "    </tr>\n",
       "    <tr>\n",
       "      <th>51</th>\n",
       "      <td>99.68</td>\n",
       "      <td>98.803337</td>\n",
       "      <td>98.097160</td>\n",
       "      <td>98.803337</td>\n",
       "      <td>98.362</td>\n",
       "      <td>99.528947</td>\n",
       "      <td>98.740737</td>\n",
       "      <td>97.881</td>\n",
       "      <td>99.100859</td>\n",
       "      <td>98.477708</td>\n",
       "      <td>100.856477</td>\n",
       "      <td>99.31</td>\n",
       "      <td>96.387635</td>\n",
       "    </tr>\n",
       "    <tr>\n",
       "      <th>1413</th>\n",
       "      <td>90.24</td>\n",
       "      <td>85.306201</td>\n",
       "      <td>86.392654</td>\n",
       "      <td>85.306201</td>\n",
       "      <td>86.657</td>\n",
       "      <td>84.369797</td>\n",
       "      <td>84.986267</td>\n",
       "      <td>85.632</td>\n",
       "      <td>85.214715</td>\n",
       "      <td>85.982893</td>\n",
       "      <td>85.021043</td>\n",
       "      <td>82.95</td>\n",
       "      <td>82.585395</td>\n",
       "    </tr>\n",
       "    <tr>\n",
       "      <th>1669</th>\n",
       "      <td>89.01</td>\n",
       "      <td>87.971844</td>\n",
       "      <td>89.892815</td>\n",
       "      <td>87.971844</td>\n",
       "      <td>89.431</td>\n",
       "      <td>87.148377</td>\n",
       "      <td>87.270578</td>\n",
       "      <td>85.659</td>\n",
       "      <td>87.102936</td>\n",
       "      <td>89.559099</td>\n",
       "      <td>90.590233</td>\n",
       "      <td>92.73</td>\n",
       "      <td>86.349571</td>\n",
       "    </tr>\n",
       "    <tr>\n",
       "      <th>2577</th>\n",
       "      <td>99.67</td>\n",
       "      <td>92.152220</td>\n",
       "      <td>93.124977</td>\n",
       "      <td>92.152220</td>\n",
       "      <td>92.507</td>\n",
       "      <td>92.563979</td>\n",
       "      <td>92.835164</td>\n",
       "      <td>93.309</td>\n",
       "      <td>92.404582</td>\n",
       "      <td>93.020505</td>\n",
       "      <td>94.722732</td>\n",
       "      <td>89.38</td>\n",
       "      <td>92.502024</td>\n",
       "    </tr>\n",
       "    <tr>\n",
       "      <th>984</th>\n",
       "      <td>95.85</td>\n",
       "      <td>96.269557</td>\n",
       "      <td>97.059837</td>\n",
       "      <td>96.269557</td>\n",
       "      <td>97.936</td>\n",
       "      <td>96.372023</td>\n",
       "      <td>97.677618</td>\n",
       "      <td>97.859</td>\n",
       "      <td>96.234430</td>\n",
       "      <td>97.160573</td>\n",
       "      <td>97.177094</td>\n",
       "      <td>97.11</td>\n",
       "      <td>95.688090</td>\n",
       "    </tr>\n",
       "    <tr>\n",
       "      <th>2433</th>\n",
       "      <td>61.25</td>\n",
       "      <td>54.642413</td>\n",
       "      <td>56.301994</td>\n",
       "      <td>54.642413</td>\n",
       "      <td>53.153</td>\n",
       "      <td>54.110109</td>\n",
       "      <td>52.457319</td>\n",
       "      <td>53.400</td>\n",
       "      <td>55.270664</td>\n",
       "      <td>54.767891</td>\n",
       "      <td>56.744779</td>\n",
       "      <td>44.88</td>\n",
       "      <td>51.944867</td>\n",
       "    </tr>\n",
       "    <tr>\n",
       "      <th>1091</th>\n",
       "      <td>99.85</td>\n",
       "      <td>98.134626</td>\n",
       "      <td>96.072098</td>\n",
       "      <td>98.134626</td>\n",
       "      <td>97.039</td>\n",
       "      <td>97.087687</td>\n",
       "      <td>95.711449</td>\n",
       "      <td>97.748</td>\n",
       "      <td>97.288236</td>\n",
       "      <td>95.977384</td>\n",
       "      <td>96.831773</td>\n",
       "      <td>99.37</td>\n",
       "      <td>94.384536</td>\n",
       "    </tr>\n",
       "  </tbody>\n",
       "</table>\n",
       "</div>"
      ],
      "text/plain": [
       "      actual          0          1          2       3          4          5  \\\n",
       "2414   97.09  96.624178  96.526703  96.624178  96.922  96.589707  96.753164   \n",
       "1536   91.94  86.834756  86.728943  86.834756  87.382  85.916398  83.777020   \n",
       "2368   70.47  67.320951  68.066849  67.320951  66.619  67.325791  65.460121   \n",
       "158    99.77  94.370349  97.385063  94.370349  96.052  98.221489  98.957176   \n",
       "3318   91.20  88.909348  88.517784  88.909348  88.742  88.444170  90.709770   \n",
       "3111   99.35  98.505864  97.488663  98.505864  96.776  98.470024  97.378320   \n",
       "2809   96.33  97.946515  97.850342  97.946515  98.406  97.684712  98.542061   \n",
       "266    99.82  97.859984  98.992073  97.859984  99.588  99.727137  99.354708   \n",
       "2216   97.65  98.863846  98.077118  98.863846  97.584  98.711388  97.249620   \n",
       "2852   97.68  93.609853  93.906326  93.609853  96.849  93.185093  95.786235   \n",
       "935    87.51  94.526371  89.968796  94.526371  90.562  97.292926  88.096623   \n",
       "2834   93.37  89.444141  89.047592  89.444141  89.718  89.585360  89.021195   \n",
       "163    93.39  98.628051  98.044815  98.628051  97.801  99.342108  98.465080   \n",
       "51     99.68  98.803337  98.097160  98.803337  98.362  99.528947  98.740737   \n",
       "1413   90.24  85.306201  86.392654  85.306201  86.657  84.369797  84.986267   \n",
       "1669   89.01  87.971844  89.892815  87.971844  89.431  87.148377  87.270578   \n",
       "2577   99.67  92.152220  93.124977  92.152220  92.507  92.563979  92.835164   \n",
       "984    95.85  96.269557  97.059837  96.269557  97.936  96.372023  97.677618   \n",
       "2433   61.25  54.642413  56.301994  54.642413  53.153  54.110109  52.457319   \n",
       "1091   99.85  98.134626  96.072098  98.134626  97.039  97.087687  95.711449   \n",
       "\n",
       "           6           7          8           9     10         11  \n",
       "2414  97.020   96.618044  96.523789   96.412376  96.84  95.688090  \n",
       "1536  87.358   86.037909  86.565721   87.553306  92.66  86.485325  \n",
       "2368  67.616   67.142823  67.699213   70.408848  68.05  66.867396  \n",
       "158   96.939  100.472855  97.320067   92.401098  98.93  96.387635  \n",
       "3318  89.301   88.910375  88.531038   88.585717  95.41  87.325814  \n",
       "3111  97.200   97.989232  97.586386   99.239787  98.92  95.339034  \n",
       "2809  97.690   97.475050  97.827028   98.171408  97.92  95.005050  \n",
       "266   99.476  100.417360  98.985619   98.347753  99.69  96.387635  \n",
       "2216  96.566   98.948147  97.839067   98.074656  95.27  96.387635  \n",
       "2852  93.852   92.924491  94.378554   93.531767  92.83  91.947248  \n",
       "935   86.400   99.378972  89.499773   93.676188  93.14  90.560629  \n",
       "2834  90.088   89.943744  89.462239   88.741920  91.72  87.452710  \n",
       "163   98.829   99.452086  98.104304   99.575362  99.91  96.387635  \n",
       "51    97.881   99.100859  98.477708  100.856477  99.31  96.387635  \n",
       "1413  85.632   85.214715  85.982893   85.021043  82.95  82.585395  \n",
       "1669  85.659   87.102936  89.559099   90.590233  92.73  86.349571  \n",
       "2577  93.309   92.404582  93.020505   94.722732  89.38  92.502024  \n",
       "984   97.859   96.234430  97.160573   97.177094  97.11  95.688090  \n",
       "2433  53.400   55.270664  54.767891   56.744779  44.88  51.944867  \n",
       "1091  97.748   97.288236  95.977384   96.831773  99.37  94.384536  "
      ]
     },
     "execution_count": 181,
     "metadata": {},
     "output_type": "execute_result"
    }
   ],
   "source": [
    "Scores.iloc[:,:13].head(20)"
   ]
  },
  {
   "cell_type": "code",
   "execution_count": 239,
   "metadata": {},
   "outputs": [],
   "source": [
    "# numRegs - Number of regressors from index 0 in ensemble\n",
    "# 28 regressors are being used currently\n",
    "# mse - list of mean squared error values\n",
    "\n",
    "mse = []\n",
    "# stores list of predictions by ensembles\n",
    "ensemble_preds = []\n",
    "\n",
    "for numRegs in range(1,24):\n",
    "    \n",
    "    ensemble = []\n",
    "\n",
    "    for j in range(len(predictions[0])):\n",
    "        s = 0\n",
    "        for i in range(numRegs):\n",
    "            s = s + predictions[i][j]\n",
    "        ensemble.append(s/(numRegs))\n",
    "        \n",
    "    ensemble_preds.append(ensemble)\n",
    "    msscore = mean_squared_error(Y_test, ensemble)\n",
    "    rms = sqrt(msscore)\n",
    "    mse.append(rms)"
   ]
  },
  {
   "cell_type": "code",
   "execution_count": 240,
   "metadata": {},
   "outputs": [
    {
     "name": "stdout",
     "output_type": "stream",
     "text": [
      "0 4.2039290554180155\n",
      "1 4.091722500841808\n",
      "2 4.108522785792882\n",
      "3 4.137858457982497\n",
      "4 4.119430940097761\n",
      "5 4.1256830043271675\n",
      "6 4.130605443148953\n",
      "7 4.125670514941927\n",
      "8 4.122558617804862\n",
      "9 4.144557321395713\n",
      "10 4.150716017050583\n",
      "11 4.1284440493805405\n",
      "12 4.128117278602268\n",
      "13 4.136047774226851\n",
      "14 4.157444167469254\n",
      "15 4.158873051222603\n",
      "16 4.155320724370652\n",
      "17 4.154362918531322\n",
      "18 4.154908706003222\n",
      "19 4.155401757129342\n",
      "20 4.161813966086807\n",
      "21 4.169955483254268\n",
      "22 4.164050990831703\n"
     ]
    }
   ],
   "source": [
    "for i,j in enumerate(mse):\n",
    "    print(i,j)"
   ]
  },
  {
   "cell_type": "code",
   "execution_count": 256,
   "metadata": {},
   "outputs": [
    {
     "data": {
      "text/plain": [
       "[96.57544050509406,\n",
       " 86.78184960246725,\n",
       " 67.69389999435248,\n",
       " 95.87770606655445,\n",
       " 88.7135661828186,\n",
       " 97.99726360621948,\n",
       " 97.89842821304728,\n",
       " 98.4260283815702,\n",
       " 98.470482086219,\n",
       " 93.75808947150011,\n",
       " 92.24758318377707,\n",
       " 89.24586671346205,\n",
       " 98.33643319532412,\n",
       " 98.45024890638781,\n",
       " 85.849427646211,\n",
       " 88.93232919228296,\n",
       " 92.63859867911509,\n",
       " 96.66469730845067,\n",
       " 55.472203692308526,\n",
       " 97.10336212526016,\n",
       " 88.65809963357461,\n",
       " 69.48223313749689,\n",
       " 96.96614874529463,\n",
       " 88.17278347327691,\n",
       " 84.23044734151286,\n",
       " 98.77616870565178,\n",
       " 95.03433047340036,\n",
       " 91.13525814054677,\n",
       " 81.58053027108056,\n",
       " 84.8670383642936]"
      ]
     },
     "execution_count": 256,
     "metadata": {},
     "output_type": "execute_result"
    }
   ],
   "source": [
    "ensemble_preds[1][:30]"
   ]
  },
  {
   "cell_type": "code",
   "execution_count": 265,
   "metadata": {},
   "outputs": [],
   "source": [
    "top3 = X_test['TOP3_MOCK'][:30]"
   ]
  },
  {
   "cell_type": "code",
   "execution_count": 257,
   "metadata": {},
   "outputs": [],
   "source": [
    "# best performing enseble predicted scores\n",
    "ensemble_30 = ensemble_preds[1][:30]\n"
   ]
  },
  {
   "cell_type": "code",
   "execution_count": 266,
   "metadata": {
    "collapsed": true
   },
   "outputs": [],
   "source": [
    "Results = pd.DataFrame({'Actual_CAT_Score': Y_test})\n",
    "preds = pd.DataFrame({'PredictedByModel': ensemble_30})\n",
    "Results = Results.join(preds.set_index(Results.index))\n",
    "Top3 = pd.DataFrame({'TOP3_Mock': top3})\n",
    "Results = Results.join(Top3.set_index(Results.index))"
   ]
  },
  {
   "cell_type": "code",
   "execution_count": 267,
   "metadata": {},
   "outputs": [
    {
     "data": {
      "text/html": [
       "<div>\n",
       "<style>\n",
       "    .dataframe thead tr:only-child th {\n",
       "        text-align: right;\n",
       "    }\n",
       "\n",
       "    .dataframe thead th {\n",
       "        text-align: left;\n",
       "    }\n",
       "\n",
       "    .dataframe tbody tr th {\n",
       "        vertical-align: top;\n",
       "    }\n",
       "</style>\n",
       "<table border=\"1\" class=\"dataframe\">\n",
       "  <thead>\n",
       "    <tr style=\"text-align: right;\">\n",
       "      <th></th>\n",
       "      <th>Actual_CAT_Score</th>\n",
       "      <th>PredictedByModel</th>\n",
       "      <th>TOP3_Mock</th>\n",
       "    </tr>\n",
       "  </thead>\n",
       "  <tbody>\n",
       "    <tr>\n",
       "      <th>2414</th>\n",
       "      <td>97.09</td>\n",
       "      <td>96.575441</td>\n",
       "      <td>94.95</td>\n",
       "    </tr>\n",
       "    <tr>\n",
       "      <th>1536</th>\n",
       "      <td>91.94</td>\n",
       "      <td>86.781850</td>\n",
       "      <td>84.78</td>\n",
       "    </tr>\n",
       "    <tr>\n",
       "      <th>2368</th>\n",
       "      <td>70.47</td>\n",
       "      <td>67.693900</td>\n",
       "      <td>67.14</td>\n",
       "    </tr>\n",
       "    <tr>\n",
       "      <th>158</th>\n",
       "      <td>99.77</td>\n",
       "      <td>95.877706</td>\n",
       "      <td>99.97</td>\n",
       "    </tr>\n",
       "    <tr>\n",
       "      <th>3318</th>\n",
       "      <td>91.20</td>\n",
       "      <td>88.713566</td>\n",
       "      <td>86.00</td>\n",
       "    </tr>\n",
       "    <tr>\n",
       "      <th>3111</th>\n",
       "      <td>99.35</td>\n",
       "      <td>97.997264</td>\n",
       "      <td>96.48</td>\n",
       "    </tr>\n",
       "    <tr>\n",
       "      <th>2809</th>\n",
       "      <td>96.33</td>\n",
       "      <td>97.898428</td>\n",
       "      <td>94.99</td>\n",
       "    </tr>\n",
       "    <tr>\n",
       "      <th>266</th>\n",
       "      <td>99.82</td>\n",
       "      <td>98.426028</td>\n",
       "      <td>99.86</td>\n",
       "    </tr>\n",
       "    <tr>\n",
       "      <th>2216</th>\n",
       "      <td>97.65</td>\n",
       "      <td>98.470482</td>\n",
       "      <td>96.87</td>\n",
       "    </tr>\n",
       "    <tr>\n",
       "      <th>2852</th>\n",
       "      <td>97.68</td>\n",
       "      <td>93.758089</td>\n",
       "      <td>91.20</td>\n",
       "    </tr>\n",
       "    <tr>\n",
       "      <th>935</th>\n",
       "      <td>87.51</td>\n",
       "      <td>92.247583</td>\n",
       "      <td>93.24</td>\n",
       "    </tr>\n",
       "    <tr>\n",
       "      <th>2834</th>\n",
       "      <td>93.37</td>\n",
       "      <td>89.245867</td>\n",
       "      <td>86.20</td>\n",
       "    </tr>\n",
       "    <tr>\n",
       "      <th>163</th>\n",
       "      <td>93.39</td>\n",
       "      <td>98.336433</td>\n",
       "      <td>98.87</td>\n",
       "    </tr>\n",
       "    <tr>\n",
       "      <th>51</th>\n",
       "      <td>99.68</td>\n",
       "      <td>98.450249</td>\n",
       "      <td>98.42</td>\n",
       "    </tr>\n",
       "    <tr>\n",
       "      <th>1413</th>\n",
       "      <td>90.24</td>\n",
       "      <td>85.849428</td>\n",
       "      <td>81.81</td>\n",
       "    </tr>\n",
       "    <tr>\n",
       "      <th>1669</th>\n",
       "      <td>89.01</td>\n",
       "      <td>88.932329</td>\n",
       "      <td>84.66</td>\n",
       "    </tr>\n",
       "    <tr>\n",
       "      <th>2577</th>\n",
       "      <td>99.67</td>\n",
       "      <td>92.638599</td>\n",
       "      <td>90.11</td>\n",
       "    </tr>\n",
       "    <tr>\n",
       "      <th>984</th>\n",
       "      <td>95.85</td>\n",
       "      <td>96.664697</td>\n",
       "      <td>95.25</td>\n",
       "    </tr>\n",
       "    <tr>\n",
       "      <th>2433</th>\n",
       "      <td>61.25</td>\n",
       "      <td>55.472204</td>\n",
       "      <td>51.48</td>\n",
       "    </tr>\n",
       "    <tr>\n",
       "      <th>1091</th>\n",
       "      <td>99.85</td>\n",
       "      <td>97.103362</td>\n",
       "      <td>95.29</td>\n",
       "    </tr>\n",
       "    <tr>\n",
       "      <th>926</th>\n",
       "      <td>92.37</td>\n",
       "      <td>88.658100</td>\n",
       "      <td>84.16</td>\n",
       "    </tr>\n",
       "    <tr>\n",
       "      <th>650</th>\n",
       "      <td>66.51</td>\n",
       "      <td>69.482233</td>\n",
       "      <td>64.69</td>\n",
       "    </tr>\n",
       "    <tr>\n",
       "      <th>1176</th>\n",
       "      <td>97.10</td>\n",
       "      <td>96.966149</td>\n",
       "      <td>94.05</td>\n",
       "    </tr>\n",
       "    <tr>\n",
       "      <th>809</th>\n",
       "      <td>94.33</td>\n",
       "      <td>88.172783</td>\n",
       "      <td>87.80</td>\n",
       "    </tr>\n",
       "    <tr>\n",
       "      <th>2866</th>\n",
       "      <td>83.34</td>\n",
       "      <td>84.230447</td>\n",
       "      <td>84.32</td>\n",
       "    </tr>\n",
       "    <tr>\n",
       "      <th>2126</th>\n",
       "      <td>98.49</td>\n",
       "      <td>98.776169</td>\n",
       "      <td>98.42</td>\n",
       "    </tr>\n",
       "    <tr>\n",
       "      <th>622</th>\n",
       "      <td>99.25</td>\n",
       "      <td>95.034330</td>\n",
       "      <td>93.78</td>\n",
       "    </tr>\n",
       "    <tr>\n",
       "      <th>2783</th>\n",
       "      <td>84.22</td>\n",
       "      <td>91.135258</td>\n",
       "      <td>88.23</td>\n",
       "    </tr>\n",
       "    <tr>\n",
       "      <th>2239</th>\n",
       "      <td>71.72</td>\n",
       "      <td>81.580530</td>\n",
       "      <td>79.98</td>\n",
       "    </tr>\n",
       "    <tr>\n",
       "      <th>593</th>\n",
       "      <td>86.85</td>\n",
       "      <td>84.867038</td>\n",
       "      <td>81.40</td>\n",
       "    </tr>\n",
       "  </tbody>\n",
       "</table>\n",
       "</div>"
      ],
      "text/plain": [
       "      Actual_CAT_Score  PredictedByModel  TOP3_Mock\n",
       "2414             97.09         96.575441      94.95\n",
       "1536             91.94         86.781850      84.78\n",
       "2368             70.47         67.693900      67.14\n",
       "158              99.77         95.877706      99.97\n",
       "3318             91.20         88.713566      86.00\n",
       "3111             99.35         97.997264      96.48\n",
       "2809             96.33         97.898428      94.99\n",
       "266              99.82         98.426028      99.86\n",
       "2216             97.65         98.470482      96.87\n",
       "2852             97.68         93.758089      91.20\n",
       "935              87.51         92.247583      93.24\n",
       "2834             93.37         89.245867      86.20\n",
       "163              93.39         98.336433      98.87\n",
       "51               99.68         98.450249      98.42\n",
       "1413             90.24         85.849428      81.81\n",
       "1669             89.01         88.932329      84.66\n",
       "2577             99.67         92.638599      90.11\n",
       "984              95.85         96.664697      95.25\n",
       "2433             61.25         55.472204      51.48\n",
       "1091             99.85         97.103362      95.29\n",
       "926              92.37         88.658100      84.16\n",
       "650              66.51         69.482233      64.69\n",
       "1176             97.10         96.966149      94.05\n",
       "809              94.33         88.172783      87.80\n",
       "2866             83.34         84.230447      84.32\n",
       "2126             98.49         98.776169      98.42\n",
       "622              99.25         95.034330      93.78\n",
       "2783             84.22         91.135258      88.23\n",
       "2239             71.72         81.580530      79.98\n",
       "593              86.85         84.867038      81.40"
      ]
     },
     "execution_count": 267,
     "metadata": {},
     "output_type": "execute_result"
    }
   ],
   "source": [
    "Results"
   ]
  },
  {
   "cell_type": "code",
   "execution_count": 268,
   "metadata": {
    "collapsed": true
   },
   "outputs": [],
   "source": [
    "Results.to_csv('Comparing_Results.csv')"
   ]
  },
  {
   "cell_type": "code",
   "execution_count": null,
   "metadata": {
    "collapsed": true
   },
   "outputs": [],
   "source": []
  },
  {
   "cell_type": "code",
   "execution_count": 185,
   "metadata": {},
   "outputs": [
    {
     "data": {
      "image/png": "[encoded data removed]",
      "text/plain": [
       "<Figure size 432x288 with 1 Axes>"
      ]
     },
     "metadata": {},
     "output_type": "display_data"
    }
   ],
   "source": [
    "# After swapping RANSAC and Random Forrest models\n",
    "import matplotlib.pyplot as plt\n",
    "\n",
    "plt.plot(mse)\n",
    "plt.ylabel('some numbers')\n",
    "plt.show()"
   ]
  },
  {
   "cell_type": "code",
   "execution_count": null,
   "metadata": {
    "collapsed": true
   },
   "outputs": [],
   "source": []
  },
  {
   "cell_type": "code",
   "execution_count": 165,
   "metadata": {},
   "outputs": [
    {
     "data": {
      "image/png": "[encoded data removed]",
      "text/plain": [
       "<Figure size 432x288 with 1 Axes>"
      ]
     },
     "metadata": {},
     "output_type": "display_data"
    }
   ],
   "source": [
    "# here we can see RANSAC Model earleier present at index 10 destroyed ensembling model\n",
    "import matplotlib.pyplot as plt\n",
    "plt.plot(mse)\n",
    "plt.ylabel('some numbers')\n",
    "plt.show()"
   ]
  },
  {
   "cell_type": "code",
   "execution_count": null,
   "metadata": {
    "collapsed": true
   },
   "outputs": [],
   "source": []
  },
  {
   "cell_type": "markdown",
   "metadata": {
    "collapsed": true
   },
   "source": [
    "# Findings"
   ]
  },
  {
   "cell_type": "markdown",
   "metadata": {
    "collapsed": true
   },
   "source": [
    "Average of Linear Regression, XGboost gives the lowest RMS 4.0917"
   ]
  },
  {
   "cell_type": "code",
   "execution_count": null,
   "metadata": {
    "collapsed": true
   },
   "outputs": [],
   "source": []
  },
  {
   "cell_type": "code",
   "execution_count": null,
   "metadata": {
    "collapsed": true
   },
   "outputs": [],
   "source": []
  },
  {
   "cell_type": "markdown",
   "metadata": {},
   "source": [
    "## Experiment"
   ]
  },
  {
   "cell_type": "code",
   "execution_count": 244,
   "metadata": {},
   "outputs": [],
   "source": [
    "Y_test = Y_test.head(30)"
   ]
  },
  {
   "cell_type": "code",
   "execution_count": 231,
   "metadata": {},
   "outputs": [
    {
     "data": {
      "text/plain": [
       "(569, 11)"
      ]
     },
     "execution_count": 231,
     "metadata": {},
     "output_type": "execute_result"
    }
   ],
   "source": [
    "X_test.shape"
   ]
  },
  {
   "cell_type": "code",
   "execution_count": 245,
   "metadata": {},
   "outputs": [],
   "source": [
    "X_test = X_test.head(30)"
   ]
  },
  {
   "cell_type": "code",
   "execution_count": 246,
   "metadata": {},
   "outputs": [],
   "source": [
    "# Value of a student with avg mock score 99.52\n",
    "#PREV_CAT_PERC\tNMOCKS\tBEST_MOCK\tTOP3_MOCK\tAVG_MOCK\tPROC_PERC\tDIFF_ACC\tTOP5_MOCK\tNPROCS\tEASY_ACC\tDIFF_ATTX100\n",
    "# 97.00\t10\t99.98\t99.97\t99.52\t99.39\t0.45\t99.94\t7\t0.79\t73.0\n",
    "\n",
    "student1 = pd.DataFrame([[95.50, 10, 99.00, 98.69, 98.00, 99.50, 0.4, 97.79, 7, 0.75,73.0]],                      \n",
    "                      columns=['PREV_CAT_PERC','NMOCKS','BEST_MOCK','TOP3_MOCK','AVG_MOCK','PROC_PERC','DIFF_ACC','TOP5_MOCK','NPROCS','EASY_ACC', 'DIFF_ATTX100'])       "
   ]
  },
  {
   "cell_type": "code",
   "execution_count": 247,
   "metadata": {
    "collapsed": true
   },
   "outputs": [],
   "source": [
    "prediction_experiment = []"
   ]
  },
  {
   "cell_type": "code",
   "execution_count": 248,
   "metadata": {},
   "outputs": [
    {
     "data": {
      "text/plain": [
       "(1320, 11)"
      ]
     },
     "execution_count": 248,
     "metadata": {},
     "output_type": "execute_result"
    }
   ],
   "source": [
    "X_train.shape"
   ]
  },
  {
   "cell_type": "code",
   "execution_count": 249,
   "metadata": {},
   "outputs": [
    {
     "data": {
      "text/html": [
       "<div>\n",
       "<style>\n",
       "    .dataframe thead tr:only-child th {\n",
       "        text-align: right;\n",
       "    }\n",
       "\n",
       "    .dataframe thead th {\n",
       "        text-align: left;\n",
       "    }\n",
       "\n",
       "    .dataframe tbody tr th {\n",
       "        vertical-align: top;\n",
       "    }\n",
       "</style>\n",
       "<table border=\"1\" class=\"dataframe\">\n",
       "  <thead>\n",
       "    <tr style=\"text-align: right;\">\n",
       "      <th></th>\n",
       "      <th>PREV_CAT_PERC</th>\n",
       "      <th>NMOCKS</th>\n",
       "      <th>BEST_MOCK</th>\n",
       "      <th>TOP3_MOCK</th>\n",
       "      <th>AVG_MOCK</th>\n",
       "      <th>PROC_PERC</th>\n",
       "      <th>DIFF_ACC</th>\n",
       "      <th>TOP5_MOCK</th>\n",
       "      <th>NPROCS</th>\n",
       "      <th>EASY_ACC</th>\n",
       "      <th>DIFF_ATTX100</th>\n",
       "    </tr>\n",
       "  </thead>\n",
       "  <tbody>\n",
       "    <tr>\n",
       "      <th>26</th>\n",
       "      <td>82.0</td>\n",
       "      <td>18</td>\n",
       "      <td>97.27</td>\n",
       "      <td>93.78</td>\n",
       "      <td>78.52</td>\n",
       "      <td>78.93</td>\n",
       "      <td>0.21</td>\n",
       "      <td>91.51</td>\n",
       "      <td>8</td>\n",
       "      <td>0.50</td>\n",
       "      <td>56.0</td>\n",
       "    </tr>\n",
       "    <tr>\n",
       "      <th>27</th>\n",
       "      <td>82.0</td>\n",
       "      <td>19</td>\n",
       "      <td>89.88</td>\n",
       "      <td>88.23</td>\n",
       "      <td>76.47</td>\n",
       "      <td>76.47</td>\n",
       "      <td>0.15</td>\n",
       "      <td>86.67</td>\n",
       "      <td>19</td>\n",
       "      <td>0.48</td>\n",
       "      <td>39.0</td>\n",
       "    </tr>\n",
       "    <tr>\n",
       "      <th>28</th>\n",
       "      <td>70.0</td>\n",
       "      <td>17</td>\n",
       "      <td>88.07</td>\n",
       "      <td>79.98</td>\n",
       "      <td>48.41</td>\n",
       "      <td>59.67</td>\n",
       "      <td>0.09</td>\n",
       "      <td>70.97</td>\n",
       "      <td>8</td>\n",
       "      <td>0.33</td>\n",
       "      <td>38.0</td>\n",
       "    </tr>\n",
       "    <tr>\n",
       "      <th>29</th>\n",
       "      <td>67.6</td>\n",
       "      <td>13</td>\n",
       "      <td>85.15</td>\n",
       "      <td>81.40</td>\n",
       "      <td>67.60</td>\n",
       "      <td>68.10</td>\n",
       "      <td>0.17</td>\n",
       "      <td>79.32</td>\n",
       "      <td>7</td>\n",
       "      <td>0.46</td>\n",
       "      <td>50.0</td>\n",
       "    </tr>\n",
       "    <tr>\n",
       "      <th>30</th>\n",
       "      <td>95.5</td>\n",
       "      <td>10</td>\n",
       "      <td>99.00</td>\n",
       "      <td>98.69</td>\n",
       "      <td>98.00</td>\n",
       "      <td>99.50</td>\n",
       "      <td>0.40</td>\n",
       "      <td>97.79</td>\n",
       "      <td>7</td>\n",
       "      <td>0.75</td>\n",
       "      <td>73.0</td>\n",
       "    </tr>\n",
       "  </tbody>\n",
       "</table>\n",
       "</div>"
      ],
      "text/plain": [
       "    PREV_CAT_PERC  NMOCKS  BEST_MOCK  TOP3_MOCK  AVG_MOCK  PROC_PERC  \\\n",
       "26           82.0      18      97.27      93.78     78.52      78.93   \n",
       "27           82.0      19      89.88      88.23     76.47      76.47   \n",
       "28           70.0      17      88.07      79.98     48.41      59.67   \n",
       "29           67.6      13      85.15      81.40     67.60      68.10   \n",
       "30           95.5      10      99.00      98.69     98.00      99.50   \n",
       "\n",
       "    DIFF_ACC  TOP5_MOCK  NPROCS  EASY_ACC  DIFF_ATTX100  \n",
       "26      0.21      91.51       8      0.50          56.0  \n",
       "27      0.15      86.67      19      0.48          39.0  \n",
       "28      0.09      70.97       8      0.33          38.0  \n",
       "29      0.17      79.32       7      0.46          50.0  \n",
       "30      0.40      97.79       7      0.75          73.0  "
      ]
     },
     "execution_count": 249,
     "metadata": {},
     "output_type": "execute_result"
    }
   ],
   "source": [
    "# Appending our experimental student \n",
    "X_test = X_test.append(student1, ignore_index=True)\n",
    "X_test.tail(5)"
   ]
  },
  {
   "cell_type": "code",
   "execution_count": 250,
   "metadata": {},
   "outputs": [],
   "source": [
    "# taking only XGBRegressor and Linear Regressor\n",
    "for i in range(2):\n",
    "    Regressors[i].fit(X_train,Y_train)\n",
    "    prediction = Regressors[i].predict(X_test)\n",
    "    prediction_experiment.append(prediction)"
   ]
  },
  {
   "cell_type": "code",
   "execution_count": 253,
   "metadata": {},
   "outputs": [
    {
     "data": {
      "text/plain": [
       "0     94.95\n",
       "1     84.78\n",
       "2     67.14\n",
       "3     99.97\n",
       "4     86.00\n",
       "5     96.48\n",
       "6     94.99\n",
       "7     99.86\n",
       "8     96.87\n",
       "9     91.20\n",
       "10    93.24\n",
       "11    86.20\n",
       "12    98.87\n",
       "13    98.42\n",
       "14    81.81\n",
       "15    84.66\n",
       "16    90.11\n",
       "17    95.25\n",
       "18    51.48\n",
       "19    95.29\n",
       "20    84.16\n",
       "21    64.69\n",
       "22    94.05\n",
       "23    87.80\n",
       "24    84.32\n",
       "25    98.42\n",
       "26    93.78\n",
       "27    88.23\n",
       "28    79.98\n",
       "29    81.40\n",
       "30    98.69\n",
       "Name: TOP3_MOCK, dtype: float64"
      ]
     },
     "execution_count": 253,
     "metadata": {},
     "output_type": "execute_result"
    }
   ],
   "source": [
    "X_test['TOP3_MOCK']"
   ]
  },
  {
   "cell_type": "code",
   "execution_count": 251,
   "metadata": {},
   "outputs": [
    {
     "data": {
      "text/plain": [
       "[array([96.62417813, 86.83475633, 67.32095123, 94.37034896, 88.90934825,\n",
       "        98.50586449, 97.94651463, 97.8599837 , 98.86384625, 93.60985265,\n",
       "        94.52637059, 89.44414126, 98.62805133, 98.80333747, 85.30620087,\n",
       "        87.97184375, 92.15222025, 96.26955728, 54.64241306, 98.13462647,\n",
       "        88.0519323 , 67.99453372, 97.99298932, 88.56863518, 85.15975485,\n",
       "        99.82612586, 95.43536779, 90.26936424, 82.22733709, 83.35993122,\n",
       "        94.73803728]),\n",
       " array([96.5267  , 86.72894 , 68.06685 , 97.38506 , 88.517784, 97.48866 ,\n",
       "        97.85034 , 98.99207 , 98.07712 , 93.90633 , 89.968796, 89.04759 ,\n",
       "        98.044815, 98.09716 , 86.392654, 89.892815, 93.12498 , 97.05984 ,\n",
       "        56.301994, 96.0721  , 89.26427 , 70.96993 , 95.93931 , 87.77693 ,\n",
       "        83.30114 , 97.72621 , 94.63329 , 92.00115 , 80.93372 , 86.374146,\n",
       "        98.40218 ], dtype=float32)]"
      ]
     },
     "execution_count": 251,
     "metadata": {},
     "output_type": "execute_result"
    }
   ],
   "source": [
    "prediction_experiment"
   ]
  },
  {
   "cell_type": "code",
   "execution_count": 291,
   "metadata": {},
   "outputs": [
    {
     "data": {
      "text/html": [
       "<div>\n",
       "<style>\n",
       "    .dataframe thead tr:only-child th {\n",
       "        text-align: right;\n",
       "    }\n",
       "\n",
       "    .dataframe thead th {\n",
       "        text-align: left;\n",
       "    }\n",
       "\n",
       "    .dataframe tbody tr th {\n",
       "        vertical-align: top;\n",
       "    }\n",
       "</style>\n",
       "<table border=\"1\" class=\"dataframe\">\n",
       "  <thead>\n",
       "    <tr style=\"text-align: right;\">\n",
       "      <th></th>\n",
       "      <th>USER_ID</th>\n",
       "      <th>CAT_PERC</th>\n",
       "      <th>PREV_CAT_PERC</th>\n",
       "      <th>NMOCKS</th>\n",
       "      <th>BEST_MOCK</th>\n",
       "      <th>TOP3_MOCK</th>\n",
       "      <th>AVG_MOCK</th>\n",
       "      <th>PROC_PERC</th>\n",
       "      <th>DIFF_ATT</th>\n",
       "      <th>DIFF_ACC</th>\n",
       "      <th>TOP5_MOCK</th>\n",
       "      <th>TOP8_MOCK</th>\n",
       "      <th>NPROCS</th>\n",
       "      <th>EASY_ATT</th>\n",
       "      <th>EASY_ACC</th>\n",
       "      <th>DIFF_ATTX100</th>\n",
       "      <th>DIFF_ACCX100</th>\n",
       "      <th>EASY_ATTX100</th>\n",
       "      <th>EASY_ACCX100</th>\n",
       "    </tr>\n",
       "  </thead>\n",
       "  <tbody>\n",
       "    <tr>\n",
       "      <th>0</th>\n",
       "      <td>2809628</td>\n",
       "      <td>81.53</td>\n",
       "      <td>49.75</td>\n",
       "      <td>19</td>\n",
       "      <td>86.32</td>\n",
       "      <td>78.76</td>\n",
       "      <td>49.75</td>\n",
       "      <td>56.37</td>\n",
       "      <td>0.52</td>\n",
       "      <td>0.13</td>\n",
       "      <td>74.49</td>\n",
       "      <td>68.98</td>\n",
       "      <td>9</td>\n",
       "      <td>0.55</td>\n",
       "      <td>0.36</td>\n",
       "      <td>52.0</td>\n",
       "      <td>13.0</td>\n",
       "      <td>55.0</td>\n",
       "      <td>36.0</td>\n",
       "    </tr>\n",
       "    <tr>\n",
       "      <th>1</th>\n",
       "      <td>2809643</td>\n",
       "      <td>90.30</td>\n",
       "      <td>70.00</td>\n",
       "      <td>16</td>\n",
       "      <td>88.00</td>\n",
       "      <td>82.52</td>\n",
       "      <td>69.58</td>\n",
       "      <td>67.96</td>\n",
       "      <td>0.41</td>\n",
       "      <td>0.16</td>\n",
       "      <td>80.85</td>\n",
       "      <td>79.24</td>\n",
       "      <td>13</td>\n",
       "      <td>0.57</td>\n",
       "      <td>0.45</td>\n",
       "      <td>41.0</td>\n",
       "      <td>16.0</td>\n",
       "      <td>57.0</td>\n",
       "      <td>45.0</td>\n",
       "    </tr>\n",
       "    <tr>\n",
       "      <th>2</th>\n",
       "      <td>2809688</td>\n",
       "      <td>90.53</td>\n",
       "      <td>82.00</td>\n",
       "      <td>18</td>\n",
       "      <td>96.51</td>\n",
       "      <td>93.42</td>\n",
       "      <td>81.08</td>\n",
       "      <td>83.48</td>\n",
       "      <td>0.58</td>\n",
       "      <td>0.21</td>\n",
       "      <td>91.35</td>\n",
       "      <td>88.83</td>\n",
       "      <td>6</td>\n",
       "      <td>0.67</td>\n",
       "      <td>0.51</td>\n",
       "      <td>58.0</td>\n",
       "      <td>21.0</td>\n",
       "      <td>67.0</td>\n",
       "      <td>51.0</td>\n",
       "    </tr>\n",
       "    <tr>\n",
       "      <th>3</th>\n",
       "      <td>2809701</td>\n",
       "      <td>98.66</td>\n",
       "      <td>87.00</td>\n",
       "      <td>20</td>\n",
       "      <td>95.53</td>\n",
       "      <td>93.43</td>\n",
       "      <td>74.50</td>\n",
       "      <td>77.59</td>\n",
       "      <td>0.46</td>\n",
       "      <td>0.19</td>\n",
       "      <td>89.31</td>\n",
       "      <td>85.10</td>\n",
       "      <td>15</td>\n",
       "      <td>0.58</td>\n",
       "      <td>0.45</td>\n",
       "      <td>46.0</td>\n",
       "      <td>19.0</td>\n",
       "      <td>58.0</td>\n",
       "      <td>45.0</td>\n",
       "    </tr>\n",
       "    <tr>\n",
       "      <th>5</th>\n",
       "      <td>2809762</td>\n",
       "      <td>98.53</td>\n",
       "      <td>85.42</td>\n",
       "      <td>18</td>\n",
       "      <td>99.79</td>\n",
       "      <td>97.14</td>\n",
       "      <td>85.42</td>\n",
       "      <td>85.42</td>\n",
       "      <td>0.48</td>\n",
       "      <td>0.22</td>\n",
       "      <td>95.71</td>\n",
       "      <td>94.38</td>\n",
       "      <td>18</td>\n",
       "      <td>0.64</td>\n",
       "      <td>0.54</td>\n",
       "      <td>48.0</td>\n",
       "      <td>22.0</td>\n",
       "      <td>64.0</td>\n",
       "      <td>54.0</td>\n",
       "    </tr>\n",
       "  </tbody>\n",
       "</table>\n",
       "</div>"
      ],
      "text/plain": [
       "   USER_ID  CAT_PERC  PREV_CAT_PERC  NMOCKS  BEST_MOCK  TOP3_MOCK  AVG_MOCK  \\\n",
       "0  2809628     81.53          49.75      19      86.32      78.76     49.75   \n",
       "1  2809643     90.30          70.00      16      88.00      82.52     69.58   \n",
       "2  2809688     90.53          82.00      18      96.51      93.42     81.08   \n",
       "3  2809701     98.66          87.00      20      95.53      93.43     74.50   \n",
       "5  2809762     98.53          85.42      18      99.79      97.14     85.42   \n",
       "\n",
       "   PROC_PERC  DIFF_ATT  DIFF_ACC  TOP5_MOCK  TOP8_MOCK  NPROCS  EASY_ATT  \\\n",
       "0      56.37      0.52      0.13      74.49      68.98       9      0.55   \n",
       "1      67.96      0.41      0.16      80.85      79.24      13      0.57   \n",
       "2      83.48      0.58      0.21      91.35      88.83       6      0.67   \n",
       "3      77.59      0.46      0.19      89.31      85.10      15      0.58   \n",
       "5      85.42      0.48      0.22      95.71      94.38      18      0.64   \n",
       "\n",
       "   EASY_ACC  DIFF_ATTX100  DIFF_ACCX100  EASY_ATTX100  EASY_ACCX100  \n",
       "0      0.36          52.0          13.0          55.0          36.0  \n",
       "1      0.45          41.0          16.0          57.0          45.0  \n",
       "2      0.51          58.0          21.0          67.0          51.0  \n",
       "3      0.45          46.0          19.0          58.0          45.0  \n",
       "5      0.54          48.0          22.0          64.0          54.0  "
      ]
     },
     "execution_count": 291,
     "metadata": {},
     "output_type": "execute_result"
    }
   ],
   "source": [
    "data.head()"
   ]
  },
  {
   "cell_type": "code",
   "execution_count": null,
   "metadata": {
    "collapsed": true
   },
   "outputs": [],
   "source": []
  },
  {
   "cell_type": "markdown",
   "metadata": {},
   "source": [
    "<b> Please Run the cells from here</b>"
   ]
  },
  {
   "cell_type": "code",
   "execution_count": 322,
   "metadata": {
    "collapsed": true
   },
   "outputs": [],
   "source": [
    "obj = {}\n",
    "\n",
    "# Edit these arguments and run below cells to get mean of each extent\n",
    "bucket_size = 2\n",
    "start = 80\n",
    "stop = 100\n",
    "\n",
    "\n",
    "def make_buckets(data,bucket_size,start,stop):\n",
    "    for i in range(start,stop,bucket_size):\n",
    "        obj[i] = []\n",
    "        for index,row in data.iterrows():\n",
    "            if(row['TOP3_MOCK'] >= i and row['TOP3_MOCK'] < (i+bucket_size)):\n",
    "                #obj[i].append(row['TOP3_MOCK'])\n",
    "                obj[i].append(row['CAT_PERC'])"
   ]
  },
  {
   "cell_type": "code",
   "execution_count": 323,
   "metadata": {},
   "outputs": [],
   "source": [
    "make_buckets(data,bucket_size,start,stop)"
   ]
  },
  {
   "cell_type": "code",
   "execution_count": 324,
   "metadata": {
    "collapsed": true
   },
   "outputs": [],
   "source": [
    "import seaborn as sns\n",
    "from scipy.stats import norm"
   ]
  },
  {
   "cell_type": "code",
   "execution_count": 325,
   "metadata": {
    "scrolled": false
   },
   "outputs": [
    {
     "name": "stdout",
     "output_type": "stream",
     "text": [
      "Distribution Plots of Cat_PERC when TOP3_Mock in Range 80 - 82\n",
      "Mean of Bucket : 84.38305084745762  Standard Deviation :  5.321099750684681\n"
     ]
    },
    {
     "name": "stderr",
     "output_type": "stream",
     "text": [
      "C:\\Users\\DELL PC\\Anaconda3\\lib\\site-packages\\scipy\\stats\\stats.py:1713: FutureWarning: Using a non-tuple sequence for multidimensional indexing is deprecated; use `arr[tuple(seq)]` instead of `arr[seq]`. In the future this will be interpreted as an array index, `arr[np.array(seq)]`, which will result either in an error or a different result.\n",
      "  return np.add.reduce(sorted[indexer] * weights, axis=axis) / sumval\n",
      "C:\\Users\\DELL PC\\Anaconda3\\lib\\site-packages\\matplotlib\\axes\\_axes.py:6462: UserWarning: The 'normed' kwarg is deprecated, and has been replaced by the 'density' kwarg.\n",
      "  warnings.warn(\"The 'normed' kwarg is deprecated, and has been \"\n"
     ]
    },
    {
     "data": {
      "image/png": "[encoded data removed]",
      "text/plain": [
       "<Figure size 576x396 with 1 Axes>"
      ]
     },
     "metadata": {},
     "output_type": "display_data"
    },
    {
     "name": "stderr",
     "output_type": "stream",
     "text": [
      "C:\\Users\\DELL PC\\Anaconda3\\lib\\site-packages\\matplotlib\\axes\\_axes.py:6462: UserWarning: The 'normed' kwarg is deprecated, and has been replaced by the 'density' kwarg.\n",
      "  warnings.warn(\"The 'normed' kwarg is deprecated, and has been \"\n"
     ]
    },
    {
     "name": "stdout",
     "output_type": "stream",
     "text": [
      "Distribution Plots of Cat_PERC when TOP3_Mock in Range 82 - 84\n",
      "Mean of Bucket : 86.09048387096774  Standard Deviation :  4.753660873616539\n"
     ]
    },
    {
     "data": {
      "image/png": "[encoded data removed]",
      "text/plain": [
       "<Figure size 576x396 with 1 Axes>"
      ]
     },
     "metadata": {},
     "output_type": "display_data"
    },
    {
     "name": "stderr",
     "output_type": "stream",
     "text": [
      "C:\\Users\\DELL PC\\Anaconda3\\lib\\site-packages\\matplotlib\\axes\\_axes.py:6462: UserWarning: The 'normed' kwarg is deprecated, and has been replaced by the 'density' kwarg.\n",
      "  warnings.warn(\"The 'normed' kwarg is deprecated, and has been \"\n"
     ]
    },
    {
     "name": "stdout",
     "output_type": "stream",
     "text": [
      "Distribution Plots of Cat_PERC when TOP3_Mock in Range 84 - 86\n",
      "Mean of Bucket : 88.14279569892471  Standard Deviation :  4.744736612015556\n"
     ]
    },
    {
     "data": {
      "image/png": "[encoded data removed]",
      "text/plain": [
       "<Figure size 576x396 with 1 Axes>"
      ]
     },
     "metadata": {},
     "output_type": "display_data"
    },
    {
     "name": "stderr",
     "output_type": "stream",
     "text": [
      "C:\\Users\\DELL PC\\Anaconda3\\lib\\site-packages\\matplotlib\\axes\\_axes.py:6462: UserWarning: The 'normed' kwarg is deprecated, and has been replaced by the 'density' kwarg.\n",
      "  warnings.warn(\"The 'normed' kwarg is deprecated, and has been \"\n"
     ]
    },
    {
     "name": "stdout",
     "output_type": "stream",
     "text": [
      "Distribution Plots of Cat_PERC when TOP3_Mock in Range 86 - 88\n",
      "Mean of Bucket : 90.406  Standard Deviation :  4.98077985861652\n"
     ]
    },
    {
     "data": {
      "image/png": "[encoded data removed]",
      "text/plain": [
       "<Figure size 576x396 with 1 Axes>"
      ]
     },
     "metadata": {},
     "output_type": "display_data"
    },
    {
     "name": "stderr",
     "output_type": "stream",
     "text": [
      "C:\\Users\\DELL PC\\Anaconda3\\lib\\site-packages\\matplotlib\\axes\\_axes.py:6462: UserWarning: The 'normed' kwarg is deprecated, and has been replaced by the 'density' kwarg.\n",
      "  warnings.warn(\"The 'normed' kwarg is deprecated, and has been \"\n"
     ]
    },
    {
     "name": "stdout",
     "output_type": "stream",
     "text": [
      "Distribution Plots of Cat_PERC when TOP3_Mock in Range 88 - 90\n",
      "Mean of Bucket : 92.63214285714285  Standard Deviation :  4.176502601410879\n"
     ]
    },
    {
     "data": {
      "image/png": "[encoded data removed]",
      "text/plain": [
       "<Figure size 576x396 with 1 Axes>"
      ]
     },
     "metadata": {},
     "output_type": "display_data"
    },
    {
     "name": "stderr",
     "output_type": "stream",
     "text": [
      "C:\\Users\\DELL PC\\Anaconda3\\lib\\site-packages\\matplotlib\\axes\\_axes.py:6462: UserWarning: The 'normed' kwarg is deprecated, and has been replaced by the 'density' kwarg.\n",
      "  warnings.warn(\"The 'normed' kwarg is deprecated, and has been \"\n"
     ]
    },
    {
     "name": "stdout",
     "output_type": "stream",
     "text": [
      "Distribution Plots of Cat_PERC when TOP3_Mock in Range 90 - 92\n",
      "Mean of Bucket : 94.36616883116884  Standard Deviation :  3.4878518670982452\n"
     ]
    },
    {
     "data": {
      "image/png": "[encoded data removed]",
      "text/plain": [
       "<Figure size 576x396 with 1 Axes>"
      ]
     },
     "metadata": {},
     "output_type": "display_data"
    },
    {
     "name": "stderr",
     "output_type": "stream",
     "text": [
      "C:\\Users\\DELL PC\\Anaconda3\\lib\\site-packages\\matplotlib\\axes\\_axes.py:6462: UserWarning: The 'normed' kwarg is deprecated, and has been replaced by the 'density' kwarg.\n",
      "  warnings.warn(\"The 'normed' kwarg is deprecated, and has been \"\n"
     ]
    },
    {
     "name": "stdout",
     "output_type": "stream",
     "text": [
      "Distribution Plots of Cat_PERC when TOP3_Mock in Range 92 - 94\n",
      "Mean of Bucket : 94.49208092485549  Standard Deviation :  4.00475645732278\n"
     ]
    },
    {
     "data": {
      "image/png": "[encoded data removed]",
      "text/plain": [
       "<Figure size 576x396 with 1 Axes>"
      ]
     },
     "metadata": {},
     "output_type": "display_data"
    },
    {
     "name": "stdout",
     "output_type": "stream",
     "text": [
      "Distribution Plots of Cat_PERC when TOP3_Mock in Range 94 - 96\n",
      "Mean of Bucket : 96.32229050279331  Standard Deviation :  3.0132878541792913\n"
     ]
    },
    {
     "name": "stderr",
     "output_type": "stream",
     "text": [
      "C:\\Users\\DELL PC\\Anaconda3\\lib\\site-packages\\matplotlib\\axes\\_axes.py:6462: UserWarning: The 'normed' kwarg is deprecated, and has been replaced by the 'density' kwarg.\n",
      "  warnings.warn(\"The 'normed' kwarg is deprecated, and has been \"\n"
     ]
    },
    {
     "data": {
      "image/png": "[encoded data removed]",
      "text/plain": [
       "<Figure size 576x396 with 1 Axes>"
      ]
     },
     "metadata": {},
     "output_type": "display_data"
    },
    {
     "name": "stderr",
     "output_type": "stream",
     "text": [
      "C:\\Users\\DELL PC\\Anaconda3\\lib\\site-packages\\matplotlib\\axes\\_axes.py:6462: UserWarning: The 'normed' kwarg is deprecated, and has been replaced by the 'density' kwarg.\n",
      "  warnings.warn(\"The 'normed' kwarg is deprecated, and has been \"\n"
     ]
    },
    {
     "name": "stdout",
     "output_type": "stream",
     "text": [
      "Distribution Plots of Cat_PERC when TOP3_Mock in Range 96 - 98\n",
      "Mean of Bucket : 97.39391534391535  Standard Deviation :  2.313651575298443\n"
     ]
    },
    {
     "data": {
      "image/png": "[encoded data removed]",
      "text/plain": [
       "<Figure size 576x396 with 1 Axes>"
      ]
     },
     "metadata": {},
     "output_type": "display_data"
    },
    {
     "name": "stdout",
     "output_type": "stream",
     "text": [
      "Distribution Plots of Cat_PERC when TOP3_Mock in Range 98 - 100\n",
      "Mean of Bucket : 98.42970833333334  Standard Deviation :  1.9009599324895186\n"
     ]
    },
    {
     "name": "stderr",
     "output_type": "stream",
     "text": [
      "C:\\Users\\DELL PC\\Anaconda3\\lib\\site-packages\\matplotlib\\axes\\_axes.py:6462: UserWarning: The 'normed' kwarg is deprecated, and has been replaced by the 'density' kwarg.\n",
      "  warnings.warn(\"The 'normed' kwarg is deprecated, and has been \"\n"
     ]
    },
    {
     "data": {
      "image/png": "[encoded data removed]",
      "text/plain": [
       "<Figure size 576x396 with 1 Axes>"
      ]
     },
     "metadata": {},
     "output_type": "display_data"
    }
   ],
   "source": [
    "for i in obj:\n",
    "    sns.distplot(obj[i])\n",
    "    (mu, sigma) = norm.fit(obj[i])\n",
    "    print('Distribution Plots of Cat_PERC when TOP3_Mock in Range',i,'-',i+bucket_size,end='\\n')\n",
    "    print('Mean of Bucket :',mu,' Standard Deviation : ',sigma)\n",
    "    plt.show()\n",
    "    plt.close()"
   ]
  },
  {
   "cell_type": "code",
   "execution_count": null,
   "metadata": {
    "collapsed": true
   },
   "outputs": [],
   "source": []
  },
  {
   "cell_type": "code",
   "execution_count": null,
   "metadata": {
    "collapsed": true
   },
   "outputs": [],
   "source": []
  },
  {
   "cell_type": "code",
   "execution_count": null,
   "metadata": {
    "collapsed": true
   },
   "outputs": [],
   "source": []
  },
  {
   "cell_type": "code",
   "execution_count": null,
   "metadata": {
    "collapsed": true
   },
   "outputs": [],
   "source": []
  }
 ],
 "metadata": {
  "kernelspec": {
   "display_name": "Python 3",
   "language": "python",
   "name": "python3"
  },
  "language_info": {
   "codemirror_mode": {
    "name": "ipython",
    "version": 3
   },
   "file_extension": ".py",
   "mimetype": "text/x-python",
   "name": "python",
   "nbconvert_exporter": "python",
   "pygments_lexer": "ipython3",
   "version": "3.6.1"
  }
 },
 "nbformat": 4,
 "nbformat_minor": 2
}
