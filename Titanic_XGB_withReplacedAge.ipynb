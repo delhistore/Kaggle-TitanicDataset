{
 "cells": [
  {
   "cell_type": "markdown",
   "metadata": {},
   "source": [
    "# Titanic Survival Prediction"
   ]
  },
  {
   "cell_type": "markdown",
   "metadata": {},
   "source": [
    "Dataset Description :   \n",
    "\n",
    "<br>PassengerId: and id given to each traveler on the boat\n",
    "<br>Pclass: the passenger class. It has three possible values: 1,2,3 (first, second and third class)\n",
    "<br>The Name of the passeger\n",
    "<br>The Sex\n",
    "<br>The Age\n",
    "<br>SibSp: number of siblings and spouses traveling with the passenger\n",
    "<br>Parch: number of parents and children traveling with the passenger\n",
    "<br>The ticket number\n",
    "<br>The ticket Fare\n",
    "<br>The cabin number\n",
    "<br>The embarkation. This describes three possible ports at which people boarded Titanic. Three possible values S,C,Q"
   ]
  },
  {
   "cell_type": "code",
   "execution_count": 211,
   "metadata": {
    "collapsed": true
   },
   "outputs": [],
   "source": [
    "train_location = 'train.csv'\n",
    "Original_train_location = 'trainOriginal.csv'\n",
    "test_location = 'test.csv'\n",
    "Original_test_location = 'testOriginal.csv'"
   ]
  },
  {
   "cell_type": "code",
   "execution_count": 212,
   "metadata": {},
   "outputs": [],
   "source": [
    "import numpy as np\n",
    "import pandas as pd\n",
    "from sklearn.cross_validation import cross_val_score\n",
    "from sklearn.grid_search import GridSearchCV\n",
    "from sklearn.grid_search import RandomizedSearchCV\n",
    "import matplotlib as plt"
   ]
  },
  {
   "cell_type": "markdown",
   "metadata": {},
   "source": [
    "WOA - Without Age \n",
    "<br> WA - With Age"
   ]
  },
  {
   "cell_type": "code",
   "execution_count": 213,
   "metadata": {
    "collapsed": true
   },
   "outputs": [],
   "source": [
    "trainData = pd.read_csv(train_location)\n",
    "testData = pd.read_csv(test_location)"
   ]
  },
  {
   "cell_type": "code",
   "execution_count": 214,
   "metadata": {},
   "outputs": [
    {
     "data": {
      "text/html": [
       "<div>\n",
       "<style>\n",
       "    .dataframe thead tr:only-child th {\n",
       "        text-align: right;\n",
       "    }\n",
       "\n",
       "    .dataframe thead th {\n",
       "        text-align: left;\n",
       "    }\n",
       "\n",
       "    .dataframe tbody tr th {\n",
       "        vertical-align: top;\n",
       "    }\n",
       "</style>\n",
       "<table border=\"1\" class=\"dataframe\">\n",
       "  <thead>\n",
       "    <tr style=\"text-align: right;\">\n",
       "      <th></th>\n",
       "      <th>Name</th>\n",
       "      <th>Pclass</th>\n",
       "      <th>Sex</th>\n",
       "      <th>Age</th>\n",
       "      <th>SibSp</th>\n",
       "      <th>Parch</th>\n",
       "      <th>Fare</th>\n",
       "      <th>Embarked</th>\n",
       "      <th>Survived</th>\n",
       "    </tr>\n",
       "  </thead>\n",
       "  <tbody>\n",
       "    <tr>\n",
       "      <th>0</th>\n",
       "      <td>Braund, Mr. Owen Harris</td>\n",
       "      <td>3</td>\n",
       "      <td>0</td>\n",
       "      <td>22.0</td>\n",
       "      <td>1</td>\n",
       "      <td>0</td>\n",
       "      <td>7.2500</td>\n",
       "      <td>1.0</td>\n",
       "      <td>0</td>\n",
       "    </tr>\n",
       "    <tr>\n",
       "      <th>1</th>\n",
       "      <td>Cumings, Mrs. John Bradley (Florence Briggs Th...</td>\n",
       "      <td>1</td>\n",
       "      <td>1</td>\n",
       "      <td>38.0</td>\n",
       "      <td>1</td>\n",
       "      <td>0</td>\n",
       "      <td>71.2833</td>\n",
       "      <td>0.0</td>\n",
       "      <td>1</td>\n",
       "    </tr>\n",
       "    <tr>\n",
       "      <th>2</th>\n",
       "      <td>Heikkinen, Miss. Laina</td>\n",
       "      <td>3</td>\n",
       "      <td>1</td>\n",
       "      <td>26.0</td>\n",
       "      <td>0</td>\n",
       "      <td>0</td>\n",
       "      <td>7.9250</td>\n",
       "      <td>1.0</td>\n",
       "      <td>1</td>\n",
       "    </tr>\n",
       "    <tr>\n",
       "      <th>3</th>\n",
       "      <td>Futrelle, Mrs. Jacques Heath (Lily May Peel)</td>\n",
       "      <td>1</td>\n",
       "      <td>1</td>\n",
       "      <td>35.0</td>\n",
       "      <td>1</td>\n",
       "      <td>0</td>\n",
       "      <td>53.1000</td>\n",
       "      <td>1.0</td>\n",
       "      <td>1</td>\n",
       "    </tr>\n",
       "    <tr>\n",
       "      <th>4</th>\n",
       "      <td>Allen, Mr. William Henry</td>\n",
       "      <td>3</td>\n",
       "      <td>0</td>\n",
       "      <td>35.0</td>\n",
       "      <td>0</td>\n",
       "      <td>0</td>\n",
       "      <td>8.0500</td>\n",
       "      <td>1.0</td>\n",
       "      <td>0</td>\n",
       "    </tr>\n",
       "  </tbody>\n",
       "</table>\n",
       "</div>"
      ],
      "text/plain": [
       "                                                Name  Pclass  Sex   Age  \\\n",
       "0                            Braund, Mr. Owen Harris       3    0  22.0   \n",
       "1  Cumings, Mrs. John Bradley (Florence Briggs Th...       1    1  38.0   \n",
       "2                             Heikkinen, Miss. Laina       3    1  26.0   \n",
       "3       Futrelle, Mrs. Jacques Heath (Lily May Peel)       1    1  35.0   \n",
       "4                           Allen, Mr. William Henry       3    0  35.0   \n",
       "\n",
       "   SibSp  Parch     Fare  Embarked  Survived  \n",
       "0      1      0   7.2500       1.0         0  \n",
       "1      1      0  71.2833       0.0         1  \n",
       "2      0      0   7.9250       1.0         1  \n",
       "3      1      0  53.1000       1.0         1  \n",
       "4      0      0   8.0500       1.0         0  "
      ]
     },
     "execution_count": 214,
     "metadata": {},
     "output_type": "execute_result"
    }
   ],
   "source": [
    "trainData.head()"
   ]
  },
  {
   "cell_type": "code",
   "execution_count": 215,
   "metadata": {},
   "outputs": [
    {
     "data": {
      "text/plain": [
       "(891, 9)"
      ]
     },
     "execution_count": 215,
     "metadata": {},
     "output_type": "execute_result"
    }
   ],
   "source": [
    "trainData.shape"
   ]
  },
  {
   "cell_type": "code",
   "execution_count": 216,
   "metadata": {},
   "outputs": [
    {
     "data": {
      "text/html": [
       "<div>\n",
       "<style>\n",
       "    .dataframe thead tr:only-child th {\n",
       "        text-align: right;\n",
       "    }\n",
       "\n",
       "    .dataframe thead th {\n",
       "        text-align: left;\n",
       "    }\n",
       "\n",
       "    .dataframe tbody tr th {\n",
       "        vertical-align: top;\n",
       "    }\n",
       "</style>\n",
       "<table border=\"1\" class=\"dataframe\">\n",
       "  <thead>\n",
       "    <tr style=\"text-align: right;\">\n",
       "      <th></th>\n",
       "      <th>Name</th>\n",
       "      <th>Pclass</th>\n",
       "      <th>Sex</th>\n",
       "      <th>Age</th>\n",
       "      <th>SibSp</th>\n",
       "      <th>Parch</th>\n",
       "      <th>Fare</th>\n",
       "      <th>Embarked</th>\n",
       "    </tr>\n",
       "  </thead>\n",
       "  <tbody>\n",
       "    <tr>\n",
       "      <th>0</th>\n",
       "      <td>Kelly, Mr. James</td>\n",
       "      <td>3</td>\n",
       "      <td>0</td>\n",
       "      <td>34.5</td>\n",
       "      <td>0</td>\n",
       "      <td>0</td>\n",
       "      <td>7.8292</td>\n",
       "      <td>2</td>\n",
       "    </tr>\n",
       "    <tr>\n",
       "      <th>1</th>\n",
       "      <td>Wilkes, Mrs. James (Ellen Needs)</td>\n",
       "      <td>3</td>\n",
       "      <td>1</td>\n",
       "      <td>47.0</td>\n",
       "      <td>1</td>\n",
       "      <td>0</td>\n",
       "      <td>7.0000</td>\n",
       "      <td>1</td>\n",
       "    </tr>\n",
       "    <tr>\n",
       "      <th>2</th>\n",
       "      <td>Myles, Mr. Thomas Francis</td>\n",
       "      <td>2</td>\n",
       "      <td>0</td>\n",
       "      <td>62.0</td>\n",
       "      <td>0</td>\n",
       "      <td>0</td>\n",
       "      <td>9.6875</td>\n",
       "      <td>2</td>\n",
       "    </tr>\n",
       "    <tr>\n",
       "      <th>3</th>\n",
       "      <td>Wirz, Mr. Albert</td>\n",
       "      <td>3</td>\n",
       "      <td>0</td>\n",
       "      <td>27.0</td>\n",
       "      <td>0</td>\n",
       "      <td>0</td>\n",
       "      <td>8.6625</td>\n",
       "      <td>1</td>\n",
       "    </tr>\n",
       "    <tr>\n",
       "      <th>4</th>\n",
       "      <td>Hirvonen, Mrs. Alexander (Helga E Lindqvist)</td>\n",
       "      <td>3</td>\n",
       "      <td>1</td>\n",
       "      <td>22.0</td>\n",
       "      <td>1</td>\n",
       "      <td>1</td>\n",
       "      <td>12.2875</td>\n",
       "      <td>1</td>\n",
       "    </tr>\n",
       "  </tbody>\n",
       "</table>\n",
       "</div>"
      ],
      "text/plain": [
       "                                           Name  Pclass  Sex   Age  SibSp  \\\n",
       "0                              Kelly, Mr. James       3    0  34.5      0   \n",
       "1              Wilkes, Mrs. James (Ellen Needs)       3    1  47.0      1   \n",
       "2                     Myles, Mr. Thomas Francis       2    0  62.0      0   \n",
       "3                              Wirz, Mr. Albert       3    0  27.0      0   \n",
       "4  Hirvonen, Mrs. Alexander (Helga E Lindqvist)       3    1  22.0      1   \n",
       "\n",
       "   Parch     Fare  Embarked  \n",
       "0      0   7.8292         2  \n",
       "1      0   7.0000         1  \n",
       "2      0   9.6875         2  \n",
       "3      0   8.6625         1  \n",
       "4      1  12.2875         1  "
      ]
     },
     "execution_count": 216,
     "metadata": {},
     "output_type": "execute_result"
    }
   ],
   "source": [
    "testData.head()"
   ]
  },
  {
   "cell_type": "code",
   "execution_count": 217,
   "metadata": {},
   "outputs": [
    {
     "data": {
      "text/plain": [
       "(418, 8)"
      ]
     },
     "execution_count": 217,
     "metadata": {},
     "output_type": "execute_result"
    }
   ],
   "source": [
    "testData.shape"
   ]
  },
  {
   "cell_type": "markdown",
   "metadata": {},
   "source": [
    "## Replacing Name with title "
   ]
  },
  {
   "cell_type": "markdown",
   "metadata": {},
   "source": [
    "Adding column titles:\n",
    "    <br> 0 - Mr.\n",
    "    <br> 1 - Master.\n",
    "    <br> 2 - Mrs.\n",
    "    <br> 3 - Miss.\n",
    "    "
   ]
  },
  {
   "cell_type": "code",
   "execution_count": 218,
   "metadata": {},
   "outputs": [
    {
     "name": "stdout",
     "output_type": "stream",
     "text": [
      "Reuchlin, Jonkheer. John George\n"
     ]
    }
   ],
   "source": [
    "titles = []\n",
    "k=0\n",
    "for i in trainData.iloc[:,0]:\n",
    "    foundTitle = 0\n",
    "    for title in i.split():\n",
    "        if (title in ['Mr.', 'Don.', 'Dr.', 'Major.', 'Col.', 'Rev.', 'Sir.', 'Capt.']):\n",
    "            titles.append(0)\n",
    "            foundTitle = 1\n",
    "            break\n",
    "        elif (title == 'Master.'):\n",
    "            titles.append(1)\n",
    "            foundTitle = 1\n",
    "            break\n",
    "        elif (title in ['Mrs.', 'Mme.', 'Lady.', 'Countess.']):\n",
    "            titles.append(2)\n",
    "            foundTitle = 1\n",
    "            break\n",
    "        elif (title in ['Miss.', 'Ms.', 'Mlle.']):\n",
    "            titles.append(3)\n",
    "            foundTitle = 1\n",
    "            break\n",
    "    \n",
    "    if(foundTitle == 0):\n",
    "        titles.append(0)\n",
    "        print(i)"
   ]
  },
  {
   "cell_type": "code",
   "execution_count": 219,
   "metadata": {},
   "outputs": [
    {
     "data": {
      "text/plain": [
       "891"
      ]
     },
     "execution_count": 219,
     "metadata": {},
     "output_type": "execute_result"
    }
   ],
   "source": [
    "len(titles)"
   ]
  },
  {
   "cell_type": "code",
   "execution_count": 220,
   "metadata": {},
   "outputs": [
    {
     "data": {
      "text/html": [
       "<div>\n",
       "<style>\n",
       "    .dataframe thead tr:only-child th {\n",
       "        text-align: right;\n",
       "    }\n",
       "\n",
       "    .dataframe thead th {\n",
       "        text-align: left;\n",
       "    }\n",
       "\n",
       "    .dataframe tbody tr th {\n",
       "        vertical-align: top;\n",
       "    }\n",
       "</style>\n",
       "<table border=\"1\" class=\"dataframe\">\n",
       "  <thead>\n",
       "    <tr style=\"text-align: right;\">\n",
       "      <th></th>\n",
       "      <th>Title</th>\n",
       "      <th>Pclass</th>\n",
       "      <th>Sex</th>\n",
       "      <th>Age</th>\n",
       "      <th>SibSp</th>\n",
       "      <th>Parch</th>\n",
       "      <th>Fare</th>\n",
       "      <th>Embarked</th>\n",
       "      <th>Survived</th>\n",
       "    </tr>\n",
       "  </thead>\n",
       "  <tbody>\n",
       "    <tr>\n",
       "      <th>0</th>\n",
       "      <td>0</td>\n",
       "      <td>3</td>\n",
       "      <td>0</td>\n",
       "      <td>22.0</td>\n",
       "      <td>1</td>\n",
       "      <td>0</td>\n",
       "      <td>7.2500</td>\n",
       "      <td>1.0</td>\n",
       "      <td>0</td>\n",
       "    </tr>\n",
       "    <tr>\n",
       "      <th>1</th>\n",
       "      <td>2</td>\n",
       "      <td>1</td>\n",
       "      <td>1</td>\n",
       "      <td>38.0</td>\n",
       "      <td>1</td>\n",
       "      <td>0</td>\n",
       "      <td>71.2833</td>\n",
       "      <td>0.0</td>\n",
       "      <td>1</td>\n",
       "    </tr>\n",
       "    <tr>\n",
       "      <th>2</th>\n",
       "      <td>3</td>\n",
       "      <td>3</td>\n",
       "      <td>1</td>\n",
       "      <td>26.0</td>\n",
       "      <td>0</td>\n",
       "      <td>0</td>\n",
       "      <td>7.9250</td>\n",
       "      <td>1.0</td>\n",
       "      <td>1</td>\n",
       "    </tr>\n",
       "    <tr>\n",
       "      <th>3</th>\n",
       "      <td>2</td>\n",
       "      <td>1</td>\n",
       "      <td>1</td>\n",
       "      <td>35.0</td>\n",
       "      <td>1</td>\n",
       "      <td>0</td>\n",
       "      <td>53.1000</td>\n",
       "      <td>1.0</td>\n",
       "      <td>1</td>\n",
       "    </tr>\n",
       "    <tr>\n",
       "      <th>4</th>\n",
       "      <td>0</td>\n",
       "      <td>3</td>\n",
       "      <td>0</td>\n",
       "      <td>35.0</td>\n",
       "      <td>0</td>\n",
       "      <td>0</td>\n",
       "      <td>8.0500</td>\n",
       "      <td>1.0</td>\n",
       "      <td>0</td>\n",
       "    </tr>\n",
       "  </tbody>\n",
       "</table>\n",
       "</div>"
      ],
      "text/plain": [
       "   Title  Pclass  Sex   Age  SibSp  Parch     Fare  Embarked  Survived\n",
       "0      0       3    0  22.0      1      0   7.2500       1.0         0\n",
       "1      2       1    1  38.0      1      0  71.2833       0.0         1\n",
       "2      3       3    1  26.0      0      0   7.9250       1.0         1\n",
       "3      2       1    1  35.0      1      0  53.1000       1.0         1\n",
       "4      0       3    0  35.0      0      0   8.0500       1.0         0"
      ]
     },
     "execution_count": 220,
     "metadata": {},
     "output_type": "execute_result"
    }
   ],
   "source": [
    "trainData.insert(loc=1, column='Title', value=titles)\n",
    "trainData = trainData.drop(labels=['Name'], axis=1) \n",
    "trainData.head()"
   ]
  },
  {
   "cell_type": "code",
   "execution_count": 221,
   "metadata": {},
   "outputs": [
    {
     "name": "stdout",
     "output_type": "stream",
     "text": [
      "Oliva y Ocana, Dona. Fermina\n"
     ]
    }
   ],
   "source": [
    "titles = []\n",
    "k=0\n",
    "for i in testData.iloc[:,0]:\n",
    "    foundTitle = 0\n",
    "    for title in i.split():\n",
    "        if (title in ['Mr.', 'Don.', 'Dr.', 'Major.', 'Col.', 'Rev.', 'Sir.', 'Capt.']):\n",
    "            titles.append(0)\n",
    "            foundTitle = 1\n",
    "            break\n",
    "        elif (title == 'Master.'):\n",
    "            titles.append(1)\n",
    "            foundTitle = 1\n",
    "            break\n",
    "        elif (title in ['Mrs.', 'Mme.', 'Lady.', 'Countess.']):\n",
    "            titles.append(2)\n",
    "            foundTitle = 1\n",
    "            break\n",
    "        elif (title in ['Miss.', 'Ms.', 'Mlle.']):\n",
    "            titles.append(3)\n",
    "            foundTitle = 1\n",
    "            break\n",
    "    \n",
    "    if(foundTitle == 0):\n",
    "        titles.append(3)\n",
    "        print(i)"
   ]
  },
  {
   "cell_type": "code",
   "execution_count": 222,
   "metadata": {},
   "outputs": [
    {
     "data": {
      "text/plain": [
       "418"
      ]
     },
     "execution_count": 222,
     "metadata": {},
     "output_type": "execute_result"
    }
   ],
   "source": [
    "len(titles)"
   ]
  },
  {
   "cell_type": "code",
   "execution_count": 223,
   "metadata": {},
   "outputs": [
    {
     "data": {
      "text/html": [
       "<div>\n",
       "<style>\n",
       "    .dataframe thead tr:only-child th {\n",
       "        text-align: right;\n",
       "    }\n",
       "\n",
       "    .dataframe thead th {\n",
       "        text-align: left;\n",
       "    }\n",
       "\n",
       "    .dataframe tbody tr th {\n",
       "        vertical-align: top;\n",
       "    }\n",
       "</style>\n",
       "<table border=\"1\" class=\"dataframe\">\n",
       "  <thead>\n",
       "    <tr style=\"text-align: right;\">\n",
       "      <th></th>\n",
       "      <th>Title</th>\n",
       "      <th>Pclass</th>\n",
       "      <th>Sex</th>\n",
       "      <th>Age</th>\n",
       "      <th>SibSp</th>\n",
       "      <th>Parch</th>\n",
       "      <th>Fare</th>\n",
       "      <th>Embarked</th>\n",
       "    </tr>\n",
       "  </thead>\n",
       "  <tbody>\n",
       "    <tr>\n",
       "      <th>0</th>\n",
       "      <td>0</td>\n",
       "      <td>3</td>\n",
       "      <td>0</td>\n",
       "      <td>34.5</td>\n",
       "      <td>0</td>\n",
       "      <td>0</td>\n",
       "      <td>7.8292</td>\n",
       "      <td>2</td>\n",
       "    </tr>\n",
       "    <tr>\n",
       "      <th>1</th>\n",
       "      <td>2</td>\n",
       "      <td>3</td>\n",
       "      <td>1</td>\n",
       "      <td>47.0</td>\n",
       "      <td>1</td>\n",
       "      <td>0</td>\n",
       "      <td>7.0000</td>\n",
       "      <td>1</td>\n",
       "    </tr>\n",
       "    <tr>\n",
       "      <th>2</th>\n",
       "      <td>0</td>\n",
       "      <td>2</td>\n",
       "      <td>0</td>\n",
       "      <td>62.0</td>\n",
       "      <td>0</td>\n",
       "      <td>0</td>\n",
       "      <td>9.6875</td>\n",
       "      <td>2</td>\n",
       "    </tr>\n",
       "    <tr>\n",
       "      <th>3</th>\n",
       "      <td>0</td>\n",
       "      <td>3</td>\n",
       "      <td>0</td>\n",
       "      <td>27.0</td>\n",
       "      <td>0</td>\n",
       "      <td>0</td>\n",
       "      <td>8.6625</td>\n",
       "      <td>1</td>\n",
       "    </tr>\n",
       "    <tr>\n",
       "      <th>4</th>\n",
       "      <td>2</td>\n",
       "      <td>3</td>\n",
       "      <td>1</td>\n",
       "      <td>22.0</td>\n",
       "      <td>1</td>\n",
       "      <td>1</td>\n",
       "      <td>12.2875</td>\n",
       "      <td>1</td>\n",
       "    </tr>\n",
       "  </tbody>\n",
       "</table>\n",
       "</div>"
      ],
      "text/plain": [
       "   Title  Pclass  Sex   Age  SibSp  Parch     Fare  Embarked\n",
       "0      0       3    0  34.5      0      0   7.8292         2\n",
       "1      2       3    1  47.0      1      0   7.0000         1\n",
       "2      0       2    0  62.0      0      0   9.6875         2\n",
       "3      0       3    0  27.0      0      0   8.6625         1\n",
       "4      2       3    1  22.0      1      1  12.2875         1"
      ]
     },
     "execution_count": 223,
     "metadata": {},
     "output_type": "execute_result"
    }
   ],
   "source": [
    "testData.insert(loc=1, column='Title', value=titles)\n",
    "testData = testData.drop(labels=['Name'], axis=1) \n",
    "testData.head()"
   ]
  },
  {
   "cell_type": "markdown",
   "metadata": {},
   "source": [
    "## Loading train and test data \n",
    "<br> With age - (predicting age with help Title and Fare) \n",
    "<br> Without age (dropping those rows where age is missing)"
   ]
  },
  {
   "cell_type": "code",
   "execution_count": 224,
   "metadata": {},
   "outputs": [
    {
     "data": {
      "text/plain": [
       "(891, 9)"
      ]
     },
     "execution_count": 224,
     "metadata": {},
     "output_type": "execute_result"
    }
   ],
   "source": [
    "trainData.shape"
   ]
  },
  {
   "cell_type": "code",
   "execution_count": 225,
   "metadata": {
    "collapsed": true
   },
   "outputs": [],
   "source": [
    "X_train_WA = trainData.iloc[:,:8].values\n",
    "Y_train_WA = trainData.iloc[:,8].values"
   ]
  },
  {
   "cell_type": "code",
   "execution_count": 226,
   "metadata": {
    "collapsed": true
   },
   "outputs": [],
   "source": [
    "# dropping any row where age is nan because it is a huge factor\n",
    "trainData_WOA = trainData.dropna(how='any',axis=0) \n",
    "X_train_WOA = trainData_WOA.iloc[:,:7].values\n",
    "Y_train_WOA = trainData_WOA.iloc[:,7].values"
   ]
  },
  {
   "cell_type": "code",
   "execution_count": 227,
   "metadata": {},
   "outputs": [
    {
     "data": {
      "text/plain": [
       "(418, 8)"
      ]
     },
     "execution_count": 227,
     "metadata": {},
     "output_type": "execute_result"
    }
   ],
   "source": [
    "testData.shape"
   ]
  },
  {
   "cell_type": "code",
   "execution_count": 228,
   "metadata": {
    "collapsed": true
   },
   "outputs": [],
   "source": [
    "testOriginalData = pd.read_csv(Original_test_location)"
   ]
  },
  {
   "cell_type": "code",
   "execution_count": 229,
   "metadata": {
    "collapsed": true
   },
   "outputs": [],
   "source": [
    "X_test_WA = testData.iloc[:,:8].values"
   ]
  },
  {
   "cell_type": "code",
   "execution_count": 230,
   "metadata": {
    "collapsed": true
   },
   "outputs": [],
   "source": [
    "testData_WOA = testData.dropna(how='any',axis=0) \n",
    "X_test_WOA = testData.iloc[:,:8].values"
   ]
  },
  {
   "cell_type": "markdown",
   "metadata": {},
   "source": [
    "## Replacing missing Age with the mean of respective Titles (Mr/Master/Mrs/Miss)"
   ]
  },
  {
   "cell_type": "code",
   "execution_count": 241,
   "metadata": {},
   "outputs": [],
   "source": [
    "ageMr = 0\n",
    "countMr = 0\n",
    "ageMaster = 0\n",
    "countMaster = 0\n",
    "ageMrs = 0\n",
    "countMrs = 0\n",
    "ageMiss = 0\n",
    "countMiss = 0\n",
    "missing = 0\n",
    "\n",
    "for index, row in trainData.iterrows():\n",
    "    if(row.isnull().any()):\n",
    "        missing = missing + 1\n",
    "    else:\n",
    "        if(row['Title'] == 0):\n",
    "            ageMr = ageMr + row['Age']\n",
    "            countMr = countMr + 1 \n",
    "        elif(row['Title'] == 1):\n",
    "            ageMaster = ageMaster + row['Age']\n",
    "            countMaster = countMaster + 1\n",
    "        elif(row['Title'] == 2):\n",
    "            ageMrs = ageMrs + row['Age']\n",
    "            countMrs = countMrs + 1\n",
    "        elif(row['Title'] == 3):\n",
    "            ageMiss = ageMiss + row['Age']\n",
    "            countMiss = countMiss + 1   "
   ]
  },
  {
   "cell_type": "code",
   "execution_count": 242,
   "metadata": {},
   "outputs": [
    {
     "name": "stdout",
     "output_type": "stream",
     "text": [
      "538 40 127 184 2\n"
     ]
    }
   ],
   "source": [
    "# Counting number of Mr, Master, Mrs, Miss, Missing Age in training set\n",
    "print(countMr, countMaster, countMrs, countMiss, missing)"
   ]
  },
  {
   "cell_type": "code",
   "execution_count": 233,
   "metadata": {},
   "outputs": [
    {
     "name": "stdout",
     "output_type": "stream",
     "text": [
      "33.02272727272727 4.574166666666667 35.63636363636363 21.736486486486488\n"
     ]
    }
   ],
   "source": [
    "# Their average Ages\n",
    "print(ageMr/countMr, ageMaster/countMaster, ageMrs/countMrs, ageMiss/countMiss)"
   ]
  },
  {
   "cell_type": "code",
   "execution_count": 234,
   "metadata": {},
   "outputs": [],
   "source": [
    "# Replacing Missing Age values\n",
    "for index, row in trainData.iterrows():\n",
    "    if(row.isnull().any()):\n",
    "        if(row['Title'] == 0):\n",
    "            trainData.set_value(index,'Age',ageMr/countMr)\n",
    "        elif(row['Title'] == 1):\n",
    "            trainData.set_value(index,'Age',ageMaster/countMaster)\n",
    "        elif(row['Title'] == 2):\n",
    "            trainData.set_value(index,'Age',ageMrs/countMrs)\n",
    "        elif(row['Title'] == 3):\n",
    "            trainData.set_value(index,'Age',ageMiss/countMiss)"
   ]
  },
  {
   "cell_type": "code",
   "execution_count": 247,
   "metadata": {},
   "outputs": [
    {
     "data": {
      "text/html": [
       "<div>\n",
       "<style>\n",
       "    .dataframe thead tr:only-child th {\n",
       "        text-align: right;\n",
       "    }\n",
       "\n",
       "    .dataframe thead th {\n",
       "        text-align: left;\n",
       "    }\n",
       "\n",
       "    .dataframe tbody tr th {\n",
       "        vertical-align: top;\n",
       "    }\n",
       "</style>\n",
       "<table border=\"1\" class=\"dataframe\">\n",
       "  <thead>\n",
       "    <tr style=\"text-align: right;\">\n",
       "      <th></th>\n",
       "      <th>Title</th>\n",
       "      <th>Pclass</th>\n",
       "      <th>Sex</th>\n",
       "      <th>Age</th>\n",
       "      <th>SibSp</th>\n",
       "      <th>Parch</th>\n",
       "      <th>Fare</th>\n",
       "      <th>Embarked</th>\n",
       "      <th>Survived</th>\n",
       "    </tr>\n",
       "  </thead>\n",
       "  <tbody>\n",
       "    <tr>\n",
       "      <th>0</th>\n",
       "      <td>0</td>\n",
       "      <td>3</td>\n",
       "      <td>0</td>\n",
       "      <td>22.000000</td>\n",
       "      <td>1</td>\n",
       "      <td>0</td>\n",
       "      <td>7.2500</td>\n",
       "      <td>1.0</td>\n",
       "      <td>0</td>\n",
       "    </tr>\n",
       "    <tr>\n",
       "      <th>1</th>\n",
       "      <td>2</td>\n",
       "      <td>1</td>\n",
       "      <td>1</td>\n",
       "      <td>38.000000</td>\n",
       "      <td>1</td>\n",
       "      <td>0</td>\n",
       "      <td>71.2833</td>\n",
       "      <td>0.0</td>\n",
       "      <td>1</td>\n",
       "    </tr>\n",
       "    <tr>\n",
       "      <th>2</th>\n",
       "      <td>3</td>\n",
       "      <td>3</td>\n",
       "      <td>1</td>\n",
       "      <td>26.000000</td>\n",
       "      <td>0</td>\n",
       "      <td>0</td>\n",
       "      <td>7.9250</td>\n",
       "      <td>1.0</td>\n",
       "      <td>1</td>\n",
       "    </tr>\n",
       "    <tr>\n",
       "      <th>3</th>\n",
       "      <td>2</td>\n",
       "      <td>1</td>\n",
       "      <td>1</td>\n",
       "      <td>35.000000</td>\n",
       "      <td>1</td>\n",
       "      <td>0</td>\n",
       "      <td>53.1000</td>\n",
       "      <td>1.0</td>\n",
       "      <td>1</td>\n",
       "    </tr>\n",
       "    <tr>\n",
       "      <th>4</th>\n",
       "      <td>0</td>\n",
       "      <td>3</td>\n",
       "      <td>0</td>\n",
       "      <td>35.000000</td>\n",
       "      <td>0</td>\n",
       "      <td>0</td>\n",
       "      <td>8.0500</td>\n",
       "      <td>1.0</td>\n",
       "      <td>0</td>\n",
       "    </tr>\n",
       "    <tr>\n",
       "      <th>5</th>\n",
       "      <td>0</td>\n",
       "      <td>3</td>\n",
       "      <td>0</td>\n",
       "      <td>33.022727</td>\n",
       "      <td>0</td>\n",
       "      <td>0</td>\n",
       "      <td>8.4583</td>\n",
       "      <td>2.0</td>\n",
       "      <td>0</td>\n",
       "    </tr>\n",
       "    <tr>\n",
       "      <th>6</th>\n",
       "      <td>0</td>\n",
       "      <td>1</td>\n",
       "      <td>0</td>\n",
       "      <td>54.000000</td>\n",
       "      <td>0</td>\n",
       "      <td>0</td>\n",
       "      <td>51.8625</td>\n",
       "      <td>1.0</td>\n",
       "      <td>0</td>\n",
       "    </tr>\n",
       "    <tr>\n",
       "      <th>7</th>\n",
       "      <td>1</td>\n",
       "      <td>3</td>\n",
       "      <td>0</td>\n",
       "      <td>2.000000</td>\n",
       "      <td>3</td>\n",
       "      <td>1</td>\n",
       "      <td>21.0750</td>\n",
       "      <td>1.0</td>\n",
       "      <td>0</td>\n",
       "    </tr>\n",
       "    <tr>\n",
       "      <th>8</th>\n",
       "      <td>2</td>\n",
       "      <td>3</td>\n",
       "      <td>1</td>\n",
       "      <td>27.000000</td>\n",
       "      <td>0</td>\n",
       "      <td>2</td>\n",
       "      <td>11.1333</td>\n",
       "      <td>1.0</td>\n",
       "      <td>1</td>\n",
       "    </tr>\n",
       "    <tr>\n",
       "      <th>9</th>\n",
       "      <td>2</td>\n",
       "      <td>2</td>\n",
       "      <td>1</td>\n",
       "      <td>14.000000</td>\n",
       "      <td>1</td>\n",
       "      <td>0</td>\n",
       "      <td>30.0708</td>\n",
       "      <td>0.0</td>\n",
       "      <td>1</td>\n",
       "    </tr>\n",
       "  </tbody>\n",
       "</table>\n",
       "</div>"
      ],
      "text/plain": [
       "   Title  Pclass  Sex        Age  SibSp  Parch     Fare  Embarked  Survived\n",
       "0      0       3    0  22.000000      1      0   7.2500       1.0         0\n",
       "1      2       1    1  38.000000      1      0  71.2833       0.0         1\n",
       "2      3       3    1  26.000000      0      0   7.9250       1.0         1\n",
       "3      2       1    1  35.000000      1      0  53.1000       1.0         1\n",
       "4      0       3    0  35.000000      0      0   8.0500       1.0         0\n",
       "5      0       3    0  33.022727      0      0   8.4583       2.0         0\n",
       "6      0       1    0  54.000000      0      0  51.8625       1.0         0\n",
       "7      1       3    0   2.000000      3      1  21.0750       1.0         0\n",
       "8      2       3    1  27.000000      0      2  11.1333       1.0         1\n",
       "9      2       2    1  14.000000      1      0  30.0708       0.0         1"
      ]
     },
     "execution_count": 247,
     "metadata": {},
     "output_type": "execute_result"
    }
   ],
   "source": [
    "trainData.head(10)"
   ]
  },
  {
   "cell_type": "code",
   "execution_count": 248,
   "metadata": {},
   "outputs": [],
   "source": [
    "# Replacing the 2 missing embarked values with 0 as frequency of embarked = 0 is highest\n",
    "for index, row in trainData.iterrows():\n",
    "    if(row.isnull().any()):\n",
    "        trainData.set_value(index,'Embarked',0)"
   ]
  },
  {
   "cell_type": "code",
   "execution_count": 249,
   "metadata": {
    "collapsed": true
   },
   "outputs": [],
   "source": [
    "for index, row in trainData.iterrows():\n",
    "    if(row.isnull().any()):\n",
    "        print('Missing value found')"
   ]
  },
  {
   "cell_type": "markdown",
   "metadata": {},
   "source": [
    "For Test set"
   ]
  },
  {
   "cell_type": "code",
   "execution_count": 268,
   "metadata": {
    "collapsed": true
   },
   "outputs": [],
   "source": [
    "for index, row in testData.iterrows():\n",
    "    if(row.isnull().any()):\n",
    "        if(row['Title'] == 0):\n",
    "            testData.set_value(index,'Age',ageMr/countMr)\n",
    "        elif(row['Title'] == 1):\n",
    "            testData.set_value(index,'Age',ageMaster/countMaster)\n",
    "        elif(row['Title'] == 2):\n",
    "            testData.set_value(index,'Age',ageMrs/countMrs)\n",
    "        elif(row['Title'] == 3):\n",
    "            testData.set_value(index,'Age',ageMiss/countMiss)"
   ]
  },
  {
   "cell_type": "code",
   "execution_count": 270,
   "metadata": {},
   "outputs": [],
   "source": [
    "for index, row in trainData.iterrows():\n",
    "    if(row.isnull().any()):\n",
    "        print('Missing value found')"
   ]
  },
  {
   "cell_type": "markdown",
   "metadata": {},
   "source": [
    "All missing values have been dealt with"
   ]
  },
  {
   "cell_type": "code",
   "execution_count": 271,
   "metadata": {
    "collapsed": true
   },
   "outputs": [],
   "source": [
    "X_train_WA = trainData.iloc[:,:8].values\n",
    "Y_train_WA = trainData.iloc[:,8].values\n",
    "X_test_WA = testData.iloc[:,:8].values"
   ]
  },
  {
   "cell_type": "markdown",
   "metadata": {},
   "source": [
    "## Building Models"
   ]
  },
  {
   "cell_type": "code",
   "execution_count": 276,
   "metadata": {},
   "outputs": [
    {
     "data": {
      "text/plain": [
       "(891, 8)"
      ]
     },
     "execution_count": 276,
     "metadata": {},
     "output_type": "execute_result"
    }
   ],
   "source": [
    "X_train_WA.shape"
   ]
  },
  {
   "cell_type": "code",
   "execution_count": 277,
   "metadata": {},
   "outputs": [
    {
     "data": {
      "text/plain": [
       "(891,)"
      ]
     },
     "execution_count": 277,
     "metadata": {},
     "output_type": "execute_result"
    }
   ],
   "source": [
    "Y_train_WA.shape"
   ]
  },
  {
   "cell_type": "code",
   "execution_count": 278,
   "metadata": {},
   "outputs": [
    {
     "data": {
      "text/plain": [
       "(418, 8)"
      ]
     },
     "execution_count": 278,
     "metadata": {},
     "output_type": "execute_result"
    }
   ],
   "source": [
    "X_test_WA.shape"
   ]
  },
  {
   "cell_type": "code",
   "execution_count": 254,
   "metadata": {
    "collapsed": true
   },
   "outputs": [],
   "source": [
    "def float_range(start,stop,step):\n",
    "    l = []\n",
    "    l.append(start);\n",
    "    \n",
    "    while(start+step<=stop):\n",
    "        start = start + step\n",
    "        l.append(start)\n",
    "        \n",
    "    return l;"
   ]
  },
  {
   "cell_type": "code",
   "execution_count": 255,
   "metadata": {
    "collapsed": true
   },
   "outputs": [],
   "source": [
    "import numpy as np"
   ]
  },
  {
   "cell_type": "code",
   "execution_count": 256,
   "metadata": {},
   "outputs": [
    {
     "data": {
      "text/plain": [
       "array([0.01      , 0.05142857, 0.09285714, 0.13428571, 0.17571429,\n",
       "       0.21714286, 0.25857143, 0.3       ])"
      ]
     },
     "execution_count": 256,
     "metadata": {},
     "output_type": "execute_result"
    }
   ],
   "source": [
    "np.linspace(0.01,0.3,8)"
   ]
  },
  {
   "cell_type": "code",
   "execution_count": 257,
   "metadata": {
    "collapsed": true
   },
   "outputs": [],
   "source": [
    "l = np.floor(np.linspace(0,1000,30))"
   ]
  },
  {
   "cell_type": "code",
   "execution_count": 258,
   "metadata": {},
   "outputs": [
    {
     "data": {
      "text/plain": [
       "array([   0.,   34.,   68.,  103.,  137.,  172.,  206.,  241.,  275.,\n",
       "        310.,  344.,  379.,  413.,  448.,  482.,  517.,  551.,  586.,\n",
       "        620.,  655.,  689.,  724.,  758.,  793.,  827.,  862.,  896.,\n",
       "        931.,  965., 1000.])"
      ]
     },
     "execution_count": 258,
     "metadata": {},
     "output_type": "execute_result"
    }
   ],
   "source": [
    "l"
   ]
  },
  {
   "cell_type": "code",
   "execution_count": 259,
   "metadata": {},
   "outputs": [
    {
     "data": {
      "text/plain": [
       "range(1, 6, 2)"
      ]
     },
     "execution_count": 259,
     "metadata": {},
     "output_type": "execute_result"
    }
   ],
   "source": [
    "range(1,6,2)"
   ]
  },
  {
   "cell_type": "markdown",
   "metadata": {
    "collapsed": true
   },
   "source": [
    "# XGBoost"
   ]
  },
  {
   "cell_type": "code",
   "execution_count": 260,
   "metadata": {
    "collapsed": true
   },
   "outputs": [],
   "source": [
    "XGB_param_grid = {\n",
    "                    'max_depth':[3,4,5,6,7,8,9,10],\n",
    "                    'min_child_weight':[1,3,5,7,9],\n",
    "                    'learning_rate':[0.001,0.01,0.05,0.1,0.15,0.21,0.25],\n",
    "                    'n_estimators':[10,30,60,100,200,300,500,700,1000],\n",
    "                    'gamma':[i/10.0 for i in range(0,5)],\n",
    "                    'subsample':[i/100.0 for i in range(75,90,5)],\n",
    "                    'colsample_bytree':[i/100.0 for i in range(75,90,5)],\n",
    "                    'reg_alpha':[1e-5, 1e-2, 0, 0.001, 0.005, 0.05, 0.1, 1, 100 ]                   \n",
    "                 }"
   ]
  },
  {
   "cell_type": "markdown",
   "metadata": {},
   "source": [
    "### Init signature:  \n",
    "\n",
    "XGBClassifier(max_depth=3, learning_rate=0.1, n_estimators=100, silent=True, objective='binary:logistic', booster='gbtree', n_jobs=1, nthread=None, gamma=0, min_child_weight=1, max_delta_step=0, subsample=1, colsample_bytree=1, colsample_bylevel=1, reg_alpha=0, reg_lambda=1, scale_pos_weight=1, base_score=0.5, random_state=0, seed=None, missing=None, **kwargs)"
   ]
  },
  {
   "cell_type": "code",
   "execution_count": 261,
   "metadata": {
    "collapsed": true
   },
   "outputs": [],
   "source": [
    "from xgboost.sklearn import XGBClassifier"
   ]
  },
  {
   "cell_type": "code",
   "execution_count": 262,
   "metadata": {
    "collapsed": true
   },
   "outputs": [],
   "source": [
    "from sklearn.grid_search import RandomizedSearchCV"
   ]
  },
  {
   "cell_type": "code",
   "execution_count": 263,
   "metadata": {
    "collapsed": true
   },
   "outputs": [],
   "source": [
    "xgb = XGBClassifier()"
   ]
  },
  {
   "cell_type": "code",
   "execution_count": 264,
   "metadata": {},
   "outputs": [
    {
     "data": {
      "text/plain": [
       "(891,)"
      ]
     },
     "execution_count": 264,
     "metadata": {},
     "output_type": "execute_result"
    }
   ],
   "source": [
    "Y_train_WA.shape"
   ]
  },
  {
   "cell_type": "code",
   "execution_count": 265,
   "metadata": {},
   "outputs": [
    {
     "name": "stdout",
     "output_type": "stream",
     "text": [
      "Fitting 5 folds for each of 100 candidates, totalling 500 fits\n",
      "[CV] subsample=0.75, reg_alpha=0.1, n_estimators=300, min_child_weight=3, max_depth=7, learning_rate=0.001, gamma=0.4, colsample_bytree=0.75 \n"
     ]
    },
    {
     "name": "stderr",
     "output_type": "stream",
     "text": [
      "C:\\Users\\DELL PC\\Anaconda3\\lib\\site-packages\\sklearn\\preprocessing\\label.py:171: DeprecationWarning: The truth value of an empty array is ambiguous. Returning False, but in future this will result in an error. Use `array.size > 0` to check that an array is not empty.\n",
      "  if diff:\n",
      "[Parallel(n_jobs=1)]: Done   1 out of   1 | elapsed:    0.4s remaining:    0.0s\n",
      "C:\\Users\\DELL PC\\Anaconda3\\lib\\site-packages\\sklearn\\preprocessing\\label.py:171: DeprecationWarning: The truth value of an empty array is ambiguous. Returning False, but in future this will result in an error. Use `array.size > 0` to check that an array is not empty.\n",
      "  if diff:\n"
     ]
    },
    {
     "name": "stdout",
     "output_type": "stream",
     "text": [
      "[CV]  subsample=0.75, reg_alpha=0.1, n_estimators=300, min_child_weight=3, max_depth=7, learning_rate=0.001, gamma=0.4, colsample_bytree=0.75 -   0.3s\n",
      "[CV] subsample=0.75, reg_alpha=0.1, n_estimators=300, min_child_weight=3, max_depth=7, learning_rate=0.001, gamma=0.4, colsample_bytree=0.75 \n",
      "[CV]  subsample=0.75, reg_alpha=0.1, n_estimators=300, min_child_weight=3, max_depth=7, learning_rate=0.001, gamma=0.4, colsample_bytree=0.75 -   0.1s\n",
      "[CV] subsample=0.75, reg_alpha=0.1, n_estimators=300, min_child_weight=3, max_depth=7, learning_rate=0.001, gamma=0.4, colsample_bytree=0.75 \n"
     ]
    },
    {
     "name": "stderr",
     "output_type": "stream",
     "text": [
      "C:\\Users\\DELL PC\\Anaconda3\\lib\\site-packages\\sklearn\\preprocessing\\label.py:171: DeprecationWarning: The truth value of an empty array is ambiguous. Returning False, but in future this will result in an error. Use `array.size > 0` to check that an array is not empty.\n",
      "  if diff:\n",
      "C:\\Users\\DELL PC\\Anaconda3\\lib\\site-packages\\sklearn\\preprocessing\\label.py:171: DeprecationWarning: The truth value of an empty array is ambiguous. Returning False, but in future this will result in an error. Use `array.size > 0` to check that an array is not empty.\n",
      "  if diff:\n"
     ]
    },
    {
     "name": "stdout",
     "output_type": "stream",
     "text": [
      "[CV]  subsample=0.75, reg_alpha=0.1, n_estimators=300, min_child_weight=3, max_depth=7, learning_rate=0.001, gamma=0.4, colsample_bytree=0.75 -   0.1s\n",
      "[CV] subsample=0.75, reg_alpha=0.1, n_estimators=300, min_child_weight=3, max_depth=7, learning_rate=0.001, gamma=0.4, colsample_bytree=0.75 \n",
      "[CV]  subsample=0.75, reg_alpha=0.1, n_estimators=300, min_child_weight=3, max_depth=7, learning_rate=0.001, gamma=0.4, colsample_bytree=0.75 -   0.1s\n",
      "[CV] subsample=0.75, reg_alpha=0.1, n_estimators=300, min_child_weight=3, max_depth=7, learning_rate=0.001, gamma=0.4, colsample_bytree=0.75 \n"
     ]
    },
    {
     "name": "stderr",
     "output_type": "stream",
     "text": [
      "C:\\Users\\DELL PC\\Anaconda3\\lib\\site-packages\\sklearn\\preprocessing\\label.py:171: DeprecationWarning: The truth value of an empty array is ambiguous. Returning False, but in future this will result in an error. Use `array.size > 0` to check that an array is not empty.\n",
      "  if diff:\n",
      "C:\\Users\\DELL PC\\Anaconda3\\lib\\site-packages\\sklearn\\preprocessing\\label.py:171: DeprecationWarning: The truth value of an empty array is ambiguous. Returning False, but in future this will result in an error. Use `array.size > 0` to check that an array is not empty.\n",
      "  if diff:\n",
      "C:\\Users\\DELL PC\\Anaconda3\\lib\\site-packages\\sklearn\\preprocessing\\label.py:171: DeprecationWarning: The truth value of an empty array is ambiguous. Returning False, but in future this will result in an error. Use `array.size > 0` to check that an array is not empty.\n",
      "  if diff:\n",
      "C:\\Users\\DELL PC\\Anaconda3\\lib\\site-packages\\sklearn\\preprocessing\\label.py:171: DeprecationWarning: The truth value of an empty array is ambiguous. Returning False, but in future this will result in an error. Use `array.size > 0` to check that an array is not empty.\n",
      "  if diff:\n",
      "C:\\Users\\DELL PC\\Anaconda3\\lib\\site-packages\\sklearn\\preprocessing\\label.py:171: DeprecationWarning: The truth value of an empty array is ambiguous. Returning False, but in future this will result in an error. Use `array.size > 0` to check that an array is not empty.\n",
      "  if diff:\n"
     ]
    },
    {
     "name": "stdout",
     "output_type": "stream",
     "text": [
      "[CV]  subsample=0.75, reg_alpha=0.1, n_estimators=300, min_child_weight=3, max_depth=7, learning_rate=0.001, gamma=0.4, colsample_bytree=0.75 -   0.1s\n",
      "[CV] subsample=0.75, reg_alpha=100, n_estimators=200, min_child_weight=5, max_depth=9, learning_rate=0.05, gamma=0.4, colsample_bytree=0.75 \n",
      "[CV]  subsample=0.75, reg_alpha=100, n_estimators=200, min_child_weight=5, max_depth=9, learning_rate=0.05, gamma=0.4, colsample_bytree=0.75 -   0.0s\n",
      "[CV] subsample=0.75, reg_alpha=100, n_estimators=200, min_child_weight=5, max_depth=9, learning_rate=0.05, gamma=0.4, colsample_bytree=0.75 \n",
      "[CV]  subsample=0.75, reg_alpha=100, n_estimators=200, min_child_weight=5, max_depth=9, learning_rate=0.05, gamma=0.4, colsample_bytree=0.75 -   0.0s\n",
      "[CV] subsample=0.75, reg_alpha=100, n_estimators=200, min_child_weight=5, max_depth=9, learning_rate=0.05, gamma=0.4, colsample_bytree=0.75 \n",
      "[CV]  subsample=0.75, reg_alpha=100, n_estimators=200, min_child_weight=5, max_depth=9, learning_rate=0.05, gamma=0.4, colsample_bytree=0.75 -   0.0s\n",
      "[CV] subsample=0.75, reg_alpha=100, n_estimators=200, min_child_weight=5, max_depth=9, learning_rate=0.05, gamma=0.4, colsample_bytree=0.75 \n",
      "[CV]  subsample=0.75, reg_alpha=100, n_estimators=200, min_child_weight=5, max_depth=9, learning_rate=0.05, gamma=0.4, colsample_bytree=0.75 -   0.0s\n",
      "[CV] subsample=0.75, reg_alpha=100, n_estimators=200, min_child_weight=5, max_depth=9, learning_rate=0.05, gamma=0.4, colsample_bytree=0.75 \n"
     ]
    },
    {
     "name": "stderr",
     "output_type": "stream",
     "text": [
      "C:\\Users\\DELL PC\\Anaconda3\\lib\\site-packages\\sklearn\\preprocessing\\label.py:171: DeprecationWarning: The truth value of an empty array is ambiguous. Returning False, but in future this will result in an error. Use `array.size > 0` to check that an array is not empty.\n",
      "  if diff:\n",
      "C:\\Users\\DELL PC\\Anaconda3\\lib\\site-packages\\sklearn\\preprocessing\\label.py:171: DeprecationWarning: The truth value of an empty array is ambiguous. Returning False, but in future this will result in an error. Use `array.size > 0` to check that an array is not empty.\n",
      "  if diff:\n",
      "C:\\Users\\DELL PC\\Anaconda3\\lib\\site-packages\\sklearn\\preprocessing\\label.py:171: DeprecationWarning: The truth value of an empty array is ambiguous. Returning False, but in future this will result in an error. Use `array.size > 0` to check that an array is not empty.\n",
      "  if diff:\n"
     ]
    },
    {
     "name": "stdout",
     "output_type": "stream",
     "text": [
      "[CV]  subsample=0.75, reg_alpha=100, n_estimators=200, min_child_weight=5, max_depth=9, learning_rate=0.05, gamma=0.4, colsample_bytree=0.75 -   0.0s\n",
      "[CV] subsample=0.75, reg_alpha=0.001, n_estimators=100, min_child_weight=1, max_depth=9, learning_rate=0.1, gamma=0.2, colsample_bytree=0.85 \n",
      "[CV]  subsample=0.75, reg_alpha=0.001, n_estimators=100, min_child_weight=1, max_depth=9, learning_rate=0.1, gamma=0.2, colsample_bytree=0.85 -   0.0s\n",
      "[CV] subsample=0.75, reg_alpha=0.001, n_estimators=100, min_child_weight=1, max_depth=9, learning_rate=0.1, gamma=0.2, colsample_bytree=0.85 \n",
      "[CV]  subsample=0.75, reg_alpha=0.001, n_estimators=100, min_child_weight=1, max_depth=9, learning_rate=0.1, gamma=0.2, colsample_bytree=0.85 -   0.0s\n",
      "[CV] subsample=0.75, reg_alpha=0.001, n_estimators=100, min_child_weight=1, max_depth=9, learning_rate=0.1, gamma=0.2, colsample_bytree=0.85 \n"
     ]
    },
    {
     "name": "stderr",
     "output_type": "stream",
     "text": [
      "C:\\Users\\DELL PC\\Anaconda3\\lib\\site-packages\\sklearn\\preprocessing\\label.py:171: DeprecationWarning: The truth value of an empty array is ambiguous. Returning False, but in future this will result in an error. Use `array.size > 0` to check that an array is not empty.\n",
      "  if diff:\n",
      "C:\\Users\\DELL PC\\Anaconda3\\lib\\site-packages\\sklearn\\preprocessing\\label.py:171: DeprecationWarning: The truth value of an empty array is ambiguous. Returning False, but in future this will result in an error. Use `array.size > 0` to check that an array is not empty.\n",
      "  if diff:\n",
      "C:\\Users\\DELL PC\\Anaconda3\\lib\\site-packages\\sklearn\\preprocessing\\label.py:171: DeprecationWarning: The truth value of an empty array is ambiguous. Returning False, but in future this will result in an error. Use `array.size > 0` to check that an array is not empty.\n",
      "  if diff:\n"
     ]
    },
    {
     "name": "stdout",
     "output_type": "stream",
     "text": [
      "[CV]  subsample=0.75, reg_alpha=0.001, n_estimators=100, min_child_weight=1, max_depth=9, learning_rate=0.1, gamma=0.2, colsample_bytree=0.85 -   0.0s\n",
      "[CV] subsample=0.75, reg_alpha=0.001, n_estimators=100, min_child_weight=1, max_depth=9, learning_rate=0.1, gamma=0.2, colsample_bytree=0.85 \n",
      "[CV]  subsample=0.75, reg_alpha=0.001, n_estimators=100, min_child_weight=1, max_depth=9, learning_rate=0.1, gamma=0.2, colsample_bytree=0.85 -   0.0s\n",
      "[CV] subsample=0.75, reg_alpha=0.001, n_estimators=100, min_child_weight=1, max_depth=9, learning_rate=0.1, gamma=0.2, colsample_bytree=0.85 \n",
      "[CV]  subsample=0.75, reg_alpha=0.001, n_estimators=100, min_child_weight=1, max_depth=9, learning_rate=0.1, gamma=0.2, colsample_bytree=0.85 -   0.0s\n",
      "[CV] subsample=0.85, reg_alpha=0.001, n_estimators=200, min_child_weight=9, max_depth=10, learning_rate=0.25, gamma=0.3, colsample_bytree=0.85 \n"
     ]
    },
    {
     "name": "stderr",
     "output_type": "stream",
     "text": [
      "C:\\Users\\DELL PC\\Anaconda3\\lib\\site-packages\\sklearn\\preprocessing\\label.py:171: DeprecationWarning: The truth value of an empty array is ambiguous. Returning False, but in future this will result in an error. Use `array.size > 0` to check that an array is not empty.\n",
      "  if diff:\n",
      "C:\\Users\\DELL PC\\Anaconda3\\lib\\site-packages\\sklearn\\preprocessing\\label.py:171: DeprecationWarning: The truth value of an empty array is ambiguous. Returning False, but in future this will result in an error. Use `array.size > 0` to check that an array is not empty.\n",
      "  if diff:\n",
      "C:\\Users\\DELL PC\\Anaconda3\\lib\\site-packages\\sklearn\\preprocessing\\label.py:171: DeprecationWarning: The truth value of an empty array is ambiguous. Returning False, but in future this will result in an error. Use `array.size > 0` to check that an array is not empty.\n",
      "  if diff:\n"
     ]
    },
    {
     "name": "stdout",
     "output_type": "stream",
     "text": [
      "[CV]  subsample=0.85, reg_alpha=0.001, n_estimators=200, min_child_weight=9, max_depth=10, learning_rate=0.25, gamma=0.3, colsample_bytree=0.85 -   0.0s\n",
      "[CV] subsample=0.85, reg_alpha=0.001, n_estimators=200, min_child_weight=9, max_depth=10, learning_rate=0.25, gamma=0.3, colsample_bytree=0.85 \n",
      "[CV]  subsample=0.85, reg_alpha=0.001, n_estimators=200, min_child_weight=9, max_depth=10, learning_rate=0.25, gamma=0.3, colsample_bytree=0.85 -   0.0s\n",
      "[CV] subsample=0.85, reg_alpha=0.001, n_estimators=200, min_child_weight=9, max_depth=10, learning_rate=0.25, gamma=0.3, colsample_bytree=0.85 \n",
      "[CV]  subsample=0.85, reg_alpha=0.001, n_estimators=200, min_child_weight=9, max_depth=10, learning_rate=0.25, gamma=0.3, colsample_bytree=0.85 -   0.0s\n",
      "[CV] subsample=0.85, reg_alpha=0.001, n_estimators=200, min_child_weight=9, max_depth=10, learning_rate=0.25, gamma=0.3, colsample_bytree=0.85 \n"
     ]
    },
    {
     "name": "stderr",
     "output_type": "stream",
     "text": [
      "C:\\Users\\DELL PC\\Anaconda3\\lib\\site-packages\\sklearn\\preprocessing\\label.py:171: DeprecationWarning: The truth value of an empty array is ambiguous. Returning False, but in future this will result in an error. Use `array.size > 0` to check that an array is not empty.\n",
      "  if diff:\n",
      "C:\\Users\\DELL PC\\Anaconda3\\lib\\site-packages\\sklearn\\preprocessing\\label.py:171: DeprecationWarning: The truth value of an empty array is ambiguous. Returning False, but in future this will result in an error. Use `array.size > 0` to check that an array is not empty.\n",
      "  if diff:\n",
      "C:\\Users\\DELL PC\\Anaconda3\\lib\\site-packages\\sklearn\\preprocessing\\label.py:171: DeprecationWarning: The truth value of an empty array is ambiguous. Returning False, but in future this will result in an error. Use `array.size > 0` to check that an array is not empty.\n",
      "  if diff:\n",
      "C:\\Users\\DELL PC\\Anaconda3\\lib\\site-packages\\sklearn\\preprocessing\\label.py:171: DeprecationWarning: The truth value of an empty array is ambiguous. Returning False, but in future this will result in an error. Use `array.size > 0` to check that an array is not empty.\n",
      "  if diff:\n",
      "C:\\Users\\DELL PC\\Anaconda3\\lib\\site-packages\\sklearn\\preprocessing\\label.py:171: DeprecationWarning: The truth value of an empty array is ambiguous. Returning False, but in future this will result in an error. Use `array.size > 0` to check that an array is not empty.\n",
      "  if diff:\n",
      "C:\\Users\\DELL PC\\Anaconda3\\lib\\site-packages\\sklearn\\preprocessing\\label.py:171: DeprecationWarning: The truth value of an empty array is ambiguous. Returning False, but in future this will result in an error. Use `array.size > 0` to check that an array is not empty.\n",
      "  if diff:\n",
      "C:\\Users\\DELL PC\\Anaconda3\\lib\\site-packages\\sklearn\\preprocessing\\label.py:171: DeprecationWarning: The truth value of an empty array is ambiguous. Returning False, but in future this will result in an error. Use `array.size > 0` to check that an array is not empty.\n",
      "  if diff:\n"
     ]
    },
    {
     "name": "stdout",
     "output_type": "stream",
     "text": [
      "[CV]  subsample=0.85, reg_alpha=0.001, n_estimators=200, min_child_weight=9, max_depth=10, learning_rate=0.25, gamma=0.3, colsample_bytree=0.85 -   0.0s\n",
      "[CV] subsample=0.85, reg_alpha=0.001, n_estimators=200, min_child_weight=9, max_depth=10, learning_rate=0.25, gamma=0.3, colsample_bytree=0.85 \n",
      "[CV]  subsample=0.85, reg_alpha=0.001, n_estimators=200, min_child_weight=9, max_depth=10, learning_rate=0.25, gamma=0.3, colsample_bytree=0.85 -   0.0s\n",
      "[CV] subsample=0.8, reg_alpha=0, n_estimators=10, min_child_weight=5, max_depth=6, learning_rate=0.15, gamma=0.2, colsample_bytree=0.75 \n",
      "[CV]  subsample=0.8, reg_alpha=0, n_estimators=10, min_child_weight=5, max_depth=6, learning_rate=0.15, gamma=0.2, colsample_bytree=0.75 -   0.0s\n",
      "[CV] subsample=0.8, reg_alpha=0, n_estimators=10, min_child_weight=5, max_depth=6, learning_rate=0.15, gamma=0.2, colsample_bytree=0.75 \n",
      "[CV]  subsample=0.8, reg_alpha=0, n_estimators=10, min_child_weight=5, max_depth=6, learning_rate=0.15, gamma=0.2, colsample_bytree=0.75 -   0.0s\n",
      "[CV] subsample=0.8, reg_alpha=0, n_estimators=10, min_child_weight=5, max_depth=6, learning_rate=0.15, gamma=0.2, colsample_bytree=0.75 \n",
      "[CV]  subsample=0.8, reg_alpha=0, n_estimators=10, min_child_weight=5, max_depth=6, learning_rate=0.15, gamma=0.2, colsample_bytree=0.75 -   0.0s\n",
      "[CV] subsample=0.8, reg_alpha=0, n_estimators=10, min_child_weight=5, max_depth=6, learning_rate=0.15, gamma=0.2, colsample_bytree=0.75 \n",
      "[CV]  subsample=0.8, reg_alpha=0, n_estimators=10, min_child_weight=5, max_depth=6, learning_rate=0.15, gamma=0.2, colsample_bytree=0.75 -   0.0s\n",
      "[CV] subsample=0.8, reg_alpha=0, n_estimators=10, min_child_weight=5, max_depth=6, learning_rate=0.15, gamma=0.2, colsample_bytree=0.75 \n",
      "[CV]  subsample=0.8, reg_alpha=0, n_estimators=10, min_child_weight=5, max_depth=6, learning_rate=0.15, gamma=0.2, colsample_bytree=0.75 -   0.0s\n",
      "[CV] subsample=0.85, reg_alpha=0.005, n_estimators=1000, min_child_weight=7, max_depth=5, learning_rate=0.01, gamma=0.2, colsample_bytree=0.75 \n"
     ]
    },
    {
     "name": "stderr",
     "output_type": "stream",
     "text": [
      "C:\\Users\\DELL PC\\Anaconda3\\lib\\site-packages\\sklearn\\preprocessing\\label.py:171: DeprecationWarning: The truth value of an empty array is ambiguous. Returning False, but in future this will result in an error. Use `array.size > 0` to check that an array is not empty.\n",
      "  if diff:\n"
     ]
    },
    {
     "name": "stdout",
     "output_type": "stream",
     "text": [
      "[CV]  subsample=0.85, reg_alpha=0.005, n_estimators=1000, min_child_weight=7, max_depth=5, learning_rate=0.01, gamma=0.2, colsample_bytree=0.75 -   0.5s\n",
      "[CV] subsample=0.85, reg_alpha=0.005, n_estimators=1000, min_child_weight=7, max_depth=5, learning_rate=0.01, gamma=0.2, colsample_bytree=0.75 \n"
     ]
    },
    {
     "name": "stderr",
     "output_type": "stream",
     "text": [
      "C:\\Users\\DELL PC\\Anaconda3\\lib\\site-packages\\sklearn\\preprocessing\\label.py:171: DeprecationWarning: The truth value of an empty array is ambiguous. Returning False, but in future this will result in an error. Use `array.size > 0` to check that an array is not empty.\n",
      "  if diff:\n"
     ]
    },
    {
     "name": "stdout",
     "output_type": "stream",
     "text": [
      "[CV]  subsample=0.85, reg_alpha=0.005, n_estimators=1000, min_child_weight=7, max_depth=5, learning_rate=0.01, gamma=0.2, colsample_bytree=0.75 -   0.4s\n",
      "[CV] subsample=0.85, reg_alpha=0.005, n_estimators=1000, min_child_weight=7, max_depth=5, learning_rate=0.01, gamma=0.2, colsample_bytree=0.75 \n"
     ]
    },
    {
     "name": "stderr",
     "output_type": "stream",
     "text": [
      "C:\\Users\\DELL PC\\Anaconda3\\lib\\site-packages\\sklearn\\preprocessing\\label.py:171: DeprecationWarning: The truth value of an empty array is ambiguous. Returning False, but in future this will result in an error. Use `array.size > 0` to check that an array is not empty.\n",
      "  if diff:\n"
     ]
    },
    {
     "name": "stdout",
     "output_type": "stream",
     "text": [
      "[CV]  subsample=0.85, reg_alpha=0.005, n_estimators=1000, min_child_weight=7, max_depth=5, learning_rate=0.01, gamma=0.2, colsample_bytree=0.75 -   0.4s\n",
      "[CV] subsample=0.85, reg_alpha=0.005, n_estimators=1000, min_child_weight=7, max_depth=5, learning_rate=0.01, gamma=0.2, colsample_bytree=0.75 \n"
     ]
    },
    {
     "name": "stderr",
     "output_type": "stream",
     "text": [
      "C:\\Users\\DELL PC\\Anaconda3\\lib\\site-packages\\sklearn\\preprocessing\\label.py:171: DeprecationWarning: The truth value of an empty array is ambiguous. Returning False, but in future this will result in an error. Use `array.size > 0` to check that an array is not empty.\n",
      "  if diff:\n"
     ]
    },
    {
     "name": "stdout",
     "output_type": "stream",
     "text": [
      "[CV]  subsample=0.85, reg_alpha=0.005, n_estimators=1000, min_child_weight=7, max_depth=5, learning_rate=0.01, gamma=0.2, colsample_bytree=0.75 -   0.4s\n",
      "[CV] subsample=0.85, reg_alpha=0.005, n_estimators=1000, min_child_weight=7, max_depth=5, learning_rate=0.01, gamma=0.2, colsample_bytree=0.75 \n"
     ]
    },
    {
     "name": "stderr",
     "output_type": "stream",
     "text": [
      "C:\\Users\\DELL PC\\Anaconda3\\lib\\site-packages\\sklearn\\preprocessing\\label.py:171: DeprecationWarning: The truth value of an empty array is ambiguous. Returning False, but in future this will result in an error. Use `array.size > 0` to check that an array is not empty.\n",
      "  if diff:\n",
      "C:\\Users\\DELL PC\\Anaconda3\\lib\\site-packages\\sklearn\\preprocessing\\label.py:171: DeprecationWarning: The truth value of an empty array is ambiguous. Returning False, but in future this will result in an error. Use `array.size > 0` to check that an array is not empty.\n",
      "  if diff:\n"
     ]
    },
    {
     "name": "stdout",
     "output_type": "stream",
     "text": [
      "[CV]  subsample=0.85, reg_alpha=0.005, n_estimators=1000, min_child_weight=7, max_depth=5, learning_rate=0.01, gamma=0.2, colsample_bytree=0.75 -   0.5s\n",
      "[CV] subsample=0.8, reg_alpha=0.01, n_estimators=200, min_child_weight=9, max_depth=8, learning_rate=0.21, gamma=0.2, colsample_bytree=0.85 \n",
      "[CV]  subsample=0.8, reg_alpha=0.01, n_estimators=200, min_child_weight=9, max_depth=8, learning_rate=0.21, gamma=0.2, colsample_bytree=0.85 -   0.0s\n",
      "[CV] subsample=0.8, reg_alpha=0.01, n_estimators=200, min_child_weight=9, max_depth=8, learning_rate=0.21, gamma=0.2, colsample_bytree=0.85 \n"
     ]
    },
    {
     "name": "stderr",
     "output_type": "stream",
     "text": [
      "C:\\Users\\DELL PC\\Anaconda3\\lib\\site-packages\\sklearn\\preprocessing\\label.py:171: DeprecationWarning: The truth value of an empty array is ambiguous. Returning False, but in future this will result in an error. Use `array.size > 0` to check that an array is not empty.\n",
      "  if diff:\n",
      "C:\\Users\\DELL PC\\Anaconda3\\lib\\site-packages\\sklearn\\preprocessing\\label.py:171: DeprecationWarning: The truth value of an empty array is ambiguous. Returning False, but in future this will result in an error. Use `array.size > 0` to check that an array is not empty.\n",
      "  if diff:\n"
     ]
    },
    {
     "name": "stdout",
     "output_type": "stream",
     "text": [
      "[CV]  subsample=0.8, reg_alpha=0.01, n_estimators=200, min_child_weight=9, max_depth=8, learning_rate=0.21, gamma=0.2, colsample_bytree=0.85 -   0.0s\n",
      "[CV] subsample=0.8, reg_alpha=0.01, n_estimators=200, min_child_weight=9, max_depth=8, learning_rate=0.21, gamma=0.2, colsample_bytree=0.85 \n",
      "[CV]  subsample=0.8, reg_alpha=0.01, n_estimators=200, min_child_weight=9, max_depth=8, learning_rate=0.21, gamma=0.2, colsample_bytree=0.85 -   0.0s\n",
      "[CV] subsample=0.8, reg_alpha=0.01, n_estimators=200, min_child_weight=9, max_depth=8, learning_rate=0.21, gamma=0.2, colsample_bytree=0.85 \n"
     ]
    },
    {
     "name": "stderr",
     "output_type": "stream",
     "text": [
      "C:\\Users\\DELL PC\\Anaconda3\\lib\\site-packages\\sklearn\\preprocessing\\label.py:171: DeprecationWarning: The truth value of an empty array is ambiguous. Returning False, but in future this will result in an error. Use `array.size > 0` to check that an array is not empty.\n",
      "  if diff:\n",
      "C:\\Users\\DELL PC\\Anaconda3\\lib\\site-packages\\sklearn\\preprocessing\\label.py:171: DeprecationWarning: The truth value of an empty array is ambiguous. Returning False, but in future this will result in an error. Use `array.size > 0` to check that an array is not empty.\n",
      "  if diff:\n",
      "C:\\Users\\DELL PC\\Anaconda3\\lib\\site-packages\\sklearn\\preprocessing\\label.py:171: DeprecationWarning: The truth value of an empty array is ambiguous. Returning False, but in future this will result in an error. Use `array.size > 0` to check that an array is not empty.\n",
      "  if diff:\n"
     ]
    },
    {
     "name": "stdout",
     "output_type": "stream",
     "text": [
      "[CV]  subsample=0.8, reg_alpha=0.01, n_estimators=200, min_child_weight=9, max_depth=8, learning_rate=0.21, gamma=0.2, colsample_bytree=0.85 -   0.0s\n",
      "[CV] subsample=0.8, reg_alpha=0.01, n_estimators=200, min_child_weight=9, max_depth=8, learning_rate=0.21, gamma=0.2, colsample_bytree=0.85 \n",
      "[CV]  subsample=0.8, reg_alpha=0.01, n_estimators=200, min_child_weight=9, max_depth=8, learning_rate=0.21, gamma=0.2, colsample_bytree=0.85 -   0.0s\n",
      "[CV] subsample=0.8, reg_alpha=0.1, n_estimators=60, min_child_weight=3, max_depth=4, learning_rate=0.21, gamma=0.2, colsample_bytree=0.8 \n",
      "[CV]  subsample=0.8, reg_alpha=0.1, n_estimators=60, min_child_weight=3, max_depth=4, learning_rate=0.21, gamma=0.2, colsample_bytree=0.8 -   0.0s\n",
      "[CV] subsample=0.8, reg_alpha=0.1, n_estimators=60, min_child_weight=3, max_depth=4, learning_rate=0.21, gamma=0.2, colsample_bytree=0.8 \n"
     ]
    },
    {
     "name": "stderr",
     "output_type": "stream",
     "text": [
      "C:\\Users\\DELL PC\\Anaconda3\\lib\\site-packages\\sklearn\\preprocessing\\label.py:171: DeprecationWarning: The truth value of an empty array is ambiguous. Returning False, but in future this will result in an error. Use `array.size > 0` to check that an array is not empty.\n",
      "  if diff:\n",
      "C:\\Users\\DELL PC\\Anaconda3\\lib\\site-packages\\sklearn\\preprocessing\\label.py:171: DeprecationWarning: The truth value of an empty array is ambiguous. Returning False, but in future this will result in an error. Use `array.size > 0` to check that an array is not empty.\n",
      "  if diff:\n",
      "C:\\Users\\DELL PC\\Anaconda3\\lib\\site-packages\\sklearn\\preprocessing\\label.py:171: DeprecationWarning: The truth value of an empty array is ambiguous. Returning False, but in future this will result in an error. Use `array.size > 0` to check that an array is not empty.\n",
      "  if diff:\n",
      "C:\\Users\\DELL PC\\Anaconda3\\lib\\site-packages\\sklearn\\preprocessing\\label.py:171: DeprecationWarning: The truth value of an empty array is ambiguous. Returning False, but in future this will result in an error. Use `array.size > 0` to check that an array is not empty.\n",
      "  if diff:\n"
     ]
    },
    {
     "name": "stdout",
     "output_type": "stream",
     "text": [
      "[CV]  subsample=0.8, reg_alpha=0.1, n_estimators=60, min_child_weight=3, max_depth=4, learning_rate=0.21, gamma=0.2, colsample_bytree=0.8 -   0.0s\n",
      "[CV] subsample=0.8, reg_alpha=0.1, n_estimators=60, min_child_weight=3, max_depth=4, learning_rate=0.21, gamma=0.2, colsample_bytree=0.8 \n",
      "[CV]  subsample=0.8, reg_alpha=0.1, n_estimators=60, min_child_weight=3, max_depth=4, learning_rate=0.21, gamma=0.2, colsample_bytree=0.8 -   0.0s\n",
      "[CV] subsample=0.8, reg_alpha=0.1, n_estimators=60, min_child_weight=3, max_depth=4, learning_rate=0.21, gamma=0.2, colsample_bytree=0.8 \n",
      "[CV]  subsample=0.8, reg_alpha=0.1, n_estimators=60, min_child_weight=3, max_depth=4, learning_rate=0.21, gamma=0.2, colsample_bytree=0.8 -   0.0s\n",
      "[CV] subsample=0.8, reg_alpha=0.1, n_estimators=60, min_child_weight=3, max_depth=4, learning_rate=0.21, gamma=0.2, colsample_bytree=0.8 \n",
      "[CV]  subsample=0.8, reg_alpha=0.1, n_estimators=60, min_child_weight=3, max_depth=4, learning_rate=0.21, gamma=0.2, colsample_bytree=0.8 -   0.0s\n",
      "[CV] subsample=0.75, reg_alpha=100, n_estimators=500, min_child_weight=7, max_depth=4, learning_rate=0.21, gamma=0.3, colsample_bytree=0.75 \n"
     ]
    },
    {
     "name": "stderr",
     "output_type": "stream",
     "text": [
      "C:\\Users\\DELL PC\\Anaconda3\\lib\\site-packages\\sklearn\\preprocessing\\label.py:171: DeprecationWarning: The truth value of an empty array is ambiguous. Returning False, but in future this will result in an error. Use `array.size > 0` to check that an array is not empty.\n",
      "  if diff:\n",
      "C:\\Users\\DELL PC\\Anaconda3\\lib\\site-packages\\sklearn\\preprocessing\\label.py:171: DeprecationWarning: The truth value of an empty array is ambiguous. Returning False, but in future this will result in an error. Use `array.size > 0` to check that an array is not empty.\n",
      "  if diff:\n",
      "C:\\Users\\DELL PC\\Anaconda3\\lib\\site-packages\\sklearn\\preprocessing\\label.py:171: DeprecationWarning: The truth value of an empty array is ambiguous. Returning False, but in future this will result in an error. Use `array.size > 0` to check that an array is not empty.\n",
      "  if diff:\n"
     ]
    },
    {
     "name": "stdout",
     "output_type": "stream",
     "text": [
      "[CV]  subsample=0.75, reg_alpha=100, n_estimators=500, min_child_weight=7, max_depth=4, learning_rate=0.21, gamma=0.3, colsample_bytree=0.75 -   0.1s\n",
      "[CV] subsample=0.75, reg_alpha=100, n_estimators=500, min_child_weight=7, max_depth=4, learning_rate=0.21, gamma=0.3, colsample_bytree=0.75 \n",
      "[CV]  subsample=0.75, reg_alpha=100, n_estimators=500, min_child_weight=7, max_depth=4, learning_rate=0.21, gamma=0.3, colsample_bytree=0.75 -   0.0s\n",
      "[CV] subsample=0.75, reg_alpha=100, n_estimators=500, min_child_weight=7, max_depth=4, learning_rate=0.21, gamma=0.3, colsample_bytree=0.75 \n",
      "[CV]  subsample=0.75, reg_alpha=100, n_estimators=500, min_child_weight=7, max_depth=4, learning_rate=0.21, gamma=0.3, colsample_bytree=0.75 -   0.0s\n",
      "[CV] subsample=0.75, reg_alpha=100, n_estimators=500, min_child_weight=7, max_depth=4, learning_rate=0.21, gamma=0.3, colsample_bytree=0.75 \n"
     ]
    },
    {
     "name": "stderr",
     "output_type": "stream",
     "text": [
      "C:\\Users\\DELL PC\\Anaconda3\\lib\\site-packages\\sklearn\\preprocessing\\label.py:171: DeprecationWarning: The truth value of an empty array is ambiguous. Returning False, but in future this will result in an error. Use `array.size > 0` to check that an array is not empty.\n",
      "  if diff:\n",
      "C:\\Users\\DELL PC\\Anaconda3\\lib\\site-packages\\sklearn\\preprocessing\\label.py:171: DeprecationWarning: The truth value of an empty array is ambiguous. Returning False, but in future this will result in an error. Use `array.size > 0` to check that an array is not empty.\n",
      "  if diff:\n"
     ]
    },
    {
     "name": "stdout",
     "output_type": "stream",
     "text": [
      "[CV]  subsample=0.75, reg_alpha=100, n_estimators=500, min_child_weight=7, max_depth=4, learning_rate=0.21, gamma=0.3, colsample_bytree=0.75 -   0.0s\n",
      "[CV] subsample=0.75, reg_alpha=100, n_estimators=500, min_child_weight=7, max_depth=4, learning_rate=0.21, gamma=0.3, colsample_bytree=0.75 \n",
      "[CV]  subsample=0.75, reg_alpha=100, n_estimators=500, min_child_weight=7, max_depth=4, learning_rate=0.21, gamma=0.3, colsample_bytree=0.75 -   0.0s\n",
      "[CV] subsample=0.85, reg_alpha=0.01, n_estimators=700, min_child_weight=7, max_depth=5, learning_rate=0.01, gamma=0.3, colsample_bytree=0.85 \n"
     ]
    },
    {
     "name": "stderr",
     "output_type": "stream",
     "text": [
      "C:\\Users\\DELL PC\\Anaconda3\\lib\\site-packages\\sklearn\\preprocessing\\label.py:171: DeprecationWarning: The truth value of an empty array is ambiguous. Returning False, but in future this will result in an error. Use `array.size > 0` to check that an array is not empty.\n",
      "  if diff:\n"
     ]
    },
    {
     "name": "stdout",
     "output_type": "stream",
     "text": [
      "[CV]  subsample=0.85, reg_alpha=0.01, n_estimators=700, min_child_weight=7, max_depth=5, learning_rate=0.01, gamma=0.3, colsample_bytree=0.85 -   0.3s\n",
      "[CV] subsample=0.85, reg_alpha=0.01, n_estimators=700, min_child_weight=7, max_depth=5, learning_rate=0.01, gamma=0.3, colsample_bytree=0.85 \n"
     ]
    },
    {
     "name": "stderr",
     "output_type": "stream",
     "text": [
      "C:\\Users\\DELL PC\\Anaconda3\\lib\\site-packages\\sklearn\\preprocessing\\label.py:171: DeprecationWarning: The truth value of an empty array is ambiguous. Returning False, but in future this will result in an error. Use `array.size > 0` to check that an array is not empty.\n",
      "  if diff:\n"
     ]
    },
    {
     "name": "stdout",
     "output_type": "stream",
     "text": [
      "[CV]  subsample=0.85, reg_alpha=0.01, n_estimators=700, min_child_weight=7, max_depth=5, learning_rate=0.01, gamma=0.3, colsample_bytree=0.85 -   0.3s\n",
      "[CV] subsample=0.85, reg_alpha=0.01, n_estimators=700, min_child_weight=7, max_depth=5, learning_rate=0.01, gamma=0.3, colsample_bytree=0.85 \n"
     ]
    },
    {
     "name": "stderr",
     "output_type": "stream",
     "text": [
      "C:\\Users\\DELL PC\\Anaconda3\\lib\\site-packages\\sklearn\\preprocessing\\label.py:171: DeprecationWarning: The truth value of an empty array is ambiguous. Returning False, but in future this will result in an error. Use `array.size > 0` to check that an array is not empty.\n",
      "  if diff:\n"
     ]
    },
    {
     "name": "stdout",
     "output_type": "stream",
     "text": [
      "[CV]  subsample=0.85, reg_alpha=0.01, n_estimators=700, min_child_weight=7, max_depth=5, learning_rate=0.01, gamma=0.3, colsample_bytree=0.85 -   0.3s\n",
      "[CV] subsample=0.85, reg_alpha=0.01, n_estimators=700, min_child_weight=7, max_depth=5, learning_rate=0.01, gamma=0.3, colsample_bytree=0.85 \n"
     ]
    },
    {
     "name": "stderr",
     "output_type": "stream",
     "text": [
      "C:\\Users\\DELL PC\\Anaconda3\\lib\\site-packages\\sklearn\\preprocessing\\label.py:171: DeprecationWarning: The truth value of an empty array is ambiguous. Returning False, but in future this will result in an error. Use `array.size > 0` to check that an array is not empty.\n",
      "  if diff:\n"
     ]
    },
    {
     "name": "stdout",
     "output_type": "stream",
     "text": [
      "[CV]  subsample=0.85, reg_alpha=0.01, n_estimators=700, min_child_weight=7, max_depth=5, learning_rate=0.01, gamma=0.3, colsample_bytree=0.85 -   0.2s\n",
      "[CV] subsample=0.85, reg_alpha=0.01, n_estimators=700, min_child_weight=7, max_depth=5, learning_rate=0.01, gamma=0.3, colsample_bytree=0.85 \n"
     ]
    },
    {
     "name": "stderr",
     "output_type": "stream",
     "text": [
      "C:\\Users\\DELL PC\\Anaconda3\\lib\\site-packages\\sklearn\\preprocessing\\label.py:171: DeprecationWarning: The truth value of an empty array is ambiguous. Returning False, but in future this will result in an error. Use `array.size > 0` to check that an array is not empty.\n",
      "  if diff:\n",
      "C:\\Users\\DELL PC\\Anaconda3\\lib\\site-packages\\sklearn\\preprocessing\\label.py:171: DeprecationWarning: The truth value of an empty array is ambiguous. Returning False, but in future this will result in an error. Use `array.size > 0` to check that an array is not empty.\n",
      "  if diff:\n",
      "C:\\Users\\DELL PC\\Anaconda3\\lib\\site-packages\\sklearn\\preprocessing\\label.py:171: DeprecationWarning: The truth value of an empty array is ambiguous. Returning False, but in future this will result in an error. Use `array.size > 0` to check that an array is not empty.\n",
      "  if diff:\n",
      "C:\\Users\\DELL PC\\Anaconda3\\lib\\site-packages\\sklearn\\preprocessing\\label.py:171: DeprecationWarning: The truth value of an empty array is ambiguous. Returning False, but in future this will result in an error. Use `array.size > 0` to check that an array is not empty.\n",
      "  if diff:\n",
      "C:\\Users\\DELL PC\\Anaconda3\\lib\\site-packages\\sklearn\\preprocessing\\label.py:171: DeprecationWarning: The truth value of an empty array is ambiguous. Returning False, but in future this will result in an error. Use `array.size > 0` to check that an array is not empty.\n",
      "  if diff:\n"
     ]
    },
    {
     "name": "stdout",
     "output_type": "stream",
     "text": [
      "[CV]  subsample=0.85, reg_alpha=0.01, n_estimators=700, min_child_weight=7, max_depth=5, learning_rate=0.01, gamma=0.3, colsample_bytree=0.85 -   0.3s\n",
      "[CV] subsample=0.85, reg_alpha=0.05, n_estimators=100, min_child_weight=7, max_depth=8, learning_rate=0.25, gamma=0.1, colsample_bytree=0.8 \n",
      "[CV]  subsample=0.85, reg_alpha=0.05, n_estimators=100, min_child_weight=7, max_depth=8, learning_rate=0.25, gamma=0.1, colsample_bytree=0.8 -   0.0s\n",
      "[CV] subsample=0.85, reg_alpha=0.05, n_estimators=100, min_child_weight=7, max_depth=8, learning_rate=0.25, gamma=0.1, colsample_bytree=0.8 \n",
      "[CV]  subsample=0.85, reg_alpha=0.05, n_estimators=100, min_child_weight=7, max_depth=8, learning_rate=0.25, gamma=0.1, colsample_bytree=0.8 -   0.0s\n",
      "[CV] subsample=0.85, reg_alpha=0.05, n_estimators=100, min_child_weight=7, max_depth=8, learning_rate=0.25, gamma=0.1, colsample_bytree=0.8 \n",
      "[CV]  subsample=0.85, reg_alpha=0.05, n_estimators=100, min_child_weight=7, max_depth=8, learning_rate=0.25, gamma=0.1, colsample_bytree=0.8 -   0.0s\n",
      "[CV] subsample=0.85, reg_alpha=0.05, n_estimators=100, min_child_weight=7, max_depth=8, learning_rate=0.25, gamma=0.1, colsample_bytree=0.8 \n",
      "[CV]  subsample=0.85, reg_alpha=0.05, n_estimators=100, min_child_weight=7, max_depth=8, learning_rate=0.25, gamma=0.1, colsample_bytree=0.8 -   0.0s"
     ]
    },
    {
     "name": "stderr",
     "output_type": "stream",
     "text": [
      "C:\\Users\\DELL PC\\Anaconda3\\lib\\site-packages\\sklearn\\preprocessing\\label.py:171: DeprecationWarning: The truth value of an empty array is ambiguous. Returning False, but in future this will result in an error. Use `array.size > 0` to check that an array is not empty.\n",
      "  if diff:\n"
     ]
    },
    {
     "name": "stdout",
     "output_type": "stream",
     "text": [
      "\n",
      "[CV] subsample=0.85, reg_alpha=0.05, n_estimators=100, min_child_weight=7, max_depth=8, learning_rate=0.25, gamma=0.1, colsample_bytree=0.8 \n",
      "[CV]  subsample=0.85, reg_alpha=0.05, n_estimators=100, min_child_weight=7, max_depth=8, learning_rate=0.25, gamma=0.1, colsample_bytree=0.8 -   0.0s\n",
      "[CV] subsample=0.75, reg_alpha=0.001, n_estimators=500, min_child_weight=7, max_depth=5, learning_rate=0.001, gamma=0.2, colsample_bytree=0.75 \n"
     ]
    },
    {
     "name": "stderr",
     "output_type": "stream",
     "text": [
      "C:\\Users\\DELL PC\\Anaconda3\\lib\\site-packages\\sklearn\\preprocessing\\label.py:171: DeprecationWarning: The truth value of an empty array is ambiguous. Returning False, but in future this will result in an error. Use `array.size > 0` to check that an array is not empty.\n",
      "  if diff:\n"
     ]
    },
    {
     "name": "stdout",
     "output_type": "stream",
     "text": [
      "[CV]  subsample=0.75, reg_alpha=0.001, n_estimators=500, min_child_weight=7, max_depth=5, learning_rate=0.001, gamma=0.2, colsample_bytree=0.75 -   0.1s\n",
      "[CV] subsample=0.75, reg_alpha=0.001, n_estimators=500, min_child_weight=7, max_depth=5, learning_rate=0.001, gamma=0.2, colsample_bytree=0.75 \n"
     ]
    },
    {
     "name": "stderr",
     "output_type": "stream",
     "text": [
      "C:\\Users\\DELL PC\\Anaconda3\\lib\\site-packages\\sklearn\\preprocessing\\label.py:171: DeprecationWarning: The truth value of an empty array is ambiguous. Returning False, but in future this will result in an error. Use `array.size > 0` to check that an array is not empty.\n",
      "  if diff:\n"
     ]
    },
    {
     "name": "stdout",
     "output_type": "stream",
     "text": [
      "[CV]  subsample=0.75, reg_alpha=0.001, n_estimators=500, min_child_weight=7, max_depth=5, learning_rate=0.001, gamma=0.2, colsample_bytree=0.75 -   0.1s\n",
      "[CV] subsample=0.75, reg_alpha=0.001, n_estimators=500, min_child_weight=7, max_depth=5, learning_rate=0.001, gamma=0.2, colsample_bytree=0.75 \n"
     ]
    },
    {
     "name": "stderr",
     "output_type": "stream",
     "text": [
      "C:\\Users\\DELL PC\\Anaconda3\\lib\\site-packages\\sklearn\\preprocessing\\label.py:171: DeprecationWarning: The truth value of an empty array is ambiguous. Returning False, but in future this will result in an error. Use `array.size > 0` to check that an array is not empty.\n",
      "  if diff:\n"
     ]
    },
    {
     "name": "stdout",
     "output_type": "stream",
     "text": [
      "[CV]  subsample=0.75, reg_alpha=0.001, n_estimators=500, min_child_weight=7, max_depth=5, learning_rate=0.001, gamma=0.2, colsample_bytree=0.75 -   0.1s\n",
      "[CV] subsample=0.75, reg_alpha=0.001, n_estimators=500, min_child_weight=7, max_depth=5, learning_rate=0.001, gamma=0.2, colsample_bytree=0.75 \n"
     ]
    },
    {
     "name": "stderr",
     "output_type": "stream",
     "text": [
      "C:\\Users\\DELL PC\\Anaconda3\\lib\\site-packages\\sklearn\\preprocessing\\label.py:171: DeprecationWarning: The truth value of an empty array is ambiguous. Returning False, but in future this will result in an error. Use `array.size > 0` to check that an array is not empty.\n",
      "  if diff:\n"
     ]
    },
    {
     "name": "stdout",
     "output_type": "stream",
     "text": [
      "[CV]  subsample=0.75, reg_alpha=0.001, n_estimators=500, min_child_weight=7, max_depth=5, learning_rate=0.001, gamma=0.2, colsample_bytree=0.75 -   0.1s\n",
      "[CV] subsample=0.75, reg_alpha=0.001, n_estimators=500, min_child_weight=7, max_depth=5, learning_rate=0.001, gamma=0.2, colsample_bytree=0.75 \n"
     ]
    },
    {
     "name": "stderr",
     "output_type": "stream",
     "text": [
      "C:\\Users\\DELL PC\\Anaconda3\\lib\\site-packages\\sklearn\\preprocessing\\label.py:171: DeprecationWarning: The truth value of an empty array is ambiguous. Returning False, but in future this will result in an error. Use `array.size > 0` to check that an array is not empty.\n",
      "  if diff:\n",
      "C:\\Users\\DELL PC\\Anaconda3\\lib\\site-packages\\sklearn\\preprocessing\\label.py:171: DeprecationWarning: The truth value of an empty array is ambiguous. Returning False, but in future this will result in an error. Use `array.size > 0` to check that an array is not empty.\n",
      "  if diff:\n",
      "C:\\Users\\DELL PC\\Anaconda3\\lib\\site-packages\\sklearn\\preprocessing\\label.py:171: DeprecationWarning: The truth value of an empty array is ambiguous. Returning False, but in future this will result in an error. Use `array.size > 0` to check that an array is not empty.\n",
      "  if diff:\n",
      "C:\\Users\\DELL PC\\Anaconda3\\lib\\site-packages\\sklearn\\preprocessing\\label.py:171: DeprecationWarning: The truth value of an empty array is ambiguous. Returning False, but in future this will result in an error. Use `array.size > 0` to check that an array is not empty.\n",
      "  if diff:\n"
     ]
    },
    {
     "name": "stdout",
     "output_type": "stream",
     "text": [
      "[CV]  subsample=0.75, reg_alpha=0.001, n_estimators=500, min_child_weight=7, max_depth=5, learning_rate=0.001, gamma=0.2, colsample_bytree=0.75 -   0.1s\n",
      "[CV] subsample=0.8, reg_alpha=1, n_estimators=100, min_child_weight=3, max_depth=6, learning_rate=0.21, gamma=0.4, colsample_bytree=0.85 \n",
      "[CV]  subsample=0.8, reg_alpha=1, n_estimators=100, min_child_weight=3, max_depth=6, learning_rate=0.21, gamma=0.4, colsample_bytree=0.85 -   0.0s\n",
      "[CV] subsample=0.8, reg_alpha=1, n_estimators=100, min_child_weight=3, max_depth=6, learning_rate=0.21, gamma=0.4, colsample_bytree=0.85 \n",
      "[CV]  subsample=0.8, reg_alpha=1, n_estimators=100, min_child_weight=3, max_depth=6, learning_rate=0.21, gamma=0.4, colsample_bytree=0.85 -   0.0s\n",
      "[CV] subsample=0.8, reg_alpha=1, n_estimators=100, min_child_weight=3, max_depth=6, learning_rate=0.21, gamma=0.4, colsample_bytree=0.85 \n",
      "[CV]  subsample=0.8, reg_alpha=1, n_estimators=100, min_child_weight=3, max_depth=6, learning_rate=0.21, gamma=0.4, colsample_bytree=0.85 -   0.0s\n",
      "[CV] subsample=0.8, reg_alpha=1, n_estimators=100, min_child_weight=3, max_depth=6, learning_rate=0.21, gamma=0.4, colsample_bytree=0.85 \n"
     ]
    },
    {
     "name": "stderr",
     "output_type": "stream",
     "text": [
      "C:\\Users\\DELL PC\\Anaconda3\\lib\\site-packages\\sklearn\\preprocessing\\label.py:171: DeprecationWarning: The truth value of an empty array is ambiguous. Returning False, but in future this will result in an error. Use `array.size > 0` to check that an array is not empty.\n",
      "  if diff:\n",
      "C:\\Users\\DELL PC\\Anaconda3\\lib\\site-packages\\sklearn\\preprocessing\\label.py:171: DeprecationWarning: The truth value of an empty array is ambiguous. Returning False, but in future this will result in an error. Use `array.size > 0` to check that an array is not empty.\n",
      "  if diff:\n",
      "C:\\Users\\DELL PC\\Anaconda3\\lib\\site-packages\\sklearn\\preprocessing\\label.py:171: DeprecationWarning: The truth value of an empty array is ambiguous. Returning False, but in future this will result in an error. Use `array.size > 0` to check that an array is not empty.\n",
      "  if diff:\n",
      "C:\\Users\\DELL PC\\Anaconda3\\lib\\site-packages\\sklearn\\preprocessing\\label.py:171: DeprecationWarning: The truth value of an empty array is ambiguous. Returning False, but in future this will result in an error. Use `array.size > 0` to check that an array is not empty.\n",
      "  if diff:\n",
      "C:\\Users\\DELL PC\\Anaconda3\\lib\\site-packages\\sklearn\\preprocessing\\label.py:171: DeprecationWarning: The truth value of an empty array is ambiguous. Returning False, but in future this will result in an error. Use `array.size > 0` to check that an array is not empty.\n",
      "  if diff:\n",
      "C:\\Users\\DELL PC\\Anaconda3\\lib\\site-packages\\sklearn\\preprocessing\\label.py:171: DeprecationWarning: The truth value of an empty array is ambiguous. Returning False, but in future this will result in an error. Use `array.size > 0` to check that an array is not empty.\n",
      "  if diff:\n"
     ]
    },
    {
     "name": "stdout",
     "output_type": "stream",
     "text": [
      "[CV]  subsample=0.8, reg_alpha=1, n_estimators=100, min_child_weight=3, max_depth=6, learning_rate=0.21, gamma=0.4, colsample_bytree=0.85 -   0.0s\n",
      "[CV] subsample=0.8, reg_alpha=1, n_estimators=100, min_child_weight=3, max_depth=6, learning_rate=0.21, gamma=0.4, colsample_bytree=0.85 \n",
      "[CV]  subsample=0.8, reg_alpha=1, n_estimators=100, min_child_weight=3, max_depth=6, learning_rate=0.21, gamma=0.4, colsample_bytree=0.85 -   0.0s\n",
      "[CV] subsample=0.75, reg_alpha=0, n_estimators=60, min_child_weight=5, max_depth=7, learning_rate=0.001, gamma=0.3, colsample_bytree=0.8 \n",
      "[CV]  subsample=0.75, reg_alpha=0, n_estimators=60, min_child_weight=5, max_depth=7, learning_rate=0.001, gamma=0.3, colsample_bytree=0.8 -   0.0s\n",
      "[CV] subsample=0.75, reg_alpha=0, n_estimators=60, min_child_weight=5, max_depth=7, learning_rate=0.001, gamma=0.3, colsample_bytree=0.8 \n",
      "[CV]  subsample=0.75, reg_alpha=0, n_estimators=60, min_child_weight=5, max_depth=7, learning_rate=0.001, gamma=0.3, colsample_bytree=0.8 -   0.0s\n",
      "[CV] subsample=0.75, reg_alpha=0, n_estimators=60, min_child_weight=5, max_depth=7, learning_rate=0.001, gamma=0.3, colsample_bytree=0.8 \n",
      "[CV]  subsample=0.75, reg_alpha=0, n_estimators=60, min_child_weight=5, max_depth=7, learning_rate=0.001, gamma=0.3, colsample_bytree=0.8 -   0.0s\n",
      "[CV] subsample=0.75, reg_alpha=0, n_estimators=60, min_child_weight=5, max_depth=7, learning_rate=0.001, gamma=0.3, colsample_bytree=0.8 \n",
      "[CV]  subsample=0.75, reg_alpha=0, n_estimators=60, min_child_weight=5, max_depth=7, learning_rate=0.001, gamma=0.3, colsample_bytree=0.8 -   0.0s\n",
      "[CV] subsample=0.75, reg_alpha=0, n_estimators=60, min_child_weight=5, max_depth=7, learning_rate=0.001, gamma=0.3, colsample_bytree=0.8 \n"
     ]
    },
    {
     "name": "stderr",
     "output_type": "stream",
     "text": [
      "C:\\Users\\DELL PC\\Anaconda3\\lib\\site-packages\\sklearn\\preprocessing\\label.py:171: DeprecationWarning: The truth value of an empty array is ambiguous. Returning False, but in future this will result in an error. Use `array.size > 0` to check that an array is not empty.\n",
      "  if diff:\n",
      "C:\\Users\\DELL PC\\Anaconda3\\lib\\site-packages\\sklearn\\preprocessing\\label.py:171: DeprecationWarning: The truth value of an empty array is ambiguous. Returning False, but in future this will result in an error. Use `array.size > 0` to check that an array is not empty.\n",
      "  if diff:\n",
      "C:\\Users\\DELL PC\\Anaconda3\\lib\\site-packages\\sklearn\\preprocessing\\label.py:171: DeprecationWarning: The truth value of an empty array is ambiguous. Returning False, but in future this will result in an error. Use `array.size > 0` to check that an array is not empty.\n",
      "  if diff:\n",
      "C:\\Users\\DELL PC\\Anaconda3\\lib\\site-packages\\sklearn\\preprocessing\\label.py:171: DeprecationWarning: The truth value of an empty array is ambiguous. Returning False, but in future this will result in an error. Use `array.size > 0` to check that an array is not empty.\n",
      "  if diff:\n",
      "C:\\Users\\DELL PC\\Anaconda3\\lib\\site-packages\\sklearn\\preprocessing\\label.py:171: DeprecationWarning: The truth value of an empty array is ambiguous. Returning False, but in future this will result in an error. Use `array.size > 0` to check that an array is not empty.\n",
      "  if diff:\n",
      "C:\\Users\\DELL PC\\Anaconda3\\lib\\site-packages\\sklearn\\preprocessing\\label.py:171: DeprecationWarning: The truth value of an empty array is ambiguous. Returning False, but in future this will result in an error. Use `array.size > 0` to check that an array is not empty.\n",
      "  if diff:\n",
      "C:\\Users\\DELL PC\\Anaconda3\\lib\\site-packages\\sklearn\\preprocessing\\label.py:171: DeprecationWarning: The truth value of an empty array is ambiguous. Returning False, but in future this will result in an error. Use `array.size > 0` to check that an array is not empty.\n",
      "  if diff:\n"
     ]
    },
    {
     "name": "stdout",
     "output_type": "stream",
     "text": [
      "[CV]  subsample=0.75, reg_alpha=0, n_estimators=60, min_child_weight=5, max_depth=7, learning_rate=0.001, gamma=0.3, colsample_bytree=0.8 -   0.0s\n",
      "[CV] subsample=0.8, reg_alpha=1, n_estimators=60, min_child_weight=9, max_depth=3, learning_rate=0.25, gamma=0.3, colsample_bytree=0.75 \n",
      "[CV]  subsample=0.8, reg_alpha=1, n_estimators=60, min_child_weight=9, max_depth=3, learning_rate=0.25, gamma=0.3, colsample_bytree=0.75 -   0.0s\n",
      "[CV] subsample=0.8, reg_alpha=1, n_estimators=60, min_child_weight=9, max_depth=3, learning_rate=0.25, gamma=0.3, colsample_bytree=0.75 \n",
      "[CV]  subsample=0.8, reg_alpha=1, n_estimators=60, min_child_weight=9, max_depth=3, learning_rate=0.25, gamma=0.3, colsample_bytree=0.75 -   0.0s\n",
      "[CV] subsample=0.8, reg_alpha=1, n_estimators=60, min_child_weight=9, max_depth=3, learning_rate=0.25, gamma=0.3, colsample_bytree=0.75 \n",
      "[CV]  subsample=0.8, reg_alpha=1, n_estimators=60, min_child_weight=9, max_depth=3, learning_rate=0.25, gamma=0.3, colsample_bytree=0.75 -   0.0s\n",
      "[CV] subsample=0.8, reg_alpha=1, n_estimators=60, min_child_weight=9, max_depth=3, learning_rate=0.25, gamma=0.3, colsample_bytree=0.75 \n",
      "[CV]  subsample=0.8, reg_alpha=1, n_estimators=60, min_child_weight=9, max_depth=3, learning_rate=0.25, gamma=0.3, colsample_bytree=0.75 -   0.0s\n",
      "[CV] subsample=0.8, reg_alpha=1, n_estimators=60, min_child_weight=9, max_depth=3, learning_rate=0.25, gamma=0.3, colsample_bytree=0.75 \n",
      "[CV]  subsample=0.8, reg_alpha=1, n_estimators=60, min_child_weight=9, max_depth=3, learning_rate=0.25, gamma=0.3, colsample_bytree=0.75 -   0.0s\n",
      "[CV] subsample=0.8, reg_alpha=0.005, n_estimators=60, min_child_weight=1, max_depth=9, learning_rate=0.1, gamma=0.1, colsample_bytree=0.85 \n",
      "[CV]  subsample=0.8, reg_alpha=0.005, n_estimators=60, min_child_weight=1, max_depth=9, learning_rate=0.1, gamma=0.1, colsample_bytree=0.85 -   0.0s\n",
      "[CV] subsample=0.8, reg_alpha=0.005, n_estimators=60, min_child_weight=1, max_depth=9, learning_rate=0.1, gamma=0.1, colsample_bytree=0.85 \n"
     ]
    },
    {
     "name": "stderr",
     "output_type": "stream",
     "text": [
      "C:\\Users\\DELL PC\\Anaconda3\\lib\\site-packages\\sklearn\\preprocessing\\label.py:171: DeprecationWarning: The truth value of an empty array is ambiguous. Returning False, but in future this will result in an error. Use `array.size > 0` to check that an array is not empty.\n",
      "  if diff:\n",
      "C:\\Users\\DELL PC\\Anaconda3\\lib\\site-packages\\sklearn\\preprocessing\\label.py:171: DeprecationWarning: The truth value of an empty array is ambiguous. Returning False, but in future this will result in an error. Use `array.size > 0` to check that an array is not empty.\n",
      "  if diff:\n",
      "C:\\Users\\DELL PC\\Anaconda3\\lib\\site-packages\\sklearn\\preprocessing\\label.py:171: DeprecationWarning: The truth value of an empty array is ambiguous. Returning False, but in future this will result in an error. Use `array.size > 0` to check that an array is not empty.\n",
      "  if diff:\n",
      "C:\\Users\\DELL PC\\Anaconda3\\lib\\site-packages\\sklearn\\preprocessing\\label.py:171: DeprecationWarning: The truth value of an empty array is ambiguous. Returning False, but in future this will result in an error. Use `array.size > 0` to check that an array is not empty.\n",
      "  if diff:\n"
     ]
    },
    {
     "name": "stdout",
     "output_type": "stream",
     "text": [
      "[CV]  subsample=0.8, reg_alpha=0.005, n_estimators=60, min_child_weight=1, max_depth=9, learning_rate=0.1, gamma=0.1, colsample_bytree=0.85 -   0.0s\n",
      "[CV] subsample=0.8, reg_alpha=0.005, n_estimators=60, min_child_weight=1, max_depth=9, learning_rate=0.1, gamma=0.1, colsample_bytree=0.85 \n",
      "[CV]  subsample=0.8, reg_alpha=0.005, n_estimators=60, min_child_weight=1, max_depth=9, learning_rate=0.1, gamma=0.1, colsample_bytree=0.85 -   0.0s\n",
      "[CV] subsample=0.8, reg_alpha=0.005, n_estimators=60, min_child_weight=1, max_depth=9, learning_rate=0.1, gamma=0.1, colsample_bytree=0.85 \n",
      "[CV]  subsample=0.8, reg_alpha=0.005, n_estimators=60, min_child_weight=1, max_depth=9, learning_rate=0.1, gamma=0.1, colsample_bytree=0.85 -   0.0s\n",
      "[CV] subsample=0.8, reg_alpha=0.005, n_estimators=60, min_child_weight=1, max_depth=9, learning_rate=0.1, gamma=0.1, colsample_bytree=0.85 \n",
      "[CV]  subsample=0.8, reg_alpha=0.005, n_estimators=60, min_child_weight=1, max_depth=9, learning_rate=0.1, gamma=0.1, colsample_bytree=0.85 -   0.0s\n",
      "[CV] subsample=0.85, reg_alpha=100, n_estimators=300, min_child_weight=1, max_depth=3, learning_rate=0.25, gamma=0.2, colsample_bytree=0.75 \n"
     ]
    },
    {
     "name": "stderr",
     "output_type": "stream",
     "text": [
      "C:\\Users\\DELL PC\\Anaconda3\\lib\\site-packages\\sklearn\\preprocessing\\label.py:171: DeprecationWarning: The truth value of an empty array is ambiguous. Returning False, but in future this will result in an error. Use `array.size > 0` to check that an array is not empty.\n",
      "  if diff:\n",
      "C:\\Users\\DELL PC\\Anaconda3\\lib\\site-packages\\sklearn\\preprocessing\\label.py:171: DeprecationWarning: The truth value of an empty array is ambiguous. Returning False, but in future this will result in an error. Use `array.size > 0` to check that an array is not empty.\n",
      "  if diff:\n",
      "C:\\Users\\DELL PC\\Anaconda3\\lib\\site-packages\\sklearn\\preprocessing\\label.py:171: DeprecationWarning: The truth value of an empty array is ambiguous. Returning False, but in future this will result in an error. Use `array.size > 0` to check that an array is not empty.\n",
      "  if diff:\n",
      "C:\\Users\\DELL PC\\Anaconda3\\lib\\site-packages\\sklearn\\preprocessing\\label.py:171: DeprecationWarning: The truth value of an empty array is ambiguous. Returning False, but in future this will result in an error. Use `array.size > 0` to check that an array is not empty.\n",
      "  if diff:\n"
     ]
    },
    {
     "name": "stdout",
     "output_type": "stream",
     "text": [
      "[CV]  subsample=0.85, reg_alpha=100, n_estimators=300, min_child_weight=1, max_depth=3, learning_rate=0.25, gamma=0.2, colsample_bytree=0.75 -   0.0s\n",
      "[CV] subsample=0.85, reg_alpha=100, n_estimators=300, min_child_weight=1, max_depth=3, learning_rate=0.25, gamma=0.2, colsample_bytree=0.75 \n",
      "[CV]  subsample=0.85, reg_alpha=100, n_estimators=300, min_child_weight=1, max_depth=3, learning_rate=0.25, gamma=0.2, colsample_bytree=0.75 -   0.0s\n",
      "[CV] subsample=0.85, reg_alpha=100, n_estimators=300, min_child_weight=1, max_depth=3, learning_rate=0.25, gamma=0.2, colsample_bytree=0.75 \n",
      "[CV]  subsample=0.85, reg_alpha=100, n_estimators=300, min_child_weight=1, max_depth=3, learning_rate=0.25, gamma=0.2, colsample_bytree=0.75 -   0.0s\n",
      "[CV] subsample=0.85, reg_alpha=100, n_estimators=300, min_child_weight=1, max_depth=3, learning_rate=0.25, gamma=0.2, colsample_bytree=0.75 \n",
      "[CV]  subsample=0.85, reg_alpha=100, n_estimators=300, min_child_weight=1, max_depth=3, learning_rate=0.25, gamma=0.2, colsample_bytree=0.75 -   0.0s\n",
      "[CV] subsample=0.85, reg_alpha=100, n_estimators=300, min_child_weight=1, max_depth=3, learning_rate=0.25, gamma=0.2, colsample_bytree=0.75 \n"
     ]
    },
    {
     "name": "stderr",
     "output_type": "stream",
     "text": [
      "C:\\Users\\DELL PC\\Anaconda3\\lib\\site-packages\\sklearn\\preprocessing\\label.py:171: DeprecationWarning: The truth value of an empty array is ambiguous. Returning False, but in future this will result in an error. Use `array.size > 0` to check that an array is not empty.\n",
      "  if diff:\n",
      "C:\\Users\\DELL PC\\Anaconda3\\lib\\site-packages\\sklearn\\preprocessing\\label.py:171: DeprecationWarning: The truth value of an empty array is ambiguous. Returning False, but in future this will result in an error. Use `array.size > 0` to check that an array is not empty.\n",
      "  if diff:\n",
      "C:\\Users\\DELL PC\\Anaconda3\\lib\\site-packages\\sklearn\\preprocessing\\label.py:171: DeprecationWarning: The truth value of an empty array is ambiguous. Returning False, but in future this will result in an error. Use `array.size > 0` to check that an array is not empty.\n",
      "  if diff:\n",
      "C:\\Users\\DELL PC\\Anaconda3\\lib\\site-packages\\sklearn\\preprocessing\\label.py:171: DeprecationWarning: The truth value of an empty array is ambiguous. Returning False, but in future this will result in an error. Use `array.size > 0` to check that an array is not empty.\n",
      "  if diff:\n",
      "C:\\Users\\DELL PC\\Anaconda3\\lib\\site-packages\\sklearn\\preprocessing\\label.py:171: DeprecationWarning: The truth value of an empty array is ambiguous. Returning False, but in future this will result in an error. Use `array.size > 0` to check that an array is not empty.\n",
      "  if diff:\n",
      "C:\\Users\\DELL PC\\Anaconda3\\lib\\site-packages\\sklearn\\preprocessing\\label.py:171: DeprecationWarning: The truth value of an empty array is ambiguous. Returning False, but in future this will result in an error. Use `array.size > 0` to check that an array is not empty.\n",
      "  if diff:\n",
      "C:\\Users\\DELL PC\\Anaconda3\\lib\\site-packages\\sklearn\\preprocessing\\label.py:171: DeprecationWarning: The truth value of an empty array is ambiguous. Returning False, but in future this will result in an error. Use `array.size > 0` to check that an array is not empty.\n",
      "  if diff:\n"
     ]
    },
    {
     "name": "stdout",
     "output_type": "stream",
     "text": [
      "[CV]  subsample=0.85, reg_alpha=100, n_estimators=300, min_child_weight=1, max_depth=3, learning_rate=0.25, gamma=0.2, colsample_bytree=0.75 -   0.0s\n",
      "[CV] subsample=0.85, reg_alpha=0.001, n_estimators=10, min_child_weight=5, max_depth=3, learning_rate=0.21, gamma=0.3, colsample_bytree=0.85 \n",
      "[CV]  subsample=0.85, reg_alpha=0.001, n_estimators=10, min_child_weight=5, max_depth=3, learning_rate=0.21, gamma=0.3, colsample_bytree=0.85 -   0.0s\n",
      "[CV] subsample=0.85, reg_alpha=0.001, n_estimators=10, min_child_weight=5, max_depth=3, learning_rate=0.21, gamma=0.3, colsample_bytree=0.85 \n",
      "[CV]  subsample=0.85, reg_alpha=0.001, n_estimators=10, min_child_weight=5, max_depth=3, learning_rate=0.21, gamma=0.3, colsample_bytree=0.85 -   0.0s\n",
      "[CV] subsample=0.85, reg_alpha=0.001, n_estimators=10, min_child_weight=5, max_depth=3, learning_rate=0.21, gamma=0.3, colsample_bytree=0.85 \n",
      "[CV]  subsample=0.85, reg_alpha=0.001, n_estimators=10, min_child_weight=5, max_depth=3, learning_rate=0.21, gamma=0.3, colsample_bytree=0.85 -   0.0s\n",
      "[CV] subsample=0.85, reg_alpha=0.001, n_estimators=10, min_child_weight=5, max_depth=3, learning_rate=0.21, gamma=0.3, colsample_bytree=0.85 \n",
      "[CV]  subsample=0.85, reg_alpha=0.001, n_estimators=10, min_child_weight=5, max_depth=3, learning_rate=0.21, gamma=0.3, colsample_bytree=0.85 -   0.0s\n",
      "[CV] subsample=0.85, reg_alpha=0.001, n_estimators=10, min_child_weight=5, max_depth=3, learning_rate=0.21, gamma=0.3, colsample_bytree=0.85 \n",
      "[CV]  subsample=0.85, reg_alpha=0.001, n_estimators=10, min_child_weight=5, max_depth=3, learning_rate=0.21, gamma=0.3, colsample_bytree=0.85 -   0.0s\n",
      "[CV] subsample=0.85, reg_alpha=0.01, n_estimators=200, min_child_weight=7, max_depth=4, learning_rate=0.01, gamma=0.2, colsample_bytree=0.75 \n",
      "[CV]  subsample=0.85, reg_alpha=0.01, n_estimators=200, min_child_weight=7, max_depth=4, learning_rate=0.01, gamma=0.2, colsample_bytree=0.75 -   0.0s\n",
      "[CV] subsample=0.85, reg_alpha=0.01, n_estimators=200, min_child_weight=7, max_depth=4, learning_rate=0.01, gamma=0.2, colsample_bytree=0.75 \n"
     ]
    },
    {
     "name": "stderr",
     "output_type": "stream",
     "text": [
      "C:\\Users\\DELL PC\\Anaconda3\\lib\\site-packages\\sklearn\\preprocessing\\label.py:171: DeprecationWarning: The truth value of an empty array is ambiguous. Returning False, but in future this will result in an error. Use `array.size > 0` to check that an array is not empty.\n",
      "  if diff:\n",
      "C:\\Users\\DELL PC\\Anaconda3\\lib\\site-packages\\sklearn\\preprocessing\\label.py:171: DeprecationWarning: The truth value of an empty array is ambiguous. Returning False, but in future this will result in an error. Use `array.size > 0` to check that an array is not empty.\n",
      "  if diff:\n",
      "C:\\Users\\DELL PC\\Anaconda3\\lib\\site-packages\\sklearn\\preprocessing\\label.py:171: DeprecationWarning: The truth value of an empty array is ambiguous. Returning False, but in future this will result in an error. Use `array.size > 0` to check that an array is not empty.\n",
      "  if diff:\n"
     ]
    },
    {
     "name": "stdout",
     "output_type": "stream",
     "text": [
      "[CV]  subsample=0.85, reg_alpha=0.01, n_estimators=200, min_child_weight=7, max_depth=4, learning_rate=0.01, gamma=0.2, colsample_bytree=0.75 -   0.0s\n",
      "[CV] subsample=0.85, reg_alpha=0.01, n_estimators=200, min_child_weight=7, max_depth=4, learning_rate=0.01, gamma=0.2, colsample_bytree=0.75 \n",
      "[CV]  subsample=0.85, reg_alpha=0.01, n_estimators=200, min_child_weight=7, max_depth=4, learning_rate=0.01, gamma=0.2, colsample_bytree=0.75 -   0.0s\n",
      "[CV] subsample=0.85, reg_alpha=0.01, n_estimators=200, min_child_weight=7, max_depth=4, learning_rate=0.01, gamma=0.2, colsample_bytree=0.75 \n",
      "[CV]  subsample=0.85, reg_alpha=0.01, n_estimators=200, min_child_weight=7, max_depth=4, learning_rate=0.01, gamma=0.2, colsample_bytree=0.75 -   0.0s\n",
      "[CV] subsample=0.85, reg_alpha=0.01, n_estimators=200, min_child_weight=7, max_depth=4, learning_rate=0.01, gamma=0.2, colsample_bytree=0.75 \n"
     ]
    },
    {
     "name": "stderr",
     "output_type": "stream",
     "text": [
      "C:\\Users\\DELL PC\\Anaconda3\\lib\\site-packages\\sklearn\\preprocessing\\label.py:171: DeprecationWarning: The truth value of an empty array is ambiguous. Returning False, but in future this will result in an error. Use `array.size > 0` to check that an array is not empty.\n",
      "  if diff:\n",
      "C:\\Users\\DELL PC\\Anaconda3\\lib\\site-packages\\sklearn\\preprocessing\\label.py:171: DeprecationWarning: The truth value of an empty array is ambiguous. Returning False, but in future this will result in an error. Use `array.size > 0` to check that an array is not empty.\n",
      "  if diff:\n"
     ]
    },
    {
     "name": "stdout",
     "output_type": "stream",
     "text": [
      "[CV]  subsample=0.85, reg_alpha=0.01, n_estimators=200, min_child_weight=7, max_depth=4, learning_rate=0.01, gamma=0.2, colsample_bytree=0.75 -   0.0s\n",
      "[CV] subsample=0.8, reg_alpha=100, n_estimators=500, min_child_weight=5, max_depth=3, learning_rate=0.001, gamma=0.4, colsample_bytree=0.85 \n",
      "[CV]  subsample=0.8, reg_alpha=100, n_estimators=500, min_child_weight=5, max_depth=3, learning_rate=0.001, gamma=0.4, colsample_bytree=0.85 -   0.0s\n",
      "[CV] subsample=0.8, reg_alpha=100, n_estimators=500, min_child_weight=5, max_depth=3, learning_rate=0.001, gamma=0.4, colsample_bytree=0.85 \n"
     ]
    },
    {
     "name": "stderr",
     "output_type": "stream",
     "text": [
      "C:\\Users\\DELL PC\\Anaconda3\\lib\\site-packages\\sklearn\\preprocessing\\label.py:171: DeprecationWarning: The truth value of an empty array is ambiguous. Returning False, but in future this will result in an error. Use `array.size > 0` to check that an array is not empty.\n",
      "  if diff:\n",
      "C:\\Users\\DELL PC\\Anaconda3\\lib\\site-packages\\sklearn\\preprocessing\\label.py:171: DeprecationWarning: The truth value of an empty array is ambiguous. Returning False, but in future this will result in an error. Use `array.size > 0` to check that an array is not empty.\n",
      "  if diff:\n"
     ]
    },
    {
     "name": "stdout",
     "output_type": "stream",
     "text": [
      "[CV]  subsample=0.8, reg_alpha=100, n_estimators=500, min_child_weight=5, max_depth=3, learning_rate=0.001, gamma=0.4, colsample_bytree=0.85 -   0.0s\n",
      "[CV] subsample=0.8, reg_alpha=100, n_estimators=500, min_child_weight=5, max_depth=3, learning_rate=0.001, gamma=0.4, colsample_bytree=0.85 \n",
      "[CV]  subsample=0.8, reg_alpha=100, n_estimators=500, min_child_weight=5, max_depth=3, learning_rate=0.001, gamma=0.4, colsample_bytree=0.85 -   0.0s\n",
      "[CV] subsample=0.8, reg_alpha=100, n_estimators=500, min_child_weight=5, max_depth=3, learning_rate=0.001, gamma=0.4, colsample_bytree=0.85 \n"
     ]
    },
    {
     "name": "stderr",
     "output_type": "stream",
     "text": [
      "C:\\Users\\DELL PC\\Anaconda3\\lib\\site-packages\\sklearn\\preprocessing\\label.py:171: DeprecationWarning: The truth value of an empty array is ambiguous. Returning False, but in future this will result in an error. Use `array.size > 0` to check that an array is not empty.\n",
      "  if diff:\n",
      "C:\\Users\\DELL PC\\Anaconda3\\lib\\site-packages\\sklearn\\preprocessing\\label.py:171: DeprecationWarning: The truth value of an empty array is ambiguous. Returning False, but in future this will result in an error. Use `array.size > 0` to check that an array is not empty.\n",
      "  if diff:\n",
      "C:\\Users\\DELL PC\\Anaconda3\\lib\\site-packages\\sklearn\\preprocessing\\label.py:171: DeprecationWarning: The truth value of an empty array is ambiguous. Returning False, but in future this will result in an error. Use `array.size > 0` to check that an array is not empty.\n",
      "  if diff:\n",
      "C:\\Users\\DELL PC\\Anaconda3\\lib\\site-packages\\sklearn\\preprocessing\\label.py:171: DeprecationWarning: The truth value of an empty array is ambiguous. Returning False, but in future this will result in an error. Use `array.size > 0` to check that an array is not empty.\n",
      "  if diff:\n",
      "C:\\Users\\DELL PC\\Anaconda3\\lib\\site-packages\\sklearn\\preprocessing\\label.py:171: DeprecationWarning: The truth value of an empty array is ambiguous. Returning False, but in future this will result in an error. Use `array.size > 0` to check that an array is not empty.\n",
      "  if diff:\n",
      "C:\\Users\\DELL PC\\Anaconda3\\lib\\site-packages\\sklearn\\preprocessing\\label.py:171: DeprecationWarning: The truth value of an empty array is ambiguous. Returning False, but in future this will result in an error. Use `array.size > 0` to check that an array is not empty.\n",
      "  if diff:\n",
      "C:\\Users\\DELL PC\\Anaconda3\\lib\\site-packages\\sklearn\\preprocessing\\label.py:171: DeprecationWarning: The truth value of an empty array is ambiguous. Returning False, but in future this will result in an error. Use `array.size > 0` to check that an array is not empty.\n",
      "  if diff:\n"
     ]
    },
    {
     "name": "stdout",
     "output_type": "stream",
     "text": [
      "[CV]  subsample=0.8, reg_alpha=100, n_estimators=500, min_child_weight=5, max_depth=3, learning_rate=0.001, gamma=0.4, colsample_bytree=0.85 -   0.0s\n",
      "[CV] subsample=0.8, reg_alpha=100, n_estimators=500, min_child_weight=5, max_depth=3, learning_rate=0.001, gamma=0.4, colsample_bytree=0.85 \n",
      "[CV]  subsample=0.8, reg_alpha=100, n_estimators=500, min_child_weight=5, max_depth=3, learning_rate=0.001, gamma=0.4, colsample_bytree=0.85 -   0.0s\n",
      "[CV] subsample=0.85, reg_alpha=1, n_estimators=30, min_child_weight=9, max_depth=9, learning_rate=0.15, gamma=0.4, colsample_bytree=0.8 \n",
      "[CV]  subsample=0.85, reg_alpha=1, n_estimators=30, min_child_weight=9, max_depth=9, learning_rate=0.15, gamma=0.4, colsample_bytree=0.8 -   0.0s\n",
      "[CV] subsample=0.85, reg_alpha=1, n_estimators=30, min_child_weight=9, max_depth=9, learning_rate=0.15, gamma=0.4, colsample_bytree=0.8 \n",
      "[CV]  subsample=0.85, reg_alpha=1, n_estimators=30, min_child_weight=9, max_depth=9, learning_rate=0.15, gamma=0.4, colsample_bytree=0.8 -   0.0s\n",
      "[CV] subsample=0.85, reg_alpha=1, n_estimators=30, min_child_weight=9, max_depth=9, learning_rate=0.15, gamma=0.4, colsample_bytree=0.8 \n",
      "[CV]  subsample=0.85, reg_alpha=1, n_estimators=30, min_child_weight=9, max_depth=9, learning_rate=0.15, gamma=0.4, colsample_bytree=0.8 -   0.0s\n",
      "[CV] subsample=0.85, reg_alpha=1, n_estimators=30, min_child_weight=9, max_depth=9, learning_rate=0.15, gamma=0.4, colsample_bytree=0.8 \n",
      "[CV]  subsample=0.85, reg_alpha=1, n_estimators=30, min_child_weight=9, max_depth=9, learning_rate=0.15, gamma=0.4, colsample_bytree=0.8 -   0.0s\n",
      "[CV] subsample=0.85, reg_alpha=1, n_estimators=30, min_child_weight=9, max_depth=9, learning_rate=0.15, gamma=0.4, colsample_bytree=0.8 \n",
      "[CV]  subsample=0.85, reg_alpha=1, n_estimators=30, min_child_weight=9, max_depth=9, learning_rate=0.15, gamma=0.4, colsample_bytree=0.8 -   0.0s\n",
      "[CV] subsample=0.8, reg_alpha=0.1, n_estimators=100, min_child_weight=1, max_depth=5, learning_rate=0.1, gamma=0.2, colsample_bytree=0.85 "
     ]
    },
    {
     "name": "stderr",
     "output_type": "stream",
     "text": [
      "C:\\Users\\DELL PC\\Anaconda3\\lib\\site-packages\\sklearn\\preprocessing\\label.py:171: DeprecationWarning: The truth value of an empty array is ambiguous. Returning False, but in future this will result in an error. Use `array.size > 0` to check that an array is not empty.\n",
      "  if diff:\n",
      "C:\\Users\\DELL PC\\Anaconda3\\lib\\site-packages\\sklearn\\preprocessing\\label.py:171: DeprecationWarning: The truth value of an empty array is ambiguous. Returning False, but in future this will result in an error. Use `array.size > 0` to check that an array is not empty.\n",
      "  if diff:\n",
      "C:\\Users\\DELL PC\\Anaconda3\\lib\\site-packages\\sklearn\\preprocessing\\label.py:171: DeprecationWarning: The truth value of an empty array is ambiguous. Returning False, but in future this will result in an error. Use `array.size > 0` to check that an array is not empty.\n",
      "  if diff:\n",
      "C:\\Users\\DELL PC\\Anaconda3\\lib\\site-packages\\sklearn\\preprocessing\\label.py:171: DeprecationWarning: The truth value of an empty array is ambiguous. Returning False, but in future this will result in an error. Use `array.size > 0` to check that an array is not empty.\n",
      "  if diff:\n"
     ]
    },
    {
     "name": "stdout",
     "output_type": "stream",
     "text": [
      "\n",
      "[CV]  subsample=0.8, reg_alpha=0.1, n_estimators=100, min_child_weight=1, max_depth=5, learning_rate=0.1, gamma=0.2, colsample_bytree=0.85 -   0.0s\n",
      "[CV] subsample=0.8, reg_alpha=0.1, n_estimators=100, min_child_weight=1, max_depth=5, learning_rate=0.1, gamma=0.2, colsample_bytree=0.85 \n",
      "[CV]  subsample=0.8, reg_alpha=0.1, n_estimators=100, min_child_weight=1, max_depth=5, learning_rate=0.1, gamma=0.2, colsample_bytree=0.85 -   0.0s\n",
      "[CV] subsample=0.8, reg_alpha=0.1, n_estimators=100, min_child_weight=1, max_depth=5, learning_rate=0.1, gamma=0.2, colsample_bytree=0.85 \n",
      "[CV]  subsample=0.8, reg_alpha=0.1, n_estimators=100, min_child_weight=1, max_depth=5, learning_rate=0.1, gamma=0.2, colsample_bytree=0.85 -   0.0s\n",
      "[CV] subsample=0.8, reg_alpha=0.1, n_estimators=100, min_child_weight=1, max_depth=5, learning_rate=0.1, gamma=0.2, colsample_bytree=0.85 \n",
      "[CV]  subsample=0.8, reg_alpha=0.1, n_estimators=100, min_child_weight=1, max_depth=5, learning_rate=0.1, gamma=0.2, colsample_bytree=0.85 -   0.0s\n",
      "[CV] subsample=0.8, reg_alpha=0.1, n_estimators=100, min_child_weight=1, max_depth=5, learning_rate=0.1, gamma=0.2, colsample_bytree=0.85 \n"
     ]
    },
    {
     "name": "stderr",
     "output_type": "stream",
     "text": [
      "C:\\Users\\DELL PC\\Anaconda3\\lib\\site-packages\\sklearn\\preprocessing\\label.py:171: DeprecationWarning: The truth value of an empty array is ambiguous. Returning False, but in future this will result in an error. Use `array.size > 0` to check that an array is not empty.\n",
      "  if diff:\n"
     ]
    },
    {
     "name": "stdout",
     "output_type": "stream",
     "text": [
      "[CV]  subsample=0.8, reg_alpha=0.1, n_estimators=100, min_child_weight=1, max_depth=5, learning_rate=0.1, gamma=0.2, colsample_bytree=0.85 -   0.0s\n",
      "[CV] subsample=0.75, reg_alpha=0.001, n_estimators=1000, min_child_weight=9, max_depth=4, learning_rate=0.1, gamma=0.4, colsample_bytree=0.75 \n"
     ]
    },
    {
     "name": "stderr",
     "output_type": "stream",
     "text": [
      "C:\\Users\\DELL PC\\Anaconda3\\lib\\site-packages\\sklearn\\preprocessing\\label.py:171: DeprecationWarning: The truth value of an empty array is ambiguous. Returning False, but in future this will result in an error. Use `array.size > 0` to check that an array is not empty.\n",
      "  if diff:\n"
     ]
    },
    {
     "name": "stdout",
     "output_type": "stream",
     "text": [
      "[CV]  subsample=0.75, reg_alpha=0.001, n_estimators=1000, min_child_weight=9, max_depth=4, learning_rate=0.1, gamma=0.4, colsample_bytree=0.75 -   0.3s\n",
      "[CV] subsample=0.75, reg_alpha=0.001, n_estimators=1000, min_child_weight=9, max_depth=4, learning_rate=0.1, gamma=0.4, colsample_bytree=0.75 \n"
     ]
    },
    {
     "name": "stderr",
     "output_type": "stream",
     "text": [
      "C:\\Users\\DELL PC\\Anaconda3\\lib\\site-packages\\sklearn\\preprocessing\\label.py:171: DeprecationWarning: The truth value of an empty array is ambiguous. Returning False, but in future this will result in an error. Use `array.size > 0` to check that an array is not empty.\n",
      "  if diff:\n"
     ]
    },
    {
     "name": "stdout",
     "output_type": "stream",
     "text": [
      "[CV]  subsample=0.75, reg_alpha=0.001, n_estimators=1000, min_child_weight=9, max_depth=4, learning_rate=0.1, gamma=0.4, colsample_bytree=0.75 -   0.3s\n",
      "[CV] subsample=0.75, reg_alpha=0.001, n_estimators=1000, min_child_weight=9, max_depth=4, learning_rate=0.1, gamma=0.4, colsample_bytree=0.75 \n"
     ]
    },
    {
     "name": "stderr",
     "output_type": "stream",
     "text": [
      "C:\\Users\\DELL PC\\Anaconda3\\lib\\site-packages\\sklearn\\preprocessing\\label.py:171: DeprecationWarning: The truth value of an empty array is ambiguous. Returning False, but in future this will result in an error. Use `array.size > 0` to check that an array is not empty.\n",
      "  if diff:\n"
     ]
    },
    {
     "name": "stdout",
     "output_type": "stream",
     "text": [
      "[CV]  subsample=0.75, reg_alpha=0.001, n_estimators=1000, min_child_weight=9, max_depth=4, learning_rate=0.1, gamma=0.4, colsample_bytree=0.75 -   0.3s\n",
      "[CV] subsample=0.75, reg_alpha=0.001, n_estimators=1000, min_child_weight=9, max_depth=4, learning_rate=0.1, gamma=0.4, colsample_bytree=0.75 \n"
     ]
    },
    {
     "name": "stderr",
     "output_type": "stream",
     "text": [
      "C:\\Users\\DELL PC\\Anaconda3\\lib\\site-packages\\sklearn\\preprocessing\\label.py:171: DeprecationWarning: The truth value of an empty array is ambiguous. Returning False, but in future this will result in an error. Use `array.size > 0` to check that an array is not empty.\n",
      "  if diff:\n"
     ]
    },
    {
     "name": "stdout",
     "output_type": "stream",
     "text": [
      "[CV]  subsample=0.75, reg_alpha=0.001, n_estimators=1000, min_child_weight=9, max_depth=4, learning_rate=0.1, gamma=0.4, colsample_bytree=0.75 -   0.3s\n",
      "[CV] subsample=0.75, reg_alpha=0.001, n_estimators=1000, min_child_weight=9, max_depth=4, learning_rate=0.1, gamma=0.4, colsample_bytree=0.75 \n"
     ]
    },
    {
     "name": "stderr",
     "output_type": "stream",
     "text": [
      "C:\\Users\\DELL PC\\Anaconda3\\lib\\site-packages\\sklearn\\preprocessing\\label.py:171: DeprecationWarning: The truth value of an empty array is ambiguous. Returning False, but in future this will result in an error. Use `array.size > 0` to check that an array is not empty.\n",
      "  if diff:\n",
      "C:\\Users\\DELL PC\\Anaconda3\\lib\\site-packages\\sklearn\\preprocessing\\label.py:171: DeprecationWarning: The truth value of an empty array is ambiguous. Returning False, but in future this will result in an error. Use `array.size > 0` to check that an array is not empty.\n",
      "  if diff:\n",
      "C:\\Users\\DELL PC\\Anaconda3\\lib\\site-packages\\sklearn\\preprocessing\\label.py:171: DeprecationWarning: The truth value of an empty array is ambiguous. Returning False, but in future this will result in an error. Use `array.size > 0` to check that an array is not empty.\n",
      "  if diff:\n",
      "C:\\Users\\DELL PC\\Anaconda3\\lib\\site-packages\\sklearn\\preprocessing\\label.py:171: DeprecationWarning: The truth value of an empty array is ambiguous. Returning False, but in future this will result in an error. Use `array.size > 0` to check that an array is not empty.\n",
      "  if diff:\n",
      "C:\\Users\\DELL PC\\Anaconda3\\lib\\site-packages\\sklearn\\preprocessing\\label.py:171: DeprecationWarning: The truth value of an empty array is ambiguous. Returning False, but in future this will result in an error. Use `array.size > 0` to check that an array is not empty.\n",
      "  if diff:\n",
      "C:\\Users\\DELL PC\\Anaconda3\\lib\\site-packages\\sklearn\\preprocessing\\label.py:171: DeprecationWarning: The truth value of an empty array is ambiguous. Returning False, but in future this will result in an error. Use `array.size > 0` to check that an array is not empty.\n",
      "  if diff:\n",
      "C:\\Users\\DELL PC\\Anaconda3\\lib\\site-packages\\sklearn\\preprocessing\\label.py:171: DeprecationWarning: The truth value of an empty array is ambiguous. Returning False, but in future this will result in an error. Use `array.size > 0` to check that an array is not empty.\n",
      "  if diff:\n",
      "C:\\Users\\DELL PC\\Anaconda3\\lib\\site-packages\\sklearn\\preprocessing\\label.py:171: DeprecationWarning: The truth value of an empty array is ambiguous. Returning False, but in future this will result in an error. Use `array.size > 0` to check that an array is not empty.\n",
      "  if diff:\n"
     ]
    },
    {
     "name": "stdout",
     "output_type": "stream",
     "text": [
      "[CV]  subsample=0.75, reg_alpha=0.001, n_estimators=1000, min_child_weight=9, max_depth=4, learning_rate=0.1, gamma=0.4, colsample_bytree=0.75 -   0.4s\n",
      "[CV] subsample=0.85, reg_alpha=0.1, n_estimators=10, min_child_weight=1, max_depth=8, learning_rate=0.1, gamma=0.0, colsample_bytree=0.85 \n",
      "[CV]  subsample=0.85, reg_alpha=0.1, n_estimators=10, min_child_weight=1, max_depth=8, learning_rate=0.1, gamma=0.0, colsample_bytree=0.85 -   0.0s\n",
      "[CV] subsample=0.85, reg_alpha=0.1, n_estimators=10, min_child_weight=1, max_depth=8, learning_rate=0.1, gamma=0.0, colsample_bytree=0.85 \n",
      "[CV]  subsample=0.85, reg_alpha=0.1, n_estimators=10, min_child_weight=1, max_depth=8, learning_rate=0.1, gamma=0.0, colsample_bytree=0.85 -   0.0s\n",
      "[CV] subsample=0.85, reg_alpha=0.1, n_estimators=10, min_child_weight=1, max_depth=8, learning_rate=0.1, gamma=0.0, colsample_bytree=0.85 \n",
      "[CV]  subsample=0.85, reg_alpha=0.1, n_estimators=10, min_child_weight=1, max_depth=8, learning_rate=0.1, gamma=0.0, colsample_bytree=0.85 -   0.0s\n",
      "[CV] subsample=0.85, reg_alpha=0.1, n_estimators=10, min_child_weight=1, max_depth=8, learning_rate=0.1, gamma=0.0, colsample_bytree=0.85 \n",
      "[CV]  subsample=0.85, reg_alpha=0.1, n_estimators=10, min_child_weight=1, max_depth=8, learning_rate=0.1, gamma=0.0, colsample_bytree=0.85 -   0.0s\n",
      "[CV] subsample=0.85, reg_alpha=0.1, n_estimators=10, min_child_weight=1, max_depth=8, learning_rate=0.1, gamma=0.0, colsample_bytree=0.85 \n",
      "[CV]  subsample=0.85, reg_alpha=0.1, n_estimators=10, min_child_weight=1, max_depth=8, learning_rate=0.1, gamma=0.0, colsample_bytree=0.85 -   0.0s\n",
      "[CV] subsample=0.75, reg_alpha=100, n_estimators=200, min_child_weight=3, max_depth=7, learning_rate=0.1, gamma=0.3, colsample_bytree=0.75 \n",
      "[CV]  subsample=0.75, reg_alpha=100, n_estimators=200, min_child_weight=3, max_depth=7, learning_rate=0.1, gamma=0.3, colsample_bytree=0.75 -   0.0s\n",
      "[CV] subsample=0.75, reg_alpha=100, n_estimators=200, min_child_weight=3, max_depth=7, learning_rate=0.1, gamma=0.3, colsample_bytree=0.75 \n",
      "[CV]  subsample=0.75, reg_alpha=100, n_estimators=200, min_child_weight=3, max_depth=7, learning_rate=0.1, gamma=0.3, colsample_bytree=0.75 -   0.0s\n",
      "[CV] subsample=0.75, reg_alpha=100, n_estimators=200, min_child_weight=3, max_depth=7, learning_rate=0.1, gamma=0.3, colsample_bytree=0.75 \n"
     ]
    },
    {
     "name": "stderr",
     "output_type": "stream",
     "text": [
      "C:\\Users\\DELL PC\\Anaconda3\\lib\\site-packages\\sklearn\\preprocessing\\label.py:171: DeprecationWarning: The truth value of an empty array is ambiguous. Returning False, but in future this will result in an error. Use `array.size > 0` to check that an array is not empty.\n",
      "  if diff:\n",
      "C:\\Users\\DELL PC\\Anaconda3\\lib\\site-packages\\sklearn\\preprocessing\\label.py:171: DeprecationWarning: The truth value of an empty array is ambiguous. Returning False, but in future this will result in an error. Use `array.size > 0` to check that an array is not empty.\n",
      "  if diff:\n",
      "C:\\Users\\DELL PC\\Anaconda3\\lib\\site-packages\\sklearn\\preprocessing\\label.py:171: DeprecationWarning: The truth value of an empty array is ambiguous. Returning False, but in future this will result in an error. Use `array.size > 0` to check that an array is not empty.\n",
      "  if diff:\n",
      "C:\\Users\\DELL PC\\Anaconda3\\lib\\site-packages\\sklearn\\preprocessing\\label.py:171: DeprecationWarning: The truth value of an empty array is ambiguous. Returning False, but in future this will result in an error. Use `array.size > 0` to check that an array is not empty.\n",
      "  if diff:\n",
      "C:\\Users\\DELL PC\\Anaconda3\\lib\\site-packages\\sklearn\\preprocessing\\label.py:171: DeprecationWarning: The truth value of an empty array is ambiguous. Returning False, but in future this will result in an error. Use `array.size > 0` to check that an array is not empty.\n",
      "  if diff:\n"
     ]
    },
    {
     "name": "stdout",
     "output_type": "stream",
     "text": [
      "[CV]  subsample=0.75, reg_alpha=100, n_estimators=200, min_child_weight=3, max_depth=7, learning_rate=0.1, gamma=0.3, colsample_bytree=0.75 -   0.0s\n",
      "[CV] subsample=0.75, reg_alpha=100, n_estimators=200, min_child_weight=3, max_depth=7, learning_rate=0.1, gamma=0.3, colsample_bytree=0.75 \n",
      "[CV]  subsample=0.75, reg_alpha=100, n_estimators=200, min_child_weight=3, max_depth=7, learning_rate=0.1, gamma=0.3, colsample_bytree=0.75 -   0.0s\n",
      "[CV] subsample=0.75, reg_alpha=100, n_estimators=200, min_child_weight=3, max_depth=7, learning_rate=0.1, gamma=0.3, colsample_bytree=0.75 \n",
      "[CV]  subsample=0.75, reg_alpha=100, n_estimators=200, min_child_weight=3, max_depth=7, learning_rate=0.1, gamma=0.3, colsample_bytree=0.75 -   0.0s\n",
      "[CV] subsample=0.8, reg_alpha=1, n_estimators=30, min_child_weight=5, max_depth=10, learning_rate=0.15, gamma=0.2, colsample_bytree=0.85 \n",
      "[CV]  subsample=0.8, reg_alpha=1, n_estimators=30, min_child_weight=5, max_depth=10, learning_rate=0.15, gamma=0.2, colsample_bytree=0.85 -   0.0s\n",
      "[CV] subsample=0.8, reg_alpha=1, n_estimators=30, min_child_weight=5, max_depth=10, learning_rate=0.15, gamma=0.2, colsample_bytree=0.85 \n",
      "[CV]  subsample=0.8, reg_alpha=1, n_estimators=30, min_child_weight=5, max_depth=10, learning_rate=0.15, gamma=0.2, colsample_bytree=0.85 -   0.0s\n",
      "[CV] subsample=0.8, reg_alpha=1, n_estimators=30, min_child_weight=5, max_depth=10, learning_rate=0.15, gamma=0.2, colsample_bytree=0.85 \n"
     ]
    },
    {
     "name": "stderr",
     "output_type": "stream",
     "text": [
      "C:\\Users\\DELL PC\\Anaconda3\\lib\\site-packages\\sklearn\\preprocessing\\label.py:171: DeprecationWarning: The truth value of an empty array is ambiguous. Returning False, but in future this will result in an error. Use `array.size > 0` to check that an array is not empty.\n",
      "  if diff:\n",
      "C:\\Users\\DELL PC\\Anaconda3\\lib\\site-packages\\sklearn\\preprocessing\\label.py:171: DeprecationWarning: The truth value of an empty array is ambiguous. Returning False, but in future this will result in an error. Use `array.size > 0` to check that an array is not empty.\n",
      "  if diff:\n",
      "C:\\Users\\DELL PC\\Anaconda3\\lib\\site-packages\\sklearn\\preprocessing\\label.py:171: DeprecationWarning: The truth value of an empty array is ambiguous. Returning False, but in future this will result in an error. Use `array.size > 0` to check that an array is not empty.\n",
      "  if diff:\n"
     ]
    },
    {
     "name": "stdout",
     "output_type": "stream",
     "text": [
      "[CV]  subsample=0.8, reg_alpha=1, n_estimators=30, min_child_weight=5, max_depth=10, learning_rate=0.15, gamma=0.2, colsample_bytree=0.85 -   0.0s\n",
      "[CV] subsample=0.8, reg_alpha=1, n_estimators=30, min_child_weight=5, max_depth=10, learning_rate=0.15, gamma=0.2, colsample_bytree=0.85 \n",
      "[CV]  subsample=0.8, reg_alpha=1, n_estimators=30, min_child_weight=5, max_depth=10, learning_rate=0.15, gamma=0.2, colsample_bytree=0.85 -   0.0s\n",
      "[CV] subsample=0.8, reg_alpha=1, n_estimators=30, min_child_weight=5, max_depth=10, learning_rate=0.15, gamma=0.2, colsample_bytree=0.85 \n",
      "[CV]  subsample=0.8, reg_alpha=1, n_estimators=30, min_child_weight=5, max_depth=10, learning_rate=0.15, gamma=0.2, colsample_bytree=0.85 -   0.0s\n",
      "[CV] subsample=0.8, reg_alpha=0.01, n_estimators=1000, min_child_weight=3, max_depth=7, learning_rate=0.05, gamma=0.3, colsample_bytree=0.85 \n"
     ]
    },
    {
     "name": "stderr",
     "output_type": "stream",
     "text": [
      "C:\\Users\\DELL PC\\Anaconda3\\lib\\site-packages\\sklearn\\preprocessing\\label.py:171: DeprecationWarning: The truth value of an empty array is ambiguous. Returning False, but in future this will result in an error. Use `array.size > 0` to check that an array is not empty.\n",
      "  if diff:\n"
     ]
    },
    {
     "name": "stdout",
     "output_type": "stream",
     "text": [
      "[CV]  subsample=0.8, reg_alpha=0.01, n_estimators=1000, min_child_weight=3, max_depth=7, learning_rate=0.05, gamma=0.3, colsample_bytree=0.85 -   0.7s\n",
      "[CV] subsample=0.8, reg_alpha=0.01, n_estimators=1000, min_child_weight=3, max_depth=7, learning_rate=0.05, gamma=0.3, colsample_bytree=0.85 \n"
     ]
    },
    {
     "name": "stderr",
     "output_type": "stream",
     "text": [
      "C:\\Users\\DELL PC\\Anaconda3\\lib\\site-packages\\sklearn\\preprocessing\\label.py:171: DeprecationWarning: The truth value of an empty array is ambiguous. Returning False, but in future this will result in an error. Use `array.size > 0` to check that an array is not empty.\n",
      "  if diff:\n"
     ]
    },
    {
     "name": "stdout",
     "output_type": "stream",
     "text": [
      "[CV]  subsample=0.8, reg_alpha=0.01, n_estimators=1000, min_child_weight=3, max_depth=7, learning_rate=0.05, gamma=0.3, colsample_bytree=0.85 -   0.5s\n",
      "[CV] subsample=0.8, reg_alpha=0.01, n_estimators=1000, min_child_weight=3, max_depth=7, learning_rate=0.05, gamma=0.3, colsample_bytree=0.85 \n"
     ]
    },
    {
     "name": "stderr",
     "output_type": "stream",
     "text": [
      "C:\\Users\\DELL PC\\Anaconda3\\lib\\site-packages\\sklearn\\preprocessing\\label.py:171: DeprecationWarning: The truth value of an empty array is ambiguous. Returning False, but in future this will result in an error. Use `array.size > 0` to check that an array is not empty.\n",
      "  if diff:\n"
     ]
    },
    {
     "name": "stdout",
     "output_type": "stream",
     "text": [
      "[CV]  subsample=0.8, reg_alpha=0.01, n_estimators=1000, min_child_weight=3, max_depth=7, learning_rate=0.05, gamma=0.3, colsample_bytree=0.85 -   0.5s\n",
      "[CV] subsample=0.8, reg_alpha=0.01, n_estimators=1000, min_child_weight=3, max_depth=7, learning_rate=0.05, gamma=0.3, colsample_bytree=0.85 \n"
     ]
    },
    {
     "name": "stderr",
     "output_type": "stream",
     "text": [
      "C:\\Users\\DELL PC\\Anaconda3\\lib\\site-packages\\sklearn\\preprocessing\\label.py:171: DeprecationWarning: The truth value of an empty array is ambiguous. Returning False, but in future this will result in an error. Use `array.size > 0` to check that an array is not empty.\n",
      "  if diff:\n"
     ]
    },
    {
     "name": "stdout",
     "output_type": "stream",
     "text": [
      "[CV]  subsample=0.8, reg_alpha=0.01, n_estimators=1000, min_child_weight=3, max_depth=7, learning_rate=0.05, gamma=0.3, colsample_bytree=0.85 -   0.8s\n",
      "[CV] subsample=0.8, reg_alpha=0.01, n_estimators=1000, min_child_weight=3, max_depth=7, learning_rate=0.05, gamma=0.3, colsample_bytree=0.85 \n"
     ]
    },
    {
     "name": "stderr",
     "output_type": "stream",
     "text": [
      "C:\\Users\\DELL PC\\Anaconda3\\lib\\site-packages\\sklearn\\preprocessing\\label.py:171: DeprecationWarning: The truth value of an empty array is ambiguous. Returning False, but in future this will result in an error. Use `array.size > 0` to check that an array is not empty.\n",
      "  if diff:\n",
      "C:\\Users\\DELL PC\\Anaconda3\\lib\\site-packages\\sklearn\\preprocessing\\label.py:171: DeprecationWarning: The truth value of an empty array is ambiguous. Returning False, but in future this will result in an error. Use `array.size > 0` to check that an array is not empty.\n",
      "  if diff:\n"
     ]
    },
    {
     "name": "stdout",
     "output_type": "stream",
     "text": [
      "[CV]  subsample=0.8, reg_alpha=0.01, n_estimators=1000, min_child_weight=3, max_depth=7, learning_rate=0.05, gamma=0.3, colsample_bytree=0.85 -   0.8s\n",
      "[CV] subsample=0.75, reg_alpha=0.1, n_estimators=500, min_child_weight=9, max_depth=5, learning_rate=0.21, gamma=0.3, colsample_bytree=0.85 \n",
      "[CV]  subsample=0.75, reg_alpha=0.1, n_estimators=500, min_child_weight=9, max_depth=5, learning_rate=0.21, gamma=0.3, colsample_bytree=0.85 -   0.1s\n",
      "[CV] subsample=0.75, reg_alpha=0.1, n_estimators=500, min_child_weight=9, max_depth=5, learning_rate=0.21, gamma=0.3, colsample_bytree=0.85 \n"
     ]
    },
    {
     "name": "stderr",
     "output_type": "stream",
     "text": [
      "C:\\Users\\DELL PC\\Anaconda3\\lib\\site-packages\\sklearn\\preprocessing\\label.py:171: DeprecationWarning: The truth value of an empty array is ambiguous. Returning False, but in future this will result in an error. Use `array.size > 0` to check that an array is not empty.\n",
      "  if diff:\n",
      "C:\\Users\\DELL PC\\Anaconda3\\lib\\site-packages\\sklearn\\preprocessing\\label.py:171: DeprecationWarning: The truth value of an empty array is ambiguous. Returning False, but in future this will result in an error. Use `array.size > 0` to check that an array is not empty.\n",
      "  if diff:\n"
     ]
    },
    {
     "name": "stdout",
     "output_type": "stream",
     "text": [
      "[CV]  subsample=0.75, reg_alpha=0.1, n_estimators=500, min_child_weight=9, max_depth=5, learning_rate=0.21, gamma=0.3, colsample_bytree=0.85 -   0.1s\n",
      "[CV] subsample=0.75, reg_alpha=0.1, n_estimators=500, min_child_weight=9, max_depth=5, learning_rate=0.21, gamma=0.3, colsample_bytree=0.85 \n",
      "[CV]  subsample=0.75, reg_alpha=0.1, n_estimators=500, min_child_weight=9, max_depth=5, learning_rate=0.21, gamma=0.3, colsample_bytree=0.85 -   0.1s\n",
      "[CV] subsample=0.75, reg_alpha=0.1, n_estimators=500, min_child_weight=9, max_depth=5, learning_rate=0.21, gamma=0.3, colsample_bytree=0.85 \n"
     ]
    },
    {
     "name": "stderr",
     "output_type": "stream",
     "text": [
      "C:\\Users\\DELL PC\\Anaconda3\\lib\\site-packages\\sklearn\\preprocessing\\label.py:171: DeprecationWarning: The truth value of an empty array is ambiguous. Returning False, but in future this will result in an error. Use `array.size > 0` to check that an array is not empty.\n",
      "  if diff:\n",
      "C:\\Users\\DELL PC\\Anaconda3\\lib\\site-packages\\sklearn\\preprocessing\\label.py:171: DeprecationWarning: The truth value of an empty array is ambiguous. Returning False, but in future this will result in an error. Use `array.size > 0` to check that an array is not empty.\n",
      "  if diff:\n"
     ]
    },
    {
     "name": "stdout",
     "output_type": "stream",
     "text": [
      "[CV]  subsample=0.75, reg_alpha=0.1, n_estimators=500, min_child_weight=9, max_depth=5, learning_rate=0.21, gamma=0.3, colsample_bytree=0.85 -   0.1s\n",
      "[CV] subsample=0.75, reg_alpha=0.1, n_estimators=500, min_child_weight=9, max_depth=5, learning_rate=0.21, gamma=0.3, colsample_bytree=0.85 \n",
      "[CV]  subsample=0.75, reg_alpha=0.1, n_estimators=500, min_child_weight=9, max_depth=5, learning_rate=0.21, gamma=0.3, colsample_bytree=0.85 -   0.1s\n",
      "[CV] subsample=0.8, reg_alpha=100, n_estimators=100, min_child_weight=1, max_depth=10, learning_rate=0.15, gamma=0.2, colsample_bytree=0.8 \n"
     ]
    },
    {
     "name": "stderr",
     "output_type": "stream",
     "text": [
      "C:\\Users\\DELL PC\\Anaconda3\\lib\\site-packages\\sklearn\\preprocessing\\label.py:171: DeprecationWarning: The truth value of an empty array is ambiguous. Returning False, but in future this will result in an error. Use `array.size > 0` to check that an array is not empty.\n",
      "  if diff:\n",
      "C:\\Users\\DELL PC\\Anaconda3\\lib\\site-packages\\sklearn\\preprocessing\\label.py:171: DeprecationWarning: The truth value of an empty array is ambiguous. Returning False, but in future this will result in an error. Use `array.size > 0` to check that an array is not empty.\n",
      "  if diff:\n",
      "C:\\Users\\DELL PC\\Anaconda3\\lib\\site-packages\\sklearn\\preprocessing\\label.py:171: DeprecationWarning: The truth value of an empty array is ambiguous. Returning False, but in future this will result in an error. Use `array.size > 0` to check that an array is not empty.\n",
      "  if diff:\n",
      "C:\\Users\\DELL PC\\Anaconda3\\lib\\site-packages\\sklearn\\preprocessing\\label.py:171: DeprecationWarning: The truth value of an empty array is ambiguous. Returning False, but in future this will result in an error. Use `array.size > 0` to check that an array is not empty.\n",
      "  if diff:\n",
      "C:\\Users\\DELL PC\\Anaconda3\\lib\\site-packages\\sklearn\\preprocessing\\label.py:171: DeprecationWarning: The truth value of an empty array is ambiguous. Returning False, but in future this will result in an error. Use `array.size > 0` to check that an array is not empty.\n",
      "  if diff:\n"
     ]
    },
    {
     "name": "stdout",
     "output_type": "stream",
     "text": [
      "[CV]  subsample=0.8, reg_alpha=100, n_estimators=100, min_child_weight=1, max_depth=10, learning_rate=0.15, gamma=0.2, colsample_bytree=0.8 -   0.0s\n",
      "[CV] subsample=0.8, reg_alpha=100, n_estimators=100, min_child_weight=1, max_depth=10, learning_rate=0.15, gamma=0.2, colsample_bytree=0.8 \n",
      "[CV]  subsample=0.8, reg_alpha=100, n_estimators=100, min_child_weight=1, max_depth=10, learning_rate=0.15, gamma=0.2, colsample_bytree=0.8 -   0.0s\n",
      "[CV] subsample=0.8, reg_alpha=100, n_estimators=100, min_child_weight=1, max_depth=10, learning_rate=0.15, gamma=0.2, colsample_bytree=0.8 \n",
      "[CV]  subsample=0.8, reg_alpha=100, n_estimators=100, min_child_weight=1, max_depth=10, learning_rate=0.15, gamma=0.2, colsample_bytree=0.8 -   0.0s\n",
      "[CV] subsample=0.8, reg_alpha=100, n_estimators=100, min_child_weight=1, max_depth=10, learning_rate=0.15, gamma=0.2, colsample_bytree=0.8 \n",
      "[CV]  subsample=0.8, reg_alpha=100, n_estimators=100, min_child_weight=1, max_depth=10, learning_rate=0.15, gamma=0.2, colsample_bytree=0.8 -   0.0s\n",
      "[CV] subsample=0.8, reg_alpha=100, n_estimators=100, min_child_weight=1, max_depth=10, learning_rate=0.15, gamma=0.2, colsample_bytree=0.8 \n",
      "[CV]  subsample=0.8, reg_alpha=100, n_estimators=100, min_child_weight=1, max_depth=10, learning_rate=0.15, gamma=0.2, colsample_bytree=0.8 -   0.0s\n",
      "[CV] subsample=0.75, reg_alpha=1, n_estimators=1000, min_child_weight=5, max_depth=9, learning_rate=0.1, gamma=0.2, colsample_bytree=0.75 \n"
     ]
    },
    {
     "name": "stderr",
     "output_type": "stream",
     "text": [
      "C:\\Users\\DELL PC\\Anaconda3\\lib\\site-packages\\sklearn\\preprocessing\\label.py:171: DeprecationWarning: The truth value of an empty array is ambiguous. Returning False, but in future this will result in an error. Use `array.size > 0` to check that an array is not empty.\n",
      "  if diff:\n"
     ]
    },
    {
     "name": "stdout",
     "output_type": "stream",
     "text": [
      "[CV]  subsample=0.75, reg_alpha=1, n_estimators=1000, min_child_weight=5, max_depth=9, learning_rate=0.1, gamma=0.2, colsample_bytree=0.75 -   0.4s\n",
      "[CV] subsample=0.75, reg_alpha=1, n_estimators=1000, min_child_weight=5, max_depth=9, learning_rate=0.1, gamma=0.2, colsample_bytree=0.75 \n"
     ]
    },
    {
     "name": "stderr",
     "output_type": "stream",
     "text": [
      "C:\\Users\\DELL PC\\Anaconda3\\lib\\site-packages\\sklearn\\preprocessing\\label.py:171: DeprecationWarning: The truth value of an empty array is ambiguous. Returning False, but in future this will result in an error. Use `array.size > 0` to check that an array is not empty.\n",
      "  if diff:\n"
     ]
    },
    {
     "name": "stdout",
     "output_type": "stream",
     "text": [
      "[CV]  subsample=0.75, reg_alpha=1, n_estimators=1000, min_child_weight=5, max_depth=9, learning_rate=0.1, gamma=0.2, colsample_bytree=0.75 -   0.6s\n",
      "[CV] subsample=0.75, reg_alpha=1, n_estimators=1000, min_child_weight=5, max_depth=9, learning_rate=0.1, gamma=0.2, colsample_bytree=0.75 \n"
     ]
    },
    {
     "name": "stderr",
     "output_type": "stream",
     "text": [
      "C:\\Users\\DELL PC\\Anaconda3\\lib\\site-packages\\sklearn\\preprocessing\\label.py:171: DeprecationWarning: The truth value of an empty array is ambiguous. Returning False, but in future this will result in an error. Use `array.size > 0` to check that an array is not empty.\n",
      "  if diff:\n"
     ]
    },
    {
     "name": "stdout",
     "output_type": "stream",
     "text": [
      "[CV]  subsample=0.75, reg_alpha=1, n_estimators=1000, min_child_weight=5, max_depth=9, learning_rate=0.1, gamma=0.2, colsample_bytree=0.75 -   0.7s\n",
      "[CV] subsample=0.75, reg_alpha=1, n_estimators=1000, min_child_weight=5, max_depth=9, learning_rate=0.1, gamma=0.2, colsample_bytree=0.75 \n"
     ]
    },
    {
     "name": "stderr",
     "output_type": "stream",
     "text": [
      "C:\\Users\\DELL PC\\Anaconda3\\lib\\site-packages\\sklearn\\preprocessing\\label.py:171: DeprecationWarning: The truth value of an empty array is ambiguous. Returning False, but in future this will result in an error. Use `array.size > 0` to check that an array is not empty.\n",
      "  if diff:\n"
     ]
    },
    {
     "name": "stdout",
     "output_type": "stream",
     "text": [
      "[CV]  subsample=0.75, reg_alpha=1, n_estimators=1000, min_child_weight=5, max_depth=9, learning_rate=0.1, gamma=0.2, colsample_bytree=0.75 -   0.7s\n",
      "[CV] subsample=0.75, reg_alpha=1, n_estimators=1000, min_child_weight=5, max_depth=9, learning_rate=0.1, gamma=0.2, colsample_bytree=0.75 \n"
     ]
    },
    {
     "name": "stderr",
     "output_type": "stream",
     "text": [
      "C:\\Users\\DELL PC\\Anaconda3\\lib\\site-packages\\sklearn\\preprocessing\\label.py:171: DeprecationWarning: The truth value of an empty array is ambiguous. Returning False, but in future this will result in an error. Use `array.size > 0` to check that an array is not empty.\n",
      "  if diff:\n",
      "C:\\Users\\DELL PC\\Anaconda3\\lib\\site-packages\\sklearn\\preprocessing\\label.py:171: DeprecationWarning: The truth value of an empty array is ambiguous. Returning False, but in future this will result in an error. Use `array.size > 0` to check that an array is not empty.\n",
      "  if diff:\n",
      "C:\\Users\\DELL PC\\Anaconda3\\lib\\site-packages\\sklearn\\preprocessing\\label.py:171: DeprecationWarning: The truth value of an empty array is ambiguous. Returning False, but in future this will result in an error. Use `array.size > 0` to check that an array is not empty.\n",
      "  if diff:\n",
      "C:\\Users\\DELL PC\\Anaconda3\\lib\\site-packages\\sklearn\\preprocessing\\label.py:171: DeprecationWarning: The truth value of an empty array is ambiguous. Returning False, but in future this will result in an error. Use `array.size > 0` to check that an array is not empty.\n",
      "  if diff:\n"
     ]
    },
    {
     "name": "stdout",
     "output_type": "stream",
     "text": [
      "[CV]  subsample=0.75, reg_alpha=1, n_estimators=1000, min_child_weight=5, max_depth=9, learning_rate=0.1, gamma=0.2, colsample_bytree=0.75 -   0.7s\n",
      "[CV] subsample=0.85, reg_alpha=0.05, n_estimators=60, min_child_weight=5, max_depth=7, learning_rate=0.001, gamma=0.3, colsample_bytree=0.8 \n",
      "[CV]  subsample=0.85, reg_alpha=0.05, n_estimators=60, min_child_weight=5, max_depth=7, learning_rate=0.001, gamma=0.3, colsample_bytree=0.8 -   0.0s\n",
      "[CV] subsample=0.85, reg_alpha=0.05, n_estimators=60, min_child_weight=5, max_depth=7, learning_rate=0.001, gamma=0.3, colsample_bytree=0.8 \n",
      "[CV]  subsample=0.85, reg_alpha=0.05, n_estimators=60, min_child_weight=5, max_depth=7, learning_rate=0.001, gamma=0.3, colsample_bytree=0.8 -   0.0s\n",
      "[CV] subsample=0.85, reg_alpha=0.05, n_estimators=60, min_child_weight=5, max_depth=7, learning_rate=0.001, gamma=0.3, colsample_bytree=0.8 \n",
      "[CV]  subsample=0.85, reg_alpha=0.05, n_estimators=60, min_child_weight=5, max_depth=7, learning_rate=0.001, gamma=0.3, colsample_bytree=0.8 -   0.0s\n",
      "[CV] subsample=0.85, reg_alpha=0.05, n_estimators=60, min_child_weight=5, max_depth=7, learning_rate=0.001, gamma=0.3, colsample_bytree=0.8 \n"
     ]
    },
    {
     "name": "stderr",
     "output_type": "stream",
     "text": [
      "C:\\Users\\DELL PC\\Anaconda3\\lib\\site-packages\\sklearn\\preprocessing\\label.py:171: DeprecationWarning: The truth value of an empty array is ambiguous. Returning False, but in future this will result in an error. Use `array.size > 0` to check that an array is not empty.\n",
      "  if diff:\n",
      "C:\\Users\\DELL PC\\Anaconda3\\lib\\site-packages\\sklearn\\preprocessing\\label.py:171: DeprecationWarning: The truth value of an empty array is ambiguous. Returning False, but in future this will result in an error. Use `array.size > 0` to check that an array is not empty.\n",
      "  if diff:\n",
      "C:\\Users\\DELL PC\\Anaconda3\\lib\\site-packages\\sklearn\\preprocessing\\label.py:171: DeprecationWarning: The truth value of an empty array is ambiguous. Returning False, but in future this will result in an error. Use `array.size > 0` to check that an array is not empty.\n",
      "  if diff:\n"
     ]
    },
    {
     "name": "stdout",
     "output_type": "stream",
     "text": [
      "[CV]  subsample=0.85, reg_alpha=0.05, n_estimators=60, min_child_weight=5, max_depth=7, learning_rate=0.001, gamma=0.3, colsample_bytree=0.8 -   0.0s\n",
      "[CV] subsample=0.85, reg_alpha=0.05, n_estimators=60, min_child_weight=5, max_depth=7, learning_rate=0.001, gamma=0.3, colsample_bytree=0.8 \n",
      "[CV]  subsample=0.85, reg_alpha=0.05, n_estimators=60, min_child_weight=5, max_depth=7, learning_rate=0.001, gamma=0.3, colsample_bytree=0.8 -   0.0s\n",
      "[CV] subsample=0.75, reg_alpha=100, n_estimators=500, min_child_weight=7, max_depth=6, learning_rate=0.21, gamma=0.0, colsample_bytree=0.8 \n",
      "[CV]  subsample=0.75, reg_alpha=100, n_estimators=500, min_child_weight=7, max_depth=6, learning_rate=0.21, gamma=0.0, colsample_bytree=0.8 -   0.0s\n",
      "[CV] subsample=0.75, reg_alpha=100, n_estimators=500, min_child_weight=7, max_depth=6, learning_rate=0.21, gamma=0.0, colsample_bytree=0.8 \n",
      "[CV]  subsample=0.75, reg_alpha=100, n_estimators=500, min_child_weight=7, max_depth=6, learning_rate=0.21, gamma=0.0, colsample_bytree=0.8 -   0.1s\n",
      "[CV] subsample=0.75, reg_alpha=100, n_estimators=500, min_child_weight=7, max_depth=6, learning_rate=0.21, gamma=0.0, colsample_bytree=0.8 \n"
     ]
    },
    {
     "name": "stderr",
     "output_type": "stream",
     "text": [
      "C:\\Users\\DELL PC\\Anaconda3\\lib\\site-packages\\sklearn\\preprocessing\\label.py:171: DeprecationWarning: The truth value of an empty array is ambiguous. Returning False, but in future this will result in an error. Use `array.size > 0` to check that an array is not empty.\n",
      "  if diff:\n",
      "C:\\Users\\DELL PC\\Anaconda3\\lib\\site-packages\\sklearn\\preprocessing\\label.py:171: DeprecationWarning: The truth value of an empty array is ambiguous. Returning False, but in future this will result in an error. Use `array.size > 0` to check that an array is not empty.\n",
      "  if diff:\n"
     ]
    },
    {
     "name": "stdout",
     "output_type": "stream",
     "text": [
      "[CV]  subsample=0.75, reg_alpha=100, n_estimators=500, min_child_weight=7, max_depth=6, learning_rate=0.21, gamma=0.0, colsample_bytree=0.8 -   0.0s\n",
      "[CV] subsample=0.75, reg_alpha=100, n_estimators=500, min_child_weight=7, max_depth=6, learning_rate=0.21, gamma=0.0, colsample_bytree=0.8 \n",
      "[CV]  subsample=0.75, reg_alpha=100, n_estimators=500, min_child_weight=7, max_depth=6, learning_rate=0.21, gamma=0.0, colsample_bytree=0.8 -   0.0s\n",
      "[CV] subsample=0.75, reg_alpha=100, n_estimators=500, min_child_weight=7, max_depth=6, learning_rate=0.21, gamma=0.0, colsample_bytree=0.8 \n"
     ]
    },
    {
     "name": "stderr",
     "output_type": "stream",
     "text": [
      "C:\\Users\\DELL PC\\Anaconda3\\lib\\site-packages\\sklearn\\preprocessing\\label.py:171: DeprecationWarning: The truth value of an empty array is ambiguous. Returning False, but in future this will result in an error. Use `array.size > 0` to check that an array is not empty.\n",
      "  if diff:\n",
      "C:\\Users\\DELL PC\\Anaconda3\\lib\\site-packages\\sklearn\\preprocessing\\label.py:171: DeprecationWarning: The truth value of an empty array is ambiguous. Returning False, but in future this will result in an error. Use `array.size > 0` to check that an array is not empty.\n",
      "  if diff:\n"
     ]
    },
    {
     "name": "stdout",
     "output_type": "stream",
     "text": [
      "[CV]  subsample=0.75, reg_alpha=100, n_estimators=500, min_child_weight=7, max_depth=6, learning_rate=0.21, gamma=0.0, colsample_bytree=0.8 -   0.0s\n",
      "[CV] subsample=0.75, reg_alpha=1, n_estimators=60, min_child_weight=1, max_depth=7, learning_rate=0.25, gamma=0.3, colsample_bytree=0.8 \n",
      "[CV]  subsample=0.75, reg_alpha=1, n_estimators=60, min_child_weight=1, max_depth=7, learning_rate=0.25, gamma=0.3, colsample_bytree=0.8 -   0.0s\n",
      "[CV] subsample=0.75, reg_alpha=1, n_estimators=60, min_child_weight=1, max_depth=7, learning_rate=0.25, gamma=0.3, colsample_bytree=0.8 \n",
      "[CV]  subsample=0.75, reg_alpha=1, n_estimators=60, min_child_weight=1, max_depth=7, learning_rate=0.25, gamma=0.3, colsample_bytree=0.8 -   0.0s\n",
      "[CV] subsample=0.75, reg_alpha=1, n_estimators=60, min_child_weight=1, max_depth=7, learning_rate=0.25, gamma=0.3, colsample_bytree=0.8 \n",
      "[CV]  subsample=0.75, reg_alpha=1, n_estimators=60, min_child_weight=1, max_depth=7, learning_rate=0.25, gamma=0.3, colsample_bytree=0.8 -   0.0s\n",
      "[CV] subsample=0.75, reg_alpha=1, n_estimators=60, min_child_weight=1, max_depth=7, learning_rate=0.25, gamma=0.3, colsample_bytree=0.8 \n"
     ]
    },
    {
     "name": "stderr",
     "output_type": "stream",
     "text": [
      "C:\\Users\\DELL PC\\Anaconda3\\lib\\site-packages\\sklearn\\preprocessing\\label.py:171: DeprecationWarning: The truth value of an empty array is ambiguous. Returning False, but in future this will result in an error. Use `array.size > 0` to check that an array is not empty.\n",
      "  if diff:\n",
      "C:\\Users\\DELL PC\\Anaconda3\\lib\\site-packages\\sklearn\\preprocessing\\label.py:171: DeprecationWarning: The truth value of an empty array is ambiguous. Returning False, but in future this will result in an error. Use `array.size > 0` to check that an array is not empty.\n",
      "  if diff:\n",
      "C:\\Users\\DELL PC\\Anaconda3\\lib\\site-packages\\sklearn\\preprocessing\\label.py:171: DeprecationWarning: The truth value of an empty array is ambiguous. Returning False, but in future this will result in an error. Use `array.size > 0` to check that an array is not empty.\n",
      "  if diff:\n",
      "C:\\Users\\DELL PC\\Anaconda3\\lib\\site-packages\\sklearn\\preprocessing\\label.py:171: DeprecationWarning: The truth value of an empty array is ambiguous. Returning False, but in future this will result in an error. Use `array.size > 0` to check that an array is not empty.\n",
      "  if diff:\n"
     ]
    },
    {
     "name": "stdout",
     "output_type": "stream",
     "text": [
      "[CV]  subsample=0.75, reg_alpha=1, n_estimators=60, min_child_weight=1, max_depth=7, learning_rate=0.25, gamma=0.3, colsample_bytree=0.8 -   0.0s\n",
      "[CV] subsample=0.75, reg_alpha=1, n_estimators=60, min_child_weight=1, max_depth=7, learning_rate=0.25, gamma=0.3, colsample_bytree=0.8 \n",
      "[CV]  subsample=0.75, reg_alpha=1, n_estimators=60, min_child_weight=1, max_depth=7, learning_rate=0.25, gamma=0.3, colsample_bytree=0.8 -   0.0s\n",
      "[CV] subsample=0.8, reg_alpha=0, n_estimators=10, min_child_weight=5, max_depth=10, learning_rate=0.05, gamma=0.3, colsample_bytree=0.75 \n",
      "[CV]  subsample=0.8, reg_alpha=0, n_estimators=10, min_child_weight=5, max_depth=10, learning_rate=0.05, gamma=0.3, colsample_bytree=0.75 -   0.0s\n",
      "[CV] subsample=0.8, reg_alpha=0, n_estimators=10, min_child_weight=5, max_depth=10, learning_rate=0.05, gamma=0.3, colsample_bytree=0.75 \n",
      "[CV]  subsample=0.8, reg_alpha=0, n_estimators=10, min_child_weight=5, max_depth=10, learning_rate=0.05, gamma=0.3, colsample_bytree=0.75 -   0.0s\n",
      "[CV] subsample=0.8, reg_alpha=0, n_estimators=10, min_child_weight=5, max_depth=10, learning_rate=0.05, gamma=0.3, colsample_bytree=0.75 \n",
      "[CV]  subsample=0.8, reg_alpha=0, n_estimators=10, min_child_weight=5, max_depth=10, learning_rate=0.05, gamma=0.3, colsample_bytree=0.75 -   0.0s\n",
      "[CV] subsample=0.8, reg_alpha=0, n_estimators=10, min_child_weight=5, max_depth=10, learning_rate=0.05, gamma=0.3, colsample_bytree=0.75 \n",
      "[CV]  subsample=0.8, reg_alpha=0, n_estimators=10, min_child_weight=5, max_depth=10, learning_rate=0.05, gamma=0.3, colsample_bytree=0.75 -   0.0s\n",
      "[CV] subsample=0.8, reg_alpha=0, n_estimators=10, min_child_weight=5, max_depth=10, learning_rate=0.05, gamma=0.3, colsample_bytree=0.75 \n",
      "[CV]  subsample=0.8, reg_alpha=0, n_estimators=10, min_child_weight=5, max_depth=10, learning_rate=0.05, gamma=0.3, colsample_bytree=0.75 -   0.0s\n",
      "[CV] subsample=0.85, reg_alpha=0.05, n_estimators=1000, min_child_weight=7, max_depth=6, learning_rate=0.15, gamma=0.1, colsample_bytree=0.85 \n"
     ]
    },
    {
     "name": "stderr",
     "output_type": "stream",
     "text": [
      "C:\\Users\\DELL PC\\Anaconda3\\lib\\site-packages\\sklearn\\preprocessing\\label.py:171: DeprecationWarning: The truth value of an empty array is ambiguous. Returning False, but in future this will result in an error. Use `array.size > 0` to check that an array is not empty.\n",
      "  if diff:\n",
      "C:\\Users\\DELL PC\\Anaconda3\\lib\\site-packages\\sklearn\\preprocessing\\label.py:171: DeprecationWarning: The truth value of an empty array is ambiguous. Returning False, but in future this will result in an error. Use `array.size > 0` to check that an array is not empty.\n",
      "  if diff:\n",
      "C:\\Users\\DELL PC\\Anaconda3\\lib\\site-packages\\sklearn\\preprocessing\\label.py:171: DeprecationWarning: The truth value of an empty array is ambiguous. Returning False, but in future this will result in an error. Use `array.size > 0` to check that an array is not empty.\n",
      "  if diff:\n",
      "C:\\Users\\DELL PC\\Anaconda3\\lib\\site-packages\\sklearn\\preprocessing\\label.py:171: DeprecationWarning: The truth value of an empty array is ambiguous. Returning False, but in future this will result in an error. Use `array.size > 0` to check that an array is not empty.\n",
      "  if diff:\n",
      "C:\\Users\\DELL PC\\Anaconda3\\lib\\site-packages\\sklearn\\preprocessing\\label.py:171: DeprecationWarning: The truth value of an empty array is ambiguous. Returning False, but in future this will result in an error. Use `array.size > 0` to check that an array is not empty.\n",
      "  if diff:\n",
      "C:\\Users\\DELL PC\\Anaconda3\\lib\\site-packages\\sklearn\\preprocessing\\label.py:171: DeprecationWarning: The truth value of an empty array is ambiguous. Returning False, but in future this will result in an error. Use `array.size > 0` to check that an array is not empty.\n",
      "  if diff:\n",
      "C:\\Users\\DELL PC\\Anaconda3\\lib\\site-packages\\sklearn\\preprocessing\\label.py:171: DeprecationWarning: The truth value of an empty array is ambiguous. Returning False, but in future this will result in an error. Use `array.size > 0` to check that an array is not empty.\n",
      "  if diff:\n"
     ]
    },
    {
     "name": "stdout",
     "output_type": "stream",
     "text": [
      "[CV]  subsample=0.85, reg_alpha=0.05, n_estimators=1000, min_child_weight=7, max_depth=6, learning_rate=0.15, gamma=0.1, colsample_bytree=0.85 -   0.4s\n",
      "[CV] subsample=0.85, reg_alpha=0.05, n_estimators=1000, min_child_weight=7, max_depth=6, learning_rate=0.15, gamma=0.1, colsample_bytree=0.85 \n"
     ]
    },
    {
     "name": "stderr",
     "output_type": "stream",
     "text": [
      "C:\\Users\\DELL PC\\Anaconda3\\lib\\site-packages\\sklearn\\preprocessing\\label.py:171: DeprecationWarning: The truth value of an empty array is ambiguous. Returning False, but in future this will result in an error. Use `array.size > 0` to check that an array is not empty.\n",
      "  if diff:\n"
     ]
    },
    {
     "name": "stdout",
     "output_type": "stream",
     "text": [
      "[CV]  subsample=0.85, reg_alpha=0.05, n_estimators=1000, min_child_weight=7, max_depth=6, learning_rate=0.15, gamma=0.1, colsample_bytree=0.85 -   0.4s\n",
      "[CV] subsample=0.85, reg_alpha=0.05, n_estimators=1000, min_child_weight=7, max_depth=6, learning_rate=0.15, gamma=0.1, colsample_bytree=0.85 \n"
     ]
    },
    {
     "name": "stderr",
     "output_type": "stream",
     "text": [
      "C:\\Users\\DELL PC\\Anaconda3\\lib\\site-packages\\sklearn\\preprocessing\\label.py:171: DeprecationWarning: The truth value of an empty array is ambiguous. Returning False, but in future this will result in an error. Use `array.size > 0` to check that an array is not empty.\n",
      "  if diff:\n"
     ]
    },
    {
     "name": "stdout",
     "output_type": "stream",
     "text": [
      "[CV]  subsample=0.85, reg_alpha=0.05, n_estimators=1000, min_child_weight=7, max_depth=6, learning_rate=0.15, gamma=0.1, colsample_bytree=0.85 -   0.4s\n",
      "[CV] subsample=0.85, reg_alpha=0.05, n_estimators=1000, min_child_weight=7, max_depth=6, learning_rate=0.15, gamma=0.1, colsample_bytree=0.85 \n"
     ]
    },
    {
     "name": "stderr",
     "output_type": "stream",
     "text": [
      "C:\\Users\\DELL PC\\Anaconda3\\lib\\site-packages\\sklearn\\preprocessing\\label.py:171: DeprecationWarning: The truth value of an empty array is ambiguous. Returning False, but in future this will result in an error. Use `array.size > 0` to check that an array is not empty.\n",
      "  if diff:\n"
     ]
    },
    {
     "name": "stdout",
     "output_type": "stream",
     "text": [
      "[CV]  subsample=0.85, reg_alpha=0.05, n_estimators=1000, min_child_weight=7, max_depth=6, learning_rate=0.15, gamma=0.1, colsample_bytree=0.85 -   0.3s\n",
      "[CV] subsample=0.85, reg_alpha=0.05, n_estimators=1000, min_child_weight=7, max_depth=6, learning_rate=0.15, gamma=0.1, colsample_bytree=0.85 \n"
     ]
    },
    {
     "name": "stderr",
     "output_type": "stream",
     "text": [
      "C:\\Users\\DELL PC\\Anaconda3\\lib\\site-packages\\sklearn\\preprocessing\\label.py:171: DeprecationWarning: The truth value of an empty array is ambiguous. Returning False, but in future this will result in an error. Use `array.size > 0` to check that an array is not empty.\n",
      "  if diff:\n",
      "C:\\Users\\DELL PC\\Anaconda3\\lib\\site-packages\\sklearn\\preprocessing\\label.py:171: DeprecationWarning: The truth value of an empty array is ambiguous. Returning False, but in future this will result in an error. Use `array.size > 0` to check that an array is not empty.\n",
      "  if diff:\n",
      "C:\\Users\\DELL PC\\Anaconda3\\lib\\site-packages\\sklearn\\preprocessing\\label.py:171: DeprecationWarning: The truth value of an empty array is ambiguous. Returning False, but in future this will result in an error. Use `array.size > 0` to check that an array is not empty.\n",
      "  if diff:\n",
      "C:\\Users\\DELL PC\\Anaconda3\\lib\\site-packages\\sklearn\\preprocessing\\label.py:171: DeprecationWarning: The truth value of an empty array is ambiguous. Returning False, but in future this will result in an error. Use `array.size > 0` to check that an array is not empty.\n",
      "  if diff:\n",
      "C:\\Users\\DELL PC\\Anaconda3\\lib\\site-packages\\sklearn\\preprocessing\\label.py:171: DeprecationWarning: The truth value of an empty array is ambiguous. Returning False, but in future this will result in an error. Use `array.size > 0` to check that an array is not empty.\n",
      "  if diff:\n",
      "C:\\Users\\DELL PC\\Anaconda3\\lib\\site-packages\\sklearn\\preprocessing\\label.py:171: DeprecationWarning: The truth value of an empty array is ambiguous. Returning False, but in future this will result in an error. Use `array.size > 0` to check that an array is not empty.\n",
      "  if diff:\n"
     ]
    },
    {
     "name": "stdout",
     "output_type": "stream",
     "text": [
      "[CV]  subsample=0.85, reg_alpha=0.05, n_estimators=1000, min_child_weight=7, max_depth=6, learning_rate=0.15, gamma=0.1, colsample_bytree=0.85 -   0.3s\n",
      "[CV] subsample=0.8, reg_alpha=0, n_estimators=30, min_child_weight=9, max_depth=4, learning_rate=0.1, gamma=0.2, colsample_bytree=0.8 \n",
      "[CV]  subsample=0.8, reg_alpha=0, n_estimators=30, min_child_weight=9, max_depth=4, learning_rate=0.1, gamma=0.2, colsample_bytree=0.8 -   0.0s\n",
      "[CV] subsample=0.8, reg_alpha=0, n_estimators=30, min_child_weight=9, max_depth=4, learning_rate=0.1, gamma=0.2, colsample_bytree=0.8 \n",
      "[CV]  subsample=0.8, reg_alpha=0, n_estimators=30, min_child_weight=9, max_depth=4, learning_rate=0.1, gamma=0.2, colsample_bytree=0.8 -   0.0s\n",
      "[CV] subsample=0.8, reg_alpha=0, n_estimators=30, min_child_weight=9, max_depth=4, learning_rate=0.1, gamma=0.2, colsample_bytree=0.8 \n",
      "[CV]  subsample=0.8, reg_alpha=0, n_estimators=30, min_child_weight=9, max_depth=4, learning_rate=0.1, gamma=0.2, colsample_bytree=0.8 -   0.0s\n",
      "[CV] subsample=0.8, reg_alpha=0, n_estimators=30, min_child_weight=9, max_depth=4, learning_rate=0.1, gamma=0.2, colsample_bytree=0.8 \n",
      "[CV]  subsample=0.8, reg_alpha=0, n_estimators=30, min_child_weight=9, max_depth=4, learning_rate=0.1, gamma=0.2, colsample_bytree=0.8 -   0.0s\n",
      "[CV] subsample=0.8, reg_alpha=0, n_estimators=30, min_child_weight=9, max_depth=4, learning_rate=0.1, gamma=0.2, colsample_bytree=0.8 \n",
      "[CV]  subsample=0.8, reg_alpha=0, n_estimators=30, min_child_weight=9, max_depth=4, learning_rate=0.1, gamma=0.2, colsample_bytree=0.8 -   0.0s\n",
      "[CV] subsample=0.75, reg_alpha=0.1, n_estimators=500, min_child_weight=5, max_depth=10, learning_rate=0.1, gamma=0.4, colsample_bytree=0.75 \n"
     ]
    },
    {
     "name": "stderr",
     "output_type": "stream",
     "text": [
      "C:\\Users\\DELL PC\\Anaconda3\\lib\\site-packages\\sklearn\\preprocessing\\label.py:171: DeprecationWarning: The truth value of an empty array is ambiguous. Returning False, but in future this will result in an error. Use `array.size > 0` to check that an array is not empty.\n",
      "  if diff:\n"
     ]
    },
    {
     "name": "stdout",
     "output_type": "stream",
     "text": [
      "[CV]  subsample=0.75, reg_alpha=0.1, n_estimators=500, min_child_weight=5, max_depth=10, learning_rate=0.1, gamma=0.4, colsample_bytree=0.75 -   0.2s\n",
      "[CV] subsample=0.75, reg_alpha=0.1, n_estimators=500, min_child_weight=5, max_depth=10, learning_rate=0.1, gamma=0.4, colsample_bytree=0.75 \n"
     ]
    },
    {
     "name": "stderr",
     "output_type": "stream",
     "text": [
      "C:\\Users\\DELL PC\\Anaconda3\\lib\\site-packages\\sklearn\\preprocessing\\label.py:171: DeprecationWarning: The truth value of an empty array is ambiguous. Returning False, but in future this will result in an error. Use `array.size > 0` to check that an array is not empty.\n",
      "  if diff:\n"
     ]
    },
    {
     "name": "stdout",
     "output_type": "stream",
     "text": [
      "[CV]  subsample=0.75, reg_alpha=0.1, n_estimators=500, min_child_weight=5, max_depth=10, learning_rate=0.1, gamma=0.4, colsample_bytree=0.75 -   0.1s\n",
      "[CV] subsample=0.75, reg_alpha=0.1, n_estimators=500, min_child_weight=5, max_depth=10, learning_rate=0.1, gamma=0.4, colsample_bytree=0.75 \n"
     ]
    },
    {
     "name": "stderr",
     "output_type": "stream",
     "text": [
      "C:\\Users\\DELL PC\\Anaconda3\\lib\\site-packages\\sklearn\\preprocessing\\label.py:171: DeprecationWarning: The truth value of an empty array is ambiguous. Returning False, but in future this will result in an error. Use `array.size > 0` to check that an array is not empty.\n",
      "  if diff:\n"
     ]
    },
    {
     "name": "stdout",
     "output_type": "stream",
     "text": [
      "[CV]  subsample=0.75, reg_alpha=0.1, n_estimators=500, min_child_weight=5, max_depth=10, learning_rate=0.1, gamma=0.4, colsample_bytree=0.75 -   0.2s\n",
      "[CV] subsample=0.75, reg_alpha=0.1, n_estimators=500, min_child_weight=5, max_depth=10, learning_rate=0.1, gamma=0.4, colsample_bytree=0.75 \n"
     ]
    },
    {
     "name": "stderr",
     "output_type": "stream",
     "text": [
      "C:\\Users\\DELL PC\\Anaconda3\\lib\\site-packages\\sklearn\\preprocessing\\label.py:171: DeprecationWarning: The truth value of an empty array is ambiguous. Returning False, but in future this will result in an error. Use `array.size > 0` to check that an array is not empty.\n",
      "  if diff:\n"
     ]
    },
    {
     "name": "stdout",
     "output_type": "stream",
     "text": [
      "[CV]  subsample=0.75, reg_alpha=0.1, n_estimators=500, min_child_weight=5, max_depth=10, learning_rate=0.1, gamma=0.4, colsample_bytree=0.75 -   0.2s\n",
      "[CV] subsample=0.75, reg_alpha=0.1, n_estimators=500, min_child_weight=5, max_depth=10, learning_rate=0.1, gamma=0.4, colsample_bytree=0.75 \n"
     ]
    },
    {
     "name": "stderr",
     "output_type": "stream",
     "text": [
      "C:\\Users\\DELL PC\\Anaconda3\\lib\\site-packages\\sklearn\\preprocessing\\label.py:171: DeprecationWarning: The truth value of an empty array is ambiguous. Returning False, but in future this will result in an error. Use `array.size > 0` to check that an array is not empty.\n",
      "  if diff:\n",
      "C:\\Users\\DELL PC\\Anaconda3\\lib\\site-packages\\sklearn\\preprocessing\\label.py:171: DeprecationWarning: The truth value of an empty array is ambiguous. Returning False, but in future this will result in an error. Use `array.size > 0` to check that an array is not empty.\n",
      "  if diff:\n",
      "C:\\Users\\DELL PC\\Anaconda3\\lib\\site-packages\\sklearn\\preprocessing\\label.py:171: DeprecationWarning: The truth value of an empty array is ambiguous. Returning False, but in future this will result in an error. Use `array.size > 0` to check that an array is not empty.\n",
      "  if diff:\n",
      "C:\\Users\\DELL PC\\Anaconda3\\lib\\site-packages\\sklearn\\preprocessing\\label.py:171: DeprecationWarning: The truth value of an empty array is ambiguous. Returning False, but in future this will result in an error. Use `array.size > 0` to check that an array is not empty.\n",
      "  if diff:\n",
      "C:\\Users\\DELL PC\\Anaconda3\\lib\\site-packages\\sklearn\\preprocessing\\label.py:171: DeprecationWarning: The truth value of an empty array is ambiguous. Returning False, but in future this will result in an error. Use `array.size > 0` to check that an array is not empty.\n",
      "  if diff:\n",
      "C:\\Users\\DELL PC\\Anaconda3\\lib\\site-packages\\sklearn\\preprocessing\\label.py:171: DeprecationWarning: The truth value of an empty array is ambiguous. Returning False, but in future this will result in an error. Use `array.size > 0` to check that an array is not empty.\n",
      "  if diff:\n"
     ]
    },
    {
     "name": "stdout",
     "output_type": "stream",
     "text": [
      "[CV]  subsample=0.75, reg_alpha=0.1, n_estimators=500, min_child_weight=5, max_depth=10, learning_rate=0.1, gamma=0.4, colsample_bytree=0.75 -   0.2s\n",
      "[CV] subsample=0.8, reg_alpha=0.01, n_estimators=60, min_child_weight=5, max_depth=5, learning_rate=0.1, gamma=0.4, colsample_bytree=0.75 \n",
      "[CV]  subsample=0.8, reg_alpha=0.01, n_estimators=60, min_child_weight=5, max_depth=5, learning_rate=0.1, gamma=0.4, colsample_bytree=0.75 -   0.0s\n",
      "[CV] subsample=0.8, reg_alpha=0.01, n_estimators=60, min_child_weight=5, max_depth=5, learning_rate=0.1, gamma=0.4, colsample_bytree=0.75 \n",
      "[CV]  subsample=0.8, reg_alpha=0.01, n_estimators=60, min_child_weight=5, max_depth=5, learning_rate=0.1, gamma=0.4, colsample_bytree=0.75 -   0.0s\n",
      "[CV] subsample=0.8, reg_alpha=0.01, n_estimators=60, min_child_weight=5, max_depth=5, learning_rate=0.1, gamma=0.4, colsample_bytree=0.75 \n",
      "[CV]  subsample=0.8, reg_alpha=0.01, n_estimators=60, min_child_weight=5, max_depth=5, learning_rate=0.1, gamma=0.4, colsample_bytree=0.75 -   0.0s\n",
      "[CV] subsample=0.8, reg_alpha=0.01, n_estimators=60, min_child_weight=5, max_depth=5, learning_rate=0.1, gamma=0.4, colsample_bytree=0.75 \n",
      "[CV]  subsample=0.8, reg_alpha=0.01, n_estimators=60, min_child_weight=5, max_depth=5, learning_rate=0.1, gamma=0.4, colsample_bytree=0.75 -   0.0s\n",
      "[CV] subsample=0.8, reg_alpha=0.01, n_estimators=60, min_child_weight=5, max_depth=5, learning_rate=0.1, gamma=0.4, colsample_bytree=0.75 \n",
      "[CV]  subsample=0.8, reg_alpha=0.01, n_estimators=60, min_child_weight=5, max_depth=5, learning_rate=0.1, gamma=0.4, colsample_bytree=0.75 -   0.0s\n",
      "[CV] subsample=0.75, reg_alpha=0.001, n_estimators=200, min_child_weight=5, max_depth=3, learning_rate=0.001, gamma=0.0, colsample_bytree=0.8 \n"
     ]
    },
    {
     "name": "stderr",
     "output_type": "stream",
     "text": [
      "C:\\Users\\DELL PC\\Anaconda3\\lib\\site-packages\\sklearn\\preprocessing\\label.py:171: DeprecationWarning: The truth value of an empty array is ambiguous. Returning False, but in future this will result in an error. Use `array.size > 0` to check that an array is not empty.\n",
      "  if diff:\n",
      "C:\\Users\\DELL PC\\Anaconda3\\lib\\site-packages\\sklearn\\preprocessing\\label.py:171: DeprecationWarning: The truth value of an empty array is ambiguous. Returning False, but in future this will result in an error. Use `array.size > 0` to check that an array is not empty.\n",
      "  if diff:\n",
      "C:\\Users\\DELL PC\\Anaconda3\\lib\\site-packages\\sklearn\\preprocessing\\label.py:171: DeprecationWarning: The truth value of an empty array is ambiguous. Returning False, but in future this will result in an error. Use `array.size > 0` to check that an array is not empty.\n",
      "  if diff:\n"
     ]
    },
    {
     "name": "stdout",
     "output_type": "stream",
     "text": [
      "[CV]  subsample=0.75, reg_alpha=0.001, n_estimators=200, min_child_weight=5, max_depth=3, learning_rate=0.001, gamma=0.0, colsample_bytree=0.8 -   0.0s\n",
      "[CV] subsample=0.75, reg_alpha=0.001, n_estimators=200, min_child_weight=5, max_depth=3, learning_rate=0.001, gamma=0.0, colsample_bytree=0.8 \n",
      "[CV]  subsample=0.75, reg_alpha=0.001, n_estimators=200, min_child_weight=5, max_depth=3, learning_rate=0.001, gamma=0.0, colsample_bytree=0.8 -   0.0s\n",
      "[CV] subsample=0.75, reg_alpha=0.001, n_estimators=200, min_child_weight=5, max_depth=3, learning_rate=0.001, gamma=0.0, colsample_bytree=0.8 \n",
      "[CV]  subsample=0.75, reg_alpha=0.001, n_estimators=200, min_child_weight=5, max_depth=3, learning_rate=0.001, gamma=0.0, colsample_bytree=0.8 -   0.0s\n",
      "[CV] subsample=0.75, reg_alpha=0.001, n_estimators=200, min_child_weight=5, max_depth=3, learning_rate=0.001, gamma=0.0, colsample_bytree=0.8 \n"
     ]
    },
    {
     "name": "stderr",
     "output_type": "stream",
     "text": [
      "C:\\Users\\DELL PC\\Anaconda3\\lib\\site-packages\\sklearn\\preprocessing\\label.py:171: DeprecationWarning: The truth value of an empty array is ambiguous. Returning False, but in future this will result in an error. Use `array.size > 0` to check that an array is not empty.\n",
      "  if diff:\n",
      "C:\\Users\\DELL PC\\Anaconda3\\lib\\site-packages\\sklearn\\preprocessing\\label.py:171: DeprecationWarning: The truth value of an empty array is ambiguous. Returning False, but in future this will result in an error. Use `array.size > 0` to check that an array is not empty.\n",
      "  if diff:\n",
      "C:\\Users\\DELL PC\\Anaconda3\\lib\\site-packages\\sklearn\\preprocessing\\label.py:171: DeprecationWarning: The truth value of an empty array is ambiguous. Returning False, but in future this will result in an error. Use `array.size > 0` to check that an array is not empty.\n",
      "  if diff:\n"
     ]
    },
    {
     "name": "stdout",
     "output_type": "stream",
     "text": [
      "[CV]  subsample=0.75, reg_alpha=0.001, n_estimators=200, min_child_weight=5, max_depth=3, learning_rate=0.001, gamma=0.0, colsample_bytree=0.8 -   0.0s\n",
      "[CV] subsample=0.75, reg_alpha=0.001, n_estimators=200, min_child_weight=5, max_depth=3, learning_rate=0.001, gamma=0.0, colsample_bytree=0.8 \n",
      "[CV]  subsample=0.75, reg_alpha=0.001, n_estimators=200, min_child_weight=5, max_depth=3, learning_rate=0.001, gamma=0.0, colsample_bytree=0.8 -   0.0s\n",
      "[CV] subsample=0.85, reg_alpha=1e-05, n_estimators=200, min_child_weight=9, max_depth=7, learning_rate=0.001, gamma=0.4, colsample_bytree=0.75 \n",
      "[CV]  subsample=0.85, reg_alpha=1e-05, n_estimators=200, min_child_weight=9, max_depth=7, learning_rate=0.001, gamma=0.4, colsample_bytree=0.75 -   0.0s\n",
      "[CV] subsample=0.85, reg_alpha=1e-05, n_estimators=200, min_child_weight=9, max_depth=7, learning_rate=0.001, gamma=0.4, colsample_bytree=0.75 \n"
     ]
    },
    {
     "name": "stderr",
     "output_type": "stream",
     "text": [
      "C:\\Users\\DELL PC\\Anaconda3\\lib\\site-packages\\sklearn\\preprocessing\\label.py:171: DeprecationWarning: The truth value of an empty array is ambiguous. Returning False, but in future this will result in an error. Use `array.size > 0` to check that an array is not empty.\n",
      "  if diff:\n",
      "C:\\Users\\DELL PC\\Anaconda3\\lib\\site-packages\\sklearn\\preprocessing\\label.py:171: DeprecationWarning: The truth value of an empty array is ambiguous. Returning False, but in future this will result in an error. Use `array.size > 0` to check that an array is not empty.\n",
      "  if diff:\n",
      "C:\\Users\\DELL PC\\Anaconda3\\lib\\site-packages\\sklearn\\preprocessing\\label.py:171: DeprecationWarning: The truth value of an empty array is ambiguous. Returning False, but in future this will result in an error. Use `array.size > 0` to check that an array is not empty.\n",
      "  if diff:\n"
     ]
    },
    {
     "name": "stdout",
     "output_type": "stream",
     "text": [
      "[CV]  subsample=0.85, reg_alpha=1e-05, n_estimators=200, min_child_weight=9, max_depth=7, learning_rate=0.001, gamma=0.4, colsample_bytree=0.75 -   0.0s\n",
      "[CV] subsample=0.85, reg_alpha=1e-05, n_estimators=200, min_child_weight=9, max_depth=7, learning_rate=0.001, gamma=0.4, colsample_bytree=0.75 \n",
      "[CV]  subsample=0.85, reg_alpha=1e-05, n_estimators=200, min_child_weight=9, max_depth=7, learning_rate=0.001, gamma=0.4, colsample_bytree=0.75 -   0.0s\n",
      "[CV] subsample=0.85, reg_alpha=1e-05, n_estimators=200, min_child_weight=9, max_depth=7, learning_rate=0.001, gamma=0.4, colsample_bytree=0.75 \n",
      "[CV]  subsample=0.85, reg_alpha=1e-05, n_estimators=200, min_child_weight=9, max_depth=7, learning_rate=0.001, gamma=0.4, colsample_bytree=0.75 -   0.0s\n",
      "[CV] subsample=0.85, reg_alpha=1e-05, n_estimators=200, min_child_weight=9, max_depth=7, learning_rate=0.001, gamma=0.4, colsample_bytree=0.75 "
     ]
    },
    {
     "name": "stderr",
     "output_type": "stream",
     "text": [
      "C:\\Users\\DELL PC\\Anaconda3\\lib\\site-packages\\sklearn\\preprocessing\\label.py:171: DeprecationWarning: The truth value of an empty array is ambiguous. Returning False, but in future this will result in an error. Use `array.size > 0` to check that an array is not empty.\n",
      "  if diff:\n",
      "C:\\Users\\DELL PC\\Anaconda3\\lib\\site-packages\\sklearn\\preprocessing\\label.py:171: DeprecationWarning: The truth value of an empty array is ambiguous. Returning False, but in future this will result in an error. Use `array.size > 0` to check that an array is not empty.\n",
      "  if diff:\n",
      "C:\\Users\\DELL PC\\Anaconda3\\lib\\site-packages\\sklearn\\preprocessing\\label.py:171: DeprecationWarning: The truth value of an empty array is ambiguous. Returning False, but in future this will result in an error. Use `array.size > 0` to check that an array is not empty.\n",
      "  if diff:\n",
      "C:\\Users\\DELL PC\\Anaconda3\\lib\\site-packages\\sklearn\\preprocessing\\label.py:171: DeprecationWarning: The truth value of an empty array is ambiguous. Returning False, but in future this will result in an error. Use `array.size > 0` to check that an array is not empty.\n",
      "  if diff:\n",
      "C:\\Users\\DELL PC\\Anaconda3\\lib\\site-packages\\sklearn\\preprocessing\\label.py:171: DeprecationWarning: The truth value of an empty array is ambiguous. Returning False, but in future this will result in an error. Use `array.size > 0` to check that an array is not empty.\n",
      "  if diff:\n"
     ]
    },
    {
     "name": "stdout",
     "output_type": "stream",
     "text": [
      "\n",
      "[CV]  subsample=0.85, reg_alpha=1e-05, n_estimators=200, min_child_weight=9, max_depth=7, learning_rate=0.001, gamma=0.4, colsample_bytree=0.75 -   0.0s\n",
      "[CV] subsample=0.75, reg_alpha=0, n_estimators=60, min_child_weight=5, max_depth=9, learning_rate=0.25, gamma=0.3, colsample_bytree=0.85 \n",
      "[CV]  subsample=0.75, reg_alpha=0, n_estimators=60, min_child_weight=5, max_depth=9, learning_rate=0.25, gamma=0.3, colsample_bytree=0.85 -   0.0s\n",
      "[CV] subsample=0.75, reg_alpha=0, n_estimators=60, min_child_weight=5, max_depth=9, learning_rate=0.25, gamma=0.3, colsample_bytree=0.85 \n",
      "[CV]  subsample=0.75, reg_alpha=0, n_estimators=60, min_child_weight=5, max_depth=9, learning_rate=0.25, gamma=0.3, colsample_bytree=0.85 -   0.0s\n",
      "[CV] subsample=0.75, reg_alpha=0, n_estimators=60, min_child_weight=5, max_depth=9, learning_rate=0.25, gamma=0.3, colsample_bytree=0.85 \n",
      "[CV]  subsample=0.75, reg_alpha=0, n_estimators=60, min_child_weight=5, max_depth=9, learning_rate=0.25, gamma=0.3, colsample_bytree=0.85 -   0.0s\n",
      "[CV] subsample=0.75, reg_alpha=0, n_estimators=60, min_child_weight=5, max_depth=9, learning_rate=0.25, gamma=0.3, colsample_bytree=0.85 \n",
      "[CV]  subsample=0.75, reg_alpha=0, n_estimators=60, min_child_weight=5, max_depth=9, learning_rate=0.25, gamma=0.3, colsample_bytree=0.85 -   0.0s\n",
      "[CV] subsample=0.75, reg_alpha=0, n_estimators=60, min_child_weight=5, max_depth=9, learning_rate=0.25, gamma=0.3, colsample_bytree=0.85 \n"
     ]
    },
    {
     "name": "stderr",
     "output_type": "stream",
     "text": [
      "C:\\Users\\DELL PC\\Anaconda3\\lib\\site-packages\\sklearn\\preprocessing\\label.py:171: DeprecationWarning: The truth value of an empty array is ambiguous. Returning False, but in future this will result in an error. Use `array.size > 0` to check that an array is not empty.\n",
      "  if diff:\n"
     ]
    },
    {
     "name": "stdout",
     "output_type": "stream",
     "text": [
      "[CV]  subsample=0.75, reg_alpha=0, n_estimators=60, min_child_weight=5, max_depth=9, learning_rate=0.25, gamma=0.3, colsample_bytree=0.85 -   0.0s\n",
      "[CV] subsample=0.75, reg_alpha=1e-05, n_estimators=500, min_child_weight=5, max_depth=5, learning_rate=0.25, gamma=0.1, colsample_bytree=0.8 \n"
     ]
    },
    {
     "name": "stderr",
     "output_type": "stream",
     "text": [
      "C:\\Users\\DELL PC\\Anaconda3\\lib\\site-packages\\sklearn\\preprocessing\\label.py:171: DeprecationWarning: The truth value of an empty array is ambiguous. Returning False, but in future this will result in an error. Use `array.size > 0` to check that an array is not empty.\n",
      "  if diff:\n"
     ]
    },
    {
     "name": "stdout",
     "output_type": "stream",
     "text": [
      "[CV]  subsample=0.75, reg_alpha=1e-05, n_estimators=500, min_child_weight=5, max_depth=5, learning_rate=0.25, gamma=0.1, colsample_bytree=0.8 -   0.2s\n",
      "[CV] subsample=0.75, reg_alpha=1e-05, n_estimators=500, min_child_weight=5, max_depth=5, learning_rate=0.25, gamma=0.1, colsample_bytree=0.8 \n"
     ]
    },
    {
     "name": "stderr",
     "output_type": "stream",
     "text": [
      "C:\\Users\\DELL PC\\Anaconda3\\lib\\site-packages\\sklearn\\preprocessing\\label.py:171: DeprecationWarning: The truth value of an empty array is ambiguous. Returning False, but in future this will result in an error. Use `array.size > 0` to check that an array is not empty.\n",
      "  if diff:\n"
     ]
    },
    {
     "name": "stdout",
     "output_type": "stream",
     "text": [
      "[CV]  subsample=0.75, reg_alpha=1e-05, n_estimators=500, min_child_weight=5, max_depth=5, learning_rate=0.25, gamma=0.1, colsample_bytree=0.8 -   0.2s\n",
      "[CV] subsample=0.75, reg_alpha=1e-05, n_estimators=500, min_child_weight=5, max_depth=5, learning_rate=0.25, gamma=0.1, colsample_bytree=0.8 \n"
     ]
    },
    {
     "name": "stderr",
     "output_type": "stream",
     "text": [
      "C:\\Users\\DELL PC\\Anaconda3\\lib\\site-packages\\sklearn\\preprocessing\\label.py:171: DeprecationWarning: The truth value of an empty array is ambiguous. Returning False, but in future this will result in an error. Use `array.size > 0` to check that an array is not empty.\n",
      "  if diff:\n"
     ]
    },
    {
     "name": "stdout",
     "output_type": "stream",
     "text": [
      "[CV]  subsample=0.75, reg_alpha=1e-05, n_estimators=500, min_child_weight=5, max_depth=5, learning_rate=0.25, gamma=0.1, colsample_bytree=0.8 -   0.2s\n",
      "[CV] subsample=0.75, reg_alpha=1e-05, n_estimators=500, min_child_weight=5, max_depth=5, learning_rate=0.25, gamma=0.1, colsample_bytree=0.8 \n"
     ]
    },
    {
     "name": "stderr",
     "output_type": "stream",
     "text": [
      "C:\\Users\\DELL PC\\Anaconda3\\lib\\site-packages\\sklearn\\preprocessing\\label.py:171: DeprecationWarning: The truth value of an empty array is ambiguous. Returning False, but in future this will result in an error. Use `array.size > 0` to check that an array is not empty.\n",
      "  if diff:\n"
     ]
    },
    {
     "name": "stdout",
     "output_type": "stream",
     "text": [
      "[CV]  subsample=0.75, reg_alpha=1e-05, n_estimators=500, min_child_weight=5, max_depth=5, learning_rate=0.25, gamma=0.1, colsample_bytree=0.8 -   0.2s\n",
      "[CV] subsample=0.75, reg_alpha=1e-05, n_estimators=500, min_child_weight=5, max_depth=5, learning_rate=0.25, gamma=0.1, colsample_bytree=0.8 \n"
     ]
    },
    {
     "name": "stderr",
     "output_type": "stream",
     "text": [
      "C:\\Users\\DELL PC\\Anaconda3\\lib\\site-packages\\sklearn\\preprocessing\\label.py:171: DeprecationWarning: The truth value of an empty array is ambiguous. Returning False, but in future this will result in an error. Use `array.size > 0` to check that an array is not empty.\n",
      "  if diff:\n",
      "C:\\Users\\DELL PC\\Anaconda3\\lib\\site-packages\\sklearn\\preprocessing\\label.py:171: DeprecationWarning: The truth value of an empty array is ambiguous. Returning False, but in future this will result in an error. Use `array.size > 0` to check that an array is not empty.\n",
      "  if diff:\n",
      "C:\\Users\\DELL PC\\Anaconda3\\lib\\site-packages\\sklearn\\preprocessing\\label.py:171: DeprecationWarning: The truth value of an empty array is ambiguous. Returning False, but in future this will result in an error. Use `array.size > 0` to check that an array is not empty.\n",
      "  if diff:\n",
      "C:\\Users\\DELL PC\\Anaconda3\\lib\\site-packages\\sklearn\\preprocessing\\label.py:171: DeprecationWarning: The truth value of an empty array is ambiguous. Returning False, but in future this will result in an error. Use `array.size > 0` to check that an array is not empty.\n",
      "  if diff:\n",
      "C:\\Users\\DELL PC\\Anaconda3\\lib\\site-packages\\sklearn\\preprocessing\\label.py:171: DeprecationWarning: The truth value of an empty array is ambiguous. Returning False, but in future this will result in an error. Use `array.size > 0` to check that an array is not empty.\n",
      "  if diff:\n",
      "C:\\Users\\DELL PC\\Anaconda3\\lib\\site-packages\\sklearn\\preprocessing\\label.py:171: DeprecationWarning: The truth value of an empty array is ambiguous. Returning False, but in future this will result in an error. Use `array.size > 0` to check that an array is not empty.\n",
      "  if diff:\n"
     ]
    },
    {
     "name": "stdout",
     "output_type": "stream",
     "text": [
      "[CV]  subsample=0.75, reg_alpha=1e-05, n_estimators=500, min_child_weight=5, max_depth=5, learning_rate=0.25, gamma=0.1, colsample_bytree=0.8 -   0.2s\n",
      "[CV] subsample=0.85, reg_alpha=0.01, n_estimators=30, min_child_weight=9, max_depth=6, learning_rate=0.01, gamma=0.4, colsample_bytree=0.85 \n",
      "[CV]  subsample=0.85, reg_alpha=0.01, n_estimators=30, min_child_weight=9, max_depth=6, learning_rate=0.01, gamma=0.4, colsample_bytree=0.85 -   0.0s\n",
      "[CV] subsample=0.85, reg_alpha=0.01, n_estimators=30, min_child_weight=9, max_depth=6, learning_rate=0.01, gamma=0.4, colsample_bytree=0.85 \n",
      "[CV]  subsample=0.85, reg_alpha=0.01, n_estimators=30, min_child_weight=9, max_depth=6, learning_rate=0.01, gamma=0.4, colsample_bytree=0.85 -   0.0s\n",
      "[CV] subsample=0.85, reg_alpha=0.01, n_estimators=30, min_child_weight=9, max_depth=6, learning_rate=0.01, gamma=0.4, colsample_bytree=0.85 \n",
      "[CV]  subsample=0.85, reg_alpha=0.01, n_estimators=30, min_child_weight=9, max_depth=6, learning_rate=0.01, gamma=0.4, colsample_bytree=0.85 -   0.0s\n",
      "[CV] subsample=0.85, reg_alpha=0.01, n_estimators=30, min_child_weight=9, max_depth=6, learning_rate=0.01, gamma=0.4, colsample_bytree=0.85 \n",
      "[CV]  subsample=0.85, reg_alpha=0.01, n_estimators=30, min_child_weight=9, max_depth=6, learning_rate=0.01, gamma=0.4, colsample_bytree=0.85 -   0.0s\n",
      "[CV] subsample=0.85, reg_alpha=0.01, n_estimators=30, min_child_weight=9, max_depth=6, learning_rate=0.01, gamma=0.4, colsample_bytree=0.85 \n",
      "[CV]  subsample=0.85, reg_alpha=0.01, n_estimators=30, min_child_weight=9, max_depth=6, learning_rate=0.01, gamma=0.4, colsample_bytree=0.85 -   0.0s\n",
      "[CV] subsample=0.75, reg_alpha=0.1, n_estimators=200, min_child_weight=9, max_depth=9, learning_rate=0.05, gamma=0.3, colsample_bytree=0.75 \n"
     ]
    },
    {
     "name": "stderr",
     "output_type": "stream",
     "text": [
      "C:\\Users\\DELL PC\\Anaconda3\\lib\\site-packages\\sklearn\\preprocessing\\label.py:171: DeprecationWarning: The truth value of an empty array is ambiguous. Returning False, but in future this will result in an error. Use `array.size > 0` to check that an array is not empty.\n",
      "  if diff:\n",
      "C:\\Users\\DELL PC\\Anaconda3\\lib\\site-packages\\sklearn\\preprocessing\\label.py:171: DeprecationWarning: The truth value of an empty array is ambiguous. Returning False, but in future this will result in an error. Use `array.size > 0` to check that an array is not empty.\n",
      "  if diff:\n"
     ]
    },
    {
     "name": "stdout",
     "output_type": "stream",
     "text": [
      "[CV]  subsample=0.75, reg_alpha=0.1, n_estimators=200, min_child_weight=9, max_depth=9, learning_rate=0.05, gamma=0.3, colsample_bytree=0.75 -   0.0s\n",
      "[CV] subsample=0.75, reg_alpha=0.1, n_estimators=200, min_child_weight=9, max_depth=9, learning_rate=0.05, gamma=0.3, colsample_bytree=0.75 \n",
      "[CV]  subsample=0.75, reg_alpha=0.1, n_estimators=200, min_child_weight=9, max_depth=9, learning_rate=0.05, gamma=0.3, colsample_bytree=0.75 -   0.0s\n",
      "[CV] subsample=0.75, reg_alpha=0.1, n_estimators=200, min_child_weight=9, max_depth=9, learning_rate=0.05, gamma=0.3, colsample_bytree=0.75 \n"
     ]
    },
    {
     "name": "stderr",
     "output_type": "stream",
     "text": [
      "C:\\Users\\DELL PC\\Anaconda3\\lib\\site-packages\\sklearn\\preprocessing\\label.py:171: DeprecationWarning: The truth value of an empty array is ambiguous. Returning False, but in future this will result in an error. Use `array.size > 0` to check that an array is not empty.\n",
      "  if diff:\n",
      "C:\\Users\\DELL PC\\Anaconda3\\lib\\site-packages\\sklearn\\preprocessing\\label.py:171: DeprecationWarning: The truth value of an empty array is ambiguous. Returning False, but in future this will result in an error. Use `array.size > 0` to check that an array is not empty.\n",
      "  if diff:\n",
      "C:\\Users\\DELL PC\\Anaconda3\\lib\\site-packages\\sklearn\\preprocessing\\label.py:171: DeprecationWarning: The truth value of an empty array is ambiguous. Returning False, but in future this will result in an error. Use `array.size > 0` to check that an array is not empty.\n",
      "  if diff:\n"
     ]
    },
    {
     "name": "stdout",
     "output_type": "stream",
     "text": [
      "[CV]  subsample=0.75, reg_alpha=0.1, n_estimators=200, min_child_weight=9, max_depth=9, learning_rate=0.05, gamma=0.3, colsample_bytree=0.75 -   0.0s\n",
      "[CV] subsample=0.75, reg_alpha=0.1, n_estimators=200, min_child_weight=9, max_depth=9, learning_rate=0.05, gamma=0.3, colsample_bytree=0.75 \n",
      "[CV]  subsample=0.75, reg_alpha=0.1, n_estimators=200, min_child_weight=9, max_depth=9, learning_rate=0.05, gamma=0.3, colsample_bytree=0.75 -   0.0s\n",
      "[CV] subsample=0.75, reg_alpha=0.1, n_estimators=200, min_child_weight=9, max_depth=9, learning_rate=0.05, gamma=0.3, colsample_bytree=0.75 \n",
      "[CV]  subsample=0.75, reg_alpha=0.1, n_estimators=200, min_child_weight=9, max_depth=9, learning_rate=0.05, gamma=0.3, colsample_bytree=0.75 -   0.0s\n",
      "[CV] subsample=0.75, reg_alpha=1e-05, n_estimators=1000, min_child_weight=7, max_depth=7, learning_rate=0.05, gamma=0.2, colsample_bytree=0.75 \n"
     ]
    },
    {
     "name": "stderr",
     "output_type": "stream",
     "text": [
      "C:\\Users\\DELL PC\\Anaconda3\\lib\\site-packages\\sklearn\\preprocessing\\label.py:171: DeprecationWarning: The truth value of an empty array is ambiguous. Returning False, but in future this will result in an error. Use `array.size > 0` to check that an array is not empty.\n",
      "  if diff:\n"
     ]
    },
    {
     "name": "stdout",
     "output_type": "stream",
     "text": [
      "[CV]  subsample=0.75, reg_alpha=1e-05, n_estimators=1000, min_child_weight=7, max_depth=7, learning_rate=0.05, gamma=0.2, colsample_bytree=0.75 -   0.4s\n",
      "[CV] subsample=0.75, reg_alpha=1e-05, n_estimators=1000, min_child_weight=7, max_depth=7, learning_rate=0.05, gamma=0.2, colsample_bytree=0.75 \n"
     ]
    },
    {
     "name": "stderr",
     "output_type": "stream",
     "text": [
      "C:\\Users\\DELL PC\\Anaconda3\\lib\\site-packages\\sklearn\\preprocessing\\label.py:171: DeprecationWarning: The truth value of an empty array is ambiguous. Returning False, but in future this will result in an error. Use `array.size > 0` to check that an array is not empty.\n",
      "  if diff:\n"
     ]
    },
    {
     "name": "stdout",
     "output_type": "stream",
     "text": [
      "[CV]  subsample=0.75, reg_alpha=1e-05, n_estimators=1000, min_child_weight=7, max_depth=7, learning_rate=0.05, gamma=0.2, colsample_bytree=0.75 -   0.4s\n",
      "[CV] subsample=0.75, reg_alpha=1e-05, n_estimators=1000, min_child_weight=7, max_depth=7, learning_rate=0.05, gamma=0.2, colsample_bytree=0.75 \n"
     ]
    },
    {
     "name": "stderr",
     "output_type": "stream",
     "text": [
      "C:\\Users\\DELL PC\\Anaconda3\\lib\\site-packages\\sklearn\\preprocessing\\label.py:171: DeprecationWarning: The truth value of an empty array is ambiguous. Returning False, but in future this will result in an error. Use `array.size > 0` to check that an array is not empty.\n",
      "  if diff:\n"
     ]
    },
    {
     "name": "stdout",
     "output_type": "stream",
     "text": [
      "[CV]  subsample=0.75, reg_alpha=1e-05, n_estimators=1000, min_child_weight=7, max_depth=7, learning_rate=0.05, gamma=0.2, colsample_bytree=0.75 -   0.4s\n",
      "[CV] subsample=0.75, reg_alpha=1e-05, n_estimators=1000, min_child_weight=7, max_depth=7, learning_rate=0.05, gamma=0.2, colsample_bytree=0.75 \n"
     ]
    },
    {
     "name": "stderr",
     "output_type": "stream",
     "text": [
      "C:\\Users\\DELL PC\\Anaconda3\\lib\\site-packages\\sklearn\\preprocessing\\label.py:171: DeprecationWarning: The truth value of an empty array is ambiguous. Returning False, but in future this will result in an error. Use `array.size > 0` to check that an array is not empty.\n",
      "  if diff:\n"
     ]
    },
    {
     "name": "stdout",
     "output_type": "stream",
     "text": [
      "[CV]  subsample=0.75, reg_alpha=1e-05, n_estimators=1000, min_child_weight=7, max_depth=7, learning_rate=0.05, gamma=0.2, colsample_bytree=0.75 -   0.4s\n",
      "[CV] subsample=0.75, reg_alpha=1e-05, n_estimators=1000, min_child_weight=7, max_depth=7, learning_rate=0.05, gamma=0.2, colsample_bytree=0.75 \n"
     ]
    },
    {
     "name": "stderr",
     "output_type": "stream",
     "text": [
      "C:\\Users\\DELL PC\\Anaconda3\\lib\\site-packages\\sklearn\\preprocessing\\label.py:171: DeprecationWarning: The truth value of an empty array is ambiguous. Returning False, but in future this will result in an error. Use `array.size > 0` to check that an array is not empty.\n",
      "  if diff:\n",
      "C:\\Users\\DELL PC\\Anaconda3\\lib\\site-packages\\sklearn\\preprocessing\\label.py:171: DeprecationWarning: The truth value of an empty array is ambiguous. Returning False, but in future this will result in an error. Use `array.size > 0` to check that an array is not empty.\n",
      "  if diff:\n",
      "C:\\Users\\DELL PC\\Anaconda3\\lib\\site-packages\\sklearn\\preprocessing\\label.py:171: DeprecationWarning: The truth value of an empty array is ambiguous. Returning False, but in future this will result in an error. Use `array.size > 0` to check that an array is not empty.\n",
      "  if diff:\n",
      "C:\\Users\\DELL PC\\Anaconda3\\lib\\site-packages\\sklearn\\preprocessing\\label.py:171: DeprecationWarning: The truth value of an empty array is ambiguous. Returning False, but in future this will result in an error. Use `array.size > 0` to check that an array is not empty.\n",
      "  if diff:\n",
      "C:\\Users\\DELL PC\\Anaconda3\\lib\\site-packages\\sklearn\\preprocessing\\label.py:171: DeprecationWarning: The truth value of an empty array is ambiguous. Returning False, but in future this will result in an error. Use `array.size > 0` to check that an array is not empty.\n",
      "  if diff:\n",
      "C:\\Users\\DELL PC\\Anaconda3\\lib\\site-packages\\sklearn\\preprocessing\\label.py:171: DeprecationWarning: The truth value of an empty array is ambiguous. Returning False, but in future this will result in an error. Use `array.size > 0` to check that an array is not empty.\n",
      "  if diff:\n"
     ]
    },
    {
     "name": "stdout",
     "output_type": "stream",
     "text": [
      "[CV]  subsample=0.75, reg_alpha=1e-05, n_estimators=1000, min_child_weight=7, max_depth=7, learning_rate=0.05, gamma=0.2, colsample_bytree=0.75 -   0.4s\n",
      "[CV] subsample=0.8, reg_alpha=0, n_estimators=10, min_child_weight=5, max_depth=10, learning_rate=0.01, gamma=0.2, colsample_bytree=0.85 \n",
      "[CV]  subsample=0.8, reg_alpha=0, n_estimators=10, min_child_weight=5, max_depth=10, learning_rate=0.01, gamma=0.2, colsample_bytree=0.85 -   0.0s\n",
      "[CV] subsample=0.8, reg_alpha=0, n_estimators=10, min_child_weight=5, max_depth=10, learning_rate=0.01, gamma=0.2, colsample_bytree=0.85 \n",
      "[CV]  subsample=0.8, reg_alpha=0, n_estimators=10, min_child_weight=5, max_depth=10, learning_rate=0.01, gamma=0.2, colsample_bytree=0.85 -   0.0s\n",
      "[CV] subsample=0.8, reg_alpha=0, n_estimators=10, min_child_weight=5, max_depth=10, learning_rate=0.01, gamma=0.2, colsample_bytree=0.85 \n",
      "[CV]  subsample=0.8, reg_alpha=0, n_estimators=10, min_child_weight=5, max_depth=10, learning_rate=0.01, gamma=0.2, colsample_bytree=0.85 -   0.0s\n",
      "[CV] subsample=0.8, reg_alpha=0, n_estimators=10, min_child_weight=5, max_depth=10, learning_rate=0.01, gamma=0.2, colsample_bytree=0.85 \n",
      "[CV]  subsample=0.8, reg_alpha=0, n_estimators=10, min_child_weight=5, max_depth=10, learning_rate=0.01, gamma=0.2, colsample_bytree=0.85 -   0.0s\n",
      "[CV] subsample=0.8, reg_alpha=0, n_estimators=10, min_child_weight=5, max_depth=10, learning_rate=0.01, gamma=0.2, colsample_bytree=0.85 \n",
      "[CV]  subsample=0.8, reg_alpha=0, n_estimators=10, min_child_weight=5, max_depth=10, learning_rate=0.01, gamma=0.2, colsample_bytree=0.85 -   0.0s\n",
      "[CV] subsample=0.8, reg_alpha=0.1, n_estimators=200, min_child_weight=5, max_depth=9, learning_rate=0.01, gamma=0.2, colsample_bytree=0.75 \n"
     ]
    },
    {
     "name": "stderr",
     "output_type": "stream",
     "text": [
      "C:\\Users\\DELL PC\\Anaconda3\\lib\\site-packages\\sklearn\\preprocessing\\label.py:171: DeprecationWarning: The truth value of an empty array is ambiguous. Returning False, but in future this will result in an error. Use `array.size > 0` to check that an array is not empty.\n",
      "  if diff:\n",
      "C:\\Users\\DELL PC\\Anaconda3\\lib\\site-packages\\sklearn\\preprocessing\\label.py:171: DeprecationWarning: The truth value of an empty array is ambiguous. Returning False, but in future this will result in an error. Use `array.size > 0` to check that an array is not empty.\n",
      "  if diff:\n"
     ]
    },
    {
     "name": "stdout",
     "output_type": "stream",
     "text": [
      "[CV]  subsample=0.8, reg_alpha=0.1, n_estimators=200, min_child_weight=5, max_depth=9, learning_rate=0.01, gamma=0.2, colsample_bytree=0.75 -   0.1s\n",
      "[CV] subsample=0.8, reg_alpha=0.1, n_estimators=200, min_child_weight=5, max_depth=9, learning_rate=0.01, gamma=0.2, colsample_bytree=0.75 \n",
      "[CV]  subsample=0.8, reg_alpha=0.1, n_estimators=200, min_child_weight=5, max_depth=9, learning_rate=0.01, gamma=0.2, colsample_bytree=0.75 -   0.1s\n",
      "[CV] subsample=0.8, reg_alpha=0.1, n_estimators=200, min_child_weight=5, max_depth=9, learning_rate=0.01, gamma=0.2, colsample_bytree=0.75 \n"
     ]
    },
    {
     "name": "stderr",
     "output_type": "stream",
     "text": [
      "C:\\Users\\DELL PC\\Anaconda3\\lib\\site-packages\\sklearn\\preprocessing\\label.py:171: DeprecationWarning: The truth value of an empty array is ambiguous. Returning False, but in future this will result in an error. Use `array.size > 0` to check that an array is not empty.\n",
      "  if diff:\n",
      "C:\\Users\\DELL PC\\Anaconda3\\lib\\site-packages\\sklearn\\preprocessing\\label.py:171: DeprecationWarning: The truth value of an empty array is ambiguous. Returning False, but in future this will result in an error. Use `array.size > 0` to check that an array is not empty.\n",
      "  if diff:\n"
     ]
    },
    {
     "name": "stdout",
     "output_type": "stream",
     "text": [
      "[CV]  subsample=0.8, reg_alpha=0.1, n_estimators=200, min_child_weight=5, max_depth=9, learning_rate=0.01, gamma=0.2, colsample_bytree=0.75 -   0.1s\n",
      "[CV] subsample=0.8, reg_alpha=0.1, n_estimators=200, min_child_weight=5, max_depth=9, learning_rate=0.01, gamma=0.2, colsample_bytree=0.75 \n",
      "[CV]  subsample=0.8, reg_alpha=0.1, n_estimators=200, min_child_weight=5, max_depth=9, learning_rate=0.01, gamma=0.2, colsample_bytree=0.75 -   0.1s\n",
      "[CV] subsample=0.8, reg_alpha=0.1, n_estimators=200, min_child_weight=5, max_depth=9, learning_rate=0.01, gamma=0.2, colsample_bytree=0.75 \n"
     ]
    },
    {
     "name": "stderr",
     "output_type": "stream",
     "text": [
      "C:\\Users\\DELL PC\\Anaconda3\\lib\\site-packages\\sklearn\\preprocessing\\label.py:171: DeprecationWarning: The truth value of an empty array is ambiguous. Returning False, but in future this will result in an error. Use `array.size > 0` to check that an array is not empty.\n",
      "  if diff:\n",
      "C:\\Users\\DELL PC\\Anaconda3\\lib\\site-packages\\sklearn\\preprocessing\\label.py:171: DeprecationWarning: The truth value of an empty array is ambiguous. Returning False, but in future this will result in an error. Use `array.size > 0` to check that an array is not empty.\n",
      "  if diff:\n",
      "C:\\Users\\DELL PC\\Anaconda3\\lib\\site-packages\\sklearn\\preprocessing\\label.py:171: DeprecationWarning: The truth value of an empty array is ambiguous. Returning False, but in future this will result in an error. Use `array.size > 0` to check that an array is not empty.\n",
      "  if diff:\n"
     ]
    },
    {
     "name": "stdout",
     "output_type": "stream",
     "text": [
      "[CV]  subsample=0.8, reg_alpha=0.1, n_estimators=200, min_child_weight=5, max_depth=9, learning_rate=0.01, gamma=0.2, colsample_bytree=0.75 -   0.1s\n",
      "[CV] subsample=0.85, reg_alpha=0, n_estimators=100, min_child_weight=9, max_depth=8, learning_rate=0.001, gamma=0.2, colsample_bytree=0.85 \n",
      "[CV]  subsample=0.85, reg_alpha=0, n_estimators=100, min_child_weight=9, max_depth=8, learning_rate=0.001, gamma=0.2, colsample_bytree=0.85 -   0.0s\n",
      "[CV] subsample=0.85, reg_alpha=0, n_estimators=100, min_child_weight=9, max_depth=8, learning_rate=0.001, gamma=0.2, colsample_bytree=0.85 \n",
      "[CV]  subsample=0.85, reg_alpha=0, n_estimators=100, min_child_weight=9, max_depth=8, learning_rate=0.001, gamma=0.2, colsample_bytree=0.85 -   0.0s\n",
      "[CV] subsample=0.85, reg_alpha=0, n_estimators=100, min_child_weight=9, max_depth=8, learning_rate=0.001, gamma=0.2, colsample_bytree=0.85 \n"
     ]
    },
    {
     "name": "stderr",
     "output_type": "stream",
     "text": [
      "C:\\Users\\DELL PC\\Anaconda3\\lib\\site-packages\\sklearn\\preprocessing\\label.py:171: DeprecationWarning: The truth value of an empty array is ambiguous. Returning False, but in future this will result in an error. Use `array.size > 0` to check that an array is not empty.\n",
      "  if diff:\n",
      "C:\\Users\\DELL PC\\Anaconda3\\lib\\site-packages\\sklearn\\preprocessing\\label.py:171: DeprecationWarning: The truth value of an empty array is ambiguous. Returning False, but in future this will result in an error. Use `array.size > 0` to check that an array is not empty.\n",
      "  if diff:\n",
      "C:\\Users\\DELL PC\\Anaconda3\\lib\\site-packages\\sklearn\\preprocessing\\label.py:171: DeprecationWarning: The truth value of an empty array is ambiguous. Returning False, but in future this will result in an error. Use `array.size > 0` to check that an array is not empty.\n",
      "  if diff:\n"
     ]
    },
    {
     "name": "stdout",
     "output_type": "stream",
     "text": [
      "[CV]  subsample=0.85, reg_alpha=0, n_estimators=100, min_child_weight=9, max_depth=8, learning_rate=0.001, gamma=0.2, colsample_bytree=0.85 -   0.0s\n",
      "[CV] subsample=0.85, reg_alpha=0, n_estimators=100, min_child_weight=9, max_depth=8, learning_rate=0.001, gamma=0.2, colsample_bytree=0.85 \n",
      "[CV]  subsample=0.85, reg_alpha=0, n_estimators=100, min_child_weight=9, max_depth=8, learning_rate=0.001, gamma=0.2, colsample_bytree=0.85 -   0.0s\n",
      "[CV] subsample=0.85, reg_alpha=0, n_estimators=100, min_child_weight=9, max_depth=8, learning_rate=0.001, gamma=0.2, colsample_bytree=0.85 \n",
      "[CV]  subsample=0.85, reg_alpha=0, n_estimators=100, min_child_weight=9, max_depth=8, learning_rate=0.001, gamma=0.2, colsample_bytree=0.85 -   0.0s\n",
      "[CV] subsample=0.8, reg_alpha=0.001, n_estimators=200, min_child_weight=5, max_depth=4, learning_rate=0.001, gamma=0.2, colsample_bytree=0.75 \n"
     ]
    },
    {
     "name": "stderr",
     "output_type": "stream",
     "text": [
      "C:\\Users\\DELL PC\\Anaconda3\\lib\\site-packages\\sklearn\\preprocessing\\label.py:171: DeprecationWarning: The truth value of an empty array is ambiguous. Returning False, but in future this will result in an error. Use `array.size > 0` to check that an array is not empty.\n",
      "  if diff:\n",
      "C:\\Users\\DELL PC\\Anaconda3\\lib\\site-packages\\sklearn\\preprocessing\\label.py:171: DeprecationWarning: The truth value of an empty array is ambiguous. Returning False, but in future this will result in an error. Use `array.size > 0` to check that an array is not empty.\n",
      "  if diff:\n"
     ]
    },
    {
     "name": "stdout",
     "output_type": "stream",
     "text": [
      "[CV]  subsample=0.8, reg_alpha=0.001, n_estimators=200, min_child_weight=5, max_depth=4, learning_rate=0.001, gamma=0.2, colsample_bytree=0.75 -   0.0s\n",
      "[CV] subsample=0.8, reg_alpha=0.001, n_estimators=200, min_child_weight=5, max_depth=4, learning_rate=0.001, gamma=0.2, colsample_bytree=0.75 \n",
      "[CV]  subsample=0.8, reg_alpha=0.001, n_estimators=200, min_child_weight=5, max_depth=4, learning_rate=0.001, gamma=0.2, colsample_bytree=0.75 -   0.0s\n",
      "[CV] subsample=0.8, reg_alpha=0.001, n_estimators=200, min_child_weight=5, max_depth=4, learning_rate=0.001, gamma=0.2, colsample_bytree=0.75 \n"
     ]
    },
    {
     "name": "stderr",
     "output_type": "stream",
     "text": [
      "C:\\Users\\DELL PC\\Anaconda3\\lib\\site-packages\\sklearn\\preprocessing\\label.py:171: DeprecationWarning: The truth value of an empty array is ambiguous. Returning False, but in future this will result in an error. Use `array.size > 0` to check that an array is not empty.\n",
      "  if diff:\n",
      "C:\\Users\\DELL PC\\Anaconda3\\lib\\site-packages\\sklearn\\preprocessing\\label.py:171: DeprecationWarning: The truth value of an empty array is ambiguous. Returning False, but in future this will result in an error. Use `array.size > 0` to check that an array is not empty.\n",
      "  if diff:\n"
     ]
    },
    {
     "name": "stdout",
     "output_type": "stream",
     "text": [
      "[CV]  subsample=0.8, reg_alpha=0.001, n_estimators=200, min_child_weight=5, max_depth=4, learning_rate=0.001, gamma=0.2, colsample_bytree=0.75 -   0.0s\n",
      "[CV] subsample=0.8, reg_alpha=0.001, n_estimators=200, min_child_weight=5, max_depth=4, learning_rate=0.001, gamma=0.2, colsample_bytree=0.75 \n",
      "[CV]  subsample=0.8, reg_alpha=0.001, n_estimators=200, min_child_weight=5, max_depth=4, learning_rate=0.001, gamma=0.2, colsample_bytree=0.75 -   0.0s\n",
      "[CV] subsample=0.8, reg_alpha=0.001, n_estimators=200, min_child_weight=5, max_depth=4, learning_rate=0.001, gamma=0.2, colsample_bytree=0.75 \n"
     ]
    },
    {
     "name": "stderr",
     "output_type": "stream",
     "text": [
      "C:\\Users\\DELL PC\\Anaconda3\\lib\\site-packages\\sklearn\\preprocessing\\label.py:171: DeprecationWarning: The truth value of an empty array is ambiguous. Returning False, but in future this will result in an error. Use `array.size > 0` to check that an array is not empty.\n",
      "  if diff:\n",
      "C:\\Users\\DELL PC\\Anaconda3\\lib\\site-packages\\sklearn\\preprocessing\\label.py:171: DeprecationWarning: The truth value of an empty array is ambiguous. Returning False, but in future this will result in an error. Use `array.size > 0` to check that an array is not empty.\n",
      "  if diff:\n",
      "C:\\Users\\DELL PC\\Anaconda3\\lib\\site-packages\\sklearn\\preprocessing\\label.py:171: DeprecationWarning: The truth value of an empty array is ambiguous. Returning False, but in future this will result in an error. Use `array.size > 0` to check that an array is not empty.\n",
      "  if diff:\n",
      "C:\\Users\\DELL PC\\Anaconda3\\lib\\site-packages\\sklearn\\preprocessing\\label.py:171: DeprecationWarning: The truth value of an empty array is ambiguous. Returning False, but in future this will result in an error. Use `array.size > 0` to check that an array is not empty.\n",
      "  if diff:\n",
      "C:\\Users\\DELL PC\\Anaconda3\\lib\\site-packages\\sklearn\\preprocessing\\label.py:171: DeprecationWarning: The truth value of an empty array is ambiguous. Returning False, but in future this will result in an error. Use `array.size > 0` to check that an array is not empty.\n",
      "  if diff:\n",
      "C:\\Users\\DELL PC\\Anaconda3\\lib\\site-packages\\sklearn\\preprocessing\\label.py:171: DeprecationWarning: The truth value of an empty array is ambiguous. Returning False, but in future this will result in an error. Use `array.size > 0` to check that an array is not empty.\n",
      "  if diff:\n"
     ]
    },
    {
     "name": "stdout",
     "output_type": "stream",
     "text": [
      "[CV]  subsample=0.8, reg_alpha=0.001, n_estimators=200, min_child_weight=5, max_depth=4, learning_rate=0.001, gamma=0.2, colsample_bytree=0.75 -   0.0s\n",
      "[CV] subsample=0.85, reg_alpha=0.001, n_estimators=30, min_child_weight=5, max_depth=10, learning_rate=0.001, gamma=0.1, colsample_bytree=0.75 \n",
      "[CV]  subsample=0.85, reg_alpha=0.001, n_estimators=30, min_child_weight=5, max_depth=10, learning_rate=0.001, gamma=0.1, colsample_bytree=0.75 -   0.0s\n",
      "[CV] subsample=0.85, reg_alpha=0.001, n_estimators=30, min_child_weight=5, max_depth=10, learning_rate=0.001, gamma=0.1, colsample_bytree=0.75 \n",
      "[CV]  subsample=0.85, reg_alpha=0.001, n_estimators=30, min_child_weight=5, max_depth=10, learning_rate=0.001, gamma=0.1, colsample_bytree=0.75 -   0.0s\n",
      "[CV] subsample=0.85, reg_alpha=0.001, n_estimators=30, min_child_weight=5, max_depth=10, learning_rate=0.001, gamma=0.1, colsample_bytree=0.75 \n",
      "[CV]  subsample=0.85, reg_alpha=0.001, n_estimators=30, min_child_weight=5, max_depth=10, learning_rate=0.001, gamma=0.1, colsample_bytree=0.75 -   0.0s\n",
      "[CV] subsample=0.85, reg_alpha=0.001, n_estimators=30, min_child_weight=5, max_depth=10, learning_rate=0.001, gamma=0.1, colsample_bytree=0.75 \n",
      "[CV]  subsample=0.85, reg_alpha=0.001, n_estimators=30, min_child_weight=5, max_depth=10, learning_rate=0.001, gamma=0.1, colsample_bytree=0.75 -   0.0s\n",
      "[CV] subsample=0.85, reg_alpha=0.001, n_estimators=30, min_child_weight=5, max_depth=10, learning_rate=0.001, gamma=0.1, colsample_bytree=0.75 \n",
      "[CV]  subsample=0.85, reg_alpha=0.001, n_estimators=30, min_child_weight=5, max_depth=10, learning_rate=0.001, gamma=0.1, colsample_bytree=0.75 -   0.0s\n",
      "[CV] subsample=0.75, reg_alpha=0.005, n_estimators=200, min_child_weight=9, max_depth=9, learning_rate=0.1, gamma=0.2, colsample_bytree=0.85 \n"
     ]
    },
    {
     "name": "stderr",
     "output_type": "stream",
     "text": [
      "C:\\Users\\DELL PC\\Anaconda3\\lib\\site-packages\\sklearn\\preprocessing\\label.py:171: DeprecationWarning: The truth value of an empty array is ambiguous. Returning False, but in future this will result in an error. Use `array.size > 0` to check that an array is not empty.\n",
      "  if diff:\n",
      "C:\\Users\\DELL PC\\Anaconda3\\lib\\site-packages\\sklearn\\preprocessing\\label.py:171: DeprecationWarning: The truth value of an empty array is ambiguous. Returning False, but in future this will result in an error. Use `array.size > 0` to check that an array is not empty.\n",
      "  if diff:\n"
     ]
    },
    {
     "name": "stdout",
     "output_type": "stream",
     "text": [
      "[CV]  subsample=0.75, reg_alpha=0.005, n_estimators=200, min_child_weight=9, max_depth=9, learning_rate=0.1, gamma=0.2, colsample_bytree=0.85 -   0.1s\n",
      "[CV] subsample=0.75, reg_alpha=0.005, n_estimators=200, min_child_weight=9, max_depth=9, learning_rate=0.1, gamma=0.2, colsample_bytree=0.85 \n",
      "[CV]  subsample=0.75, reg_alpha=0.005, n_estimators=200, min_child_weight=9, max_depth=9, learning_rate=0.1, gamma=0.2, colsample_bytree=0.85 -   0.0s\n",
      "[CV] subsample=0.75, reg_alpha=0.005, n_estimators=200, min_child_weight=9, max_depth=9, learning_rate=0.1, gamma=0.2, colsample_bytree=0.85 \n"
     ]
    },
    {
     "name": "stderr",
     "output_type": "stream",
     "text": [
      "C:\\Users\\DELL PC\\Anaconda3\\lib\\site-packages\\sklearn\\preprocessing\\label.py:171: DeprecationWarning: The truth value of an empty array is ambiguous. Returning False, but in future this will result in an error. Use `array.size > 0` to check that an array is not empty.\n",
      "  if diff:\n",
      "C:\\Users\\DELL PC\\Anaconda3\\lib\\site-packages\\sklearn\\preprocessing\\label.py:171: DeprecationWarning: The truth value of an empty array is ambiguous. Returning False, but in future this will result in an error. Use `array.size > 0` to check that an array is not empty.\n",
      "  if diff:\n"
     ]
    },
    {
     "name": "stdout",
     "output_type": "stream",
     "text": [
      "[CV]  subsample=0.75, reg_alpha=0.005, n_estimators=200, min_child_weight=9, max_depth=9, learning_rate=0.1, gamma=0.2, colsample_bytree=0.85 -   0.0s\n",
      "[CV] subsample=0.75, reg_alpha=0.005, n_estimators=200, min_child_weight=9, max_depth=9, learning_rate=0.1, gamma=0.2, colsample_bytree=0.85 \n",
      "[CV]  subsample=0.75, reg_alpha=0.005, n_estimators=200, min_child_weight=9, max_depth=9, learning_rate=0.1, gamma=0.2, colsample_bytree=0.85 -   0.0s\n",
      "[CV] subsample=0.75, reg_alpha=0.005, n_estimators=200, min_child_weight=9, max_depth=9, learning_rate=0.1, gamma=0.2, colsample_bytree=0.85 \n"
     ]
    },
    {
     "name": "stderr",
     "output_type": "stream",
     "text": [
      "C:\\Users\\DELL PC\\Anaconda3\\lib\\site-packages\\sklearn\\preprocessing\\label.py:171: DeprecationWarning: The truth value of an empty array is ambiguous. Returning False, but in future this will result in an error. Use `array.size > 0` to check that an array is not empty.\n",
      "  if diff:\n",
      "C:\\Users\\DELL PC\\Anaconda3\\lib\\site-packages\\sklearn\\preprocessing\\label.py:171: DeprecationWarning: The truth value of an empty array is ambiguous. Returning False, but in future this will result in an error. Use `array.size > 0` to check that an array is not empty.\n",
      "  if diff:\n",
      "C:\\Users\\DELL PC\\Anaconda3\\lib\\site-packages\\sklearn\\preprocessing\\label.py:171: DeprecationWarning: The truth value of an empty array is ambiguous. Returning False, but in future this will result in an error. Use `array.size > 0` to check that an array is not empty.\n",
      "  if diff:\n",
      "C:\\Users\\DELL PC\\Anaconda3\\lib\\site-packages\\sklearn\\preprocessing\\label.py:171: DeprecationWarning: The truth value of an empty array is ambiguous. Returning False, but in future this will result in an error. Use `array.size > 0` to check that an array is not empty.\n",
      "  if diff:\n"
     ]
    },
    {
     "name": "stdout",
     "output_type": "stream",
     "text": [
      "[CV]  subsample=0.75, reg_alpha=0.005, n_estimators=200, min_child_weight=9, max_depth=9, learning_rate=0.1, gamma=0.2, colsample_bytree=0.85 -   0.0s\n",
      "[CV] subsample=0.8, reg_alpha=0.01, n_estimators=60, min_child_weight=7, max_depth=7, learning_rate=0.25, gamma=0.0, colsample_bytree=0.85 \n",
      "[CV]  subsample=0.8, reg_alpha=0.01, n_estimators=60, min_child_weight=7, max_depth=7, learning_rate=0.25, gamma=0.0, colsample_bytree=0.85 -   0.0s\n",
      "[CV] subsample=0.8, reg_alpha=0.01, n_estimators=60, min_child_weight=7, max_depth=7, learning_rate=0.25, gamma=0.0, colsample_bytree=0.85 \n",
      "[CV]  subsample=0.8, reg_alpha=0.01, n_estimators=60, min_child_weight=7, max_depth=7, learning_rate=0.25, gamma=0.0, colsample_bytree=0.85 -   0.0s\n",
      "[CV] subsample=0.8, reg_alpha=0.01, n_estimators=60, min_child_weight=7, max_depth=7, learning_rate=0.25, gamma=0.0, colsample_bytree=0.85 \n",
      "[CV]  subsample=0.8, reg_alpha=0.01, n_estimators=60, min_child_weight=7, max_depth=7, learning_rate=0.25, gamma=0.0, colsample_bytree=0.85 -   0.0s\n",
      "[CV] subsample=0.8, reg_alpha=0.01, n_estimators=60, min_child_weight=7, max_depth=7, learning_rate=0.25, gamma=0.0, colsample_bytree=0.85 \n"
     ]
    },
    {
     "name": "stderr",
     "output_type": "stream",
     "text": [
      "C:\\Users\\DELL PC\\Anaconda3\\lib\\site-packages\\sklearn\\preprocessing\\label.py:171: DeprecationWarning: The truth value of an empty array is ambiguous. Returning False, but in future this will result in an error. Use `array.size > 0` to check that an array is not empty.\n",
      "  if diff:\n",
      "C:\\Users\\DELL PC\\Anaconda3\\lib\\site-packages\\sklearn\\preprocessing\\label.py:171: DeprecationWarning: The truth value of an empty array is ambiguous. Returning False, but in future this will result in an error. Use `array.size > 0` to check that an array is not empty.\n",
      "  if diff:\n"
     ]
    },
    {
     "name": "stdout",
     "output_type": "stream",
     "text": [
      "[CV]  subsample=0.8, reg_alpha=0.01, n_estimators=60, min_child_weight=7, max_depth=7, learning_rate=0.25, gamma=0.0, colsample_bytree=0.85 -   0.0s\n",
      "[CV] subsample=0.8, reg_alpha=0.01, n_estimators=60, min_child_weight=7, max_depth=7, learning_rate=0.25, gamma=0.0, colsample_bytree=0.85 \n",
      "[CV]  subsample=0.8, reg_alpha=0.01, n_estimators=60, min_child_weight=7, max_depth=7, learning_rate=0.25, gamma=0.0, colsample_bytree=0.85 -   0.0s\n",
      "[CV] subsample=0.85, reg_alpha=0.05, n_estimators=200, min_child_weight=1, max_depth=6, learning_rate=0.15, gamma=0.1, colsample_bytree=0.75 \n"
     ]
    },
    {
     "name": "stderr",
     "output_type": "stream",
     "text": [
      "C:\\Users\\DELL PC\\Anaconda3\\lib\\site-packages\\sklearn\\preprocessing\\label.py:171: DeprecationWarning: The truth value of an empty array is ambiguous. Returning False, but in future this will result in an error. Use `array.size > 0` to check that an array is not empty.\n",
      "  if diff:\n",
      "C:\\Users\\DELL PC\\Anaconda3\\lib\\site-packages\\sklearn\\preprocessing\\label.py:171: DeprecationWarning: The truth value of an empty array is ambiguous. Returning False, but in future this will result in an error. Use `array.size > 0` to check that an array is not empty.\n",
      "  if diff:\n"
     ]
    },
    {
     "name": "stdout",
     "output_type": "stream",
     "text": [
      "[CV]  subsample=0.85, reg_alpha=0.05, n_estimators=200, min_child_weight=1, max_depth=6, learning_rate=0.15, gamma=0.1, colsample_bytree=0.75 -   0.1s\n",
      "[CV] subsample=0.85, reg_alpha=0.05, n_estimators=200, min_child_weight=1, max_depth=6, learning_rate=0.15, gamma=0.1, colsample_bytree=0.75 \n",
      "[CV]  subsample=0.85, reg_alpha=0.05, n_estimators=200, min_child_weight=1, max_depth=6, learning_rate=0.15, gamma=0.1, colsample_bytree=0.75 -   0.1s\n",
      "[CV] subsample=0.85, reg_alpha=0.05, n_estimators=200, min_child_weight=1, max_depth=6, learning_rate=0.15, gamma=0.1, colsample_bytree=0.75 \n"
     ]
    },
    {
     "name": "stderr",
     "output_type": "stream",
     "text": [
      "C:\\Users\\DELL PC\\Anaconda3\\lib\\site-packages\\sklearn\\preprocessing\\label.py:171: DeprecationWarning: The truth value of an empty array is ambiguous. Returning False, but in future this will result in an error. Use `array.size > 0` to check that an array is not empty.\n",
      "  if diff:\n",
      "C:\\Users\\DELL PC\\Anaconda3\\lib\\site-packages\\sklearn\\preprocessing\\label.py:171: DeprecationWarning: The truth value of an empty array is ambiguous. Returning False, but in future this will result in an error. Use `array.size > 0` to check that an array is not empty.\n",
      "  if diff:\n"
     ]
    },
    {
     "name": "stdout",
     "output_type": "stream",
     "text": [
      "[CV]  subsample=0.85, reg_alpha=0.05, n_estimators=200, min_child_weight=1, max_depth=6, learning_rate=0.15, gamma=0.1, colsample_bytree=0.75 -   0.1s\n",
      "[CV] subsample=0.85, reg_alpha=0.05, n_estimators=200, min_child_weight=1, max_depth=6, learning_rate=0.15, gamma=0.1, colsample_bytree=0.75 \n",
      "[CV]  subsample=0.85, reg_alpha=0.05, n_estimators=200, min_child_weight=1, max_depth=6, learning_rate=0.15, gamma=0.1, colsample_bytree=0.75 -   0.1s\n",
      "[CV] subsample=0.85, reg_alpha=0.05, n_estimators=200, min_child_weight=1, max_depth=6, learning_rate=0.15, gamma=0.1, colsample_bytree=0.75 \n"
     ]
    },
    {
     "name": "stderr",
     "output_type": "stream",
     "text": [
      "C:\\Users\\DELL PC\\Anaconda3\\lib\\site-packages\\sklearn\\preprocessing\\label.py:171: DeprecationWarning: The truth value of an empty array is ambiguous. Returning False, but in future this will result in an error. Use `array.size > 0` to check that an array is not empty.\n",
      "  if diff:\n",
      "C:\\Users\\DELL PC\\Anaconda3\\lib\\site-packages\\sklearn\\preprocessing\\label.py:171: DeprecationWarning: The truth value of an empty array is ambiguous. Returning False, but in future this will result in an error. Use `array.size > 0` to check that an array is not empty.\n",
      "  if diff:\n",
      "C:\\Users\\DELL PC\\Anaconda3\\lib\\site-packages\\sklearn\\preprocessing\\label.py:171: DeprecationWarning: The truth value of an empty array is ambiguous. Returning False, but in future this will result in an error. Use `array.size > 0` to check that an array is not empty.\n",
      "  if diff:\n"
     ]
    },
    {
     "name": "stdout",
     "output_type": "stream",
     "text": [
      "[CV]  subsample=0.85, reg_alpha=0.05, n_estimators=200, min_child_weight=1, max_depth=6, learning_rate=0.15, gamma=0.1, colsample_bytree=0.75 -   0.1s\n",
      "[CV] subsample=0.75, reg_alpha=0.05, n_estimators=100, min_child_weight=7, max_depth=7, learning_rate=0.01, gamma=0.2, colsample_bytree=0.8 \n",
      "[CV]  subsample=0.75, reg_alpha=0.05, n_estimators=100, min_child_weight=7, max_depth=7, learning_rate=0.01, gamma=0.2, colsample_bytree=0.8 -   0.0s\n",
      "[CV] subsample=0.75, reg_alpha=0.05, n_estimators=100, min_child_weight=7, max_depth=7, learning_rate=0.01, gamma=0.2, colsample_bytree=0.8 \n",
      "[CV]  subsample=0.75, reg_alpha=0.05, n_estimators=100, min_child_weight=7, max_depth=7, learning_rate=0.01, gamma=0.2, colsample_bytree=0.8 -   0.0s\n",
      "[CV] subsample=0.75, reg_alpha=0.05, n_estimators=100, min_child_weight=7, max_depth=7, learning_rate=0.01, gamma=0.2, colsample_bytree=0.8 \n"
     ]
    },
    {
     "name": "stderr",
     "output_type": "stream",
     "text": [
      "C:\\Users\\DELL PC\\Anaconda3\\lib\\site-packages\\sklearn\\preprocessing\\label.py:171: DeprecationWarning: The truth value of an empty array is ambiguous. Returning False, but in future this will result in an error. Use `array.size > 0` to check that an array is not empty.\n",
      "  if diff:\n",
      "C:\\Users\\DELL PC\\Anaconda3\\lib\\site-packages\\sklearn\\preprocessing\\label.py:171: DeprecationWarning: The truth value of an empty array is ambiguous. Returning False, but in future this will result in an error. Use `array.size > 0` to check that an array is not empty.\n",
      "  if diff:\n",
      "C:\\Users\\DELL PC\\Anaconda3\\lib\\site-packages\\sklearn\\preprocessing\\label.py:171: DeprecationWarning: The truth value of an empty array is ambiguous. Returning False, but in future this will result in an error. Use `array.size > 0` to check that an array is not empty.\n",
      "  if diff:\n"
     ]
    },
    {
     "name": "stdout",
     "output_type": "stream",
     "text": [
      "[CV]  subsample=0.75, reg_alpha=0.05, n_estimators=100, min_child_weight=7, max_depth=7, learning_rate=0.01, gamma=0.2, colsample_bytree=0.8 -   0.0s\n",
      "[CV] subsample=0.75, reg_alpha=0.05, n_estimators=100, min_child_weight=7, max_depth=7, learning_rate=0.01, gamma=0.2, colsample_bytree=0.8 \n",
      "[CV]  subsample=0.75, reg_alpha=0.05, n_estimators=100, min_child_weight=7, max_depth=7, learning_rate=0.01, gamma=0.2, colsample_bytree=0.8 -   0.0s\n",
      "[CV] subsample=0.75, reg_alpha=0.05, n_estimators=100, min_child_weight=7, max_depth=7, learning_rate=0.01, gamma=0.2, colsample_bytree=0.8 \n",
      "[CV]  subsample=0.75, reg_alpha=0.05, n_estimators=100, min_child_weight=7, max_depth=7, learning_rate=0.01, gamma=0.2, colsample_bytree=0.8 -   0.0s\n",
      "[CV] subsample=0.8, reg_alpha=0.1, n_estimators=200, min_child_weight=1, max_depth=10, learning_rate=0.05, gamma=0.3, colsample_bytree=0.85 \n"
     ]
    },
    {
     "name": "stderr",
     "output_type": "stream",
     "text": [
      "C:\\Users\\DELL PC\\Anaconda3\\lib\\site-packages\\sklearn\\preprocessing\\label.py:171: DeprecationWarning: The truth value of an empty array is ambiguous. Returning False, but in future this will result in an error. Use `array.size > 0` to check that an array is not empty.\n",
      "  if diff:\n"
     ]
    },
    {
     "name": "stdout",
     "output_type": "stream",
     "text": [
      "[CV]  subsample=0.8, reg_alpha=0.1, n_estimators=200, min_child_weight=1, max_depth=10, learning_rate=0.05, gamma=0.3, colsample_bytree=0.85 -   0.2s\n",
      "[CV] subsample=0.8, reg_alpha=0.1, n_estimators=200, min_child_weight=1, max_depth=10, learning_rate=0.05, gamma=0.3, colsample_bytree=0.85 \n"
     ]
    },
    {
     "name": "stderr",
     "output_type": "stream",
     "text": [
      "C:\\Users\\DELL PC\\Anaconda3\\lib\\site-packages\\sklearn\\preprocessing\\label.py:171: DeprecationWarning: The truth value of an empty array is ambiguous. Returning False, but in future this will result in an error. Use `array.size > 0` to check that an array is not empty.\n",
      "  if diff:\n"
     ]
    },
    {
     "name": "stdout",
     "output_type": "stream",
     "text": [
      "[CV]  subsample=0.8, reg_alpha=0.1, n_estimators=200, min_child_weight=1, max_depth=10, learning_rate=0.05, gamma=0.3, colsample_bytree=0.85 -   0.2s\n",
      "[CV] subsample=0.8, reg_alpha=0.1, n_estimators=200, min_child_weight=1, max_depth=10, learning_rate=0.05, gamma=0.3, colsample_bytree=0.85 \n"
     ]
    },
    {
     "name": "stderr",
     "output_type": "stream",
     "text": [
      "C:\\Users\\DELL PC\\Anaconda3\\lib\\site-packages\\sklearn\\preprocessing\\label.py:171: DeprecationWarning: The truth value of an empty array is ambiguous. Returning False, but in future this will result in an error. Use `array.size > 0` to check that an array is not empty.\n",
      "  if diff:\n"
     ]
    },
    {
     "name": "stdout",
     "output_type": "stream",
     "text": [
      "[CV]  subsample=0.8, reg_alpha=0.1, n_estimators=200, min_child_weight=1, max_depth=10, learning_rate=0.05, gamma=0.3, colsample_bytree=0.85 -   0.2s\n",
      "[CV] subsample=0.8, reg_alpha=0.1, n_estimators=200, min_child_weight=1, max_depth=10, learning_rate=0.05, gamma=0.3, colsample_bytree=0.85 \n"
     ]
    },
    {
     "name": "stderr",
     "output_type": "stream",
     "text": [
      "C:\\Users\\DELL PC\\Anaconda3\\lib\\site-packages\\sklearn\\preprocessing\\label.py:171: DeprecationWarning: The truth value of an empty array is ambiguous. Returning False, but in future this will result in an error. Use `array.size > 0` to check that an array is not empty.\n",
      "  if diff:\n"
     ]
    },
    {
     "name": "stdout",
     "output_type": "stream",
     "text": [
      "[CV]  subsample=0.8, reg_alpha=0.1, n_estimators=200, min_child_weight=1, max_depth=10, learning_rate=0.05, gamma=0.3, colsample_bytree=0.85 -   0.2s\n",
      "[CV] subsample=0.8, reg_alpha=0.1, n_estimators=200, min_child_weight=1, max_depth=10, learning_rate=0.05, gamma=0.3, colsample_bytree=0.85 \n"
     ]
    },
    {
     "name": "stderr",
     "output_type": "stream",
     "text": [
      "C:\\Users\\DELL PC\\Anaconda3\\lib\\site-packages\\sklearn\\preprocessing\\label.py:171: DeprecationWarning: The truth value of an empty array is ambiguous. Returning False, but in future this will result in an error. Use `array.size > 0` to check that an array is not empty.\n",
      "  if diff:\n",
      "C:\\Users\\DELL PC\\Anaconda3\\lib\\site-packages\\sklearn\\preprocessing\\label.py:171: DeprecationWarning: The truth value of an empty array is ambiguous. Returning False, but in future this will result in an error. Use `array.size > 0` to check that an array is not empty.\n",
      "  if diff:\n",
      "C:\\Users\\DELL PC\\Anaconda3\\lib\\site-packages\\sklearn\\preprocessing\\label.py:171: DeprecationWarning: The truth value of an empty array is ambiguous. Returning False, but in future this will result in an error. Use `array.size > 0` to check that an array is not empty.\n",
      "  if diff:\n",
      "C:\\Users\\DELL PC\\Anaconda3\\lib\\site-packages\\sklearn\\preprocessing\\label.py:171: DeprecationWarning: The truth value of an empty array is ambiguous. Returning False, but in future this will result in an error. Use `array.size > 0` to check that an array is not empty.\n",
      "  if diff:\n",
      "C:\\Users\\DELL PC\\Anaconda3\\lib\\site-packages\\sklearn\\preprocessing\\label.py:171: DeprecationWarning: The truth value of an empty array is ambiguous. Returning False, but in future this will result in an error. Use `array.size > 0` to check that an array is not empty.\n",
      "  if diff:\n",
      "C:\\Users\\DELL PC\\Anaconda3\\lib\\site-packages\\sklearn\\preprocessing\\label.py:171: DeprecationWarning: The truth value of an empty array is ambiguous. Returning False, but in future this will result in an error. Use `array.size > 0` to check that an array is not empty.\n",
      "  if diff:\n"
     ]
    },
    {
     "name": "stdout",
     "output_type": "stream",
     "text": [
      "[CV]  subsample=0.8, reg_alpha=0.1, n_estimators=200, min_child_weight=1, max_depth=10, learning_rate=0.05, gamma=0.3, colsample_bytree=0.85 -   0.2s\n",
      "[CV] subsample=0.85, reg_alpha=0.01, n_estimators=30, min_child_weight=5, max_depth=9, learning_rate=0.15, gamma=0.1, colsample_bytree=0.8 \n",
      "[CV]  subsample=0.85, reg_alpha=0.01, n_estimators=30, min_child_weight=5, max_depth=9, learning_rate=0.15, gamma=0.1, colsample_bytree=0.8 -   0.0s\n",
      "[CV] subsample=0.85, reg_alpha=0.01, n_estimators=30, min_child_weight=5, max_depth=9, learning_rate=0.15, gamma=0.1, colsample_bytree=0.8 \n",
      "[CV]  subsample=0.85, reg_alpha=0.01, n_estimators=30, min_child_weight=5, max_depth=9, learning_rate=0.15, gamma=0.1, colsample_bytree=0.8 -   0.0s\n",
      "[CV] subsample=0.85, reg_alpha=0.01, n_estimators=30, min_child_weight=5, max_depth=9, learning_rate=0.15, gamma=0.1, colsample_bytree=0.8 \n",
      "[CV]  subsample=0.85, reg_alpha=0.01, n_estimators=30, min_child_weight=5, max_depth=9, learning_rate=0.15, gamma=0.1, colsample_bytree=0.8 -   0.0s\n",
      "[CV] subsample=0.85, reg_alpha=0.01, n_estimators=30, min_child_weight=5, max_depth=9, learning_rate=0.15, gamma=0.1, colsample_bytree=0.8 \n",
      "[CV]  subsample=0.85, reg_alpha=0.01, n_estimators=30, min_child_weight=5, max_depth=9, learning_rate=0.15, gamma=0.1, colsample_bytree=0.8 -   0.0s\n",
      "[CV] subsample=0.85, reg_alpha=0.01, n_estimators=30, min_child_weight=5, max_depth=9, learning_rate=0.15, gamma=0.1, colsample_bytree=0.8 \n",
      "[CV]  subsample=0.85, reg_alpha=0.01, n_estimators=30, min_child_weight=5, max_depth=9, learning_rate=0.15, gamma=0.1, colsample_bytree=0.8 -   0.0s\n",
      "[CV] subsample=0.85, reg_alpha=0.005, n_estimators=300, min_child_weight=1, max_depth=3, learning_rate=0.05, gamma=0.1, colsample_bytree=0.85 \n"
     ]
    },
    {
     "name": "stderr",
     "output_type": "stream",
     "text": [
      "C:\\Users\\DELL PC\\Anaconda3\\lib\\site-packages\\sklearn\\preprocessing\\label.py:171: DeprecationWarning: The truth value of an empty array is ambiguous. Returning False, but in future this will result in an error. Use `array.size > 0` to check that an array is not empty.\n",
      "  if diff:\n",
      "C:\\Users\\DELL PC\\Anaconda3\\lib\\site-packages\\sklearn\\preprocessing\\label.py:171: DeprecationWarning: The truth value of an empty array is ambiguous. Returning False, but in future this will result in an error. Use `array.size > 0` to check that an array is not empty.\n",
      "  if diff:\n"
     ]
    },
    {
     "name": "stdout",
     "output_type": "stream",
     "text": [
      "[CV]  subsample=0.85, reg_alpha=0.005, n_estimators=300, min_child_weight=1, max_depth=3, learning_rate=0.05, gamma=0.1, colsample_bytree=0.85 -   0.1s\n",
      "[CV] subsample=0.85, reg_alpha=0.005, n_estimators=300, min_child_weight=1, max_depth=3, learning_rate=0.05, gamma=0.1, colsample_bytree=0.85 \n",
      "[CV]  subsample=0.85, reg_alpha=0.005, n_estimators=300, min_child_weight=1, max_depth=3, learning_rate=0.05, gamma=0.1, colsample_bytree=0.85 -   0.1s\n",
      "[CV] subsample=0.85, reg_alpha=0.005, n_estimators=300, min_child_weight=1, max_depth=3, learning_rate=0.05, gamma=0.1, colsample_bytree=0.85 \n"
     ]
    },
    {
     "name": "stderr",
     "output_type": "stream",
     "text": [
      "C:\\Users\\DELL PC\\Anaconda3\\lib\\site-packages\\sklearn\\preprocessing\\label.py:171: DeprecationWarning: The truth value of an empty array is ambiguous. Returning False, but in future this will result in an error. Use `array.size > 0` to check that an array is not empty.\n",
      "  if diff:\n",
      "C:\\Users\\DELL PC\\Anaconda3\\lib\\site-packages\\sklearn\\preprocessing\\label.py:171: DeprecationWarning: The truth value of an empty array is ambiguous. Returning False, but in future this will result in an error. Use `array.size > 0` to check that an array is not empty.\n",
      "  if diff:\n"
     ]
    },
    {
     "name": "stdout",
     "output_type": "stream",
     "text": [
      "[CV]  subsample=0.85, reg_alpha=0.005, n_estimators=300, min_child_weight=1, max_depth=3, learning_rate=0.05, gamma=0.1, colsample_bytree=0.85 -   0.1s\n",
      "[CV] subsample=0.85, reg_alpha=0.005, n_estimators=300, min_child_weight=1, max_depth=3, learning_rate=0.05, gamma=0.1, colsample_bytree=0.85 \n",
      "[CV]  subsample=0.85, reg_alpha=0.005, n_estimators=300, min_child_weight=1, max_depth=3, learning_rate=0.05, gamma=0.1, colsample_bytree=0.85 -   0.1s\n",
      "[CV] subsample=0.85, reg_alpha=0.005, n_estimators=300, min_child_weight=1, max_depth=3, learning_rate=0.05, gamma=0.1, colsample_bytree=0.85 \n"
     ]
    },
    {
     "name": "stderr",
     "output_type": "stream",
     "text": [
      "C:\\Users\\DELL PC\\Anaconda3\\lib\\site-packages\\sklearn\\preprocessing\\label.py:171: DeprecationWarning: The truth value of an empty array is ambiguous. Returning False, but in future this will result in an error. Use `array.size > 0` to check that an array is not empty.\n",
      "  if diff:\n",
      "C:\\Users\\DELL PC\\Anaconda3\\lib\\site-packages\\sklearn\\preprocessing\\label.py:171: DeprecationWarning: The truth value of an empty array is ambiguous. Returning False, but in future this will result in an error. Use `array.size > 0` to check that an array is not empty.\n",
      "  if diff:\n",
      "C:\\Users\\DELL PC\\Anaconda3\\lib\\site-packages\\sklearn\\preprocessing\\label.py:171: DeprecationWarning: The truth value of an empty array is ambiguous. Returning False, but in future this will result in an error. Use `array.size > 0` to check that an array is not empty.\n",
      "  if diff:\n"
     ]
    },
    {
     "name": "stdout",
     "output_type": "stream",
     "text": [
      "[CV]  subsample=0.85, reg_alpha=0.005, n_estimators=300, min_child_weight=1, max_depth=3, learning_rate=0.05, gamma=0.1, colsample_bytree=0.85 -   0.1s\n",
      "[CV] subsample=0.8, reg_alpha=0, n_estimators=100, min_child_weight=1, max_depth=5, learning_rate=0.01, gamma=0.3, colsample_bytree=0.85 \n",
      "[CV]  subsample=0.8, reg_alpha=0, n_estimators=100, min_child_weight=1, max_depth=5, learning_rate=0.01, gamma=0.3, colsample_bytree=0.85 -   0.0s\n",
      "[CV] subsample=0.8, reg_alpha=0, n_estimators=100, min_child_weight=1, max_depth=5, learning_rate=0.01, gamma=0.3, colsample_bytree=0.85 \n",
      "[CV]  subsample=0.8, reg_alpha=0, n_estimators=100, min_child_weight=1, max_depth=5, learning_rate=0.01, gamma=0.3, colsample_bytree=0.85 -   0.0s\n",
      "[CV] subsample=0.8, reg_alpha=0, n_estimators=100, min_child_weight=1, max_depth=5, learning_rate=0.01, gamma=0.3, colsample_bytree=0.85 \n"
     ]
    },
    {
     "name": "stderr",
     "output_type": "stream",
     "text": [
      "C:\\Users\\DELL PC\\Anaconda3\\lib\\site-packages\\sklearn\\preprocessing\\label.py:171: DeprecationWarning: The truth value of an empty array is ambiguous. Returning False, but in future this will result in an error. Use `array.size > 0` to check that an array is not empty.\n",
      "  if diff:\n",
      "C:\\Users\\DELL PC\\Anaconda3\\lib\\site-packages\\sklearn\\preprocessing\\label.py:171: DeprecationWarning: The truth value of an empty array is ambiguous. Returning False, but in future this will result in an error. Use `array.size > 0` to check that an array is not empty.\n",
      "  if diff:\n",
      "C:\\Users\\DELL PC\\Anaconda3\\lib\\site-packages\\sklearn\\preprocessing\\label.py:171: DeprecationWarning: The truth value of an empty array is ambiguous. Returning False, but in future this will result in an error. Use `array.size > 0` to check that an array is not empty.\n",
      "  if diff:\n"
     ]
    },
    {
     "name": "stdout",
     "output_type": "stream",
     "text": [
      "[CV]  subsample=0.8, reg_alpha=0, n_estimators=100, min_child_weight=1, max_depth=5, learning_rate=0.01, gamma=0.3, colsample_bytree=0.85 -   0.0s\n",
      "[CV] subsample=0.8, reg_alpha=0, n_estimators=100, min_child_weight=1, max_depth=5, learning_rate=0.01, gamma=0.3, colsample_bytree=0.85 \n",
      "[CV]  subsample=0.8, reg_alpha=0, n_estimators=100, min_child_weight=1, max_depth=5, learning_rate=0.01, gamma=0.3, colsample_bytree=0.85 -   0.0s\n",
      "[CV] subsample=0.8, reg_alpha=0, n_estimators=100, min_child_weight=1, max_depth=5, learning_rate=0.01, gamma=0.3, colsample_bytree=0.85 \n",
      "[CV]  subsample=0.8, reg_alpha=0, n_estimators=100, min_child_weight=1, max_depth=5, learning_rate=0.01, gamma=0.3, colsample_bytree=0.85 -   0.0s\n",
      "[CV] subsample=0.75, reg_alpha=1e-05, n_estimators=1000, min_child_weight=1, max_depth=10, learning_rate=0.05, gamma=0.0, colsample_bytree=0.8 \n"
     ]
    },
    {
     "name": "stderr",
     "output_type": "stream",
     "text": [
      "C:\\Users\\DELL PC\\Anaconda3\\lib\\site-packages\\sklearn\\preprocessing\\label.py:171: DeprecationWarning: The truth value of an empty array is ambiguous. Returning False, but in future this will result in an error. Use `array.size > 0` to check that an array is not empty.\n",
      "  if diff:\n"
     ]
    },
    {
     "name": "stdout",
     "output_type": "stream",
     "text": [
      "[CV]  subsample=0.75, reg_alpha=1e-05, n_estimators=1000, min_child_weight=1, max_depth=10, learning_rate=0.05, gamma=0.0, colsample_bytree=0.8 -   0.8s\n",
      "[CV] subsample=0.75, reg_alpha=1e-05, n_estimators=1000, min_child_weight=1, max_depth=10, learning_rate=0.05, gamma=0.0, colsample_bytree=0.8 \n"
     ]
    },
    {
     "name": "stderr",
     "output_type": "stream",
     "text": [
      "C:\\Users\\DELL PC\\Anaconda3\\lib\\site-packages\\sklearn\\preprocessing\\label.py:171: DeprecationWarning: The truth value of an empty array is ambiguous. Returning False, but in future this will result in an error. Use `array.size > 0` to check that an array is not empty.\n",
      "  if diff:\n"
     ]
    },
    {
     "name": "stdout",
     "output_type": "stream",
     "text": [
      "[CV]  subsample=0.75, reg_alpha=1e-05, n_estimators=1000, min_child_weight=1, max_depth=10, learning_rate=0.05, gamma=0.0, colsample_bytree=0.8 -   0.6s\n",
      "[CV] subsample=0.75, reg_alpha=1e-05, n_estimators=1000, min_child_weight=1, max_depth=10, learning_rate=0.05, gamma=0.0, colsample_bytree=0.8 \n"
     ]
    },
    {
     "name": "stderr",
     "output_type": "stream",
     "text": [
      "C:\\Users\\DELL PC\\Anaconda3\\lib\\site-packages\\sklearn\\preprocessing\\label.py:171: DeprecationWarning: The truth value of an empty array is ambiguous. Returning False, but in future this will result in an error. Use `array.size > 0` to check that an array is not empty.\n",
      "  if diff:\n"
     ]
    },
    {
     "name": "stdout",
     "output_type": "stream",
     "text": [
      "[CV]  subsample=0.75, reg_alpha=1e-05, n_estimators=1000, min_child_weight=1, max_depth=10, learning_rate=0.05, gamma=0.0, colsample_bytree=0.8 -   0.9s\n",
      "[CV] subsample=0.75, reg_alpha=1e-05, n_estimators=1000, min_child_weight=1, max_depth=10, learning_rate=0.05, gamma=0.0, colsample_bytree=0.8 \n"
     ]
    },
    {
     "name": "stderr",
     "output_type": "stream",
     "text": [
      "C:\\Users\\DELL PC\\Anaconda3\\lib\\site-packages\\sklearn\\preprocessing\\label.py:171: DeprecationWarning: The truth value of an empty array is ambiguous. Returning False, but in future this will result in an error. Use `array.size > 0` to check that an array is not empty.\n",
      "  if diff:\n"
     ]
    },
    {
     "name": "stdout",
     "output_type": "stream",
     "text": [
      "[CV]  subsample=0.75, reg_alpha=1e-05, n_estimators=1000, min_child_weight=1, max_depth=10, learning_rate=0.05, gamma=0.0, colsample_bytree=0.8 -   1.1s\n",
      "[CV] subsample=0.75, reg_alpha=1e-05, n_estimators=1000, min_child_weight=1, max_depth=10, learning_rate=0.05, gamma=0.0, colsample_bytree=0.8 \n"
     ]
    },
    {
     "name": "stderr",
     "output_type": "stream",
     "text": [
      "C:\\Users\\DELL PC\\Anaconda3\\lib\\site-packages\\sklearn\\preprocessing\\label.py:171: DeprecationWarning: The truth value of an empty array is ambiguous. Returning False, but in future this will result in an error. Use `array.size > 0` to check that an array is not empty.\n",
      "  if diff:\n",
      "C:\\Users\\DELL PC\\Anaconda3\\lib\\site-packages\\sklearn\\preprocessing\\label.py:171: DeprecationWarning: The truth value of an empty array is ambiguous. Returning False, but in future this will result in an error. Use `array.size > 0` to check that an array is not empty.\n",
      "  if diff:\n",
      "C:\\Users\\DELL PC\\Anaconda3\\lib\\site-packages\\sklearn\\preprocessing\\label.py:171: DeprecationWarning: The truth value of an empty array is ambiguous. Returning False, but in future this will result in an error. Use `array.size > 0` to check that an array is not empty.\n",
      "  if diff:\n"
     ]
    },
    {
     "name": "stdout",
     "output_type": "stream",
     "text": [
      "[CV]  subsample=0.75, reg_alpha=1e-05, n_estimators=1000, min_child_weight=1, max_depth=10, learning_rate=0.05, gamma=0.0, colsample_bytree=0.8 -   1.1s\n",
      "[CV] subsample=0.8, reg_alpha=0.1, n_estimators=200, min_child_weight=5, max_depth=4, learning_rate=0.25, gamma=0.2, colsample_bytree=0.85 \n",
      "[CV]  subsample=0.8, reg_alpha=0.1, n_estimators=200, min_child_weight=5, max_depth=4, learning_rate=0.25, gamma=0.2, colsample_bytree=0.85 -   0.0s\n",
      "[CV] subsample=0.8, reg_alpha=0.1, n_estimators=200, min_child_weight=5, max_depth=4, learning_rate=0.25, gamma=0.2, colsample_bytree=0.85 \n",
      "[CV]  subsample=0.8, reg_alpha=0.1, n_estimators=200, min_child_weight=5, max_depth=4, learning_rate=0.25, gamma=0.2, colsample_bytree=0.85 -   0.0s\n",
      "[CV] subsample=0.8, reg_alpha=0.1, n_estimators=200, min_child_weight=5, max_depth=4, learning_rate=0.25, gamma=0.2, colsample_bytree=0.85 \n"
     ]
    },
    {
     "name": "stderr",
     "output_type": "stream",
     "text": [
      "C:\\Users\\DELL PC\\Anaconda3\\lib\\site-packages\\sklearn\\preprocessing\\label.py:171: DeprecationWarning: The truth value of an empty array is ambiguous. Returning False, but in future this will result in an error. Use `array.size > 0` to check that an array is not empty.\n",
      "  if diff:\n",
      "C:\\Users\\DELL PC\\Anaconda3\\lib\\site-packages\\sklearn\\preprocessing\\label.py:171: DeprecationWarning: The truth value of an empty array is ambiguous. Returning False, but in future this will result in an error. Use `array.size > 0` to check that an array is not empty.\n",
      "  if diff:\n",
      "C:\\Users\\DELL PC\\Anaconda3\\lib\\site-packages\\sklearn\\preprocessing\\label.py:171: DeprecationWarning: The truth value of an empty array is ambiguous. Returning False, but in future this will result in an error. Use `array.size > 0` to check that an array is not empty.\n",
      "  if diff:\n",
      "C:\\Users\\DELL PC\\Anaconda3\\lib\\site-packages\\sklearn\\preprocessing\\label.py:171: DeprecationWarning: The truth value of an empty array is ambiguous. Returning False, but in future this will result in an error. Use `array.size > 0` to check that an array is not empty.\n",
      "  if diff:\n",
      "C:\\Users\\DELL PC\\Anaconda3\\lib\\site-packages\\sklearn\\preprocessing\\label.py:171: DeprecationWarning: The truth value of an empty array is ambiguous. Returning False, but in future this will result in an error. Use `array.size > 0` to check that an array is not empty.\n",
      "  if diff:\n",
      "C:\\Users\\DELL PC\\Anaconda3\\lib\\site-packages\\sklearn\\preprocessing\\label.py:171: DeprecationWarning: The truth value of an empty array is ambiguous. Returning False, but in future this will result in an error. Use `array.size > 0` to check that an array is not empty.\n",
      "  if diff:\n",
      "C:\\Users\\DELL PC\\Anaconda3\\lib\\site-packages\\sklearn\\preprocessing\\label.py:171: DeprecationWarning: The truth value of an empty array is ambiguous. Returning False, but in future this will result in an error. Use `array.size > 0` to check that an array is not empty.\n",
      "  if diff:\n",
      "C:\\Users\\DELL PC\\Anaconda3\\lib\\site-packages\\sklearn\\preprocessing\\label.py:171: DeprecationWarning: The truth value of an empty array is ambiguous. Returning False, but in future this will result in an error. Use `array.size > 0` to check that an array is not empty.\n",
      "  if diff:\n"
     ]
    },
    {
     "name": "stdout",
     "output_type": "stream",
     "text": [
      "[CV]  subsample=0.8, reg_alpha=0.1, n_estimators=200, min_child_weight=5, max_depth=4, learning_rate=0.25, gamma=0.2, colsample_bytree=0.85 -   0.0s\n",
      "[CV] subsample=0.8, reg_alpha=0.1, n_estimators=200, min_child_weight=5, max_depth=4, learning_rate=0.25, gamma=0.2, colsample_bytree=0.85 \n",
      "[CV]  subsample=0.8, reg_alpha=0.1, n_estimators=200, min_child_weight=5, max_depth=4, learning_rate=0.25, gamma=0.2, colsample_bytree=0.85 -   0.0s\n",
      "[CV] subsample=0.8, reg_alpha=0.1, n_estimators=200, min_child_weight=5, max_depth=4, learning_rate=0.25, gamma=0.2, colsample_bytree=0.85 \n",
      "[CV]  subsample=0.8, reg_alpha=0.1, n_estimators=200, min_child_weight=5, max_depth=4, learning_rate=0.25, gamma=0.2, colsample_bytree=0.85 -   0.0s\n",
      "[CV] subsample=0.75, reg_alpha=0.01, n_estimators=10, min_child_weight=5, max_depth=3, learning_rate=0.05, gamma=0.2, colsample_bytree=0.8 \n",
      "[CV]  subsample=0.75, reg_alpha=0.01, n_estimators=10, min_child_weight=5, max_depth=3, learning_rate=0.05, gamma=0.2, colsample_bytree=0.8 -   0.0s\n",
      "[CV] subsample=0.75, reg_alpha=0.01, n_estimators=10, min_child_weight=5, max_depth=3, learning_rate=0.05, gamma=0.2, colsample_bytree=0.8 \n",
      "[CV]  subsample=0.75, reg_alpha=0.01, n_estimators=10, min_child_weight=5, max_depth=3, learning_rate=0.05, gamma=0.2, colsample_bytree=0.8 -   0.0s\n",
      "[CV] subsample=0.75, reg_alpha=0.01, n_estimators=10, min_child_weight=5, max_depth=3, learning_rate=0.05, gamma=0.2, colsample_bytree=0.8 \n",
      "[CV]  subsample=0.75, reg_alpha=0.01, n_estimators=10, min_child_weight=5, max_depth=3, learning_rate=0.05, gamma=0.2, colsample_bytree=0.8 -   0.0s\n",
      "[CV] subsample=0.75, reg_alpha=0.01, n_estimators=10, min_child_weight=5, max_depth=3, learning_rate=0.05, gamma=0.2, colsample_bytree=0.8 \n",
      "[CV]  subsample=0.75, reg_alpha=0.01, n_estimators=10, min_child_weight=5, max_depth=3, learning_rate=0.05, gamma=0.2, colsample_bytree=0.8 -   0.0s\n",
      "[CV] subsample=0.75, reg_alpha=0.01, n_estimators=10, min_child_weight=5, max_depth=3, learning_rate=0.05, gamma=0.2, colsample_bytree=0.8 \n",
      "[CV]  subsample=0.75, reg_alpha=0.01, n_estimators=10, min_child_weight=5, max_depth=3, learning_rate=0.05, gamma=0.2, colsample_bytree=0.8 -   0.0s\n",
      "[CV] subsample=0.75, reg_alpha=100, n_estimators=100, min_child_weight=9, max_depth=3, learning_rate=0.001, gamma=0.3, colsample_bytree=0.75 \n"
     ]
    },
    {
     "name": "stderr",
     "output_type": "stream",
     "text": [
      "C:\\Users\\DELL PC\\Anaconda3\\lib\\site-packages\\sklearn\\preprocessing\\label.py:171: DeprecationWarning: The truth value of an empty array is ambiguous. Returning False, but in future this will result in an error. Use `array.size > 0` to check that an array is not empty.\n",
      "  if diff:\n",
      "C:\\Users\\DELL PC\\Anaconda3\\lib\\site-packages\\sklearn\\preprocessing\\label.py:171: DeprecationWarning: The truth value of an empty array is ambiguous. Returning False, but in future this will result in an error. Use `array.size > 0` to check that an array is not empty.\n",
      "  if diff:\n",
      "C:\\Users\\DELL PC\\Anaconda3\\lib\\site-packages\\sklearn\\preprocessing\\label.py:171: DeprecationWarning: The truth value of an empty array is ambiguous. Returning False, but in future this will result in an error. Use `array.size > 0` to check that an array is not empty.\n",
      "  if diff:\n",
      "C:\\Users\\DELL PC\\Anaconda3\\lib\\site-packages\\sklearn\\preprocessing\\label.py:171: DeprecationWarning: The truth value of an empty array is ambiguous. Returning False, but in future this will result in an error. Use `array.size > 0` to check that an array is not empty.\n",
      "  if diff:\n",
      "C:\\Users\\DELL PC\\Anaconda3\\lib\\site-packages\\sklearn\\preprocessing\\label.py:171: DeprecationWarning: The truth value of an empty array is ambiguous. Returning False, but in future this will result in an error. Use `array.size > 0` to check that an array is not empty.\n",
      "  if diff:\n"
     ]
    },
    {
     "name": "stdout",
     "output_type": "stream",
     "text": [
      "[CV]  subsample=0.75, reg_alpha=100, n_estimators=100, min_child_weight=9, max_depth=3, learning_rate=0.001, gamma=0.3, colsample_bytree=0.75 -   0.0s\n",
      "[CV] subsample=0.75, reg_alpha=100, n_estimators=100, min_child_weight=9, max_depth=3, learning_rate=0.001, gamma=0.3, colsample_bytree=0.75 \n",
      "[CV]  subsample=0.75, reg_alpha=100, n_estimators=100, min_child_weight=9, max_depth=3, learning_rate=0.001, gamma=0.3, colsample_bytree=0.75 -   0.0s\n",
      "[CV] subsample=0.75, reg_alpha=100, n_estimators=100, min_child_weight=9, max_depth=3, learning_rate=0.001, gamma=0.3, colsample_bytree=0.75 \n",
      "[CV]  subsample=0.75, reg_alpha=100, n_estimators=100, min_child_weight=9, max_depth=3, learning_rate=0.001, gamma=0.3, colsample_bytree=0.75 -   0.0s\n",
      "[CV] subsample=0.75, reg_alpha=100, n_estimators=100, min_child_weight=9, max_depth=3, learning_rate=0.001, gamma=0.3, colsample_bytree=0.75 \n",
      "[CV]  subsample=0.75, reg_alpha=100, n_estimators=100, min_child_weight=9, max_depth=3, learning_rate=0.001, gamma=0.3, colsample_bytree=0.75 -   0.0s\n",
      "[CV] subsample=0.75, reg_alpha=100, n_estimators=100, min_child_weight=9, max_depth=3, learning_rate=0.001, gamma=0.3, colsample_bytree=0.75 \n",
      "[CV]  subsample=0.75, reg_alpha=100, n_estimators=100, min_child_weight=9, max_depth=3, learning_rate=0.001, gamma=0.3, colsample_bytree=0.75 -   0.0s\n",
      "[CV] subsample=0.85, reg_alpha=1e-05, n_estimators=300, min_child_weight=1, max_depth=8, learning_rate=0.25, gamma=0.3, colsample_bytree=0.8 \n"
     ]
    },
    {
     "name": "stderr",
     "output_type": "stream",
     "text": [
      "C:\\Users\\DELL PC\\Anaconda3\\lib\\site-packages\\sklearn\\preprocessing\\label.py:171: DeprecationWarning: The truth value of an empty array is ambiguous. Returning False, but in future this will result in an error. Use `array.size > 0` to check that an array is not empty.\n",
      "  if diff:\n"
     ]
    },
    {
     "name": "stdout",
     "output_type": "stream",
     "text": [
      "[CV]  subsample=0.85, reg_alpha=1e-05, n_estimators=300, min_child_weight=1, max_depth=8, learning_rate=0.25, gamma=0.3, colsample_bytree=0.8 -   0.1s\n",
      "[CV] subsample=0.85, reg_alpha=1e-05, n_estimators=300, min_child_weight=1, max_depth=8, learning_rate=0.25, gamma=0.3, colsample_bytree=0.8 \n"
     ]
    },
    {
     "name": "stderr",
     "output_type": "stream",
     "text": [
      "C:\\Users\\DELL PC\\Anaconda3\\lib\\site-packages\\sklearn\\preprocessing\\label.py:171: DeprecationWarning: The truth value of an empty array is ambiguous. Returning False, but in future this will result in an error. Use `array.size > 0` to check that an array is not empty.\n",
      "  if diff:\n",
      "C:\\Users\\DELL PC\\Anaconda3\\lib\\site-packages\\sklearn\\preprocessing\\label.py:171: DeprecationWarning: The truth value of an empty array is ambiguous. Returning False, but in future this will result in an error. Use `array.size > 0` to check that an array is not empty.\n",
      "  if diff:\n"
     ]
    },
    {
     "name": "stdout",
     "output_type": "stream",
     "text": [
      "[CV]  subsample=0.85, reg_alpha=1e-05, n_estimators=300, min_child_weight=1, max_depth=8, learning_rate=0.25, gamma=0.3, colsample_bytree=0.8 -   0.1s\n",
      "[CV] subsample=0.85, reg_alpha=1e-05, n_estimators=300, min_child_weight=1, max_depth=8, learning_rate=0.25, gamma=0.3, colsample_bytree=0.8 \n"
     ]
    },
    {
     "name": "stderr",
     "output_type": "stream",
     "text": [
      "C:\\Users\\DELL PC\\Anaconda3\\lib\\site-packages\\sklearn\\preprocessing\\label.py:171: DeprecationWarning: The truth value of an empty array is ambiguous. Returning False, but in future this will result in an error. Use `array.size > 0` to check that an array is not empty.\n",
      "  if diff:\n"
     ]
    },
    {
     "name": "stdout",
     "output_type": "stream",
     "text": [
      "[CV]  subsample=0.85, reg_alpha=1e-05, n_estimators=300, min_child_weight=1, max_depth=8, learning_rate=0.25, gamma=0.3, colsample_bytree=0.8 -   0.1s\n",
      "[CV] subsample=0.85, reg_alpha=1e-05, n_estimators=300, min_child_weight=1, max_depth=8, learning_rate=0.25, gamma=0.3, colsample_bytree=0.8 \n",
      "[CV]  subsample=0.85, reg_alpha=1e-05, n_estimators=300, min_child_weight=1, max_depth=8, learning_rate=0.25, gamma=0.3, colsample_bytree=0.8 -   0.1s\n",
      "[CV] subsample=0.85, reg_alpha=1e-05, n_estimators=300, min_child_weight=1, max_depth=8, learning_rate=0.25, gamma=0.3, colsample_bytree=0.8 \n"
     ]
    },
    {
     "name": "stderr",
     "output_type": "stream",
     "text": [
      "C:\\Users\\DELL PC\\Anaconda3\\lib\\site-packages\\sklearn\\preprocessing\\label.py:171: DeprecationWarning: The truth value of an empty array is ambiguous. Returning False, but in future this will result in an error. Use `array.size > 0` to check that an array is not empty.\n",
      "  if diff:\n",
      "C:\\Users\\DELL PC\\Anaconda3\\lib\\site-packages\\sklearn\\preprocessing\\label.py:171: DeprecationWarning: The truth value of an empty array is ambiguous. Returning False, but in future this will result in an error. Use `array.size > 0` to check that an array is not empty.\n",
      "  if diff:\n",
      "C:\\Users\\DELL PC\\Anaconda3\\lib\\site-packages\\sklearn\\preprocessing\\label.py:171: DeprecationWarning: The truth value of an empty array is ambiguous. Returning False, but in future this will result in an error. Use `array.size > 0` to check that an array is not empty.\n",
      "  if diff:\n",
      "C:\\Users\\DELL PC\\Anaconda3\\lib\\site-packages\\sklearn\\preprocessing\\label.py:171: DeprecationWarning: The truth value of an empty array is ambiguous. Returning False, but in future this will result in an error. Use `array.size > 0` to check that an array is not empty.\n",
      "  if diff:\n",
      "C:\\Users\\DELL PC\\Anaconda3\\lib\\site-packages\\sklearn\\preprocessing\\label.py:171: DeprecationWarning: The truth value of an empty array is ambiguous. Returning False, but in future this will result in an error. Use `array.size > 0` to check that an array is not empty.\n",
      "  if diff:\n",
      "C:\\Users\\DELL PC\\Anaconda3\\lib\\site-packages\\sklearn\\preprocessing\\label.py:171: DeprecationWarning: The truth value of an empty array is ambiguous. Returning False, but in future this will result in an error. Use `array.size > 0` to check that an array is not empty.\n",
      "  if diff:\n",
      "C:\\Users\\DELL PC\\Anaconda3\\lib\\site-packages\\sklearn\\preprocessing\\label.py:171: DeprecationWarning: The truth value of an empty array is ambiguous. Returning False, but in future this will result in an error. Use `array.size > 0` to check that an array is not empty.\n",
      "  if diff:\n"
     ]
    },
    {
     "name": "stdout",
     "output_type": "stream",
     "text": [
      "[CV]  subsample=0.85, reg_alpha=1e-05, n_estimators=300, min_child_weight=1, max_depth=8, learning_rate=0.25, gamma=0.3, colsample_bytree=0.8 -   0.1s\n",
      "[CV] subsample=0.85, reg_alpha=1, n_estimators=60, min_child_weight=5, max_depth=3, learning_rate=0.21, gamma=0.1, colsample_bytree=0.75 \n",
      "[CV]  subsample=0.85, reg_alpha=1, n_estimators=60, min_child_weight=5, max_depth=3, learning_rate=0.21, gamma=0.1, colsample_bytree=0.75 -   0.0s\n",
      "[CV] subsample=0.85, reg_alpha=1, n_estimators=60, min_child_weight=5, max_depth=3, learning_rate=0.21, gamma=0.1, colsample_bytree=0.75 \n",
      "[CV]  subsample=0.85, reg_alpha=1, n_estimators=60, min_child_weight=5, max_depth=3, learning_rate=0.21, gamma=0.1, colsample_bytree=0.75 -   0.0s\n",
      "[CV] subsample=0.85, reg_alpha=1, n_estimators=60, min_child_weight=5, max_depth=3, learning_rate=0.21, gamma=0.1, colsample_bytree=0.75 \n",
      "[CV]  subsample=0.85, reg_alpha=1, n_estimators=60, min_child_weight=5, max_depth=3, learning_rate=0.21, gamma=0.1, colsample_bytree=0.75 -   0.0s\n",
      "[CV] subsample=0.85, reg_alpha=1, n_estimators=60, min_child_weight=5, max_depth=3, learning_rate=0.21, gamma=0.1, colsample_bytree=0.75 \n",
      "[CV]  subsample=0.85, reg_alpha=1, n_estimators=60, min_child_weight=5, max_depth=3, learning_rate=0.21, gamma=0.1, colsample_bytree=0.75 -   0.0s\n",
      "[CV] subsample=0.85, reg_alpha=1, n_estimators=60, min_child_weight=5, max_depth=3, learning_rate=0.21, gamma=0.1, colsample_bytree=0.75 \n",
      "[CV]  subsample=0.85, reg_alpha=1, n_estimators=60, min_child_weight=5, max_depth=3, learning_rate=0.21, gamma=0.1, colsample_bytree=0.75 -   0.0s\n",
      "[CV] subsample=0.8, reg_alpha=0.005, n_estimators=100, min_child_weight=5, max_depth=7, learning_rate=0.25, gamma=0.0, colsample_bytree=0.75 \n",
      "[CV]  subsample=0.8, reg_alpha=0.005, n_estimators=100, min_child_weight=5, max_depth=7, learning_rate=0.25, gamma=0.0, colsample_bytree=0.75 -   0.0s\n",
      "[CV] subsample=0.8, reg_alpha=0.005, n_estimators=100, min_child_weight=5, max_depth=7, learning_rate=0.25, gamma=0.0, colsample_bytree=0.75 \n"
     ]
    },
    {
     "name": "stderr",
     "output_type": "stream",
     "text": [
      "C:\\Users\\DELL PC\\Anaconda3\\lib\\site-packages\\sklearn\\preprocessing\\label.py:171: DeprecationWarning: The truth value of an empty array is ambiguous. Returning False, but in future this will result in an error. Use `array.size > 0` to check that an array is not empty.\n",
      "  if diff:\n",
      "C:\\Users\\DELL PC\\Anaconda3\\lib\\site-packages\\sklearn\\preprocessing\\label.py:171: DeprecationWarning: The truth value of an empty array is ambiguous. Returning False, but in future this will result in an error. Use `array.size > 0` to check that an array is not empty.\n",
      "  if diff:\n",
      "C:\\Users\\DELL PC\\Anaconda3\\lib\\site-packages\\sklearn\\preprocessing\\label.py:171: DeprecationWarning: The truth value of an empty array is ambiguous. Returning False, but in future this will result in an error. Use `array.size > 0` to check that an array is not empty.\n",
      "  if diff:\n",
      "C:\\Users\\DELL PC\\Anaconda3\\lib\\site-packages\\sklearn\\preprocessing\\label.py:171: DeprecationWarning: The truth value of an empty array is ambiguous. Returning False, but in future this will result in an error. Use `array.size > 0` to check that an array is not empty.\n",
      "  if diff:\n",
      "C:\\Users\\DELL PC\\Anaconda3\\lib\\site-packages\\sklearn\\preprocessing\\label.py:171: DeprecationWarning: The truth value of an empty array is ambiguous. Returning False, but in future this will result in an error. Use `array.size > 0` to check that an array is not empty.\n",
      "  if diff:\n",
      "C:\\Users\\DELL PC\\Anaconda3\\lib\\site-packages\\sklearn\\preprocessing\\label.py:171: DeprecationWarning: The truth value of an empty array is ambiguous. Returning False, but in future this will result in an error. Use `array.size > 0` to check that an array is not empty.\n",
      "  if diff:\n",
      "C:\\Users\\DELL PC\\Anaconda3\\lib\\site-packages\\sklearn\\preprocessing\\label.py:171: DeprecationWarning: The truth value of an empty array is ambiguous. Returning False, but in future this will result in an error. Use `array.size > 0` to check that an array is not empty.\n",
      "  if diff:\n",
      "C:\\Users\\DELL PC\\Anaconda3\\lib\\site-packages\\sklearn\\preprocessing\\label.py:171: DeprecationWarning: The truth value of an empty array is ambiguous. Returning False, but in future this will result in an error. Use `array.size > 0` to check that an array is not empty.\n",
      "  if diff:\n"
     ]
    },
    {
     "name": "stdout",
     "output_type": "stream",
     "text": [
      "[CV]  subsample=0.8, reg_alpha=0.005, n_estimators=100, min_child_weight=5, max_depth=7, learning_rate=0.25, gamma=0.0, colsample_bytree=0.75 -   0.0s\n",
      "[CV] subsample=0.8, reg_alpha=0.005, n_estimators=100, min_child_weight=5, max_depth=7, learning_rate=0.25, gamma=0.0, colsample_bytree=0.75 \n",
      "[CV]  subsample=0.8, reg_alpha=0.005, n_estimators=100, min_child_weight=5, max_depth=7, learning_rate=0.25, gamma=0.0, colsample_bytree=0.75 -   0.0s\n",
      "[CV] subsample=0.8, reg_alpha=0.005, n_estimators=100, min_child_weight=5, max_depth=7, learning_rate=0.25, gamma=0.0, colsample_bytree=0.75 \n",
      "[CV]  subsample=0.8, reg_alpha=0.005, n_estimators=100, min_child_weight=5, max_depth=7, learning_rate=0.25, gamma=0.0, colsample_bytree=0.75 -   0.0s\n",
      "[CV] subsample=0.8, reg_alpha=0.005, n_estimators=100, min_child_weight=5, max_depth=7, learning_rate=0.25, gamma=0.0, colsample_bytree=0.75 \n",
      "[CV]  subsample=0.8, reg_alpha=0.005, n_estimators=100, min_child_weight=5, max_depth=7, learning_rate=0.25, gamma=0.0, colsample_bytree=0.75 -   0.0s\n",
      "[CV] subsample=0.85, reg_alpha=0.05, n_estimators=10, min_child_weight=1, max_depth=3, learning_rate=0.15, gamma=0.0, colsample_bytree=0.75 \n",
      "[CV]  subsample=0.85, reg_alpha=0.05, n_estimators=10, min_child_weight=1, max_depth=3, learning_rate=0.15, gamma=0.0, colsample_bytree=0.75 -   0.0s\n",
      "[CV] subsample=0.85, reg_alpha=0.05, n_estimators=10, min_child_weight=1, max_depth=3, learning_rate=0.15, gamma=0.0, colsample_bytree=0.75 \n",
      "[CV]  subsample=0.85, reg_alpha=0.05, n_estimators=10, min_child_weight=1, max_depth=3, learning_rate=0.15, gamma=0.0, colsample_bytree=0.75 -   0.0s\n",
      "[CV] subsample=0.85, reg_alpha=0.05, n_estimators=10, min_child_weight=1, max_depth=3, learning_rate=0.15, gamma=0.0, colsample_bytree=0.75 \n",
      "[CV]  subsample=0.85, reg_alpha=0.05, n_estimators=10, min_child_weight=1, max_depth=3, learning_rate=0.15, gamma=0.0, colsample_bytree=0.75 -   0.0s\n",
      "[CV] subsample=0.85, reg_alpha=0.05, n_estimators=10, min_child_weight=1, max_depth=3, learning_rate=0.15, gamma=0.0, colsample_bytree=0.75 \n",
      "[CV]  subsample=0.85, reg_alpha=0.05, n_estimators=10, min_child_weight=1, max_depth=3, learning_rate=0.15, gamma=0.0, colsample_bytree=0.75 -   0.0s\n",
      "[CV] subsample=0.85, reg_alpha=0.05, n_estimators=10, min_child_weight=1, max_depth=3, learning_rate=0.15, gamma=0.0, colsample_bytree=0.75 \n",
      "[CV]  subsample=0.85, reg_alpha=0.05, n_estimators=10, min_child_weight=1, max_depth=3, learning_rate=0.15, gamma=0.0, colsample_bytree=0.75 -   0.0s\n"
     ]
    },
    {
     "name": "stderr",
     "output_type": "stream",
     "text": [
      "C:\\Users\\DELL PC\\Anaconda3\\lib\\site-packages\\sklearn\\preprocessing\\label.py:171: DeprecationWarning: The truth value of an empty array is ambiguous. Returning False, but in future this will result in an error. Use `array.size > 0` to check that an array is not empty.\n",
      "  if diff:\n",
      "C:\\Users\\DELL PC\\Anaconda3\\lib\\site-packages\\sklearn\\preprocessing\\label.py:171: DeprecationWarning: The truth value of an empty array is ambiguous. Returning False, but in future this will result in an error. Use `array.size > 0` to check that an array is not empty.\n",
      "  if diff:\n",
      "C:\\Users\\DELL PC\\Anaconda3\\lib\\site-packages\\sklearn\\preprocessing\\label.py:171: DeprecationWarning: The truth value of an empty array is ambiguous. Returning False, but in future this will result in an error. Use `array.size > 0` to check that an array is not empty.\n",
      "  if diff:\n",
      "C:\\Users\\DELL PC\\Anaconda3\\lib\\site-packages\\sklearn\\preprocessing\\label.py:171: DeprecationWarning: The truth value of an empty array is ambiguous. Returning False, but in future this will result in an error. Use `array.size > 0` to check that an array is not empty.\n",
      "  if diff:\n",
      "C:\\Users\\DELL PC\\Anaconda3\\lib\\site-packages\\sklearn\\preprocessing\\label.py:171: DeprecationWarning: The truth value of an empty array is ambiguous. Returning False, but in future this will result in an error. Use `array.size > 0` to check that an array is not empty.\n",
      "  if diff:\n",
      "C:\\Users\\DELL PC\\Anaconda3\\lib\\site-packages\\sklearn\\preprocessing\\label.py:171: DeprecationWarning: The truth value of an empty array is ambiguous. Returning False, but in future this will result in an error. Use `array.size > 0` to check that an array is not empty.\n",
      "  if diff:\n",
      "C:\\Users\\DELL PC\\Anaconda3\\lib\\site-packages\\sklearn\\preprocessing\\label.py:171: DeprecationWarning: The truth value of an empty array is ambiguous. Returning False, but in future this will result in an error. Use `array.size > 0` to check that an array is not empty.\n",
      "  if diff:\n",
      "C:\\Users\\DELL PC\\Anaconda3\\lib\\site-packages\\sklearn\\preprocessing\\label.py:171: DeprecationWarning: The truth value of an empty array is ambiguous. Returning False, but in future this will result in an error. Use `array.size > 0` to check that an array is not empty.\n",
      "  if diff:\n",
      "C:\\Users\\DELL PC\\Anaconda3\\lib\\site-packages\\sklearn\\preprocessing\\label.py:171: DeprecationWarning: The truth value of an empty array is ambiguous. Returning False, but in future this will result in an error. Use `array.size > 0` to check that an array is not empty.\n",
      "  if diff:\n",
      "C:\\Users\\DELL PC\\Anaconda3\\lib\\site-packages\\sklearn\\preprocessing\\label.py:171: DeprecationWarning: The truth value of an empty array is ambiguous. Returning False, but in future this will result in an error. Use `array.size > 0` to check that an array is not empty.\n",
      "  if diff:\n",
      "C:\\Users\\DELL PC\\Anaconda3\\lib\\site-packages\\sklearn\\preprocessing\\label.py:171: DeprecationWarning: The truth value of an empty array is ambiguous. Returning False, but in future this will result in an error. Use `array.size > 0` to check that an array is not empty.\n",
      "  if diff:\n"
     ]
    },
    {
     "name": "stdout",
     "output_type": "stream",
     "text": [
      "[CV] subsample=0.85, reg_alpha=0, n_estimators=30, min_child_weight=9, max_depth=10, learning_rate=0.01, gamma=0.3, colsample_bytree=0.85 \n",
      "[CV]  subsample=0.85, reg_alpha=0, n_estimators=30, min_child_weight=9, max_depth=10, learning_rate=0.01, gamma=0.3, colsample_bytree=0.85 -   0.0s\n",
      "[CV] subsample=0.85, reg_alpha=0, n_estimators=30, min_child_weight=9, max_depth=10, learning_rate=0.01, gamma=0.3, colsample_bytree=0.85 \n",
      "[CV]  subsample=0.85, reg_alpha=0, n_estimators=30, min_child_weight=9, max_depth=10, learning_rate=0.01, gamma=0.3, colsample_bytree=0.85 -   0.0s\n",
      "[CV] subsample=0.85, reg_alpha=0, n_estimators=30, min_child_weight=9, max_depth=10, learning_rate=0.01, gamma=0.3, colsample_bytree=0.85 \n",
      "[CV]  subsample=0.85, reg_alpha=0, n_estimators=30, min_child_weight=9, max_depth=10, learning_rate=0.01, gamma=0.3, colsample_bytree=0.85 -   0.0s\n",
      "[CV] subsample=0.85, reg_alpha=0, n_estimators=30, min_child_weight=9, max_depth=10, learning_rate=0.01, gamma=0.3, colsample_bytree=0.85 \n",
      "[CV]  subsample=0.85, reg_alpha=0, n_estimators=30, min_child_weight=9, max_depth=10, learning_rate=0.01, gamma=0.3, colsample_bytree=0.85 -   0.0s\n",
      "[CV] subsample=0.85, reg_alpha=0, n_estimators=30, min_child_weight=9, max_depth=10, learning_rate=0.01, gamma=0.3, colsample_bytree=0.85 \n",
      "[CV]  subsample=0.85, reg_alpha=0, n_estimators=30, min_child_weight=9, max_depth=10, learning_rate=0.01, gamma=0.3, colsample_bytree=0.85 -   0.0s\n",
      "[CV] subsample=0.85, reg_alpha=0.05, n_estimators=30, min_child_weight=1, max_depth=4, learning_rate=0.001, gamma=0.0, colsample_bytree=0.75 \n",
      "[CV]  subsample=0.85, reg_alpha=0.05, n_estimators=30, min_child_weight=1, max_depth=4, learning_rate=0.001, gamma=0.0, colsample_bytree=0.75 -   0.0s\n",
      "[CV] subsample=0.85, reg_alpha=0.05, n_estimators=30, min_child_weight=1, max_depth=4, learning_rate=0.001, gamma=0.0, colsample_bytree=0.75 \n",
      "[CV]  subsample=0.85, reg_alpha=0.05, n_estimators=30, min_child_weight=1, max_depth=4, learning_rate=0.001, gamma=0.0, colsample_bytree=0.75 -   0.0s\n",
      "[CV] subsample=0.85, reg_alpha=0.05, n_estimators=30, min_child_weight=1, max_depth=4, learning_rate=0.001, gamma=0.0, colsample_bytree=0.75 \n",
      "[CV]  subsample=0.85, reg_alpha=0.05, n_estimators=30, min_child_weight=1, max_depth=4, learning_rate=0.001, gamma=0.0, colsample_bytree=0.75 -   0.0s\n",
      "[CV] subsample=0.85, reg_alpha=0.05, n_estimators=30, min_child_weight=1, max_depth=4, learning_rate=0.001, gamma=0.0, colsample_bytree=0.75 \n",
      "[CV]  subsample=0.85, reg_alpha=0.05, n_estimators=30, min_child_weight=1, max_depth=4, learning_rate=0.001, gamma=0.0, colsample_bytree=0.75 -   0.0s\n",
      "[CV] subsample=0.85, reg_alpha=0.05, n_estimators=30, min_child_weight=1, max_depth=4, learning_rate=0.001, gamma=0.0, colsample_bytree=0.75 \n",
      "[CV]  subsample=0.85, reg_alpha=0.05, n_estimators=30, min_child_weight=1, max_depth=4, learning_rate=0.001, gamma=0.0, colsample_bytree=0.75 -   0.0s\n",
      "[CV] subsample=0.85, reg_alpha=0.01, n_estimators=500, min_child_weight=1, max_depth=7, learning_rate=0.01, gamma=0.3, colsample_bytree=0.75 \n"
     ]
    },
    {
     "name": "stderr",
     "output_type": "stream",
     "text": [
      "C:\\Users\\DELL PC\\Anaconda3\\lib\\site-packages\\sklearn\\preprocessing\\label.py:171: DeprecationWarning: The truth value of an empty array is ambiguous. Returning False, but in future this will result in an error. Use `array.size > 0` to check that an array is not empty.\n",
      "  if diff:\n"
     ]
    },
    {
     "name": "stdout",
     "output_type": "stream",
     "text": [
      "[CV]  subsample=0.85, reg_alpha=0.01, n_estimators=500, min_child_weight=1, max_depth=7, learning_rate=0.01, gamma=0.3, colsample_bytree=0.75 -   0.2s\n",
      "[CV] subsample=0.85, reg_alpha=0.01, n_estimators=500, min_child_weight=1, max_depth=7, learning_rate=0.01, gamma=0.3, colsample_bytree=0.75 \n"
     ]
    },
    {
     "name": "stderr",
     "output_type": "stream",
     "text": [
      "C:\\Users\\DELL PC\\Anaconda3\\lib\\site-packages\\sklearn\\preprocessing\\label.py:171: DeprecationWarning: The truth value of an empty array is ambiguous. Returning False, but in future this will result in an error. Use `array.size > 0` to check that an array is not empty.\n",
      "  if diff:\n"
     ]
    },
    {
     "name": "stdout",
     "output_type": "stream",
     "text": [
      "[CV]  subsample=0.85, reg_alpha=0.01, n_estimators=500, min_child_weight=1, max_depth=7, learning_rate=0.01, gamma=0.3, colsample_bytree=0.75 -   0.2s\n",
      "[CV] subsample=0.85, reg_alpha=0.01, n_estimators=500, min_child_weight=1, max_depth=7, learning_rate=0.01, gamma=0.3, colsample_bytree=0.75 \n"
     ]
    },
    {
     "name": "stderr",
     "output_type": "stream",
     "text": [
      "C:\\Users\\DELL PC\\Anaconda3\\lib\\site-packages\\sklearn\\preprocessing\\label.py:171: DeprecationWarning: The truth value of an empty array is ambiguous. Returning False, but in future this will result in an error. Use `array.size > 0` to check that an array is not empty.\n",
      "  if diff:\n"
     ]
    },
    {
     "name": "stdout",
     "output_type": "stream",
     "text": [
      "[CV]  subsample=0.85, reg_alpha=0.01, n_estimators=500, min_child_weight=1, max_depth=7, learning_rate=0.01, gamma=0.3, colsample_bytree=0.75 -   0.3s\n",
      "[CV] subsample=0.85, reg_alpha=0.01, n_estimators=500, min_child_weight=1, max_depth=7, learning_rate=0.01, gamma=0.3, colsample_bytree=0.75 \n"
     ]
    },
    {
     "name": "stderr",
     "output_type": "stream",
     "text": [
      "C:\\Users\\DELL PC\\Anaconda3\\lib\\site-packages\\sklearn\\preprocessing\\label.py:171: DeprecationWarning: The truth value of an empty array is ambiguous. Returning False, but in future this will result in an error. Use `array.size > 0` to check that an array is not empty.\n",
      "  if diff:\n"
     ]
    },
    {
     "name": "stdout",
     "output_type": "stream",
     "text": [
      "[CV]  subsample=0.85, reg_alpha=0.01, n_estimators=500, min_child_weight=1, max_depth=7, learning_rate=0.01, gamma=0.3, colsample_bytree=0.75 -   0.4s\n",
      "[CV] subsample=0.85, reg_alpha=0.01, n_estimators=500, min_child_weight=1, max_depth=7, learning_rate=0.01, gamma=0.3, colsample_bytree=0.75 \n"
     ]
    },
    {
     "name": "stderr",
     "output_type": "stream",
     "text": [
      "C:\\Users\\DELL PC\\Anaconda3\\lib\\site-packages\\sklearn\\preprocessing\\label.py:171: DeprecationWarning: The truth value of an empty array is ambiguous. Returning False, but in future this will result in an error. Use `array.size > 0` to check that an array is not empty.\n",
      "  if diff:\n",
      "C:\\Users\\DELL PC\\Anaconda3\\lib\\site-packages\\sklearn\\preprocessing\\label.py:171: DeprecationWarning: The truth value of an empty array is ambiguous. Returning False, but in future this will result in an error. Use `array.size > 0` to check that an array is not empty.\n",
      "  if diff:\n"
     ]
    },
    {
     "name": "stdout",
     "output_type": "stream",
     "text": [
      "[CV]  subsample=0.85, reg_alpha=0.01, n_estimators=500, min_child_weight=1, max_depth=7, learning_rate=0.01, gamma=0.3, colsample_bytree=0.75 -   0.4s\n",
      "[CV] subsample=0.8, reg_alpha=0.001, n_estimators=100, min_child_weight=3, max_depth=7, learning_rate=0.1, gamma=0.4, colsample_bytree=0.8 \n",
      "[CV]  subsample=0.8, reg_alpha=0.001, n_estimators=100, min_child_weight=3, max_depth=7, learning_rate=0.1, gamma=0.4, colsample_bytree=0.8 -   0.0s\n",
      "[CV] subsample=0.8, reg_alpha=0.001, n_estimators=100, min_child_weight=3, max_depth=7, learning_rate=0.1, gamma=0.4, colsample_bytree=0.8 \n"
     ]
    },
    {
     "name": "stderr",
     "output_type": "stream",
     "text": [
      "C:\\Users\\DELL PC\\Anaconda3\\lib\\site-packages\\sklearn\\preprocessing\\label.py:171: DeprecationWarning: The truth value of an empty array is ambiguous. Returning False, but in future this will result in an error. Use `array.size > 0` to check that an array is not empty.\n",
      "  if diff:\n",
      "C:\\Users\\DELL PC\\Anaconda3\\lib\\site-packages\\sklearn\\preprocessing\\label.py:171: DeprecationWarning: The truth value of an empty array is ambiguous. Returning False, but in future this will result in an error. Use `array.size > 0` to check that an array is not empty.\n",
      "  if diff:\n"
     ]
    },
    {
     "name": "stdout",
     "output_type": "stream",
     "text": [
      "[CV]  subsample=0.8, reg_alpha=0.001, n_estimators=100, min_child_weight=3, max_depth=7, learning_rate=0.1, gamma=0.4, colsample_bytree=0.8 -   0.0s\n",
      "[CV] subsample=0.8, reg_alpha=0.001, n_estimators=100, min_child_weight=3, max_depth=7, learning_rate=0.1, gamma=0.4, colsample_bytree=0.8 \n",
      "[CV]  subsample=0.8, reg_alpha=0.001, n_estimators=100, min_child_weight=3, max_depth=7, learning_rate=0.1, gamma=0.4, colsample_bytree=0.8 -   0.0s\n",
      "[CV] subsample=0.8, reg_alpha=0.001, n_estimators=100, min_child_weight=3, max_depth=7, learning_rate=0.1, gamma=0.4, colsample_bytree=0.8 \n"
     ]
    },
    {
     "name": "stderr",
     "output_type": "stream",
     "text": [
      "C:\\Users\\DELL PC\\Anaconda3\\lib\\site-packages\\sklearn\\preprocessing\\label.py:171: DeprecationWarning: The truth value of an empty array is ambiguous. Returning False, but in future this will result in an error. Use `array.size > 0` to check that an array is not empty.\n",
      "  if diff:\n",
      "C:\\Users\\DELL PC\\Anaconda3\\lib\\site-packages\\sklearn\\preprocessing\\label.py:171: DeprecationWarning: The truth value of an empty array is ambiguous. Returning False, but in future this will result in an error. Use `array.size > 0` to check that an array is not empty.\n",
      "  if diff:\n"
     ]
    },
    {
     "name": "stdout",
     "output_type": "stream",
     "text": [
      "[CV]  subsample=0.8, reg_alpha=0.001, n_estimators=100, min_child_weight=3, max_depth=7, learning_rate=0.1, gamma=0.4, colsample_bytree=0.8 -   0.0s\n",
      "[CV] subsample=0.8, reg_alpha=0.001, n_estimators=100, min_child_weight=3, max_depth=7, learning_rate=0.1, gamma=0.4, colsample_bytree=0.8 \n",
      "[CV]  subsample=0.8, reg_alpha=0.001, n_estimators=100, min_child_weight=3, max_depth=7, learning_rate=0.1, gamma=0.4, colsample_bytree=0.8 -   0.0s\n",
      "[CV] subsample=0.75, reg_alpha=0.001, n_estimators=1000, min_child_weight=7, max_depth=4, learning_rate=0.05, gamma=0.2, colsample_bytree=0.8 \n"
     ]
    },
    {
     "name": "stderr",
     "output_type": "stream",
     "text": [
      "C:\\Users\\DELL PC\\Anaconda3\\lib\\site-packages\\sklearn\\preprocessing\\label.py:171: DeprecationWarning: The truth value of an empty array is ambiguous. Returning False, but in future this will result in an error. Use `array.size > 0` to check that an array is not empty.\n",
      "  if diff:\n"
     ]
    },
    {
     "name": "stdout",
     "output_type": "stream",
     "text": [
      "[CV]  subsample=0.75, reg_alpha=0.001, n_estimators=1000, min_child_weight=7, max_depth=4, learning_rate=0.05, gamma=0.2, colsample_bytree=0.8 -   0.6s\n",
      "[CV] subsample=0.75, reg_alpha=0.001, n_estimators=1000, min_child_weight=7, max_depth=4, learning_rate=0.05, gamma=0.2, colsample_bytree=0.8 \n"
     ]
    },
    {
     "name": "stderr",
     "output_type": "stream",
     "text": [
      "C:\\Users\\DELL PC\\Anaconda3\\lib\\site-packages\\sklearn\\preprocessing\\label.py:171: DeprecationWarning: The truth value of an empty array is ambiguous. Returning False, but in future this will result in an error. Use `array.size > 0` to check that an array is not empty.\n",
      "  if diff:\n"
     ]
    },
    {
     "name": "stdout",
     "output_type": "stream",
     "text": [
      "[CV]  subsample=0.75, reg_alpha=0.001, n_estimators=1000, min_child_weight=7, max_depth=4, learning_rate=0.05, gamma=0.2, colsample_bytree=0.8 -   0.7s\n",
      "[CV] subsample=0.75, reg_alpha=0.001, n_estimators=1000, min_child_weight=7, max_depth=4, learning_rate=0.05, gamma=0.2, colsample_bytree=0.8 \n"
     ]
    },
    {
     "name": "stderr",
     "output_type": "stream",
     "text": [
      "C:\\Users\\DELL PC\\Anaconda3\\lib\\site-packages\\sklearn\\preprocessing\\label.py:171: DeprecationWarning: The truth value of an empty array is ambiguous. Returning False, but in future this will result in an error. Use `array.size > 0` to check that an array is not empty.\n",
      "  if diff:\n"
     ]
    },
    {
     "name": "stdout",
     "output_type": "stream",
     "text": [
      "[CV]  subsample=0.75, reg_alpha=0.001, n_estimators=1000, min_child_weight=7, max_depth=4, learning_rate=0.05, gamma=0.2, colsample_bytree=0.8 -   0.6s\n",
      "[CV] subsample=0.75, reg_alpha=0.001, n_estimators=1000, min_child_weight=7, max_depth=4, learning_rate=0.05, gamma=0.2, colsample_bytree=0.8 \n"
     ]
    },
    {
     "name": "stderr",
     "output_type": "stream",
     "text": [
      "C:\\Users\\DELL PC\\Anaconda3\\lib\\site-packages\\sklearn\\preprocessing\\label.py:171: DeprecationWarning: The truth value of an empty array is ambiguous. Returning False, but in future this will result in an error. Use `array.size > 0` to check that an array is not empty.\n",
      "  if diff:\n"
     ]
    },
    {
     "name": "stdout",
     "output_type": "stream",
     "text": [
      "[CV]  subsample=0.75, reg_alpha=0.001, n_estimators=1000, min_child_weight=7, max_depth=4, learning_rate=0.05, gamma=0.2, colsample_bytree=0.8 -   0.6s\n",
      "[CV] subsample=0.75, reg_alpha=0.001, n_estimators=1000, min_child_weight=7, max_depth=4, learning_rate=0.05, gamma=0.2, colsample_bytree=0.8 \n"
     ]
    },
    {
     "name": "stderr",
     "output_type": "stream",
     "text": [
      "C:\\Users\\DELL PC\\Anaconda3\\lib\\site-packages\\sklearn\\preprocessing\\label.py:171: DeprecationWarning: The truth value of an empty array is ambiguous. Returning False, but in future this will result in an error. Use `array.size > 0` to check that an array is not empty.\n",
      "  if diff:\n",
      "C:\\Users\\DELL PC\\Anaconda3\\lib\\site-packages\\sklearn\\preprocessing\\label.py:171: DeprecationWarning: The truth value of an empty array is ambiguous. Returning False, but in future this will result in an error. Use `array.size > 0` to check that an array is not empty.\n",
      "  if diff:\n",
      "C:\\Users\\DELL PC\\Anaconda3\\lib\\site-packages\\sklearn\\preprocessing\\label.py:171: DeprecationWarning: The truth value of an empty array is ambiguous. Returning False, but in future this will result in an error. Use `array.size > 0` to check that an array is not empty.\n",
      "  if diff:\n",
      "C:\\Users\\DELL PC\\Anaconda3\\lib\\site-packages\\sklearn\\preprocessing\\label.py:171: DeprecationWarning: The truth value of an empty array is ambiguous. Returning False, but in future this will result in an error. Use `array.size > 0` to check that an array is not empty.\n",
      "  if diff:\n",
      "C:\\Users\\DELL PC\\Anaconda3\\lib\\site-packages\\sklearn\\preprocessing\\label.py:171: DeprecationWarning: The truth value of an empty array is ambiguous. Returning False, but in future this will result in an error. Use `array.size > 0` to check that an array is not empty.\n",
      "  if diff:\n",
      "C:\\Users\\DELL PC\\Anaconda3\\lib\\site-packages\\sklearn\\preprocessing\\label.py:171: DeprecationWarning: The truth value of an empty array is ambiguous. Returning False, but in future this will result in an error. Use `array.size > 0` to check that an array is not empty.\n",
      "  if diff:\n"
     ]
    },
    {
     "name": "stdout",
     "output_type": "stream",
     "text": [
      "[CV]  subsample=0.75, reg_alpha=0.001, n_estimators=1000, min_child_weight=7, max_depth=4, learning_rate=0.05, gamma=0.2, colsample_bytree=0.8 -   0.6s\n",
      "[CV] subsample=0.75, reg_alpha=1, n_estimators=60, min_child_weight=5, max_depth=3, learning_rate=0.001, gamma=0.4, colsample_bytree=0.85 \n",
      "[CV]  subsample=0.75, reg_alpha=1, n_estimators=60, min_child_weight=5, max_depth=3, learning_rate=0.001, gamma=0.4, colsample_bytree=0.85 -   0.0s\n",
      "[CV] subsample=0.75, reg_alpha=1, n_estimators=60, min_child_weight=5, max_depth=3, learning_rate=0.001, gamma=0.4, colsample_bytree=0.85 \n",
      "[CV]  subsample=0.75, reg_alpha=1, n_estimators=60, min_child_weight=5, max_depth=3, learning_rate=0.001, gamma=0.4, colsample_bytree=0.85 -   0.0s\n",
      "[CV] subsample=0.75, reg_alpha=1, n_estimators=60, min_child_weight=5, max_depth=3, learning_rate=0.001, gamma=0.4, colsample_bytree=0.85 \n",
      "[CV]  subsample=0.75, reg_alpha=1, n_estimators=60, min_child_weight=5, max_depth=3, learning_rate=0.001, gamma=0.4, colsample_bytree=0.85 -   0.0s\n",
      "[CV] subsample=0.75, reg_alpha=1, n_estimators=60, min_child_weight=5, max_depth=3, learning_rate=0.001, gamma=0.4, colsample_bytree=0.85 \n",
      "[CV]  subsample=0.75, reg_alpha=1, n_estimators=60, min_child_weight=5, max_depth=3, learning_rate=0.001, gamma=0.4, colsample_bytree=0.85 -   0.0s\n",
      "[CV] subsample=0.75, reg_alpha=1, n_estimators=60, min_child_weight=5, max_depth=3, learning_rate=0.001, gamma=0.4, colsample_bytree=0.85 \n",
      "[CV]  subsample=0.75, reg_alpha=1, n_estimators=60, min_child_weight=5, max_depth=3, learning_rate=0.001, gamma=0.4, colsample_bytree=0.85 -   0.0s\n",
      "[CV] subsample=0.8, reg_alpha=0.001, n_estimators=100, min_child_weight=5, max_depth=7, learning_rate=0.25, gamma=0.1, colsample_bytree=0.85 \n"
     ]
    },
    {
     "name": "stderr",
     "output_type": "stream",
     "text": [
      "C:\\Users\\DELL PC\\Anaconda3\\lib\\site-packages\\sklearn\\preprocessing\\label.py:171: DeprecationWarning: The truth value of an empty array is ambiguous. Returning False, but in future this will result in an error. Use `array.size > 0` to check that an array is not empty.\n",
      "  if diff:\n",
      "C:\\Users\\DELL PC\\Anaconda3\\lib\\site-packages\\sklearn\\preprocessing\\label.py:171: DeprecationWarning: The truth value of an empty array is ambiguous. Returning False, but in future this will result in an error. Use `array.size > 0` to check that an array is not empty.\n",
      "  if diff:\n",
      "C:\\Users\\DELL PC\\Anaconda3\\lib\\site-packages\\sklearn\\preprocessing\\label.py:171: DeprecationWarning: The truth value of an empty array is ambiguous. Returning False, but in future this will result in an error. Use `array.size > 0` to check that an array is not empty.\n",
      "  if diff:\n"
     ]
    },
    {
     "name": "stdout",
     "output_type": "stream",
     "text": [
      "[CV]  subsample=0.8, reg_alpha=0.001, n_estimators=100, min_child_weight=5, max_depth=7, learning_rate=0.25, gamma=0.1, colsample_bytree=0.85 -   0.0s\n",
      "[CV] subsample=0.8, reg_alpha=0.001, n_estimators=100, min_child_weight=5, max_depth=7, learning_rate=0.25, gamma=0.1, colsample_bytree=0.85 \n",
      "[CV]  subsample=0.8, reg_alpha=0.001, n_estimators=100, min_child_weight=5, max_depth=7, learning_rate=0.25, gamma=0.1, colsample_bytree=0.85 -   0.0s\n",
      "[CV] subsample=0.8, reg_alpha=0.001, n_estimators=100, min_child_weight=5, max_depth=7, learning_rate=0.25, gamma=0.1, colsample_bytree=0.85 \n",
      "[CV]  subsample=0.8, reg_alpha=0.001, n_estimators=100, min_child_weight=5, max_depth=7, learning_rate=0.25, gamma=0.1, colsample_bytree=0.85 -   0.0s\n",
      "[CV] subsample=0.8, reg_alpha=0.001, n_estimators=100, min_child_weight=5, max_depth=7, learning_rate=0.25, gamma=0.1, colsample_bytree=0.85 \n"
     ]
    },
    {
     "name": "stderr",
     "output_type": "stream",
     "text": [
      "C:\\Users\\DELL PC\\Anaconda3\\lib\\site-packages\\sklearn\\preprocessing\\label.py:171: DeprecationWarning: The truth value of an empty array is ambiguous. Returning False, but in future this will result in an error. Use `array.size > 0` to check that an array is not empty.\n",
      "  if diff:\n",
      "C:\\Users\\DELL PC\\Anaconda3\\lib\\site-packages\\sklearn\\preprocessing\\label.py:171: DeprecationWarning: The truth value of an empty array is ambiguous. Returning False, but in future this will result in an error. Use `array.size > 0` to check that an array is not empty.\n",
      "  if diff:\n"
     ]
    },
    {
     "name": "stdout",
     "output_type": "stream",
     "text": [
      "[CV]  subsample=0.8, reg_alpha=0.001, n_estimators=100, min_child_weight=5, max_depth=7, learning_rate=0.25, gamma=0.1, colsample_bytree=0.85 -   0.0s\n",
      "[CV] subsample=0.8, reg_alpha=0.001, n_estimators=100, min_child_weight=5, max_depth=7, learning_rate=0.25, gamma=0.1, colsample_bytree=0.85 \n",
      "[CV]  subsample=0.8, reg_alpha=0.001, n_estimators=100, min_child_weight=5, max_depth=7, learning_rate=0.25, gamma=0.1, colsample_bytree=0.85 -   0.0s\n",
      "[CV] subsample=0.85, reg_alpha=0.05, n_estimators=700, min_child_weight=1, max_depth=4, learning_rate=0.001, gamma=0.1, colsample_bytree=0.75 \n"
     ]
    },
    {
     "name": "stderr",
     "output_type": "stream",
     "text": [
      "C:\\Users\\DELL PC\\Anaconda3\\lib\\site-packages\\sklearn\\preprocessing\\label.py:171: DeprecationWarning: The truth value of an empty array is ambiguous. Returning False, but in future this will result in an error. Use `array.size > 0` to check that an array is not empty.\n",
      "  if diff:\n"
     ]
    },
    {
     "name": "stdout",
     "output_type": "stream",
     "text": [
      "[CV]  subsample=0.85, reg_alpha=0.05, n_estimators=700, min_child_weight=1, max_depth=4, learning_rate=0.001, gamma=0.1, colsample_bytree=0.75 -   0.4s\n",
      "[CV] subsample=0.85, reg_alpha=0.05, n_estimators=700, min_child_weight=1, max_depth=4, learning_rate=0.001, gamma=0.1, colsample_bytree=0.75 \n"
     ]
    },
    {
     "name": "stderr",
     "output_type": "stream",
     "text": [
      "C:\\Users\\DELL PC\\Anaconda3\\lib\\site-packages\\sklearn\\preprocessing\\label.py:171: DeprecationWarning: The truth value of an empty array is ambiguous. Returning False, but in future this will result in an error. Use `array.size > 0` to check that an array is not empty.\n",
      "  if diff:\n"
     ]
    },
    {
     "name": "stdout",
     "output_type": "stream",
     "text": [
      "[CV]  subsample=0.85, reg_alpha=0.05, n_estimators=700, min_child_weight=1, max_depth=4, learning_rate=0.001, gamma=0.1, colsample_bytree=0.75 -   0.4s\n",
      "[CV] subsample=0.85, reg_alpha=0.05, n_estimators=700, min_child_weight=1, max_depth=4, learning_rate=0.001, gamma=0.1, colsample_bytree=0.75 \n"
     ]
    },
    {
     "name": "stderr",
     "output_type": "stream",
     "text": [
      "C:\\Users\\DELL PC\\Anaconda3\\lib\\site-packages\\sklearn\\preprocessing\\label.py:171: DeprecationWarning: The truth value of an empty array is ambiguous. Returning False, but in future this will result in an error. Use `array.size > 0` to check that an array is not empty.\n",
      "  if diff:\n"
     ]
    },
    {
     "name": "stdout",
     "output_type": "stream",
     "text": [
      "[CV]  subsample=0.85, reg_alpha=0.05, n_estimators=700, min_child_weight=1, max_depth=4, learning_rate=0.001, gamma=0.1, colsample_bytree=0.75 -   0.4s\n",
      "[CV] subsample=0.85, reg_alpha=0.05, n_estimators=700, min_child_weight=1, max_depth=4, learning_rate=0.001, gamma=0.1, colsample_bytree=0.75 \n"
     ]
    },
    {
     "name": "stderr",
     "output_type": "stream",
     "text": [
      "C:\\Users\\DELL PC\\Anaconda3\\lib\\site-packages\\sklearn\\preprocessing\\label.py:171: DeprecationWarning: The truth value of an empty array is ambiguous. Returning False, but in future this will result in an error. Use `array.size > 0` to check that an array is not empty.\n",
      "  if diff:\n"
     ]
    },
    {
     "name": "stdout",
     "output_type": "stream",
     "text": [
      "[CV]  subsample=0.85, reg_alpha=0.05, n_estimators=700, min_child_weight=1, max_depth=4, learning_rate=0.001, gamma=0.1, colsample_bytree=0.75 -   0.4s\n",
      "[CV] subsample=0.85, reg_alpha=0.05, n_estimators=700, min_child_weight=1, max_depth=4, learning_rate=0.001, gamma=0.1, colsample_bytree=0.75 \n"
     ]
    },
    {
     "name": "stderr",
     "output_type": "stream",
     "text": [
      "C:\\Users\\DELL PC\\Anaconda3\\lib\\site-packages\\sklearn\\preprocessing\\label.py:171: DeprecationWarning: The truth value of an empty array is ambiguous. Returning False, but in future this will result in an error. Use `array.size > 0` to check that an array is not empty.\n",
      "  if diff:\n"
     ]
    },
    {
     "name": "stdout",
     "output_type": "stream",
     "text": [
      "[CV]  subsample=0.85, reg_alpha=0.05, n_estimators=700, min_child_weight=1, max_depth=4, learning_rate=0.001, gamma=0.1, colsample_bytree=0.75 -   0.2s\n",
      "[CV] subsample=0.75, reg_alpha=0.001, n_estimators=700, min_child_weight=7, max_depth=6, learning_rate=0.1, gamma=0.4, colsample_bytree=0.85 \n"
     ]
    },
    {
     "name": "stderr",
     "output_type": "stream",
     "text": [
      "C:\\Users\\DELL PC\\Anaconda3\\lib\\site-packages\\sklearn\\preprocessing\\label.py:171: DeprecationWarning: The truth value of an empty array is ambiguous. Returning False, but in future this will result in an error. Use `array.size > 0` to check that an array is not empty.\n",
      "  if diff:\n"
     ]
    },
    {
     "name": "stdout",
     "output_type": "stream",
     "text": [
      "[CV]  subsample=0.75, reg_alpha=0.001, n_estimators=700, min_child_weight=7, max_depth=6, learning_rate=0.1, gamma=0.4, colsample_bytree=0.85 -   0.2s\n",
      "[CV] subsample=0.75, reg_alpha=0.001, n_estimators=700, min_child_weight=7, max_depth=6, learning_rate=0.1, gamma=0.4, colsample_bytree=0.85 \n"
     ]
    },
    {
     "name": "stderr",
     "output_type": "stream",
     "text": [
      "C:\\Users\\DELL PC\\Anaconda3\\lib\\site-packages\\sklearn\\preprocessing\\label.py:171: DeprecationWarning: The truth value of an empty array is ambiguous. Returning False, but in future this will result in an error. Use `array.size > 0` to check that an array is not empty.\n",
      "  if diff:\n"
     ]
    },
    {
     "name": "stdout",
     "output_type": "stream",
     "text": [
      "[CV]  subsample=0.75, reg_alpha=0.001, n_estimators=700, min_child_weight=7, max_depth=6, learning_rate=0.1, gamma=0.4, colsample_bytree=0.85 -   0.2s\n",
      "[CV] subsample=0.75, reg_alpha=0.001, n_estimators=700, min_child_weight=7, max_depth=6, learning_rate=0.1, gamma=0.4, colsample_bytree=0.85 \n"
     ]
    },
    {
     "name": "stderr",
     "output_type": "stream",
     "text": [
      "C:\\Users\\DELL PC\\Anaconda3\\lib\\site-packages\\sklearn\\preprocessing\\label.py:171: DeprecationWarning: The truth value of an empty array is ambiguous. Returning False, but in future this will result in an error. Use `array.size > 0` to check that an array is not empty.\n",
      "  if diff:\n"
     ]
    },
    {
     "name": "stdout",
     "output_type": "stream",
     "text": [
      "[CV]  subsample=0.75, reg_alpha=0.001, n_estimators=700, min_child_weight=7, max_depth=6, learning_rate=0.1, gamma=0.4, colsample_bytree=0.85 -   0.2s\n",
      "[CV] subsample=0.75, reg_alpha=0.001, n_estimators=700, min_child_weight=7, max_depth=6, learning_rate=0.1, gamma=0.4, colsample_bytree=0.85 \n"
     ]
    },
    {
     "name": "stderr",
     "output_type": "stream",
     "text": [
      "C:\\Users\\DELL PC\\Anaconda3\\lib\\site-packages\\sklearn\\preprocessing\\label.py:171: DeprecationWarning: The truth value of an empty array is ambiguous. Returning False, but in future this will result in an error. Use `array.size > 0` to check that an array is not empty.\n",
      "  if diff:\n"
     ]
    },
    {
     "name": "stdout",
     "output_type": "stream",
     "text": [
      "[CV]  subsample=0.75, reg_alpha=0.001, n_estimators=700, min_child_weight=7, max_depth=6, learning_rate=0.1, gamma=0.4, colsample_bytree=0.85 -   0.2s\n",
      "[CV] subsample=0.75, reg_alpha=0.001, n_estimators=700, min_child_weight=7, max_depth=6, learning_rate=0.1, gamma=0.4, colsample_bytree=0.85 \n"
     ]
    },
    {
     "name": "stderr",
     "output_type": "stream",
     "text": [
      "C:\\Users\\DELL PC\\Anaconda3\\lib\\site-packages\\sklearn\\preprocessing\\label.py:171: DeprecationWarning: The truth value of an empty array is ambiguous. Returning False, but in future this will result in an error. Use `array.size > 0` to check that an array is not empty.\n",
      "  if diff:\n",
      "C:\\Users\\DELL PC\\Anaconda3\\lib\\site-packages\\sklearn\\preprocessing\\label.py:171: DeprecationWarning: The truth value of an empty array is ambiguous. Returning False, but in future this will result in an error. Use `array.size > 0` to check that an array is not empty.\n",
      "  if diff:\n",
      "C:\\Users\\DELL PC\\Anaconda3\\lib\\site-packages\\sklearn\\preprocessing\\label.py:171: DeprecationWarning: The truth value of an empty array is ambiguous. Returning False, but in future this will result in an error. Use `array.size > 0` to check that an array is not empty.\n",
      "  if diff:\n",
      "C:\\Users\\DELL PC\\Anaconda3\\lib\\site-packages\\sklearn\\preprocessing\\label.py:171: DeprecationWarning: The truth value of an empty array is ambiguous. Returning False, but in future this will result in an error. Use `array.size > 0` to check that an array is not empty.\n",
      "  if diff:\n"
     ]
    },
    {
     "name": "stdout",
     "output_type": "stream",
     "text": [
      "[CV]  subsample=0.75, reg_alpha=0.001, n_estimators=700, min_child_weight=7, max_depth=6, learning_rate=0.1, gamma=0.4, colsample_bytree=0.85 -   0.4s\n",
      "[CV] subsample=0.75, reg_alpha=0.1, n_estimators=60, min_child_weight=5, max_depth=7, learning_rate=0.01, gamma=0.2, colsample_bytree=0.8 \n",
      "[CV]  subsample=0.75, reg_alpha=0.1, n_estimators=60, min_child_weight=5, max_depth=7, learning_rate=0.01, gamma=0.2, colsample_bytree=0.8 -   0.0s\n",
      "[CV] subsample=0.75, reg_alpha=0.1, n_estimators=60, min_child_weight=5, max_depth=7, learning_rate=0.01, gamma=0.2, colsample_bytree=0.8 \n",
      "[CV]  subsample=0.75, reg_alpha=0.1, n_estimators=60, min_child_weight=5, max_depth=7, learning_rate=0.01, gamma=0.2, colsample_bytree=0.8 -   0.0s\n",
      "[CV] subsample=0.75, reg_alpha=0.1, n_estimators=60, min_child_weight=5, max_depth=7, learning_rate=0.01, gamma=0.2, colsample_bytree=0.8 \n",
      "[CV]  subsample=0.75, reg_alpha=0.1, n_estimators=60, min_child_weight=5, max_depth=7, learning_rate=0.01, gamma=0.2, colsample_bytree=0.8 -   0.0s\n",
      "[CV] subsample=0.75, reg_alpha=0.1, n_estimators=60, min_child_weight=5, max_depth=7, learning_rate=0.01, gamma=0.2, colsample_bytree=0.8 \n"
     ]
    },
    {
     "name": "stderr",
     "output_type": "stream",
     "text": [
      "C:\\Users\\DELL PC\\Anaconda3\\lib\\site-packages\\sklearn\\preprocessing\\label.py:171: DeprecationWarning: The truth value of an empty array is ambiguous. Returning False, but in future this will result in an error. Use `array.size > 0` to check that an array is not empty.\n",
      "  if diff:\n",
      "C:\\Users\\DELL PC\\Anaconda3\\lib\\site-packages\\sklearn\\preprocessing\\label.py:171: DeprecationWarning: The truth value of an empty array is ambiguous. Returning False, but in future this will result in an error. Use `array.size > 0` to check that an array is not empty.\n",
      "  if diff:\n",
      "C:\\Users\\DELL PC\\Anaconda3\\lib\\site-packages\\sklearn\\preprocessing\\label.py:171: DeprecationWarning: The truth value of an empty array is ambiguous. Returning False, but in future this will result in an error. Use `array.size > 0` to check that an array is not empty.\n",
      "  if diff:\n",
      "C:\\Users\\DELL PC\\Anaconda3\\lib\\site-packages\\sklearn\\preprocessing\\label.py:171: DeprecationWarning: The truth value of an empty array is ambiguous. Returning False, but in future this will result in an error. Use `array.size > 0` to check that an array is not empty.\n",
      "  if diff:\n",
      "C:\\Users\\DELL PC\\Anaconda3\\lib\\site-packages\\sklearn\\preprocessing\\label.py:171: DeprecationWarning: The truth value of an empty array is ambiguous. Returning False, but in future this will result in an error. Use `array.size > 0` to check that an array is not empty.\n",
      "  if diff:\n",
      "C:\\Users\\DELL PC\\Anaconda3\\lib\\site-packages\\sklearn\\preprocessing\\label.py:171: DeprecationWarning: The truth value of an empty array is ambiguous. Returning False, but in future this will result in an error. Use `array.size > 0` to check that an array is not empty.\n",
      "  if diff:\n",
      "C:\\Users\\DELL PC\\Anaconda3\\lib\\site-packages\\sklearn\\preprocessing\\label.py:171: DeprecationWarning: The truth value of an empty array is ambiguous. Returning False, but in future this will result in an error. Use `array.size > 0` to check that an array is not empty.\n",
      "  if diff:\n",
      "C:\\Users\\DELL PC\\Anaconda3\\lib\\site-packages\\sklearn\\preprocessing\\label.py:171: DeprecationWarning: The truth value of an empty array is ambiguous. Returning False, but in future this will result in an error. Use `array.size > 0` to check that an array is not empty.\n",
      "  if diff:\n",
      "C:\\Users\\DELL PC\\Anaconda3\\lib\\site-packages\\sklearn\\preprocessing\\label.py:171: DeprecationWarning: The truth value of an empty array is ambiguous. Returning False, but in future this will result in an error. Use `array.size > 0` to check that an array is not empty.\n",
      "  if diff:\n",
      "C:\\Users\\DELL PC\\Anaconda3\\lib\\site-packages\\sklearn\\preprocessing\\label.py:171: DeprecationWarning: The truth value of an empty array is ambiguous. Returning False, but in future this will result in an error. Use `array.size > 0` to check that an array is not empty.\n",
      "  if diff:\n",
      "C:\\Users\\DELL PC\\Anaconda3\\lib\\site-packages\\sklearn\\preprocessing\\label.py:171: DeprecationWarning: The truth value of an empty array is ambiguous. Returning False, but in future this will result in an error. Use `array.size > 0` to check that an array is not empty.\n",
      "  if diff:\n",
      "C:\\Users\\DELL PC\\Anaconda3\\lib\\site-packages\\sklearn\\preprocessing\\label.py:171: DeprecationWarning: The truth value of an empty array is ambiguous. Returning False, but in future this will result in an error. Use `array.size > 0` to check that an array is not empty.\n",
      "  if diff:\n"
     ]
    },
    {
     "name": "stdout",
     "output_type": "stream",
     "text": [
      "[CV]  subsample=0.75, reg_alpha=0.1, n_estimators=60, min_child_weight=5, max_depth=7, learning_rate=0.01, gamma=0.2, colsample_bytree=0.8 -   0.0s\n",
      "[CV] subsample=0.75, reg_alpha=0.1, n_estimators=60, min_child_weight=5, max_depth=7, learning_rate=0.01, gamma=0.2, colsample_bytree=0.8 \n",
      "[CV]  subsample=0.75, reg_alpha=0.1, n_estimators=60, min_child_weight=5, max_depth=7, learning_rate=0.01, gamma=0.2, colsample_bytree=0.8 -   0.0s\n",
      "[CV] subsample=0.8, reg_alpha=100, n_estimators=30, min_child_weight=5, max_depth=3, learning_rate=0.05, gamma=0.4, colsample_bytree=0.85 \n",
      "[CV]  subsample=0.8, reg_alpha=100, n_estimators=30, min_child_weight=5, max_depth=3, learning_rate=0.05, gamma=0.4, colsample_bytree=0.85 -   0.0s\n",
      "[CV] subsample=0.8, reg_alpha=100, n_estimators=30, min_child_weight=5, max_depth=3, learning_rate=0.05, gamma=0.4, colsample_bytree=0.85 \n",
      "[CV]  subsample=0.8, reg_alpha=100, n_estimators=30, min_child_weight=5, max_depth=3, learning_rate=0.05, gamma=0.4, colsample_bytree=0.85 -   0.0s\n",
      "[CV] subsample=0.8, reg_alpha=100, n_estimators=30, min_child_weight=5, max_depth=3, learning_rate=0.05, gamma=0.4, colsample_bytree=0.85 \n",
      "[CV]  subsample=0.8, reg_alpha=100, n_estimators=30, min_child_weight=5, max_depth=3, learning_rate=0.05, gamma=0.4, colsample_bytree=0.85 -   0.0s\n",
      "[CV] subsample=0.8, reg_alpha=100, n_estimators=30, min_child_weight=5, max_depth=3, learning_rate=0.05, gamma=0.4, colsample_bytree=0.85 \n",
      "[CV]  subsample=0.8, reg_alpha=100, n_estimators=30, min_child_weight=5, max_depth=3, learning_rate=0.05, gamma=0.4, colsample_bytree=0.85 -   0.0s\n",
      "[CV] subsample=0.8, reg_alpha=100, n_estimators=30, min_child_weight=5, max_depth=3, learning_rate=0.05, gamma=0.4, colsample_bytree=0.85 \n",
      "[CV]  subsample=0.8, reg_alpha=100, n_estimators=30, min_child_weight=5, max_depth=3, learning_rate=0.05, gamma=0.4, colsample_bytree=0.85 -   0.0s\n",
      "[CV] subsample=0.75, reg_alpha=0.005, n_estimators=10, min_child_weight=3, max_depth=4, learning_rate=0.001, gamma=0.2, colsample_bytree=0.75 \n",
      "[CV]  subsample=0.75, reg_alpha=0.005, n_estimators=10, min_child_weight=3, max_depth=4, learning_rate=0.001, gamma=0.2, colsample_bytree=0.75 -   0.0s\n",
      "[CV] subsample=0.75, reg_alpha=0.005, n_estimators=10, min_child_weight=3, max_depth=4, learning_rate=0.001, gamma=0.2, colsample_bytree=0.75 \n",
      "[CV]  subsample=0.75, reg_alpha=0.005, n_estimators=10, min_child_weight=3, max_depth=4, learning_rate=0.001, gamma=0.2, colsample_bytree=0.75 -   0.0s\n",
      "[CV] subsample=0.75, reg_alpha=0.005, n_estimators=10, min_child_weight=3, max_depth=4, learning_rate=0.001, gamma=0.2, colsample_bytree=0.75 \n",
      "[CV]  subsample=0.75, reg_alpha=0.005, n_estimators=10, min_child_weight=3, max_depth=4, learning_rate=0.001, gamma=0.2, colsample_bytree=0.75 -   0.0s\n",
      "[CV] subsample=0.75, reg_alpha=0.005, n_estimators=10, min_child_weight=3, max_depth=4, learning_rate=0.001, gamma=0.2, colsample_bytree=0.75 \n",
      "[CV]  subsample=0.75, reg_alpha=0.005, n_estimators=10, min_child_weight=3, max_depth=4, learning_rate=0.001, gamma=0.2, colsample_bytree=0.75 -   0.0s\n",
      "[CV] subsample=0.75, reg_alpha=0.005, n_estimators=10, min_child_weight=3, max_depth=4, learning_rate=0.001, gamma=0.2, colsample_bytree=0.75 \n",
      "[CV]  subsample=0.75, reg_alpha=0.005, n_estimators=10, min_child_weight=3, max_depth=4, learning_rate=0.001, gamma=0.2, colsample_bytree=0.75 -   0.0s\n",
      "[CV] subsample=0.8, reg_alpha=0.1, n_estimators=300, min_child_weight=1, max_depth=6, learning_rate=0.25, gamma=0.3, colsample_bytree=0.85 \n"
     ]
    },
    {
     "name": "stderr",
     "output_type": "stream",
     "text": [
      "C:\\Users\\DELL PC\\Anaconda3\\lib\\site-packages\\sklearn\\preprocessing\\label.py:171: DeprecationWarning: The truth value of an empty array is ambiguous. Returning False, but in future this will result in an error. Use `array.size > 0` to check that an array is not empty.\n",
      "  if diff:\n"
     ]
    },
    {
     "name": "stdout",
     "output_type": "stream",
     "text": [
      "[CV]  subsample=0.8, reg_alpha=0.1, n_estimators=300, min_child_weight=1, max_depth=6, learning_rate=0.25, gamma=0.3, colsample_bytree=0.85 -   0.2s\n",
      "[CV] subsample=0.8, reg_alpha=0.1, n_estimators=300, min_child_weight=1, max_depth=6, learning_rate=0.25, gamma=0.3, colsample_bytree=0.85 \n"
     ]
    },
    {
     "name": "stderr",
     "output_type": "stream",
     "text": [
      "C:\\Users\\DELL PC\\Anaconda3\\lib\\site-packages\\sklearn\\preprocessing\\label.py:171: DeprecationWarning: The truth value of an empty array is ambiguous. Returning False, but in future this will result in an error. Use `array.size > 0` to check that an array is not empty.\n",
      "  if diff:\n"
     ]
    },
    {
     "name": "stdout",
     "output_type": "stream",
     "text": [
      "[CV]  subsample=0.8, reg_alpha=0.1, n_estimators=300, min_child_weight=1, max_depth=6, learning_rate=0.25, gamma=0.3, colsample_bytree=0.85 -   0.2s\n",
      "[CV] subsample=0.8, reg_alpha=0.1, n_estimators=300, min_child_weight=1, max_depth=6, learning_rate=0.25, gamma=0.3, colsample_bytree=0.85 \n"
     ]
    },
    {
     "name": "stderr",
     "output_type": "stream",
     "text": [
      "C:\\Users\\DELL PC\\Anaconda3\\lib\\site-packages\\sklearn\\preprocessing\\label.py:171: DeprecationWarning: The truth value of an empty array is ambiguous. Returning False, but in future this will result in an error. Use `array.size > 0` to check that an array is not empty.\n",
      "  if diff:\n",
      "C:\\Users\\DELL PC\\Anaconda3\\lib\\site-packages\\sklearn\\preprocessing\\label.py:171: DeprecationWarning: The truth value of an empty array is ambiguous. Returning False, but in future this will result in an error. Use `array.size > 0` to check that an array is not empty.\n",
      "  if diff:\n"
     ]
    },
    {
     "name": "stdout",
     "output_type": "stream",
     "text": [
      "[CV]  subsample=0.8, reg_alpha=0.1, n_estimators=300, min_child_weight=1, max_depth=6, learning_rate=0.25, gamma=0.3, colsample_bytree=0.85 -   0.1s\n",
      "[CV] subsample=0.8, reg_alpha=0.1, n_estimators=300, min_child_weight=1, max_depth=6, learning_rate=0.25, gamma=0.3, colsample_bytree=0.85 \n",
      "[CV]  subsample=0.8, reg_alpha=0.1, n_estimators=300, min_child_weight=1, max_depth=6, learning_rate=0.25, gamma=0.3, colsample_bytree=0.85 -   0.1s\n",
      "[CV] subsample=0.8, reg_alpha=0.1, n_estimators=300, min_child_weight=1, max_depth=6, learning_rate=0.25, gamma=0.3, colsample_bytree=0.85 \n"
     ]
    },
    {
     "name": "stderr",
     "output_type": "stream",
     "text": [
      "C:\\Users\\DELL PC\\Anaconda3\\lib\\site-packages\\sklearn\\preprocessing\\label.py:171: DeprecationWarning: The truth value of an empty array is ambiguous. Returning False, but in future this will result in an error. Use `array.size > 0` to check that an array is not empty.\n",
      "  if diff:\n",
      "C:\\Users\\DELL PC\\Anaconda3\\lib\\site-packages\\sklearn\\preprocessing\\label.py:171: DeprecationWarning: The truth value of an empty array is ambiguous. Returning False, but in future this will result in an error. Use `array.size > 0` to check that an array is not empty.\n",
      "  if diff:\n",
      "C:\\Users\\DELL PC\\Anaconda3\\lib\\site-packages\\sklearn\\preprocessing\\label.py:171: DeprecationWarning: The truth value of an empty array is ambiguous. Returning False, but in future this will result in an error. Use `array.size > 0` to check that an array is not empty.\n",
      "  if diff:\n",
      "C:\\Users\\DELL PC\\Anaconda3\\lib\\site-packages\\sklearn\\preprocessing\\label.py:171: DeprecationWarning: The truth value of an empty array is ambiguous. Returning False, but in future this will result in an error. Use `array.size > 0` to check that an array is not empty.\n",
      "  if diff:\n",
      "C:\\Users\\DELL PC\\Anaconda3\\lib\\site-packages\\sklearn\\preprocessing\\label.py:171: DeprecationWarning: The truth value of an empty array is ambiguous. Returning False, but in future this will result in an error. Use `array.size > 0` to check that an array is not empty.\n",
      "  if diff:\n",
      "C:\\Users\\DELL PC\\Anaconda3\\lib\\site-packages\\sklearn\\preprocessing\\label.py:171: DeprecationWarning: The truth value of an empty array is ambiguous. Returning False, but in future this will result in an error. Use `array.size > 0` to check that an array is not empty.\n",
      "  if diff:\n"
     ]
    },
    {
     "name": "stdout",
     "output_type": "stream",
     "text": [
      "[CV]  subsample=0.8, reg_alpha=0.1, n_estimators=300, min_child_weight=1, max_depth=6, learning_rate=0.25, gamma=0.3, colsample_bytree=0.85 -   0.1s\n",
      "[CV] subsample=0.8, reg_alpha=0.01, n_estimators=30, min_child_weight=1, max_depth=3, learning_rate=0.25, gamma=0.3, colsample_bytree=0.85 \n",
      "[CV]  subsample=0.8, reg_alpha=0.01, n_estimators=30, min_child_weight=1, max_depth=3, learning_rate=0.25, gamma=0.3, colsample_bytree=0.85 -   0.0s\n",
      "[CV] subsample=0.8, reg_alpha=0.01, n_estimators=30, min_child_weight=1, max_depth=3, learning_rate=0.25, gamma=0.3, colsample_bytree=0.85 \n",
      "[CV]  subsample=0.8, reg_alpha=0.01, n_estimators=30, min_child_weight=1, max_depth=3, learning_rate=0.25, gamma=0.3, colsample_bytree=0.85 -   0.0s\n",
      "[CV] subsample=0.8, reg_alpha=0.01, n_estimators=30, min_child_weight=1, max_depth=3, learning_rate=0.25, gamma=0.3, colsample_bytree=0.85 \n",
      "[CV]  subsample=0.8, reg_alpha=0.01, n_estimators=30, min_child_weight=1, max_depth=3, learning_rate=0.25, gamma=0.3, colsample_bytree=0.85 -   0.0s\n",
      "[CV] subsample=0.8, reg_alpha=0.01, n_estimators=30, min_child_weight=1, max_depth=3, learning_rate=0.25, gamma=0.3, colsample_bytree=0.85 \n",
      "[CV]  subsample=0.8, reg_alpha=0.01, n_estimators=30, min_child_weight=1, max_depth=3, learning_rate=0.25, gamma=0.3, colsample_bytree=0.85 -   0.0s\n",
      "[CV] subsample=0.8, reg_alpha=0.01, n_estimators=30, min_child_weight=1, max_depth=3, learning_rate=0.25, gamma=0.3, colsample_bytree=0.85 \n",
      "[CV]  subsample=0.8, reg_alpha=0.01, n_estimators=30, min_child_weight=1, max_depth=3, learning_rate=0.25, gamma=0.3, colsample_bytree=0.85 -   0.0s\n",
      "[CV] subsample=0.8, reg_alpha=1e-05, n_estimators=300, min_child_weight=5, max_depth=7, learning_rate=0.25, gamma=0.0, colsample_bytree=0.85 \n"
     ]
    },
    {
     "name": "stderr",
     "output_type": "stream",
     "text": [
      "C:\\Users\\DELL PC\\Anaconda3\\lib\\site-packages\\sklearn\\preprocessing\\label.py:171: DeprecationWarning: The truth value of an empty array is ambiguous. Returning False, but in future this will result in an error. Use `array.size > 0` to check that an array is not empty.\n",
      "  if diff:\n",
      "C:\\Users\\DELL PC\\Anaconda3\\lib\\site-packages\\sklearn\\preprocessing\\label.py:171: DeprecationWarning: The truth value of an empty array is ambiguous. Returning False, but in future this will result in an error. Use `array.size > 0` to check that an array is not empty.\n",
      "  if diff:\n"
     ]
    },
    {
     "name": "stdout",
     "output_type": "stream",
     "text": [
      "[CV]  subsample=0.8, reg_alpha=1e-05, n_estimators=300, min_child_weight=5, max_depth=7, learning_rate=0.25, gamma=0.0, colsample_bytree=0.85 -   0.1s\n",
      "[CV] subsample=0.8, reg_alpha=1e-05, n_estimators=300, min_child_weight=5, max_depth=7, learning_rate=0.25, gamma=0.0, colsample_bytree=0.85 \n",
      "[CV]  subsample=0.8, reg_alpha=1e-05, n_estimators=300, min_child_weight=5, max_depth=7, learning_rate=0.25, gamma=0.0, colsample_bytree=0.85 -   0.0s\n",
      "[CV] subsample=0.8, reg_alpha=1e-05, n_estimators=300, min_child_weight=5, max_depth=7, learning_rate=0.25, gamma=0.0, colsample_bytree=0.85 \n"
     ]
    },
    {
     "name": "stderr",
     "output_type": "stream",
     "text": [
      "C:\\Users\\DELL PC\\Anaconda3\\lib\\site-packages\\sklearn\\preprocessing\\label.py:171: DeprecationWarning: The truth value of an empty array is ambiguous. Returning False, but in future this will result in an error. Use `array.size > 0` to check that an array is not empty.\n",
      "  if diff:\n",
      "C:\\Users\\DELL PC\\Anaconda3\\lib\\site-packages\\sklearn\\preprocessing\\label.py:171: DeprecationWarning: The truth value of an empty array is ambiguous. Returning False, but in future this will result in an error. Use `array.size > 0` to check that an array is not empty.\n",
      "  if diff:\n"
     ]
    },
    {
     "name": "stdout",
     "output_type": "stream",
     "text": [
      "[CV]  subsample=0.8, reg_alpha=1e-05, n_estimators=300, min_child_weight=5, max_depth=7, learning_rate=0.25, gamma=0.0, colsample_bytree=0.85 -   0.1s\n",
      "[CV] subsample=0.8, reg_alpha=1e-05, n_estimators=300, min_child_weight=5, max_depth=7, learning_rate=0.25, gamma=0.0, colsample_bytree=0.85 \n",
      "[CV]  subsample=0.8, reg_alpha=1e-05, n_estimators=300, min_child_weight=5, max_depth=7, learning_rate=0.25, gamma=0.0, colsample_bytree=0.85 -   0.0s\n",
      "[CV] subsample=0.8, reg_alpha=1e-05, n_estimators=300, min_child_weight=5, max_depth=7, learning_rate=0.25, gamma=0.0, colsample_bytree=0.85 \n"
     ]
    },
    {
     "name": "stderr",
     "output_type": "stream",
     "text": [
      "C:\\Users\\DELL PC\\Anaconda3\\lib\\site-packages\\sklearn\\preprocessing\\label.py:171: DeprecationWarning: The truth value of an empty array is ambiguous. Returning False, but in future this will result in an error. Use `array.size > 0` to check that an array is not empty.\n",
      "  if diff:\n",
      "C:\\Users\\DELL PC\\Anaconda3\\lib\\site-packages\\sklearn\\preprocessing\\label.py:171: DeprecationWarning: The truth value of an empty array is ambiguous. Returning False, but in future this will result in an error. Use `array.size > 0` to check that an array is not empty.\n",
      "  if diff:\n",
      "C:\\Users\\DELL PC\\Anaconda3\\lib\\site-packages\\sklearn\\preprocessing\\label.py:171: DeprecationWarning: The truth value of an empty array is ambiguous. Returning False, but in future this will result in an error. Use `array.size > 0` to check that an array is not empty.\n",
      "  if diff:\n"
     ]
    },
    {
     "name": "stdout",
     "output_type": "stream",
     "text": [
      "[CV]  subsample=0.8, reg_alpha=1e-05, n_estimators=300, min_child_weight=5, max_depth=7, learning_rate=0.25, gamma=0.0, colsample_bytree=0.85 -   0.1s\n",
      "[CV] subsample=0.85, reg_alpha=0.001, n_estimators=200, min_child_weight=7, max_depth=9, learning_rate=0.25, gamma=0.0, colsample_bytree=0.75 \n",
      "[CV]  subsample=0.85, reg_alpha=0.001, n_estimators=200, min_child_weight=7, max_depth=9, learning_rate=0.25, gamma=0.0, colsample_bytree=0.75 -   0.0s\n",
      "[CV] subsample=0.85, reg_alpha=0.001, n_estimators=200, min_child_weight=7, max_depth=9, learning_rate=0.25, gamma=0.0, colsample_bytree=0.75 \n",
      "[CV]  subsample=0.85, reg_alpha=0.001, n_estimators=200, min_child_weight=7, max_depth=9, learning_rate=0.25, gamma=0.0, colsample_bytree=0.75 -   0.0s\n",
      "[CV] subsample=0.85, reg_alpha=0.001, n_estimators=200, min_child_weight=7, max_depth=9, learning_rate=0.25, gamma=0.0, colsample_bytree=0.75 \n"
     ]
    },
    {
     "name": "stderr",
     "output_type": "stream",
     "text": [
      "C:\\Users\\DELL PC\\Anaconda3\\lib\\site-packages\\sklearn\\preprocessing\\label.py:171: DeprecationWarning: The truth value of an empty array is ambiguous. Returning False, but in future this will result in an error. Use `array.size > 0` to check that an array is not empty.\n",
      "  if diff:\n",
      "C:\\Users\\DELL PC\\Anaconda3\\lib\\site-packages\\sklearn\\preprocessing\\label.py:171: DeprecationWarning: The truth value of an empty array is ambiguous. Returning False, but in future this will result in an error. Use `array.size > 0` to check that an array is not empty.\n",
      "  if diff:\n"
     ]
    },
    {
     "name": "stdout",
     "output_type": "stream",
     "text": [
      "[CV]  subsample=0.85, reg_alpha=0.001, n_estimators=200, min_child_weight=7, max_depth=9, learning_rate=0.25, gamma=0.0, colsample_bytree=0.75 -   0.0s\n",
      "[CV] subsample=0.85, reg_alpha=0.001, n_estimators=200, min_child_weight=7, max_depth=9, learning_rate=0.25, gamma=0.0, colsample_bytree=0.75 \n",
      "[CV]  subsample=0.85, reg_alpha=0.001, n_estimators=200, min_child_weight=7, max_depth=9, learning_rate=0.25, gamma=0.0, colsample_bytree=0.75 -   0.0s\n",
      "[CV] subsample=0.85, reg_alpha=0.001, n_estimators=200, min_child_weight=7, max_depth=9, learning_rate=0.25, gamma=0.0, colsample_bytree=0.75 \n"
     ]
    },
    {
     "name": "stderr",
     "output_type": "stream",
     "text": [
      "C:\\Users\\DELL PC\\Anaconda3\\lib\\site-packages\\sklearn\\preprocessing\\label.py:171: DeprecationWarning: The truth value of an empty array is ambiguous. Returning False, but in future this will result in an error. Use `array.size > 0` to check that an array is not empty.\n",
      "  if diff:\n"
     ]
    },
    {
     "name": "stdout",
     "output_type": "stream",
     "text": [
      "[CV]  subsample=0.85, reg_alpha=0.001, n_estimators=200, min_child_weight=7, max_depth=9, learning_rate=0.25, gamma=0.0, colsample_bytree=0.75 -   0.1s\n",
      "[CV] subsample=0.85, reg_alpha=0.001, n_estimators=300, min_child_weight=9, max_depth=9, learning_rate=0.05, gamma=0.2, colsample_bytree=0.85 \n"
     ]
    },
    {
     "name": "stderr",
     "output_type": "stream",
     "text": [
      "C:\\Users\\DELL PC\\Anaconda3\\lib\\site-packages\\sklearn\\preprocessing\\label.py:171: DeprecationWarning: The truth value of an empty array is ambiguous. Returning False, but in future this will result in an error. Use `array.size > 0` to check that an array is not empty.\n",
      "  if diff:\n"
     ]
    },
    {
     "name": "stdout",
     "output_type": "stream",
     "text": [
      "[CV]  subsample=0.85, reg_alpha=0.001, n_estimators=300, min_child_weight=9, max_depth=9, learning_rate=0.05, gamma=0.2, colsample_bytree=0.85 -   0.1s\n",
      "[CV] subsample=0.85, reg_alpha=0.001, n_estimators=300, min_child_weight=9, max_depth=9, learning_rate=0.05, gamma=0.2, colsample_bytree=0.85 \n"
     ]
    },
    {
     "name": "stderr",
     "output_type": "stream",
     "text": [
      "C:\\Users\\DELL PC\\Anaconda3\\lib\\site-packages\\sklearn\\preprocessing\\label.py:171: DeprecationWarning: The truth value of an empty array is ambiguous. Returning False, but in future this will result in an error. Use `array.size > 0` to check that an array is not empty.\n",
      "  if diff:\n"
     ]
    },
    {
     "name": "stdout",
     "output_type": "stream",
     "text": [
      "[CV]  subsample=0.85, reg_alpha=0.001, n_estimators=300, min_child_weight=9, max_depth=9, learning_rate=0.05, gamma=0.2, colsample_bytree=0.85 -   0.1s\n",
      "[CV] subsample=0.85, reg_alpha=0.001, n_estimators=300, min_child_weight=9, max_depth=9, learning_rate=0.05, gamma=0.2, colsample_bytree=0.85 \n"
     ]
    },
    {
     "name": "stderr",
     "output_type": "stream",
     "text": [
      "C:\\Users\\DELL PC\\Anaconda3\\lib\\site-packages\\sklearn\\preprocessing\\label.py:171: DeprecationWarning: The truth value of an empty array is ambiguous. Returning False, but in future this will result in an error. Use `array.size > 0` to check that an array is not empty.\n",
      "  if diff:\n"
     ]
    },
    {
     "name": "stdout",
     "output_type": "stream",
     "text": [
      "[CV]  subsample=0.85, reg_alpha=0.001, n_estimators=300, min_child_weight=9, max_depth=9, learning_rate=0.05, gamma=0.2, colsample_bytree=0.85 -   0.1s\n",
      "[CV] subsample=0.85, reg_alpha=0.001, n_estimators=300, min_child_weight=9, max_depth=9, learning_rate=0.05, gamma=0.2, colsample_bytree=0.85 \n"
     ]
    },
    {
     "name": "stderr",
     "output_type": "stream",
     "text": [
      "C:\\Users\\DELL PC\\Anaconda3\\lib\\site-packages\\sklearn\\preprocessing\\label.py:171: DeprecationWarning: The truth value of an empty array is ambiguous. Returning False, but in future this will result in an error. Use `array.size > 0` to check that an array is not empty.\n",
      "  if diff:\n"
     ]
    },
    {
     "name": "stdout",
     "output_type": "stream",
     "text": [
      "[CV]  subsample=0.85, reg_alpha=0.001, n_estimators=300, min_child_weight=9, max_depth=9, learning_rate=0.05, gamma=0.2, colsample_bytree=0.85 -   0.1s\n",
      "[CV] subsample=0.85, reg_alpha=0.001, n_estimators=300, min_child_weight=9, max_depth=9, learning_rate=0.05, gamma=0.2, colsample_bytree=0.85 \n"
     ]
    },
    {
     "name": "stderr",
     "output_type": "stream",
     "text": [
      "C:\\Users\\DELL PC\\Anaconda3\\lib\\site-packages\\sklearn\\preprocessing\\label.py:171: DeprecationWarning: The truth value of an empty array is ambiguous. Returning False, but in future this will result in an error. Use `array.size > 0` to check that an array is not empty.\n",
      "  if diff:\n"
     ]
    },
    {
     "name": "stdout",
     "output_type": "stream",
     "text": [
      "[CV]  subsample=0.85, reg_alpha=0.001, n_estimators=300, min_child_weight=9, max_depth=9, learning_rate=0.05, gamma=0.2, colsample_bytree=0.85 -   0.1s\n",
      "[CV] subsample=0.8, reg_alpha=1, n_estimators=700, min_child_weight=7, max_depth=9, learning_rate=0.001, gamma=0.3, colsample_bytree=0.85 \n"
     ]
    },
    {
     "name": "stderr",
     "output_type": "stream",
     "text": [
      "C:\\Users\\DELL PC\\Anaconda3\\lib\\site-packages\\sklearn\\preprocessing\\label.py:171: DeprecationWarning: The truth value of an empty array is ambiguous. Returning False, but in future this will result in an error. Use `array.size > 0` to check that an array is not empty.\n",
      "  if diff:\n"
     ]
    },
    {
     "name": "stdout",
     "output_type": "stream",
     "text": [
      "[CV]  subsample=0.8, reg_alpha=1, n_estimators=700, min_child_weight=7, max_depth=9, learning_rate=0.001, gamma=0.3, colsample_bytree=0.85 -   0.4s\n",
      "[CV] subsample=0.8, reg_alpha=1, n_estimators=700, min_child_weight=7, max_depth=9, learning_rate=0.001, gamma=0.3, colsample_bytree=0.85 \n"
     ]
    },
    {
     "name": "stderr",
     "output_type": "stream",
     "text": [
      "C:\\Users\\DELL PC\\Anaconda3\\lib\\site-packages\\sklearn\\preprocessing\\label.py:171: DeprecationWarning: The truth value of an empty array is ambiguous. Returning False, but in future this will result in an error. Use `array.size > 0` to check that an array is not empty.\n",
      "  if diff:\n"
     ]
    },
    {
     "name": "stdout",
     "output_type": "stream",
     "text": [
      "[CV]  subsample=0.8, reg_alpha=1, n_estimators=700, min_child_weight=7, max_depth=9, learning_rate=0.001, gamma=0.3, colsample_bytree=0.85 -   0.4s\n",
      "[CV] subsample=0.8, reg_alpha=1, n_estimators=700, min_child_weight=7, max_depth=9, learning_rate=0.001, gamma=0.3, colsample_bytree=0.85 \n"
     ]
    },
    {
     "name": "stderr",
     "output_type": "stream",
     "text": [
      "C:\\Users\\DELL PC\\Anaconda3\\lib\\site-packages\\sklearn\\preprocessing\\label.py:171: DeprecationWarning: The truth value of an empty array is ambiguous. Returning False, but in future this will result in an error. Use `array.size > 0` to check that an array is not empty.\n",
      "  if diff:\n"
     ]
    },
    {
     "name": "stdout",
     "output_type": "stream",
     "text": [
      "[CV]  subsample=0.8, reg_alpha=1, n_estimators=700, min_child_weight=7, max_depth=9, learning_rate=0.001, gamma=0.3, colsample_bytree=0.85 -   0.4s\n",
      "[CV] subsample=0.8, reg_alpha=1, n_estimators=700, min_child_weight=7, max_depth=9, learning_rate=0.001, gamma=0.3, colsample_bytree=0.85 \n"
     ]
    },
    {
     "name": "stderr",
     "output_type": "stream",
     "text": [
      "C:\\Users\\DELL PC\\Anaconda3\\lib\\site-packages\\sklearn\\preprocessing\\label.py:171: DeprecationWarning: The truth value of an empty array is ambiguous. Returning False, but in future this will result in an error. Use `array.size > 0` to check that an array is not empty.\n",
      "  if diff:\n"
     ]
    },
    {
     "name": "stdout",
     "output_type": "stream",
     "text": [
      "[CV]  subsample=0.8, reg_alpha=1, n_estimators=700, min_child_weight=7, max_depth=9, learning_rate=0.001, gamma=0.3, colsample_bytree=0.85 -   0.4s\n",
      "[CV] subsample=0.8, reg_alpha=1, n_estimators=700, min_child_weight=7, max_depth=9, learning_rate=0.001, gamma=0.3, colsample_bytree=0.85 \n"
     ]
    },
    {
     "name": "stderr",
     "output_type": "stream",
     "text": [
      "C:\\Users\\DELL PC\\Anaconda3\\lib\\site-packages\\sklearn\\preprocessing\\label.py:171: DeprecationWarning: The truth value of an empty array is ambiguous. Returning False, but in future this will result in an error. Use `array.size > 0` to check that an array is not empty.\n",
      "  if diff:\n",
      "C:\\Users\\DELL PC\\Anaconda3\\lib\\site-packages\\sklearn\\preprocessing\\label.py:171: DeprecationWarning: The truth value of an empty array is ambiguous. Returning False, but in future this will result in an error. Use `array.size > 0` to check that an array is not empty.\n",
      "  if diff:\n",
      "C:\\Users\\DELL PC\\Anaconda3\\lib\\site-packages\\sklearn\\preprocessing\\label.py:171: DeprecationWarning: The truth value of an empty array is ambiguous. Returning False, but in future this will result in an error. Use `array.size > 0` to check that an array is not empty.\n",
      "  if diff:\n",
      "C:\\Users\\DELL PC\\Anaconda3\\lib\\site-packages\\sklearn\\preprocessing\\label.py:171: DeprecationWarning: The truth value of an empty array is ambiguous. Returning False, but in future this will result in an error. Use `array.size > 0` to check that an array is not empty.\n",
      "  if diff:\n",
      "C:\\Users\\DELL PC\\Anaconda3\\lib\\site-packages\\sklearn\\preprocessing\\label.py:171: DeprecationWarning: The truth value of an empty array is ambiguous. Returning False, but in future this will result in an error. Use `array.size > 0` to check that an array is not empty.\n",
      "  if diff:\n",
      "C:\\Users\\DELL PC\\Anaconda3\\lib\\site-packages\\sklearn\\preprocessing\\label.py:171: DeprecationWarning: The truth value of an empty array is ambiguous. Returning False, but in future this will result in an error. Use `array.size > 0` to check that an array is not empty.\n",
      "  if diff:\n"
     ]
    },
    {
     "name": "stdout",
     "output_type": "stream",
     "text": [
      "[CV]  subsample=0.8, reg_alpha=1, n_estimators=700, min_child_weight=7, max_depth=9, learning_rate=0.001, gamma=0.3, colsample_bytree=0.85 -   0.4s\n",
      "[CV] subsample=0.8, reg_alpha=0, n_estimators=10, min_child_weight=7, max_depth=8, learning_rate=0.001, gamma=0.4, colsample_bytree=0.85 \n",
      "[CV]  subsample=0.8, reg_alpha=0, n_estimators=10, min_child_weight=7, max_depth=8, learning_rate=0.001, gamma=0.4, colsample_bytree=0.85 -   0.0s\n",
      "[CV] subsample=0.8, reg_alpha=0, n_estimators=10, min_child_weight=7, max_depth=8, learning_rate=0.001, gamma=0.4, colsample_bytree=0.85 \n",
      "[CV]  subsample=0.8, reg_alpha=0, n_estimators=10, min_child_weight=7, max_depth=8, learning_rate=0.001, gamma=0.4, colsample_bytree=0.85 -   0.0s\n",
      "[CV] subsample=0.8, reg_alpha=0, n_estimators=10, min_child_weight=7, max_depth=8, learning_rate=0.001, gamma=0.4, colsample_bytree=0.85 \n",
      "[CV]  subsample=0.8, reg_alpha=0, n_estimators=10, min_child_weight=7, max_depth=8, learning_rate=0.001, gamma=0.4, colsample_bytree=0.85 -   0.0s\n",
      "[CV] subsample=0.8, reg_alpha=0, n_estimators=10, min_child_weight=7, max_depth=8, learning_rate=0.001, gamma=0.4, colsample_bytree=0.85 \n",
      "[CV]  subsample=0.8, reg_alpha=0, n_estimators=10, min_child_weight=7, max_depth=8, learning_rate=0.001, gamma=0.4, colsample_bytree=0.85 -   0.0s\n",
      "[CV] subsample=0.8, reg_alpha=0, n_estimators=10, min_child_weight=7, max_depth=8, learning_rate=0.001, gamma=0.4, colsample_bytree=0.85 \n",
      "[CV]  subsample=0.8, reg_alpha=0, n_estimators=10, min_child_weight=7, max_depth=8, learning_rate=0.001, gamma=0.4, colsample_bytree=0.85 -   0.0s\n",
      "[CV] subsample=0.75, reg_alpha=1e-05, n_estimators=200, min_child_weight=7, max_depth=8, learning_rate=0.05, gamma=0.3, colsample_bytree=0.8 \n"
     ]
    },
    {
     "name": "stderr",
     "output_type": "stream",
     "text": [
      "C:\\Users\\DELL PC\\Anaconda3\\lib\\site-packages\\sklearn\\preprocessing\\label.py:171: DeprecationWarning: The truth value of an empty array is ambiguous. Returning False, but in future this will result in an error. Use `array.size > 0` to check that an array is not empty.\n",
      "  if diff:\n",
      "C:\\Users\\DELL PC\\Anaconda3\\lib\\site-packages\\sklearn\\preprocessing\\label.py:171: DeprecationWarning: The truth value of an empty array is ambiguous. Returning False, but in future this will result in an error. Use `array.size > 0` to check that an array is not empty.\n",
      "  if diff:\n"
     ]
    },
    {
     "name": "stdout",
     "output_type": "stream",
     "text": [
      "[CV]  subsample=0.75, reg_alpha=1e-05, n_estimators=200, min_child_weight=7, max_depth=8, learning_rate=0.05, gamma=0.3, colsample_bytree=0.8 -   0.1s\n",
      "[CV] subsample=0.75, reg_alpha=1e-05, n_estimators=200, min_child_weight=7, max_depth=8, learning_rate=0.05, gamma=0.3, colsample_bytree=0.8 \n",
      "[CV]  subsample=0.75, reg_alpha=1e-05, n_estimators=200, min_child_weight=7, max_depth=8, learning_rate=0.05, gamma=0.3, colsample_bytree=0.8 -   0.1s\n",
      "[CV] subsample=0.75, reg_alpha=1e-05, n_estimators=200, min_child_weight=7, max_depth=8, learning_rate=0.05, gamma=0.3, colsample_bytree=0.8 \n"
     ]
    },
    {
     "name": "stderr",
     "output_type": "stream",
     "text": [
      "C:\\Users\\DELL PC\\Anaconda3\\lib\\site-packages\\sklearn\\preprocessing\\label.py:171: DeprecationWarning: The truth value of an empty array is ambiguous. Returning False, but in future this will result in an error. Use `array.size > 0` to check that an array is not empty.\n",
      "  if diff:\n",
      "C:\\Users\\DELL PC\\Anaconda3\\lib\\site-packages\\sklearn\\preprocessing\\label.py:171: DeprecationWarning: The truth value of an empty array is ambiguous. Returning False, but in future this will result in an error. Use `array.size > 0` to check that an array is not empty.\n",
      "  if diff:\n"
     ]
    },
    {
     "name": "stdout",
     "output_type": "stream",
     "text": [
      "[CV]  subsample=0.75, reg_alpha=1e-05, n_estimators=200, min_child_weight=7, max_depth=8, learning_rate=0.05, gamma=0.3, colsample_bytree=0.8 -   0.1s\n",
      "[CV] subsample=0.75, reg_alpha=1e-05, n_estimators=200, min_child_weight=7, max_depth=8, learning_rate=0.05, gamma=0.3, colsample_bytree=0.8 \n",
      "[CV]  subsample=0.75, reg_alpha=1e-05, n_estimators=200, min_child_weight=7, max_depth=8, learning_rate=0.05, gamma=0.3, colsample_bytree=0.8 -   0.1s\n",
      "[CV] subsample=0.75, reg_alpha=1e-05, n_estimators=200, min_child_weight=7, max_depth=8, learning_rate=0.05, gamma=0.3, colsample_bytree=0.8 \n"
     ]
    },
    {
     "name": "stderr",
     "output_type": "stream",
     "text": [
      "C:\\Users\\DELL PC\\Anaconda3\\lib\\site-packages\\sklearn\\preprocessing\\label.py:171: DeprecationWarning: The truth value of an empty array is ambiguous. Returning False, but in future this will result in an error. Use `array.size > 0` to check that an array is not empty.\n",
      "  if diff:\n",
      "C:\\Users\\DELL PC\\Anaconda3\\lib\\site-packages\\sklearn\\preprocessing\\label.py:171: DeprecationWarning: The truth value of an empty array is ambiguous. Returning False, but in future this will result in an error. Use `array.size > 0` to check that an array is not empty.\n",
      "  if diff:\n",
      "C:\\Users\\DELL PC\\Anaconda3\\lib\\site-packages\\sklearn\\preprocessing\\label.py:171: DeprecationWarning: The truth value of an empty array is ambiguous. Returning False, but in future this will result in an error. Use `array.size > 0` to check that an array is not empty.\n",
      "  if diff:\n",
      "C:\\Users\\DELL PC\\Anaconda3\\lib\\site-packages\\sklearn\\preprocessing\\label.py:171: DeprecationWarning: The truth value of an empty array is ambiguous. Returning False, but in future this will result in an error. Use `array.size > 0` to check that an array is not empty.\n",
      "  if diff:\n",
      "C:\\Users\\DELL PC\\Anaconda3\\lib\\site-packages\\sklearn\\preprocessing\\label.py:171: DeprecationWarning: The truth value of an empty array is ambiguous. Returning False, but in future this will result in an error. Use `array.size > 0` to check that an array is not empty.\n",
      "  if diff:\n"
     ]
    },
    {
     "name": "stdout",
     "output_type": "stream",
     "text": [
      "[CV]  subsample=0.75, reg_alpha=1e-05, n_estimators=200, min_child_weight=7, max_depth=8, learning_rate=0.05, gamma=0.3, colsample_bytree=0.8 -   0.1s\n",
      "[CV] subsample=0.75, reg_alpha=1e-05, n_estimators=100, min_child_weight=9, max_depth=9, learning_rate=0.01, gamma=0.2, colsample_bytree=0.8 \n",
      "[CV]  subsample=0.75, reg_alpha=1e-05, n_estimators=100, min_child_weight=9, max_depth=9, learning_rate=0.01, gamma=0.2, colsample_bytree=0.8 -   0.0s\n",
      "[CV] subsample=0.75, reg_alpha=1e-05, n_estimators=100, min_child_weight=9, max_depth=9, learning_rate=0.01, gamma=0.2, colsample_bytree=0.8 \n",
      "[CV]  subsample=0.75, reg_alpha=1e-05, n_estimators=100, min_child_weight=9, max_depth=9, learning_rate=0.01, gamma=0.2, colsample_bytree=0.8 -   0.0s\n",
      "[CV] subsample=0.75, reg_alpha=1e-05, n_estimators=100, min_child_weight=9, max_depth=9, learning_rate=0.01, gamma=0.2, colsample_bytree=0.8 \n",
      "[CV]  subsample=0.75, reg_alpha=1e-05, n_estimators=100, min_child_weight=9, max_depth=9, learning_rate=0.01, gamma=0.2, colsample_bytree=0.8 -   0.0s\n",
      "[CV] subsample=0.75, reg_alpha=1e-05, n_estimators=100, min_child_weight=9, max_depth=9, learning_rate=0.01, gamma=0.2, colsample_bytree=0.8 \n",
      "[CV]  subsample=0.75, reg_alpha=1e-05, n_estimators=100, min_child_weight=9, max_depth=9, learning_rate=0.01, gamma=0.2, colsample_bytree=0.8 -   0.0s\n",
      "[CV] subsample=0.75, reg_alpha=1e-05, n_estimators=100, min_child_weight=9, max_depth=9, learning_rate=0.01, gamma=0.2, colsample_bytree=0.8 \n"
     ]
    },
    {
     "name": "stderr",
     "output_type": "stream",
     "text": [
      "C:\\Users\\DELL PC\\Anaconda3\\lib\\site-packages\\sklearn\\preprocessing\\label.py:171: DeprecationWarning: The truth value of an empty array is ambiguous. Returning False, but in future this will result in an error. Use `array.size > 0` to check that an array is not empty.\n",
      "  if diff:\n",
      "C:\\Users\\DELL PC\\Anaconda3\\lib\\site-packages\\sklearn\\preprocessing\\label.py:171: DeprecationWarning: The truth value of an empty array is ambiguous. Returning False, but in future this will result in an error. Use `array.size > 0` to check that an array is not empty.\n",
      "  if diff:\n",
      "C:\\Users\\DELL PC\\Anaconda3\\lib\\site-packages\\sklearn\\preprocessing\\label.py:171: DeprecationWarning: The truth value of an empty array is ambiguous. Returning False, but in future this will result in an error. Use `array.size > 0` to check that an array is not empty.\n",
      "  if diff:\n",
      "C:\\Users\\DELL PC\\Anaconda3\\lib\\site-packages\\sklearn\\preprocessing\\label.py:171: DeprecationWarning: The truth value of an empty array is ambiguous. Returning False, but in future this will result in an error. Use `array.size > 0` to check that an array is not empty.\n",
      "  if diff:\n",
      "C:\\Users\\DELL PC\\Anaconda3\\lib\\site-packages\\sklearn\\preprocessing\\label.py:171: DeprecationWarning: The truth value of an empty array is ambiguous. Returning False, but in future this will result in an error. Use `array.size > 0` to check that an array is not empty.\n",
      "  if diff:\n",
      "C:\\Users\\DELL PC\\Anaconda3\\lib\\site-packages\\sklearn\\preprocessing\\label.py:171: DeprecationWarning: The truth value of an empty array is ambiguous. Returning False, but in future this will result in an error. Use `array.size > 0` to check that an array is not empty.\n",
      "  if diff:\n",
      "C:\\Users\\DELL PC\\Anaconda3\\lib\\site-packages\\sklearn\\preprocessing\\label.py:171: DeprecationWarning: The truth value of an empty array is ambiguous. Returning False, but in future this will result in an error. Use `array.size > 0` to check that an array is not empty.\n",
      "  if diff:\n",
      "C:\\Users\\DELL PC\\Anaconda3\\lib\\site-packages\\sklearn\\preprocessing\\label.py:171: DeprecationWarning: The truth value of an empty array is ambiguous. Returning False, but in future this will result in an error. Use `array.size > 0` to check that an array is not empty.\n",
      "  if diff:\n",
      "C:\\Users\\DELL PC\\Anaconda3\\lib\\site-packages\\sklearn\\preprocessing\\label.py:171: DeprecationWarning: The truth value of an empty array is ambiguous. Returning False, but in future this will result in an error. Use `array.size > 0` to check that an array is not empty.\n",
      "  if diff:\n",
      "C:\\Users\\DELL PC\\Anaconda3\\lib\\site-packages\\sklearn\\preprocessing\\label.py:171: DeprecationWarning: The truth value of an empty array is ambiguous. Returning False, but in future this will result in an error. Use `array.size > 0` to check that an array is not empty.\n",
      "  if diff:\n",
      "C:\\Users\\DELL PC\\Anaconda3\\lib\\site-packages\\sklearn\\preprocessing\\label.py:171: DeprecationWarning: The truth value of an empty array is ambiguous. Returning False, but in future this will result in an error. Use `array.size > 0` to check that an array is not empty.\n",
      "  if diff:\n",
      "C:\\Users\\DELL PC\\Anaconda3\\lib\\site-packages\\sklearn\\preprocessing\\label.py:171: DeprecationWarning: The truth value of an empty array is ambiguous. Returning False, but in future this will result in an error. Use `array.size > 0` to check that an array is not empty.\n",
      "  if diff:\n"
     ]
    },
    {
     "name": "stdout",
     "output_type": "stream",
     "text": [
      "[CV]  subsample=0.75, reg_alpha=1e-05, n_estimators=100, min_child_weight=9, max_depth=9, learning_rate=0.01, gamma=0.2, colsample_bytree=0.8 -   0.0s\n",
      "[CV] subsample=0.85, reg_alpha=0.005, n_estimators=10, min_child_weight=5, max_depth=6, learning_rate=0.25, gamma=0.0, colsample_bytree=0.75 \n",
      "[CV]  subsample=0.85, reg_alpha=0.005, n_estimators=10, min_child_weight=5, max_depth=6, learning_rate=0.25, gamma=0.0, colsample_bytree=0.75 -   0.0s\n",
      "[CV] subsample=0.85, reg_alpha=0.005, n_estimators=10, min_child_weight=5, max_depth=6, learning_rate=0.25, gamma=0.0, colsample_bytree=0.75 \n",
      "[CV]  subsample=0.85, reg_alpha=0.005, n_estimators=10, min_child_weight=5, max_depth=6, learning_rate=0.25, gamma=0.0, colsample_bytree=0.75 -   0.0s\n",
      "[CV] subsample=0.85, reg_alpha=0.005, n_estimators=10, min_child_weight=5, max_depth=6, learning_rate=0.25, gamma=0.0, colsample_bytree=0.75 \n",
      "[CV]  subsample=0.85, reg_alpha=0.005, n_estimators=10, min_child_weight=5, max_depth=6, learning_rate=0.25, gamma=0.0, colsample_bytree=0.75 -   0.0s\n",
      "[CV] subsample=0.85, reg_alpha=0.005, n_estimators=10, min_child_weight=5, max_depth=6, learning_rate=0.25, gamma=0.0, colsample_bytree=0.75 \n",
      "[CV]  subsample=0.85, reg_alpha=0.005, n_estimators=10, min_child_weight=5, max_depth=6, learning_rate=0.25, gamma=0.0, colsample_bytree=0.75 -   0.0s\n",
      "[CV] subsample=0.85, reg_alpha=0.005, n_estimators=10, min_child_weight=5, max_depth=6, learning_rate=0.25, gamma=0.0, colsample_bytree=0.75 \n",
      "[CV]  subsample=0.85, reg_alpha=0.005, n_estimators=10, min_child_weight=5, max_depth=6, learning_rate=0.25, gamma=0.0, colsample_bytree=0.75 -   0.0s\n",
      "[CV] subsample=0.8, reg_alpha=100, n_estimators=100, min_child_weight=1, max_depth=10, learning_rate=0.01, gamma=0.2, colsample_bytree=0.85 \n",
      "[CV]  subsample=0.8, reg_alpha=100, n_estimators=100, min_child_weight=1, max_depth=10, learning_rate=0.01, gamma=0.2, colsample_bytree=0.85 -   0.0s\n",
      "[CV] subsample=0.8, reg_alpha=100, n_estimators=100, min_child_weight=1, max_depth=10, learning_rate=0.01, gamma=0.2, colsample_bytree=0.85 \n",
      "[CV]  subsample=0.8, reg_alpha=100, n_estimators=100, min_child_weight=1, max_depth=10, learning_rate=0.01, gamma=0.2, colsample_bytree=0.85 -   0.0s\n",
      "[CV] subsample=0.8, reg_alpha=100, n_estimators=100, min_child_weight=1, max_depth=10, learning_rate=0.01, gamma=0.2, colsample_bytree=0.85 \n",
      "[CV]  subsample=0.8, reg_alpha=100, n_estimators=100, min_child_weight=1, max_depth=10, learning_rate=0.01, gamma=0.2, colsample_bytree=0.85 -   0.0s\n",
      "[CV] subsample=0.8, reg_alpha=100, n_estimators=100, min_child_weight=1, max_depth=10, learning_rate=0.01, gamma=0.2, colsample_bytree=0.85 \n",
      "[CV]  subsample=0.8, reg_alpha=100, n_estimators=100, min_child_weight=1, max_depth=10, learning_rate=0.01, gamma=0.2, colsample_bytree=0.85 -   0.0s\n",
      "[CV] subsample=0.8, reg_alpha=100, n_estimators=100, min_child_weight=1, max_depth=10, learning_rate=0.01, gamma=0.2, colsample_bytree=0.85 \n",
      "[CV]  subsample=0.8, reg_alpha=100, n_estimators=100, min_child_weight=1, max_depth=10, learning_rate=0.01, gamma=0.2, colsample_bytree=0.85 -   0.0s\n",
      "[CV] subsample=0.8, reg_alpha=0.005, n_estimators=30, min_child_weight=5, max_depth=7, learning_rate=0.001, gamma=0.3, colsample_bytree=0.8 \n",
      "[CV]  subsample=0.8, reg_alpha=0.005, n_estimators=30, min_child_weight=5, max_depth=7, learning_rate=0.001, gamma=0.3, colsample_bytree=0.8 -   0.0s\n",
      "[CV] subsample=0.8, reg_alpha=0.005, n_estimators=30, min_child_weight=5, max_depth=7, learning_rate=0.001, gamma=0.3, colsample_bytree=0.8 \n"
     ]
    },
    {
     "name": "stderr",
     "output_type": "stream",
     "text": [
      "C:\\Users\\DELL PC\\Anaconda3\\lib\\site-packages\\sklearn\\preprocessing\\label.py:171: DeprecationWarning: The truth value of an empty array is ambiguous. Returning False, but in future this will result in an error. Use `array.size > 0` to check that an array is not empty.\n",
      "  if diff:\n",
      "C:\\Users\\DELL PC\\Anaconda3\\lib\\site-packages\\sklearn\\preprocessing\\label.py:171: DeprecationWarning: The truth value of an empty array is ambiguous. Returning False, but in future this will result in an error. Use `array.size > 0` to check that an array is not empty.\n",
      "  if diff:\n",
      "C:\\Users\\DELL PC\\Anaconda3\\lib\\site-packages\\sklearn\\preprocessing\\label.py:171: DeprecationWarning: The truth value of an empty array is ambiguous. Returning False, but in future this will result in an error. Use `array.size > 0` to check that an array is not empty.\n",
      "  if diff:\n",
      "C:\\Users\\DELL PC\\Anaconda3\\lib\\site-packages\\sklearn\\preprocessing\\label.py:171: DeprecationWarning: The truth value of an empty array is ambiguous. Returning False, but in future this will result in an error. Use `array.size > 0` to check that an array is not empty.\n",
      "  if diff:\n"
     ]
    },
    {
     "name": "stdout",
     "output_type": "stream",
     "text": [
      "[CV]  subsample=0.8, reg_alpha=0.005, n_estimators=30, min_child_weight=5, max_depth=7, learning_rate=0.001, gamma=0.3, colsample_bytree=0.8 -   0.0s\n",
      "[CV] subsample=0.8, reg_alpha=0.005, n_estimators=30, min_child_weight=5, max_depth=7, learning_rate=0.001, gamma=0.3, colsample_bytree=0.8 \n",
      "[CV]  subsample=0.8, reg_alpha=0.005, n_estimators=30, min_child_weight=5, max_depth=7, learning_rate=0.001, gamma=0.3, colsample_bytree=0.8 -   0.0s\n",
      "[CV] subsample=0.8, reg_alpha=0.005, n_estimators=30, min_child_weight=5, max_depth=7, learning_rate=0.001, gamma=0.3, colsample_bytree=0.8 \n",
      "[CV]  subsample=0.8, reg_alpha=0.005, n_estimators=30, min_child_weight=5, max_depth=7, learning_rate=0.001, gamma=0.3, colsample_bytree=0.8 -   0.0s\n",
      "[CV] subsample=0.8, reg_alpha=0.005, n_estimators=30, min_child_weight=5, max_depth=7, learning_rate=0.001, gamma=0.3, colsample_bytree=0.8 \n",
      "[CV]  subsample=0.8, reg_alpha=0.005, n_estimators=30, min_child_weight=5, max_depth=7, learning_rate=0.001, gamma=0.3, colsample_bytree=0.8 -   0.0s\n",
      "[CV] subsample=0.8, reg_alpha=0.1, n_estimators=500, min_child_weight=5, max_depth=7, learning_rate=0.001, gamma=0.3, colsample_bytree=0.85 \n"
     ]
    },
    {
     "name": "stderr",
     "output_type": "stream",
     "text": [
      "C:\\Users\\DELL PC\\Anaconda3\\lib\\site-packages\\sklearn\\preprocessing\\label.py:171: DeprecationWarning: The truth value of an empty array is ambiguous. Returning False, but in future this will result in an error. Use `array.size > 0` to check that an array is not empty.\n",
      "  if diff:\n"
     ]
    },
    {
     "name": "stdout",
     "output_type": "stream",
     "text": [
      "[CV]  subsample=0.8, reg_alpha=0.1, n_estimators=500, min_child_weight=5, max_depth=7, learning_rate=0.001, gamma=0.3, colsample_bytree=0.85 -   0.1s\n",
      "[CV] subsample=0.8, reg_alpha=0.1, n_estimators=500, min_child_weight=5, max_depth=7, learning_rate=0.001, gamma=0.3, colsample_bytree=0.85 \n"
     ]
    },
    {
     "name": "stderr",
     "output_type": "stream",
     "text": [
      "C:\\Users\\DELL PC\\Anaconda3\\lib\\site-packages\\sklearn\\preprocessing\\label.py:171: DeprecationWarning: The truth value of an empty array is ambiguous. Returning False, but in future this will result in an error. Use `array.size > 0` to check that an array is not empty.\n",
      "  if diff:\n"
     ]
    },
    {
     "name": "stdout",
     "output_type": "stream",
     "text": [
      "[CV]  subsample=0.8, reg_alpha=0.1, n_estimators=500, min_child_weight=5, max_depth=7, learning_rate=0.001, gamma=0.3, colsample_bytree=0.85 -   0.2s\n",
      "[CV] subsample=0.8, reg_alpha=0.1, n_estimators=500, min_child_weight=5, max_depth=7, learning_rate=0.001, gamma=0.3, colsample_bytree=0.85 \n"
     ]
    },
    {
     "name": "stderr",
     "output_type": "stream",
     "text": [
      "C:\\Users\\DELL PC\\Anaconda3\\lib\\site-packages\\sklearn\\preprocessing\\label.py:171: DeprecationWarning: The truth value of an empty array is ambiguous. Returning False, but in future this will result in an error. Use `array.size > 0` to check that an array is not empty.\n",
      "  if diff:\n"
     ]
    },
    {
     "name": "stdout",
     "output_type": "stream",
     "text": [
      "[CV]  subsample=0.8, reg_alpha=0.1, n_estimators=500, min_child_weight=5, max_depth=7, learning_rate=0.001, gamma=0.3, colsample_bytree=0.85 -   0.1s\n",
      "[CV] subsample=0.8, reg_alpha=0.1, n_estimators=500, min_child_weight=5, max_depth=7, learning_rate=0.001, gamma=0.3, colsample_bytree=0.85 \n"
     ]
    },
    {
     "name": "stderr",
     "output_type": "stream",
     "text": [
      "C:\\Users\\DELL PC\\Anaconda3\\lib\\site-packages\\sklearn\\preprocessing\\label.py:171: DeprecationWarning: The truth value of an empty array is ambiguous. Returning False, but in future this will result in an error. Use `array.size > 0` to check that an array is not empty.\n",
      "  if diff:\n"
     ]
    },
    {
     "name": "stdout",
     "output_type": "stream",
     "text": [
      "[CV]  subsample=0.8, reg_alpha=0.1, n_estimators=500, min_child_weight=5, max_depth=7, learning_rate=0.001, gamma=0.3, colsample_bytree=0.85 -   0.2s\n",
      "[CV] subsample=0.8, reg_alpha=0.1, n_estimators=500, min_child_weight=5, max_depth=7, learning_rate=0.001, gamma=0.3, colsample_bytree=0.85 \n"
     ]
    },
    {
     "name": "stderr",
     "output_type": "stream",
     "text": [
      "C:\\Users\\DELL PC\\Anaconda3\\lib\\site-packages\\sklearn\\preprocessing\\label.py:171: DeprecationWarning: The truth value of an empty array is ambiguous. Returning False, but in future this will result in an error. Use `array.size > 0` to check that an array is not empty.\n",
      "  if diff:\n",
      "C:\\Users\\DELL PC\\Anaconda3\\lib\\site-packages\\sklearn\\preprocessing\\label.py:171: DeprecationWarning: The truth value of an empty array is ambiguous. Returning False, but in future this will result in an error. Use `array.size > 0` to check that an array is not empty.\n",
      "  if diff:\n"
     ]
    },
    {
     "name": "stdout",
     "output_type": "stream",
     "text": [
      "[CV]  subsample=0.8, reg_alpha=0.1, n_estimators=500, min_child_weight=5, max_depth=7, learning_rate=0.001, gamma=0.3, colsample_bytree=0.85 -   0.2s\n",
      "[CV] subsample=0.85, reg_alpha=0.1, n_estimators=300, min_child_weight=9, max_depth=5, learning_rate=0.21, gamma=0.3, colsample_bytree=0.75 \n",
      "[CV]  subsample=0.85, reg_alpha=0.1, n_estimators=300, min_child_weight=9, max_depth=5, learning_rate=0.21, gamma=0.3, colsample_bytree=0.75 -   0.0s\n",
      "[CV] subsample=0.85, reg_alpha=0.1, n_estimators=300, min_child_weight=9, max_depth=5, learning_rate=0.21, gamma=0.3, colsample_bytree=0.75 \n"
     ]
    },
    {
     "name": "stderr",
     "output_type": "stream",
     "text": [
      "C:\\Users\\DELL PC\\Anaconda3\\lib\\site-packages\\sklearn\\preprocessing\\label.py:171: DeprecationWarning: The truth value of an empty array is ambiguous. Returning False, but in future this will result in an error. Use `array.size > 0` to check that an array is not empty.\n",
      "  if diff:\n",
      "C:\\Users\\DELL PC\\Anaconda3\\lib\\site-packages\\sklearn\\preprocessing\\label.py:171: DeprecationWarning: The truth value of an empty array is ambiguous. Returning False, but in future this will result in an error. Use `array.size > 0` to check that an array is not empty.\n",
      "  if diff:\n"
     ]
    },
    {
     "name": "stdout",
     "output_type": "stream",
     "text": [
      "[CV]  subsample=0.85, reg_alpha=0.1, n_estimators=300, min_child_weight=9, max_depth=5, learning_rate=0.21, gamma=0.3, colsample_bytree=0.75 -   0.0s\n",
      "[CV] subsample=0.85, reg_alpha=0.1, n_estimators=300, min_child_weight=9, max_depth=5, learning_rate=0.21, gamma=0.3, colsample_bytree=0.75 \n",
      "[CV]  subsample=0.85, reg_alpha=0.1, n_estimators=300, min_child_weight=9, max_depth=5, learning_rate=0.21, gamma=0.3, colsample_bytree=0.75 -   0.0s\n",
      "[CV] subsample=0.85, reg_alpha=0.1, n_estimators=300, min_child_weight=9, max_depth=5, learning_rate=0.21, gamma=0.3, colsample_bytree=0.75 \n"
     ]
    },
    {
     "name": "stderr",
     "output_type": "stream",
     "text": [
      "C:\\Users\\DELL PC\\Anaconda3\\lib\\site-packages\\sklearn\\preprocessing\\label.py:171: DeprecationWarning: The truth value of an empty array is ambiguous. Returning False, but in future this will result in an error. Use `array.size > 0` to check that an array is not empty.\n",
      "  if diff:\n",
      "C:\\Users\\DELL PC\\Anaconda3\\lib\\site-packages\\sklearn\\preprocessing\\label.py:171: DeprecationWarning: The truth value of an empty array is ambiguous. Returning False, but in future this will result in an error. Use `array.size > 0` to check that an array is not empty.\n",
      "  if diff:\n",
      "C:\\Users\\DELL PC\\Anaconda3\\lib\\site-packages\\sklearn\\preprocessing\\label.py:171: DeprecationWarning: The truth value of an empty array is ambiguous. Returning False, but in future this will result in an error. Use `array.size > 0` to check that an array is not empty.\n",
      "  if diff:\n"
     ]
    },
    {
     "name": "stdout",
     "output_type": "stream",
     "text": [
      "[CV]  subsample=0.85, reg_alpha=0.1, n_estimators=300, min_child_weight=9, max_depth=5, learning_rate=0.21, gamma=0.3, colsample_bytree=0.75 -   0.0s\n",
      "[CV] subsample=0.85, reg_alpha=0.1, n_estimators=300, min_child_weight=9, max_depth=5, learning_rate=0.21, gamma=0.3, colsample_bytree=0.75 \n",
      "[CV]  subsample=0.85, reg_alpha=0.1, n_estimators=300, min_child_weight=9, max_depth=5, learning_rate=0.21, gamma=0.3, colsample_bytree=0.75 -   0.0s\n",
      "[CV] subsample=0.85, reg_alpha=0.1, n_estimators=100, min_child_weight=9, max_depth=4, learning_rate=0.01, gamma=0.2, colsample_bytree=0.85 \n",
      "[CV]  subsample=0.85, reg_alpha=0.1, n_estimators=100, min_child_weight=9, max_depth=4, learning_rate=0.01, gamma=0.2, colsample_bytree=0.85 -   0.0s\n",
      "[CV] subsample=0.85, reg_alpha=0.1, n_estimators=100, min_child_weight=9, max_depth=4, learning_rate=0.01, gamma=0.2, colsample_bytree=0.85 \n"
     ]
    },
    {
     "name": "stderr",
     "output_type": "stream",
     "text": [
      "C:\\Users\\DELL PC\\Anaconda3\\lib\\site-packages\\sklearn\\preprocessing\\label.py:171: DeprecationWarning: The truth value of an empty array is ambiguous. Returning False, but in future this will result in an error. Use `array.size > 0` to check that an array is not empty.\n",
      "  if diff:\n",
      "C:\\Users\\DELL PC\\Anaconda3\\lib\\site-packages\\sklearn\\preprocessing\\label.py:171: DeprecationWarning: The truth value of an empty array is ambiguous. Returning False, but in future this will result in an error. Use `array.size > 0` to check that an array is not empty.\n",
      "  if diff:\n",
      "C:\\Users\\DELL PC\\Anaconda3\\lib\\site-packages\\sklearn\\preprocessing\\label.py:171: DeprecationWarning: The truth value of an empty array is ambiguous. Returning False, but in future this will result in an error. Use `array.size > 0` to check that an array is not empty.\n",
      "  if diff:\n",
      "C:\\Users\\DELL PC\\Anaconda3\\lib\\site-packages\\sklearn\\preprocessing\\label.py:171: DeprecationWarning: The truth value of an empty array is ambiguous. Returning False, but in future this will result in an error. Use `array.size > 0` to check that an array is not empty.\n",
      "  if diff:\n"
     ]
    },
    {
     "name": "stdout",
     "output_type": "stream",
     "text": [
      "[CV]  subsample=0.85, reg_alpha=0.1, n_estimators=100, min_child_weight=9, max_depth=4, learning_rate=0.01, gamma=0.2, colsample_bytree=0.85 -   0.0s\n",
      "[CV] subsample=0.85, reg_alpha=0.1, n_estimators=100, min_child_weight=9, max_depth=4, learning_rate=0.01, gamma=0.2, colsample_bytree=0.85 \n",
      "[CV]  subsample=0.85, reg_alpha=0.1, n_estimators=100, min_child_weight=9, max_depth=4, learning_rate=0.01, gamma=0.2, colsample_bytree=0.85 -   0.0s\n",
      "[CV] subsample=0.85, reg_alpha=0.1, n_estimators=100, min_child_weight=9, max_depth=4, learning_rate=0.01, gamma=0.2, colsample_bytree=0.85 \n",
      "[CV]  subsample=0.85, reg_alpha=0.1, n_estimators=100, min_child_weight=9, max_depth=4, learning_rate=0.01, gamma=0.2, colsample_bytree=0.85 -   0.0s\n",
      "[CV] subsample=0.85, reg_alpha=0.1, n_estimators=100, min_child_weight=9, max_depth=4, learning_rate=0.01, gamma=0.2, colsample_bytree=0.85 \n",
      "[CV]  subsample=0.85, reg_alpha=0.1, n_estimators=100, min_child_weight=9, max_depth=4, learning_rate=0.01, gamma=0.2, colsample_bytree=0.85 -   0.0s\n",
      "[CV] subsample=0.75, reg_alpha=0, n_estimators=500, min_child_weight=7, max_depth=3, learning_rate=0.21, gamma=0.3, colsample_bytree=0.75 \n"
     ]
    },
    {
     "name": "stderr",
     "output_type": "stream",
     "text": [
      "C:\\Users\\DELL PC\\Anaconda3\\lib\\site-packages\\sklearn\\preprocessing\\label.py:171: DeprecationWarning: The truth value of an empty array is ambiguous. Returning False, but in future this will result in an error. Use `array.size > 0` to check that an array is not empty.\n",
      "  if diff:\n",
      "C:\\Users\\DELL PC\\Anaconda3\\lib\\site-packages\\sklearn\\preprocessing\\label.py:171: DeprecationWarning: The truth value of an empty array is ambiguous. Returning False, but in future this will result in an error. Use `array.size > 0` to check that an array is not empty.\n",
      "  if diff:\n"
     ]
    },
    {
     "name": "stdout",
     "output_type": "stream",
     "text": [
      "[CV]  subsample=0.75, reg_alpha=0, n_estimators=500, min_child_weight=7, max_depth=3, learning_rate=0.21, gamma=0.3, colsample_bytree=0.75 -   0.1s\n",
      "[CV] subsample=0.75, reg_alpha=0, n_estimators=500, min_child_weight=7, max_depth=3, learning_rate=0.21, gamma=0.3, colsample_bytree=0.75 \n",
      "[CV]  subsample=0.75, reg_alpha=0, n_estimators=500, min_child_weight=7, max_depth=3, learning_rate=0.21, gamma=0.3, colsample_bytree=0.75 -   0.1s\n",
      "[CV] subsample=0.75, reg_alpha=0, n_estimators=500, min_child_weight=7, max_depth=3, learning_rate=0.21, gamma=0.3, colsample_bytree=0.75 \n"
     ]
    },
    {
     "name": "stderr",
     "output_type": "stream",
     "text": [
      "C:\\Users\\DELL PC\\Anaconda3\\lib\\site-packages\\sklearn\\preprocessing\\label.py:171: DeprecationWarning: The truth value of an empty array is ambiguous. Returning False, but in future this will result in an error. Use `array.size > 0` to check that an array is not empty.\n",
      "  if diff:\n"
     ]
    },
    {
     "name": "stdout",
     "output_type": "stream",
     "text": [
      "[CV]  subsample=0.75, reg_alpha=0, n_estimators=500, min_child_weight=7, max_depth=3, learning_rate=0.21, gamma=0.3, colsample_bytree=0.75 -   0.1s\n",
      "[CV] subsample=0.75, reg_alpha=0, n_estimators=500, min_child_weight=7, max_depth=3, learning_rate=0.21, gamma=0.3, colsample_bytree=0.75 \n"
     ]
    },
    {
     "name": "stderr",
     "output_type": "stream",
     "text": [
      "C:\\Users\\DELL PC\\Anaconda3\\lib\\site-packages\\sklearn\\preprocessing\\label.py:171: DeprecationWarning: The truth value of an empty array is ambiguous. Returning False, but in future this will result in an error. Use `array.size > 0` to check that an array is not empty.\n",
      "  if diff:\n"
     ]
    },
    {
     "name": "stdout",
     "output_type": "stream",
     "text": [
      "[CV]  subsample=0.75, reg_alpha=0, n_estimators=500, min_child_weight=7, max_depth=3, learning_rate=0.21, gamma=0.3, colsample_bytree=0.75 -   0.2s\n",
      "[CV] subsample=0.75, reg_alpha=0, n_estimators=500, min_child_weight=7, max_depth=3, learning_rate=0.21, gamma=0.3, colsample_bytree=0.75 \n"
     ]
    },
    {
     "name": "stderr",
     "output_type": "stream",
     "text": [
      "C:\\Users\\DELL PC\\Anaconda3\\lib\\site-packages\\sklearn\\preprocessing\\label.py:171: DeprecationWarning: The truth value of an empty array is ambiguous. Returning False, but in future this will result in an error. Use `array.size > 0` to check that an array is not empty.\n",
      "  if diff:\n",
      "C:\\Users\\DELL PC\\Anaconda3\\lib\\site-packages\\sklearn\\preprocessing\\label.py:171: DeprecationWarning: The truth value of an empty array is ambiguous. Returning False, but in future this will result in an error. Use `array.size > 0` to check that an array is not empty.\n",
      "  if diff:\n",
      "C:\\Users\\DELL PC\\Anaconda3\\lib\\site-packages\\sklearn\\preprocessing\\label.py:171: DeprecationWarning: The truth value of an empty array is ambiguous. Returning False, but in future this will result in an error. Use `array.size > 0` to check that an array is not empty.\n",
      "  if diff:\n",
      "C:\\Users\\DELL PC\\Anaconda3\\lib\\site-packages\\sklearn\\preprocessing\\label.py:171: DeprecationWarning: The truth value of an empty array is ambiguous. Returning False, but in future this will result in an error. Use `array.size > 0` to check that an array is not empty.\n",
      "  if diff:\n",
      "C:\\Users\\DELL PC\\Anaconda3\\lib\\site-packages\\sklearn\\preprocessing\\label.py:171: DeprecationWarning: The truth value of an empty array is ambiguous. Returning False, but in future this will result in an error. Use `array.size > 0` to check that an array is not empty.\n",
      "  if diff:\n",
      "C:\\Users\\DELL PC\\Anaconda3\\lib\\site-packages\\sklearn\\preprocessing\\label.py:171: DeprecationWarning: The truth value of an empty array is ambiguous. Returning False, but in future this will result in an error. Use `array.size > 0` to check that an array is not empty.\n",
      "  if diff:\n"
     ]
    },
    {
     "name": "stdout",
     "output_type": "stream",
     "text": [
      "[CV]  subsample=0.75, reg_alpha=0, n_estimators=500, min_child_weight=7, max_depth=3, learning_rate=0.21, gamma=0.3, colsample_bytree=0.75 -   0.2s\n",
      "[CV] subsample=0.85, reg_alpha=0.05, n_estimators=10, min_child_weight=7, max_depth=5, learning_rate=0.21, gamma=0.3, colsample_bytree=0.85 \n",
      "[CV]  subsample=0.85, reg_alpha=0.05, n_estimators=10, min_child_weight=7, max_depth=5, learning_rate=0.21, gamma=0.3, colsample_bytree=0.85 -   0.0s\n",
      "[CV] subsample=0.85, reg_alpha=0.05, n_estimators=10, min_child_weight=7, max_depth=5, learning_rate=0.21, gamma=0.3, colsample_bytree=0.85 \n",
      "[CV]  subsample=0.85, reg_alpha=0.05, n_estimators=10, min_child_weight=7, max_depth=5, learning_rate=0.21, gamma=0.3, colsample_bytree=0.85 -   0.0s\n",
      "[CV] subsample=0.85, reg_alpha=0.05, n_estimators=10, min_child_weight=7, max_depth=5, learning_rate=0.21, gamma=0.3, colsample_bytree=0.85 \n",
      "[CV]  subsample=0.85, reg_alpha=0.05, n_estimators=10, min_child_weight=7, max_depth=5, learning_rate=0.21, gamma=0.3, colsample_bytree=0.85 -   0.0s\n",
      "[CV] subsample=0.85, reg_alpha=0.05, n_estimators=10, min_child_weight=7, max_depth=5, learning_rate=0.21, gamma=0.3, colsample_bytree=0.85 \n",
      "[CV]  subsample=0.85, reg_alpha=0.05, n_estimators=10, min_child_weight=7, max_depth=5, learning_rate=0.21, gamma=0.3, colsample_bytree=0.85 -   0.0s\n",
      "[CV] subsample=0.85, reg_alpha=0.05, n_estimators=10, min_child_weight=7, max_depth=5, learning_rate=0.21, gamma=0.3, colsample_bytree=0.85 \n",
      "[CV]  subsample=0.85, reg_alpha=0.05, n_estimators=10, min_child_weight=7, max_depth=5, learning_rate=0.21, gamma=0.3, colsample_bytree=0.85 -   0.0s\n",
      "[CV] subsample=0.85, reg_alpha=0.05, n_estimators=700, min_child_weight=3, max_depth=6, learning_rate=0.25, gamma=0.1, colsample_bytree=0.85 \n"
     ]
    },
    {
     "name": "stderr",
     "output_type": "stream",
     "text": [
      "C:\\Users\\DELL PC\\Anaconda3\\lib\\site-packages\\sklearn\\preprocessing\\label.py:171: DeprecationWarning: The truth value of an empty array is ambiguous. Returning False, but in future this will result in an error. Use `array.size > 0` to check that an array is not empty.\n",
      "  if diff:\n"
     ]
    },
    {
     "name": "stdout",
     "output_type": "stream",
     "text": [
      "[CV]  subsample=0.85, reg_alpha=0.05, n_estimators=700, min_child_weight=3, max_depth=6, learning_rate=0.25, gamma=0.1, colsample_bytree=0.85 -   0.5s\n",
      "[CV] subsample=0.85, reg_alpha=0.05, n_estimators=700, min_child_weight=3, max_depth=6, learning_rate=0.25, gamma=0.1, colsample_bytree=0.85 \n"
     ]
    },
    {
     "name": "stderr",
     "output_type": "stream",
     "text": [
      "C:\\Users\\DELL PC\\Anaconda3\\lib\\site-packages\\sklearn\\preprocessing\\label.py:171: DeprecationWarning: The truth value of an empty array is ambiguous. Returning False, but in future this will result in an error. Use `array.size > 0` to check that an array is not empty.\n",
      "  if diff:\n"
     ]
    },
    {
     "name": "stdout",
     "output_type": "stream",
     "text": [
      "[CV]  subsample=0.85, reg_alpha=0.05, n_estimators=700, min_child_weight=3, max_depth=6, learning_rate=0.25, gamma=0.1, colsample_bytree=0.85 -   0.4s\n",
      "[CV] subsample=0.85, reg_alpha=0.05, n_estimators=700, min_child_weight=3, max_depth=6, learning_rate=0.25, gamma=0.1, colsample_bytree=0.85 \n"
     ]
    },
    {
     "name": "stderr",
     "output_type": "stream",
     "text": [
      "C:\\Users\\DELL PC\\Anaconda3\\lib\\site-packages\\sklearn\\preprocessing\\label.py:171: DeprecationWarning: The truth value of an empty array is ambiguous. Returning False, but in future this will result in an error. Use `array.size > 0` to check that an array is not empty.\n",
      "  if diff:\n"
     ]
    },
    {
     "name": "stdout",
     "output_type": "stream",
     "text": [
      "[CV]  subsample=0.85, reg_alpha=0.05, n_estimators=700, min_child_weight=3, max_depth=6, learning_rate=0.25, gamma=0.1, colsample_bytree=0.85 -   0.3s\n",
      "[CV] subsample=0.85, reg_alpha=0.05, n_estimators=700, min_child_weight=3, max_depth=6, learning_rate=0.25, gamma=0.1, colsample_bytree=0.85 \n"
     ]
    },
    {
     "name": "stderr",
     "output_type": "stream",
     "text": [
      "C:\\Users\\DELL PC\\Anaconda3\\lib\\site-packages\\sklearn\\preprocessing\\label.py:171: DeprecationWarning: The truth value of an empty array is ambiguous. Returning False, but in future this will result in an error. Use `array.size > 0` to check that an array is not empty.\n",
      "  if diff:\n"
     ]
    },
    {
     "name": "stdout",
     "output_type": "stream",
     "text": [
      "[CV]  subsample=0.85, reg_alpha=0.05, n_estimators=700, min_child_weight=3, max_depth=6, learning_rate=0.25, gamma=0.1, colsample_bytree=0.85 -   0.3s\n",
      "[CV] subsample=0.85, reg_alpha=0.05, n_estimators=700, min_child_weight=3, max_depth=6, learning_rate=0.25, gamma=0.1, colsample_bytree=0.85 \n"
     ]
    },
    {
     "name": "stderr",
     "output_type": "stream",
     "text": [
      "C:\\Users\\DELL PC\\Anaconda3\\lib\\site-packages\\sklearn\\preprocessing\\label.py:171: DeprecationWarning: The truth value of an empty array is ambiguous. Returning False, but in future this will result in an error. Use `array.size > 0` to check that an array is not empty.\n",
      "  if diff:\n",
      "C:\\Users\\DELL PC\\Anaconda3\\lib\\site-packages\\sklearn\\preprocessing\\label.py:171: DeprecationWarning: The truth value of an empty array is ambiguous. Returning False, but in future this will result in an error. Use `array.size > 0` to check that an array is not empty.\n",
      "  if diff:\n",
      "C:\\Users\\DELL PC\\Anaconda3\\lib\\site-packages\\sklearn\\preprocessing\\label.py:171: DeprecationWarning: The truth value of an empty array is ambiguous. Returning False, but in future this will result in an error. Use `array.size > 0` to check that an array is not empty.\n",
      "  if diff:\n",
      "C:\\Users\\DELL PC\\Anaconda3\\lib\\site-packages\\sklearn\\preprocessing\\label.py:171: DeprecationWarning: The truth value of an empty array is ambiguous. Returning False, but in future this will result in an error. Use `array.size > 0` to check that an array is not empty.\n",
      "  if diff:\n",
      "C:\\Users\\DELL PC\\Anaconda3\\lib\\site-packages\\sklearn\\preprocessing\\label.py:171: DeprecationWarning: The truth value of an empty array is ambiguous. Returning False, but in future this will result in an error. Use `array.size > 0` to check that an array is not empty.\n",
      "  if diff:\n",
      "C:\\Users\\DELL PC\\Anaconda3\\lib\\site-packages\\sklearn\\preprocessing\\label.py:171: DeprecationWarning: The truth value of an empty array is ambiguous. Returning False, but in future this will result in an error. Use `array.size > 0` to check that an array is not empty.\n",
      "  if diff:\n"
     ]
    },
    {
     "name": "stdout",
     "output_type": "stream",
     "text": [
      "[CV]  subsample=0.85, reg_alpha=0.05, n_estimators=700, min_child_weight=3, max_depth=6, learning_rate=0.25, gamma=0.1, colsample_bytree=0.85 -   0.3s\n",
      "[CV] subsample=0.85, reg_alpha=100, n_estimators=10, min_child_weight=7, max_depth=6, learning_rate=0.001, gamma=0.4, colsample_bytree=0.75 \n",
      "[CV]  subsample=0.85, reg_alpha=100, n_estimators=10, min_child_weight=7, max_depth=6, learning_rate=0.001, gamma=0.4, colsample_bytree=0.75 -   0.0s\n",
      "[CV] subsample=0.85, reg_alpha=100, n_estimators=10, min_child_weight=7, max_depth=6, learning_rate=0.001, gamma=0.4, colsample_bytree=0.75 \n",
      "[CV]  subsample=0.85, reg_alpha=100, n_estimators=10, min_child_weight=7, max_depth=6, learning_rate=0.001, gamma=0.4, colsample_bytree=0.75 -   0.0s\n",
      "[CV] subsample=0.85, reg_alpha=100, n_estimators=10, min_child_weight=7, max_depth=6, learning_rate=0.001, gamma=0.4, colsample_bytree=0.75 \n",
      "[CV]  subsample=0.85, reg_alpha=100, n_estimators=10, min_child_weight=7, max_depth=6, learning_rate=0.001, gamma=0.4, colsample_bytree=0.75 -   0.0s\n",
      "[CV] subsample=0.85, reg_alpha=100, n_estimators=10, min_child_weight=7, max_depth=6, learning_rate=0.001, gamma=0.4, colsample_bytree=0.75 \n",
      "[CV]  subsample=0.85, reg_alpha=100, n_estimators=10, min_child_weight=7, max_depth=6, learning_rate=0.001, gamma=0.4, colsample_bytree=0.75 -   0.0s\n",
      "[CV] subsample=0.85, reg_alpha=100, n_estimators=10, min_child_weight=7, max_depth=6, learning_rate=0.001, gamma=0.4, colsample_bytree=0.75 \n",
      "[CV]  subsample=0.85, reg_alpha=100, n_estimators=10, min_child_weight=7, max_depth=6, learning_rate=0.001, gamma=0.4, colsample_bytree=0.75 -   0.0s\n",
      "[CV] subsample=0.8, reg_alpha=0.005, n_estimators=1000, min_child_weight=7, max_depth=3, learning_rate=0.01, gamma=0.0, colsample_bytree=0.75 \n"
     ]
    },
    {
     "name": "stderr",
     "output_type": "stream",
     "text": [
      "C:\\Users\\DELL PC\\Anaconda3\\lib\\site-packages\\sklearn\\preprocessing\\label.py:171: DeprecationWarning: The truth value of an empty array is ambiguous. Returning False, but in future this will result in an error. Use `array.size > 0` to check that an array is not empty.\n",
      "  if diff:\n"
     ]
    },
    {
     "name": "stdout",
     "output_type": "stream",
     "text": [
      "[CV]  subsample=0.8, reg_alpha=0.005, n_estimators=1000, min_child_weight=7, max_depth=3, learning_rate=0.01, gamma=0.0, colsample_bytree=0.75 -   0.2s\n",
      "[CV] subsample=0.8, reg_alpha=0.005, n_estimators=1000, min_child_weight=7, max_depth=3, learning_rate=0.01, gamma=0.0, colsample_bytree=0.75 \n"
     ]
    },
    {
     "name": "stderr",
     "output_type": "stream",
     "text": [
      "C:\\Users\\DELL PC\\Anaconda3\\lib\\site-packages\\sklearn\\preprocessing\\label.py:171: DeprecationWarning: The truth value of an empty array is ambiguous. Returning False, but in future this will result in an error. Use `array.size > 0` to check that an array is not empty.\n",
      "  if diff:\n"
     ]
    },
    {
     "name": "stdout",
     "output_type": "stream",
     "text": [
      "[CV]  subsample=0.8, reg_alpha=0.005, n_estimators=1000, min_child_weight=7, max_depth=3, learning_rate=0.01, gamma=0.0, colsample_bytree=0.75 -   0.4s\n",
      "[CV] subsample=0.8, reg_alpha=0.005, n_estimators=1000, min_child_weight=7, max_depth=3, learning_rate=0.01, gamma=0.0, colsample_bytree=0.75 \n"
     ]
    },
    {
     "name": "stderr",
     "output_type": "stream",
     "text": [
      "C:\\Users\\DELL PC\\Anaconda3\\lib\\site-packages\\sklearn\\preprocessing\\label.py:171: DeprecationWarning: The truth value of an empty array is ambiguous. Returning False, but in future this will result in an error. Use `array.size > 0` to check that an array is not empty.\n",
      "  if diff:\n"
     ]
    },
    {
     "name": "stdout",
     "output_type": "stream",
     "text": [
      "[CV]  subsample=0.8, reg_alpha=0.005, n_estimators=1000, min_child_weight=7, max_depth=3, learning_rate=0.01, gamma=0.0, colsample_bytree=0.75 -   0.4s\n",
      "[CV] subsample=0.8, reg_alpha=0.005, n_estimators=1000, min_child_weight=7, max_depth=3, learning_rate=0.01, gamma=0.0, colsample_bytree=0.75 \n"
     ]
    },
    {
     "name": "stderr",
     "output_type": "stream",
     "text": [
      "C:\\Users\\DELL PC\\Anaconda3\\lib\\site-packages\\sklearn\\preprocessing\\label.py:171: DeprecationWarning: The truth value of an empty array is ambiguous. Returning False, but in future this will result in an error. Use `array.size > 0` to check that an array is not empty.\n",
      "  if diff:\n"
     ]
    },
    {
     "name": "stdout",
     "output_type": "stream",
     "text": [
      "[CV]  subsample=0.8, reg_alpha=0.005, n_estimators=1000, min_child_weight=7, max_depth=3, learning_rate=0.01, gamma=0.0, colsample_bytree=0.75 -   0.4s\n",
      "[CV] subsample=0.8, reg_alpha=0.005, n_estimators=1000, min_child_weight=7, max_depth=3, learning_rate=0.01, gamma=0.0, colsample_bytree=0.75 \n"
     ]
    },
    {
     "name": "stderr",
     "output_type": "stream",
     "text": [
      "C:\\Users\\DELL PC\\Anaconda3\\lib\\site-packages\\sklearn\\preprocessing\\label.py:171: DeprecationWarning: The truth value of an empty array is ambiguous. Returning False, but in future this will result in an error. Use `array.size > 0` to check that an array is not empty.\n",
      "  if diff:\n",
      "C:\\Users\\DELL PC\\Anaconda3\\lib\\site-packages\\sklearn\\preprocessing\\label.py:171: DeprecationWarning: The truth value of an empty array is ambiguous. Returning False, but in future this will result in an error. Use `array.size > 0` to check that an array is not empty.\n",
      "  if diff:\n",
      "C:\\Users\\DELL PC\\Anaconda3\\lib\\site-packages\\sklearn\\preprocessing\\label.py:171: DeprecationWarning: The truth value of an empty array is ambiguous. Returning False, but in future this will result in an error. Use `array.size > 0` to check that an array is not empty.\n",
      "  if diff:\n",
      "C:\\Users\\DELL PC\\Anaconda3\\lib\\site-packages\\sklearn\\preprocessing\\label.py:171: DeprecationWarning: The truth value of an empty array is ambiguous. Returning False, but in future this will result in an error. Use `array.size > 0` to check that an array is not empty.\n",
      "  if diff:\n",
      "C:\\Users\\DELL PC\\Anaconda3\\lib\\site-packages\\sklearn\\preprocessing\\label.py:171: DeprecationWarning: The truth value of an empty array is ambiguous. Returning False, but in future this will result in an error. Use `array.size > 0` to check that an array is not empty.\n",
      "  if diff:\n",
      "C:\\Users\\DELL PC\\Anaconda3\\lib\\site-packages\\sklearn\\preprocessing\\label.py:171: DeprecationWarning: The truth value of an empty array is ambiguous. Returning False, but in future this will result in an error. Use `array.size > 0` to check that an array is not empty.\n",
      "  if diff:\n"
     ]
    },
    {
     "name": "stdout",
     "output_type": "stream",
     "text": [
      "[CV]  subsample=0.8, reg_alpha=0.005, n_estimators=1000, min_child_weight=7, max_depth=3, learning_rate=0.01, gamma=0.0, colsample_bytree=0.75 -   0.2s\n",
      "[CV] subsample=0.8, reg_alpha=1, n_estimators=60, min_child_weight=9, max_depth=7, learning_rate=0.25, gamma=0.2, colsample_bytree=0.8 \n",
      "[CV]  subsample=0.8, reg_alpha=1, n_estimators=60, min_child_weight=9, max_depth=7, learning_rate=0.25, gamma=0.2, colsample_bytree=0.8 -   0.0s\n",
      "[CV] subsample=0.8, reg_alpha=1, n_estimators=60, min_child_weight=9, max_depth=7, learning_rate=0.25, gamma=0.2, colsample_bytree=0.8 \n",
      "[CV]  subsample=0.8, reg_alpha=1, n_estimators=60, min_child_weight=9, max_depth=7, learning_rate=0.25, gamma=0.2, colsample_bytree=0.8 -   0.0s\n",
      "[CV] subsample=0.8, reg_alpha=1, n_estimators=60, min_child_weight=9, max_depth=7, learning_rate=0.25, gamma=0.2, colsample_bytree=0.8 \n",
      "[CV]  subsample=0.8, reg_alpha=1, n_estimators=60, min_child_weight=9, max_depth=7, learning_rate=0.25, gamma=0.2, colsample_bytree=0.8 -   0.0s\n",
      "[CV] subsample=0.8, reg_alpha=1, n_estimators=60, min_child_weight=9, max_depth=7, learning_rate=0.25, gamma=0.2, colsample_bytree=0.8 \n",
      "[CV]  subsample=0.8, reg_alpha=1, n_estimators=60, min_child_weight=9, max_depth=7, learning_rate=0.25, gamma=0.2, colsample_bytree=0.8 -   0.0s\n",
      "[CV] subsample=0.8, reg_alpha=1, n_estimators=60, min_child_weight=9, max_depth=7, learning_rate=0.25, gamma=0.2, colsample_bytree=0.8 \n",
      "[CV]  subsample=0.8, reg_alpha=1, n_estimators=60, min_child_weight=9, max_depth=7, learning_rate=0.25, gamma=0.2, colsample_bytree=0.8 -   0.0s\n",
      "[CV] subsample=0.75, reg_alpha=0.001, n_estimators=1000, min_child_weight=9, max_depth=8, learning_rate=0.25, gamma=0.1, colsample_bytree=0.75 \n"
     ]
    },
    {
     "name": "stderr",
     "output_type": "stream",
     "text": [
      "C:\\Users\\DELL PC\\Anaconda3\\lib\\site-packages\\sklearn\\preprocessing\\label.py:171: DeprecationWarning: The truth value of an empty array is ambiguous. Returning False, but in future this will result in an error. Use `array.size > 0` to check that an array is not empty.\n",
      "  if diff:\n"
     ]
    },
    {
     "name": "stdout",
     "output_type": "stream",
     "text": [
      "[CV]  subsample=0.75, reg_alpha=0.001, n_estimators=1000, min_child_weight=9, max_depth=8, learning_rate=0.25, gamma=0.1, colsample_bytree=0.75 -   0.3s\n",
      "[CV] subsample=0.75, reg_alpha=0.001, n_estimators=1000, min_child_weight=9, max_depth=8, learning_rate=0.25, gamma=0.1, colsample_bytree=0.75 \n"
     ]
    },
    {
     "name": "stderr",
     "output_type": "stream",
     "text": [
      "C:\\Users\\DELL PC\\Anaconda3\\lib\\site-packages\\sklearn\\preprocessing\\label.py:171: DeprecationWarning: The truth value of an empty array is ambiguous. Returning False, but in future this will result in an error. Use `array.size > 0` to check that an array is not empty.\n",
      "  if diff:\n"
     ]
    },
    {
     "name": "stdout",
     "output_type": "stream",
     "text": [
      "[CV]  subsample=0.75, reg_alpha=0.001, n_estimators=1000, min_child_weight=9, max_depth=8, learning_rate=0.25, gamma=0.1, colsample_bytree=0.75 -   0.3s\n",
      "[CV] subsample=0.75, reg_alpha=0.001, n_estimators=1000, min_child_weight=9, max_depth=8, learning_rate=0.25, gamma=0.1, colsample_bytree=0.75 \n"
     ]
    },
    {
     "name": "stderr",
     "output_type": "stream",
     "text": [
      "C:\\Users\\DELL PC\\Anaconda3\\lib\\site-packages\\sklearn\\preprocessing\\label.py:171: DeprecationWarning: The truth value of an empty array is ambiguous. Returning False, but in future this will result in an error. Use `array.size > 0` to check that an array is not empty.\n",
      "  if diff:\n"
     ]
    },
    {
     "name": "stdout",
     "output_type": "stream",
     "text": [
      "[CV]  subsample=0.75, reg_alpha=0.001, n_estimators=1000, min_child_weight=9, max_depth=8, learning_rate=0.25, gamma=0.1, colsample_bytree=0.75 -   0.3s\n",
      "[CV] subsample=0.75, reg_alpha=0.001, n_estimators=1000, min_child_weight=9, max_depth=8, learning_rate=0.25, gamma=0.1, colsample_bytree=0.75 \n"
     ]
    },
    {
     "name": "stderr",
     "output_type": "stream",
     "text": [
      "C:\\Users\\DELL PC\\Anaconda3\\lib\\site-packages\\sklearn\\preprocessing\\label.py:171: DeprecationWarning: The truth value of an empty array is ambiguous. Returning False, but in future this will result in an error. Use `array.size > 0` to check that an array is not empty.\n",
      "  if diff:\n"
     ]
    },
    {
     "name": "stdout",
     "output_type": "stream",
     "text": [
      "[CV]  subsample=0.75, reg_alpha=0.001, n_estimators=1000, min_child_weight=9, max_depth=8, learning_rate=0.25, gamma=0.1, colsample_bytree=0.75 -   0.5s\n",
      "[CV] subsample=0.75, reg_alpha=0.001, n_estimators=1000, min_child_weight=9, max_depth=8, learning_rate=0.25, gamma=0.1, colsample_bytree=0.75 \n",
      "[CV]  subsample=0.75, reg_alpha=0.001, n_estimators=1000, min_child_weight=9, max_depth=8, learning_rate=0.25, gamma=0.1, colsample_bytree=0.75 -   0.5s\n",
      "Wall time: 1min 18s\n"
     ]
    },
    {
     "name": "stderr",
     "output_type": "stream",
     "text": [
      "C:\\Users\\DELL PC\\Anaconda3\\lib\\site-packages\\sklearn\\preprocessing\\label.py:171: DeprecationWarning: The truth value of an empty array is ambiguous. Returning False, but in future this will result in an error. Use `array.size > 0` to check that an array is not empty.\n",
      "  if diff:\n",
      "[Parallel(n_jobs=1)]: Done 500 out of 500 | elapsed:  1.3min finished\n"
     ]
    }
   ],
   "source": [
    "%%time \n",
    "randcvXGB = RandomizedSearchCV(xgb, XGB_param_grid, cv=5, n_iter=100, scoring='accuracy',verbose=2)\n",
    "randcvXGB.fit(X_train_WA, Y_train_WA)"
   ]
  },
  {
   "cell_type": "code",
   "execution_count": 266,
   "metadata": {},
   "outputs": [
    {
     "name": "stdout",
     "output_type": "stream",
     "text": [
      "0.8473625140291807\n",
      "{'subsample': 0.8, 'reg_alpha': 0.01, 'n_estimators': 200, 'min_child_weight': 9, 'max_depth': 8, 'learning_rate': 0.21, 'gamma': 0.2, 'colsample_bytree': 0.85}\n"
     ]
    }
   ],
   "source": [
    "print(randcvXGB.best_score_)\n",
    "print(randcvXGB.best_params_)"
   ]
  },
  {
   "cell_type": "code",
   "execution_count": 279,
   "metadata": {
    "collapsed": true
   },
   "outputs": [],
   "source": [
    "tunedXGB= XGBClassifier(subsample=0.8, reg_alpha= 0.01 , min_child_weight= 9, learning_rate= 0.21, gamma= 0.2, colsample_bytree= 0.85, n_estimators=200, max_depth=8)"
   ]
  },
  {
   "cell_type": "code",
   "execution_count": 280,
   "metadata": {},
   "outputs": [
    {
     "name": "stdout",
     "output_type": "stream",
     "text": [
      "Wall time: 0 ns\n"
     ]
    },
    {
     "data": {
      "text/plain": [
       "XGBClassifier(base_score=0.5, booster='gbtree', colsample_bylevel=1,\n",
       "       colsample_bytree=0.85, gamma=0.2, learning_rate=0.21,\n",
       "       max_delta_step=0, max_depth=8, min_child_weight=9, missing=None,\n",
       "       n_estimators=200, n_jobs=1, nthread=None,\n",
       "       objective='binary:logistic', random_state=0, reg_alpha=0.01,\n",
       "       reg_lambda=1, scale_pos_weight=1, seed=None, silent=True,\n",
       "       subsample=0.8)"
      ]
     },
     "execution_count": 280,
     "metadata": {},
     "output_type": "execute_result"
    }
   ],
   "source": [
    "%time\n",
    "tunedXGB.fit(X_train_WA, Y_train_WA)"
   ]
  },
  {
   "cell_type": "code",
   "execution_count": 281,
   "metadata": {},
   "outputs": [
    {
     "name": "stderr",
     "output_type": "stream",
     "text": [
      "C:\\Users\\DELL PC\\Anaconda3\\lib\\site-packages\\sklearn\\preprocessing\\label.py:171: DeprecationWarning: The truth value of an empty array is ambiguous. Returning False, but in future this will result in an error. Use `array.size > 0` to check that an array is not empty.\n",
      "  if diff:\n"
     ]
    }
   ],
   "source": [
    "predictions = tunedXGB.predict(X_test_WA)"
   ]
  },
  {
   "cell_type": "code",
   "execution_count": 286,
   "metadata": {},
   "outputs": [
    {
     "data": {
      "text/plain": [
       "418"
      ]
     },
     "execution_count": 286,
     "metadata": {},
     "output_type": "execute_result"
    }
   ],
   "source": [
    "len(predictions)"
   ]
  },
  {
   "cell_type": "code",
   "execution_count": 287,
   "metadata": {},
   "outputs": [
    {
     "data": {
      "text/plain": [
       "(418, 8)"
      ]
     },
     "execution_count": 287,
     "metadata": {},
     "output_type": "execute_result"
    }
   ],
   "source": [
    "X_test_WA.shape"
   ]
  },
  {
   "cell_type": "code",
   "execution_count": 288,
   "metadata": {},
   "outputs": [
    {
     "data": {
      "text/plain": [
       "(418, 11)"
      ]
     },
     "execution_count": 288,
     "metadata": {},
     "output_type": "execute_result"
    }
   ],
   "source": [
    "testOriginalData.shape"
   ]
  },
  {
   "cell_type": "code",
   "execution_count": 289,
   "metadata": {
    "collapsed": true
   },
   "outputs": [],
   "source": [
    "results = pd.DataFrame({\n",
    "    \"PassengerId\": testOriginalData['PassengerId'],\n",
    "    \"Survived\": predictions})"
   ]
  },
  {
   "cell_type": "code",
   "execution_count": 290,
   "metadata": {
    "collapsed": true
   },
   "outputs": [],
   "source": [
    "results.to_csv('titanic_XGB_withReplacedAge.csv', index=False)   "
   ]
  },
  {
   "cell_type": "code",
   "execution_count": null,
   "metadata": {
    "collapsed": true
   },
   "outputs": [],
   "source": []
  },
  {
   "cell_type": "code",
   "execution_count": null,
   "metadata": {
    "collapsed": true
   },
   "outputs": [],
   "source": []
  }
 ],
 "metadata": {
  "kernelspec": {
   "display_name": "Python 3",
   "language": "python",
   "name": "python3"
  },
  "language_info": {
   "codemirror_mode": {
    "name": "ipython",
    "version": 3
   },
   "file_extension": ".py",
   "mimetype": "text/x-python",
   "name": "python",
   "nbconvert_exporter": "python",
   "pygments_lexer": "ipython3",
   "version": "3.6.1"
  }
 },
 "nbformat": 4,
 "nbformat_minor": 2
}
