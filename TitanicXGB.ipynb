{
 "cells": [
  {
   "cell_type": "markdown",
   "metadata": {},
   "source": [
    "# Titanic Survival Prediction"
   ]
  },
  {
   "cell_type": "code",
   "execution_count": 1,
   "metadata": {
    "collapsed": true
   },
   "outputs": [],
   "source": [
    "train_location = 'train.csv'\n",
    "test_location = 'test.csv'\n",
    "Original_test_location = 'testOriginal.csv'"
   ]
  },
  {
   "cell_type": "code",
   "execution_count": 2,
   "metadata": {},
   "outputs": [
    {
     "name": "stderr",
     "output_type": "stream",
     "text": [
      "C:\\Users\\DELL PC\\Anaconda3\\lib\\site-packages\\sklearn\\cross_validation.py:44: DeprecationWarning: This module was deprecated in version 0.18 in favor of the model_selection module into which all the refactored classes and functions are moved. Also note that the interface of the new CV iterators are different from that of this module. This module will be removed in 0.20.\n",
      "  \"This module will be removed in 0.20.\", DeprecationWarning)\n",
      "C:\\Users\\DELL PC\\Anaconda3\\lib\\site-packages\\sklearn\\grid_search.py:43: DeprecationWarning: This module was deprecated in version 0.18 in favor of the model_selection module into which all the refactored classes and functions are moved. This module will be removed in 0.20.\n",
      "  DeprecationWarning)\n"
     ]
    }
   ],
   "source": [
    "import numpy as np\n",
    "import pandas as pd\n",
    "from sklearn.cross_validation import cross_val_score\n",
    "from sklearn.grid_search import GridSearchCV\n",
    "from sklearn.grid_search import RandomizedSearchCV\n",
    "import matplotlib as plt"
   ]
  },
  {
   "cell_type": "code",
   "execution_count": 3,
   "metadata": {},
   "outputs": [],
   "source": [
    "trainData = pd.read_csv(train_location)\n",
    "# dropping any row where age is nan because it is a huge factor\n",
    "trainData = trainData.dropna(how='any',axis=0) \n",
    "X_train = trainData.iloc[:,:7].values\n",
    "Y_train = trainData.iloc[:,7].values"
   ]
  },
  {
   "cell_type": "code",
   "execution_count": 4,
   "metadata": {
    "collapsed": true
   },
   "outputs": [],
   "source": [
    "testData = pd.read_csv(test_location)\n",
    "testOriginalData = pd.read_csv(Original_test_location)\n",
    "X_test = testData.iloc[:,:7].values"
   ]
  },
  {
   "cell_type": "code",
   "execution_count": 5,
   "metadata": {},
   "outputs": [
    {
     "data": {
      "text/plain": [
       "(712, 8)"
      ]
     },
     "execution_count": 5,
     "metadata": {},
     "output_type": "execute_result"
    }
   ],
   "source": [
    "trainData.shape"
   ]
  },
  {
   "cell_type": "code",
   "execution_count": 6,
   "metadata": {},
   "outputs": [
    {
     "data": {
      "text/plain": [
       "(418, 7)"
      ]
     },
     "execution_count": 6,
     "metadata": {},
     "output_type": "execute_result"
    }
   ],
   "source": [
    "testData.shape"
   ]
  },
  {
   "cell_type": "code",
   "execution_count": 7,
   "metadata": {
    "collapsed": true
   },
   "outputs": [],
   "source": [
    "trainData;"
   ]
  },
  {
   "cell_type": "code",
   "execution_count": 8,
   "metadata": {
    "collapsed": true
   },
   "outputs": [],
   "source": [
    "# dont drop test values as it is required to submit 418 rows of predictions\n",
    "from sklearn.preprocessing import Imputer\n",
    "imputer = Imputer(missing_values='NaN', strategy='mean', axis=0)\n",
    "testImputer = imputer.fit(X_test[:,:])\n",
    "X_test[:,:] = testImputer.transform(X_test[:,:])"
   ]
  },
  {
   "cell_type": "code",
   "execution_count": 9,
   "metadata": {},
   "outputs": [
    {
     "data": {
      "text/plain": [
       "array([[ 3.    ,  0.    , 22.    , ...,  0.    ,  7.25  ,  1.    ],\n",
       "       [ 1.    ,  1.    , 38.    , ...,  0.    , 71.2833,  0.    ],\n",
       "       [ 3.    ,  1.    , 26.    , ...,  0.    ,  7.925 ,  1.    ],\n",
       "       ...,\n",
       "       [ 1.    ,  1.    , 19.    , ...,  0.    , 30.    ,  1.    ],\n",
       "       [ 1.    ,  0.    , 26.    , ...,  0.    , 30.    ,  0.    ],\n",
       "       [ 3.    ,  0.    , 32.    , ...,  0.    ,  7.75  ,  2.    ]])"
      ]
     },
     "execution_count": 9,
     "metadata": {},
     "output_type": "execute_result"
    }
   ],
   "source": [
    "X_train"
   ]
  },
  {
   "cell_type": "code",
   "execution_count": 10,
   "metadata": {
    "collapsed": true
   },
   "outputs": [],
   "source": [
    "# scaling \n",
    "from sklearn.preprocessing import MinMaxScaler\n",
    "scaler = MinMaxScaler(feature_range=(0, 1), copy=True)\n",
    "X_train = scaler.fit_transform(X_train)\n",
    "X_test = scaler.fit_transform(X_test)"
   ]
  },
  {
   "cell_type": "code",
   "execution_count": 11,
   "metadata": {},
   "outputs": [
    {
     "data": {
      "text/plain": [
       "(712, 7)"
      ]
     },
     "execution_count": 11,
     "metadata": {},
     "output_type": "execute_result"
    }
   ],
   "source": [
    "X_train.shape"
   ]
  },
  {
   "cell_type": "code",
   "execution_count": 12,
   "metadata": {},
   "outputs": [
    {
     "data": {
      "text/plain": [
       "(712,)"
      ]
     },
     "execution_count": 12,
     "metadata": {},
     "output_type": "execute_result"
    }
   ],
   "source": [
    "Y_train.shape"
   ]
  },
  {
   "cell_type": "code",
   "execution_count": 13,
   "metadata": {
    "collapsed": true
   },
   "outputs": [],
   "source": [
    "def float_range(start,stop,step):\n",
    "    l = []\n",
    "    l.append(start);\n",
    "    \n",
    "    while(start+step<=stop):\n",
    "        start = start + step\n",
    "        l.append(start)\n",
    "        \n",
    "    return l;"
   ]
  },
  {
   "cell_type": "code",
   "execution_count": 14,
   "metadata": {
    "collapsed": true
   },
   "outputs": [],
   "source": [
    "import numpy as np"
   ]
  },
  {
   "cell_type": "code",
   "execution_count": 15,
   "metadata": {},
   "outputs": [
    {
     "data": {
      "text/plain": [
       "array([0.01      , 0.05142857, 0.09285714, 0.13428571, 0.17571429,\n",
       "       0.21714286, 0.25857143, 0.3       ])"
      ]
     },
     "execution_count": 15,
     "metadata": {},
     "output_type": "execute_result"
    }
   ],
   "source": [
    "np.linspace(0.01,0.3,8)"
   ]
  },
  {
   "cell_type": "code",
   "execution_count": 16,
   "metadata": {},
   "outputs": [],
   "source": [
    "l = np.floor(np.linspace(0,1000,30))"
   ]
  },
  {
   "cell_type": "code",
   "execution_count": 17,
   "metadata": {},
   "outputs": [
    {
     "data": {
      "text/plain": [
       "array([   0.,   34.,   68.,  103.,  137.,  172.,  206.,  241.,  275.,\n",
       "        310.,  344.,  379.,  413.,  448.,  482.,  517.,  551.,  586.,\n",
       "        620.,  655.,  689.,  724.,  758.,  793.,  827.,  862.,  896.,\n",
       "        931.,  965., 1000.])"
      ]
     },
     "execution_count": 17,
     "metadata": {},
     "output_type": "execute_result"
    }
   ],
   "source": [
    "l"
   ]
  },
  {
   "cell_type": "code",
   "execution_count": 18,
   "metadata": {},
   "outputs": [
    {
     "data": {
      "text/plain": [
       "range(1, 6, 2)"
      ]
     },
     "execution_count": 18,
     "metadata": {},
     "output_type": "execute_result"
    }
   ],
   "source": [
    "range(1,6,2)"
   ]
  },
  {
   "cell_type": "markdown",
   "metadata": {
    "collapsed": true
   },
   "source": [
    "# XGBoost"
   ]
  },
  {
   "cell_type": "code",
   "execution_count": 19,
   "metadata": {
    "collapsed": true
   },
   "outputs": [],
   "source": [
    "XGB_param_grid = {\n",
    "                    'max_depth':[3,4,5,6,7,8,9,10],\n",
    "                    'min_child_weight':[1,3,5,7,9],\n",
    "                    'learning_rate':[0.001,0.01,0.05,0.1,0.15,0.21,0.25],\n",
    "                    'n_estimators':[10,30,60,100,200,300,500,700,1000],\n",
    "                    'gamma':[i/10.0 for i in range(0,5)],\n",
    "                    'subsample':[i/100.0 for i in range(75,90,5)],\n",
    "                    'colsample_bytree':[i/100.0 for i in range(75,90,5)],\n",
    "                    'reg_alpha':[1e-5, 1e-2, 0, 0.001, 0.005, 0.05, 0.1, 1, 100 ]                   \n",
    "                 }"
   ]
  },
  {
   "cell_type": "markdown",
   "metadata": {},
   "source": [
    "### Init signature:  \n",
    "\n",
    "XGBClassifier(max_depth=3, learning_rate=0.1, n_estimators=100, silent=True, objective='binary:logistic', booster='gbtree', n_jobs=1, nthread=None, gamma=0, min_child_weight=1, max_delta_step=0, subsample=1, colsample_bytree=1, colsample_bylevel=1, reg_alpha=0, reg_lambda=1, scale_pos_weight=1, base_score=0.5, random_state=0, seed=None, missing=None, **kwargs)"
   ]
  },
  {
   "cell_type": "code",
   "execution_count": 20,
   "metadata": {
    "collapsed": true
   },
   "outputs": [],
   "source": [
    "from xgboost.sklearn import XGBClassifier"
   ]
  },
  {
   "cell_type": "code",
   "execution_count": 21,
   "metadata": {},
   "outputs": [],
   "source": [
    "from sklearn.grid_search import RandomizedSearchCV"
   ]
  },
  {
   "cell_type": "code",
   "execution_count": 22,
   "metadata": {
    "collapsed": true
   },
   "outputs": [],
   "source": [
    "xgb = XGBClassifier()"
   ]
  },
  {
   "cell_type": "code",
   "execution_count": 23,
   "metadata": {},
   "outputs": [
    {
     "data": {
      "text/plain": [
       "(712,)"
      ]
     },
     "execution_count": 23,
     "metadata": {},
     "output_type": "execute_result"
    }
   ],
   "source": [
    "Y_train.shape"
   ]
  },
  {
   "cell_type": "code",
   "execution_count": 24,
   "metadata": {},
   "outputs": [
    {
     "name": "stdout",
     "output_type": "stream",
     "text": [
      "Fitting 5 folds for each of 100 candidates, totalling 500 fits\n",
      "[CV] subsample=0.75, reg_alpha=0.01, n_estimators=60, min_child_weight=3, max_depth=9, learning_rate=0.01, gamma=0.0, colsample_bytree=0.85 \n",
      "[CV]  subsample=0.75, reg_alpha=0.01, n_estimators=60, min_child_weight=3, max_depth=9, learning_rate=0.01, gamma=0.0, colsample_bytree=0.85 -   0.1s\n",
      "[CV] subsample=0.75, reg_alpha=0.01, n_estimators=60, min_child_weight=3, max_depth=9, learning_rate=0.01, gamma=0.0, colsample_bytree=0.85 \n",
      "[CV]  subsample=0.75, reg_alpha=0.01, n_estimators=60, min_child_weight=3, max_depth=9, learning_rate=0.01, gamma=0.0, colsample_bytree=0.85 -   0.0s\n",
      "[CV] subsample=0.75, reg_alpha=0.01, n_estimators=60, min_child_weight=3, max_depth=9, learning_rate=0.01, gamma=0.0, colsample_bytree=0.85 "
     ]
    },
    {
     "name": "stderr",
     "output_type": "stream",
     "text": [
      "C:\\Users\\DELL PC\\Anaconda3\\lib\\site-packages\\sklearn\\preprocessing\\label.py:171: DeprecationWarning: The truth value of an empty array is ambiguous. Returning False, but in future this will result in an error. Use `array.size > 0` to check that an array is not empty.\n",
      "  if diff:\n",
      "[Parallel(n_jobs=1)]: Done   1 out of   1 | elapsed:    0.1s remaining:    0.0s\n",
      "C:\\Users\\DELL PC\\Anaconda3\\lib\\site-packages\\sklearn\\preprocessing\\label.py:171: DeprecationWarning: The truth value of an empty array is ambiguous. Returning False, but in future this will result in an error. Use `array.size > 0` to check that an array is not empty.\n",
      "  if diff:\n",
      "C:\\Users\\DELL PC\\Anaconda3\\lib\\site-packages\\sklearn\\preprocessing\\label.py:171: DeprecationWarning: The truth value of an empty array is ambiguous. Returning False, but in future this will result in an error. Use `array.size > 0` to check that an array is not empty.\n",
      "  if diff:\n",
      "C:\\Users\\DELL PC\\Anaconda3\\lib\\site-packages\\sklearn\\preprocessing\\label.py:171: DeprecationWarning: The truth value of an empty array is ambiguous. Returning False, but in future this will result in an error. Use `array.size > 0` to check that an array is not empty.\n",
      "  if diff:\n",
      "C:\\Users\\DELL PC\\Anaconda3\\lib\\site-packages\\sklearn\\preprocessing\\label.py:171: DeprecationWarning: The truth value of an empty array is ambiguous. Returning False, but in future this will result in an error. Use `array.size > 0` to check that an array is not empty.\n",
      "  if diff:\n"
     ]
    },
    {
     "name": "stdout",
     "output_type": "stream",
     "text": [
      "\n",
      "[CV]  subsample=0.75, reg_alpha=0.01, n_estimators=60, min_child_weight=3, max_depth=9, learning_rate=0.01, gamma=0.0, colsample_bytree=0.85 -   0.0s\n",
      "[CV] subsample=0.75, reg_alpha=0.01, n_estimators=60, min_child_weight=3, max_depth=9, learning_rate=0.01, gamma=0.0, colsample_bytree=0.85 \n",
      "[CV]  subsample=0.75, reg_alpha=0.01, n_estimators=60, min_child_weight=3, max_depth=9, learning_rate=0.01, gamma=0.0, colsample_bytree=0.85 -   0.0s\n",
      "[CV] subsample=0.75, reg_alpha=0.01, n_estimators=60, min_child_weight=3, max_depth=9, learning_rate=0.01, gamma=0.0, colsample_bytree=0.85 \n",
      "[CV]  subsample=0.75, reg_alpha=0.01, n_estimators=60, min_child_weight=3, max_depth=9, learning_rate=0.01, gamma=0.0, colsample_bytree=0.85 -   0.0s\n",
      "[CV] subsample=0.85, reg_alpha=0.01, n_estimators=700, min_child_weight=5, max_depth=10, learning_rate=0.21, gamma=0.1, colsample_bytree=0.75 \n"
     ]
    },
    {
     "name": "stderr",
     "output_type": "stream",
     "text": [
      "C:\\Users\\DELL PC\\Anaconda3\\lib\\site-packages\\sklearn\\preprocessing\\label.py:171: DeprecationWarning: The truth value of an empty array is ambiguous. Returning False, but in future this will result in an error. Use `array.size > 0` to check that an array is not empty.\n",
      "  if diff:\n"
     ]
    },
    {
     "name": "stdout",
     "output_type": "stream",
     "text": [
      "[CV]  subsample=0.85, reg_alpha=0.01, n_estimators=700, min_child_weight=5, max_depth=10, learning_rate=0.21, gamma=0.1, colsample_bytree=0.75 -   0.2s\n",
      "[CV] subsample=0.85, reg_alpha=0.01, n_estimators=700, min_child_weight=5, max_depth=10, learning_rate=0.21, gamma=0.1, colsample_bytree=0.75 \n"
     ]
    },
    {
     "name": "stderr",
     "output_type": "stream",
     "text": [
      "C:\\Users\\DELL PC\\Anaconda3\\lib\\site-packages\\sklearn\\preprocessing\\label.py:171: DeprecationWarning: The truth value of an empty array is ambiguous. Returning False, but in future this will result in an error. Use `array.size > 0` to check that an array is not empty.\n",
      "  if diff:\n"
     ]
    },
    {
     "name": "stdout",
     "output_type": "stream",
     "text": [
      "[CV]  subsample=0.85, reg_alpha=0.01, n_estimators=700, min_child_weight=5, max_depth=10, learning_rate=0.21, gamma=0.1, colsample_bytree=0.75 -   0.2s\n",
      "[CV] subsample=0.85, reg_alpha=0.01, n_estimators=700, min_child_weight=5, max_depth=10, learning_rate=0.21, gamma=0.1, colsample_bytree=0.75 \n"
     ]
    },
    {
     "name": "stderr",
     "output_type": "stream",
     "text": [
      "C:\\Users\\DELL PC\\Anaconda3\\lib\\site-packages\\sklearn\\preprocessing\\label.py:171: DeprecationWarning: The truth value of an empty array is ambiguous. Returning False, but in future this will result in an error. Use `array.size > 0` to check that an array is not empty.\n",
      "  if diff:\n"
     ]
    },
    {
     "name": "stdout",
     "output_type": "stream",
     "text": [
      "[CV]  subsample=0.85, reg_alpha=0.01, n_estimators=700, min_child_weight=5, max_depth=10, learning_rate=0.21, gamma=0.1, colsample_bytree=0.75 -   0.2s\n",
      "[CV] subsample=0.85, reg_alpha=0.01, n_estimators=700, min_child_weight=5, max_depth=10, learning_rate=0.21, gamma=0.1, colsample_bytree=0.75 \n"
     ]
    },
    {
     "name": "stderr",
     "output_type": "stream",
     "text": [
      "C:\\Users\\DELL PC\\Anaconda3\\lib\\site-packages\\sklearn\\preprocessing\\label.py:171: DeprecationWarning: The truth value of an empty array is ambiguous. Returning False, but in future this will result in an error. Use `array.size > 0` to check that an array is not empty.\n",
      "  if diff:\n"
     ]
    },
    {
     "name": "stdout",
     "output_type": "stream",
     "text": [
      "[CV]  subsample=0.85, reg_alpha=0.01, n_estimators=700, min_child_weight=5, max_depth=10, learning_rate=0.21, gamma=0.1, colsample_bytree=0.75 -   0.2s\n",
      "[CV] subsample=0.85, reg_alpha=0.01, n_estimators=700, min_child_weight=5, max_depth=10, learning_rate=0.21, gamma=0.1, colsample_bytree=0.75 \n"
     ]
    },
    {
     "name": "stderr",
     "output_type": "stream",
     "text": [
      "C:\\Users\\DELL PC\\Anaconda3\\lib\\site-packages\\sklearn\\preprocessing\\label.py:171: DeprecationWarning: The truth value of an empty array is ambiguous. Returning False, but in future this will result in an error. Use `array.size > 0` to check that an array is not empty.\n",
      "  if diff:\n",
      "C:\\Users\\DELL PC\\Anaconda3\\lib\\site-packages\\sklearn\\preprocessing\\label.py:171: DeprecationWarning: The truth value of an empty array is ambiguous. Returning False, but in future this will result in an error. Use `array.size > 0` to check that an array is not empty.\n",
      "  if diff:\n"
     ]
    },
    {
     "name": "stdout",
     "output_type": "stream",
     "text": [
      "[CV]  subsample=0.85, reg_alpha=0.01, n_estimators=700, min_child_weight=5, max_depth=10, learning_rate=0.21, gamma=0.1, colsample_bytree=0.75 -   0.2s\n",
      "[CV] subsample=0.8, reg_alpha=0.01, n_estimators=500, min_child_weight=7, max_depth=8, learning_rate=0.1, gamma=0.3, colsample_bytree=0.85 \n",
      "[CV]  subsample=0.8, reg_alpha=0.01, n_estimators=500, min_child_weight=7, max_depth=8, learning_rate=0.1, gamma=0.3, colsample_bytree=0.85 -   0.1s\n",
      "[CV] subsample=0.8, reg_alpha=0.01, n_estimators=500, min_child_weight=7, max_depth=8, learning_rate=0.1, gamma=0.3, colsample_bytree=0.85 \n"
     ]
    },
    {
     "name": "stderr",
     "output_type": "stream",
     "text": [
      "C:\\Users\\DELL PC\\Anaconda3\\lib\\site-packages\\sklearn\\preprocessing\\label.py:171: DeprecationWarning: The truth value of an empty array is ambiguous. Returning False, but in future this will result in an error. Use `array.size > 0` to check that an array is not empty.\n",
      "  if diff:\n",
      "C:\\Users\\DELL PC\\Anaconda3\\lib\\site-packages\\sklearn\\preprocessing\\label.py:171: DeprecationWarning: The truth value of an empty array is ambiguous. Returning False, but in future this will result in an error. Use `array.size > 0` to check that an array is not empty.\n",
      "  if diff:\n"
     ]
    },
    {
     "name": "stdout",
     "output_type": "stream",
     "text": [
      "[CV]  subsample=0.8, reg_alpha=0.01, n_estimators=500, min_child_weight=7, max_depth=8, learning_rate=0.1, gamma=0.3, colsample_bytree=0.85 -   0.1s\n",
      "[CV] subsample=0.8, reg_alpha=0.01, n_estimators=500, min_child_weight=7, max_depth=8, learning_rate=0.1, gamma=0.3, colsample_bytree=0.85 \n",
      "[CV]  subsample=0.8, reg_alpha=0.01, n_estimators=500, min_child_weight=7, max_depth=8, learning_rate=0.1, gamma=0.3, colsample_bytree=0.85 -   0.1s\n"
     ]
    },
    {
     "name": "stderr",
     "output_type": "stream",
     "text": [
      "C:\\Users\\DELL PC\\Anaconda3\\lib\\site-packages\\sklearn\\preprocessing\\label.py:171: DeprecationWarning: The truth value of an empty array is ambiguous. Returning False, but in future this will result in an error. Use `array.size > 0` to check that an array is not empty.\n",
      "  if diff:\n",
      "C:\\Users\\DELL PC\\Anaconda3\\lib\\site-packages\\sklearn\\preprocessing\\label.py:171: DeprecationWarning: The truth value of an empty array is ambiguous. Returning False, but in future this will result in an error. Use `array.size > 0` to check that an array is not empty.\n",
      "  if diff:\n"
     ]
    },
    {
     "name": "stdout",
     "output_type": "stream",
     "text": [
      "[CV] subsample=0.8, reg_alpha=0.01, n_estimators=500, min_child_weight=7, max_depth=8, learning_rate=0.1, gamma=0.3, colsample_bytree=0.85 \n",
      "[CV]  subsample=0.8, reg_alpha=0.01, n_estimators=500, min_child_weight=7, max_depth=8, learning_rate=0.1, gamma=0.3, colsample_bytree=0.85 -   0.1s\n",
      "[CV] subsample=0.8, reg_alpha=0.01, n_estimators=500, min_child_weight=7, max_depth=8, learning_rate=0.1, gamma=0.3, colsample_bytree=0.85 \n",
      "[CV]  subsample=0.8, reg_alpha=0.01, n_estimators=500, min_child_weight=7, max_depth=8, learning_rate=0.1, gamma=0.3, colsample_bytree=0.85 -   0.1s\n",
      "[CV] subsample=0.8, reg_alpha=0, n_estimators=60, min_child_weight=1, max_depth=4, learning_rate=0.1, gamma=0.2, colsample_bytree=0.75 \n",
      "[CV]  subsample=0.8, reg_alpha=0, n_estimators=60, min_child_weight=1, max_depth=4, learning_rate=0.1, gamma=0.2, colsample_bytree=0.75 -   0.0s\n",
      "[CV] subsample=0.8, reg_alpha=0, n_estimators=60, min_child_weight=1, max_depth=4, learning_rate=0.1, gamma=0.2, colsample_bytree=0.75 \n"
     ]
    },
    {
     "name": "stderr",
     "output_type": "stream",
     "text": [
      "C:\\Users\\DELL PC\\Anaconda3\\lib\\site-packages\\sklearn\\preprocessing\\label.py:171: DeprecationWarning: The truth value of an empty array is ambiguous. Returning False, but in future this will result in an error. Use `array.size > 0` to check that an array is not empty.\n",
      "  if diff:\n",
      "C:\\Users\\DELL PC\\Anaconda3\\lib\\site-packages\\sklearn\\preprocessing\\label.py:171: DeprecationWarning: The truth value of an empty array is ambiguous. Returning False, but in future this will result in an error. Use `array.size > 0` to check that an array is not empty.\n",
      "  if diff:\n",
      "C:\\Users\\DELL PC\\Anaconda3\\lib\\site-packages\\sklearn\\preprocessing\\label.py:171: DeprecationWarning: The truth value of an empty array is ambiguous. Returning False, but in future this will result in an error. Use `array.size > 0` to check that an array is not empty.\n",
      "  if diff:\n",
      "C:\\Users\\DELL PC\\Anaconda3\\lib\\site-packages\\sklearn\\preprocessing\\label.py:171: DeprecationWarning: The truth value of an empty array is ambiguous. Returning False, but in future this will result in an error. Use `array.size > 0` to check that an array is not empty.\n",
      "  if diff:\n",
      "C:\\Users\\DELL PC\\Anaconda3\\lib\\site-packages\\sklearn\\preprocessing\\label.py:171: DeprecationWarning: The truth value of an empty array is ambiguous. Returning False, but in future this will result in an error. Use `array.size > 0` to check that an array is not empty.\n",
      "  if diff:\n"
     ]
    },
    {
     "name": "stdout",
     "output_type": "stream",
     "text": [
      "[CV]  subsample=0.8, reg_alpha=0, n_estimators=60, min_child_weight=1, max_depth=4, learning_rate=0.1, gamma=0.2, colsample_bytree=0.75 -   0.0s\n",
      "[CV] subsample=0.8, reg_alpha=0, n_estimators=60, min_child_weight=1, max_depth=4, learning_rate=0.1, gamma=0.2, colsample_bytree=0.75 \n",
      "[CV]  subsample=0.8, reg_alpha=0, n_estimators=60, min_child_weight=1, max_depth=4, learning_rate=0.1, gamma=0.2, colsample_bytree=0.75 -   0.0s\n",
      "[CV] subsample=0.8, reg_alpha=0, n_estimators=60, min_child_weight=1, max_depth=4, learning_rate=0.1, gamma=0.2, colsample_bytree=0.75 \n",
      "[CV]  subsample=0.8, reg_alpha=0, n_estimators=60, min_child_weight=1, max_depth=4, learning_rate=0.1, gamma=0.2, colsample_bytree=0.75 -   0.0s\n",
      "[CV] subsample=0.8, reg_alpha=0, n_estimators=60, min_child_weight=1, max_depth=4, learning_rate=0.1, gamma=0.2, colsample_bytree=0.75 \n",
      "[CV]  subsample=0.8, reg_alpha=0, n_estimators=60, min_child_weight=1, max_depth=4, learning_rate=0.1, gamma=0.2, colsample_bytree=0.75 -   0.0s\n",
      "[CV] subsample=0.75, reg_alpha=0.005, n_estimators=300, min_child_weight=1, max_depth=7, learning_rate=0.01, gamma=0.4, colsample_bytree=0.85 \n"
     ]
    },
    {
     "name": "stderr",
     "output_type": "stream",
     "text": [
      "C:\\Users\\DELL PC\\Anaconda3\\lib\\site-packages\\sklearn\\preprocessing\\label.py:171: DeprecationWarning: The truth value of an empty array is ambiguous. Returning False, but in future this will result in an error. Use `array.size > 0` to check that an array is not empty.\n",
      "  if diff:\n",
      "C:\\Users\\DELL PC\\Anaconda3\\lib\\site-packages\\sklearn\\preprocessing\\label.py:171: DeprecationWarning: The truth value of an empty array is ambiguous. Returning False, but in future this will result in an error. Use `array.size > 0` to check that an array is not empty.\n",
      "  if diff:\n"
     ]
    },
    {
     "name": "stdout",
     "output_type": "stream",
     "text": [
      "[CV]  subsample=0.75, reg_alpha=0.005, n_estimators=300, min_child_weight=1, max_depth=7, learning_rate=0.01, gamma=0.4, colsample_bytree=0.85 -   0.1s\n",
      "[CV] subsample=0.75, reg_alpha=0.005, n_estimators=300, min_child_weight=1, max_depth=7, learning_rate=0.01, gamma=0.4, colsample_bytree=0.85 \n",
      "[CV]  subsample=0.75, reg_alpha=0.005, n_estimators=300, min_child_weight=1, max_depth=7, learning_rate=0.01, gamma=0.4, colsample_bytree=0.85 -   0.0s\n",
      "[CV] subsample=0.75, reg_alpha=0.005, n_estimators=300, min_child_weight=1, max_depth=7, learning_rate=0.01, gamma=0.4, colsample_bytree=0.85 \n"
     ]
    },
    {
     "name": "stderr",
     "output_type": "stream",
     "text": [
      "C:\\Users\\DELL PC\\Anaconda3\\lib\\site-packages\\sklearn\\preprocessing\\label.py:171: DeprecationWarning: The truth value of an empty array is ambiguous. Returning False, but in future this will result in an error. Use `array.size > 0` to check that an array is not empty.\n",
      "  if diff:\n",
      "C:\\Users\\DELL PC\\Anaconda3\\lib\\site-packages\\sklearn\\preprocessing\\label.py:171: DeprecationWarning: The truth value of an empty array is ambiguous. Returning False, but in future this will result in an error. Use `array.size > 0` to check that an array is not empty.\n",
      "  if diff:\n"
     ]
    },
    {
     "name": "stdout",
     "output_type": "stream",
     "text": [
      "[CV]  subsample=0.75, reg_alpha=0.005, n_estimators=300, min_child_weight=1, max_depth=7, learning_rate=0.01, gamma=0.4, colsample_bytree=0.85 -   0.1s\n",
      "[CV] subsample=0.75, reg_alpha=0.005, n_estimators=300, min_child_weight=1, max_depth=7, learning_rate=0.01, gamma=0.4, colsample_bytree=0.85 \n",
      "[CV]  subsample=0.75, reg_alpha=0.005, n_estimators=300, min_child_weight=1, max_depth=7, learning_rate=0.01, gamma=0.4, colsample_bytree=0.85 -   0.1s\n",
      "[CV] subsample=0.75, reg_alpha=0.005, n_estimators=300, min_child_weight=1, max_depth=7, learning_rate=0.01, gamma=0.4, colsample_bytree=0.85 \n"
     ]
    },
    {
     "name": "stderr",
     "output_type": "stream",
     "text": [
      "C:\\Users\\DELL PC\\Anaconda3\\lib\\site-packages\\sklearn\\preprocessing\\label.py:171: DeprecationWarning: The truth value of an empty array is ambiguous. Returning False, but in future this will result in an error. Use `array.size > 0` to check that an array is not empty.\n",
      "  if diff:\n",
      "C:\\Users\\DELL PC\\Anaconda3\\lib\\site-packages\\sklearn\\preprocessing\\label.py:171: DeprecationWarning: The truth value of an empty array is ambiguous. Returning False, but in future this will result in an error. Use `array.size > 0` to check that an array is not empty.\n",
      "  if diff:\n",
      "C:\\Users\\DELL PC\\Anaconda3\\lib\\site-packages\\sklearn\\preprocessing\\label.py:171: DeprecationWarning: The truth value of an empty array is ambiguous. Returning False, but in future this will result in an error. Use `array.size > 0` to check that an array is not empty.\n",
      "  if diff:\n",
      "C:\\Users\\DELL PC\\Anaconda3\\lib\\site-packages\\sklearn\\preprocessing\\label.py:171: DeprecationWarning: The truth value of an empty array is ambiguous. Returning False, but in future this will result in an error. Use `array.size > 0` to check that an array is not empty.\n",
      "  if diff:\n",
      "C:\\Users\\DELL PC\\Anaconda3\\lib\\site-packages\\sklearn\\preprocessing\\label.py:171: DeprecationWarning: The truth value of an empty array is ambiguous. Returning False, but in future this will result in an error. Use `array.size > 0` to check that an array is not empty.\n",
      "  if diff:\n",
      "C:\\Users\\DELL PC\\Anaconda3\\lib\\site-packages\\sklearn\\preprocessing\\label.py:171: DeprecationWarning: The truth value of an empty array is ambiguous. Returning False, but in future this will result in an error. Use `array.size > 0` to check that an array is not empty.\n",
      "  if diff:\n",
      "C:\\Users\\DELL PC\\Anaconda3\\lib\\site-packages\\sklearn\\preprocessing\\label.py:171: DeprecationWarning: The truth value of an empty array is ambiguous. Returning False, but in future this will result in an error. Use `array.size > 0` to check that an array is not empty.\n",
      "  if diff:\n"
     ]
    },
    {
     "name": "stdout",
     "output_type": "stream",
     "text": [
      "[CV]  subsample=0.75, reg_alpha=0.005, n_estimators=300, min_child_weight=1, max_depth=7, learning_rate=0.01, gamma=0.4, colsample_bytree=0.85 -   0.1s\n",
      "[CV] subsample=0.75, reg_alpha=0.1, n_estimators=10, min_child_weight=3, max_depth=3, learning_rate=0.21, gamma=0.0, colsample_bytree=0.75 \n",
      "[CV]  subsample=0.75, reg_alpha=0.1, n_estimators=10, min_child_weight=3, max_depth=3, learning_rate=0.21, gamma=0.0, colsample_bytree=0.75 -   0.0s\n",
      "[CV] subsample=0.75, reg_alpha=0.1, n_estimators=10, min_child_weight=3, max_depth=3, learning_rate=0.21, gamma=0.0, colsample_bytree=0.75 \n",
      "[CV]  subsample=0.75, reg_alpha=0.1, n_estimators=10, min_child_weight=3, max_depth=3, learning_rate=0.21, gamma=0.0, colsample_bytree=0.75 -   0.0s\n",
      "[CV] subsample=0.75, reg_alpha=0.1, n_estimators=10, min_child_weight=3, max_depth=3, learning_rate=0.21, gamma=0.0, colsample_bytree=0.75 \n",
      "[CV]  subsample=0.75, reg_alpha=0.1, n_estimators=10, min_child_weight=3, max_depth=3, learning_rate=0.21, gamma=0.0, colsample_bytree=0.75 -   0.0s\n",
      "[CV] subsample=0.75, reg_alpha=0.1, n_estimators=10, min_child_weight=3, max_depth=3, learning_rate=0.21, gamma=0.0, colsample_bytree=0.75 \n",
      "[CV]  subsample=0.75, reg_alpha=0.1, n_estimators=10, min_child_weight=3, max_depth=3, learning_rate=0.21, gamma=0.0, colsample_bytree=0.75 -   0.0s\n",
      "[CV] subsample=0.75, reg_alpha=0.1, n_estimators=10, min_child_weight=3, max_depth=3, learning_rate=0.21, gamma=0.0, colsample_bytree=0.75 \n",
      "[CV]  subsample=0.75, reg_alpha=0.1, n_estimators=10, min_child_weight=3, max_depth=3, learning_rate=0.21, gamma=0.0, colsample_bytree=0.75 -   0.0s\n",
      "[CV] subsample=0.85, reg_alpha=0.001, n_estimators=300, min_child_weight=5, max_depth=9, learning_rate=0.1, gamma=0.1, colsample_bytree=0.85 \n",
      "[CV]  subsample=0.85, reg_alpha=0.001, n_estimators=300, min_child_weight=5, max_depth=9, learning_rate=0.1, gamma=0.1, colsample_bytree=0.85 -   0.0s\n",
      "[CV] subsample=0.85, reg_alpha=0.001, n_estimators=300, min_child_weight=5, max_depth=9, learning_rate=0.1, gamma=0.1, colsample_bytree=0.85 \n"
     ]
    },
    {
     "name": "stderr",
     "output_type": "stream",
     "text": [
      "C:\\Users\\DELL PC\\Anaconda3\\lib\\site-packages\\sklearn\\preprocessing\\label.py:171: DeprecationWarning: The truth value of an empty array is ambiguous. Returning False, but in future this will result in an error. Use `array.size > 0` to check that an array is not empty.\n",
      "  if diff:\n",
      "C:\\Users\\DELL PC\\Anaconda3\\lib\\site-packages\\sklearn\\preprocessing\\label.py:171: DeprecationWarning: The truth value of an empty array is ambiguous. Returning False, but in future this will result in an error. Use `array.size > 0` to check that an array is not empty.\n",
      "  if diff:\n"
     ]
    },
    {
     "name": "stdout",
     "output_type": "stream",
     "text": [
      "[CV]  subsample=0.85, reg_alpha=0.001, n_estimators=300, min_child_weight=5, max_depth=9, learning_rate=0.1, gamma=0.1, colsample_bytree=0.85 -   0.0s\n",
      "[CV] subsample=0.85, reg_alpha=0.001, n_estimators=300, min_child_weight=5, max_depth=9, learning_rate=0.1, gamma=0.1, colsample_bytree=0.85 \n",
      "[CV]  subsample=0.85, reg_alpha=0.001, n_estimators=300, min_child_weight=5, max_depth=9, learning_rate=0.1, gamma=0.1, colsample_bytree=0.85 -   0.0s\n",
      "[CV] subsample=0.85, reg_alpha=0.001, n_estimators=300, min_child_weight=5, max_depth=9, learning_rate=0.1, gamma=0.1, colsample_bytree=0.85 \n"
     ]
    },
    {
     "name": "stderr",
     "output_type": "stream",
     "text": [
      "C:\\Users\\DELL PC\\Anaconda3\\lib\\site-packages\\sklearn\\preprocessing\\label.py:171: DeprecationWarning: The truth value of an empty array is ambiguous. Returning False, but in future this will result in an error. Use `array.size > 0` to check that an array is not empty.\n",
      "  if diff:\n"
     ]
    },
    {
     "name": "stdout",
     "output_type": "stream",
     "text": [
      "[CV]  subsample=0.85, reg_alpha=0.001, n_estimators=300, min_child_weight=5, max_depth=9, learning_rate=0.1, gamma=0.1, colsample_bytree=0.85 -   0.1s\n",
      "[CV] subsample=0.85, reg_alpha=0.001, n_estimators=300, min_child_weight=5, max_depth=9, learning_rate=0.1, gamma=0.1, colsample_bytree=0.85 \n"
     ]
    },
    {
     "name": "stderr",
     "output_type": "stream",
     "text": [
      "C:\\Users\\DELL PC\\Anaconda3\\lib\\site-packages\\sklearn\\preprocessing\\label.py:171: DeprecationWarning: The truth value of an empty array is ambiguous. Returning False, but in future this will result in an error. Use `array.size > 0` to check that an array is not empty.\n",
      "  if diff:\n",
      "C:\\Users\\DELL PC\\Anaconda3\\lib\\site-packages\\sklearn\\preprocessing\\label.py:171: DeprecationWarning: The truth value of an empty array is ambiguous. Returning False, but in future this will result in an error. Use `array.size > 0` to check that an array is not empty.\n",
      "  if diff:\n",
      "C:\\Users\\DELL PC\\Anaconda3\\lib\\site-packages\\sklearn\\preprocessing\\label.py:171: DeprecationWarning: The truth value of an empty array is ambiguous. Returning False, but in future this will result in an error. Use `array.size > 0` to check that an array is not empty.\n",
      "  if diff:\n",
      "C:\\Users\\DELL PC\\Anaconda3\\lib\\site-packages\\sklearn\\preprocessing\\label.py:171: DeprecationWarning: The truth value of an empty array is ambiguous. Returning False, but in future this will result in an error. Use `array.size > 0` to check that an array is not empty.\n",
      "  if diff:\n",
      "C:\\Users\\DELL PC\\Anaconda3\\lib\\site-packages\\sklearn\\preprocessing\\label.py:171: DeprecationWarning: The truth value of an empty array is ambiguous. Returning False, but in future this will result in an error. Use `array.size > 0` to check that an array is not empty.\n",
      "  if diff:\n"
     ]
    },
    {
     "name": "stdout",
     "output_type": "stream",
     "text": [
      "[CV]  subsample=0.85, reg_alpha=0.001, n_estimators=300, min_child_weight=5, max_depth=9, learning_rate=0.1, gamma=0.1, colsample_bytree=0.85 -   0.2s\n",
      "[CV] subsample=0.85, reg_alpha=100, n_estimators=300, min_child_weight=5, max_depth=5, learning_rate=0.01, gamma=0.3, colsample_bytree=0.8 \n",
      "[CV]  subsample=0.85, reg_alpha=100, n_estimators=300, min_child_weight=5, max_depth=5, learning_rate=0.01, gamma=0.3, colsample_bytree=0.8 -   0.0s\n",
      "[CV] subsample=0.85, reg_alpha=100, n_estimators=300, min_child_weight=5, max_depth=5, learning_rate=0.01, gamma=0.3, colsample_bytree=0.8 \n",
      "[CV]  subsample=0.85, reg_alpha=100, n_estimators=300, min_child_weight=5, max_depth=5, learning_rate=0.01, gamma=0.3, colsample_bytree=0.8 -   0.0s\n",
      "[CV] subsample=0.85, reg_alpha=100, n_estimators=300, min_child_weight=5, max_depth=5, learning_rate=0.01, gamma=0.3, colsample_bytree=0.8 \n",
      "[CV]  subsample=0.85, reg_alpha=100, n_estimators=300, min_child_weight=5, max_depth=5, learning_rate=0.01, gamma=0.3, colsample_bytree=0.8 -   0.0s\n",
      "[CV] subsample=0.85, reg_alpha=100, n_estimators=300, min_child_weight=5, max_depth=5, learning_rate=0.01, gamma=0.3, colsample_bytree=0.8 \n",
      "[CV]  subsample=0.85, reg_alpha=100, n_estimators=300, min_child_weight=5, max_depth=5, learning_rate=0.01, gamma=0.3, colsample_bytree=0.8 -   0.0s\n",
      "[CV] subsample=0.85, reg_alpha=100, n_estimators=300, min_child_weight=5, max_depth=5, learning_rate=0.01, gamma=0.3, colsample_bytree=0.8 \n"
     ]
    },
    {
     "name": "stderr",
     "output_type": "stream",
     "text": [
      "C:\\Users\\DELL PC\\Anaconda3\\lib\\site-packages\\sklearn\\preprocessing\\label.py:171: DeprecationWarning: The truth value of an empty array is ambiguous. Returning False, but in future this will result in an error. Use `array.size > 0` to check that an array is not empty.\n",
      "  if diff:\n",
      "C:\\Users\\DELL PC\\Anaconda3\\lib\\site-packages\\sklearn\\preprocessing\\label.py:171: DeprecationWarning: The truth value of an empty array is ambiguous. Returning False, but in future this will result in an error. Use `array.size > 0` to check that an array is not empty.\n",
      "  if diff:\n",
      "C:\\Users\\DELL PC\\Anaconda3\\lib\\site-packages\\sklearn\\preprocessing\\label.py:171: DeprecationWarning: The truth value of an empty array is ambiguous. Returning False, but in future this will result in an error. Use `array.size > 0` to check that an array is not empty.\n",
      "  if diff:\n",
      "C:\\Users\\DELL PC\\Anaconda3\\lib\\site-packages\\sklearn\\preprocessing\\label.py:171: DeprecationWarning: The truth value of an empty array is ambiguous. Returning False, but in future this will result in an error. Use `array.size > 0` to check that an array is not empty.\n",
      "  if diff:\n",
      "C:\\Users\\DELL PC\\Anaconda3\\lib\\site-packages\\sklearn\\preprocessing\\label.py:171: DeprecationWarning: The truth value of an empty array is ambiguous. Returning False, but in future this will result in an error. Use `array.size > 0` to check that an array is not empty.\n",
      "  if diff:\n",
      "C:\\Users\\DELL PC\\Anaconda3\\lib\\site-packages\\sklearn\\preprocessing\\label.py:171: DeprecationWarning: The truth value of an empty array is ambiguous. Returning False, but in future this will result in an error. Use `array.size > 0` to check that an array is not empty.\n",
      "  if diff:\n",
      "C:\\Users\\DELL PC\\Anaconda3\\lib\\site-packages\\sklearn\\preprocessing\\label.py:171: DeprecationWarning: The truth value of an empty array is ambiguous. Returning False, but in future this will result in an error. Use `array.size > 0` to check that an array is not empty.\n",
      "  if diff:\n",
      "C:\\Users\\DELL PC\\Anaconda3\\lib\\site-packages\\sklearn\\preprocessing\\label.py:171: DeprecationWarning: The truth value of an empty array is ambiguous. Returning False, but in future this will result in an error. Use `array.size > 0` to check that an array is not empty.\n",
      "  if diff:\n",
      "C:\\Users\\DELL PC\\Anaconda3\\lib\\site-packages\\sklearn\\preprocessing\\label.py:171: DeprecationWarning: The truth value of an empty array is ambiguous. Returning False, but in future this will result in an error. Use `array.size > 0` to check that an array is not empty.\n",
      "  if diff:\n"
     ]
    },
    {
     "name": "stdout",
     "output_type": "stream",
     "text": [
      "[CV]  subsample=0.85, reg_alpha=100, n_estimators=300, min_child_weight=5, max_depth=5, learning_rate=0.01, gamma=0.3, colsample_bytree=0.8 -   0.0s\n",
      "[CV] subsample=0.85, reg_alpha=0.005, n_estimators=60, min_child_weight=9, max_depth=4, learning_rate=0.001, gamma=0.0, colsample_bytree=0.8 \n",
      "[CV]  subsample=0.85, reg_alpha=0.005, n_estimators=60, min_child_weight=9, max_depth=4, learning_rate=0.001, gamma=0.0, colsample_bytree=0.8 -   0.0s\n",
      "[CV] subsample=0.85, reg_alpha=0.005, n_estimators=60, min_child_weight=9, max_depth=4, learning_rate=0.001, gamma=0.0, colsample_bytree=0.8 \n",
      "[CV]  subsample=0.85, reg_alpha=0.005, n_estimators=60, min_child_weight=9, max_depth=4, learning_rate=0.001, gamma=0.0, colsample_bytree=0.8 -   0.0s\n",
      "[CV] subsample=0.85, reg_alpha=0.005, n_estimators=60, min_child_weight=9, max_depth=4, learning_rate=0.001, gamma=0.0, colsample_bytree=0.8 \n",
      "[CV]  subsample=0.85, reg_alpha=0.005, n_estimators=60, min_child_weight=9, max_depth=4, learning_rate=0.001, gamma=0.0, colsample_bytree=0.8 -   0.0s\n",
      "[CV] subsample=0.85, reg_alpha=0.005, n_estimators=60, min_child_weight=9, max_depth=4, learning_rate=0.001, gamma=0.0, colsample_bytree=0.8 \n",
      "[CV]  subsample=0.85, reg_alpha=0.005, n_estimators=60, min_child_weight=9, max_depth=4, learning_rate=0.001, gamma=0.0, colsample_bytree=0.8 -   0.0s\n",
      "[CV] subsample=0.85, reg_alpha=0.005, n_estimators=60, min_child_weight=9, max_depth=4, learning_rate=0.001, gamma=0.0, colsample_bytree=0.8 \n",
      "[CV]  subsample=0.85, reg_alpha=0.005, n_estimators=60, min_child_weight=9, max_depth=4, learning_rate=0.001, gamma=0.0, colsample_bytree=0.8 -   0.0s\n",
      "[CV] subsample=0.8, reg_alpha=0, n_estimators=60, min_child_weight=5, max_depth=3, learning_rate=0.001, gamma=0.3, colsample_bytree=0.85 \n",
      "[CV]  subsample=0.8, reg_alpha=0, n_estimators=60, min_child_weight=5, max_depth=3, learning_rate=0.001, gamma=0.3, colsample_bytree=0.85 -   0.0s\n",
      "[CV] subsample=0.8, reg_alpha=0, n_estimators=60, min_child_weight=5, max_depth=3, learning_rate=0.001, gamma=0.3, colsample_bytree=0.85 \n",
      "[CV]  subsample=0.8, reg_alpha=0, n_estimators=60, min_child_weight=5, max_depth=3, learning_rate=0.001, gamma=0.3, colsample_bytree=0.85 -   0.0s\n",
      "[CV] subsample=0.8, reg_alpha=0, n_estimators=60, min_child_weight=5, max_depth=3, learning_rate=0.001, gamma=0.3, colsample_bytree=0.85 \n",
      "[CV]  subsample=0.8, reg_alpha=0, n_estimators=60, min_child_weight=5, max_depth=3, learning_rate=0.001, gamma=0.3, colsample_bytree=0.85 -   0.0s\n",
      "[CV] subsample=0.8, reg_alpha=0, n_estimators=60, min_child_weight=5, max_depth=3, learning_rate=0.001, gamma=0.3, colsample_bytree=0.85 \n"
     ]
    },
    {
     "name": "stderr",
     "output_type": "stream",
     "text": [
      "C:\\Users\\DELL PC\\Anaconda3\\lib\\site-packages\\sklearn\\preprocessing\\label.py:171: DeprecationWarning: The truth value of an empty array is ambiguous. Returning False, but in future this will result in an error. Use `array.size > 0` to check that an array is not empty.\n",
      "  if diff:\n",
      "C:\\Users\\DELL PC\\Anaconda3\\lib\\site-packages\\sklearn\\preprocessing\\label.py:171: DeprecationWarning: The truth value of an empty array is ambiguous. Returning False, but in future this will result in an error. Use `array.size > 0` to check that an array is not empty.\n",
      "  if diff:\n"
     ]
    },
    {
     "name": "stdout",
     "output_type": "stream",
     "text": [
      "[CV]  subsample=0.8, reg_alpha=0, n_estimators=60, min_child_weight=5, max_depth=3, learning_rate=0.001, gamma=0.3, colsample_bytree=0.85 -   0.0s\n",
      "[CV] subsample=0.8, reg_alpha=0, n_estimators=60, min_child_weight=5, max_depth=3, learning_rate=0.001, gamma=0.3, colsample_bytree=0.85 \n",
      "[CV]  subsample=0.8, reg_alpha=0, n_estimators=60, min_child_weight=5, max_depth=3, learning_rate=0.001, gamma=0.3, colsample_bytree=0.85 -   0.0s\n",
      "[CV] subsample=0.75, reg_alpha=1, n_estimators=1000, min_child_weight=1, max_depth=7, learning_rate=0.01, gamma=0.3, colsample_bytree=0.85 \n"
     ]
    },
    {
     "name": "stderr",
     "output_type": "stream",
     "text": [
      "C:\\Users\\DELL PC\\Anaconda3\\lib\\site-packages\\sklearn\\preprocessing\\label.py:171: DeprecationWarning: The truth value of an empty array is ambiguous. Returning False, but in future this will result in an error. Use `array.size > 0` to check that an array is not empty.\n",
      "  if diff:\n"
     ]
    },
    {
     "name": "stdout",
     "output_type": "stream",
     "text": [
      "[CV]  subsample=0.75, reg_alpha=1, n_estimators=1000, min_child_weight=1, max_depth=7, learning_rate=0.01, gamma=0.3, colsample_bytree=0.85 -   0.4s\n",
      "[CV] subsample=0.75, reg_alpha=1, n_estimators=1000, min_child_weight=1, max_depth=7, learning_rate=0.01, gamma=0.3, colsample_bytree=0.85 \n"
     ]
    },
    {
     "name": "stderr",
     "output_type": "stream",
     "text": [
      "C:\\Users\\DELL PC\\Anaconda3\\lib\\site-packages\\sklearn\\preprocessing\\label.py:171: DeprecationWarning: The truth value of an empty array is ambiguous. Returning False, but in future this will result in an error. Use `array.size > 0` to check that an array is not empty.\n",
      "  if diff:\n"
     ]
    },
    {
     "name": "stdout",
     "output_type": "stream",
     "text": [
      "[CV]  subsample=0.75, reg_alpha=1, n_estimators=1000, min_child_weight=1, max_depth=7, learning_rate=0.01, gamma=0.3, colsample_bytree=0.85 -   0.4s\n",
      "[CV] subsample=0.75, reg_alpha=1, n_estimators=1000, min_child_weight=1, max_depth=7, learning_rate=0.01, gamma=0.3, colsample_bytree=0.85 \n"
     ]
    },
    {
     "name": "stderr",
     "output_type": "stream",
     "text": [
      "C:\\Users\\DELL PC\\Anaconda3\\lib\\site-packages\\sklearn\\preprocessing\\label.py:171: DeprecationWarning: The truth value of an empty array is ambiguous. Returning False, but in future this will result in an error. Use `array.size > 0` to check that an array is not empty.\n",
      "  if diff:\n"
     ]
    },
    {
     "name": "stdout",
     "output_type": "stream",
     "text": [
      "[CV]  subsample=0.75, reg_alpha=1, n_estimators=1000, min_child_weight=1, max_depth=7, learning_rate=0.01, gamma=0.3, colsample_bytree=0.85 -   0.4s\n",
      "[CV] subsample=0.75, reg_alpha=1, n_estimators=1000, min_child_weight=1, max_depth=7, learning_rate=0.01, gamma=0.3, colsample_bytree=0.85 \n"
     ]
    },
    {
     "name": "stderr",
     "output_type": "stream",
     "text": [
      "C:\\Users\\DELL PC\\Anaconda3\\lib\\site-packages\\sklearn\\preprocessing\\label.py:171: DeprecationWarning: The truth value of an empty array is ambiguous. Returning False, but in future this will result in an error. Use `array.size > 0` to check that an array is not empty.\n",
      "  if diff:\n"
     ]
    },
    {
     "name": "stdout",
     "output_type": "stream",
     "text": [
      "[CV]  subsample=0.75, reg_alpha=1, n_estimators=1000, min_child_weight=1, max_depth=7, learning_rate=0.01, gamma=0.3, colsample_bytree=0.85 -   0.4s\n",
      "[CV] subsample=0.75, reg_alpha=1, n_estimators=1000, min_child_weight=1, max_depth=7, learning_rate=0.01, gamma=0.3, colsample_bytree=0.85 \n"
     ]
    },
    {
     "name": "stderr",
     "output_type": "stream",
     "text": [
      "C:\\Users\\DELL PC\\Anaconda3\\lib\\site-packages\\sklearn\\preprocessing\\label.py:171: DeprecationWarning: The truth value of an empty array is ambiguous. Returning False, but in future this will result in an error. Use `array.size > 0` to check that an array is not empty.\n",
      "  if diff:\n"
     ]
    },
    {
     "name": "stdout",
     "output_type": "stream",
     "text": [
      "[CV]  subsample=0.75, reg_alpha=1, n_estimators=1000, min_child_weight=1, max_depth=7, learning_rate=0.01, gamma=0.3, colsample_bytree=0.85 -   0.5s\n",
      "[CV] subsample=0.8, reg_alpha=0.05, n_estimators=500, min_child_weight=7, max_depth=10, learning_rate=0.25, gamma=0.4, colsample_bytree=0.8 \n"
     ]
    },
    {
     "name": "stderr",
     "output_type": "stream",
     "text": [
      "C:\\Users\\DELL PC\\Anaconda3\\lib\\site-packages\\sklearn\\preprocessing\\label.py:171: DeprecationWarning: The truth value of an empty array is ambiguous. Returning False, but in future this will result in an error. Use `array.size > 0` to check that an array is not empty.\n",
      "  if diff:\n",
      "C:\\Users\\DELL PC\\Anaconda3\\lib\\site-packages\\sklearn\\preprocessing\\label.py:171: DeprecationWarning: The truth value of an empty array is ambiguous. Returning False, but in future this will result in an error. Use `array.size > 0` to check that an array is not empty.\n",
      "  if diff:\n"
     ]
    },
    {
     "name": "stdout",
     "output_type": "stream",
     "text": [
      "[CV]  subsample=0.8, reg_alpha=0.05, n_estimators=500, min_child_weight=7, max_depth=10, learning_rate=0.25, gamma=0.4, colsample_bytree=0.8 -   0.1s\n",
      "[CV] subsample=0.8, reg_alpha=0.05, n_estimators=500, min_child_weight=7, max_depth=10, learning_rate=0.25, gamma=0.4, colsample_bytree=0.8 \n",
      "[CV]  subsample=0.8, reg_alpha=0.05, n_estimators=500, min_child_weight=7, max_depth=10, learning_rate=0.25, gamma=0.4, colsample_bytree=0.8 -   0.1s\n",
      "[CV] subsample=0.8, reg_alpha=0.05, n_estimators=500, min_child_weight=7, max_depth=10, learning_rate=0.25, gamma=0.4, colsample_bytree=0.8 \n"
     ]
    },
    {
     "name": "stderr",
     "output_type": "stream",
     "text": [
      "C:\\Users\\DELL PC\\Anaconda3\\lib\\site-packages\\sklearn\\preprocessing\\label.py:171: DeprecationWarning: The truth value of an empty array is ambiguous. Returning False, but in future this will result in an error. Use `array.size > 0` to check that an array is not empty.\n",
      "  if diff:\n",
      "C:\\Users\\DELL PC\\Anaconda3\\lib\\site-packages\\sklearn\\preprocessing\\label.py:171: DeprecationWarning: The truth value of an empty array is ambiguous. Returning False, but in future this will result in an error. Use `array.size > 0` to check that an array is not empty.\n",
      "  if diff:\n"
     ]
    },
    {
     "name": "stdout",
     "output_type": "stream",
     "text": [
      "[CV]  subsample=0.8, reg_alpha=0.05, n_estimators=500, min_child_weight=7, max_depth=10, learning_rate=0.25, gamma=0.4, colsample_bytree=0.8 -   0.1s\n",
      "[CV] subsample=0.8, reg_alpha=0.05, n_estimators=500, min_child_weight=7, max_depth=10, learning_rate=0.25, gamma=0.4, colsample_bytree=0.8 \n",
      "[CV]  subsample=0.8, reg_alpha=0.05, n_estimators=500, min_child_weight=7, max_depth=10, learning_rate=0.25, gamma=0.4, colsample_bytree=0.8 -   0.0s\n",
      "[CV] subsample=0.8, reg_alpha=0.05, n_estimators=500, min_child_weight=7, max_depth=10, learning_rate=0.25, gamma=0.4, colsample_bytree=0.8 \n"
     ]
    },
    {
     "name": "stderr",
     "output_type": "stream",
     "text": [
      "C:\\Users\\DELL PC\\Anaconda3\\lib\\site-packages\\sklearn\\preprocessing\\label.py:171: DeprecationWarning: The truth value of an empty array is ambiguous. Returning False, but in future this will result in an error. Use `array.size > 0` to check that an array is not empty.\n",
      "  if diff:\n",
      "C:\\Users\\DELL PC\\Anaconda3\\lib\\site-packages\\sklearn\\preprocessing\\label.py:171: DeprecationWarning: The truth value of an empty array is ambiguous. Returning False, but in future this will result in an error. Use `array.size > 0` to check that an array is not empty.\n",
      "  if diff:\n",
      "C:\\Users\\DELL PC\\Anaconda3\\lib\\site-packages\\sklearn\\preprocessing\\label.py:171: DeprecationWarning: The truth value of an empty array is ambiguous. Returning False, but in future this will result in an error. Use `array.size > 0` to check that an array is not empty.\n",
      "  if diff:\n",
      "C:\\Users\\DELL PC\\Anaconda3\\lib\\site-packages\\sklearn\\preprocessing\\label.py:171: DeprecationWarning: The truth value of an empty array is ambiguous. Returning False, but in future this will result in an error. Use `array.size > 0` to check that an array is not empty.\n",
      "  if diff:\n",
      "C:\\Users\\DELL PC\\Anaconda3\\lib\\site-packages\\sklearn\\preprocessing\\label.py:171: DeprecationWarning: The truth value of an empty array is ambiguous. Returning False, but in future this will result in an error. Use `array.size > 0` to check that an array is not empty.\n",
      "  if diff:\n",
      "C:\\Users\\DELL PC\\Anaconda3\\lib\\site-packages\\sklearn\\preprocessing\\label.py:171: DeprecationWarning: The truth value of an empty array is ambiguous. Returning False, but in future this will result in an error. Use `array.size > 0` to check that an array is not empty.\n",
      "  if diff:\n",
      "C:\\Users\\DELL PC\\Anaconda3\\lib\\site-packages\\sklearn\\preprocessing\\label.py:171: DeprecationWarning: The truth value of an empty array is ambiguous. Returning False, but in future this will result in an error. Use `array.size > 0` to check that an array is not empty.\n",
      "  if diff:\n",
      "C:\\Users\\DELL PC\\Anaconda3\\lib\\site-packages\\sklearn\\preprocessing\\label.py:171: DeprecationWarning: The truth value of an empty array is ambiguous. Returning False, but in future this will result in an error. Use `array.size > 0` to check that an array is not empty.\n",
      "  if diff:\n",
      "C:\\Users\\DELL PC\\Anaconda3\\lib\\site-packages\\sklearn\\preprocessing\\label.py:171: DeprecationWarning: The truth value of an empty array is ambiguous. Returning False, but in future this will result in an error. Use `array.size > 0` to check that an array is not empty.\n",
      "  if diff:\n",
      "C:\\Users\\DELL PC\\Anaconda3\\lib\\site-packages\\sklearn\\preprocessing\\label.py:171: DeprecationWarning: The truth value of an empty array is ambiguous. Returning False, but in future this will result in an error. Use `array.size > 0` to check that an array is not empty.\n",
      "  if diff:\n",
      "C:\\Users\\DELL PC\\Anaconda3\\lib\\site-packages\\sklearn\\preprocessing\\label.py:171: DeprecationWarning: The truth value of an empty array is ambiguous. Returning False, but in future this will result in an error. Use `array.size > 0` to check that an array is not empty.\n",
      "  if diff:\n",
      "C:\\Users\\DELL PC\\Anaconda3\\lib\\site-packages\\sklearn\\preprocessing\\label.py:171: DeprecationWarning: The truth value of an empty array is ambiguous. Returning False, but in future this will result in an error. Use `array.size > 0` to check that an array is not empty.\n",
      "  if diff:\n",
      "C:\\Users\\DELL PC\\Anaconda3\\lib\\site-packages\\sklearn\\preprocessing\\label.py:171: DeprecationWarning: The truth value of an empty array is ambiguous. Returning False, but in future this will result in an error. Use `array.size > 0` to check that an array is not empty.\n",
      "  if diff:\n"
     ]
    },
    {
     "name": "stdout",
     "output_type": "stream",
     "text": [
      "[CV]  subsample=0.8, reg_alpha=0.05, n_estimators=500, min_child_weight=7, max_depth=10, learning_rate=0.25, gamma=0.4, colsample_bytree=0.8 -   0.1s\n",
      "[CV] subsample=0.8, reg_alpha=0.001, n_estimators=10, min_child_weight=1, max_depth=3, learning_rate=0.05, gamma=0.3, colsample_bytree=0.8 \n",
      "[CV]  subsample=0.8, reg_alpha=0.001, n_estimators=10, min_child_weight=1, max_depth=3, learning_rate=0.05, gamma=0.3, colsample_bytree=0.8 -   0.0s\n",
      "[CV] subsample=0.8, reg_alpha=0.001, n_estimators=10, min_child_weight=1, max_depth=3, learning_rate=0.05, gamma=0.3, colsample_bytree=0.8 \n",
      "[CV]  subsample=0.8, reg_alpha=0.001, n_estimators=10, min_child_weight=1, max_depth=3, learning_rate=0.05, gamma=0.3, colsample_bytree=0.8 -   0.0s\n",
      "[CV] subsample=0.8, reg_alpha=0.001, n_estimators=10, min_child_weight=1, max_depth=3, learning_rate=0.05, gamma=0.3, colsample_bytree=0.8 \n",
      "[CV]  subsample=0.8, reg_alpha=0.001, n_estimators=10, min_child_weight=1, max_depth=3, learning_rate=0.05, gamma=0.3, colsample_bytree=0.8 -   0.0s\n",
      "[CV] subsample=0.8, reg_alpha=0.001, n_estimators=10, min_child_weight=1, max_depth=3, learning_rate=0.05, gamma=0.3, colsample_bytree=0.8 \n",
      "[CV]  subsample=0.8, reg_alpha=0.001, n_estimators=10, min_child_weight=1, max_depth=3, learning_rate=0.05, gamma=0.3, colsample_bytree=0.8 -   0.0s\n",
      "[CV] subsample=0.8, reg_alpha=0.001, n_estimators=10, min_child_weight=1, max_depth=3, learning_rate=0.05, gamma=0.3, colsample_bytree=0.8 \n",
      "[CV]  subsample=0.8, reg_alpha=0.001, n_estimators=10, min_child_weight=1, max_depth=3, learning_rate=0.05, gamma=0.3, colsample_bytree=0.8 -   0.0s\n",
      "[CV] subsample=0.8, reg_alpha=100, n_estimators=100, min_child_weight=5, max_depth=9, learning_rate=0.001, gamma=0.0, colsample_bytree=0.85 \n",
      "[CV]  subsample=0.8, reg_alpha=100, n_estimators=100, min_child_weight=5, max_depth=9, learning_rate=0.001, gamma=0.0, colsample_bytree=0.85 -   0.0s\n",
      "[CV] subsample=0.8, reg_alpha=100, n_estimators=100, min_child_weight=5, max_depth=9, learning_rate=0.001, gamma=0.0, colsample_bytree=0.85 \n",
      "[CV]  subsample=0.8, reg_alpha=100, n_estimators=100, min_child_weight=5, max_depth=9, learning_rate=0.001, gamma=0.0, colsample_bytree=0.85 -   0.0s\n",
      "[CV] subsample=0.8, reg_alpha=100, n_estimators=100, min_child_weight=5, max_depth=9, learning_rate=0.001, gamma=0.0, colsample_bytree=0.85 \n",
      "[CV]  subsample=0.8, reg_alpha=100, n_estimators=100, min_child_weight=5, max_depth=9, learning_rate=0.001, gamma=0.0, colsample_bytree=0.85 -   0.0s\n",
      "[CV] subsample=0.8, reg_alpha=100, n_estimators=100, min_child_weight=5, max_depth=9, learning_rate=0.001, gamma=0.0, colsample_bytree=0.85 \n",
      "[CV]  subsample=0.8, reg_alpha=100, n_estimators=100, min_child_weight=5, max_depth=9, learning_rate=0.001, gamma=0.0, colsample_bytree=0.85 -   0.0s\n",
      "[CV] subsample=0.8, reg_alpha=100, n_estimators=100, min_child_weight=5, max_depth=9, learning_rate=0.001, gamma=0.0, colsample_bytree=0.85 \n",
      "[CV]  subsample=0.8, reg_alpha=100, n_estimators=100, min_child_weight=5, max_depth=9, learning_rate=0.001, gamma=0.0, colsample_bytree=0.85 -   0.0s\n",
      "[CV] subsample=0.85, reg_alpha=0.05, n_estimators=60, min_child_weight=1, max_depth=10, learning_rate=0.25, gamma=0.3, colsample_bytree=0.85 \n",
      "[CV]  subsample=0.85, reg_alpha=0.05, n_estimators=60, min_child_weight=1, max_depth=10, learning_rate=0.25, gamma=0.3, colsample_bytree=0.85 -   0.0s\n",
      "[CV] subsample=0.85, reg_alpha=0.05, n_estimators=60, min_child_weight=1, max_depth=10, learning_rate=0.25, gamma=0.3, colsample_bytree=0.85 \n",
      "[CV]  subsample=0.85, reg_alpha=0.05, n_estimators=60, min_child_weight=1, max_depth=10, learning_rate=0.25, gamma=0.3, colsample_bytree=0.85 -   0.0s\n",
      "[CV] subsample=0.85, reg_alpha=0.05, n_estimators=60, min_child_weight=1, max_depth=10, learning_rate=0.25, gamma=0.3, colsample_bytree=0.85 \n"
     ]
    },
    {
     "name": "stderr",
     "output_type": "stream",
     "text": [
      "C:\\Users\\DELL PC\\Anaconda3\\lib\\site-packages\\sklearn\\preprocessing\\label.py:171: DeprecationWarning: The truth value of an empty array is ambiguous. Returning False, but in future this will result in an error. Use `array.size > 0` to check that an array is not empty.\n",
      "  if diff:\n",
      "C:\\Users\\DELL PC\\Anaconda3\\lib\\site-packages\\sklearn\\preprocessing\\label.py:171: DeprecationWarning: The truth value of an empty array is ambiguous. Returning False, but in future this will result in an error. Use `array.size > 0` to check that an array is not empty.\n",
      "  if diff:\n",
      "C:\\Users\\DELL PC\\Anaconda3\\lib\\site-packages\\sklearn\\preprocessing\\label.py:171: DeprecationWarning: The truth value of an empty array is ambiguous. Returning False, but in future this will result in an error. Use `array.size > 0` to check that an array is not empty.\n",
      "  if diff:\n"
     ]
    },
    {
     "name": "stdout",
     "output_type": "stream",
     "text": [
      "[CV]  subsample=0.85, reg_alpha=0.05, n_estimators=60, min_child_weight=1, max_depth=10, learning_rate=0.25, gamma=0.3, colsample_bytree=0.85 -   0.0s\n",
      "[CV] subsample=0.85, reg_alpha=0.05, n_estimators=60, min_child_weight=1, max_depth=10, learning_rate=0.25, gamma=0.3, colsample_bytree=0.85 \n",
      "[CV]  subsample=0.85, reg_alpha=0.05, n_estimators=60, min_child_weight=1, max_depth=10, learning_rate=0.25, gamma=0.3, colsample_bytree=0.85 -   0.0s\n",
      "[CV] subsample=0.85, reg_alpha=0.05, n_estimators=60, min_child_weight=1, max_depth=10, learning_rate=0.25, gamma=0.3, colsample_bytree=0.85 \n",
      "[CV]  subsample=0.85, reg_alpha=0.05, n_estimators=60, min_child_weight=1, max_depth=10, learning_rate=0.25, gamma=0.3, colsample_bytree=0.85 -   0.0s\n",
      "[CV] subsample=0.8, reg_alpha=0, n_estimators=1000, min_child_weight=1, max_depth=5, learning_rate=0.21, gamma=0.4, colsample_bytree=0.85 \n"
     ]
    },
    {
     "name": "stderr",
     "output_type": "stream",
     "text": [
      "C:\\Users\\DELL PC\\Anaconda3\\lib\\site-packages\\sklearn\\preprocessing\\label.py:171: DeprecationWarning: The truth value of an empty array is ambiguous. Returning False, but in future this will result in an error. Use `array.size > 0` to check that an array is not empty.\n",
      "  if diff:\n"
     ]
    },
    {
     "name": "stdout",
     "output_type": "stream",
     "text": [
      "[CV]  subsample=0.8, reg_alpha=0, n_estimators=1000, min_child_weight=1, max_depth=5, learning_rate=0.21, gamma=0.4, colsample_bytree=0.85 -   0.4s\n",
      "[CV] subsample=0.8, reg_alpha=0, n_estimators=1000, min_child_weight=1, max_depth=5, learning_rate=0.21, gamma=0.4, colsample_bytree=0.85 \n"
     ]
    },
    {
     "name": "stderr",
     "output_type": "stream",
     "text": [
      "C:\\Users\\DELL PC\\Anaconda3\\lib\\site-packages\\sklearn\\preprocessing\\label.py:171: DeprecationWarning: The truth value of an empty array is ambiguous. Returning False, but in future this will result in an error. Use `array.size > 0` to check that an array is not empty.\n",
      "  if diff:\n"
     ]
    },
    {
     "name": "stdout",
     "output_type": "stream",
     "text": [
      "[CV]  subsample=0.8, reg_alpha=0, n_estimators=1000, min_child_weight=1, max_depth=5, learning_rate=0.21, gamma=0.4, colsample_bytree=0.85 -   0.3s\n",
      "[CV] subsample=0.8, reg_alpha=0, n_estimators=1000, min_child_weight=1, max_depth=5, learning_rate=0.21, gamma=0.4, colsample_bytree=0.85 \n"
     ]
    },
    {
     "name": "stderr",
     "output_type": "stream",
     "text": [
      "C:\\Users\\DELL PC\\Anaconda3\\lib\\site-packages\\sklearn\\preprocessing\\label.py:171: DeprecationWarning: The truth value of an empty array is ambiguous. Returning False, but in future this will result in an error. Use `array.size > 0` to check that an array is not empty.\n",
      "  if diff:\n"
     ]
    },
    {
     "name": "stdout",
     "output_type": "stream",
     "text": [
      "[CV]  subsample=0.8, reg_alpha=0, n_estimators=1000, min_child_weight=1, max_depth=5, learning_rate=0.21, gamma=0.4, colsample_bytree=0.85 -   0.3s\n",
      "[CV] subsample=0.8, reg_alpha=0, n_estimators=1000, min_child_weight=1, max_depth=5, learning_rate=0.21, gamma=0.4, colsample_bytree=0.85 \n"
     ]
    },
    {
     "name": "stderr",
     "output_type": "stream",
     "text": [
      "C:\\Users\\DELL PC\\Anaconda3\\lib\\site-packages\\sklearn\\preprocessing\\label.py:171: DeprecationWarning: The truth value of an empty array is ambiguous. Returning False, but in future this will result in an error. Use `array.size > 0` to check that an array is not empty.\n",
      "  if diff:\n"
     ]
    },
    {
     "name": "stdout",
     "output_type": "stream",
     "text": [
      "[CV]  subsample=0.8, reg_alpha=0, n_estimators=1000, min_child_weight=1, max_depth=5, learning_rate=0.21, gamma=0.4, colsample_bytree=0.85 -   0.3s\n",
      "[CV] subsample=0.8, reg_alpha=0, n_estimators=1000, min_child_weight=1, max_depth=5, learning_rate=0.21, gamma=0.4, colsample_bytree=0.85 \n"
     ]
    },
    {
     "name": "stderr",
     "output_type": "stream",
     "text": [
      "C:\\Users\\DELL PC\\Anaconda3\\lib\\site-packages\\sklearn\\preprocessing\\label.py:171: DeprecationWarning: The truth value of an empty array is ambiguous. Returning False, but in future this will result in an error. Use `array.size > 0` to check that an array is not empty.\n",
      "  if diff:\n",
      "C:\\Users\\DELL PC\\Anaconda3\\lib\\site-packages\\sklearn\\preprocessing\\label.py:171: DeprecationWarning: The truth value of an empty array is ambiguous. Returning False, but in future this will result in an error. Use `array.size > 0` to check that an array is not empty.\n",
      "  if diff:\n",
      "C:\\Users\\DELL PC\\Anaconda3\\lib\\site-packages\\sklearn\\preprocessing\\label.py:171: DeprecationWarning: The truth value of an empty array is ambiguous. Returning False, but in future this will result in an error. Use `array.size > 0` to check that an array is not empty.\n",
      "  if diff:\n"
     ]
    },
    {
     "name": "stdout",
     "output_type": "stream",
     "text": [
      "[CV]  subsample=0.8, reg_alpha=0, n_estimators=1000, min_child_weight=1, max_depth=5, learning_rate=0.21, gamma=0.4, colsample_bytree=0.85 -   0.4s\n",
      "[CV] subsample=0.85, reg_alpha=0.05, n_estimators=200, min_child_weight=5, max_depth=7, learning_rate=0.05, gamma=0.0, colsample_bytree=0.75 \n",
      "[CV]  subsample=0.85, reg_alpha=0.05, n_estimators=200, min_child_weight=5, max_depth=7, learning_rate=0.05, gamma=0.0, colsample_bytree=0.75 -   0.0s\n",
      "[CV] subsample=0.85, reg_alpha=0.05, n_estimators=200, min_child_weight=5, max_depth=7, learning_rate=0.05, gamma=0.0, colsample_bytree=0.75 \n",
      "[CV]  subsample=0.85, reg_alpha=0.05, n_estimators=200, min_child_weight=5, max_depth=7, learning_rate=0.05, gamma=0.0, colsample_bytree=0.75 -   0.0s\n",
      "[CV] subsample=0.85, reg_alpha=0.05, n_estimators=200, min_child_weight=5, max_depth=7, learning_rate=0.05, gamma=0.0, colsample_bytree=0.75 \n"
     ]
    },
    {
     "name": "stderr",
     "output_type": "stream",
     "text": [
      "C:\\Users\\DELL PC\\Anaconda3\\lib\\site-packages\\sklearn\\preprocessing\\label.py:171: DeprecationWarning: The truth value of an empty array is ambiguous. Returning False, but in future this will result in an error. Use `array.size > 0` to check that an array is not empty.\n",
      "  if diff:\n",
      "C:\\Users\\DELL PC\\Anaconda3\\lib\\site-packages\\sklearn\\preprocessing\\label.py:171: DeprecationWarning: The truth value of an empty array is ambiguous. Returning False, but in future this will result in an error. Use `array.size > 0` to check that an array is not empty.\n",
      "  if diff:\n",
      "C:\\Users\\DELL PC\\Anaconda3\\lib\\site-packages\\sklearn\\preprocessing\\label.py:171: DeprecationWarning: The truth value of an empty array is ambiguous. Returning False, but in future this will result in an error. Use `array.size > 0` to check that an array is not empty.\n",
      "  if diff:\n"
     ]
    },
    {
     "name": "stdout",
     "output_type": "stream",
     "text": [
      "[CV]  subsample=0.85, reg_alpha=0.05, n_estimators=200, min_child_weight=5, max_depth=7, learning_rate=0.05, gamma=0.0, colsample_bytree=0.75 -   0.0s\n",
      "[CV] subsample=0.85, reg_alpha=0.05, n_estimators=200, min_child_weight=5, max_depth=7, learning_rate=0.05, gamma=0.0, colsample_bytree=0.75 \n",
      "[CV]  subsample=0.85, reg_alpha=0.05, n_estimators=200, min_child_weight=5, max_depth=7, learning_rate=0.05, gamma=0.0, colsample_bytree=0.75 -   0.0s\n",
      "[CV] subsample=0.85, reg_alpha=0.05, n_estimators=200, min_child_weight=5, max_depth=7, learning_rate=0.05, gamma=0.0, colsample_bytree=0.75 \n",
      "[CV]  subsample=0.85, reg_alpha=0.05, n_estimators=200, min_child_weight=5, max_depth=7, learning_rate=0.05, gamma=0.0, colsample_bytree=0.75 -   0.0s\n",
      "[CV] subsample=0.75, reg_alpha=0.005, n_estimators=300, min_child_weight=3, max_depth=9, learning_rate=0.001, gamma=0.2, colsample_bytree=0.8 \n"
     ]
    },
    {
     "name": "stderr",
     "output_type": "stream",
     "text": [
      "C:\\Users\\DELL PC\\Anaconda3\\lib\\site-packages\\sklearn\\preprocessing\\label.py:171: DeprecationWarning: The truth value of an empty array is ambiguous. Returning False, but in future this will result in an error. Use `array.size > 0` to check that an array is not empty.\n",
      "  if diff:\n",
      "C:\\Users\\DELL PC\\Anaconda3\\lib\\site-packages\\sklearn\\preprocessing\\label.py:171: DeprecationWarning: The truth value of an empty array is ambiguous. Returning False, but in future this will result in an error. Use `array.size > 0` to check that an array is not empty.\n",
      "  if diff:\n"
     ]
    },
    {
     "name": "stdout",
     "output_type": "stream",
     "text": [
      "[CV]  subsample=0.75, reg_alpha=0.005, n_estimators=300, min_child_weight=3, max_depth=9, learning_rate=0.001, gamma=0.2, colsample_bytree=0.8 -   0.0s\n",
      "[CV] subsample=0.75, reg_alpha=0.005, n_estimators=300, min_child_weight=3, max_depth=9, learning_rate=0.001, gamma=0.2, colsample_bytree=0.8 \n",
      "[CV]  subsample=0.75, reg_alpha=0.005, n_estimators=300, min_child_weight=3, max_depth=9, learning_rate=0.001, gamma=0.2, colsample_bytree=0.8 -   0.0s\n",
      "[CV] subsample=0.75, reg_alpha=0.005, n_estimators=300, min_child_weight=3, max_depth=9, learning_rate=0.001, gamma=0.2, colsample_bytree=0.8 \n"
     ]
    },
    {
     "name": "stderr",
     "output_type": "stream",
     "text": [
      "C:\\Users\\DELL PC\\Anaconda3\\lib\\site-packages\\sklearn\\preprocessing\\label.py:171: DeprecationWarning: The truth value of an empty array is ambiguous. Returning False, but in future this will result in an error. Use `array.size > 0` to check that an array is not empty.\n",
      "  if diff:\n",
      "C:\\Users\\DELL PC\\Anaconda3\\lib\\site-packages\\sklearn\\preprocessing\\label.py:171: DeprecationWarning: The truth value of an empty array is ambiguous. Returning False, but in future this will result in an error. Use `array.size > 0` to check that an array is not empty.\n",
      "  if diff:\n"
     ]
    },
    {
     "name": "stdout",
     "output_type": "stream",
     "text": [
      "[CV]  subsample=0.75, reg_alpha=0.005, n_estimators=300, min_child_weight=3, max_depth=9, learning_rate=0.001, gamma=0.2, colsample_bytree=0.8 -   0.0s\n",
      "[CV] subsample=0.75, reg_alpha=0.005, n_estimators=300, min_child_weight=3, max_depth=9, learning_rate=0.001, gamma=0.2, colsample_bytree=0.8 \n",
      "[CV]  subsample=0.75, reg_alpha=0.005, n_estimators=300, min_child_weight=3, max_depth=9, learning_rate=0.001, gamma=0.2, colsample_bytree=0.8 -   0.0s\n",
      "[CV] subsample=0.75, reg_alpha=0.005, n_estimators=300, min_child_weight=3, max_depth=9, learning_rate=0.001, gamma=0.2, colsample_bytree=0.8 \n"
     ]
    },
    {
     "name": "stderr",
     "output_type": "stream",
     "text": [
      "C:\\Users\\DELL PC\\Anaconda3\\lib\\site-packages\\sklearn\\preprocessing\\label.py:171: DeprecationWarning: The truth value of an empty array is ambiguous. Returning False, but in future this will result in an error. Use `array.size > 0` to check that an array is not empty.\n",
      "  if diff:\n",
      "C:\\Users\\DELL PC\\Anaconda3\\lib\\site-packages\\sklearn\\preprocessing\\label.py:171: DeprecationWarning: The truth value of an empty array is ambiguous. Returning False, but in future this will result in an error. Use `array.size > 0` to check that an array is not empty.\n",
      "  if diff:\n",
      "C:\\Users\\DELL PC\\Anaconda3\\lib\\site-packages\\sklearn\\preprocessing\\label.py:171: DeprecationWarning: The truth value of an empty array is ambiguous. Returning False, but in future this will result in an error. Use `array.size > 0` to check that an array is not empty.\n",
      "  if diff:\n",
      "C:\\Users\\DELL PC\\Anaconda3\\lib\\site-packages\\sklearn\\preprocessing\\label.py:171: DeprecationWarning: The truth value of an empty array is ambiguous. Returning False, but in future this will result in an error. Use `array.size > 0` to check that an array is not empty.\n",
      "  if diff:\n",
      "C:\\Users\\DELL PC\\Anaconda3\\lib\\site-packages\\sklearn\\preprocessing\\label.py:171: DeprecationWarning: The truth value of an empty array is ambiguous. Returning False, but in future this will result in an error. Use `array.size > 0` to check that an array is not empty.\n",
      "  if diff:\n",
      "C:\\Users\\DELL PC\\Anaconda3\\lib\\site-packages\\sklearn\\preprocessing\\label.py:171: DeprecationWarning: The truth value of an empty array is ambiguous. Returning False, but in future this will result in an error. Use `array.size > 0` to check that an array is not empty.\n",
      "  if diff:\n",
      "C:\\Users\\DELL PC\\Anaconda3\\lib\\site-packages\\sklearn\\preprocessing\\label.py:171: DeprecationWarning: The truth value of an empty array is ambiguous. Returning False, but in future this will result in an error. Use `array.size > 0` to check that an array is not empty.\n",
      "  if diff:\n",
      "C:\\Users\\DELL PC\\Anaconda3\\lib\\site-packages\\sklearn\\preprocessing\\label.py:171: DeprecationWarning: The truth value of an empty array is ambiguous. Returning False, but in future this will result in an error. Use `array.size > 0` to check that an array is not empty.\n",
      "  if diff:\n",
      "C:\\Users\\DELL PC\\Anaconda3\\lib\\site-packages\\sklearn\\preprocessing\\label.py:171: DeprecationWarning: The truth value of an empty array is ambiguous. Returning False, but in future this will result in an error. Use `array.size > 0` to check that an array is not empty.\n",
      "  if diff:\n",
      "C:\\Users\\DELL PC\\Anaconda3\\lib\\site-packages\\sklearn\\preprocessing\\label.py:171: DeprecationWarning: The truth value of an empty array is ambiguous. Returning False, but in future this will result in an error. Use `array.size > 0` to check that an array is not empty.\n",
      "  if diff:\n"
     ]
    },
    {
     "name": "stdout",
     "output_type": "stream",
     "text": [
      "[CV]  subsample=0.75, reg_alpha=0.005, n_estimators=300, min_child_weight=3, max_depth=9, learning_rate=0.001, gamma=0.2, colsample_bytree=0.8 -   0.0s\n",
      "[CV] subsample=0.8, reg_alpha=0.005, n_estimators=10, min_child_weight=7, max_depth=9, learning_rate=0.01, gamma=0.0, colsample_bytree=0.8 \n",
      "[CV]  subsample=0.8, reg_alpha=0.005, n_estimators=10, min_child_weight=7, max_depth=9, learning_rate=0.01, gamma=0.0, colsample_bytree=0.8 -   0.0s\n",
      "[CV] subsample=0.8, reg_alpha=0.005, n_estimators=10, min_child_weight=7, max_depth=9, learning_rate=0.01, gamma=0.0, colsample_bytree=0.8 \n",
      "[CV]  subsample=0.8, reg_alpha=0.005, n_estimators=10, min_child_weight=7, max_depth=9, learning_rate=0.01, gamma=0.0, colsample_bytree=0.8 -   0.0s\n",
      "[CV] subsample=0.8, reg_alpha=0.005, n_estimators=10, min_child_weight=7, max_depth=9, learning_rate=0.01, gamma=0.0, colsample_bytree=0.8 \n",
      "[CV]  subsample=0.8, reg_alpha=0.005, n_estimators=10, min_child_weight=7, max_depth=9, learning_rate=0.01, gamma=0.0, colsample_bytree=0.8 -   0.0s\n",
      "[CV] subsample=0.8, reg_alpha=0.005, n_estimators=10, min_child_weight=7, max_depth=9, learning_rate=0.01, gamma=0.0, colsample_bytree=0.8 \n",
      "[CV]  subsample=0.8, reg_alpha=0.005, n_estimators=10, min_child_weight=7, max_depth=9, learning_rate=0.01, gamma=0.0, colsample_bytree=0.8 -   0.0s\n",
      "[CV] subsample=0.8, reg_alpha=0.005, n_estimators=10, min_child_weight=7, max_depth=9, learning_rate=0.01, gamma=0.0, colsample_bytree=0.8 \n",
      "[CV]  subsample=0.8, reg_alpha=0.005, n_estimators=10, min_child_weight=7, max_depth=9, learning_rate=0.01, gamma=0.0, colsample_bytree=0.8 -   0.0s\n",
      "[CV] subsample=0.85, reg_alpha=100, n_estimators=300, min_child_weight=5, max_depth=3, learning_rate=0.15, gamma=0.0, colsample_bytree=0.85 \n",
      "[CV]  subsample=0.85, reg_alpha=100, n_estimators=300, min_child_weight=5, max_depth=3, learning_rate=0.15, gamma=0.0, colsample_bytree=0.85 -   0.0s\n",
      "[CV] subsample=0.85, reg_alpha=100, n_estimators=300, min_child_weight=5, max_depth=3, learning_rate=0.15, gamma=0.0, colsample_bytree=0.85 \n",
      "[CV]  subsample=0.85, reg_alpha=100, n_estimators=300, min_child_weight=5, max_depth=3, learning_rate=0.15, gamma=0.0, colsample_bytree=0.85 -   0.0s\n",
      "[CV] subsample=0.85, reg_alpha=100, n_estimators=300, min_child_weight=5, max_depth=3, learning_rate=0.15, gamma=0.0, colsample_bytree=0.85 \n",
      "[CV]  subsample=0.85, reg_alpha=100, n_estimators=300, min_child_weight=5, max_depth=3, learning_rate=0.15, gamma=0.0, colsample_bytree=0.85 -   0.0s\n",
      "[CV] subsample=0.85, reg_alpha=100, n_estimators=300, min_child_weight=5, max_depth=3, learning_rate=0.15, gamma=0.0, colsample_bytree=0.85 \n",
      "[CV]  subsample=0.85, reg_alpha=100, n_estimators=300, min_child_weight=5, max_depth=3, learning_rate=0.15, gamma=0.0, colsample_bytree=0.85 -   0.0s\n",
      "[CV] subsample=0.85, reg_alpha=100, n_estimators=300, min_child_weight=5, max_depth=3, learning_rate=0.15, gamma=0.0, colsample_bytree=0.85 \n"
     ]
    },
    {
     "name": "stderr",
     "output_type": "stream",
     "text": [
      "C:\\Users\\DELL PC\\Anaconda3\\lib\\site-packages\\sklearn\\preprocessing\\label.py:171: DeprecationWarning: The truth value of an empty array is ambiguous. Returning False, but in future this will result in an error. Use `array.size > 0` to check that an array is not empty.\n",
      "  if diff:\n"
     ]
    },
    {
     "name": "stdout",
     "output_type": "stream",
     "text": [
      "[CV]  subsample=0.85, reg_alpha=100, n_estimators=300, min_child_weight=5, max_depth=3, learning_rate=0.15, gamma=0.0, colsample_bytree=0.85 -   0.0s\n",
      "[CV] subsample=0.85, reg_alpha=0.005, n_estimators=700, min_child_weight=3, max_depth=9, learning_rate=0.05, gamma=0.4, colsample_bytree=0.85 \n"
     ]
    },
    {
     "name": "stderr",
     "output_type": "stream",
     "text": [
      "C:\\Users\\DELL PC\\Anaconda3\\lib\\site-packages\\sklearn\\preprocessing\\label.py:171: DeprecationWarning: The truth value of an empty array is ambiguous. Returning False, but in future this will result in an error. Use `array.size > 0` to check that an array is not empty.\n",
      "  if diff:\n"
     ]
    },
    {
     "name": "stdout",
     "output_type": "stream",
     "text": [
      "[CV]  subsample=0.85, reg_alpha=0.005, n_estimators=700, min_child_weight=3, max_depth=9, learning_rate=0.05, gamma=0.4, colsample_bytree=0.85 -   0.2s\n",
      "[CV] subsample=0.85, reg_alpha=0.005, n_estimators=700, min_child_weight=3, max_depth=9, learning_rate=0.05, gamma=0.4, colsample_bytree=0.85 \n"
     ]
    },
    {
     "name": "stderr",
     "output_type": "stream",
     "text": [
      "C:\\Users\\DELL PC\\Anaconda3\\lib\\site-packages\\sklearn\\preprocessing\\label.py:171: DeprecationWarning: The truth value of an empty array is ambiguous. Returning False, but in future this will result in an error. Use `array.size > 0` to check that an array is not empty.\n",
      "  if diff:\n"
     ]
    },
    {
     "name": "stdout",
     "output_type": "stream",
     "text": [
      "[CV]  subsample=0.85, reg_alpha=0.005, n_estimators=700, min_child_weight=3, max_depth=9, learning_rate=0.05, gamma=0.4, colsample_bytree=0.85 -   0.2s\n",
      "[CV] subsample=0.85, reg_alpha=0.005, n_estimators=700, min_child_weight=3, max_depth=9, learning_rate=0.05, gamma=0.4, colsample_bytree=0.85 \n"
     ]
    },
    {
     "name": "stderr",
     "output_type": "stream",
     "text": [
      "C:\\Users\\DELL PC\\Anaconda3\\lib\\site-packages\\sklearn\\preprocessing\\label.py:171: DeprecationWarning: The truth value of an empty array is ambiguous. Returning False, but in future this will result in an error. Use `array.size > 0` to check that an array is not empty.\n",
      "  if diff:\n"
     ]
    },
    {
     "name": "stdout",
     "output_type": "stream",
     "text": [
      "[CV]  subsample=0.85, reg_alpha=0.005, n_estimators=700, min_child_weight=3, max_depth=9, learning_rate=0.05, gamma=0.4, colsample_bytree=0.85 -   0.2s\n",
      "[CV] subsample=0.85, reg_alpha=0.005, n_estimators=700, min_child_weight=3, max_depth=9, learning_rate=0.05, gamma=0.4, colsample_bytree=0.85 \n"
     ]
    },
    {
     "name": "stderr",
     "output_type": "stream",
     "text": [
      "C:\\Users\\DELL PC\\Anaconda3\\lib\\site-packages\\sklearn\\preprocessing\\label.py:171: DeprecationWarning: The truth value of an empty array is ambiguous. Returning False, but in future this will result in an error. Use `array.size > 0` to check that an array is not empty.\n",
      "  if diff:\n"
     ]
    },
    {
     "name": "stdout",
     "output_type": "stream",
     "text": [
      "[CV]  subsample=0.85, reg_alpha=0.005, n_estimators=700, min_child_weight=3, max_depth=9, learning_rate=0.05, gamma=0.4, colsample_bytree=0.85 -   0.2s\n",
      "[CV] subsample=0.85, reg_alpha=0.005, n_estimators=700, min_child_weight=3, max_depth=9, learning_rate=0.05, gamma=0.4, colsample_bytree=0.85 \n"
     ]
    },
    {
     "name": "stderr",
     "output_type": "stream",
     "text": [
      "C:\\Users\\DELL PC\\Anaconda3\\lib\\site-packages\\sklearn\\preprocessing\\label.py:171: DeprecationWarning: The truth value of an empty array is ambiguous. Returning False, but in future this will result in an error. Use `array.size > 0` to check that an array is not empty.\n",
      "  if diff:\n",
      "C:\\Users\\DELL PC\\Anaconda3\\lib\\site-packages\\sklearn\\preprocessing\\label.py:171: DeprecationWarning: The truth value of an empty array is ambiguous. Returning False, but in future this will result in an error. Use `array.size > 0` to check that an array is not empty.\n",
      "  if diff:\n",
      "C:\\Users\\DELL PC\\Anaconda3\\lib\\site-packages\\sklearn\\preprocessing\\label.py:171: DeprecationWarning: The truth value of an empty array is ambiguous. Returning False, but in future this will result in an error. Use `array.size > 0` to check that an array is not empty.\n",
      "  if diff:\n",
      "C:\\Users\\DELL PC\\Anaconda3\\lib\\site-packages\\sklearn\\preprocessing\\label.py:171: DeprecationWarning: The truth value of an empty array is ambiguous. Returning False, but in future this will result in an error. Use `array.size > 0` to check that an array is not empty.\n",
      "  if diff:\n",
      "C:\\Users\\DELL PC\\Anaconda3\\lib\\site-packages\\sklearn\\preprocessing\\label.py:171: DeprecationWarning: The truth value of an empty array is ambiguous. Returning False, but in future this will result in an error. Use `array.size > 0` to check that an array is not empty.\n",
      "  if diff:\n",
      "C:\\Users\\DELL PC\\Anaconda3\\lib\\site-packages\\sklearn\\preprocessing\\label.py:171: DeprecationWarning: The truth value of an empty array is ambiguous. Returning False, but in future this will result in an error. Use `array.size > 0` to check that an array is not empty.\n",
      "  if diff:\n"
     ]
    },
    {
     "name": "stdout",
     "output_type": "stream",
     "text": [
      "[CV]  subsample=0.85, reg_alpha=0.005, n_estimators=700, min_child_weight=3, max_depth=9, learning_rate=0.05, gamma=0.4, colsample_bytree=0.85 -   0.3s\n",
      "[CV] subsample=0.85, reg_alpha=0.05, n_estimators=30, min_child_weight=9, max_depth=9, learning_rate=0.1, gamma=0.3, colsample_bytree=0.75 \n",
      "[CV]  subsample=0.85, reg_alpha=0.05, n_estimators=30, min_child_weight=9, max_depth=9, learning_rate=0.1, gamma=0.3, colsample_bytree=0.75 -   0.0s\n",
      "[CV] subsample=0.85, reg_alpha=0.05, n_estimators=30, min_child_weight=9, max_depth=9, learning_rate=0.1, gamma=0.3, colsample_bytree=0.75 \n",
      "[CV]  subsample=0.85, reg_alpha=0.05, n_estimators=30, min_child_weight=9, max_depth=9, learning_rate=0.1, gamma=0.3, colsample_bytree=0.75 -   0.0s\n",
      "[CV] subsample=0.85, reg_alpha=0.05, n_estimators=30, min_child_weight=9, max_depth=9, learning_rate=0.1, gamma=0.3, colsample_bytree=0.75 \n",
      "[CV]  subsample=0.85, reg_alpha=0.05, n_estimators=30, min_child_weight=9, max_depth=9, learning_rate=0.1, gamma=0.3, colsample_bytree=0.75 -   0.0s\n",
      "[CV] subsample=0.85, reg_alpha=0.05, n_estimators=30, min_child_weight=9, max_depth=9, learning_rate=0.1, gamma=0.3, colsample_bytree=0.75 \n",
      "[CV]  subsample=0.85, reg_alpha=0.05, n_estimators=30, min_child_weight=9, max_depth=9, learning_rate=0.1, gamma=0.3, colsample_bytree=0.75 -   0.0s\n",
      "[CV] subsample=0.85, reg_alpha=0.05, n_estimators=30, min_child_weight=9, max_depth=9, learning_rate=0.1, gamma=0.3, colsample_bytree=0.75 \n",
      "[CV]  subsample=0.85, reg_alpha=0.05, n_estimators=30, min_child_weight=9, max_depth=9, learning_rate=0.1, gamma=0.3, colsample_bytree=0.75 -   0.0s\n",
      "[CV] subsample=0.8, reg_alpha=0.01, n_estimators=700, min_child_weight=7, max_depth=7, learning_rate=0.01, gamma=0.1, colsample_bytree=0.75 \n"
     ]
    },
    {
     "name": "stderr",
     "output_type": "stream",
     "text": [
      "C:\\Users\\DELL PC\\Anaconda3\\lib\\site-packages\\sklearn\\preprocessing\\label.py:171: DeprecationWarning: The truth value of an empty array is ambiguous. Returning False, but in future this will result in an error. Use `array.size > 0` to check that an array is not empty.\n",
      "  if diff:\n"
     ]
    },
    {
     "name": "stdout",
     "output_type": "stream",
     "text": [
      "[CV]  subsample=0.8, reg_alpha=0.01, n_estimators=700, min_child_weight=7, max_depth=7, learning_rate=0.01, gamma=0.1, colsample_bytree=0.75 -   0.2s\n",
      "[CV] subsample=0.8, reg_alpha=0.01, n_estimators=700, min_child_weight=7, max_depth=7, learning_rate=0.01, gamma=0.1, colsample_bytree=0.75 \n"
     ]
    },
    {
     "name": "stderr",
     "output_type": "stream",
     "text": [
      "C:\\Users\\DELL PC\\Anaconda3\\lib\\site-packages\\sklearn\\preprocessing\\label.py:171: DeprecationWarning: The truth value of an empty array is ambiguous. Returning False, but in future this will result in an error. Use `array.size > 0` to check that an array is not empty.\n",
      "  if diff:\n"
     ]
    },
    {
     "name": "stdout",
     "output_type": "stream",
     "text": [
      "[CV]  subsample=0.8, reg_alpha=0.01, n_estimators=700, min_child_weight=7, max_depth=7, learning_rate=0.01, gamma=0.1, colsample_bytree=0.75 -   0.2s\n",
      "[CV] subsample=0.8, reg_alpha=0.01, n_estimators=700, min_child_weight=7, max_depth=7, learning_rate=0.01, gamma=0.1, colsample_bytree=0.75 \n"
     ]
    },
    {
     "name": "stderr",
     "output_type": "stream",
     "text": [
      "C:\\Users\\DELL PC\\Anaconda3\\lib\\site-packages\\sklearn\\preprocessing\\label.py:171: DeprecationWarning: The truth value of an empty array is ambiguous. Returning False, but in future this will result in an error. Use `array.size > 0` to check that an array is not empty.\n",
      "  if diff:\n"
     ]
    },
    {
     "name": "stdout",
     "output_type": "stream",
     "text": [
      "[CV]  subsample=0.8, reg_alpha=0.01, n_estimators=700, min_child_weight=7, max_depth=7, learning_rate=0.01, gamma=0.1, colsample_bytree=0.75 -   0.2s\n",
      "[CV] subsample=0.8, reg_alpha=0.01, n_estimators=700, min_child_weight=7, max_depth=7, learning_rate=0.01, gamma=0.1, colsample_bytree=0.75 \n"
     ]
    },
    {
     "name": "stderr",
     "output_type": "stream",
     "text": [
      "C:\\Users\\DELL PC\\Anaconda3\\lib\\site-packages\\sklearn\\preprocessing\\label.py:171: DeprecationWarning: The truth value of an empty array is ambiguous. Returning False, but in future this will result in an error. Use `array.size > 0` to check that an array is not empty.\n",
      "  if diff:\n"
     ]
    },
    {
     "name": "stdout",
     "output_type": "stream",
     "text": [
      "[CV]  subsample=0.8, reg_alpha=0.01, n_estimators=700, min_child_weight=7, max_depth=7, learning_rate=0.01, gamma=0.1, colsample_bytree=0.75 -   0.2s\n",
      "[CV] subsample=0.8, reg_alpha=0.01, n_estimators=700, min_child_weight=7, max_depth=7, learning_rate=0.01, gamma=0.1, colsample_bytree=0.75 \n"
     ]
    },
    {
     "name": "stderr",
     "output_type": "stream",
     "text": [
      "C:\\Users\\DELL PC\\Anaconda3\\lib\\site-packages\\sklearn\\preprocessing\\label.py:171: DeprecationWarning: The truth value of an empty array is ambiguous. Returning False, but in future this will result in an error. Use `array.size > 0` to check that an array is not empty.\n",
      "  if diff:\n",
      "C:\\Users\\DELL PC\\Anaconda3\\lib\\site-packages\\sklearn\\preprocessing\\label.py:171: DeprecationWarning: The truth value of an empty array is ambiguous. Returning False, but in future this will result in an error. Use `array.size > 0` to check that an array is not empty.\n",
      "  if diff:\n",
      "C:\\Users\\DELL PC\\Anaconda3\\lib\\site-packages\\sklearn\\preprocessing\\label.py:171: DeprecationWarning: The truth value of an empty array is ambiguous. Returning False, but in future this will result in an error. Use `array.size > 0` to check that an array is not empty.\n",
      "  if diff:\n"
     ]
    },
    {
     "name": "stdout",
     "output_type": "stream",
     "text": [
      "[CV]  subsample=0.8, reg_alpha=0.01, n_estimators=700, min_child_weight=7, max_depth=7, learning_rate=0.01, gamma=0.1, colsample_bytree=0.75 -   0.2s\n",
      "[CV] subsample=0.75, reg_alpha=100, n_estimators=700, min_child_weight=3, max_depth=4, learning_rate=0.25, gamma=0.3, colsample_bytree=0.75 \n",
      "[CV]  subsample=0.75, reg_alpha=100, n_estimators=700, min_child_weight=3, max_depth=4, learning_rate=0.25, gamma=0.3, colsample_bytree=0.75 -   0.0s\n",
      "[CV] subsample=0.75, reg_alpha=100, n_estimators=700, min_child_weight=3, max_depth=4, learning_rate=0.25, gamma=0.3, colsample_bytree=0.75 \n",
      "[CV]  subsample=0.75, reg_alpha=100, n_estimators=700, min_child_weight=3, max_depth=4, learning_rate=0.25, gamma=0.3, colsample_bytree=0.75 -   0.0s\n",
      "[CV] subsample=0.75, reg_alpha=100, n_estimators=700, min_child_weight=3, max_depth=4, learning_rate=0.25, gamma=0.3, colsample_bytree=0.75 \n"
     ]
    },
    {
     "name": "stderr",
     "output_type": "stream",
     "text": [
      "C:\\Users\\DELL PC\\Anaconda3\\lib\\site-packages\\sklearn\\preprocessing\\label.py:171: DeprecationWarning: The truth value of an empty array is ambiguous. Returning False, but in future this will result in an error. Use `array.size > 0` to check that an array is not empty.\n",
      "  if diff:\n",
      "C:\\Users\\DELL PC\\Anaconda3\\lib\\site-packages\\sklearn\\preprocessing\\label.py:171: DeprecationWarning: The truth value of an empty array is ambiguous. Returning False, but in future this will result in an error. Use `array.size > 0` to check that an array is not empty.\n",
      "  if diff:\n",
      "C:\\Users\\DELL PC\\Anaconda3\\lib\\site-packages\\sklearn\\preprocessing\\label.py:171: DeprecationWarning: The truth value of an empty array is ambiguous. Returning False, but in future this will result in an error. Use `array.size > 0` to check that an array is not empty.\n",
      "  if diff:\n"
     ]
    },
    {
     "name": "stdout",
     "output_type": "stream",
     "text": [
      "[CV]  subsample=0.75, reg_alpha=100, n_estimators=700, min_child_weight=3, max_depth=4, learning_rate=0.25, gamma=0.3, colsample_bytree=0.75 -   0.0s\n",
      "[CV] subsample=0.75, reg_alpha=100, n_estimators=700, min_child_weight=3, max_depth=4, learning_rate=0.25, gamma=0.3, colsample_bytree=0.75 \n",
      "[CV]  subsample=0.75, reg_alpha=100, n_estimators=700, min_child_weight=3, max_depth=4, learning_rate=0.25, gamma=0.3, colsample_bytree=0.75 -   0.0s\n",
      "[CV] subsample=0.75, reg_alpha=100, n_estimators=700, min_child_weight=3, max_depth=4, learning_rate=0.25, gamma=0.3, colsample_bytree=0.75 \n",
      "[CV]  subsample=0.75, reg_alpha=100, n_estimators=700, min_child_weight=3, max_depth=4, learning_rate=0.25, gamma=0.3, colsample_bytree=0.75 -   0.0s\n",
      "[CV] subsample=0.75, reg_alpha=0.001, n_estimators=200, min_child_weight=5, max_depth=10, learning_rate=0.001, gamma=0.3, colsample_bytree=0.85 "
     ]
    },
    {
     "name": "stderr",
     "output_type": "stream",
     "text": [
      "C:\\Users\\DELL PC\\Anaconda3\\lib\\site-packages\\sklearn\\preprocessing\\label.py:171: DeprecationWarning: The truth value of an empty array is ambiguous. Returning False, but in future this will result in an error. Use `array.size > 0` to check that an array is not empty.\n",
      "  if diff:\n",
      "C:\\Users\\DELL PC\\Anaconda3\\lib\\site-packages\\sklearn\\preprocessing\\label.py:171: DeprecationWarning: The truth value of an empty array is ambiguous. Returning False, but in future this will result in an error. Use `array.size > 0` to check that an array is not empty.\n",
      "  if diff:\n",
      "C:\\Users\\DELL PC\\Anaconda3\\lib\\site-packages\\sklearn\\preprocessing\\label.py:171: DeprecationWarning: The truth value of an empty array is ambiguous. Returning False, but in future this will result in an error. Use `array.size > 0` to check that an array is not empty.\n",
      "  if diff:\n"
     ]
    },
    {
     "name": "stdout",
     "output_type": "stream",
     "text": [
      "\n",
      "[CV]  subsample=0.75, reg_alpha=0.001, n_estimators=200, min_child_weight=5, max_depth=10, learning_rate=0.001, gamma=0.3, colsample_bytree=0.85 -   0.0s\n",
      "[CV] subsample=0.75, reg_alpha=0.001, n_estimators=200, min_child_weight=5, max_depth=10, learning_rate=0.001, gamma=0.3, colsample_bytree=0.85 \n",
      "[CV]  subsample=0.75, reg_alpha=0.001, n_estimators=200, min_child_weight=5, max_depth=10, learning_rate=0.001, gamma=0.3, colsample_bytree=0.85 -   0.0s\n",
      "[CV] subsample=0.75, reg_alpha=0.001, n_estimators=200, min_child_weight=5, max_depth=10, learning_rate=0.001, gamma=0.3, colsample_bytree=0.85 \n",
      "[CV]  subsample=0.75, reg_alpha=0.001, n_estimators=200, min_child_weight=5, max_depth=10, learning_rate=0.001, gamma=0.3, colsample_bytree=0.85 -   0.0s\n",
      "[CV] subsample=0.75, reg_alpha=0.001, n_estimators=200, min_child_weight=5, max_depth=10, learning_rate=0.001, gamma=0.3, colsample_bytree=0.85 \n"
     ]
    },
    {
     "name": "stderr",
     "output_type": "stream",
     "text": [
      "C:\\Users\\DELL PC\\Anaconda3\\lib\\site-packages\\sklearn\\preprocessing\\label.py:171: DeprecationWarning: The truth value of an empty array is ambiguous. Returning False, but in future this will result in an error. Use `array.size > 0` to check that an array is not empty.\n",
      "  if diff:\n",
      "C:\\Users\\DELL PC\\Anaconda3\\lib\\site-packages\\sklearn\\preprocessing\\label.py:171: DeprecationWarning: The truth value of an empty array is ambiguous. Returning False, but in future this will result in an error. Use `array.size > 0` to check that an array is not empty.\n",
      "  if diff:\n"
     ]
    },
    {
     "name": "stdout",
     "output_type": "stream",
     "text": [
      "[CV]  subsample=0.75, reg_alpha=0.001, n_estimators=200, min_child_weight=5, max_depth=10, learning_rate=0.001, gamma=0.3, colsample_bytree=0.85 -   0.0s\n",
      "[CV] subsample=0.75, reg_alpha=0.001, n_estimators=200, min_child_weight=5, max_depth=10, learning_rate=0.001, gamma=0.3, colsample_bytree=0.85 \n",
      "[CV]  subsample=0.75, reg_alpha=0.001, n_estimators=200, min_child_weight=5, max_depth=10, learning_rate=0.001, gamma=0.3, colsample_bytree=0.85 -   0.0s\n",
      "[CV] subsample=0.75, reg_alpha=0.005, n_estimators=500, min_child_weight=3, max_depth=10, learning_rate=0.001, gamma=0.1, colsample_bytree=0.85 \n"
     ]
    },
    {
     "name": "stderr",
     "output_type": "stream",
     "text": [
      "C:\\Users\\DELL PC\\Anaconda3\\lib\\site-packages\\sklearn\\preprocessing\\label.py:171: DeprecationWarning: The truth value of an empty array is ambiguous. Returning False, but in future this will result in an error. Use `array.size > 0` to check that an array is not empty.\n",
      "  if diff:\n"
     ]
    },
    {
     "name": "stdout",
     "output_type": "stream",
     "text": [
      "[CV]  subsample=0.75, reg_alpha=0.005, n_estimators=500, min_child_weight=3, max_depth=10, learning_rate=0.001, gamma=0.1, colsample_bytree=0.85 -   0.1s\n",
      "[CV] subsample=0.75, reg_alpha=0.005, n_estimators=500, min_child_weight=3, max_depth=10, learning_rate=0.001, gamma=0.1, colsample_bytree=0.85 \n"
     ]
    },
    {
     "name": "stderr",
     "output_type": "stream",
     "text": [
      "C:\\Users\\DELL PC\\Anaconda3\\lib\\site-packages\\sklearn\\preprocessing\\label.py:171: DeprecationWarning: The truth value of an empty array is ambiguous. Returning False, but in future this will result in an error. Use `array.size > 0` to check that an array is not empty.\n",
      "  if diff:\n"
     ]
    },
    {
     "name": "stdout",
     "output_type": "stream",
     "text": [
      "[CV]  subsample=0.75, reg_alpha=0.005, n_estimators=500, min_child_weight=3, max_depth=10, learning_rate=0.001, gamma=0.1, colsample_bytree=0.85 -   0.2s\n",
      "[CV] subsample=0.75, reg_alpha=0.005, n_estimators=500, min_child_weight=3, max_depth=10, learning_rate=0.001, gamma=0.1, colsample_bytree=0.85 \n"
     ]
    },
    {
     "name": "stderr",
     "output_type": "stream",
     "text": [
      "C:\\Users\\DELL PC\\Anaconda3\\lib\\site-packages\\sklearn\\preprocessing\\label.py:171: DeprecationWarning: The truth value of an empty array is ambiguous. Returning False, but in future this will result in an error. Use `array.size > 0` to check that an array is not empty.\n",
      "  if diff:\n"
     ]
    },
    {
     "name": "stdout",
     "output_type": "stream",
     "text": [
      "[CV]  subsample=0.75, reg_alpha=0.005, n_estimators=500, min_child_weight=3, max_depth=10, learning_rate=0.001, gamma=0.1, colsample_bytree=0.85 -   0.2s\n",
      "[CV] subsample=0.75, reg_alpha=0.005, n_estimators=500, min_child_weight=3, max_depth=10, learning_rate=0.001, gamma=0.1, colsample_bytree=0.85 \n"
     ]
    },
    {
     "name": "stderr",
     "output_type": "stream",
     "text": [
      "C:\\Users\\DELL PC\\Anaconda3\\lib\\site-packages\\sklearn\\preprocessing\\label.py:171: DeprecationWarning: The truth value of an empty array is ambiguous. Returning False, but in future this will result in an error. Use `array.size > 0` to check that an array is not empty.\n",
      "  if diff:\n"
     ]
    },
    {
     "name": "stdout",
     "output_type": "stream",
     "text": [
      "[CV]  subsample=0.75, reg_alpha=0.005, n_estimators=500, min_child_weight=3, max_depth=10, learning_rate=0.001, gamma=0.1, colsample_bytree=0.85 -   0.1s\n",
      "[CV] subsample=0.75, reg_alpha=0.005, n_estimators=500, min_child_weight=3, max_depth=10, learning_rate=0.001, gamma=0.1, colsample_bytree=0.85 \n"
     ]
    },
    {
     "name": "stderr",
     "output_type": "stream",
     "text": [
      "C:\\Users\\DELL PC\\Anaconda3\\lib\\site-packages\\sklearn\\preprocessing\\label.py:171: DeprecationWarning: The truth value of an empty array is ambiguous. Returning False, but in future this will result in an error. Use `array.size > 0` to check that an array is not empty.\n",
      "  if diff:\n",
      "C:\\Users\\DELL PC\\Anaconda3\\lib\\site-packages\\sklearn\\preprocessing\\label.py:171: DeprecationWarning: The truth value of an empty array is ambiguous. Returning False, but in future this will result in an error. Use `array.size > 0` to check that an array is not empty.\n",
      "  if diff:\n",
      "C:\\Users\\DELL PC\\Anaconda3\\lib\\site-packages\\sklearn\\preprocessing\\label.py:171: DeprecationWarning: The truth value of an empty array is ambiguous. Returning False, but in future this will result in an error. Use `array.size > 0` to check that an array is not empty.\n",
      "  if diff:\n",
      "C:\\Users\\DELL PC\\Anaconda3\\lib\\site-packages\\sklearn\\preprocessing\\label.py:171: DeprecationWarning: The truth value of an empty array is ambiguous. Returning False, but in future this will result in an error. Use `array.size > 0` to check that an array is not empty.\n",
      "  if diff:\n",
      "C:\\Users\\DELL PC\\Anaconda3\\lib\\site-packages\\sklearn\\preprocessing\\label.py:171: DeprecationWarning: The truth value of an empty array is ambiguous. Returning False, but in future this will result in an error. Use `array.size > 0` to check that an array is not empty.\n",
      "  if diff:\n",
      "C:\\Users\\DELL PC\\Anaconda3\\lib\\site-packages\\sklearn\\preprocessing\\label.py:171: DeprecationWarning: The truth value of an empty array is ambiguous. Returning False, but in future this will result in an error. Use `array.size > 0` to check that an array is not empty.\n",
      "  if diff:\n"
     ]
    },
    {
     "name": "stdout",
     "output_type": "stream",
     "text": [
      "[CV]  subsample=0.75, reg_alpha=0.005, n_estimators=500, min_child_weight=3, max_depth=10, learning_rate=0.001, gamma=0.1, colsample_bytree=0.85 -   0.2s\n",
      "[CV] subsample=0.75, reg_alpha=100, n_estimators=200, min_child_weight=3, max_depth=8, learning_rate=0.001, gamma=0.3, colsample_bytree=0.85 \n",
      "[CV]  subsample=0.75, reg_alpha=100, n_estimators=200, min_child_weight=3, max_depth=8, learning_rate=0.001, gamma=0.3, colsample_bytree=0.85 -   0.0s\n",
      "[CV] subsample=0.75, reg_alpha=100, n_estimators=200, min_child_weight=3, max_depth=8, learning_rate=0.001, gamma=0.3, colsample_bytree=0.85 \n",
      "[CV]  subsample=0.75, reg_alpha=100, n_estimators=200, min_child_weight=3, max_depth=8, learning_rate=0.001, gamma=0.3, colsample_bytree=0.85 -   0.0s\n",
      "[CV] subsample=0.75, reg_alpha=100, n_estimators=200, min_child_weight=3, max_depth=8, learning_rate=0.001, gamma=0.3, colsample_bytree=0.85 \n",
      "[CV]  subsample=0.75, reg_alpha=100, n_estimators=200, min_child_weight=3, max_depth=8, learning_rate=0.001, gamma=0.3, colsample_bytree=0.85 -   0.0s\n",
      "[CV] subsample=0.75, reg_alpha=100, n_estimators=200, min_child_weight=3, max_depth=8, learning_rate=0.001, gamma=0.3, colsample_bytree=0.85 \n",
      "[CV]  subsample=0.75, reg_alpha=100, n_estimators=200, min_child_weight=3, max_depth=8, learning_rate=0.001, gamma=0.3, colsample_bytree=0.85 -   0.0s\n",
      "[CV] subsample=0.75, reg_alpha=100, n_estimators=200, min_child_weight=3, max_depth=8, learning_rate=0.001, gamma=0.3, colsample_bytree=0.85 \n",
      "[CV]  subsample=0.75, reg_alpha=100, n_estimators=200, min_child_weight=3, max_depth=8, learning_rate=0.001, gamma=0.3, colsample_bytree=0.85 -   0.0s\n",
      "[CV] subsample=0.85, reg_alpha=0.05, n_estimators=1000, min_child_weight=7, max_depth=9, learning_rate=0.001, gamma=0.4, colsample_bytree=0.8 \n"
     ]
    },
    {
     "name": "stderr",
     "output_type": "stream",
     "text": [
      "C:\\Users\\DELL PC\\Anaconda3\\lib\\site-packages\\sklearn\\preprocessing\\label.py:171: DeprecationWarning: The truth value of an empty array is ambiguous. Returning False, but in future this will result in an error. Use `array.size > 0` to check that an array is not empty.\n",
      "  if diff:\n"
     ]
    },
    {
     "name": "stdout",
     "output_type": "stream",
     "text": [
      "[CV]  subsample=0.85, reg_alpha=0.05, n_estimators=1000, min_child_weight=7, max_depth=9, learning_rate=0.001, gamma=0.4, colsample_bytree=0.8 -   0.3s\n",
      "[CV] subsample=0.85, reg_alpha=0.05, n_estimators=1000, min_child_weight=7, max_depth=9, learning_rate=0.001, gamma=0.4, colsample_bytree=0.8 \n"
     ]
    },
    {
     "name": "stderr",
     "output_type": "stream",
     "text": [
      "C:\\Users\\DELL PC\\Anaconda3\\lib\\site-packages\\sklearn\\preprocessing\\label.py:171: DeprecationWarning: The truth value of an empty array is ambiguous. Returning False, but in future this will result in an error. Use `array.size > 0` to check that an array is not empty.\n",
      "  if diff:\n"
     ]
    },
    {
     "name": "stdout",
     "output_type": "stream",
     "text": [
      "[CV]  subsample=0.85, reg_alpha=0.05, n_estimators=1000, min_child_weight=7, max_depth=9, learning_rate=0.001, gamma=0.4, colsample_bytree=0.8 -   0.3s\n",
      "[CV] subsample=0.85, reg_alpha=0.05, n_estimators=1000, min_child_weight=7, max_depth=9, learning_rate=0.001, gamma=0.4, colsample_bytree=0.8 \n"
     ]
    },
    {
     "name": "stderr",
     "output_type": "stream",
     "text": [
      "C:\\Users\\DELL PC\\Anaconda3\\lib\\site-packages\\sklearn\\preprocessing\\label.py:171: DeprecationWarning: The truth value of an empty array is ambiguous. Returning False, but in future this will result in an error. Use `array.size > 0` to check that an array is not empty.\n",
      "  if diff:\n"
     ]
    },
    {
     "name": "stdout",
     "output_type": "stream",
     "text": [
      "[CV]  subsample=0.85, reg_alpha=0.05, n_estimators=1000, min_child_weight=7, max_depth=9, learning_rate=0.001, gamma=0.4, colsample_bytree=0.8 -   0.3s\n",
      "[CV] subsample=0.85, reg_alpha=0.05, n_estimators=1000, min_child_weight=7, max_depth=9, learning_rate=0.001, gamma=0.4, colsample_bytree=0.8 \n"
     ]
    },
    {
     "name": "stderr",
     "output_type": "stream",
     "text": [
      "C:\\Users\\DELL PC\\Anaconda3\\lib\\site-packages\\sklearn\\preprocessing\\label.py:171: DeprecationWarning: The truth value of an empty array is ambiguous. Returning False, but in future this will result in an error. Use `array.size > 0` to check that an array is not empty.\n",
      "  if diff:\n"
     ]
    },
    {
     "name": "stdout",
     "output_type": "stream",
     "text": [
      "[CV]  subsample=0.85, reg_alpha=0.05, n_estimators=1000, min_child_weight=7, max_depth=9, learning_rate=0.001, gamma=0.4, colsample_bytree=0.8 -   0.4s\n",
      "[CV] subsample=0.85, reg_alpha=0.05, n_estimators=1000, min_child_weight=7, max_depth=9, learning_rate=0.001, gamma=0.4, colsample_bytree=0.8 \n"
     ]
    },
    {
     "name": "stderr",
     "output_type": "stream",
     "text": [
      "C:\\Users\\DELL PC\\Anaconda3\\lib\\site-packages\\sklearn\\preprocessing\\label.py:171: DeprecationWarning: The truth value of an empty array is ambiguous. Returning False, but in future this will result in an error. Use `array.size > 0` to check that an array is not empty.\n",
      "  if diff:\n",
      "C:\\Users\\DELL PC\\Anaconda3\\lib\\site-packages\\sklearn\\preprocessing\\label.py:171: DeprecationWarning: The truth value of an empty array is ambiguous. Returning False, but in future this will result in an error. Use `array.size > 0` to check that an array is not empty.\n",
      "  if diff:\n"
     ]
    },
    {
     "name": "stdout",
     "output_type": "stream",
     "text": [
      "[CV]  subsample=0.85, reg_alpha=0.05, n_estimators=1000, min_child_weight=7, max_depth=9, learning_rate=0.001, gamma=0.4, colsample_bytree=0.8 -   0.3s\n",
      "[CV] subsample=0.8, reg_alpha=0.1, n_estimators=500, min_child_weight=7, max_depth=4, learning_rate=0.15, gamma=0.0, colsample_bytree=0.85 \n",
      "[CV]  subsample=0.8, reg_alpha=0.1, n_estimators=500, min_child_weight=7, max_depth=4, learning_rate=0.15, gamma=0.0, colsample_bytree=0.85 -   0.1s\n",
      "[CV] subsample=0.8, reg_alpha=0.1, n_estimators=500, min_child_weight=7, max_depth=4, learning_rate=0.15, gamma=0.0, colsample_bytree=0.85 \n"
     ]
    },
    {
     "name": "stderr",
     "output_type": "stream",
     "text": [
      "C:\\Users\\DELL PC\\Anaconda3\\lib\\site-packages\\sklearn\\preprocessing\\label.py:171: DeprecationWarning: The truth value of an empty array is ambiguous. Returning False, but in future this will result in an error. Use `array.size > 0` to check that an array is not empty.\n",
      "  if diff:\n",
      "C:\\Users\\DELL PC\\Anaconda3\\lib\\site-packages\\sklearn\\preprocessing\\label.py:171: DeprecationWarning: The truth value of an empty array is ambiguous. Returning False, but in future this will result in an error. Use `array.size > 0` to check that an array is not empty.\n",
      "  if diff:\n"
     ]
    },
    {
     "name": "stdout",
     "output_type": "stream",
     "text": [
      "[CV]  subsample=0.8, reg_alpha=0.1, n_estimators=500, min_child_weight=7, max_depth=4, learning_rate=0.15, gamma=0.0, colsample_bytree=0.85 -   0.1s\n",
      "[CV] subsample=0.8, reg_alpha=0.1, n_estimators=500, min_child_weight=7, max_depth=4, learning_rate=0.15, gamma=0.0, colsample_bytree=0.85 \n",
      "[CV]  subsample=0.8, reg_alpha=0.1, n_estimators=500, min_child_weight=7, max_depth=4, learning_rate=0.15, gamma=0.0, colsample_bytree=0.85 -   0.0s\n",
      "[CV] subsample=0.8, reg_alpha=0.1, n_estimators=500, min_child_weight=7, max_depth=4, learning_rate=0.15, gamma=0.0, colsample_bytree=0.85 \n"
     ]
    },
    {
     "name": "stderr",
     "output_type": "stream",
     "text": [
      "C:\\Users\\DELL PC\\Anaconda3\\lib\\site-packages\\sklearn\\preprocessing\\label.py:171: DeprecationWarning: The truth value of an empty array is ambiguous. Returning False, but in future this will result in an error. Use `array.size > 0` to check that an array is not empty.\n",
      "  if diff:\n",
      "C:\\Users\\DELL PC\\Anaconda3\\lib\\site-packages\\sklearn\\preprocessing\\label.py:171: DeprecationWarning: The truth value of an empty array is ambiguous. Returning False, but in future this will result in an error. Use `array.size > 0` to check that an array is not empty.\n",
      "  if diff:\n"
     ]
    },
    {
     "name": "stdout",
     "output_type": "stream",
     "text": [
      "[CV]  subsample=0.8, reg_alpha=0.1, n_estimators=500, min_child_weight=7, max_depth=4, learning_rate=0.15, gamma=0.0, colsample_bytree=0.85 -   0.1s\n",
      "[CV] subsample=0.8, reg_alpha=0.1, n_estimators=500, min_child_weight=7, max_depth=4, learning_rate=0.15, gamma=0.0, colsample_bytree=0.85 \n",
      "[CV]  subsample=0.8, reg_alpha=0.1, n_estimators=500, min_child_weight=7, max_depth=4, learning_rate=0.15, gamma=0.0, colsample_bytree=0.85 -   0.1s\n",
      "[CV] subsample=0.75, reg_alpha=0, n_estimators=500, min_child_weight=7, max_depth=3, learning_rate=0.01, gamma=0.4, colsample_bytree=0.85 \n"
     ]
    },
    {
     "name": "stderr",
     "output_type": "stream",
     "text": [
      "C:\\Users\\DELL PC\\Anaconda3\\lib\\site-packages\\sklearn\\preprocessing\\label.py:171: DeprecationWarning: The truth value of an empty array is ambiguous. Returning False, but in future this will result in an error. Use `array.size > 0` to check that an array is not empty.\n",
      "  if diff:\n",
      "C:\\Users\\DELL PC\\Anaconda3\\lib\\site-packages\\sklearn\\preprocessing\\label.py:171: DeprecationWarning: The truth value of an empty array is ambiguous. Returning False, but in future this will result in an error. Use `array.size > 0` to check that an array is not empty.\n",
      "  if diff:\n"
     ]
    },
    {
     "name": "stdout",
     "output_type": "stream",
     "text": [
      "[CV]  subsample=0.75, reg_alpha=0, n_estimators=500, min_child_weight=7, max_depth=3, learning_rate=0.01, gamma=0.4, colsample_bytree=0.85 -   0.0s\n",
      "[CV] subsample=0.75, reg_alpha=0, n_estimators=500, min_child_weight=7, max_depth=3, learning_rate=0.01, gamma=0.4, colsample_bytree=0.85 \n",
      "[CV]  subsample=0.75, reg_alpha=0, n_estimators=500, min_child_weight=7, max_depth=3, learning_rate=0.01, gamma=0.4, colsample_bytree=0.85 -   0.0s\n",
      "[CV] subsample=0.75, reg_alpha=0, n_estimators=500, min_child_weight=7, max_depth=3, learning_rate=0.01, gamma=0.4, colsample_bytree=0.85 \n"
     ]
    },
    {
     "name": "stderr",
     "output_type": "stream",
     "text": [
      "C:\\Users\\DELL PC\\Anaconda3\\lib\\site-packages\\sklearn\\preprocessing\\label.py:171: DeprecationWarning: The truth value of an empty array is ambiguous. Returning False, but in future this will result in an error. Use `array.size > 0` to check that an array is not empty.\n",
      "  if diff:\n",
      "C:\\Users\\DELL PC\\Anaconda3\\lib\\site-packages\\sklearn\\preprocessing\\label.py:171: DeprecationWarning: The truth value of an empty array is ambiguous. Returning False, but in future this will result in an error. Use `array.size > 0` to check that an array is not empty.\n",
      "  if diff:\n"
     ]
    },
    {
     "name": "stdout",
     "output_type": "stream",
     "text": [
      "[CV]  subsample=0.75, reg_alpha=0, n_estimators=500, min_child_weight=7, max_depth=3, learning_rate=0.01, gamma=0.4, colsample_bytree=0.85 -   0.0s\n",
      "[CV] subsample=0.75, reg_alpha=0, n_estimators=500, min_child_weight=7, max_depth=3, learning_rate=0.01, gamma=0.4, colsample_bytree=0.85 \n",
      "[CV]  subsample=0.75, reg_alpha=0, n_estimators=500, min_child_weight=7, max_depth=3, learning_rate=0.01, gamma=0.4, colsample_bytree=0.85 -   0.0s\n",
      "[CV] subsample=0.75, reg_alpha=0, n_estimators=500, min_child_weight=7, max_depth=3, learning_rate=0.01, gamma=0.4, colsample_bytree=0.85 \n"
     ]
    },
    {
     "name": "stderr",
     "output_type": "stream",
     "text": [
      "C:\\Users\\DELL PC\\Anaconda3\\lib\\site-packages\\sklearn\\preprocessing\\label.py:171: DeprecationWarning: The truth value of an empty array is ambiguous. Returning False, but in future this will result in an error. Use `array.size > 0` to check that an array is not empty.\n",
      "  if diff:\n",
      "C:\\Users\\DELL PC\\Anaconda3\\lib\\site-packages\\sklearn\\preprocessing\\label.py:171: DeprecationWarning: The truth value of an empty array is ambiguous. Returning False, but in future this will result in an error. Use `array.size > 0` to check that an array is not empty.\n",
      "  if diff:\n",
      "C:\\Users\\DELL PC\\Anaconda3\\lib\\site-packages\\sklearn\\preprocessing\\label.py:171: DeprecationWarning: The truth value of an empty array is ambiguous. Returning False, but in future this will result in an error. Use `array.size > 0` to check that an array is not empty.\n",
      "  if diff:\n"
     ]
    },
    {
     "name": "stdout",
     "output_type": "stream",
     "text": [
      "[CV]  subsample=0.75, reg_alpha=0, n_estimators=500, min_child_weight=7, max_depth=3, learning_rate=0.01, gamma=0.4, colsample_bytree=0.85 -   0.0s\n",
      "[CV] subsample=0.75, reg_alpha=100, n_estimators=700, min_child_weight=9, max_depth=7, learning_rate=0.001, gamma=0.0, colsample_bytree=0.75 \n",
      "[CV]  subsample=0.75, reg_alpha=100, n_estimators=700, min_child_weight=9, max_depth=7, learning_rate=0.001, gamma=0.0, colsample_bytree=0.75 -   0.0s\n",
      "[CV] subsample=0.75, reg_alpha=100, n_estimators=700, min_child_weight=9, max_depth=7, learning_rate=0.001, gamma=0.0, colsample_bytree=0.75 \n",
      "[CV]  subsample=0.75, reg_alpha=100, n_estimators=700, min_child_weight=9, max_depth=7, learning_rate=0.001, gamma=0.0, colsample_bytree=0.75 -   0.0s\n",
      "[CV] subsample=0.75, reg_alpha=100, n_estimators=700, min_child_weight=9, max_depth=7, learning_rate=0.001, gamma=0.0, colsample_bytree=0.75 \n"
     ]
    },
    {
     "name": "stderr",
     "output_type": "stream",
     "text": [
      "C:\\Users\\DELL PC\\Anaconda3\\lib\\site-packages\\sklearn\\preprocessing\\label.py:171: DeprecationWarning: The truth value of an empty array is ambiguous. Returning False, but in future this will result in an error. Use `array.size > 0` to check that an array is not empty.\n",
      "  if diff:\n",
      "C:\\Users\\DELL PC\\Anaconda3\\lib\\site-packages\\sklearn\\preprocessing\\label.py:171: DeprecationWarning: The truth value of an empty array is ambiguous. Returning False, but in future this will result in an error. Use `array.size > 0` to check that an array is not empty.\n",
      "  if diff:\n",
      "C:\\Users\\DELL PC\\Anaconda3\\lib\\site-packages\\sklearn\\preprocessing\\label.py:171: DeprecationWarning: The truth value of an empty array is ambiguous. Returning False, but in future this will result in an error. Use `array.size > 0` to check that an array is not empty.\n",
      "  if diff:\n"
     ]
    },
    {
     "name": "stdout",
     "output_type": "stream",
     "text": [
      "[CV]  subsample=0.75, reg_alpha=100, n_estimators=700, min_child_weight=9, max_depth=7, learning_rate=0.001, gamma=0.0, colsample_bytree=0.75 -   0.0s\n",
      "[CV] subsample=0.75, reg_alpha=100, n_estimators=700, min_child_weight=9, max_depth=7, learning_rate=0.001, gamma=0.0, colsample_bytree=0.75 \n",
      "[CV]  subsample=0.75, reg_alpha=100, n_estimators=700, min_child_weight=9, max_depth=7, learning_rate=0.001, gamma=0.0, colsample_bytree=0.75 -   0.0s\n",
      "[CV] subsample=0.75, reg_alpha=100, n_estimators=700, min_child_weight=9, max_depth=7, learning_rate=0.001, gamma=0.0, colsample_bytree=0.75 \n",
      "[CV]  subsample=0.75, reg_alpha=100, n_estimators=700, min_child_weight=9, max_depth=7, learning_rate=0.001, gamma=0.0, colsample_bytree=0.75 -   0.0s\n",
      "[CV] subsample=0.8, reg_alpha=0.001, n_estimators=1000, min_child_weight=9, max_depth=3, learning_rate=0.25, gamma=0.3, colsample_bytree=0.85 \n"
     ]
    },
    {
     "name": "stderr",
     "output_type": "stream",
     "text": [
      "C:\\Users\\DELL PC\\Anaconda3\\lib\\site-packages\\sklearn\\preprocessing\\label.py:171: DeprecationWarning: The truth value of an empty array is ambiguous. Returning False, but in future this will result in an error. Use `array.size > 0` to check that an array is not empty.\n",
      "  if diff:\n"
     ]
    },
    {
     "name": "stdout",
     "output_type": "stream",
     "text": [
      "[CV]  subsample=0.8, reg_alpha=0.001, n_estimators=1000, min_child_weight=9, max_depth=3, learning_rate=0.25, gamma=0.3, colsample_bytree=0.85 -   0.1s\n",
      "[CV] subsample=0.8, reg_alpha=0.001, n_estimators=1000, min_child_weight=9, max_depth=3, learning_rate=0.25, gamma=0.3, colsample_bytree=0.85 \n"
     ]
    },
    {
     "name": "stderr",
     "output_type": "stream",
     "text": [
      "C:\\Users\\DELL PC\\Anaconda3\\lib\\site-packages\\sklearn\\preprocessing\\label.py:171: DeprecationWarning: The truth value of an empty array is ambiguous. Returning False, but in future this will result in an error. Use `array.size > 0` to check that an array is not empty.\n",
      "  if diff:\n"
     ]
    },
    {
     "name": "stdout",
     "output_type": "stream",
     "text": [
      "[CV]  subsample=0.8, reg_alpha=0.001, n_estimators=1000, min_child_weight=9, max_depth=3, learning_rate=0.25, gamma=0.3, colsample_bytree=0.85 -   0.1s\n",
      "[CV] subsample=0.8, reg_alpha=0.001, n_estimators=1000, min_child_weight=9, max_depth=3, learning_rate=0.25, gamma=0.3, colsample_bytree=0.85 \n"
     ]
    },
    {
     "name": "stderr",
     "output_type": "stream",
     "text": [
      "C:\\Users\\DELL PC\\Anaconda3\\lib\\site-packages\\sklearn\\preprocessing\\label.py:171: DeprecationWarning: The truth value of an empty array is ambiguous. Returning False, but in future this will result in an error. Use `array.size > 0` to check that an array is not empty.\n",
      "  if diff:\n"
     ]
    },
    {
     "name": "stdout",
     "output_type": "stream",
     "text": [
      "[CV]  subsample=0.8, reg_alpha=0.001, n_estimators=1000, min_child_weight=9, max_depth=3, learning_rate=0.25, gamma=0.3, colsample_bytree=0.85 -   0.1s\n",
      "[CV] subsample=0.8, reg_alpha=0.001, n_estimators=1000, min_child_weight=9, max_depth=3, learning_rate=0.25, gamma=0.3, colsample_bytree=0.85 \n"
     ]
    },
    {
     "name": "stderr",
     "output_type": "stream",
     "text": [
      "C:\\Users\\DELL PC\\Anaconda3\\lib\\site-packages\\sklearn\\preprocessing\\label.py:171: DeprecationWarning: The truth value of an empty array is ambiguous. Returning False, but in future this will result in an error. Use `array.size > 0` to check that an array is not empty.\n",
      "  if diff:\n"
     ]
    },
    {
     "name": "stdout",
     "output_type": "stream",
     "text": [
      "[CV]  subsample=0.8, reg_alpha=0.001, n_estimators=1000, min_child_weight=9, max_depth=3, learning_rate=0.25, gamma=0.3, colsample_bytree=0.85 -   0.1s\n",
      "[CV] subsample=0.8, reg_alpha=0.001, n_estimators=1000, min_child_weight=9, max_depth=3, learning_rate=0.25, gamma=0.3, colsample_bytree=0.85 \n"
     ]
    },
    {
     "name": "stderr",
     "output_type": "stream",
     "text": [
      "C:\\Users\\DELL PC\\Anaconda3\\lib\\site-packages\\sklearn\\preprocessing\\label.py:171: DeprecationWarning: The truth value of an empty array is ambiguous. Returning False, but in future this will result in an error. Use `array.size > 0` to check that an array is not empty.\n",
      "  if diff:\n",
      "C:\\Users\\DELL PC\\Anaconda3\\lib\\site-packages\\sklearn\\preprocessing\\label.py:171: DeprecationWarning: The truth value of an empty array is ambiguous. Returning False, but in future this will result in an error. Use `array.size > 0` to check that an array is not empty.\n",
      "  if diff:\n",
      "C:\\Users\\DELL PC\\Anaconda3\\lib\\site-packages\\sklearn\\preprocessing\\label.py:171: DeprecationWarning: The truth value of an empty array is ambiguous. Returning False, but in future this will result in an error. Use `array.size > 0` to check that an array is not empty.\n",
      "  if diff:\n",
      "C:\\Users\\DELL PC\\Anaconda3\\lib\\site-packages\\sklearn\\preprocessing\\label.py:171: DeprecationWarning: The truth value of an empty array is ambiguous. Returning False, but in future this will result in an error. Use `array.size > 0` to check that an array is not empty.\n",
      "  if diff:\n",
      "C:\\Users\\DELL PC\\Anaconda3\\lib\\site-packages\\sklearn\\preprocessing\\label.py:171: DeprecationWarning: The truth value of an empty array is ambiguous. Returning False, but in future this will result in an error. Use `array.size > 0` to check that an array is not empty.\n",
      "  if diff:\n",
      "C:\\Users\\DELL PC\\Anaconda3\\lib\\site-packages\\sklearn\\preprocessing\\label.py:171: DeprecationWarning: The truth value of an empty array is ambiguous. Returning False, but in future this will result in an error. Use `array.size > 0` to check that an array is not empty.\n",
      "  if diff:\n"
     ]
    },
    {
     "name": "stdout",
     "output_type": "stream",
     "text": [
      "[CV]  subsample=0.8, reg_alpha=0.001, n_estimators=1000, min_child_weight=9, max_depth=3, learning_rate=0.25, gamma=0.3, colsample_bytree=0.85 -   0.2s\n",
      "[CV] subsample=0.85, reg_alpha=0, n_estimators=100, min_child_weight=7, max_depth=8, learning_rate=0.1, gamma=0.3, colsample_bytree=0.85 \n",
      "[CV]  subsample=0.85, reg_alpha=0, n_estimators=100, min_child_weight=7, max_depth=8, learning_rate=0.1, gamma=0.3, colsample_bytree=0.85 -   0.0s\n",
      "[CV] subsample=0.85, reg_alpha=0, n_estimators=100, min_child_weight=7, max_depth=8, learning_rate=0.1, gamma=0.3, colsample_bytree=0.85 \n",
      "[CV]  subsample=0.85, reg_alpha=0, n_estimators=100, min_child_weight=7, max_depth=8, learning_rate=0.1, gamma=0.3, colsample_bytree=0.85 -   0.0s\n",
      "[CV] subsample=0.85, reg_alpha=0, n_estimators=100, min_child_weight=7, max_depth=8, learning_rate=0.1, gamma=0.3, colsample_bytree=0.85 \n",
      "[CV]  subsample=0.85, reg_alpha=0, n_estimators=100, min_child_weight=7, max_depth=8, learning_rate=0.1, gamma=0.3, colsample_bytree=0.85 -   0.0s\n",
      "[CV] subsample=0.85, reg_alpha=0, n_estimators=100, min_child_weight=7, max_depth=8, learning_rate=0.1, gamma=0.3, colsample_bytree=0.85 \n",
      "[CV]  subsample=0.85, reg_alpha=0, n_estimators=100, min_child_weight=7, max_depth=8, learning_rate=0.1, gamma=0.3, colsample_bytree=0.85 -   0.0s\n",
      "[CV] subsample=0.85, reg_alpha=0, n_estimators=100, min_child_weight=7, max_depth=8, learning_rate=0.1, gamma=0.3, colsample_bytree=0.85 \n",
      "[CV]  subsample=0.85, reg_alpha=0, n_estimators=100, min_child_weight=7, max_depth=8, learning_rate=0.1, gamma=0.3, colsample_bytree=0.85 -   0.0s\n",
      "[CV] subsample=0.8, reg_alpha=0.001, n_estimators=500, min_child_weight=3, max_depth=4, learning_rate=0.15, gamma=0.0, colsample_bytree=0.75 \n"
     ]
    },
    {
     "name": "stderr",
     "output_type": "stream",
     "text": [
      "C:\\Users\\DELL PC\\Anaconda3\\lib\\site-packages\\sklearn\\preprocessing\\label.py:171: DeprecationWarning: The truth value of an empty array is ambiguous. Returning False, but in future this will result in an error. Use `array.size > 0` to check that an array is not empty.\n",
      "  if diff:\n",
      "C:\\Users\\DELL PC\\Anaconda3\\lib\\site-packages\\sklearn\\preprocessing\\label.py:171: DeprecationWarning: The truth value of an empty array is ambiguous. Returning False, but in future this will result in an error. Use `array.size > 0` to check that an array is not empty.\n",
      "  if diff:\n"
     ]
    },
    {
     "name": "stdout",
     "output_type": "stream",
     "text": [
      "[CV]  subsample=0.8, reg_alpha=0.001, n_estimators=500, min_child_weight=3, max_depth=4, learning_rate=0.15, gamma=0.0, colsample_bytree=0.75 -   0.2s\n",
      "[CV] subsample=0.8, reg_alpha=0.001, n_estimators=500, min_child_weight=3, max_depth=4, learning_rate=0.15, gamma=0.0, colsample_bytree=0.75 \n",
      "[CV]  subsample=0.8, reg_alpha=0.001, n_estimators=500, min_child_weight=3, max_depth=4, learning_rate=0.15, gamma=0.0, colsample_bytree=0.75 -   0.1s\n",
      "[CV] subsample=0.8, reg_alpha=0.001, n_estimators=500, min_child_weight=3, max_depth=4, learning_rate=0.15, gamma=0.0, colsample_bytree=0.75 \n"
     ]
    },
    {
     "name": "stderr",
     "output_type": "stream",
     "text": [
      "C:\\Users\\DELL PC\\Anaconda3\\lib\\site-packages\\sklearn\\preprocessing\\label.py:171: DeprecationWarning: The truth value of an empty array is ambiguous. Returning False, but in future this will result in an error. Use `array.size > 0` to check that an array is not empty.\n",
      "  if diff:\n",
      "C:\\Users\\DELL PC\\Anaconda3\\lib\\site-packages\\sklearn\\preprocessing\\label.py:171: DeprecationWarning: The truth value of an empty array is ambiguous. Returning False, but in future this will result in an error. Use `array.size > 0` to check that an array is not empty.\n",
      "  if diff:\n"
     ]
    },
    {
     "name": "stdout",
     "output_type": "stream",
     "text": [
      "[CV]  subsample=0.8, reg_alpha=0.001, n_estimators=500, min_child_weight=3, max_depth=4, learning_rate=0.15, gamma=0.0, colsample_bytree=0.75 -   0.1s\n",
      "[CV] subsample=0.8, reg_alpha=0.001, n_estimators=500, min_child_weight=3, max_depth=4, learning_rate=0.15, gamma=0.0, colsample_bytree=0.75 \n",
      "[CV]  subsample=0.8, reg_alpha=0.001, n_estimators=500, min_child_weight=3, max_depth=4, learning_rate=0.15, gamma=0.0, colsample_bytree=0.75 -   0.0s\n",
      "[CV] subsample=0.8, reg_alpha=0.001, n_estimators=500, min_child_weight=3, max_depth=4, learning_rate=0.15, gamma=0.0, colsample_bytree=0.75 \n"
     ]
    },
    {
     "name": "stderr",
     "output_type": "stream",
     "text": [
      "C:\\Users\\DELL PC\\Anaconda3\\lib\\site-packages\\sklearn\\preprocessing\\label.py:171: DeprecationWarning: The truth value of an empty array is ambiguous. Returning False, but in future this will result in an error. Use `array.size > 0` to check that an array is not empty.\n",
      "  if diff:\n",
      "C:\\Users\\DELL PC\\Anaconda3\\lib\\site-packages\\sklearn\\preprocessing\\label.py:171: DeprecationWarning: The truth value of an empty array is ambiguous. Returning False, but in future this will result in an error. Use `array.size > 0` to check that an array is not empty.\n",
      "  if diff:\n"
     ]
    },
    {
     "name": "stdout",
     "output_type": "stream",
     "text": [
      "[CV]  subsample=0.8, reg_alpha=0.001, n_estimators=500, min_child_weight=3, max_depth=4, learning_rate=0.15, gamma=0.0, colsample_bytree=0.75 -   0.1s\n",
      "[CV] subsample=0.75, reg_alpha=100, n_estimators=1000, min_child_weight=1, max_depth=9, learning_rate=0.01, gamma=0.2, colsample_bytree=0.8 \n",
      "[CV]  subsample=0.75, reg_alpha=100, n_estimators=1000, min_child_weight=1, max_depth=9, learning_rate=0.01, gamma=0.2, colsample_bytree=0.8 -   0.1s\n",
      "[CV] subsample=0.75, reg_alpha=100, n_estimators=1000, min_child_weight=1, max_depth=9, learning_rate=0.01, gamma=0.2, colsample_bytree=0.8 \n"
     ]
    },
    {
     "name": "stderr",
     "output_type": "stream",
     "text": [
      "C:\\Users\\DELL PC\\Anaconda3\\lib\\site-packages\\sklearn\\preprocessing\\label.py:171: DeprecationWarning: The truth value of an empty array is ambiguous. Returning False, but in future this will result in an error. Use `array.size > 0` to check that an array is not empty.\n",
      "  if diff:\n",
      "C:\\Users\\DELL PC\\Anaconda3\\lib\\site-packages\\sklearn\\preprocessing\\label.py:171: DeprecationWarning: The truth value of an empty array is ambiguous. Returning False, but in future this will result in an error. Use `array.size > 0` to check that an array is not empty.\n",
      "  if diff:\n"
     ]
    },
    {
     "name": "stdout",
     "output_type": "stream",
     "text": [
      "[CV]  subsample=0.75, reg_alpha=100, n_estimators=1000, min_child_weight=1, max_depth=9, learning_rate=0.01, gamma=0.2, colsample_bytree=0.8 -   0.1s\n",
      "[CV] subsample=0.75, reg_alpha=100, n_estimators=1000, min_child_weight=1, max_depth=9, learning_rate=0.01, gamma=0.2, colsample_bytree=0.8 \n",
      "[CV]  subsample=0.75, reg_alpha=100, n_estimators=1000, min_child_weight=1, max_depth=9, learning_rate=0.01, gamma=0.2, colsample_bytree=0.8 -   0.0s\n",
      "[CV] subsample=0.75, reg_alpha=100, n_estimators=1000, min_child_weight=1, max_depth=9, learning_rate=0.01, gamma=0.2, colsample_bytree=0.8 \n"
     ]
    },
    {
     "name": "stderr",
     "output_type": "stream",
     "text": [
      "C:\\Users\\DELL PC\\Anaconda3\\lib\\site-packages\\sklearn\\preprocessing\\label.py:171: DeprecationWarning: The truth value of an empty array is ambiguous. Returning False, but in future this will result in an error. Use `array.size > 0` to check that an array is not empty.\n",
      "  if diff:\n",
      "C:\\Users\\DELL PC\\Anaconda3\\lib\\site-packages\\sklearn\\preprocessing\\label.py:171: DeprecationWarning: The truth value of an empty array is ambiguous. Returning False, but in future this will result in an error. Use `array.size > 0` to check that an array is not empty.\n",
      "  if diff:\n"
     ]
    },
    {
     "name": "stdout",
     "output_type": "stream",
     "text": [
      "[CV]  subsample=0.75, reg_alpha=100, n_estimators=1000, min_child_weight=1, max_depth=9, learning_rate=0.01, gamma=0.2, colsample_bytree=0.8 -   0.0s\n",
      "[CV] subsample=0.75, reg_alpha=100, n_estimators=1000, min_child_weight=1, max_depth=9, learning_rate=0.01, gamma=0.2, colsample_bytree=0.8 \n",
      "[CV]  subsample=0.75, reg_alpha=100, n_estimators=1000, min_child_weight=1, max_depth=9, learning_rate=0.01, gamma=0.2, colsample_bytree=0.8 -   0.1s\n",
      "[CV] subsample=0.75, reg_alpha=0.005, n_estimators=500, min_child_weight=5, max_depth=9, learning_rate=0.25, gamma=0.2, colsample_bytree=0.85 \n"
     ]
    },
    {
     "name": "stderr",
     "output_type": "stream",
     "text": [
      "C:\\Users\\DELL PC\\Anaconda3\\lib\\site-packages\\sklearn\\preprocessing\\label.py:171: DeprecationWarning: The truth value of an empty array is ambiguous. Returning False, but in future this will result in an error. Use `array.size > 0` to check that an array is not empty.\n",
      "  if diff:\n",
      "C:\\Users\\DELL PC\\Anaconda3\\lib\\site-packages\\sklearn\\preprocessing\\label.py:171: DeprecationWarning: The truth value of an empty array is ambiguous. Returning False, but in future this will result in an error. Use `array.size > 0` to check that an array is not empty.\n",
      "  if diff:\n"
     ]
    },
    {
     "name": "stdout",
     "output_type": "stream",
     "text": [
      "[CV]  subsample=0.75, reg_alpha=0.005, n_estimators=500, min_child_weight=5, max_depth=9, learning_rate=0.25, gamma=0.2, colsample_bytree=0.85 -   0.1s\n",
      "[CV] subsample=0.75, reg_alpha=0.005, n_estimators=500, min_child_weight=5, max_depth=9, learning_rate=0.25, gamma=0.2, colsample_bytree=0.85 \n",
      "[CV]  subsample=0.75, reg_alpha=0.005, n_estimators=500, min_child_weight=5, max_depth=9, learning_rate=0.25, gamma=0.2, colsample_bytree=0.85 -   0.1s\n",
      "[CV] subsample=0.75, reg_alpha=0.005, n_estimators=500, min_child_weight=5, max_depth=9, learning_rate=0.25, gamma=0.2, colsample_bytree=0.85 \n"
     ]
    },
    {
     "name": "stderr",
     "output_type": "stream",
     "text": [
      "C:\\Users\\DELL PC\\Anaconda3\\lib\\site-packages\\sklearn\\preprocessing\\label.py:171: DeprecationWarning: The truth value of an empty array is ambiguous. Returning False, but in future this will result in an error. Use `array.size > 0` to check that an array is not empty.\n",
      "  if diff:\n",
      "C:\\Users\\DELL PC\\Anaconda3\\lib\\site-packages\\sklearn\\preprocessing\\label.py:171: DeprecationWarning: The truth value of an empty array is ambiguous. Returning False, but in future this will result in an error. Use `array.size > 0` to check that an array is not empty.\n",
      "  if diff:\n"
     ]
    },
    {
     "name": "stdout",
     "output_type": "stream",
     "text": [
      "[CV]  subsample=0.75, reg_alpha=0.005, n_estimators=500, min_child_weight=5, max_depth=9, learning_rate=0.25, gamma=0.2, colsample_bytree=0.85 -   0.1s\n",
      "[CV] subsample=0.75, reg_alpha=0.005, n_estimators=500, min_child_weight=5, max_depth=9, learning_rate=0.25, gamma=0.2, colsample_bytree=0.85 \n",
      "[CV]  subsample=0.75, reg_alpha=0.005, n_estimators=500, min_child_weight=5, max_depth=9, learning_rate=0.25, gamma=0.2, colsample_bytree=0.85 -   0.1s\n",
      "[CV] subsample=0.75, reg_alpha=0.005, n_estimators=500, min_child_weight=5, max_depth=9, learning_rate=0.25, gamma=0.2, colsample_bytree=0.85 \n"
     ]
    },
    {
     "name": "stderr",
     "output_type": "stream",
     "text": [
      "C:\\Users\\DELL PC\\Anaconda3\\lib\\site-packages\\sklearn\\preprocessing\\label.py:171: DeprecationWarning: The truth value of an empty array is ambiguous. Returning False, but in future this will result in an error. Use `array.size > 0` to check that an array is not empty.\n",
      "  if diff:\n"
     ]
    },
    {
     "name": "stdout",
     "output_type": "stream",
     "text": [
      "[CV]  subsample=0.75, reg_alpha=0.005, n_estimators=500, min_child_weight=5, max_depth=9, learning_rate=0.25, gamma=0.2, colsample_bytree=0.85 -   0.1s\n",
      "[CV] subsample=0.8, reg_alpha=0.001, n_estimators=500, min_child_weight=1, max_depth=9, learning_rate=0.25, gamma=0.4, colsample_bytree=0.8 \n"
     ]
    },
    {
     "name": "stderr",
     "output_type": "stream",
     "text": [
      "C:\\Users\\DELL PC\\Anaconda3\\lib\\site-packages\\sklearn\\preprocessing\\label.py:171: DeprecationWarning: The truth value of an empty array is ambiguous. Returning False, but in future this will result in an error. Use `array.size > 0` to check that an array is not empty.\n",
      "  if diff:\n"
     ]
    },
    {
     "name": "stdout",
     "output_type": "stream",
     "text": [
      "[CV]  subsample=0.8, reg_alpha=0.001, n_estimators=500, min_child_weight=1, max_depth=9, learning_rate=0.25, gamma=0.4, colsample_bytree=0.8 -   0.2s\n",
      "[CV] subsample=0.8, reg_alpha=0.001, n_estimators=500, min_child_weight=1, max_depth=9, learning_rate=0.25, gamma=0.4, colsample_bytree=0.8 \n"
     ]
    },
    {
     "name": "stderr",
     "output_type": "stream",
     "text": [
      "C:\\Users\\DELL PC\\Anaconda3\\lib\\site-packages\\sklearn\\preprocessing\\label.py:171: DeprecationWarning: The truth value of an empty array is ambiguous. Returning False, but in future this will result in an error. Use `array.size > 0` to check that an array is not empty.\n",
      "  if diff:\n"
     ]
    },
    {
     "name": "stdout",
     "output_type": "stream",
     "text": [
      "[CV]  subsample=0.8, reg_alpha=0.001, n_estimators=500, min_child_weight=1, max_depth=9, learning_rate=0.25, gamma=0.4, colsample_bytree=0.8 -   0.1s\n",
      "[CV] subsample=0.8, reg_alpha=0.001, n_estimators=500, min_child_weight=1, max_depth=9, learning_rate=0.25, gamma=0.4, colsample_bytree=0.8 \n"
     ]
    },
    {
     "name": "stderr",
     "output_type": "stream",
     "text": [
      "C:\\Users\\DELL PC\\Anaconda3\\lib\\site-packages\\sklearn\\preprocessing\\label.py:171: DeprecationWarning: The truth value of an empty array is ambiguous. Returning False, but in future this will result in an error. Use `array.size > 0` to check that an array is not empty.\n",
      "  if diff:\n"
     ]
    },
    {
     "name": "stdout",
     "output_type": "stream",
     "text": [
      "[CV]  subsample=0.8, reg_alpha=0.001, n_estimators=500, min_child_weight=1, max_depth=9, learning_rate=0.25, gamma=0.4, colsample_bytree=0.8 -   0.2s\n",
      "[CV] subsample=0.8, reg_alpha=0.001, n_estimators=500, min_child_weight=1, max_depth=9, learning_rate=0.25, gamma=0.4, colsample_bytree=0.8 \n"
     ]
    },
    {
     "name": "stderr",
     "output_type": "stream",
     "text": [
      "C:\\Users\\DELL PC\\Anaconda3\\lib\\site-packages\\sklearn\\preprocessing\\label.py:171: DeprecationWarning: The truth value of an empty array is ambiguous. Returning False, but in future this will result in an error. Use `array.size > 0` to check that an array is not empty.\n",
      "  if diff:\n"
     ]
    },
    {
     "name": "stdout",
     "output_type": "stream",
     "text": [
      "[CV]  subsample=0.8, reg_alpha=0.001, n_estimators=500, min_child_weight=1, max_depth=9, learning_rate=0.25, gamma=0.4, colsample_bytree=0.8 -   0.1s\n",
      "[CV] subsample=0.8, reg_alpha=0.001, n_estimators=500, min_child_weight=1, max_depth=9, learning_rate=0.25, gamma=0.4, colsample_bytree=0.8 \n"
     ]
    },
    {
     "name": "stderr",
     "output_type": "stream",
     "text": [
      "C:\\Users\\DELL PC\\Anaconda3\\lib\\site-packages\\sklearn\\preprocessing\\label.py:171: DeprecationWarning: The truth value of an empty array is ambiguous. Returning False, but in future this will result in an error. Use `array.size > 0` to check that an array is not empty.\n",
      "  if diff:\n",
      "C:\\Users\\DELL PC\\Anaconda3\\lib\\site-packages\\sklearn\\preprocessing\\label.py:171: DeprecationWarning: The truth value of an empty array is ambiguous. Returning False, but in future this will result in an error. Use `array.size > 0` to check that an array is not empty.\n",
      "  if diff:\n"
     ]
    },
    {
     "name": "stdout",
     "output_type": "stream",
     "text": [
      "[CV]  subsample=0.8, reg_alpha=0.001, n_estimators=500, min_child_weight=1, max_depth=9, learning_rate=0.25, gamma=0.4, colsample_bytree=0.8 -   0.2s\n",
      "[CV] subsample=0.8, reg_alpha=0, n_estimators=500, min_child_weight=1, max_depth=3, learning_rate=0.05, gamma=0.4, colsample_bytree=0.75 \n",
      "[CV]  subsample=0.8, reg_alpha=0, n_estimators=500, min_child_weight=1, max_depth=3, learning_rate=0.05, gamma=0.4, colsample_bytree=0.75 -   0.0s\n",
      "[CV] subsample=0.8, reg_alpha=0, n_estimators=500, min_child_weight=1, max_depth=3, learning_rate=0.05, gamma=0.4, colsample_bytree=0.75 \n"
     ]
    },
    {
     "name": "stderr",
     "output_type": "stream",
     "text": [
      "C:\\Users\\DELL PC\\Anaconda3\\lib\\site-packages\\sklearn\\preprocessing\\label.py:171: DeprecationWarning: The truth value of an empty array is ambiguous. Returning False, but in future this will result in an error. Use `array.size > 0` to check that an array is not empty.\n",
      "  if diff:\n",
      "C:\\Users\\DELL PC\\Anaconda3\\lib\\site-packages\\sklearn\\preprocessing\\label.py:171: DeprecationWarning: The truth value of an empty array is ambiguous. Returning False, but in future this will result in an error. Use `array.size > 0` to check that an array is not empty.\n",
      "  if diff:\n"
     ]
    },
    {
     "name": "stdout",
     "output_type": "stream",
     "text": [
      "[CV]  subsample=0.8, reg_alpha=0, n_estimators=500, min_child_weight=1, max_depth=3, learning_rate=0.05, gamma=0.4, colsample_bytree=0.75 -   0.0s\n",
      "[CV] subsample=0.8, reg_alpha=0, n_estimators=500, min_child_weight=1, max_depth=3, learning_rate=0.05, gamma=0.4, colsample_bytree=0.75 \n",
      "[CV]  subsample=0.8, reg_alpha=0, n_estimators=500, min_child_weight=1, max_depth=3, learning_rate=0.05, gamma=0.4, colsample_bytree=0.75 -   0.1s\n",
      "[CV] subsample=0.8, reg_alpha=0, n_estimators=500, min_child_weight=1, max_depth=3, learning_rate=0.05, gamma=0.4, colsample_bytree=0.75 \n"
     ]
    },
    {
     "name": "stderr",
     "output_type": "stream",
     "text": [
      "C:\\Users\\DELL PC\\Anaconda3\\lib\\site-packages\\sklearn\\preprocessing\\label.py:171: DeprecationWarning: The truth value of an empty array is ambiguous. Returning False, but in future this will result in an error. Use `array.size > 0` to check that an array is not empty.\n",
      "  if diff:\n",
      "C:\\Users\\DELL PC\\Anaconda3\\lib\\site-packages\\sklearn\\preprocessing\\label.py:171: DeprecationWarning: The truth value of an empty array is ambiguous. Returning False, but in future this will result in an error. Use `array.size > 0` to check that an array is not empty.\n",
      "  if diff:\n",
      "C:\\Users\\DELL PC\\Anaconda3\\lib\\site-packages\\sklearn\\preprocessing\\label.py:171: DeprecationWarning: The truth value of an empty array is ambiguous. Returning False, but in future this will result in an error. Use `array.size > 0` to check that an array is not empty.\n",
      "  if diff:\n",
      "C:\\Users\\DELL PC\\Anaconda3\\lib\\site-packages\\sklearn\\preprocessing\\label.py:171: DeprecationWarning: The truth value of an empty array is ambiguous. Returning False, but in future this will result in an error. Use `array.size > 0` to check that an array is not empty.\n",
      "  if diff:\n",
      "C:\\Users\\DELL PC\\Anaconda3\\lib\\site-packages\\sklearn\\preprocessing\\label.py:171: DeprecationWarning: The truth value of an empty array is ambiguous. Returning False, but in future this will result in an error. Use `array.size > 0` to check that an array is not empty.\n",
      "  if diff:\n",
      "C:\\Users\\DELL PC\\Anaconda3\\lib\\site-packages\\sklearn\\preprocessing\\label.py:171: DeprecationWarning: The truth value of an empty array is ambiguous. Returning False, but in future this will result in an error. Use `array.size > 0` to check that an array is not empty.\n",
      "  if diff:\n",
      "C:\\Users\\DELL PC\\Anaconda3\\lib\\site-packages\\sklearn\\preprocessing\\label.py:171: DeprecationWarning: The truth value of an empty array is ambiguous. Returning False, but in future this will result in an error. Use `array.size > 0` to check that an array is not empty.\n",
      "  if diff:\n"
     ]
    },
    {
     "name": "stdout",
     "output_type": "stream",
     "text": [
      "[CV]  subsample=0.8, reg_alpha=0, n_estimators=500, min_child_weight=1, max_depth=3, learning_rate=0.05, gamma=0.4, colsample_bytree=0.75 -   0.0s\n",
      "[CV] subsample=0.8, reg_alpha=0, n_estimators=500, min_child_weight=1, max_depth=3, learning_rate=0.05, gamma=0.4, colsample_bytree=0.75 \n",
      "[CV]  subsample=0.8, reg_alpha=0, n_estimators=500, min_child_weight=1, max_depth=3, learning_rate=0.05, gamma=0.4, colsample_bytree=0.75 -   0.0s\n",
      "[CV] subsample=0.75, reg_alpha=0.05, n_estimators=30, min_child_weight=7, max_depth=3, learning_rate=0.1, gamma=0.0, colsample_bytree=0.8 \n",
      "[CV]  subsample=0.75, reg_alpha=0.05, n_estimators=30, min_child_weight=7, max_depth=3, learning_rate=0.1, gamma=0.0, colsample_bytree=0.8 -   0.0s\n",
      "[CV] subsample=0.75, reg_alpha=0.05, n_estimators=30, min_child_weight=7, max_depth=3, learning_rate=0.1, gamma=0.0, colsample_bytree=0.8 \n",
      "[CV]  subsample=0.75, reg_alpha=0.05, n_estimators=30, min_child_weight=7, max_depth=3, learning_rate=0.1, gamma=0.0, colsample_bytree=0.8 -   0.0s\n",
      "[CV] subsample=0.75, reg_alpha=0.05, n_estimators=30, min_child_weight=7, max_depth=3, learning_rate=0.1, gamma=0.0, colsample_bytree=0.8 \n",
      "[CV]  subsample=0.75, reg_alpha=0.05, n_estimators=30, min_child_weight=7, max_depth=3, learning_rate=0.1, gamma=0.0, colsample_bytree=0.8 -   0.0s\n",
      "[CV] subsample=0.75, reg_alpha=0.05, n_estimators=30, min_child_weight=7, max_depth=3, learning_rate=0.1, gamma=0.0, colsample_bytree=0.8 \n",
      "[CV]  subsample=0.75, reg_alpha=0.05, n_estimators=30, min_child_weight=7, max_depth=3, learning_rate=0.1, gamma=0.0, colsample_bytree=0.8 -   0.0s\n",
      "[CV] subsample=0.75, reg_alpha=0.05, n_estimators=30, min_child_weight=7, max_depth=3, learning_rate=0.1, gamma=0.0, colsample_bytree=0.8 \n",
      "[CV]  subsample=0.75, reg_alpha=0.05, n_estimators=30, min_child_weight=7, max_depth=3, learning_rate=0.1, gamma=0.0, colsample_bytree=0.8 -   0.0s\n",
      "[CV] subsample=0.85, reg_alpha=0, n_estimators=200, min_child_weight=1, max_depth=8, learning_rate=0.001, gamma=0.2, colsample_bytree=0.85 \n"
     ]
    },
    {
     "name": "stderr",
     "output_type": "stream",
     "text": [
      "C:\\Users\\DELL PC\\Anaconda3\\lib\\site-packages\\sklearn\\preprocessing\\label.py:171: DeprecationWarning: The truth value of an empty array is ambiguous. Returning False, but in future this will result in an error. Use `array.size > 0` to check that an array is not empty.\n",
      "  if diff:\n",
      "C:\\Users\\DELL PC\\Anaconda3\\lib\\site-packages\\sklearn\\preprocessing\\label.py:171: DeprecationWarning: The truth value of an empty array is ambiguous. Returning False, but in future this will result in an error. Use `array.size > 0` to check that an array is not empty.\n",
      "  if diff:\n"
     ]
    },
    {
     "name": "stdout",
     "output_type": "stream",
     "text": [
      "[CV]  subsample=0.85, reg_alpha=0, n_estimators=200, min_child_weight=1, max_depth=8, learning_rate=0.001, gamma=0.2, colsample_bytree=0.85 -   0.0s\n",
      "[CV] subsample=0.85, reg_alpha=0, n_estimators=200, min_child_weight=1, max_depth=8, learning_rate=0.001, gamma=0.2, colsample_bytree=0.85 \n",
      "[CV]  subsample=0.85, reg_alpha=0, n_estimators=200, min_child_weight=1, max_depth=8, learning_rate=0.001, gamma=0.2, colsample_bytree=0.85 -   0.0s\n",
      "[CV] subsample=0.85, reg_alpha=0, n_estimators=200, min_child_weight=1, max_depth=8, learning_rate=0.001, gamma=0.2, colsample_bytree=0.85 \n"
     ]
    },
    {
     "name": "stderr",
     "output_type": "stream",
     "text": [
      "C:\\Users\\DELL PC\\Anaconda3\\lib\\site-packages\\sklearn\\preprocessing\\label.py:171: DeprecationWarning: The truth value of an empty array is ambiguous. Returning False, but in future this will result in an error. Use `array.size > 0` to check that an array is not empty.\n",
      "  if diff:\n",
      "C:\\Users\\DELL PC\\Anaconda3\\lib\\site-packages\\sklearn\\preprocessing\\label.py:171: DeprecationWarning: The truth value of an empty array is ambiguous. Returning False, but in future this will result in an error. Use `array.size > 0` to check that an array is not empty.\n",
      "  if diff:\n",
      "C:\\Users\\DELL PC\\Anaconda3\\lib\\site-packages\\sklearn\\preprocessing\\label.py:171: DeprecationWarning: The truth value of an empty array is ambiguous. Returning False, but in future this will result in an error. Use `array.size > 0` to check that an array is not empty.\n",
      "  if diff:\n"
     ]
    },
    {
     "name": "stdout",
     "output_type": "stream",
     "text": [
      "[CV]  subsample=0.85, reg_alpha=0, n_estimators=200, min_child_weight=1, max_depth=8, learning_rate=0.001, gamma=0.2, colsample_bytree=0.85 -   0.0s\n",
      "[CV] subsample=0.85, reg_alpha=0, n_estimators=200, min_child_weight=1, max_depth=8, learning_rate=0.001, gamma=0.2, colsample_bytree=0.85 \n",
      "[CV]  subsample=0.85, reg_alpha=0, n_estimators=200, min_child_weight=1, max_depth=8, learning_rate=0.001, gamma=0.2, colsample_bytree=0.85 -   0.0s\n",
      "[CV] subsample=0.85, reg_alpha=0, n_estimators=200, min_child_weight=1, max_depth=8, learning_rate=0.001, gamma=0.2, colsample_bytree=0.85 \n",
      "[CV]  subsample=0.85, reg_alpha=0, n_estimators=200, min_child_weight=1, max_depth=8, learning_rate=0.001, gamma=0.2, colsample_bytree=0.85 -   0.0s\n",
      "[CV] subsample=0.85, reg_alpha=0.1, n_estimators=700, min_child_weight=5, max_depth=6, learning_rate=0.25, gamma=0.0, colsample_bytree=0.8 \n"
     ]
    },
    {
     "name": "stderr",
     "output_type": "stream",
     "text": [
      "C:\\Users\\DELL PC\\Anaconda3\\lib\\site-packages\\sklearn\\preprocessing\\label.py:171: DeprecationWarning: The truth value of an empty array is ambiguous. Returning False, but in future this will result in an error. Use `array.size > 0` to check that an array is not empty.\n",
      "  if diff:\n"
     ]
    },
    {
     "name": "stdout",
     "output_type": "stream",
     "text": [
      "[CV]  subsample=0.85, reg_alpha=0.1, n_estimators=700, min_child_weight=5, max_depth=6, learning_rate=0.25, gamma=0.0, colsample_bytree=0.8 -   0.1s\n",
      "[CV] subsample=0.85, reg_alpha=0.1, n_estimators=700, min_child_weight=5, max_depth=6, learning_rate=0.25, gamma=0.0, colsample_bytree=0.8 \n"
     ]
    },
    {
     "name": "stderr",
     "output_type": "stream",
     "text": [
      "C:\\Users\\DELL PC\\Anaconda3\\lib\\site-packages\\sklearn\\preprocessing\\label.py:171: DeprecationWarning: The truth value of an empty array is ambiguous. Returning False, but in future this will result in an error. Use `array.size > 0` to check that an array is not empty.\n",
      "  if diff:\n"
     ]
    },
    {
     "name": "stdout",
     "output_type": "stream",
     "text": [
      "[CV]  subsample=0.85, reg_alpha=0.1, n_estimators=700, min_child_weight=5, max_depth=6, learning_rate=0.25, gamma=0.0, colsample_bytree=0.8 -   0.1s\n",
      "[CV] subsample=0.85, reg_alpha=0.1, n_estimators=700, min_child_weight=5, max_depth=6, learning_rate=0.25, gamma=0.0, colsample_bytree=0.8 \n"
     ]
    },
    {
     "name": "stderr",
     "output_type": "stream",
     "text": [
      "C:\\Users\\DELL PC\\Anaconda3\\lib\\site-packages\\sklearn\\preprocessing\\label.py:171: DeprecationWarning: The truth value of an empty array is ambiguous. Returning False, but in future this will result in an error. Use `array.size > 0` to check that an array is not empty.\n",
      "  if diff:\n"
     ]
    },
    {
     "name": "stdout",
     "output_type": "stream",
     "text": [
      "[CV]  subsample=0.85, reg_alpha=0.1, n_estimators=700, min_child_weight=5, max_depth=6, learning_rate=0.25, gamma=0.0, colsample_bytree=0.8 -   0.1s\n",
      "[CV] subsample=0.85, reg_alpha=0.1, n_estimators=700, min_child_weight=5, max_depth=6, learning_rate=0.25, gamma=0.0, colsample_bytree=0.8 \n"
     ]
    },
    {
     "name": "stderr",
     "output_type": "stream",
     "text": [
      "C:\\Users\\DELL PC\\Anaconda3\\lib\\site-packages\\sklearn\\preprocessing\\label.py:171: DeprecationWarning: The truth value of an empty array is ambiguous. Returning False, but in future this will result in an error. Use `array.size > 0` to check that an array is not empty.\n",
      "  if diff:\n"
     ]
    },
    {
     "name": "stdout",
     "output_type": "stream",
     "text": [
      "[CV]  subsample=0.85, reg_alpha=0.1, n_estimators=700, min_child_weight=5, max_depth=6, learning_rate=0.25, gamma=0.0, colsample_bytree=0.8 -   0.1s\n",
      "[CV] subsample=0.85, reg_alpha=0.1, n_estimators=700, min_child_weight=5, max_depth=6, learning_rate=0.25, gamma=0.0, colsample_bytree=0.8 \n"
     ]
    },
    {
     "name": "stderr",
     "output_type": "stream",
     "text": [
      "C:\\Users\\DELL PC\\Anaconda3\\lib\\site-packages\\sklearn\\preprocessing\\label.py:171: DeprecationWarning: The truth value of an empty array is ambiguous. Returning False, but in future this will result in an error. Use `array.size > 0` to check that an array is not empty.\n",
      "  if diff:\n",
      "C:\\Users\\DELL PC\\Anaconda3\\lib\\site-packages\\sklearn\\preprocessing\\label.py:171: DeprecationWarning: The truth value of an empty array is ambiguous. Returning False, but in future this will result in an error. Use `array.size > 0` to check that an array is not empty.\n",
      "  if diff:\n",
      "C:\\Users\\DELL PC\\Anaconda3\\lib\\site-packages\\sklearn\\preprocessing\\label.py:171: DeprecationWarning: The truth value of an empty array is ambiguous. Returning False, but in future this will result in an error. Use `array.size > 0` to check that an array is not empty.\n",
      "  if diff:\n",
      "C:\\Users\\DELL PC\\Anaconda3\\lib\\site-packages\\sklearn\\preprocessing\\label.py:171: DeprecationWarning: The truth value of an empty array is ambiguous. Returning False, but in future this will result in an error. Use `array.size > 0` to check that an array is not empty.\n",
      "  if diff:\n",
      "C:\\Users\\DELL PC\\Anaconda3\\lib\\site-packages\\sklearn\\preprocessing\\label.py:171: DeprecationWarning: The truth value of an empty array is ambiguous. Returning False, but in future this will result in an error. Use `array.size > 0` to check that an array is not empty.\n",
      "  if diff:\n",
      "C:\\Users\\DELL PC\\Anaconda3\\lib\\site-packages\\sklearn\\preprocessing\\label.py:171: DeprecationWarning: The truth value of an empty array is ambiguous. Returning False, but in future this will result in an error. Use `array.size > 0` to check that an array is not empty.\n",
      "  if diff:\n"
     ]
    },
    {
     "name": "stdout",
     "output_type": "stream",
     "text": [
      "[CV]  subsample=0.85, reg_alpha=0.1, n_estimators=700, min_child_weight=5, max_depth=6, learning_rate=0.25, gamma=0.0, colsample_bytree=0.8 -   0.1s\n",
      "[CV] subsample=0.85, reg_alpha=0.001, n_estimators=30, min_child_weight=5, max_depth=10, learning_rate=0.05, gamma=0.1, colsample_bytree=0.8 \n",
      "[CV]  subsample=0.85, reg_alpha=0.001, n_estimators=30, min_child_weight=5, max_depth=10, learning_rate=0.05, gamma=0.1, colsample_bytree=0.8 -   0.0s\n",
      "[CV] subsample=0.85, reg_alpha=0.001, n_estimators=30, min_child_weight=5, max_depth=10, learning_rate=0.05, gamma=0.1, colsample_bytree=0.8 \n",
      "[CV]  subsample=0.85, reg_alpha=0.001, n_estimators=30, min_child_weight=5, max_depth=10, learning_rate=0.05, gamma=0.1, colsample_bytree=0.8 -   0.0s\n",
      "[CV] subsample=0.85, reg_alpha=0.001, n_estimators=30, min_child_weight=5, max_depth=10, learning_rate=0.05, gamma=0.1, colsample_bytree=0.8 \n",
      "[CV]  subsample=0.85, reg_alpha=0.001, n_estimators=30, min_child_weight=5, max_depth=10, learning_rate=0.05, gamma=0.1, colsample_bytree=0.8 -   0.0s\n",
      "[CV] subsample=0.85, reg_alpha=0.001, n_estimators=30, min_child_weight=5, max_depth=10, learning_rate=0.05, gamma=0.1, colsample_bytree=0.8 \n",
      "[CV]  subsample=0.85, reg_alpha=0.001, n_estimators=30, min_child_weight=5, max_depth=10, learning_rate=0.05, gamma=0.1, colsample_bytree=0.8 -   0.0s\n",
      "[CV] subsample=0.85, reg_alpha=0.001, n_estimators=30, min_child_weight=5, max_depth=10, learning_rate=0.05, gamma=0.1, colsample_bytree=0.8 \n",
      "[CV]  subsample=0.85, reg_alpha=0.001, n_estimators=30, min_child_weight=5, max_depth=10, learning_rate=0.05, gamma=0.1, colsample_bytree=0.8 -   0.0s\n",
      "[CV] subsample=0.75, reg_alpha=0, n_estimators=700, min_child_weight=9, max_depth=10, learning_rate=0.21, gamma=0.4, colsample_bytree=0.75 \n"
     ]
    },
    {
     "name": "stderr",
     "output_type": "stream",
     "text": [
      "C:\\Users\\DELL PC\\Anaconda3\\lib\\site-packages\\sklearn\\preprocessing\\label.py:171: DeprecationWarning: The truth value of an empty array is ambiguous. Returning False, but in future this will result in an error. Use `array.size > 0` to check that an array is not empty.\n",
      "  if diff:\n",
      "C:\\Users\\DELL PC\\Anaconda3\\lib\\site-packages\\sklearn\\preprocessing\\label.py:171: DeprecationWarning: The truth value of an empty array is ambiguous. Returning False, but in future this will result in an error. Use `array.size > 0` to check that an array is not empty.\n",
      "  if diff:\n"
     ]
    },
    {
     "name": "stdout",
     "output_type": "stream",
     "text": [
      "[CV]  subsample=0.75, reg_alpha=0, n_estimators=700, min_child_weight=9, max_depth=10, learning_rate=0.21, gamma=0.4, colsample_bytree=0.75 -   0.1s\n",
      "[CV] subsample=0.75, reg_alpha=0, n_estimators=700, min_child_weight=9, max_depth=10, learning_rate=0.21, gamma=0.4, colsample_bytree=0.75 \n",
      "[CV]  subsample=0.75, reg_alpha=0, n_estimators=700, min_child_weight=9, max_depth=10, learning_rate=0.21, gamma=0.4, colsample_bytree=0.75 -   0.1s\n",
      "[CV] subsample=0.75, reg_alpha=0, n_estimators=700, min_child_weight=9, max_depth=10, learning_rate=0.21, gamma=0.4, colsample_bytree=0.75 \n"
     ]
    },
    {
     "name": "stderr",
     "output_type": "stream",
     "text": [
      "C:\\Users\\DELL PC\\Anaconda3\\lib\\site-packages\\sklearn\\preprocessing\\label.py:171: DeprecationWarning: The truth value of an empty array is ambiguous. Returning False, but in future this will result in an error. Use `array.size > 0` to check that an array is not empty.\n",
      "  if diff:\n",
      "C:\\Users\\DELL PC\\Anaconda3\\lib\\site-packages\\sklearn\\preprocessing\\label.py:171: DeprecationWarning: The truth value of an empty array is ambiguous. Returning False, but in future this will result in an error. Use `array.size > 0` to check that an array is not empty.\n",
      "  if diff:\n"
     ]
    },
    {
     "name": "stdout",
     "output_type": "stream",
     "text": [
      "[CV]  subsample=0.75, reg_alpha=0, n_estimators=700, min_child_weight=9, max_depth=10, learning_rate=0.21, gamma=0.4, colsample_bytree=0.75 -   0.2s\n",
      "[CV] subsample=0.75, reg_alpha=0, n_estimators=700, min_child_weight=9, max_depth=10, learning_rate=0.21, gamma=0.4, colsample_bytree=0.75 \n",
      "[CV]  subsample=0.75, reg_alpha=0, n_estimators=700, min_child_weight=9, max_depth=10, learning_rate=0.21, gamma=0.4, colsample_bytree=0.75 -   0.1s\n",
      "[CV] subsample=0.75, reg_alpha=0, n_estimators=700, min_child_weight=9, max_depth=10, learning_rate=0.21, gamma=0.4, colsample_bytree=0.75 \n"
     ]
    },
    {
     "name": "stderr",
     "output_type": "stream",
     "text": [
      "C:\\Users\\DELL PC\\Anaconda3\\lib\\site-packages\\sklearn\\preprocessing\\label.py:171: DeprecationWarning: The truth value of an empty array is ambiguous. Returning False, but in future this will result in an error. Use `array.size > 0` to check that an array is not empty.\n",
      "  if diff:\n",
      "C:\\Users\\DELL PC\\Anaconda3\\lib\\site-packages\\sklearn\\preprocessing\\label.py:171: DeprecationWarning: The truth value of an empty array is ambiguous. Returning False, but in future this will result in an error. Use `array.size > 0` to check that an array is not empty.\n",
      "  if diff:\n"
     ]
    },
    {
     "name": "stdout",
     "output_type": "stream",
     "text": [
      "[CV]  subsample=0.75, reg_alpha=0, n_estimators=700, min_child_weight=9, max_depth=10, learning_rate=0.21, gamma=0.4, colsample_bytree=0.75 -   0.1s\n",
      "[CV] subsample=0.85, reg_alpha=0.01, n_estimators=500, min_child_weight=7, max_depth=8, learning_rate=0.25, gamma=0.2, colsample_bytree=0.8 \n",
      "[CV]  subsample=0.85, reg_alpha=0.01, n_estimators=500, min_child_weight=7, max_depth=8, learning_rate=0.25, gamma=0.2, colsample_bytree=0.8 -   0.1s\n",
      "[CV] subsample=0.85, reg_alpha=0.01, n_estimators=500, min_child_weight=7, max_depth=8, learning_rate=0.25, gamma=0.2, colsample_bytree=0.8 \n"
     ]
    },
    {
     "name": "stderr",
     "output_type": "stream",
     "text": [
      "C:\\Users\\DELL PC\\Anaconda3\\lib\\site-packages\\sklearn\\preprocessing\\label.py:171: DeprecationWarning: The truth value of an empty array is ambiguous. Returning False, but in future this will result in an error. Use `array.size > 0` to check that an array is not empty.\n",
      "  if diff:\n",
      "C:\\Users\\DELL PC\\Anaconda3\\lib\\site-packages\\sklearn\\preprocessing\\label.py:171: DeprecationWarning: The truth value of an empty array is ambiguous. Returning False, but in future this will result in an error. Use `array.size > 0` to check that an array is not empty.\n",
      "  if diff:\n"
     ]
    },
    {
     "name": "stdout",
     "output_type": "stream",
     "text": [
      "[CV]  subsample=0.85, reg_alpha=0.01, n_estimators=500, min_child_weight=7, max_depth=8, learning_rate=0.25, gamma=0.2, colsample_bytree=0.8 -   0.1s\n",
      "[CV] subsample=0.85, reg_alpha=0.01, n_estimators=500, min_child_weight=7, max_depth=8, learning_rate=0.25, gamma=0.2, colsample_bytree=0.8 \n",
      "[CV]  subsample=0.85, reg_alpha=0.01, n_estimators=500, min_child_weight=7, max_depth=8, learning_rate=0.25, gamma=0.2, colsample_bytree=0.8 -   0.0s\n",
      "[CV] subsample=0.85, reg_alpha=0.01, n_estimators=500, min_child_weight=7, max_depth=8, learning_rate=0.25, gamma=0.2, colsample_bytree=0.8 \n"
     ]
    },
    {
     "name": "stderr",
     "output_type": "stream",
     "text": [
      "C:\\Users\\DELL PC\\Anaconda3\\lib\\site-packages\\sklearn\\preprocessing\\label.py:171: DeprecationWarning: The truth value of an empty array is ambiguous. Returning False, but in future this will result in an error. Use `array.size > 0` to check that an array is not empty.\n",
      "  if diff:\n",
      "C:\\Users\\DELL PC\\Anaconda3\\lib\\site-packages\\sklearn\\preprocessing\\label.py:171: DeprecationWarning: The truth value of an empty array is ambiguous. Returning False, but in future this will result in an error. Use `array.size > 0` to check that an array is not empty.\n",
      "  if diff:\n"
     ]
    },
    {
     "name": "stdout",
     "output_type": "stream",
     "text": [
      "[CV]  subsample=0.85, reg_alpha=0.01, n_estimators=500, min_child_weight=7, max_depth=8, learning_rate=0.25, gamma=0.2, colsample_bytree=0.8 -   0.1s\n",
      "[CV] subsample=0.85, reg_alpha=0.01, n_estimators=500, min_child_weight=7, max_depth=8, learning_rate=0.25, gamma=0.2, colsample_bytree=0.8 \n",
      "[CV]  subsample=0.85, reg_alpha=0.01, n_estimators=500, min_child_weight=7, max_depth=8, learning_rate=0.25, gamma=0.2, colsample_bytree=0.8 -   0.1s\n",
      "[CV] subsample=0.75, reg_alpha=0.05, n_estimators=300, min_child_weight=5, max_depth=6, learning_rate=0.1, gamma=0.0, colsample_bytree=0.75 \n"
     ]
    },
    {
     "name": "stderr",
     "output_type": "stream",
     "text": [
      "C:\\Users\\DELL PC\\Anaconda3\\lib\\site-packages\\sklearn\\preprocessing\\label.py:171: DeprecationWarning: The truth value of an empty array is ambiguous. Returning False, but in future this will result in an error. Use `array.size > 0` to check that an array is not empty.\n",
      "  if diff:\n",
      "C:\\Users\\DELL PC\\Anaconda3\\lib\\site-packages\\sklearn\\preprocessing\\label.py:171: DeprecationWarning: The truth value of an empty array is ambiguous. Returning False, but in future this will result in an error. Use `array.size > 0` to check that an array is not empty.\n",
      "  if diff:\n"
     ]
    },
    {
     "name": "stdout",
     "output_type": "stream",
     "text": [
      "[CV]  subsample=0.75, reg_alpha=0.05, n_estimators=300, min_child_weight=5, max_depth=6, learning_rate=0.1, gamma=0.0, colsample_bytree=0.75 -   0.0s\n",
      "[CV] subsample=0.75, reg_alpha=0.05, n_estimators=300, min_child_weight=5, max_depth=6, learning_rate=0.1, gamma=0.0, colsample_bytree=0.75 \n",
      "[CV]  subsample=0.75, reg_alpha=0.05, n_estimators=300, min_child_weight=5, max_depth=6, learning_rate=0.1, gamma=0.0, colsample_bytree=0.75 -   0.0s\n",
      "[CV] subsample=0.75, reg_alpha=0.05, n_estimators=300, min_child_weight=5, max_depth=6, learning_rate=0.1, gamma=0.0, colsample_bytree=0.75 \n"
     ]
    },
    {
     "name": "stderr",
     "output_type": "stream",
     "text": [
      "C:\\Users\\DELL PC\\Anaconda3\\lib\\site-packages\\sklearn\\preprocessing\\label.py:171: DeprecationWarning: The truth value of an empty array is ambiguous. Returning False, but in future this will result in an error. Use `array.size > 0` to check that an array is not empty.\n",
      "  if diff:\n",
      "C:\\Users\\DELL PC\\Anaconda3\\lib\\site-packages\\sklearn\\preprocessing\\label.py:171: DeprecationWarning: The truth value of an empty array is ambiguous. Returning False, but in future this will result in an error. Use `array.size > 0` to check that an array is not empty.\n",
      "  if diff:\n"
     ]
    },
    {
     "name": "stdout",
     "output_type": "stream",
     "text": [
      "[CV]  subsample=0.75, reg_alpha=0.05, n_estimators=300, min_child_weight=5, max_depth=6, learning_rate=0.1, gamma=0.0, colsample_bytree=0.75 -   0.0s\n",
      "[CV] subsample=0.75, reg_alpha=0.05, n_estimators=300, min_child_weight=5, max_depth=6, learning_rate=0.1, gamma=0.0, colsample_bytree=0.75 \n",
      "[CV]  subsample=0.75, reg_alpha=0.05, n_estimators=300, min_child_weight=5, max_depth=6, learning_rate=0.1, gamma=0.0, colsample_bytree=0.75 -   0.0s\n",
      "[CV] subsample=0.75, reg_alpha=0.05, n_estimators=300, min_child_weight=5, max_depth=6, learning_rate=0.1, gamma=0.0, colsample_bytree=0.75 \n"
     ]
    },
    {
     "name": "stderr",
     "output_type": "stream",
     "text": [
      "C:\\Users\\DELL PC\\Anaconda3\\lib\\site-packages\\sklearn\\preprocessing\\label.py:171: DeprecationWarning: The truth value of an empty array is ambiguous. Returning False, but in future this will result in an error. Use `array.size > 0` to check that an array is not empty.\n",
      "  if diff:\n",
      "C:\\Users\\DELL PC\\Anaconda3\\lib\\site-packages\\sklearn\\preprocessing\\label.py:171: DeprecationWarning: The truth value of an empty array is ambiguous. Returning False, but in future this will result in an error. Use `array.size > 0` to check that an array is not empty.\n",
      "  if diff:\n",
      "C:\\Users\\DELL PC\\Anaconda3\\lib\\site-packages\\sklearn\\preprocessing\\label.py:171: DeprecationWarning: The truth value of an empty array is ambiguous. Returning False, but in future this will result in an error. Use `array.size > 0` to check that an array is not empty.\n",
      "  if diff:\n"
     ]
    },
    {
     "name": "stdout",
     "output_type": "stream",
     "text": [
      "[CV]  subsample=0.75, reg_alpha=0.05, n_estimators=300, min_child_weight=5, max_depth=6, learning_rate=0.1, gamma=0.0, colsample_bytree=0.75 -   0.0s\n",
      "[CV] subsample=0.75, reg_alpha=100, n_estimators=700, min_child_weight=5, max_depth=6, learning_rate=0.05, gamma=0.4, colsample_bytree=0.85 \n",
      "[CV]  subsample=0.75, reg_alpha=100, n_estimators=700, min_child_weight=5, max_depth=6, learning_rate=0.05, gamma=0.4, colsample_bytree=0.85 -   0.0s\n",
      "[CV] subsample=0.75, reg_alpha=100, n_estimators=700, min_child_weight=5, max_depth=6, learning_rate=0.05, gamma=0.4, colsample_bytree=0.85 \n",
      "[CV]  subsample=0.75, reg_alpha=100, n_estimators=700, min_child_weight=5, max_depth=6, learning_rate=0.05, gamma=0.4, colsample_bytree=0.85 -   0.0s\n",
      "[CV] subsample=0.75, reg_alpha=100, n_estimators=700, min_child_weight=5, max_depth=6, learning_rate=0.05, gamma=0.4, colsample_bytree=0.85 \n"
     ]
    },
    {
     "name": "stderr",
     "output_type": "stream",
     "text": [
      "C:\\Users\\DELL PC\\Anaconda3\\lib\\site-packages\\sklearn\\preprocessing\\label.py:171: DeprecationWarning: The truth value of an empty array is ambiguous. Returning False, but in future this will result in an error. Use `array.size > 0` to check that an array is not empty.\n",
      "  if diff:\n",
      "C:\\Users\\DELL PC\\Anaconda3\\lib\\site-packages\\sklearn\\preprocessing\\label.py:171: DeprecationWarning: The truth value of an empty array is ambiguous. Returning False, but in future this will result in an error. Use `array.size > 0` to check that an array is not empty.\n",
      "  if diff:\n",
      "C:\\Users\\DELL PC\\Anaconda3\\lib\\site-packages\\sklearn\\preprocessing\\label.py:171: DeprecationWarning: The truth value of an empty array is ambiguous. Returning False, but in future this will result in an error. Use `array.size > 0` to check that an array is not empty.\n",
      "  if diff:\n",
      "C:\\Users\\DELL PC\\Anaconda3\\lib\\site-packages\\sklearn\\preprocessing\\label.py:171: DeprecationWarning: The truth value of an empty array is ambiguous. Returning False, but in future this will result in an error. Use `array.size > 0` to check that an array is not empty.\n",
      "  if diff:\n"
     ]
    },
    {
     "name": "stdout",
     "output_type": "stream",
     "text": [
      "[CV]  subsample=0.75, reg_alpha=100, n_estimators=700, min_child_weight=5, max_depth=6, learning_rate=0.05, gamma=0.4, colsample_bytree=0.85 -   0.0s\n",
      "[CV] subsample=0.75, reg_alpha=100, n_estimators=700, min_child_weight=5, max_depth=6, learning_rate=0.05, gamma=0.4, colsample_bytree=0.85 \n",
      "[CV]  subsample=0.75, reg_alpha=100, n_estimators=700, min_child_weight=5, max_depth=6, learning_rate=0.05, gamma=0.4, colsample_bytree=0.85 -   0.0s\n",
      "[CV] subsample=0.75, reg_alpha=100, n_estimators=700, min_child_weight=5, max_depth=6, learning_rate=0.05, gamma=0.4, colsample_bytree=0.85 \n",
      "[CV]  subsample=0.75, reg_alpha=100, n_estimators=700, min_child_weight=5, max_depth=6, learning_rate=0.05, gamma=0.4, colsample_bytree=0.85 -   0.0s\n",
      "[CV] subsample=0.75, reg_alpha=0.001, n_estimators=30, min_child_weight=1, max_depth=6, learning_rate=0.25, gamma=0.1, colsample_bytree=0.75 \n",
      "[CV]  subsample=0.75, reg_alpha=0.001, n_estimators=30, min_child_weight=1, max_depth=6, learning_rate=0.25, gamma=0.1, colsample_bytree=0.75 -   0.0s\n",
      "[CV] subsample=0.75, reg_alpha=0.001, n_estimators=30, min_child_weight=1, max_depth=6, learning_rate=0.25, gamma=0.1, colsample_bytree=0.75 \n"
     ]
    },
    {
     "name": "stderr",
     "output_type": "stream",
     "text": [
      "C:\\Users\\DELL PC\\Anaconda3\\lib\\site-packages\\sklearn\\preprocessing\\label.py:171: DeprecationWarning: The truth value of an empty array is ambiguous. Returning False, but in future this will result in an error. Use `array.size > 0` to check that an array is not empty.\n",
      "  if diff:\n",
      "C:\\Users\\DELL PC\\Anaconda3\\lib\\site-packages\\sklearn\\preprocessing\\label.py:171: DeprecationWarning: The truth value of an empty array is ambiguous. Returning False, but in future this will result in an error. Use `array.size > 0` to check that an array is not empty.\n",
      "  if diff:\n",
      "C:\\Users\\DELL PC\\Anaconda3\\lib\\site-packages\\sklearn\\preprocessing\\label.py:171: DeprecationWarning: The truth value of an empty array is ambiguous. Returning False, but in future this will result in an error. Use `array.size > 0` to check that an array is not empty.\n",
      "  if diff:\n",
      "C:\\Users\\DELL PC\\Anaconda3\\lib\\site-packages\\sklearn\\preprocessing\\label.py:171: DeprecationWarning: The truth value of an empty array is ambiguous. Returning False, but in future this will result in an error. Use `array.size > 0` to check that an array is not empty.\n",
      "  if diff:\n",
      "C:\\Users\\DELL PC\\Anaconda3\\lib\\site-packages\\sklearn\\preprocessing\\label.py:171: DeprecationWarning: The truth value of an empty array is ambiguous. Returning False, but in future this will result in an error. Use `array.size > 0` to check that an array is not empty.\n",
      "  if diff:\n",
      "C:\\Users\\DELL PC\\Anaconda3\\lib\\site-packages\\sklearn\\preprocessing\\label.py:171: DeprecationWarning: The truth value of an empty array is ambiguous. Returning False, but in future this will result in an error. Use `array.size > 0` to check that an array is not empty.\n",
      "  if diff:\n",
      "C:\\Users\\DELL PC\\Anaconda3\\lib\\site-packages\\sklearn\\preprocessing\\label.py:171: DeprecationWarning: The truth value of an empty array is ambiguous. Returning False, but in future this will result in an error. Use `array.size > 0` to check that an array is not empty.\n",
      "  if diff:\n",
      "C:\\Users\\DELL PC\\Anaconda3\\lib\\site-packages\\sklearn\\preprocessing\\label.py:171: DeprecationWarning: The truth value of an empty array is ambiguous. Returning False, but in future this will result in an error. Use `array.size > 0` to check that an array is not empty.\n",
      "  if diff:\n",
      "C:\\Users\\DELL PC\\Anaconda3\\lib\\site-packages\\sklearn\\preprocessing\\label.py:171: DeprecationWarning: The truth value of an empty array is ambiguous. Returning False, but in future this will result in an error. Use `array.size > 0` to check that an array is not empty.\n",
      "  if diff:\n"
     ]
    },
    {
     "name": "stdout",
     "output_type": "stream",
     "text": [
      "[CV]  subsample=0.75, reg_alpha=0.001, n_estimators=30, min_child_weight=1, max_depth=6, learning_rate=0.25, gamma=0.1, colsample_bytree=0.75 -   0.0s\n",
      "[CV] subsample=0.75, reg_alpha=0.001, n_estimators=30, min_child_weight=1, max_depth=6, learning_rate=0.25, gamma=0.1, colsample_bytree=0.75 \n",
      "[CV]  subsample=0.75, reg_alpha=0.001, n_estimators=30, min_child_weight=1, max_depth=6, learning_rate=0.25, gamma=0.1, colsample_bytree=0.75 -   0.0s\n",
      "[CV] subsample=0.75, reg_alpha=0.001, n_estimators=30, min_child_weight=1, max_depth=6, learning_rate=0.25, gamma=0.1, colsample_bytree=0.75 \n",
      "[CV]  subsample=0.75, reg_alpha=0.001, n_estimators=30, min_child_weight=1, max_depth=6, learning_rate=0.25, gamma=0.1, colsample_bytree=0.75 -   0.0s\n",
      "[CV] subsample=0.75, reg_alpha=0.001, n_estimators=30, min_child_weight=1, max_depth=6, learning_rate=0.25, gamma=0.1, colsample_bytree=0.75 \n",
      "[CV]  subsample=0.75, reg_alpha=0.001, n_estimators=30, min_child_weight=1, max_depth=6, learning_rate=0.25, gamma=0.1, colsample_bytree=0.75 -   0.0s\n",
      "[CV] subsample=0.8, reg_alpha=1e-05, n_estimators=10, min_child_weight=9, max_depth=4, learning_rate=0.01, gamma=0.1, colsample_bytree=0.85 \n",
      "[CV]  subsample=0.8, reg_alpha=1e-05, n_estimators=10, min_child_weight=9, max_depth=4, learning_rate=0.01, gamma=0.1, colsample_bytree=0.85 -   0.0s\n",
      "[CV] subsample=0.8, reg_alpha=1e-05, n_estimators=10, min_child_weight=9, max_depth=4, learning_rate=0.01, gamma=0.1, colsample_bytree=0.85 \n",
      "[CV]  subsample=0.8, reg_alpha=1e-05, n_estimators=10, min_child_weight=9, max_depth=4, learning_rate=0.01, gamma=0.1, colsample_bytree=0.85 -   0.0s\n",
      "[CV] subsample=0.8, reg_alpha=1e-05, n_estimators=10, min_child_weight=9, max_depth=4, learning_rate=0.01, gamma=0.1, colsample_bytree=0.85 \n",
      "[CV]  subsample=0.8, reg_alpha=1e-05, n_estimators=10, min_child_weight=9, max_depth=4, learning_rate=0.01, gamma=0.1, colsample_bytree=0.85 -   0.0s\n",
      "[CV] subsample=0.8, reg_alpha=1e-05, n_estimators=10, min_child_weight=9, max_depth=4, learning_rate=0.01, gamma=0.1, colsample_bytree=0.85 \n",
      "[CV]  subsample=0.8, reg_alpha=1e-05, n_estimators=10, min_child_weight=9, max_depth=4, learning_rate=0.01, gamma=0.1, colsample_bytree=0.85 -   0.0s\n",
      "[CV] subsample=0.8, reg_alpha=1e-05, n_estimators=10, min_child_weight=9, max_depth=4, learning_rate=0.01, gamma=0.1, colsample_bytree=0.85 \n",
      "[CV]  subsample=0.8, reg_alpha=1e-05, n_estimators=10, min_child_weight=9, max_depth=4, learning_rate=0.01, gamma=0.1, colsample_bytree=0.85 -   0.0s\n",
      "[CV] subsample=0.75, reg_alpha=0, n_estimators=500, min_child_weight=7, max_depth=5, learning_rate=0.21, gamma=0.3, colsample_bytree=0.85 \n"
     ]
    },
    {
     "name": "stderr",
     "output_type": "stream",
     "text": [
      "C:\\Users\\DELL PC\\Anaconda3\\lib\\site-packages\\sklearn\\preprocessing\\label.py:171: DeprecationWarning: The truth value of an empty array is ambiguous. Returning False, but in future this will result in an error. Use `array.size > 0` to check that an array is not empty.\n",
      "  if diff:\n",
      "C:\\Users\\DELL PC\\Anaconda3\\lib\\site-packages\\sklearn\\preprocessing\\label.py:171: DeprecationWarning: The truth value of an empty array is ambiguous. Returning False, but in future this will result in an error. Use `array.size > 0` to check that an array is not empty.\n",
      "  if diff:\n"
     ]
    },
    {
     "name": "stdout",
     "output_type": "stream",
     "text": [
      "[CV]  subsample=0.75, reg_alpha=0, n_estimators=500, min_child_weight=7, max_depth=5, learning_rate=0.21, gamma=0.3, colsample_bytree=0.85 -   0.1s\n",
      "[CV] subsample=0.75, reg_alpha=0, n_estimators=500, min_child_weight=7, max_depth=5, learning_rate=0.21, gamma=0.3, colsample_bytree=0.85 \n",
      "[CV]  subsample=0.75, reg_alpha=0, n_estimators=500, min_child_weight=7, max_depth=5, learning_rate=0.21, gamma=0.3, colsample_bytree=0.85 -   0.0s\n",
      "[CV] subsample=0.75, reg_alpha=0, n_estimators=500, min_child_weight=7, max_depth=5, learning_rate=0.21, gamma=0.3, colsample_bytree=0.85 \n"
     ]
    },
    {
     "name": "stderr",
     "output_type": "stream",
     "text": [
      "C:\\Users\\DELL PC\\Anaconda3\\lib\\site-packages\\sklearn\\preprocessing\\label.py:171: DeprecationWarning: The truth value of an empty array is ambiguous. Returning False, but in future this will result in an error. Use `array.size > 0` to check that an array is not empty.\n",
      "  if diff:\n",
      "C:\\Users\\DELL PC\\Anaconda3\\lib\\site-packages\\sklearn\\preprocessing\\label.py:171: DeprecationWarning: The truth value of an empty array is ambiguous. Returning False, but in future this will result in an error. Use `array.size > 0` to check that an array is not empty.\n",
      "  if diff:\n"
     ]
    },
    {
     "name": "stdout",
     "output_type": "stream",
     "text": [
      "[CV]  subsample=0.75, reg_alpha=0, n_estimators=500, min_child_weight=7, max_depth=5, learning_rate=0.21, gamma=0.3, colsample_bytree=0.85 -   0.1s\n",
      "[CV] subsample=0.75, reg_alpha=0, n_estimators=500, min_child_weight=7, max_depth=5, learning_rate=0.21, gamma=0.3, colsample_bytree=0.85 \n",
      "[CV]  subsample=0.75, reg_alpha=0, n_estimators=500, min_child_weight=7, max_depth=5, learning_rate=0.21, gamma=0.3, colsample_bytree=0.85 -   0.0s\n",
      "[CV] subsample=0.75, reg_alpha=0, n_estimators=500, min_child_weight=7, max_depth=5, learning_rate=0.21, gamma=0.3, colsample_bytree=0.85 \n"
     ]
    },
    {
     "name": "stderr",
     "output_type": "stream",
     "text": [
      "C:\\Users\\DELL PC\\Anaconda3\\lib\\site-packages\\sklearn\\preprocessing\\label.py:171: DeprecationWarning: The truth value of an empty array is ambiguous. Returning False, but in future this will result in an error. Use `array.size > 0` to check that an array is not empty.\n",
      "  if diff:\n",
      "C:\\Users\\DELL PC\\Anaconda3\\lib\\site-packages\\sklearn\\preprocessing\\label.py:171: DeprecationWarning: The truth value of an empty array is ambiguous. Returning False, but in future this will result in an error. Use `array.size > 0` to check that an array is not empty.\n",
      "  if diff:\n",
      "C:\\Users\\DELL PC\\Anaconda3\\lib\\site-packages\\sklearn\\preprocessing\\label.py:171: DeprecationWarning: The truth value of an empty array is ambiguous. Returning False, but in future this will result in an error. Use `array.size > 0` to check that an array is not empty.\n",
      "  if diff:\n",
      "C:\\Users\\DELL PC\\Anaconda3\\lib\\site-packages\\sklearn\\preprocessing\\label.py:171: DeprecationWarning: The truth value of an empty array is ambiguous. Returning False, but in future this will result in an error. Use `array.size > 0` to check that an array is not empty.\n",
      "  if diff:\n",
      "C:\\Users\\DELL PC\\Anaconda3\\lib\\site-packages\\sklearn\\preprocessing\\label.py:171: DeprecationWarning: The truth value of an empty array is ambiguous. Returning False, but in future this will result in an error. Use `array.size > 0` to check that an array is not empty.\n",
      "  if diff:\n",
      "C:\\Users\\DELL PC\\Anaconda3\\lib\\site-packages\\sklearn\\preprocessing\\label.py:171: DeprecationWarning: The truth value of an empty array is ambiguous. Returning False, but in future this will result in an error. Use `array.size > 0` to check that an array is not empty.\n",
      "  if diff:\n",
      "C:\\Users\\DELL PC\\Anaconda3\\lib\\site-packages\\sklearn\\preprocessing\\label.py:171: DeprecationWarning: The truth value of an empty array is ambiguous. Returning False, but in future this will result in an error. Use `array.size > 0` to check that an array is not empty.\n",
      "  if diff:\n"
     ]
    },
    {
     "name": "stdout",
     "output_type": "stream",
     "text": [
      "[CV]  subsample=0.75, reg_alpha=0, n_estimators=500, min_child_weight=7, max_depth=5, learning_rate=0.21, gamma=0.3, colsample_bytree=0.85 -   0.1s\n",
      "[CV] subsample=0.85, reg_alpha=0.001, n_estimators=30, min_child_weight=3, max_depth=5, learning_rate=0.01, gamma=0.4, colsample_bytree=0.75 \n",
      "[CV]  subsample=0.85, reg_alpha=0.001, n_estimators=30, min_child_weight=3, max_depth=5, learning_rate=0.01, gamma=0.4, colsample_bytree=0.75 -   0.0s\n",
      "[CV] subsample=0.85, reg_alpha=0.001, n_estimators=30, min_child_weight=3, max_depth=5, learning_rate=0.01, gamma=0.4, colsample_bytree=0.75 \n",
      "[CV]  subsample=0.85, reg_alpha=0.001, n_estimators=30, min_child_weight=3, max_depth=5, learning_rate=0.01, gamma=0.4, colsample_bytree=0.75 -   0.0s\n",
      "[CV] subsample=0.85, reg_alpha=0.001, n_estimators=30, min_child_weight=3, max_depth=5, learning_rate=0.01, gamma=0.4, colsample_bytree=0.75 \n",
      "[CV]  subsample=0.85, reg_alpha=0.001, n_estimators=30, min_child_weight=3, max_depth=5, learning_rate=0.01, gamma=0.4, colsample_bytree=0.75 -   0.0s\n",
      "[CV] subsample=0.85, reg_alpha=0.001, n_estimators=30, min_child_weight=3, max_depth=5, learning_rate=0.01, gamma=0.4, colsample_bytree=0.75 \n",
      "[CV]  subsample=0.85, reg_alpha=0.001, n_estimators=30, min_child_weight=3, max_depth=5, learning_rate=0.01, gamma=0.4, colsample_bytree=0.75 -   0.0s\n",
      "[CV] subsample=0.85, reg_alpha=0.001, n_estimators=30, min_child_weight=3, max_depth=5, learning_rate=0.01, gamma=0.4, colsample_bytree=0.75 \n",
      "[CV]  subsample=0.85, reg_alpha=0.001, n_estimators=30, min_child_weight=3, max_depth=5, learning_rate=0.01, gamma=0.4, colsample_bytree=0.75 -   0.0s\n",
      "[CV] subsample=0.75, reg_alpha=0.05, n_estimators=300, min_child_weight=5, max_depth=6, learning_rate=0.15, gamma=0.2, colsample_bytree=0.75 \n",
      "[CV]  subsample=0.75, reg_alpha=0.05, n_estimators=300, min_child_weight=5, max_depth=6, learning_rate=0.15, gamma=0.2, colsample_bytree=0.75 -   0.0s\n",
      "[CV] subsample=0.75, reg_alpha=0.05, n_estimators=300, min_child_weight=5, max_depth=6, learning_rate=0.15, gamma=0.2, colsample_bytree=0.75 \n"
     ]
    },
    {
     "name": "stderr",
     "output_type": "stream",
     "text": [
      "C:\\Users\\DELL PC\\Anaconda3\\lib\\site-packages\\sklearn\\preprocessing\\label.py:171: DeprecationWarning: The truth value of an empty array is ambiguous. Returning False, but in future this will result in an error. Use `array.size > 0` to check that an array is not empty.\n",
      "  if diff:\n",
      "C:\\Users\\DELL PC\\Anaconda3\\lib\\site-packages\\sklearn\\preprocessing\\label.py:171: DeprecationWarning: The truth value of an empty array is ambiguous. Returning False, but in future this will result in an error. Use `array.size > 0` to check that an array is not empty.\n",
      "  if diff:\n"
     ]
    },
    {
     "name": "stdout",
     "output_type": "stream",
     "text": [
      "[CV]  subsample=0.75, reg_alpha=0.05, n_estimators=300, min_child_weight=5, max_depth=6, learning_rate=0.15, gamma=0.2, colsample_bytree=0.75 -   0.0s\n",
      "[CV] subsample=0.75, reg_alpha=0.05, n_estimators=300, min_child_weight=5, max_depth=6, learning_rate=0.15, gamma=0.2, colsample_bytree=0.75 \n",
      "[CV]  subsample=0.75, reg_alpha=0.05, n_estimators=300, min_child_weight=5, max_depth=6, learning_rate=0.15, gamma=0.2, colsample_bytree=0.75 -   0.0s\n",
      "[CV] subsample=0.75, reg_alpha=0.05, n_estimators=300, min_child_weight=5, max_depth=6, learning_rate=0.15, gamma=0.2, colsample_bytree=0.75 \n"
     ]
    },
    {
     "name": "stderr",
     "output_type": "stream",
     "text": [
      "C:\\Users\\DELL PC\\Anaconda3\\lib\\site-packages\\sklearn\\preprocessing\\label.py:171: DeprecationWarning: The truth value of an empty array is ambiguous. Returning False, but in future this will result in an error. Use `array.size > 0` to check that an array is not empty.\n",
      "  if diff:\n",
      "C:\\Users\\DELL PC\\Anaconda3\\lib\\site-packages\\sklearn\\preprocessing\\label.py:171: DeprecationWarning: The truth value of an empty array is ambiguous. Returning False, but in future this will result in an error. Use `array.size > 0` to check that an array is not empty.\n",
      "  if diff:\n",
      "C:\\Users\\DELL PC\\Anaconda3\\lib\\site-packages\\sklearn\\preprocessing\\label.py:171: DeprecationWarning: The truth value of an empty array is ambiguous. Returning False, but in future this will result in an error. Use `array.size > 0` to check that an array is not empty.\n",
      "  if diff:\n"
     ]
    },
    {
     "name": "stdout",
     "output_type": "stream",
     "text": [
      "[CV]  subsample=0.75, reg_alpha=0.05, n_estimators=300, min_child_weight=5, max_depth=6, learning_rate=0.15, gamma=0.2, colsample_bytree=0.75 -   0.0s\n",
      "[CV] subsample=0.75, reg_alpha=0.05, n_estimators=300, min_child_weight=5, max_depth=6, learning_rate=0.15, gamma=0.2, colsample_bytree=0.75 \n",
      "[CV]  subsample=0.75, reg_alpha=0.05, n_estimators=300, min_child_weight=5, max_depth=6, learning_rate=0.15, gamma=0.2, colsample_bytree=0.75 -   0.0s\n",
      "[CV] subsample=0.85, reg_alpha=0.001, n_estimators=60, min_child_weight=1, max_depth=9, learning_rate=0.05, gamma=0.0, colsample_bytree=0.75 \n",
      "[CV]  subsample=0.85, reg_alpha=0.001, n_estimators=60, min_child_weight=1, max_depth=9, learning_rate=0.05, gamma=0.0, colsample_bytree=0.75 -   0.0s\n",
      "[CV] subsample=0.85, reg_alpha=0.001, n_estimators=60, min_child_weight=1, max_depth=9, learning_rate=0.05, gamma=0.0, colsample_bytree=0.75 \n"
     ]
    },
    {
     "name": "stderr",
     "output_type": "stream",
     "text": [
      "C:\\Users\\DELL PC\\Anaconda3\\lib\\site-packages\\sklearn\\preprocessing\\label.py:171: DeprecationWarning: The truth value of an empty array is ambiguous. Returning False, but in future this will result in an error. Use `array.size > 0` to check that an array is not empty.\n",
      "  if diff:\n",
      "C:\\Users\\DELL PC\\Anaconda3\\lib\\site-packages\\sklearn\\preprocessing\\label.py:171: DeprecationWarning: The truth value of an empty array is ambiguous. Returning False, but in future this will result in an error. Use `array.size > 0` to check that an array is not empty.\n",
      "  if diff:\n",
      "C:\\Users\\DELL PC\\Anaconda3\\lib\\site-packages\\sklearn\\preprocessing\\label.py:171: DeprecationWarning: The truth value of an empty array is ambiguous. Returning False, but in future this will result in an error. Use `array.size > 0` to check that an array is not empty.\n",
      "  if diff:\n",
      "C:\\Users\\DELL PC\\Anaconda3\\lib\\site-packages\\sklearn\\preprocessing\\label.py:171: DeprecationWarning: The truth value of an empty array is ambiguous. Returning False, but in future this will result in an error. Use `array.size > 0` to check that an array is not empty.\n",
      "  if diff:\n"
     ]
    },
    {
     "name": "stdout",
     "output_type": "stream",
     "text": [
      "[CV]  subsample=0.85, reg_alpha=0.001, n_estimators=60, min_child_weight=1, max_depth=9, learning_rate=0.05, gamma=0.0, colsample_bytree=0.75 -   0.0s\n",
      "[CV] subsample=0.85, reg_alpha=0.001, n_estimators=60, min_child_weight=1, max_depth=9, learning_rate=0.05, gamma=0.0, colsample_bytree=0.75 \n",
      "[CV]  subsample=0.85, reg_alpha=0.001, n_estimators=60, min_child_weight=1, max_depth=9, learning_rate=0.05, gamma=0.0, colsample_bytree=0.75 -   0.0s\n",
      "[CV] subsample=0.85, reg_alpha=0.001, n_estimators=60, min_child_weight=1, max_depth=9, learning_rate=0.05, gamma=0.0, colsample_bytree=0.75 \n",
      "[CV]  subsample=0.85, reg_alpha=0.001, n_estimators=60, min_child_weight=1, max_depth=9, learning_rate=0.05, gamma=0.0, colsample_bytree=0.75 -   0.0s\n",
      "[CV] subsample=0.85, reg_alpha=0.001, n_estimators=60, min_child_weight=1, max_depth=9, learning_rate=0.05, gamma=0.0, colsample_bytree=0.75 \n",
      "[CV]  subsample=0.85, reg_alpha=0.001, n_estimators=60, min_child_weight=1, max_depth=9, learning_rate=0.05, gamma=0.0, colsample_bytree=0.75 -   0.0s\n",
      "[CV] subsample=0.75, reg_alpha=0.01, n_estimators=500, min_child_weight=7, max_depth=7, learning_rate=0.21, gamma=0.3, colsample_bytree=0.8 \n"
     ]
    },
    {
     "name": "stderr",
     "output_type": "stream",
     "text": [
      "C:\\Users\\DELL PC\\Anaconda3\\lib\\site-packages\\sklearn\\preprocessing\\label.py:171: DeprecationWarning: The truth value of an empty array is ambiguous. Returning False, but in future this will result in an error. Use `array.size > 0` to check that an array is not empty.\n",
      "  if diff:\n"
     ]
    },
    {
     "name": "stdout",
     "output_type": "stream",
     "text": [
      "[CV]  subsample=0.75, reg_alpha=0.01, n_estimators=500, min_child_weight=7, max_depth=7, learning_rate=0.21, gamma=0.3, colsample_bytree=0.8 -   0.1s\n",
      "[CV] subsample=0.75, reg_alpha=0.01, n_estimators=500, min_child_weight=7, max_depth=7, learning_rate=0.21, gamma=0.3, colsample_bytree=0.8 \n"
     ]
    },
    {
     "name": "stderr",
     "output_type": "stream",
     "text": [
      "C:\\Users\\DELL PC\\Anaconda3\\lib\\site-packages\\sklearn\\preprocessing\\label.py:171: DeprecationWarning: The truth value of an empty array is ambiguous. Returning False, but in future this will result in an error. Use `array.size > 0` to check that an array is not empty.\n",
      "  if diff:\n"
     ]
    },
    {
     "name": "stdout",
     "output_type": "stream",
     "text": [
      "[CV]  subsample=0.75, reg_alpha=0.01, n_estimators=500, min_child_weight=7, max_depth=7, learning_rate=0.21, gamma=0.3, colsample_bytree=0.8 -   0.1s\n",
      "[CV] subsample=0.75, reg_alpha=0.01, n_estimators=500, min_child_weight=7, max_depth=7, learning_rate=0.21, gamma=0.3, colsample_bytree=0.8 \n"
     ]
    },
    {
     "name": "stderr",
     "output_type": "stream",
     "text": [
      "C:\\Users\\DELL PC\\Anaconda3\\lib\\site-packages\\sklearn\\preprocessing\\label.py:171: DeprecationWarning: The truth value of an empty array is ambiguous. Returning False, but in future this will result in an error. Use `array.size > 0` to check that an array is not empty.\n",
      "  if diff:\n",
      "C:\\Users\\DELL PC\\Anaconda3\\lib\\site-packages\\sklearn\\preprocessing\\label.py:171: DeprecationWarning: The truth value of an empty array is ambiguous. Returning False, but in future this will result in an error. Use `array.size > 0` to check that an array is not empty.\n",
      "  if diff:\n"
     ]
    },
    {
     "name": "stdout",
     "output_type": "stream",
     "text": [
      "[CV]  subsample=0.75, reg_alpha=0.01, n_estimators=500, min_child_weight=7, max_depth=7, learning_rate=0.21, gamma=0.3, colsample_bytree=0.8 -   0.1s\n",
      "[CV] subsample=0.75, reg_alpha=0.01, n_estimators=500, min_child_weight=7, max_depth=7, learning_rate=0.21, gamma=0.3, colsample_bytree=0.8 \n",
      "[CV]  subsample=0.75, reg_alpha=0.01, n_estimators=500, min_child_weight=7, max_depth=7, learning_rate=0.21, gamma=0.3, colsample_bytree=0.8 -   0.1s\n",
      "[CV] subsample=0.75, reg_alpha=0.01, n_estimators=500, min_child_weight=7, max_depth=7, learning_rate=0.21, gamma=0.3, colsample_bytree=0.8 \n"
     ]
    },
    {
     "name": "stderr",
     "output_type": "stream",
     "text": [
      "C:\\Users\\DELL PC\\Anaconda3\\lib\\site-packages\\sklearn\\preprocessing\\label.py:171: DeprecationWarning: The truth value of an empty array is ambiguous. Returning False, but in future this will result in an error. Use `array.size > 0` to check that an array is not empty.\n",
      "  if diff:\n",
      "C:\\Users\\DELL PC\\Anaconda3\\lib\\site-packages\\sklearn\\preprocessing\\label.py:171: DeprecationWarning: The truth value of an empty array is ambiguous. Returning False, but in future this will result in an error. Use `array.size > 0` to check that an array is not empty.\n",
      "  if diff:\n",
      "C:\\Users\\DELL PC\\Anaconda3\\lib\\site-packages\\sklearn\\preprocessing\\label.py:171: DeprecationWarning: The truth value of an empty array is ambiguous. Returning False, but in future this will result in an error. Use `array.size > 0` to check that an array is not empty.\n",
      "  if diff:\n",
      "C:\\Users\\DELL PC\\Anaconda3\\lib\\site-packages\\sklearn\\preprocessing\\label.py:171: DeprecationWarning: The truth value of an empty array is ambiguous. Returning False, but in future this will result in an error. Use `array.size > 0` to check that an array is not empty.\n",
      "  if diff:\n",
      "C:\\Users\\DELL PC\\Anaconda3\\lib\\site-packages\\sklearn\\preprocessing\\label.py:171: DeprecationWarning: The truth value of an empty array is ambiguous. Returning False, but in future this will result in an error. Use `array.size > 0` to check that an array is not empty.\n",
      "  if diff:\n",
      "C:\\Users\\DELL PC\\Anaconda3\\lib\\site-packages\\sklearn\\preprocessing\\label.py:171: DeprecationWarning: The truth value of an empty array is ambiguous. Returning False, but in future this will result in an error. Use `array.size > 0` to check that an array is not empty.\n",
      "  if diff:\n"
     ]
    },
    {
     "name": "stdout",
     "output_type": "stream",
     "text": [
      "[CV]  subsample=0.75, reg_alpha=0.01, n_estimators=500, min_child_weight=7, max_depth=7, learning_rate=0.21, gamma=0.3, colsample_bytree=0.8 -   0.1s\n",
      "[CV] subsample=0.85, reg_alpha=0, n_estimators=60, min_child_weight=5, max_depth=8, learning_rate=0.15, gamma=0.1, colsample_bytree=0.8 \n",
      "[CV]  subsample=0.85, reg_alpha=0, n_estimators=60, min_child_weight=5, max_depth=8, learning_rate=0.15, gamma=0.1, colsample_bytree=0.8 -   0.0s\n",
      "[CV] subsample=0.85, reg_alpha=0, n_estimators=60, min_child_weight=5, max_depth=8, learning_rate=0.15, gamma=0.1, colsample_bytree=0.8 \n",
      "[CV]  subsample=0.85, reg_alpha=0, n_estimators=60, min_child_weight=5, max_depth=8, learning_rate=0.15, gamma=0.1, colsample_bytree=0.8 -   0.0s\n",
      "[CV] subsample=0.85, reg_alpha=0, n_estimators=60, min_child_weight=5, max_depth=8, learning_rate=0.15, gamma=0.1, colsample_bytree=0.8 \n",
      "[CV]  subsample=0.85, reg_alpha=0, n_estimators=60, min_child_weight=5, max_depth=8, learning_rate=0.15, gamma=0.1, colsample_bytree=0.8 -   0.0s\n",
      "[CV] subsample=0.85, reg_alpha=0, n_estimators=60, min_child_weight=5, max_depth=8, learning_rate=0.15, gamma=0.1, colsample_bytree=0.8 \n",
      "[CV]  subsample=0.85, reg_alpha=0, n_estimators=60, min_child_weight=5, max_depth=8, learning_rate=0.15, gamma=0.1, colsample_bytree=0.8 -   0.0s\n",
      "[CV] subsample=0.85, reg_alpha=0, n_estimators=60, min_child_weight=5, max_depth=8, learning_rate=0.15, gamma=0.1, colsample_bytree=0.8 \n",
      "[CV]  subsample=0.85, reg_alpha=0, n_estimators=60, min_child_weight=5, max_depth=8, learning_rate=0.15, gamma=0.1, colsample_bytree=0.8 -   0.0s\n",
      "[CV] subsample=0.8, reg_alpha=0.01, n_estimators=300, min_child_weight=9, max_depth=3, learning_rate=0.001, gamma=0.2, colsample_bytree=0.75 \n"
     ]
    },
    {
     "name": "stderr",
     "output_type": "stream",
     "text": [
      "C:\\Users\\DELL PC\\Anaconda3\\lib\\site-packages\\sklearn\\preprocessing\\label.py:171: DeprecationWarning: The truth value of an empty array is ambiguous. Returning False, but in future this will result in an error. Use `array.size > 0` to check that an array is not empty.\n",
      "  if diff:\n",
      "C:\\Users\\DELL PC\\Anaconda3\\lib\\site-packages\\sklearn\\preprocessing\\label.py:171: DeprecationWarning: The truth value of an empty array is ambiguous. Returning False, but in future this will result in an error. Use `array.size > 0` to check that an array is not empty.\n",
      "  if diff:\n",
      "C:\\Users\\DELL PC\\Anaconda3\\lib\\site-packages\\sklearn\\preprocessing\\label.py:171: DeprecationWarning: The truth value of an empty array is ambiguous. Returning False, but in future this will result in an error. Use `array.size > 0` to check that an array is not empty.\n",
      "  if diff:\n"
     ]
    },
    {
     "name": "stdout",
     "output_type": "stream",
     "text": [
      "[CV]  subsample=0.8, reg_alpha=0.01, n_estimators=300, min_child_weight=9, max_depth=3, learning_rate=0.001, gamma=0.2, colsample_bytree=0.75 -   0.0s\n",
      "[CV] subsample=0.8, reg_alpha=0.01, n_estimators=300, min_child_weight=9, max_depth=3, learning_rate=0.001, gamma=0.2, colsample_bytree=0.75 \n",
      "[CV]  subsample=0.8, reg_alpha=0.01, n_estimators=300, min_child_weight=9, max_depth=3, learning_rate=0.001, gamma=0.2, colsample_bytree=0.75 -   0.0s\n",
      "[CV] subsample=0.8, reg_alpha=0.01, n_estimators=300, min_child_weight=9, max_depth=3, learning_rate=0.001, gamma=0.2, colsample_bytree=0.75 \n",
      "[CV]  subsample=0.8, reg_alpha=0.01, n_estimators=300, min_child_weight=9, max_depth=3, learning_rate=0.001, gamma=0.2, colsample_bytree=0.75 -   0.0s\n",
      "[CV] subsample=0.8, reg_alpha=0.01, n_estimators=300, min_child_weight=9, max_depth=3, learning_rate=0.001, gamma=0.2, colsample_bytree=0.75 \n"
     ]
    },
    {
     "name": "stderr",
     "output_type": "stream",
     "text": [
      "C:\\Users\\DELL PC\\Anaconda3\\lib\\site-packages\\sklearn\\preprocessing\\label.py:171: DeprecationWarning: The truth value of an empty array is ambiguous. Returning False, but in future this will result in an error. Use `array.size > 0` to check that an array is not empty.\n",
      "  if diff:\n",
      "C:\\Users\\DELL PC\\Anaconda3\\lib\\site-packages\\sklearn\\preprocessing\\label.py:171: DeprecationWarning: The truth value of an empty array is ambiguous. Returning False, but in future this will result in an error. Use `array.size > 0` to check that an array is not empty.\n",
      "  if diff:\n",
      "C:\\Users\\DELL PC\\Anaconda3\\lib\\site-packages\\sklearn\\preprocessing\\label.py:171: DeprecationWarning: The truth value of an empty array is ambiguous. Returning False, but in future this will result in an error. Use `array.size > 0` to check that an array is not empty.\n",
      "  if diff:\n"
     ]
    },
    {
     "name": "stdout",
     "output_type": "stream",
     "text": [
      "[CV]  subsample=0.8, reg_alpha=0.01, n_estimators=300, min_child_weight=9, max_depth=3, learning_rate=0.001, gamma=0.2, colsample_bytree=0.75 -   0.0s\n",
      "[CV] subsample=0.8, reg_alpha=0.01, n_estimators=300, min_child_weight=9, max_depth=3, learning_rate=0.001, gamma=0.2, colsample_bytree=0.75 \n",
      "[CV]  subsample=0.8, reg_alpha=0.01, n_estimators=300, min_child_weight=9, max_depth=3, learning_rate=0.001, gamma=0.2, colsample_bytree=0.75 -   0.0s\n",
      "[CV] subsample=0.75, reg_alpha=1, n_estimators=300, min_child_weight=7, max_depth=5, learning_rate=0.1, gamma=0.4, colsample_bytree=0.8 \n",
      "[CV]  subsample=0.75, reg_alpha=1, n_estimators=300, min_child_weight=7, max_depth=5, learning_rate=0.1, gamma=0.4, colsample_bytree=0.8 -   0.0s\n",
      "[CV] subsample=0.75, reg_alpha=1, n_estimators=300, min_child_weight=7, max_depth=5, learning_rate=0.1, gamma=0.4, colsample_bytree=0.8 \n"
     ]
    },
    {
     "name": "stderr",
     "output_type": "stream",
     "text": [
      "C:\\Users\\DELL PC\\Anaconda3\\lib\\site-packages\\sklearn\\preprocessing\\label.py:171: DeprecationWarning: The truth value of an empty array is ambiguous. Returning False, but in future this will result in an error. Use `array.size > 0` to check that an array is not empty.\n",
      "  if diff:\n",
      "C:\\Users\\DELL PC\\Anaconda3\\lib\\site-packages\\sklearn\\preprocessing\\label.py:171: DeprecationWarning: The truth value of an empty array is ambiguous. Returning False, but in future this will result in an error. Use `array.size > 0` to check that an array is not empty.\n",
      "  if diff:\n",
      "C:\\Users\\DELL PC\\Anaconda3\\lib\\site-packages\\sklearn\\preprocessing\\label.py:171: DeprecationWarning: The truth value of an empty array is ambiguous. Returning False, but in future this will result in an error. Use `array.size > 0` to check that an array is not empty.\n",
      "  if diff:\n"
     ]
    },
    {
     "name": "stdout",
     "output_type": "stream",
     "text": [
      "[CV]  subsample=0.75, reg_alpha=1, n_estimators=300, min_child_weight=7, max_depth=5, learning_rate=0.1, gamma=0.4, colsample_bytree=0.8 -   0.0s\n",
      "[CV] subsample=0.75, reg_alpha=1, n_estimators=300, min_child_weight=7, max_depth=5, learning_rate=0.1, gamma=0.4, colsample_bytree=0.8 \n",
      "[CV]  subsample=0.75, reg_alpha=1, n_estimators=300, min_child_weight=7, max_depth=5, learning_rate=0.1, gamma=0.4, colsample_bytree=0.8 -   0.0s\n",
      "[CV] subsample=0.75, reg_alpha=1, n_estimators=300, min_child_weight=7, max_depth=5, learning_rate=0.1, gamma=0.4, colsample_bytree=0.8 \n",
      "[CV]  subsample=0.75, reg_alpha=1, n_estimators=300, min_child_weight=7, max_depth=5, learning_rate=0.1, gamma=0.4, colsample_bytree=0.8 -   0.0s\n",
      "[CV] subsample=0.75, reg_alpha=1, n_estimators=300, min_child_weight=7, max_depth=5, learning_rate=0.1, gamma=0.4, colsample_bytree=0.8 \n"
     ]
    },
    {
     "name": "stderr",
     "output_type": "stream",
     "text": [
      "C:\\Users\\DELL PC\\Anaconda3\\lib\\site-packages\\sklearn\\preprocessing\\label.py:171: DeprecationWarning: The truth value of an empty array is ambiguous. Returning False, but in future this will result in an error. Use `array.size > 0` to check that an array is not empty.\n",
      "  if diff:\n",
      "C:\\Users\\DELL PC\\Anaconda3\\lib\\site-packages\\sklearn\\preprocessing\\label.py:171: DeprecationWarning: The truth value of an empty array is ambiguous. Returning False, but in future this will result in an error. Use `array.size > 0` to check that an array is not empty.\n",
      "  if diff:\n",
      "C:\\Users\\DELL PC\\Anaconda3\\lib\\site-packages\\sklearn\\preprocessing\\label.py:171: DeprecationWarning: The truth value of an empty array is ambiguous. Returning False, but in future this will result in an error. Use `array.size > 0` to check that an array is not empty.\n",
      "  if diff:\n",
      "C:\\Users\\DELL PC\\Anaconda3\\lib\\site-packages\\sklearn\\preprocessing\\label.py:171: DeprecationWarning: The truth value of an empty array is ambiguous. Returning False, but in future this will result in an error. Use `array.size > 0` to check that an array is not empty.\n",
      "  if diff:\n",
      "C:\\Users\\DELL PC\\Anaconda3\\lib\\site-packages\\sklearn\\preprocessing\\label.py:171: DeprecationWarning: The truth value of an empty array is ambiguous. Returning False, but in future this will result in an error. Use `array.size > 0` to check that an array is not empty.\n",
      "  if diff:\n",
      "C:\\Users\\DELL PC\\Anaconda3\\lib\\site-packages\\sklearn\\preprocessing\\label.py:171: DeprecationWarning: The truth value of an empty array is ambiguous. Returning False, but in future this will result in an error. Use `array.size > 0` to check that an array is not empty.\n",
      "  if diff:\n"
     ]
    },
    {
     "name": "stdout",
     "output_type": "stream",
     "text": [
      "[CV]  subsample=0.75, reg_alpha=1, n_estimators=300, min_child_weight=7, max_depth=5, learning_rate=0.1, gamma=0.4, colsample_bytree=0.8 -   0.0s\n",
      "[CV] subsample=0.8, reg_alpha=0.01, n_estimators=60, min_child_weight=5, max_depth=10, learning_rate=0.001, gamma=0.3, colsample_bytree=0.8 \n",
      "[CV]  subsample=0.8, reg_alpha=0.01, n_estimators=60, min_child_weight=5, max_depth=10, learning_rate=0.001, gamma=0.3, colsample_bytree=0.8 -   0.0s\n",
      "[CV] subsample=0.8, reg_alpha=0.01, n_estimators=60, min_child_weight=5, max_depth=10, learning_rate=0.001, gamma=0.3, colsample_bytree=0.8 \n",
      "[CV]  subsample=0.8, reg_alpha=0.01, n_estimators=60, min_child_weight=5, max_depth=10, learning_rate=0.001, gamma=0.3, colsample_bytree=0.8 -   0.0s\n",
      "[CV] subsample=0.8, reg_alpha=0.01, n_estimators=60, min_child_weight=5, max_depth=10, learning_rate=0.001, gamma=0.3, colsample_bytree=0.8 \n",
      "[CV]  subsample=0.8, reg_alpha=0.01, n_estimators=60, min_child_weight=5, max_depth=10, learning_rate=0.001, gamma=0.3, colsample_bytree=0.8 -   0.0s\n",
      "[CV] subsample=0.8, reg_alpha=0.01, n_estimators=60, min_child_weight=5, max_depth=10, learning_rate=0.001, gamma=0.3, colsample_bytree=0.8 \n",
      "[CV]  subsample=0.8, reg_alpha=0.01, n_estimators=60, min_child_weight=5, max_depth=10, learning_rate=0.001, gamma=0.3, colsample_bytree=0.8 -   0.0s\n",
      "[CV] subsample=0.8, reg_alpha=0.01, n_estimators=60, min_child_weight=5, max_depth=10, learning_rate=0.001, gamma=0.3, colsample_bytree=0.8 \n",
      "[CV]  subsample=0.8, reg_alpha=0.01, n_estimators=60, min_child_weight=5, max_depth=10, learning_rate=0.001, gamma=0.3, colsample_bytree=0.8 -   0.0s\n",
      "[CV] subsample=0.8, reg_alpha=0.01, n_estimators=300, min_child_weight=1, max_depth=3, learning_rate=0.15, gamma=0.2, colsample_bytree=0.85 \n"
     ]
    },
    {
     "name": "stderr",
     "output_type": "stream",
     "text": [
      "C:\\Users\\DELL PC\\Anaconda3\\lib\\site-packages\\sklearn\\preprocessing\\label.py:171: DeprecationWarning: The truth value of an empty array is ambiguous. Returning False, but in future this will result in an error. Use `array.size > 0` to check that an array is not empty.\n",
      "  if diff:\n",
      "C:\\Users\\DELL PC\\Anaconda3\\lib\\site-packages\\sklearn\\preprocessing\\label.py:171: DeprecationWarning: The truth value of an empty array is ambiguous. Returning False, but in future this will result in an error. Use `array.size > 0` to check that an array is not empty.\n",
      "  if diff:\n"
     ]
    },
    {
     "name": "stdout",
     "output_type": "stream",
     "text": [
      "[CV]  subsample=0.8, reg_alpha=0.01, n_estimators=300, min_child_weight=1, max_depth=3, learning_rate=0.15, gamma=0.2, colsample_bytree=0.85 -   0.0s\n",
      "[CV] subsample=0.8, reg_alpha=0.01, n_estimators=300, min_child_weight=1, max_depth=3, learning_rate=0.15, gamma=0.2, colsample_bytree=0.85 \n",
      "[CV]  subsample=0.8, reg_alpha=0.01, n_estimators=300, min_child_weight=1, max_depth=3, learning_rate=0.15, gamma=0.2, colsample_bytree=0.85 -   0.0s\n",
      "[CV] subsample=0.8, reg_alpha=0.01, n_estimators=300, min_child_weight=1, max_depth=3, learning_rate=0.15, gamma=0.2, colsample_bytree=0.85 \n"
     ]
    },
    {
     "name": "stderr",
     "output_type": "stream",
     "text": [
      "C:\\Users\\DELL PC\\Anaconda3\\lib\\site-packages\\sklearn\\preprocessing\\label.py:171: DeprecationWarning: The truth value of an empty array is ambiguous. Returning False, but in future this will result in an error. Use `array.size > 0` to check that an array is not empty.\n",
      "  if diff:\n",
      "C:\\Users\\DELL PC\\Anaconda3\\lib\\site-packages\\sklearn\\preprocessing\\label.py:171: DeprecationWarning: The truth value of an empty array is ambiguous. Returning False, but in future this will result in an error. Use `array.size > 0` to check that an array is not empty.\n",
      "  if diff:\n",
      "C:\\Users\\DELL PC\\Anaconda3\\lib\\site-packages\\sklearn\\preprocessing\\label.py:171: DeprecationWarning: The truth value of an empty array is ambiguous. Returning False, but in future this will result in an error. Use `array.size > 0` to check that an array is not empty.\n",
      "  if diff:\n",
      "C:\\Users\\DELL PC\\Anaconda3\\lib\\site-packages\\sklearn\\preprocessing\\label.py:171: DeprecationWarning: The truth value of an empty array is ambiguous. Returning False, but in future this will result in an error. Use `array.size > 0` to check that an array is not empty.\n",
      "  if diff:\n",
      "C:\\Users\\DELL PC\\Anaconda3\\lib\\site-packages\\sklearn\\preprocessing\\label.py:171: DeprecationWarning: The truth value of an empty array is ambiguous. Returning False, but in future this will result in an error. Use `array.size > 0` to check that an array is not empty.\n",
      "  if diff:\n",
      "C:\\Users\\DELL PC\\Anaconda3\\lib\\site-packages\\sklearn\\preprocessing\\label.py:171: DeprecationWarning: The truth value of an empty array is ambiguous. Returning False, but in future this will result in an error. Use `array.size > 0` to check that an array is not empty.\n",
      "  if diff:\n"
     ]
    },
    {
     "name": "stdout",
     "output_type": "stream",
     "text": [
      "[CV]  subsample=0.8, reg_alpha=0.01, n_estimators=300, min_child_weight=1, max_depth=3, learning_rate=0.15, gamma=0.2, colsample_bytree=0.85 -   0.0s\n",
      "[CV] subsample=0.8, reg_alpha=0.01, n_estimators=300, min_child_weight=1, max_depth=3, learning_rate=0.15, gamma=0.2, colsample_bytree=0.85 \n",
      "[CV]  subsample=0.8, reg_alpha=0.01, n_estimators=300, min_child_weight=1, max_depth=3, learning_rate=0.15, gamma=0.2, colsample_bytree=0.85 -   0.0s\n",
      "[CV] subsample=0.8, reg_alpha=0.01, n_estimators=300, min_child_weight=1, max_depth=3, learning_rate=0.15, gamma=0.2, colsample_bytree=0.85 \n",
      "[CV]  subsample=0.8, reg_alpha=0.01, n_estimators=300, min_child_weight=1, max_depth=3, learning_rate=0.15, gamma=0.2, colsample_bytree=0.85 -   0.0s\n",
      "[CV] subsample=0.8, reg_alpha=0.005, n_estimators=30, min_child_weight=9, max_depth=10, learning_rate=0.001, gamma=0.2, colsample_bytree=0.8 \n",
      "[CV]  subsample=0.8, reg_alpha=0.005, n_estimators=30, min_child_weight=9, max_depth=10, learning_rate=0.001, gamma=0.2, colsample_bytree=0.8 -   0.0s\n",
      "[CV] subsample=0.8, reg_alpha=0.005, n_estimators=30, min_child_weight=9, max_depth=10, learning_rate=0.001, gamma=0.2, colsample_bytree=0.8 \n",
      "[CV]  subsample=0.8, reg_alpha=0.005, n_estimators=30, min_child_weight=9, max_depth=10, learning_rate=0.001, gamma=0.2, colsample_bytree=0.8 -   0.0s\n",
      "[CV] subsample=0.8, reg_alpha=0.005, n_estimators=30, min_child_weight=9, max_depth=10, learning_rate=0.001, gamma=0.2, colsample_bytree=0.8 \n",
      "[CV]  subsample=0.8, reg_alpha=0.005, n_estimators=30, min_child_weight=9, max_depth=10, learning_rate=0.001, gamma=0.2, colsample_bytree=0.8 -   0.0s\n",
      "[CV] subsample=0.8, reg_alpha=0.005, n_estimators=30, min_child_weight=9, max_depth=10, learning_rate=0.001, gamma=0.2, colsample_bytree=0.8 \n"
     ]
    },
    {
     "name": "stderr",
     "output_type": "stream",
     "text": [
      "C:\\Users\\DELL PC\\Anaconda3\\lib\\site-packages\\sklearn\\preprocessing\\label.py:171: DeprecationWarning: The truth value of an empty array is ambiguous. Returning False, but in future this will result in an error. Use `array.size > 0` to check that an array is not empty.\n",
      "  if diff:\n",
      "C:\\Users\\DELL PC\\Anaconda3\\lib\\site-packages\\sklearn\\preprocessing\\label.py:171: DeprecationWarning: The truth value of an empty array is ambiguous. Returning False, but in future this will result in an error. Use `array.size > 0` to check that an array is not empty.\n",
      "  if diff:\n"
     ]
    },
    {
     "name": "stdout",
     "output_type": "stream",
     "text": [
      "[CV]  subsample=0.8, reg_alpha=0.005, n_estimators=30, min_child_weight=9, max_depth=10, learning_rate=0.001, gamma=0.2, colsample_bytree=0.8 -   0.0s\n",
      "[CV] subsample=0.8, reg_alpha=0.005, n_estimators=30, min_child_weight=9, max_depth=10, learning_rate=0.001, gamma=0.2, colsample_bytree=0.8 \n",
      "[CV]  subsample=0.8, reg_alpha=0.005, n_estimators=30, min_child_weight=9, max_depth=10, learning_rate=0.001, gamma=0.2, colsample_bytree=0.8 -   0.0s\n",
      "[CV] subsample=0.8, reg_alpha=1, n_estimators=700, min_child_weight=1, max_depth=3, learning_rate=0.15, gamma=0.0, colsample_bytree=0.8 \n"
     ]
    },
    {
     "name": "stderr",
     "output_type": "stream",
     "text": [
      "C:\\Users\\DELL PC\\Anaconda3\\lib\\site-packages\\sklearn\\preprocessing\\label.py:171: DeprecationWarning: The truth value of an empty array is ambiguous. Returning False, but in future this will result in an error. Use `array.size > 0` to check that an array is not empty.\n",
      "  if diff:\n",
      "C:\\Users\\DELL PC\\Anaconda3\\lib\\site-packages\\sklearn\\preprocessing\\label.py:171: DeprecationWarning: The truth value of an empty array is ambiguous. Returning False, but in future this will result in an error. Use `array.size > 0` to check that an array is not empty.\n",
      "  if diff:\n"
     ]
    },
    {
     "name": "stdout",
     "output_type": "stream",
     "text": [
      "[CV]  subsample=0.8, reg_alpha=1, n_estimators=700, min_child_weight=1, max_depth=3, learning_rate=0.15, gamma=0.0, colsample_bytree=0.8 -   0.1s\n",
      "[CV] subsample=0.8, reg_alpha=1, n_estimators=700, min_child_weight=1, max_depth=3, learning_rate=0.15, gamma=0.0, colsample_bytree=0.8 \n",
      "[CV]  subsample=0.8, reg_alpha=1, n_estimators=700, min_child_weight=1, max_depth=3, learning_rate=0.15, gamma=0.0, colsample_bytree=0.8 -   0.1s\n",
      "[CV] subsample=0.8, reg_alpha=1, n_estimators=700, min_child_weight=1, max_depth=3, learning_rate=0.15, gamma=0.0, colsample_bytree=0.8 \n"
     ]
    },
    {
     "name": "stderr",
     "output_type": "stream",
     "text": [
      "C:\\Users\\DELL PC\\Anaconda3\\lib\\site-packages\\sklearn\\preprocessing\\label.py:171: DeprecationWarning: The truth value of an empty array is ambiguous. Returning False, but in future this will result in an error. Use `array.size > 0` to check that an array is not empty.\n",
      "  if diff:\n",
      "C:\\Users\\DELL PC\\Anaconda3\\lib\\site-packages\\sklearn\\preprocessing\\label.py:171: DeprecationWarning: The truth value of an empty array is ambiguous. Returning False, but in future this will result in an error. Use `array.size > 0` to check that an array is not empty.\n",
      "  if diff:\n"
     ]
    },
    {
     "name": "stdout",
     "output_type": "stream",
     "text": [
      "[CV]  subsample=0.8, reg_alpha=1, n_estimators=700, min_child_weight=1, max_depth=3, learning_rate=0.15, gamma=0.0, colsample_bytree=0.8 -   0.1s\n",
      "[CV] subsample=0.8, reg_alpha=1, n_estimators=700, min_child_weight=1, max_depth=3, learning_rate=0.15, gamma=0.0, colsample_bytree=0.8 \n",
      "[CV]  subsample=0.8, reg_alpha=1, n_estimators=700, min_child_weight=1, max_depth=3, learning_rate=0.15, gamma=0.0, colsample_bytree=0.8 -   0.1s\n",
      "[CV] subsample=0.8, reg_alpha=1, n_estimators=700, min_child_weight=1, max_depth=3, learning_rate=0.15, gamma=0.0, colsample_bytree=0.8 \n",
      "[CV]  subsample=0.8, reg_alpha=1, n_estimators=700, min_child_weight=1, max_depth=3, learning_rate=0.15, gamma=0.0, colsample_bytree=0.8 -   0.1s\n",
      "[CV] subsample=0.75, reg_alpha=100, n_estimators=10, min_child_weight=1, max_depth=9, learning_rate=0.1, gamma=0.0, colsample_bytree=0.8 \n",
      "[CV]  subsample=0.75, reg_alpha=100, n_estimators=10, min_child_weight=1, max_depth=9, learning_rate=0.1, gamma=0.0, colsample_bytree=0.8 -   0.0s\n",
      "[CV] subsample=0.75, reg_alpha=100, n_estimators=10, min_child_weight=1, max_depth=9, learning_rate=0.1, gamma=0.0, colsample_bytree=0.8 \n",
      "[CV]  subsample=0.75, reg_alpha=100, n_estimators=10, min_child_weight=1, max_depth=9, learning_rate=0.1, gamma=0.0, colsample_bytree=0.8 -   0.0s\n",
      "[CV] subsample=0.75, reg_alpha=100, n_estimators=10, min_child_weight=1, max_depth=9, learning_rate=0.1, gamma=0.0, colsample_bytree=0.8 \n",
      "[CV]  subsample=0.75, reg_alpha=100, n_estimators=10, min_child_weight=1, max_depth=9, learning_rate=0.1, gamma=0.0, colsample_bytree=0.8 -   0.0s\n",
      "[CV] subsample=0.75, reg_alpha=100, n_estimators=10, min_child_weight=1, max_depth=9, learning_rate=0.1, gamma=0.0, colsample_bytree=0.8 \n"
     ]
    },
    {
     "name": "stderr",
     "output_type": "stream",
     "text": [
      "C:\\Users\\DELL PC\\Anaconda3\\lib\\site-packages\\sklearn\\preprocessing\\label.py:171: DeprecationWarning: The truth value of an empty array is ambiguous. Returning False, but in future this will result in an error. Use `array.size > 0` to check that an array is not empty.\n",
      "  if diff:\n",
      "C:\\Users\\DELL PC\\Anaconda3\\lib\\site-packages\\sklearn\\preprocessing\\label.py:171: DeprecationWarning: The truth value of an empty array is ambiguous. Returning False, but in future this will result in an error. Use `array.size > 0` to check that an array is not empty.\n",
      "  if diff:\n",
      "C:\\Users\\DELL PC\\Anaconda3\\lib\\site-packages\\sklearn\\preprocessing\\label.py:171: DeprecationWarning: The truth value of an empty array is ambiguous. Returning False, but in future this will result in an error. Use `array.size > 0` to check that an array is not empty.\n",
      "  if diff:\n",
      "C:\\Users\\DELL PC\\Anaconda3\\lib\\site-packages\\sklearn\\preprocessing\\label.py:171: DeprecationWarning: The truth value of an empty array is ambiguous. Returning False, but in future this will result in an error. Use `array.size > 0` to check that an array is not empty.\n",
      "  if diff:\n",
      "C:\\Users\\DELL PC\\Anaconda3\\lib\\site-packages\\sklearn\\preprocessing\\label.py:171: DeprecationWarning: The truth value of an empty array is ambiguous. Returning False, but in future this will result in an error. Use `array.size > 0` to check that an array is not empty.\n",
      "  if diff:\n",
      "C:\\Users\\DELL PC\\Anaconda3\\lib\\site-packages\\sklearn\\preprocessing\\label.py:171: DeprecationWarning: The truth value of an empty array is ambiguous. Returning False, but in future this will result in an error. Use `array.size > 0` to check that an array is not empty.\n",
      "  if diff:\n",
      "C:\\Users\\DELL PC\\Anaconda3\\lib\\site-packages\\sklearn\\preprocessing\\label.py:171: DeprecationWarning: The truth value of an empty array is ambiguous. Returning False, but in future this will result in an error. Use `array.size > 0` to check that an array is not empty.\n",
      "  if diff:\n",
      "C:\\Users\\DELL PC\\Anaconda3\\lib\\site-packages\\sklearn\\preprocessing\\label.py:171: DeprecationWarning: The truth value of an empty array is ambiguous. Returning False, but in future this will result in an error. Use `array.size > 0` to check that an array is not empty.\n",
      "  if diff:\n"
     ]
    },
    {
     "name": "stdout",
     "output_type": "stream",
     "text": [
      "[CV]  subsample=0.75, reg_alpha=100, n_estimators=10, min_child_weight=1, max_depth=9, learning_rate=0.1, gamma=0.0, colsample_bytree=0.8 -   0.0s\n",
      "[CV] subsample=0.75, reg_alpha=100, n_estimators=10, min_child_weight=1, max_depth=9, learning_rate=0.1, gamma=0.0, colsample_bytree=0.8 \n",
      "[CV]  subsample=0.75, reg_alpha=100, n_estimators=10, min_child_weight=1, max_depth=9, learning_rate=0.1, gamma=0.0, colsample_bytree=0.8 -   0.0s\n",
      "[CV] subsample=0.85, reg_alpha=1e-05, n_estimators=200, min_child_weight=3, max_depth=7, learning_rate=0.15, gamma=0.3, colsample_bytree=0.8 \n",
      "[CV]  subsample=0.85, reg_alpha=1e-05, n_estimators=200, min_child_weight=3, max_depth=7, learning_rate=0.15, gamma=0.3, colsample_bytree=0.8 -   0.0s\n",
      "[CV] subsample=0.85, reg_alpha=1e-05, n_estimators=200, min_child_weight=3, max_depth=7, learning_rate=0.15, gamma=0.3, colsample_bytree=0.8 \n",
      "[CV]  subsample=0.85, reg_alpha=1e-05, n_estimators=200, min_child_weight=3, max_depth=7, learning_rate=0.15, gamma=0.3, colsample_bytree=0.8 -   0.0s\n",
      "[CV] subsample=0.85, reg_alpha=1e-05, n_estimators=200, min_child_weight=3, max_depth=7, learning_rate=0.15, gamma=0.3, colsample_bytree=0.8 \n"
     ]
    },
    {
     "name": "stderr",
     "output_type": "stream",
     "text": [
      "C:\\Users\\DELL PC\\Anaconda3\\lib\\site-packages\\sklearn\\preprocessing\\label.py:171: DeprecationWarning: The truth value of an empty array is ambiguous. Returning False, but in future this will result in an error. Use `array.size > 0` to check that an array is not empty.\n",
      "  if diff:\n",
      "C:\\Users\\DELL PC\\Anaconda3\\lib\\site-packages\\sklearn\\preprocessing\\label.py:171: DeprecationWarning: The truth value of an empty array is ambiguous. Returning False, but in future this will result in an error. Use `array.size > 0` to check that an array is not empty.\n",
      "  if diff:\n"
     ]
    },
    {
     "name": "stdout",
     "output_type": "stream",
     "text": [
      "[CV]  subsample=0.85, reg_alpha=1e-05, n_estimators=200, min_child_weight=3, max_depth=7, learning_rate=0.15, gamma=0.3, colsample_bytree=0.8 -   0.0s\n",
      "[CV] subsample=0.85, reg_alpha=1e-05, n_estimators=200, min_child_weight=3, max_depth=7, learning_rate=0.15, gamma=0.3, colsample_bytree=0.8 \n",
      "[CV]  subsample=0.85, reg_alpha=1e-05, n_estimators=200, min_child_weight=3, max_depth=7, learning_rate=0.15, gamma=0.3, colsample_bytree=0.8 -   0.0s\n",
      "[CV] subsample=0.85, reg_alpha=1e-05, n_estimators=200, min_child_weight=3, max_depth=7, learning_rate=0.15, gamma=0.3, colsample_bytree=0.8 \n"
     ]
    },
    {
     "name": "stderr",
     "output_type": "stream",
     "text": [
      "C:\\Users\\DELL PC\\Anaconda3\\lib\\site-packages\\sklearn\\preprocessing\\label.py:171: DeprecationWarning: The truth value of an empty array is ambiguous. Returning False, but in future this will result in an error. Use `array.size > 0` to check that an array is not empty.\n",
      "  if diff:\n"
     ]
    },
    {
     "name": "stdout",
     "output_type": "stream",
     "text": [
      "[CV]  subsample=0.85, reg_alpha=1e-05, n_estimators=200, min_child_weight=3, max_depth=7, learning_rate=0.15, gamma=0.3, colsample_bytree=0.8 -   0.0s\n",
      "[CV] subsample=0.8, reg_alpha=0.001, n_estimators=700, min_child_weight=1, max_depth=4, learning_rate=0.25, gamma=0.3, colsample_bytree=0.85 \n"
     ]
    },
    {
     "name": "stderr",
     "output_type": "stream",
     "text": [
      "C:\\Users\\DELL PC\\Anaconda3\\lib\\site-packages\\sklearn\\preprocessing\\label.py:171: DeprecationWarning: The truth value of an empty array is ambiguous. Returning False, but in future this will result in an error. Use `array.size > 0` to check that an array is not empty.\n",
      "  if diff:\n"
     ]
    },
    {
     "name": "stdout",
     "output_type": "stream",
     "text": [
      "[CV]  subsample=0.8, reg_alpha=0.001, n_estimators=700, min_child_weight=1, max_depth=4, learning_rate=0.25, gamma=0.3, colsample_bytree=0.85 -   0.1s\n",
      "[CV] subsample=0.8, reg_alpha=0.001, n_estimators=700, min_child_weight=1, max_depth=4, learning_rate=0.25, gamma=0.3, colsample_bytree=0.85 \n"
     ]
    },
    {
     "name": "stderr",
     "output_type": "stream",
     "text": [
      "C:\\Users\\DELL PC\\Anaconda3\\lib\\site-packages\\sklearn\\preprocessing\\label.py:171: DeprecationWarning: The truth value of an empty array is ambiguous. Returning False, but in future this will result in an error. Use `array.size > 0` to check that an array is not empty.\n",
      "  if diff:\n"
     ]
    },
    {
     "name": "stdout",
     "output_type": "stream",
     "text": [
      "[CV]  subsample=0.8, reg_alpha=0.001, n_estimators=700, min_child_weight=1, max_depth=4, learning_rate=0.25, gamma=0.3, colsample_bytree=0.85 -   0.1s\n",
      "[CV] subsample=0.8, reg_alpha=0.001, n_estimators=700, min_child_weight=1, max_depth=4, learning_rate=0.25, gamma=0.3, colsample_bytree=0.85 \n"
     ]
    },
    {
     "name": "stderr",
     "output_type": "stream",
     "text": [
      "C:\\Users\\DELL PC\\Anaconda3\\lib\\site-packages\\sklearn\\preprocessing\\label.py:171: DeprecationWarning: The truth value of an empty array is ambiguous. Returning False, but in future this will result in an error. Use `array.size > 0` to check that an array is not empty.\n",
      "  if diff:\n"
     ]
    },
    {
     "name": "stdout",
     "output_type": "stream",
     "text": [
      "[CV]  subsample=0.8, reg_alpha=0.001, n_estimators=700, min_child_weight=1, max_depth=4, learning_rate=0.25, gamma=0.3, colsample_bytree=0.85 -   0.1s\n",
      "[CV] subsample=0.8, reg_alpha=0.001, n_estimators=700, min_child_weight=1, max_depth=4, learning_rate=0.25, gamma=0.3, colsample_bytree=0.85 \n"
     ]
    },
    {
     "name": "stderr",
     "output_type": "stream",
     "text": [
      "C:\\Users\\DELL PC\\Anaconda3\\lib\\site-packages\\sklearn\\preprocessing\\label.py:171: DeprecationWarning: The truth value of an empty array is ambiguous. Returning False, but in future this will result in an error. Use `array.size > 0` to check that an array is not empty.\n",
      "  if diff:\n"
     ]
    },
    {
     "name": "stdout",
     "output_type": "stream",
     "text": [
      "[CV]  subsample=0.8, reg_alpha=0.001, n_estimators=700, min_child_weight=1, max_depth=4, learning_rate=0.25, gamma=0.3, colsample_bytree=0.85 -   0.1s\n",
      "[CV] subsample=0.8, reg_alpha=0.001, n_estimators=700, min_child_weight=1, max_depth=4, learning_rate=0.25, gamma=0.3, colsample_bytree=0.85 \n"
     ]
    },
    {
     "name": "stderr",
     "output_type": "stream",
     "text": [
      "C:\\Users\\DELL PC\\Anaconda3\\lib\\site-packages\\sklearn\\preprocessing\\label.py:171: DeprecationWarning: The truth value of an empty array is ambiguous. Returning False, but in future this will result in an error. Use `array.size > 0` to check that an array is not empty.\n",
      "  if diff:\n",
      "C:\\Users\\DELL PC\\Anaconda3\\lib\\site-packages\\sklearn\\preprocessing\\label.py:171: DeprecationWarning: The truth value of an empty array is ambiguous. Returning False, but in future this will result in an error. Use `array.size > 0` to check that an array is not empty.\n",
      "  if diff:\n",
      "C:\\Users\\DELL PC\\Anaconda3\\lib\\site-packages\\sklearn\\preprocessing\\label.py:171: DeprecationWarning: The truth value of an empty array is ambiguous. Returning False, but in future this will result in an error. Use `array.size > 0` to check that an array is not empty.\n",
      "  if diff:\n",
      "C:\\Users\\DELL PC\\Anaconda3\\lib\\site-packages\\sklearn\\preprocessing\\label.py:171: DeprecationWarning: The truth value of an empty array is ambiguous. Returning False, but in future this will result in an error. Use `array.size > 0` to check that an array is not empty.\n",
      "  if diff:\n",
      "C:\\Users\\DELL PC\\Anaconda3\\lib\\site-packages\\sklearn\\preprocessing\\label.py:171: DeprecationWarning: The truth value of an empty array is ambiguous. Returning False, but in future this will result in an error. Use `array.size > 0` to check that an array is not empty.\n",
      "  if diff:\n",
      "C:\\Users\\DELL PC\\Anaconda3\\lib\\site-packages\\sklearn\\preprocessing\\label.py:171: DeprecationWarning: The truth value of an empty array is ambiguous. Returning False, but in future this will result in an error. Use `array.size > 0` to check that an array is not empty.\n",
      "  if diff:\n"
     ]
    },
    {
     "name": "stdout",
     "output_type": "stream",
     "text": [
      "[CV]  subsample=0.8, reg_alpha=0.001, n_estimators=700, min_child_weight=1, max_depth=4, learning_rate=0.25, gamma=0.3, colsample_bytree=0.85 -   0.1s\n",
      "[CV] subsample=0.75, reg_alpha=0.005, n_estimators=100, min_child_weight=5, max_depth=4, learning_rate=0.1, gamma=0.4, colsample_bytree=0.8 \n",
      "[CV]  subsample=0.75, reg_alpha=0.005, n_estimators=100, min_child_weight=5, max_depth=4, learning_rate=0.1, gamma=0.4, colsample_bytree=0.8 -   0.0s\n",
      "[CV] subsample=0.75, reg_alpha=0.005, n_estimators=100, min_child_weight=5, max_depth=4, learning_rate=0.1, gamma=0.4, colsample_bytree=0.8 \n",
      "[CV]  subsample=0.75, reg_alpha=0.005, n_estimators=100, min_child_weight=5, max_depth=4, learning_rate=0.1, gamma=0.4, colsample_bytree=0.8 -   0.0s\n",
      "[CV] subsample=0.75, reg_alpha=0.005, n_estimators=100, min_child_weight=5, max_depth=4, learning_rate=0.1, gamma=0.4, colsample_bytree=0.8 \n",
      "[CV]  subsample=0.75, reg_alpha=0.005, n_estimators=100, min_child_weight=5, max_depth=4, learning_rate=0.1, gamma=0.4, colsample_bytree=0.8 -   0.0s\n",
      "[CV] subsample=0.75, reg_alpha=0.005, n_estimators=100, min_child_weight=5, max_depth=4, learning_rate=0.1, gamma=0.4, colsample_bytree=0.8 \n",
      "[CV]  subsample=0.75, reg_alpha=0.005, n_estimators=100, min_child_weight=5, max_depth=4, learning_rate=0.1, gamma=0.4, colsample_bytree=0.8 -   0.0s\n",
      "[CV] subsample=0.75, reg_alpha=0.005, n_estimators=100, min_child_weight=5, max_depth=4, learning_rate=0.1, gamma=0.4, colsample_bytree=0.8 \n",
      "[CV]  subsample=0.75, reg_alpha=0.005, n_estimators=100, min_child_weight=5, max_depth=4, learning_rate=0.1, gamma=0.4, colsample_bytree=0.8 -   0.0s\n",
      "[CV] subsample=0.85, reg_alpha=100, n_estimators=200, min_child_weight=1, max_depth=9, learning_rate=0.1, gamma=0.2, colsample_bytree=0.85 \n"
     ]
    },
    {
     "name": "stderr",
     "output_type": "stream",
     "text": [
      "C:\\Users\\DELL PC\\Anaconda3\\lib\\site-packages\\sklearn\\preprocessing\\label.py:171: DeprecationWarning: The truth value of an empty array is ambiguous. Returning False, but in future this will result in an error. Use `array.size > 0` to check that an array is not empty.\n",
      "  if diff:\n",
      "C:\\Users\\DELL PC\\Anaconda3\\lib\\site-packages\\sklearn\\preprocessing\\label.py:171: DeprecationWarning: The truth value of an empty array is ambiguous. Returning False, but in future this will result in an error. Use `array.size > 0` to check that an array is not empty.\n",
      "  if diff:\n",
      "C:\\Users\\DELL PC\\Anaconda3\\lib\\site-packages\\sklearn\\preprocessing\\label.py:171: DeprecationWarning: The truth value of an empty array is ambiguous. Returning False, but in future this will result in an error. Use `array.size > 0` to check that an array is not empty.\n",
      "  if diff:\n",
      "C:\\Users\\DELL PC\\Anaconda3\\lib\\site-packages\\sklearn\\preprocessing\\label.py:171: DeprecationWarning: The truth value of an empty array is ambiguous. Returning False, but in future this will result in an error. Use `array.size > 0` to check that an array is not empty.\n",
      "  if diff:\n",
      "C:\\Users\\DELL PC\\Anaconda3\\lib\\site-packages\\sklearn\\preprocessing\\label.py:171: DeprecationWarning: The truth value of an empty array is ambiguous. Returning False, but in future this will result in an error. Use `array.size > 0` to check that an array is not empty.\n",
      "  if diff:\n"
     ]
    },
    {
     "name": "stdout",
     "output_type": "stream",
     "text": [
      "[CV]  subsample=0.85, reg_alpha=100, n_estimators=200, min_child_weight=1, max_depth=9, learning_rate=0.1, gamma=0.2, colsample_bytree=0.85 -   0.0s\n",
      "[CV] subsample=0.85, reg_alpha=100, n_estimators=200, min_child_weight=1, max_depth=9, learning_rate=0.1, gamma=0.2, colsample_bytree=0.85 \n",
      "[CV]  subsample=0.85, reg_alpha=100, n_estimators=200, min_child_weight=1, max_depth=9, learning_rate=0.1, gamma=0.2, colsample_bytree=0.85 -   0.0s\n",
      "[CV] subsample=0.85, reg_alpha=100, n_estimators=200, min_child_weight=1, max_depth=9, learning_rate=0.1, gamma=0.2, colsample_bytree=0.85 \n",
      "[CV]  subsample=0.85, reg_alpha=100, n_estimators=200, min_child_weight=1, max_depth=9, learning_rate=0.1, gamma=0.2, colsample_bytree=0.85 -   0.0s\n",
      "[CV] subsample=0.85, reg_alpha=100, n_estimators=200, min_child_weight=1, max_depth=9, learning_rate=0.1, gamma=0.2, colsample_bytree=0.85 \n",
      "[CV]  subsample=0.85, reg_alpha=100, n_estimators=200, min_child_weight=1, max_depth=9, learning_rate=0.1, gamma=0.2, colsample_bytree=0.85 -   0.0s\n",
      "[CV] subsample=0.85, reg_alpha=100, n_estimators=200, min_child_weight=1, max_depth=9, learning_rate=0.1, gamma=0.2, colsample_bytree=0.85 \n",
      "[CV]  subsample=0.85, reg_alpha=100, n_estimators=200, min_child_weight=1, max_depth=9, learning_rate=0.1, gamma=0.2, colsample_bytree=0.85 -   0.0s\n",
      "[CV] subsample=0.75, reg_alpha=0.05, n_estimators=700, min_child_weight=3, max_depth=5, learning_rate=0.01, gamma=0.1, colsample_bytree=0.75 \n"
     ]
    },
    {
     "name": "stderr",
     "output_type": "stream",
     "text": [
      "C:\\Users\\DELL PC\\Anaconda3\\lib\\site-packages\\sklearn\\preprocessing\\label.py:171: DeprecationWarning: The truth value of an empty array is ambiguous. Returning False, but in future this will result in an error. Use `array.size > 0` to check that an array is not empty.\n",
      "  if diff:\n"
     ]
    },
    {
     "name": "stdout",
     "output_type": "stream",
     "text": [
      "[CV]  subsample=0.75, reg_alpha=0.05, n_estimators=700, min_child_weight=3, max_depth=5, learning_rate=0.01, gamma=0.1, colsample_bytree=0.75 -   0.2s\n",
      "[CV] subsample=0.75, reg_alpha=0.05, n_estimators=700, min_child_weight=3, max_depth=5, learning_rate=0.01, gamma=0.1, colsample_bytree=0.75 \n"
     ]
    },
    {
     "name": "stderr",
     "output_type": "stream",
     "text": [
      "C:\\Users\\DELL PC\\Anaconda3\\lib\\site-packages\\sklearn\\preprocessing\\label.py:171: DeprecationWarning: The truth value of an empty array is ambiguous. Returning False, but in future this will result in an error. Use `array.size > 0` to check that an array is not empty.\n",
      "  if diff:\n"
     ]
    },
    {
     "name": "stdout",
     "output_type": "stream",
     "text": [
      "[CV]  subsample=0.75, reg_alpha=0.05, n_estimators=700, min_child_weight=3, max_depth=5, learning_rate=0.01, gamma=0.1, colsample_bytree=0.75 -   0.2s\n",
      "[CV] subsample=0.75, reg_alpha=0.05, n_estimators=700, min_child_weight=3, max_depth=5, learning_rate=0.01, gamma=0.1, colsample_bytree=0.75 \n"
     ]
    },
    {
     "name": "stderr",
     "output_type": "stream",
     "text": [
      "C:\\Users\\DELL PC\\Anaconda3\\lib\\site-packages\\sklearn\\preprocessing\\label.py:171: DeprecationWarning: The truth value of an empty array is ambiguous. Returning False, but in future this will result in an error. Use `array.size > 0` to check that an array is not empty.\n",
      "  if diff:\n"
     ]
    },
    {
     "name": "stdout",
     "output_type": "stream",
     "text": [
      "[CV]  subsample=0.75, reg_alpha=0.05, n_estimators=700, min_child_weight=3, max_depth=5, learning_rate=0.01, gamma=0.1, colsample_bytree=0.75 -   0.2s\n",
      "[CV] subsample=0.75, reg_alpha=0.05, n_estimators=700, min_child_weight=3, max_depth=5, learning_rate=0.01, gamma=0.1, colsample_bytree=0.75 \n"
     ]
    },
    {
     "name": "stderr",
     "output_type": "stream",
     "text": [
      "C:\\Users\\DELL PC\\Anaconda3\\lib\\site-packages\\sklearn\\preprocessing\\label.py:171: DeprecationWarning: The truth value of an empty array is ambiguous. Returning False, but in future this will result in an error. Use `array.size > 0` to check that an array is not empty.\n",
      "  if diff:\n"
     ]
    },
    {
     "name": "stdout",
     "output_type": "stream",
     "text": [
      "[CV]  subsample=0.75, reg_alpha=0.05, n_estimators=700, min_child_weight=3, max_depth=5, learning_rate=0.01, gamma=0.1, colsample_bytree=0.75 -   0.3s\n",
      "[CV] subsample=0.75, reg_alpha=0.05, n_estimators=700, min_child_weight=3, max_depth=5, learning_rate=0.01, gamma=0.1, colsample_bytree=0.75 \n"
     ]
    },
    {
     "name": "stderr",
     "output_type": "stream",
     "text": [
      "C:\\Users\\DELL PC\\Anaconda3\\lib\\site-packages\\sklearn\\preprocessing\\label.py:171: DeprecationWarning: The truth value of an empty array is ambiguous. Returning False, but in future this will result in an error. Use `array.size > 0` to check that an array is not empty.\n",
      "  if diff:\n",
      "C:\\Users\\DELL PC\\Anaconda3\\lib\\site-packages\\sklearn\\preprocessing\\label.py:171: DeprecationWarning: The truth value of an empty array is ambiguous. Returning False, but in future this will result in an error. Use `array.size > 0` to check that an array is not empty.\n",
      "  if diff:\n",
      "C:\\Users\\DELL PC\\Anaconda3\\lib\\site-packages\\sklearn\\preprocessing\\label.py:171: DeprecationWarning: The truth value of an empty array is ambiguous. Returning False, but in future this will result in an error. Use `array.size > 0` to check that an array is not empty.\n",
      "  if diff:\n",
      "C:\\Users\\DELL PC\\Anaconda3\\lib\\site-packages\\sklearn\\preprocessing\\label.py:171: DeprecationWarning: The truth value of an empty array is ambiguous. Returning False, but in future this will result in an error. Use `array.size > 0` to check that an array is not empty.\n",
      "  if diff:\n"
     ]
    },
    {
     "name": "stdout",
     "output_type": "stream",
     "text": [
      "[CV]  subsample=0.75, reg_alpha=0.05, n_estimators=700, min_child_weight=3, max_depth=5, learning_rate=0.01, gamma=0.1, colsample_bytree=0.75 -   0.2s\n",
      "[CV] subsample=0.85, reg_alpha=0.005, n_estimators=200, min_child_weight=9, max_depth=8, learning_rate=0.25, gamma=0.4, colsample_bytree=0.85 \n",
      "[CV]  subsample=0.85, reg_alpha=0.005, n_estimators=200, min_child_weight=9, max_depth=8, learning_rate=0.25, gamma=0.4, colsample_bytree=0.85 -   0.0s\n",
      "[CV] subsample=0.85, reg_alpha=0.005, n_estimators=200, min_child_weight=9, max_depth=8, learning_rate=0.25, gamma=0.4, colsample_bytree=0.85 \n",
      "[CV]  subsample=0.85, reg_alpha=0.005, n_estimators=200, min_child_weight=9, max_depth=8, learning_rate=0.25, gamma=0.4, colsample_bytree=0.85 -   0.0s\n",
      "[CV] subsample=0.85, reg_alpha=0.005, n_estimators=200, min_child_weight=9, max_depth=8, learning_rate=0.25, gamma=0.4, colsample_bytree=0.85 \n",
      "[CV]  subsample=0.85, reg_alpha=0.005, n_estimators=200, min_child_weight=9, max_depth=8, learning_rate=0.25, gamma=0.4, colsample_bytree=0.85 -   0.0s\n",
      "[CV] subsample=0.85, reg_alpha=0.005, n_estimators=200, min_child_weight=9, max_depth=8, learning_rate=0.25, gamma=0.4, colsample_bytree=0.85 \n"
     ]
    },
    {
     "name": "stderr",
     "output_type": "stream",
     "text": [
      "C:\\Users\\DELL PC\\Anaconda3\\lib\\site-packages\\sklearn\\preprocessing\\label.py:171: DeprecationWarning: The truth value of an empty array is ambiguous. Returning False, but in future this will result in an error. Use `array.size > 0` to check that an array is not empty.\n",
      "  if diff:\n",
      "C:\\Users\\DELL PC\\Anaconda3\\lib\\site-packages\\sklearn\\preprocessing\\label.py:171: DeprecationWarning: The truth value of an empty array is ambiguous. Returning False, but in future this will result in an error. Use `array.size > 0` to check that an array is not empty.\n",
      "  if diff:\n"
     ]
    },
    {
     "name": "stdout",
     "output_type": "stream",
     "text": [
      "[CV]  subsample=0.85, reg_alpha=0.005, n_estimators=200, min_child_weight=9, max_depth=8, learning_rate=0.25, gamma=0.4, colsample_bytree=0.85 -   0.0s\n",
      "[CV] subsample=0.85, reg_alpha=0.005, n_estimators=200, min_child_weight=9, max_depth=8, learning_rate=0.25, gamma=0.4, colsample_bytree=0.85 \n",
      "[CV]  subsample=0.85, reg_alpha=0.005, n_estimators=200, min_child_weight=9, max_depth=8, learning_rate=0.25, gamma=0.4, colsample_bytree=0.85 -   0.0s\n",
      "[CV] subsample=0.75, reg_alpha=1, n_estimators=700, min_child_weight=3, max_depth=4, learning_rate=0.1, gamma=0.3, colsample_bytree=0.8 \n"
     ]
    },
    {
     "name": "stderr",
     "output_type": "stream",
     "text": [
      "C:\\Users\\DELL PC\\Anaconda3\\lib\\site-packages\\sklearn\\preprocessing\\label.py:171: DeprecationWarning: The truth value of an empty array is ambiguous. Returning False, but in future this will result in an error. Use `array.size > 0` to check that an array is not empty.\n",
      "  if diff:\n"
     ]
    },
    {
     "name": "stdout",
     "output_type": "stream",
     "text": [
      "[CV]  subsample=0.75, reg_alpha=1, n_estimators=700, min_child_weight=3, max_depth=4, learning_rate=0.1, gamma=0.3, colsample_bytree=0.8 -   0.2s\n",
      "[CV] subsample=0.75, reg_alpha=1, n_estimators=700, min_child_weight=3, max_depth=4, learning_rate=0.1, gamma=0.3, colsample_bytree=0.8 \n"
     ]
    },
    {
     "name": "stderr",
     "output_type": "stream",
     "text": [
      "C:\\Users\\DELL PC\\Anaconda3\\lib\\site-packages\\sklearn\\preprocessing\\label.py:171: DeprecationWarning: The truth value of an empty array is ambiguous. Returning False, but in future this will result in an error. Use `array.size > 0` to check that an array is not empty.\n",
      "  if diff:\n"
     ]
    },
    {
     "name": "stdout",
     "output_type": "stream",
     "text": [
      "[CV]  subsample=0.75, reg_alpha=1, n_estimators=700, min_child_weight=3, max_depth=4, learning_rate=0.1, gamma=0.3, colsample_bytree=0.8 -   0.1s\n",
      "[CV] subsample=0.75, reg_alpha=1, n_estimators=700, min_child_weight=3, max_depth=4, learning_rate=0.1, gamma=0.3, colsample_bytree=0.8 \n"
     ]
    },
    {
     "name": "stderr",
     "output_type": "stream",
     "text": [
      "C:\\Users\\DELL PC\\Anaconda3\\lib\\site-packages\\sklearn\\preprocessing\\label.py:171: DeprecationWarning: The truth value of an empty array is ambiguous. Returning False, but in future this will result in an error. Use `array.size > 0` to check that an array is not empty.\n",
      "  if diff:\n"
     ]
    },
    {
     "name": "stdout",
     "output_type": "stream",
     "text": [
      "[CV]  subsample=0.75, reg_alpha=1, n_estimators=700, min_child_weight=3, max_depth=4, learning_rate=0.1, gamma=0.3, colsample_bytree=0.8 -   0.2s\n",
      "[CV] subsample=0.75, reg_alpha=1, n_estimators=700, min_child_weight=3, max_depth=4, learning_rate=0.1, gamma=0.3, colsample_bytree=0.8 \n"
     ]
    },
    {
     "name": "stderr",
     "output_type": "stream",
     "text": [
      "C:\\Users\\DELL PC\\Anaconda3\\lib\\site-packages\\sklearn\\preprocessing\\label.py:171: DeprecationWarning: The truth value of an empty array is ambiguous. Returning False, but in future this will result in an error. Use `array.size > 0` to check that an array is not empty.\n",
      "  if diff:\n"
     ]
    },
    {
     "name": "stdout",
     "output_type": "stream",
     "text": [
      "[CV]  subsample=0.75, reg_alpha=1, n_estimators=700, min_child_weight=3, max_depth=4, learning_rate=0.1, gamma=0.3, colsample_bytree=0.8 -   0.1s\n",
      "[CV] subsample=0.75, reg_alpha=1, n_estimators=700, min_child_weight=3, max_depth=4, learning_rate=0.1, gamma=0.3, colsample_bytree=0.8 \n"
     ]
    },
    {
     "name": "stderr",
     "output_type": "stream",
     "text": [
      "C:\\Users\\DELL PC\\Anaconda3\\lib\\site-packages\\sklearn\\preprocessing\\label.py:171: DeprecationWarning: The truth value of an empty array is ambiguous. Returning False, but in future this will result in an error. Use `array.size > 0` to check that an array is not empty.\n",
      "  if diff:\n",
      "C:\\Users\\DELL PC\\Anaconda3\\lib\\site-packages\\sklearn\\preprocessing\\label.py:171: DeprecationWarning: The truth value of an empty array is ambiguous. Returning False, but in future this will result in an error. Use `array.size > 0` to check that an array is not empty.\n",
      "  if diff:\n",
      "C:\\Users\\DELL PC\\Anaconda3\\lib\\site-packages\\sklearn\\preprocessing\\label.py:171: DeprecationWarning: The truth value of an empty array is ambiguous. Returning False, but in future this will result in an error. Use `array.size > 0` to check that an array is not empty.\n",
      "  if diff:\n",
      "C:\\Users\\DELL PC\\Anaconda3\\lib\\site-packages\\sklearn\\preprocessing\\label.py:171: DeprecationWarning: The truth value of an empty array is ambiguous. Returning False, but in future this will result in an error. Use `array.size > 0` to check that an array is not empty.\n",
      "  if diff:\n",
      "C:\\Users\\DELL PC\\Anaconda3\\lib\\site-packages\\sklearn\\preprocessing\\label.py:171: DeprecationWarning: The truth value of an empty array is ambiguous. Returning False, but in future this will result in an error. Use `array.size > 0` to check that an array is not empty.\n",
      "  if diff:\n",
      "C:\\Users\\DELL PC\\Anaconda3\\lib\\site-packages\\sklearn\\preprocessing\\label.py:171: DeprecationWarning: The truth value of an empty array is ambiguous. Returning False, but in future this will result in an error. Use `array.size > 0` to check that an array is not empty.\n",
      "  if diff:\n"
     ]
    },
    {
     "name": "stdout",
     "output_type": "stream",
     "text": [
      "[CV]  subsample=0.75, reg_alpha=1, n_estimators=700, min_child_weight=3, max_depth=4, learning_rate=0.1, gamma=0.3, colsample_bytree=0.8 -   0.1s\n",
      "[CV] subsample=0.8, reg_alpha=0.005, n_estimators=60, min_child_weight=1, max_depth=6, learning_rate=0.25, gamma=0.3, colsample_bytree=0.85 \n",
      "[CV]  subsample=0.8, reg_alpha=0.005, n_estimators=60, min_child_weight=1, max_depth=6, learning_rate=0.25, gamma=0.3, colsample_bytree=0.85 -   0.0s\n",
      "[CV] subsample=0.8, reg_alpha=0.005, n_estimators=60, min_child_weight=1, max_depth=6, learning_rate=0.25, gamma=0.3, colsample_bytree=0.85 \n",
      "[CV]  subsample=0.8, reg_alpha=0.005, n_estimators=60, min_child_weight=1, max_depth=6, learning_rate=0.25, gamma=0.3, colsample_bytree=0.85 -   0.0s\n",
      "[CV] subsample=0.8, reg_alpha=0.005, n_estimators=60, min_child_weight=1, max_depth=6, learning_rate=0.25, gamma=0.3, colsample_bytree=0.85 \n",
      "[CV]  subsample=0.8, reg_alpha=0.005, n_estimators=60, min_child_weight=1, max_depth=6, learning_rate=0.25, gamma=0.3, colsample_bytree=0.85 -   0.0s\n",
      "[CV] subsample=0.8, reg_alpha=0.005, n_estimators=60, min_child_weight=1, max_depth=6, learning_rate=0.25, gamma=0.3, colsample_bytree=0.85 \n",
      "[CV]  subsample=0.8, reg_alpha=0.005, n_estimators=60, min_child_weight=1, max_depth=6, learning_rate=0.25, gamma=0.3, colsample_bytree=0.85 -   0.0s\n",
      "[CV] subsample=0.8, reg_alpha=0.005, n_estimators=60, min_child_weight=1, max_depth=6, learning_rate=0.25, gamma=0.3, colsample_bytree=0.85 \n",
      "[CV]  subsample=0.8, reg_alpha=0.005, n_estimators=60, min_child_weight=1, max_depth=6, learning_rate=0.25, gamma=0.3, colsample_bytree=0.85 -   0.0s\n",
      "[CV] subsample=0.75, reg_alpha=0.001, n_estimators=500, min_child_weight=1, max_depth=7, learning_rate=0.001, gamma=0.3, colsample_bytree=0.75 \n"
     ]
    },
    {
     "name": "stderr",
     "output_type": "stream",
     "text": [
      "C:\\Users\\DELL PC\\Anaconda3\\lib\\site-packages\\sklearn\\preprocessing\\label.py:171: DeprecationWarning: The truth value of an empty array is ambiguous. Returning False, but in future this will result in an error. Use `array.size > 0` to check that an array is not empty.\n",
      "  if diff:\n"
     ]
    },
    {
     "name": "stdout",
     "output_type": "stream",
     "text": [
      "[CV]  subsample=0.75, reg_alpha=0.001, n_estimators=500, min_child_weight=1, max_depth=7, learning_rate=0.001, gamma=0.3, colsample_bytree=0.75 -   0.1s\n",
      "[CV] subsample=0.75, reg_alpha=0.001, n_estimators=500, min_child_weight=1, max_depth=7, learning_rate=0.001, gamma=0.3, colsample_bytree=0.75 \n"
     ]
    },
    {
     "name": "stderr",
     "output_type": "stream",
     "text": [
      "C:\\Users\\DELL PC\\Anaconda3\\lib\\site-packages\\sklearn\\preprocessing\\label.py:171: DeprecationWarning: The truth value of an empty array is ambiguous. Returning False, but in future this will result in an error. Use `array.size > 0` to check that an array is not empty.\n",
      "  if diff:\n"
     ]
    },
    {
     "name": "stdout",
     "output_type": "stream",
     "text": [
      "[CV]  subsample=0.75, reg_alpha=0.001, n_estimators=500, min_child_weight=1, max_depth=7, learning_rate=0.001, gamma=0.3, colsample_bytree=0.75 -   0.2s\n",
      "[CV] subsample=0.75, reg_alpha=0.001, n_estimators=500, min_child_weight=1, max_depth=7, learning_rate=0.001, gamma=0.3, colsample_bytree=0.75 \n"
     ]
    },
    {
     "name": "stderr",
     "output_type": "stream",
     "text": [
      "C:\\Users\\DELL PC\\Anaconda3\\lib\\site-packages\\sklearn\\preprocessing\\label.py:171: DeprecationWarning: The truth value of an empty array is ambiguous. Returning False, but in future this will result in an error. Use `array.size > 0` to check that an array is not empty.\n",
      "  if diff:\n"
     ]
    },
    {
     "name": "stdout",
     "output_type": "stream",
     "text": [
      "[CV]  subsample=0.75, reg_alpha=0.001, n_estimators=500, min_child_weight=1, max_depth=7, learning_rate=0.001, gamma=0.3, colsample_bytree=0.75 -   0.2s\n",
      "[CV] subsample=0.75, reg_alpha=0.001, n_estimators=500, min_child_weight=1, max_depth=7, learning_rate=0.001, gamma=0.3, colsample_bytree=0.75 \n"
     ]
    },
    {
     "name": "stderr",
     "output_type": "stream",
     "text": [
      "C:\\Users\\DELL PC\\Anaconda3\\lib\\site-packages\\sklearn\\preprocessing\\label.py:171: DeprecationWarning: The truth value of an empty array is ambiguous. Returning False, but in future this will result in an error. Use `array.size > 0` to check that an array is not empty.\n",
      "  if diff:\n"
     ]
    },
    {
     "name": "stdout",
     "output_type": "stream",
     "text": [
      "[CV]  subsample=0.75, reg_alpha=0.001, n_estimators=500, min_child_weight=1, max_depth=7, learning_rate=0.001, gamma=0.3, colsample_bytree=0.75 -   0.1s\n",
      "[CV] subsample=0.75, reg_alpha=0.001, n_estimators=500, min_child_weight=1, max_depth=7, learning_rate=0.001, gamma=0.3, colsample_bytree=0.75 \n"
     ]
    },
    {
     "name": "stderr",
     "output_type": "stream",
     "text": [
      "C:\\Users\\DELL PC\\Anaconda3\\lib\\site-packages\\sklearn\\preprocessing\\label.py:171: DeprecationWarning: The truth value of an empty array is ambiguous. Returning False, but in future this will result in an error. Use `array.size > 0` to check that an array is not empty.\n",
      "  if diff:\n",
      "C:\\Users\\DELL PC\\Anaconda3\\lib\\site-packages\\sklearn\\preprocessing\\label.py:171: DeprecationWarning: The truth value of an empty array is ambiguous. Returning False, but in future this will result in an error. Use `array.size > 0` to check that an array is not empty.\n",
      "  if diff:\n",
      "C:\\Users\\DELL PC\\Anaconda3\\lib\\site-packages\\sklearn\\preprocessing\\label.py:171: DeprecationWarning: The truth value of an empty array is ambiguous. Returning False, but in future this will result in an error. Use `array.size > 0` to check that an array is not empty.\n",
      "  if diff:\n",
      "C:\\Users\\DELL PC\\Anaconda3\\lib\\site-packages\\sklearn\\preprocessing\\label.py:171: DeprecationWarning: The truth value of an empty array is ambiguous. Returning False, but in future this will result in an error. Use `array.size > 0` to check that an array is not empty.\n",
      "  if diff:\n",
      "C:\\Users\\DELL PC\\Anaconda3\\lib\\site-packages\\sklearn\\preprocessing\\label.py:171: DeprecationWarning: The truth value of an empty array is ambiguous. Returning False, but in future this will result in an error. Use `array.size > 0` to check that an array is not empty.\n",
      "  if diff:\n",
      "C:\\Users\\DELL PC\\Anaconda3\\lib\\site-packages\\sklearn\\preprocessing\\label.py:171: DeprecationWarning: The truth value of an empty array is ambiguous. Returning False, but in future this will result in an error. Use `array.size > 0` to check that an array is not empty.\n",
      "  if diff:\n",
      "C:\\Users\\DELL PC\\Anaconda3\\lib\\site-packages\\sklearn\\preprocessing\\label.py:171: DeprecationWarning: The truth value of an empty array is ambiguous. Returning False, but in future this will result in an error. Use `array.size > 0` to check that an array is not empty.\n",
      "  if diff:\n",
      "C:\\Users\\DELL PC\\Anaconda3\\lib\\site-packages\\sklearn\\preprocessing\\label.py:171: DeprecationWarning: The truth value of an empty array is ambiguous. Returning False, but in future this will result in an error. Use `array.size > 0` to check that an array is not empty.\n",
      "  if diff:\n",
      "C:\\Users\\DELL PC\\Anaconda3\\lib\\site-packages\\sklearn\\preprocessing\\label.py:171: DeprecationWarning: The truth value of an empty array is ambiguous. Returning False, but in future this will result in an error. Use `array.size > 0` to check that an array is not empty.\n",
      "  if diff:\n",
      "C:\\Users\\DELL PC\\Anaconda3\\lib\\site-packages\\sklearn\\preprocessing\\label.py:171: DeprecationWarning: The truth value of an empty array is ambiguous. Returning False, but in future this will result in an error. Use `array.size > 0` to check that an array is not empty.\n",
      "  if diff:\n",
      "C:\\Users\\DELL PC\\Anaconda3\\lib\\site-packages\\sklearn\\preprocessing\\label.py:171: DeprecationWarning: The truth value of an empty array is ambiguous. Returning False, but in future this will result in an error. Use `array.size > 0` to check that an array is not empty.\n",
      "  if diff:\n"
     ]
    },
    {
     "name": "stdout",
     "output_type": "stream",
     "text": [
      "[CV]  subsample=0.75, reg_alpha=0.001, n_estimators=500, min_child_weight=1, max_depth=7, learning_rate=0.001, gamma=0.3, colsample_bytree=0.75 -   0.1s\n",
      "[CV] subsample=0.75, reg_alpha=0.001, n_estimators=10, min_child_weight=1, max_depth=4, learning_rate=0.15, gamma=0.1, colsample_bytree=0.8 \n",
      "[CV]  subsample=0.75, reg_alpha=0.001, n_estimators=10, min_child_weight=1, max_depth=4, learning_rate=0.15, gamma=0.1, colsample_bytree=0.8 -   0.0s\n",
      "[CV] subsample=0.75, reg_alpha=0.001, n_estimators=10, min_child_weight=1, max_depth=4, learning_rate=0.15, gamma=0.1, colsample_bytree=0.8 \n",
      "[CV]  subsample=0.75, reg_alpha=0.001, n_estimators=10, min_child_weight=1, max_depth=4, learning_rate=0.15, gamma=0.1, colsample_bytree=0.8 -   0.0s\n",
      "[CV] subsample=0.75, reg_alpha=0.001, n_estimators=10, min_child_weight=1, max_depth=4, learning_rate=0.15, gamma=0.1, colsample_bytree=0.8 \n",
      "[CV]  subsample=0.75, reg_alpha=0.001, n_estimators=10, min_child_weight=1, max_depth=4, learning_rate=0.15, gamma=0.1, colsample_bytree=0.8 -   0.0s\n",
      "[CV] subsample=0.75, reg_alpha=0.001, n_estimators=10, min_child_weight=1, max_depth=4, learning_rate=0.15, gamma=0.1, colsample_bytree=0.8 \n",
      "[CV]  subsample=0.75, reg_alpha=0.001, n_estimators=10, min_child_weight=1, max_depth=4, learning_rate=0.15, gamma=0.1, colsample_bytree=0.8 -   0.0s\n",
      "[CV] subsample=0.75, reg_alpha=0.001, n_estimators=10, min_child_weight=1, max_depth=4, learning_rate=0.15, gamma=0.1, colsample_bytree=0.8 \n",
      "[CV]  subsample=0.75, reg_alpha=0.001, n_estimators=10, min_child_weight=1, max_depth=4, learning_rate=0.15, gamma=0.1, colsample_bytree=0.8 -   0.0s\n",
      "[CV] subsample=0.75, reg_alpha=0.1, n_estimators=10, min_child_weight=5, max_depth=4, learning_rate=0.001, gamma=0.4, colsample_bytree=0.75 \n",
      "[CV]  subsample=0.75, reg_alpha=0.1, n_estimators=10, min_child_weight=5, max_depth=4, learning_rate=0.001, gamma=0.4, colsample_bytree=0.75 -   0.0s\n",
      "[CV] subsample=0.75, reg_alpha=0.1, n_estimators=10, min_child_weight=5, max_depth=4, learning_rate=0.001, gamma=0.4, colsample_bytree=0.75 \n",
      "[CV]  subsample=0.75, reg_alpha=0.1, n_estimators=10, min_child_weight=5, max_depth=4, learning_rate=0.001, gamma=0.4, colsample_bytree=0.75 -   0.0s\n",
      "[CV] subsample=0.75, reg_alpha=0.1, n_estimators=10, min_child_weight=5, max_depth=4, learning_rate=0.001, gamma=0.4, colsample_bytree=0.75 \n",
      "[CV]  subsample=0.75, reg_alpha=0.1, n_estimators=10, min_child_weight=5, max_depth=4, learning_rate=0.001, gamma=0.4, colsample_bytree=0.75 -   0.0s\n",
      "[CV] subsample=0.75, reg_alpha=0.1, n_estimators=10, min_child_weight=5, max_depth=4, learning_rate=0.001, gamma=0.4, colsample_bytree=0.75 \n",
      "[CV]  subsample=0.75, reg_alpha=0.1, n_estimators=10, min_child_weight=5, max_depth=4, learning_rate=0.001, gamma=0.4, colsample_bytree=0.75 -   0.0s\n",
      "[CV] subsample=0.75, reg_alpha=0.1, n_estimators=10, min_child_weight=5, max_depth=4, learning_rate=0.001, gamma=0.4, colsample_bytree=0.75 \n",
      "[CV]  subsample=0.75, reg_alpha=0.1, n_estimators=10, min_child_weight=5, max_depth=4, learning_rate=0.001, gamma=0.4, colsample_bytree=0.75 -   0.0s\n",
      "[CV] subsample=0.75, reg_alpha=0.05, n_estimators=700, min_child_weight=5, max_depth=3, learning_rate=0.15, gamma=0.4, colsample_bytree=0.8 \n"
     ]
    },
    {
     "name": "stderr",
     "output_type": "stream",
     "text": [
      "C:\\Users\\DELL PC\\Anaconda3\\lib\\site-packages\\sklearn\\preprocessing\\label.py:171: DeprecationWarning: The truth value of an empty array is ambiguous. Returning False, but in future this will result in an error. Use `array.size > 0` to check that an array is not empty.\n",
      "  if diff:\n",
      "C:\\Users\\DELL PC\\Anaconda3\\lib\\site-packages\\sklearn\\preprocessing\\label.py:171: DeprecationWarning: The truth value of an empty array is ambiguous. Returning False, but in future this will result in an error. Use `array.size > 0` to check that an array is not empty.\n",
      "  if diff:\n"
     ]
    },
    {
     "name": "stdout",
     "output_type": "stream",
     "text": [
      "[CV]  subsample=0.75, reg_alpha=0.05, n_estimators=700, min_child_weight=5, max_depth=3, learning_rate=0.15, gamma=0.4, colsample_bytree=0.8 -   0.1s\n",
      "[CV] subsample=0.75, reg_alpha=0.05, n_estimators=700, min_child_weight=5, max_depth=3, learning_rate=0.15, gamma=0.4, colsample_bytree=0.8 \n",
      "[CV]  subsample=0.75, reg_alpha=0.05, n_estimators=700, min_child_weight=5, max_depth=3, learning_rate=0.15, gamma=0.4, colsample_bytree=0.8 -   0.1s\n",
      "[CV] subsample=0.75, reg_alpha=0.05, n_estimators=700, min_child_weight=5, max_depth=3, learning_rate=0.15, gamma=0.4, colsample_bytree=0.8 \n"
     ]
    },
    {
     "name": "stderr",
     "output_type": "stream",
     "text": [
      "C:\\Users\\DELL PC\\Anaconda3\\lib\\site-packages\\sklearn\\preprocessing\\label.py:171: DeprecationWarning: The truth value of an empty array is ambiguous. Returning False, but in future this will result in an error. Use `array.size > 0` to check that an array is not empty.\n",
      "  if diff:\n",
      "C:\\Users\\DELL PC\\Anaconda3\\lib\\site-packages\\sklearn\\preprocessing\\label.py:171: DeprecationWarning: The truth value of an empty array is ambiguous. Returning False, but in future this will result in an error. Use `array.size > 0` to check that an array is not empty.\n",
      "  if diff:\n"
     ]
    },
    {
     "name": "stdout",
     "output_type": "stream",
     "text": [
      "[CV]  subsample=0.75, reg_alpha=0.05, n_estimators=700, min_child_weight=5, max_depth=3, learning_rate=0.15, gamma=0.4, colsample_bytree=0.8 -   0.1s\n",
      "[CV] subsample=0.75, reg_alpha=0.05, n_estimators=700, min_child_weight=5, max_depth=3, learning_rate=0.15, gamma=0.4, colsample_bytree=0.8 \n",
      "[CV]  subsample=0.75, reg_alpha=0.05, n_estimators=700, min_child_weight=5, max_depth=3, learning_rate=0.15, gamma=0.4, colsample_bytree=0.8 -   0.1s\n",
      "[CV] subsample=0.75, reg_alpha=0.05, n_estimators=700, min_child_weight=5, max_depth=3, learning_rate=0.15, gamma=0.4, colsample_bytree=0.8 \n"
     ]
    },
    {
     "name": "stderr",
     "output_type": "stream",
     "text": [
      "C:\\Users\\DELL PC\\Anaconda3\\lib\\site-packages\\sklearn\\preprocessing\\label.py:171: DeprecationWarning: The truth value of an empty array is ambiguous. Returning False, but in future this will result in an error. Use `array.size > 0` to check that an array is not empty.\n",
      "  if diff:\n",
      "C:\\Users\\DELL PC\\Anaconda3\\lib\\site-packages\\sklearn\\preprocessing\\label.py:171: DeprecationWarning: The truth value of an empty array is ambiguous. Returning False, but in future this will result in an error. Use `array.size > 0` to check that an array is not empty.\n",
      "  if diff:\n"
     ]
    },
    {
     "name": "stdout",
     "output_type": "stream",
     "text": [
      "[CV]  subsample=0.75, reg_alpha=0.05, n_estimators=700, min_child_weight=5, max_depth=3, learning_rate=0.15, gamma=0.4, colsample_bytree=0.8 -   0.1s\n",
      "[CV] subsample=0.8, reg_alpha=0, n_estimators=500, min_child_weight=9, max_depth=10, learning_rate=0.15, gamma=0.4, colsample_bytree=0.85 \n",
      "[CV]  subsample=0.8, reg_alpha=0, n_estimators=500, min_child_weight=9, max_depth=10, learning_rate=0.15, gamma=0.4, colsample_bytree=0.85 -   0.1s\n",
      "[CV] subsample=0.8, reg_alpha=0, n_estimators=500, min_child_weight=9, max_depth=10, learning_rate=0.15, gamma=0.4, colsample_bytree=0.85 \n"
     ]
    },
    {
     "name": "stderr",
     "output_type": "stream",
     "text": [
      "C:\\Users\\DELL PC\\Anaconda3\\lib\\site-packages\\sklearn\\preprocessing\\label.py:171: DeprecationWarning: The truth value of an empty array is ambiguous. Returning False, but in future this will result in an error. Use `array.size > 0` to check that an array is not empty.\n",
      "  if diff:\n",
      "C:\\Users\\DELL PC\\Anaconda3\\lib\\site-packages\\sklearn\\preprocessing\\label.py:171: DeprecationWarning: The truth value of an empty array is ambiguous. Returning False, but in future this will result in an error. Use `array.size > 0` to check that an array is not empty.\n",
      "  if diff:\n"
     ]
    },
    {
     "name": "stdout",
     "output_type": "stream",
     "text": [
      "[CV]  subsample=0.8, reg_alpha=0, n_estimators=500, min_child_weight=9, max_depth=10, learning_rate=0.15, gamma=0.4, colsample_bytree=0.85 -   0.0s\n",
      "[CV] subsample=0.8, reg_alpha=0, n_estimators=500, min_child_weight=9, max_depth=10, learning_rate=0.15, gamma=0.4, colsample_bytree=0.85 \n",
      "[CV]  subsample=0.8, reg_alpha=0, n_estimators=500, min_child_weight=9, max_depth=10, learning_rate=0.15, gamma=0.4, colsample_bytree=0.85 -   0.0s\n",
      "[CV] subsample=0.8, reg_alpha=0, n_estimators=500, min_child_weight=9, max_depth=10, learning_rate=0.15, gamma=0.4, colsample_bytree=0.85 \n"
     ]
    },
    {
     "name": "stderr",
     "output_type": "stream",
     "text": [
      "C:\\Users\\DELL PC\\Anaconda3\\lib\\site-packages\\sklearn\\preprocessing\\label.py:171: DeprecationWarning: The truth value of an empty array is ambiguous. Returning False, but in future this will result in an error. Use `array.size > 0` to check that an array is not empty.\n",
      "  if diff:\n",
      "C:\\Users\\DELL PC\\Anaconda3\\lib\\site-packages\\sklearn\\preprocessing\\label.py:171: DeprecationWarning: The truth value of an empty array is ambiguous. Returning False, but in future this will result in an error. Use `array.size > 0` to check that an array is not empty.\n",
      "  if diff:\n",
      "C:\\Users\\DELL PC\\Anaconda3\\lib\\site-packages\\sklearn\\preprocessing\\label.py:171: DeprecationWarning: The truth value of an empty array is ambiguous. Returning False, but in future this will result in an error. Use `array.size > 0` to check that an array is not empty.\n",
      "  if diff:\n",
      "C:\\Users\\DELL PC\\Anaconda3\\lib\\site-packages\\sklearn\\preprocessing\\label.py:171: DeprecationWarning: The truth value of an empty array is ambiguous. Returning False, but in future this will result in an error. Use `array.size > 0` to check that an array is not empty.\n",
      "  if diff:\n",
      "C:\\Users\\DELL PC\\Anaconda3\\lib\\site-packages\\sklearn\\preprocessing\\label.py:171: DeprecationWarning: The truth value of an empty array is ambiguous. Returning False, but in future this will result in an error. Use `array.size > 0` to check that an array is not empty.\n",
      "  if diff:\n",
      "C:\\Users\\DELL PC\\Anaconda3\\lib\\site-packages\\sklearn\\preprocessing\\label.py:171: DeprecationWarning: The truth value of an empty array is ambiguous. Returning False, but in future this will result in an error. Use `array.size > 0` to check that an array is not empty.\n",
      "  if diff:\n"
     ]
    },
    {
     "name": "stdout",
     "output_type": "stream",
     "text": [
      "[CV]  subsample=0.8, reg_alpha=0, n_estimators=500, min_child_weight=9, max_depth=10, learning_rate=0.15, gamma=0.4, colsample_bytree=0.85 -   0.0s\n",
      "[CV] subsample=0.8, reg_alpha=0, n_estimators=500, min_child_weight=9, max_depth=10, learning_rate=0.15, gamma=0.4, colsample_bytree=0.85 \n",
      "[CV]  subsample=0.8, reg_alpha=0, n_estimators=500, min_child_weight=9, max_depth=10, learning_rate=0.15, gamma=0.4, colsample_bytree=0.85 -   0.0s\n",
      "[CV] subsample=0.75, reg_alpha=0.01, n_estimators=30, min_child_weight=9, max_depth=4, learning_rate=0.05, gamma=0.2, colsample_bytree=0.8 \n",
      "[CV]  subsample=0.75, reg_alpha=0.01, n_estimators=30, min_child_weight=9, max_depth=4, learning_rate=0.05, gamma=0.2, colsample_bytree=0.8 -   0.0s\n",
      "[CV] subsample=0.75, reg_alpha=0.01, n_estimators=30, min_child_weight=9, max_depth=4, learning_rate=0.05, gamma=0.2, colsample_bytree=0.8 \n",
      "[CV]  subsample=0.75, reg_alpha=0.01, n_estimators=30, min_child_weight=9, max_depth=4, learning_rate=0.05, gamma=0.2, colsample_bytree=0.8 -   0.0s\n",
      "[CV] subsample=0.75, reg_alpha=0.01, n_estimators=30, min_child_weight=9, max_depth=4, learning_rate=0.05, gamma=0.2, colsample_bytree=0.8 \n",
      "[CV]  subsample=0.75, reg_alpha=0.01, n_estimators=30, min_child_weight=9, max_depth=4, learning_rate=0.05, gamma=0.2, colsample_bytree=0.8 -   0.0s\n",
      "[CV] subsample=0.75, reg_alpha=0.01, n_estimators=30, min_child_weight=9, max_depth=4, learning_rate=0.05, gamma=0.2, colsample_bytree=0.8 \n",
      "[CV]  subsample=0.75, reg_alpha=0.01, n_estimators=30, min_child_weight=9, max_depth=4, learning_rate=0.05, gamma=0.2, colsample_bytree=0.8 -   0.0s\n",
      "[CV] subsample=0.75, reg_alpha=0.01, n_estimators=30, min_child_weight=9, max_depth=4, learning_rate=0.05, gamma=0.2, colsample_bytree=0.8 \n"
     ]
    },
    {
     "name": "stderr",
     "output_type": "stream",
     "text": [
      "C:\\Users\\DELL PC\\Anaconda3\\lib\\site-packages\\sklearn\\preprocessing\\label.py:171: DeprecationWarning: The truth value of an empty array is ambiguous. Returning False, but in future this will result in an error. Use `array.size > 0` to check that an array is not empty.\n",
      "  if diff:\n"
     ]
    },
    {
     "name": "stdout",
     "output_type": "stream",
     "text": [
      "[CV]  subsample=0.75, reg_alpha=0.01, n_estimators=30, min_child_weight=9, max_depth=4, learning_rate=0.05, gamma=0.2, colsample_bytree=0.8 -   0.0s\n",
      "[CV] subsample=0.8, reg_alpha=0.001, n_estimators=700, min_child_weight=3, max_depth=5, learning_rate=0.001, gamma=0.1, colsample_bytree=0.85 \n"
     ]
    },
    {
     "name": "stderr",
     "output_type": "stream",
     "text": [
      "C:\\Users\\DELL PC\\Anaconda3\\lib\\site-packages\\sklearn\\preprocessing\\label.py:171: DeprecationWarning: The truth value of an empty array is ambiguous. Returning False, but in future this will result in an error. Use `array.size > 0` to check that an array is not empty.\n",
      "  if diff:\n"
     ]
    },
    {
     "name": "stdout",
     "output_type": "stream",
     "text": [
      "[CV]  subsample=0.8, reg_alpha=0.001, n_estimators=700, min_child_weight=3, max_depth=5, learning_rate=0.001, gamma=0.1, colsample_bytree=0.85 -   0.2s\n",
      "[CV] subsample=0.8, reg_alpha=0.001, n_estimators=700, min_child_weight=3, max_depth=5, learning_rate=0.001, gamma=0.1, colsample_bytree=0.85 \n"
     ]
    },
    {
     "name": "stderr",
     "output_type": "stream",
     "text": [
      "C:\\Users\\DELL PC\\Anaconda3\\lib\\site-packages\\sklearn\\preprocessing\\label.py:171: DeprecationWarning: The truth value of an empty array is ambiguous. Returning False, but in future this will result in an error. Use `array.size > 0` to check that an array is not empty.\n",
      "  if diff:\n"
     ]
    },
    {
     "name": "stdout",
     "output_type": "stream",
     "text": [
      "[CV]  subsample=0.8, reg_alpha=0.001, n_estimators=700, min_child_weight=3, max_depth=5, learning_rate=0.001, gamma=0.1, colsample_bytree=0.85 -   0.2s\n",
      "[CV] subsample=0.8, reg_alpha=0.001, n_estimators=700, min_child_weight=3, max_depth=5, learning_rate=0.001, gamma=0.1, colsample_bytree=0.85 \n"
     ]
    },
    {
     "name": "stderr",
     "output_type": "stream",
     "text": [
      "C:\\Users\\DELL PC\\Anaconda3\\lib\\site-packages\\sklearn\\preprocessing\\label.py:171: DeprecationWarning: The truth value of an empty array is ambiguous. Returning False, but in future this will result in an error. Use `array.size > 0` to check that an array is not empty.\n",
      "  if diff:\n"
     ]
    },
    {
     "name": "stdout",
     "output_type": "stream",
     "text": [
      "[CV]  subsample=0.8, reg_alpha=0.001, n_estimators=700, min_child_weight=3, max_depth=5, learning_rate=0.001, gamma=0.1, colsample_bytree=0.85 -   0.2s\n",
      "[CV] subsample=0.8, reg_alpha=0.001, n_estimators=700, min_child_weight=3, max_depth=5, learning_rate=0.001, gamma=0.1, colsample_bytree=0.85 \n"
     ]
    },
    {
     "name": "stderr",
     "output_type": "stream",
     "text": [
      "C:\\Users\\DELL PC\\Anaconda3\\lib\\site-packages\\sklearn\\preprocessing\\label.py:171: DeprecationWarning: The truth value of an empty array is ambiguous. Returning False, but in future this will result in an error. Use `array.size > 0` to check that an array is not empty.\n",
      "  if diff:\n"
     ]
    },
    {
     "name": "stdout",
     "output_type": "stream",
     "text": [
      "[CV]  subsample=0.8, reg_alpha=0.001, n_estimators=700, min_child_weight=3, max_depth=5, learning_rate=0.001, gamma=0.1, colsample_bytree=0.85 -   0.2s\n",
      "[CV] subsample=0.8, reg_alpha=0.001, n_estimators=700, min_child_weight=3, max_depth=5, learning_rate=0.001, gamma=0.1, colsample_bytree=0.85 \n"
     ]
    },
    {
     "name": "stderr",
     "output_type": "stream",
     "text": [
      "C:\\Users\\DELL PC\\Anaconda3\\lib\\site-packages\\sklearn\\preprocessing\\label.py:171: DeprecationWarning: The truth value of an empty array is ambiguous. Returning False, but in future this will result in an error. Use `array.size > 0` to check that an array is not empty.\n",
      "  if diff:\n",
      "C:\\Users\\DELL PC\\Anaconda3\\lib\\site-packages\\sklearn\\preprocessing\\label.py:171: DeprecationWarning: The truth value of an empty array is ambiguous. Returning False, but in future this will result in an error. Use `array.size > 0` to check that an array is not empty.\n",
      "  if diff:\n",
      "C:\\Users\\DELL PC\\Anaconda3\\lib\\site-packages\\sklearn\\preprocessing\\label.py:171: DeprecationWarning: The truth value of an empty array is ambiguous. Returning False, but in future this will result in an error. Use `array.size > 0` to check that an array is not empty.\n",
      "  if diff:\n",
      "C:\\Users\\DELL PC\\Anaconda3\\lib\\site-packages\\sklearn\\preprocessing\\label.py:171: DeprecationWarning: The truth value of an empty array is ambiguous. Returning False, but in future this will result in an error. Use `array.size > 0` to check that an array is not empty.\n",
      "  if diff:\n"
     ]
    },
    {
     "name": "stdout",
     "output_type": "stream",
     "text": [
      "[CV]  subsample=0.8, reg_alpha=0.001, n_estimators=700, min_child_weight=3, max_depth=5, learning_rate=0.001, gamma=0.1, colsample_bytree=0.85 -   0.2s\n",
      "[CV] subsample=0.75, reg_alpha=1e-05, n_estimators=100, min_child_weight=1, max_depth=10, learning_rate=0.01, gamma=0.3, colsample_bytree=0.85 \n",
      "[CV]  subsample=0.75, reg_alpha=1e-05, n_estimators=100, min_child_weight=1, max_depth=10, learning_rate=0.01, gamma=0.3, colsample_bytree=0.85 -   0.0s\n",
      "[CV] subsample=0.75, reg_alpha=1e-05, n_estimators=100, min_child_weight=1, max_depth=10, learning_rate=0.01, gamma=0.3, colsample_bytree=0.85 \n",
      "[CV]  subsample=0.75, reg_alpha=1e-05, n_estimators=100, min_child_weight=1, max_depth=10, learning_rate=0.01, gamma=0.3, colsample_bytree=0.85 -   0.0s\n",
      "[CV] subsample=0.75, reg_alpha=1e-05, n_estimators=100, min_child_weight=1, max_depth=10, learning_rate=0.01, gamma=0.3, colsample_bytree=0.85 \n",
      "[CV]  subsample=0.75, reg_alpha=1e-05, n_estimators=100, min_child_weight=1, max_depth=10, learning_rate=0.01, gamma=0.3, colsample_bytree=0.85 -   0.0s\n",
      "[CV] subsample=0.75, reg_alpha=1e-05, n_estimators=100, min_child_weight=1, max_depth=10, learning_rate=0.01, gamma=0.3, colsample_bytree=0.85 \n"
     ]
    },
    {
     "name": "stderr",
     "output_type": "stream",
     "text": [
      "C:\\Users\\DELL PC\\Anaconda3\\lib\\site-packages\\sklearn\\preprocessing\\label.py:171: DeprecationWarning: The truth value of an empty array is ambiguous. Returning False, but in future this will result in an error. Use `array.size > 0` to check that an array is not empty.\n",
      "  if diff:\n",
      "C:\\Users\\DELL PC\\Anaconda3\\lib\\site-packages\\sklearn\\preprocessing\\label.py:171: DeprecationWarning: The truth value of an empty array is ambiguous. Returning False, but in future this will result in an error. Use `array.size > 0` to check that an array is not empty.\n",
      "  if diff:\n",
      "C:\\Users\\DELL PC\\Anaconda3\\lib\\site-packages\\sklearn\\preprocessing\\label.py:171: DeprecationWarning: The truth value of an empty array is ambiguous. Returning False, but in future this will result in an error. Use `array.size > 0` to check that an array is not empty.\n",
      "  if diff:\n"
     ]
    },
    {
     "name": "stdout",
     "output_type": "stream",
     "text": [
      "[CV]  subsample=0.75, reg_alpha=1e-05, n_estimators=100, min_child_weight=1, max_depth=10, learning_rate=0.01, gamma=0.3, colsample_bytree=0.85 -   0.0s\n",
      "[CV] subsample=0.75, reg_alpha=1e-05, n_estimators=100, min_child_weight=1, max_depth=10, learning_rate=0.01, gamma=0.3, colsample_bytree=0.85 \n",
      "[CV]  subsample=0.75, reg_alpha=1e-05, n_estimators=100, min_child_weight=1, max_depth=10, learning_rate=0.01, gamma=0.3, colsample_bytree=0.85 -   0.0s\n",
      "[CV] subsample=0.8, reg_alpha=0.01, n_estimators=300, min_child_weight=3, max_depth=3, learning_rate=0.21, gamma=0.1, colsample_bytree=0.75 \n",
      "[CV]  subsample=0.8, reg_alpha=0.01, n_estimators=300, min_child_weight=3, max_depth=3, learning_rate=0.21, gamma=0.1, colsample_bytree=0.75 -   0.0s\n",
      "[CV] subsample=0.8, reg_alpha=0.01, n_estimators=300, min_child_weight=3, max_depth=3, learning_rate=0.21, gamma=0.1, colsample_bytree=0.75 \n"
     ]
    },
    {
     "name": "stderr",
     "output_type": "stream",
     "text": [
      "C:\\Users\\DELL PC\\Anaconda3\\lib\\site-packages\\sklearn\\preprocessing\\label.py:171: DeprecationWarning: The truth value of an empty array is ambiguous. Returning False, but in future this will result in an error. Use `array.size > 0` to check that an array is not empty.\n",
      "  if diff:\n",
      "C:\\Users\\DELL PC\\Anaconda3\\lib\\site-packages\\sklearn\\preprocessing\\label.py:171: DeprecationWarning: The truth value of an empty array is ambiguous. Returning False, but in future this will result in an error. Use `array.size > 0` to check that an array is not empty.\n",
      "  if diff:\n",
      "C:\\Users\\DELL PC\\Anaconda3\\lib\\site-packages\\sklearn\\preprocessing\\label.py:171: DeprecationWarning: The truth value of an empty array is ambiguous. Returning False, but in future this will result in an error. Use `array.size > 0` to check that an array is not empty.\n",
      "  if diff:\n"
     ]
    },
    {
     "name": "stdout",
     "output_type": "stream",
     "text": [
      "[CV]  subsample=0.8, reg_alpha=0.01, n_estimators=300, min_child_weight=3, max_depth=3, learning_rate=0.21, gamma=0.1, colsample_bytree=0.75 -   0.0s\n",
      "[CV] subsample=0.8, reg_alpha=0.01, n_estimators=300, min_child_weight=3, max_depth=3, learning_rate=0.21, gamma=0.1, colsample_bytree=0.75 \n",
      "[CV]  subsample=0.8, reg_alpha=0.01, n_estimators=300, min_child_weight=3, max_depth=3, learning_rate=0.21, gamma=0.1, colsample_bytree=0.75 -   0.0s\n",
      "[CV] subsample=0.8, reg_alpha=0.01, n_estimators=300, min_child_weight=3, max_depth=3, learning_rate=0.21, gamma=0.1, colsample_bytree=0.75 \n",
      "[CV]  subsample=0.8, reg_alpha=0.01, n_estimators=300, min_child_weight=3, max_depth=3, learning_rate=0.21, gamma=0.1, colsample_bytree=0.75 -   0.0s\n",
      "[CV] subsample=0.8, reg_alpha=0.01, n_estimators=300, min_child_weight=3, max_depth=3, learning_rate=0.21, gamma=0.1, colsample_bytree=0.75 \n"
     ]
    },
    {
     "name": "stderr",
     "output_type": "stream",
     "text": [
      "C:\\Users\\DELL PC\\Anaconda3\\lib\\site-packages\\sklearn\\preprocessing\\label.py:171: DeprecationWarning: The truth value of an empty array is ambiguous. Returning False, but in future this will result in an error. Use `array.size > 0` to check that an array is not empty.\n",
      "  if diff:\n",
      "C:\\Users\\DELL PC\\Anaconda3\\lib\\site-packages\\sklearn\\preprocessing\\label.py:171: DeprecationWarning: The truth value of an empty array is ambiguous. Returning False, but in future this will result in an error. Use `array.size > 0` to check that an array is not empty.\n",
      "  if diff:\n",
      "C:\\Users\\DELL PC\\Anaconda3\\lib\\site-packages\\sklearn\\preprocessing\\label.py:171: DeprecationWarning: The truth value of an empty array is ambiguous. Returning False, but in future this will result in an error. Use `array.size > 0` to check that an array is not empty.\n",
      "  if diff:\n",
      "C:\\Users\\DELL PC\\Anaconda3\\lib\\site-packages\\sklearn\\preprocessing\\label.py:171: DeprecationWarning: The truth value of an empty array is ambiguous. Returning False, but in future this will result in an error. Use `array.size > 0` to check that an array is not empty.\n",
      "  if diff:\n",
      "C:\\Users\\DELL PC\\Anaconda3\\lib\\site-packages\\sklearn\\preprocessing\\label.py:171: DeprecationWarning: The truth value of an empty array is ambiguous. Returning False, but in future this will result in an error. Use `array.size > 0` to check that an array is not empty.\n",
      "  if diff:\n"
     ]
    },
    {
     "name": "stdout",
     "output_type": "stream",
     "text": [
      "[CV]  subsample=0.8, reg_alpha=0.01, n_estimators=300, min_child_weight=3, max_depth=3, learning_rate=0.21, gamma=0.1, colsample_bytree=0.75 -   0.0s\n",
      "[CV] subsample=0.85, reg_alpha=0.05, n_estimators=100, min_child_weight=1, max_depth=5, learning_rate=0.01, gamma=0.4, colsample_bytree=0.75 \n",
      "[CV]  subsample=0.85, reg_alpha=0.05, n_estimators=100, min_child_weight=1, max_depth=5, learning_rate=0.01, gamma=0.4, colsample_bytree=0.75 -   0.0s\n",
      "[CV] subsample=0.85, reg_alpha=0.05, n_estimators=100, min_child_weight=1, max_depth=5, learning_rate=0.01, gamma=0.4, colsample_bytree=0.75 \n",
      "[CV]  subsample=0.85, reg_alpha=0.05, n_estimators=100, min_child_weight=1, max_depth=5, learning_rate=0.01, gamma=0.4, colsample_bytree=0.75 -   0.0s\n",
      "[CV] subsample=0.85, reg_alpha=0.05, n_estimators=100, min_child_weight=1, max_depth=5, learning_rate=0.01, gamma=0.4, colsample_bytree=0.75 \n",
      "[CV]  subsample=0.85, reg_alpha=0.05, n_estimators=100, min_child_weight=1, max_depth=5, learning_rate=0.01, gamma=0.4, colsample_bytree=0.75 -   0.0s\n",
      "[CV] subsample=0.85, reg_alpha=0.05, n_estimators=100, min_child_weight=1, max_depth=5, learning_rate=0.01, gamma=0.4, colsample_bytree=0.75 \n",
      "[CV]  subsample=0.85, reg_alpha=0.05, n_estimators=100, min_child_weight=1, max_depth=5, learning_rate=0.01, gamma=0.4, colsample_bytree=0.75 -   0.0s\n",
      "[CV] subsample=0.85, reg_alpha=0.05, n_estimators=100, min_child_weight=1, max_depth=5, learning_rate=0.01, gamma=0.4, colsample_bytree=0.75 \n"
     ]
    },
    {
     "name": "stderr",
     "output_type": "stream",
     "text": [
      "C:\\Users\\DELL PC\\Anaconda3\\lib\\site-packages\\sklearn\\preprocessing\\label.py:171: DeprecationWarning: The truth value of an empty array is ambiguous. Returning False, but in future this will result in an error. Use `array.size > 0` to check that an array is not empty.\n",
      "  if diff:\n",
      "C:\\Users\\DELL PC\\Anaconda3\\lib\\site-packages\\sklearn\\preprocessing\\label.py:171: DeprecationWarning: The truth value of an empty array is ambiguous. Returning False, but in future this will result in an error. Use `array.size > 0` to check that an array is not empty.\n",
      "  if diff:\n"
     ]
    },
    {
     "name": "stdout",
     "output_type": "stream",
     "text": [
      "[CV]  subsample=0.85, reg_alpha=0.05, n_estimators=100, min_child_weight=1, max_depth=5, learning_rate=0.01, gamma=0.4, colsample_bytree=0.75 -   0.0s\n",
      "[CV] subsample=0.75, reg_alpha=0.001, n_estimators=500, min_child_weight=1, max_depth=3, learning_rate=0.15, gamma=0.1, colsample_bytree=0.75 \n",
      "[CV]  subsample=0.75, reg_alpha=0.001, n_estimators=500, min_child_weight=1, max_depth=3, learning_rate=0.15, gamma=0.1, colsample_bytree=0.75 -   0.0s\n",
      "[CV] subsample=0.75, reg_alpha=0.001, n_estimators=500, min_child_weight=1, max_depth=3, learning_rate=0.15, gamma=0.1, colsample_bytree=0.75 \n"
     ]
    },
    {
     "name": "stderr",
     "output_type": "stream",
     "text": [
      "C:\\Users\\DELL PC\\Anaconda3\\lib\\site-packages\\sklearn\\preprocessing\\label.py:171: DeprecationWarning: The truth value of an empty array is ambiguous. Returning False, but in future this will result in an error. Use `array.size > 0` to check that an array is not empty.\n",
      "  if diff:\n",
      "C:\\Users\\DELL PC\\Anaconda3\\lib\\site-packages\\sklearn\\preprocessing\\label.py:171: DeprecationWarning: The truth value of an empty array is ambiguous. Returning False, but in future this will result in an error. Use `array.size > 0` to check that an array is not empty.\n",
      "  if diff:\n"
     ]
    },
    {
     "name": "stdout",
     "output_type": "stream",
     "text": [
      "[CV]  subsample=0.75, reg_alpha=0.001, n_estimators=500, min_child_weight=1, max_depth=3, learning_rate=0.15, gamma=0.1, colsample_bytree=0.75 -   0.0s\n",
      "[CV] subsample=0.75, reg_alpha=0.001, n_estimators=500, min_child_weight=1, max_depth=3, learning_rate=0.15, gamma=0.1, colsample_bytree=0.75 \n",
      "[CV]  subsample=0.75, reg_alpha=0.001, n_estimators=500, min_child_weight=1, max_depth=3, learning_rate=0.15, gamma=0.1, colsample_bytree=0.75 -   0.0s\n",
      "[CV] subsample=0.75, reg_alpha=0.001, n_estimators=500, min_child_weight=1, max_depth=3, learning_rate=0.15, gamma=0.1, colsample_bytree=0.75 \n"
     ]
    },
    {
     "name": "stderr",
     "output_type": "stream",
     "text": [
      "C:\\Users\\DELL PC\\Anaconda3\\lib\\site-packages\\sklearn\\preprocessing\\label.py:171: DeprecationWarning: The truth value of an empty array is ambiguous. Returning False, but in future this will result in an error. Use `array.size > 0` to check that an array is not empty.\n",
      "  if diff:\n",
      "C:\\Users\\DELL PC\\Anaconda3\\lib\\site-packages\\sklearn\\preprocessing\\label.py:171: DeprecationWarning: The truth value of an empty array is ambiguous. Returning False, but in future this will result in an error. Use `array.size > 0` to check that an array is not empty.\n",
      "  if diff:\n",
      "C:\\Users\\DELL PC\\Anaconda3\\lib\\site-packages\\sklearn\\preprocessing\\label.py:171: DeprecationWarning: The truth value of an empty array is ambiguous. Returning False, but in future this will result in an error. Use `array.size > 0` to check that an array is not empty.\n",
      "  if diff:\n",
      "C:\\Users\\DELL PC\\Anaconda3\\lib\\site-packages\\sklearn\\preprocessing\\label.py:171: DeprecationWarning: The truth value of an empty array is ambiguous. Returning False, but in future this will result in an error. Use `array.size > 0` to check that an array is not empty.\n",
      "  if diff:\n",
      "C:\\Users\\DELL PC\\Anaconda3\\lib\\site-packages\\sklearn\\preprocessing\\label.py:171: DeprecationWarning: The truth value of an empty array is ambiguous. Returning False, but in future this will result in an error. Use `array.size > 0` to check that an array is not empty.\n",
      "  if diff:\n",
      "C:\\Users\\DELL PC\\Anaconda3\\lib\\site-packages\\sklearn\\preprocessing\\label.py:171: DeprecationWarning: The truth value of an empty array is ambiguous. Returning False, but in future this will result in an error. Use `array.size > 0` to check that an array is not empty.\n",
      "  if diff:\n",
      "C:\\Users\\DELL PC\\Anaconda3\\lib\\site-packages\\sklearn\\preprocessing\\label.py:171: DeprecationWarning: The truth value of an empty array is ambiguous. Returning False, but in future this will result in an error. Use `array.size > 0` to check that an array is not empty.\n",
      "  if diff:\n",
      "C:\\Users\\DELL PC\\Anaconda3\\lib\\site-packages\\sklearn\\preprocessing\\label.py:171: DeprecationWarning: The truth value of an empty array is ambiguous. Returning False, but in future this will result in an error. Use `array.size > 0` to check that an array is not empty.\n",
      "  if diff:\n",
      "C:\\Users\\DELL PC\\Anaconda3\\lib\\site-packages\\sklearn\\preprocessing\\label.py:171: DeprecationWarning: The truth value of an empty array is ambiguous. Returning False, but in future this will result in an error. Use `array.size > 0` to check that an array is not empty.\n",
      "  if diff:\n"
     ]
    },
    {
     "name": "stdout",
     "output_type": "stream",
     "text": [
      "[CV]  subsample=0.75, reg_alpha=0.001, n_estimators=500, min_child_weight=1, max_depth=3, learning_rate=0.15, gamma=0.1, colsample_bytree=0.75 -   0.0s\n",
      "[CV] subsample=0.75, reg_alpha=0.001, n_estimators=500, min_child_weight=1, max_depth=3, learning_rate=0.15, gamma=0.1, colsample_bytree=0.75 \n",
      "[CV]  subsample=0.75, reg_alpha=0.001, n_estimators=500, min_child_weight=1, max_depth=3, learning_rate=0.15, gamma=0.1, colsample_bytree=0.75 -   0.0s\n",
      "[CV] subsample=0.75, reg_alpha=100, n_estimators=10, min_child_weight=3, max_depth=4, learning_rate=0.001, gamma=0.2, colsample_bytree=0.75 \n",
      "[CV]  subsample=0.75, reg_alpha=100, n_estimators=10, min_child_weight=3, max_depth=4, learning_rate=0.001, gamma=0.2, colsample_bytree=0.75 -   0.0s\n",
      "[CV] subsample=0.75, reg_alpha=100, n_estimators=10, min_child_weight=3, max_depth=4, learning_rate=0.001, gamma=0.2, colsample_bytree=0.75 \n",
      "[CV]  subsample=0.75, reg_alpha=100, n_estimators=10, min_child_weight=3, max_depth=4, learning_rate=0.001, gamma=0.2, colsample_bytree=0.75 -   0.0s\n",
      "[CV] subsample=0.75, reg_alpha=100, n_estimators=10, min_child_weight=3, max_depth=4, learning_rate=0.001, gamma=0.2, colsample_bytree=0.75 \n",
      "[CV]  subsample=0.75, reg_alpha=100, n_estimators=10, min_child_weight=3, max_depth=4, learning_rate=0.001, gamma=0.2, colsample_bytree=0.75 -   0.0s\n",
      "[CV] subsample=0.75, reg_alpha=100, n_estimators=10, min_child_weight=3, max_depth=4, learning_rate=0.001, gamma=0.2, colsample_bytree=0.75 \n",
      "[CV]  subsample=0.75, reg_alpha=100, n_estimators=10, min_child_weight=3, max_depth=4, learning_rate=0.001, gamma=0.2, colsample_bytree=0.75 -   0.0s\n",
      "[CV] subsample=0.75, reg_alpha=100, n_estimators=10, min_child_weight=3, max_depth=4, learning_rate=0.001, gamma=0.2, colsample_bytree=0.75 \n",
      "[CV]  subsample=0.75, reg_alpha=100, n_estimators=10, min_child_weight=3, max_depth=4, learning_rate=0.001, gamma=0.2, colsample_bytree=0.75 -   0.0s\n",
      "[CV] subsample=0.75, reg_alpha=0.1, n_estimators=60, min_child_weight=7, max_depth=4, learning_rate=0.21, gamma=0.0, colsample_bytree=0.8 \n",
      "[CV]  subsample=0.75, reg_alpha=0.1, n_estimators=60, min_child_weight=7, max_depth=4, learning_rate=0.21, gamma=0.0, colsample_bytree=0.8 -   0.0s\n",
      "[CV] subsample=0.75, reg_alpha=0.1, n_estimators=60, min_child_weight=7, max_depth=4, learning_rate=0.21, gamma=0.0, colsample_bytree=0.8 \n",
      "[CV]  subsample=0.75, reg_alpha=0.1, n_estimators=60, min_child_weight=7, max_depth=4, learning_rate=0.21, gamma=0.0, colsample_bytree=0.8 -   0.0s\n",
      "[CV] subsample=0.75, reg_alpha=0.1, n_estimators=60, min_child_weight=7, max_depth=4, learning_rate=0.21, gamma=0.0, colsample_bytree=0.8 \n"
     ]
    },
    {
     "name": "stderr",
     "output_type": "stream",
     "text": [
      "C:\\Users\\DELL PC\\Anaconda3\\lib\\site-packages\\sklearn\\preprocessing\\label.py:171: DeprecationWarning: The truth value of an empty array is ambiguous. Returning False, but in future this will result in an error. Use `array.size > 0` to check that an array is not empty.\n",
      "  if diff:\n",
      "C:\\Users\\DELL PC\\Anaconda3\\lib\\site-packages\\sklearn\\preprocessing\\label.py:171: DeprecationWarning: The truth value of an empty array is ambiguous. Returning False, but in future this will result in an error. Use `array.size > 0` to check that an array is not empty.\n",
      "  if diff:\n",
      "C:\\Users\\DELL PC\\Anaconda3\\lib\\site-packages\\sklearn\\preprocessing\\label.py:171: DeprecationWarning: The truth value of an empty array is ambiguous. Returning False, but in future this will result in an error. Use `array.size > 0` to check that an array is not empty.\n",
      "  if diff:\n",
      "C:\\Users\\DELL PC\\Anaconda3\\lib\\site-packages\\sklearn\\preprocessing\\label.py:171: DeprecationWarning: The truth value of an empty array is ambiguous. Returning False, but in future this will result in an error. Use `array.size > 0` to check that an array is not empty.\n",
      "  if diff:\n",
      "C:\\Users\\DELL PC\\Anaconda3\\lib\\site-packages\\sklearn\\preprocessing\\label.py:171: DeprecationWarning: The truth value of an empty array is ambiguous. Returning False, but in future this will result in an error. Use `array.size > 0` to check that an array is not empty.\n",
      "  if diff:\n",
      "C:\\Users\\DELL PC\\Anaconda3\\lib\\site-packages\\sklearn\\preprocessing\\label.py:171: DeprecationWarning: The truth value of an empty array is ambiguous. Returning False, but in future this will result in an error. Use `array.size > 0` to check that an array is not empty.\n",
      "  if diff:\n",
      "C:\\Users\\DELL PC\\Anaconda3\\lib\\site-packages\\sklearn\\preprocessing\\label.py:171: DeprecationWarning: The truth value of an empty array is ambiguous. Returning False, but in future this will result in an error. Use `array.size > 0` to check that an array is not empty.\n",
      "  if diff:\n",
      "C:\\Users\\DELL PC\\Anaconda3\\lib\\site-packages\\sklearn\\preprocessing\\label.py:171: DeprecationWarning: The truth value of an empty array is ambiguous. Returning False, but in future this will result in an error. Use `array.size > 0` to check that an array is not empty.\n",
      "  if diff:\n"
     ]
    },
    {
     "name": "stdout",
     "output_type": "stream",
     "text": [
      "[CV]  subsample=0.75, reg_alpha=0.1, n_estimators=60, min_child_weight=7, max_depth=4, learning_rate=0.21, gamma=0.0, colsample_bytree=0.8 -   0.0s\n",
      "[CV] subsample=0.75, reg_alpha=0.1, n_estimators=60, min_child_weight=7, max_depth=4, learning_rate=0.21, gamma=0.0, colsample_bytree=0.8 \n",
      "[CV]  subsample=0.75, reg_alpha=0.1, n_estimators=60, min_child_weight=7, max_depth=4, learning_rate=0.21, gamma=0.0, colsample_bytree=0.8 -   0.0s\n",
      "[CV] subsample=0.75, reg_alpha=0.1, n_estimators=60, min_child_weight=7, max_depth=4, learning_rate=0.21, gamma=0.0, colsample_bytree=0.8 \n",
      "[CV]  subsample=0.75, reg_alpha=0.1, n_estimators=60, min_child_weight=7, max_depth=4, learning_rate=0.21, gamma=0.0, colsample_bytree=0.8 -   0.0s\n",
      "[CV] subsample=0.75, reg_alpha=0.001, n_estimators=10, min_child_weight=7, max_depth=4, learning_rate=0.001, gamma=0.4, colsample_bytree=0.8 \n",
      "[CV]  subsample=0.75, reg_alpha=0.001, n_estimators=10, min_child_weight=7, max_depth=4, learning_rate=0.001, gamma=0.4, colsample_bytree=0.8 -   0.0s\n",
      "[CV] subsample=0.75, reg_alpha=0.001, n_estimators=10, min_child_weight=7, max_depth=4, learning_rate=0.001, gamma=0.4, colsample_bytree=0.8 \n",
      "[CV]  subsample=0.75, reg_alpha=0.001, n_estimators=10, min_child_weight=7, max_depth=4, learning_rate=0.001, gamma=0.4, colsample_bytree=0.8 -   0.0s\n",
      "[CV] subsample=0.75, reg_alpha=0.001, n_estimators=10, min_child_weight=7, max_depth=4, learning_rate=0.001, gamma=0.4, colsample_bytree=0.8 \n",
      "[CV]  subsample=0.75, reg_alpha=0.001, n_estimators=10, min_child_weight=7, max_depth=4, learning_rate=0.001, gamma=0.4, colsample_bytree=0.8 -   0.0s\n",
      "[CV] subsample=0.75, reg_alpha=0.001, n_estimators=10, min_child_weight=7, max_depth=4, learning_rate=0.001, gamma=0.4, colsample_bytree=0.8 \n",
      "[CV]  subsample=0.75, reg_alpha=0.001, n_estimators=10, min_child_weight=7, max_depth=4, learning_rate=0.001, gamma=0.4, colsample_bytree=0.8 -   0.0s\n",
      "[CV] subsample=0.75, reg_alpha=0.001, n_estimators=10, min_child_weight=7, max_depth=4, learning_rate=0.001, gamma=0.4, colsample_bytree=0.8 \n",
      "[CV]  subsample=0.75, reg_alpha=0.001, n_estimators=10, min_child_weight=7, max_depth=4, learning_rate=0.001, gamma=0.4, colsample_bytree=0.8 -   0.0s\n",
      "[CV] subsample=0.85, reg_alpha=0, n_estimators=700, min_child_weight=7, max_depth=4, learning_rate=0.1, gamma=0.1, colsample_bytree=0.8 \n"
     ]
    },
    {
     "name": "stderr",
     "output_type": "stream",
     "text": [
      "C:\\Users\\DELL PC\\Anaconda3\\lib\\site-packages\\sklearn\\preprocessing\\label.py:171: DeprecationWarning: The truth value of an empty array is ambiguous. Returning False, but in future this will result in an error. Use `array.size > 0` to check that an array is not empty.\n",
      "  if diff:\n"
     ]
    },
    {
     "name": "stdout",
     "output_type": "stream",
     "text": [
      "[CV]  subsample=0.85, reg_alpha=0, n_estimators=700, min_child_weight=7, max_depth=4, learning_rate=0.1, gamma=0.1, colsample_bytree=0.8 -   0.1s\n",
      "[CV] subsample=0.85, reg_alpha=0, n_estimators=700, min_child_weight=7, max_depth=4, learning_rate=0.1, gamma=0.1, colsample_bytree=0.8 \n"
     ]
    },
    {
     "name": "stderr",
     "output_type": "stream",
     "text": [
      "C:\\Users\\DELL PC\\Anaconda3\\lib\\site-packages\\sklearn\\preprocessing\\label.py:171: DeprecationWarning: The truth value of an empty array is ambiguous. Returning False, but in future this will result in an error. Use `array.size > 0` to check that an array is not empty.\n",
      "  if diff:\n"
     ]
    },
    {
     "name": "stdout",
     "output_type": "stream",
     "text": [
      "[CV]  subsample=0.85, reg_alpha=0, n_estimators=700, min_child_weight=7, max_depth=4, learning_rate=0.1, gamma=0.1, colsample_bytree=0.8 -   0.1s\n",
      "[CV] subsample=0.85, reg_alpha=0, n_estimators=700, min_child_weight=7, max_depth=4, learning_rate=0.1, gamma=0.1, colsample_bytree=0.8 \n"
     ]
    },
    {
     "name": "stderr",
     "output_type": "stream",
     "text": [
      "C:\\Users\\DELL PC\\Anaconda3\\lib\\site-packages\\sklearn\\preprocessing\\label.py:171: DeprecationWarning: The truth value of an empty array is ambiguous. Returning False, but in future this will result in an error. Use `array.size > 0` to check that an array is not empty.\n",
      "  if diff:\n",
      "C:\\Users\\DELL PC\\Anaconda3\\lib\\site-packages\\sklearn\\preprocessing\\label.py:171: DeprecationWarning: The truth value of an empty array is ambiguous. Returning False, but in future this will result in an error. Use `array.size > 0` to check that an array is not empty.\n",
      "  if diff:\n"
     ]
    },
    {
     "name": "stdout",
     "output_type": "stream",
     "text": [
      "[CV]  subsample=0.85, reg_alpha=0, n_estimators=700, min_child_weight=7, max_depth=4, learning_rate=0.1, gamma=0.1, colsample_bytree=0.8 -   0.1s\n",
      "[CV] subsample=0.85, reg_alpha=0, n_estimators=700, min_child_weight=7, max_depth=4, learning_rate=0.1, gamma=0.1, colsample_bytree=0.8 \n",
      "[CV]  subsample=0.85, reg_alpha=0, n_estimators=700, min_child_weight=7, max_depth=4, learning_rate=0.1, gamma=0.1, colsample_bytree=0.8 -   0.1s\n",
      "[CV] subsample=0.85, reg_alpha=0, n_estimators=700, min_child_weight=7, max_depth=4, learning_rate=0.1, gamma=0.1, colsample_bytree=0.8 \n"
     ]
    },
    {
     "name": "stderr",
     "output_type": "stream",
     "text": [
      "C:\\Users\\DELL PC\\Anaconda3\\lib\\site-packages\\sklearn\\preprocessing\\label.py:171: DeprecationWarning: The truth value of an empty array is ambiguous. Returning False, but in future this will result in an error. Use `array.size > 0` to check that an array is not empty.\n",
      "  if diff:\n",
      "C:\\Users\\DELL PC\\Anaconda3\\lib\\site-packages\\sklearn\\preprocessing\\label.py:171: DeprecationWarning: The truth value of an empty array is ambiguous. Returning False, but in future this will result in an error. Use `array.size > 0` to check that an array is not empty.\n",
      "  if diff:\n",
      "C:\\Users\\DELL PC\\Anaconda3\\lib\\site-packages\\sklearn\\preprocessing\\label.py:171: DeprecationWarning: The truth value of an empty array is ambiguous. Returning False, but in future this will result in an error. Use `array.size > 0` to check that an array is not empty.\n",
      "  if diff:\n",
      "C:\\Users\\DELL PC\\Anaconda3\\lib\\site-packages\\sklearn\\preprocessing\\label.py:171: DeprecationWarning: The truth value of an empty array is ambiguous. Returning False, but in future this will result in an error. Use `array.size > 0` to check that an array is not empty.\n",
      "  if diff:\n",
      "C:\\Users\\DELL PC\\Anaconda3\\lib\\site-packages\\sklearn\\preprocessing\\label.py:171: DeprecationWarning: The truth value of an empty array is ambiguous. Returning False, but in future this will result in an error. Use `array.size > 0` to check that an array is not empty.\n",
      "  if diff:\n",
      "C:\\Users\\DELL PC\\Anaconda3\\lib\\site-packages\\sklearn\\preprocessing\\label.py:171: DeprecationWarning: The truth value of an empty array is ambiguous. Returning False, but in future this will result in an error. Use `array.size > 0` to check that an array is not empty.\n",
      "  if diff:\n",
      "C:\\Users\\DELL PC\\Anaconda3\\lib\\site-packages\\sklearn\\preprocessing\\label.py:171: DeprecationWarning: The truth value of an empty array is ambiguous. Returning False, but in future this will result in an error. Use `array.size > 0` to check that an array is not empty.\n",
      "  if diff:\n",
      "C:\\Users\\DELL PC\\Anaconda3\\lib\\site-packages\\sklearn\\preprocessing\\label.py:171: DeprecationWarning: The truth value of an empty array is ambiguous. Returning False, but in future this will result in an error. Use `array.size > 0` to check that an array is not empty.\n",
      "  if diff:\n",
      "C:\\Users\\DELL PC\\Anaconda3\\lib\\site-packages\\sklearn\\preprocessing\\label.py:171: DeprecationWarning: The truth value of an empty array is ambiguous. Returning False, but in future this will result in an error. Use `array.size > 0` to check that an array is not empty.\n",
      "  if diff:\n",
      "C:\\Users\\DELL PC\\Anaconda3\\lib\\site-packages\\sklearn\\preprocessing\\label.py:171: DeprecationWarning: The truth value of an empty array is ambiguous. Returning False, but in future this will result in an error. Use `array.size > 0` to check that an array is not empty.\n",
      "  if diff:\n",
      "C:\\Users\\DELL PC\\Anaconda3\\lib\\site-packages\\sklearn\\preprocessing\\label.py:171: DeprecationWarning: The truth value of an empty array is ambiguous. Returning False, but in future this will result in an error. Use `array.size > 0` to check that an array is not empty.\n",
      "  if diff:\n"
     ]
    },
    {
     "name": "stdout",
     "output_type": "stream",
     "text": [
      "[CV]  subsample=0.85, reg_alpha=0, n_estimators=700, min_child_weight=7, max_depth=4, learning_rate=0.1, gamma=0.1, colsample_bytree=0.8 -   0.1s\n",
      "[CV] subsample=0.8, reg_alpha=0.001, n_estimators=30, min_child_weight=1, max_depth=9, learning_rate=0.05, gamma=0.1, colsample_bytree=0.85 \n",
      "[CV]  subsample=0.8, reg_alpha=0.001, n_estimators=30, min_child_weight=1, max_depth=9, learning_rate=0.05, gamma=0.1, colsample_bytree=0.85 -   0.0s\n",
      "[CV] subsample=0.8, reg_alpha=0.001, n_estimators=30, min_child_weight=1, max_depth=9, learning_rate=0.05, gamma=0.1, colsample_bytree=0.85 \n",
      "[CV]  subsample=0.8, reg_alpha=0.001, n_estimators=30, min_child_weight=1, max_depth=9, learning_rate=0.05, gamma=0.1, colsample_bytree=0.85 -   0.0s\n",
      "[CV] subsample=0.8, reg_alpha=0.001, n_estimators=30, min_child_weight=1, max_depth=9, learning_rate=0.05, gamma=0.1, colsample_bytree=0.85 \n",
      "[CV]  subsample=0.8, reg_alpha=0.001, n_estimators=30, min_child_weight=1, max_depth=9, learning_rate=0.05, gamma=0.1, colsample_bytree=0.85 -   0.0s\n",
      "[CV] subsample=0.8, reg_alpha=0.001, n_estimators=30, min_child_weight=1, max_depth=9, learning_rate=0.05, gamma=0.1, colsample_bytree=0.85 \n",
      "[CV]  subsample=0.8, reg_alpha=0.001, n_estimators=30, min_child_weight=1, max_depth=9, learning_rate=0.05, gamma=0.1, colsample_bytree=0.85 -   0.0s\n",
      "[CV] subsample=0.8, reg_alpha=0.001, n_estimators=30, min_child_weight=1, max_depth=9, learning_rate=0.05, gamma=0.1, colsample_bytree=0.85 \n",
      "[CV]  subsample=0.8, reg_alpha=0.001, n_estimators=30, min_child_weight=1, max_depth=9, learning_rate=0.05, gamma=0.1, colsample_bytree=0.85 -   0.0s\n",
      "[CV] subsample=0.75, reg_alpha=0.005, n_estimators=10, min_child_weight=9, max_depth=4, learning_rate=0.001, gamma=0.4, colsample_bytree=0.8 \n",
      "[CV]  subsample=0.75, reg_alpha=0.005, n_estimators=10, min_child_weight=9, max_depth=4, learning_rate=0.001, gamma=0.4, colsample_bytree=0.8 -   0.0s\n",
      "[CV] subsample=0.75, reg_alpha=0.005, n_estimators=10, min_child_weight=9, max_depth=4, learning_rate=0.001, gamma=0.4, colsample_bytree=0.8 \n",
      "[CV]  subsample=0.75, reg_alpha=0.005, n_estimators=10, min_child_weight=9, max_depth=4, learning_rate=0.001, gamma=0.4, colsample_bytree=0.8 -   0.0s\n",
      "[CV] subsample=0.75, reg_alpha=0.005, n_estimators=10, min_child_weight=9, max_depth=4, learning_rate=0.001, gamma=0.4, colsample_bytree=0.8 \n",
      "[CV]  subsample=0.75, reg_alpha=0.005, n_estimators=10, min_child_weight=9, max_depth=4, learning_rate=0.001, gamma=0.4, colsample_bytree=0.8 -   0.0s\n",
      "[CV] subsample=0.75, reg_alpha=0.005, n_estimators=10, min_child_weight=9, max_depth=4, learning_rate=0.001, gamma=0.4, colsample_bytree=0.8 \n",
      "[CV]  subsample=0.75, reg_alpha=0.005, n_estimators=10, min_child_weight=9, max_depth=4, learning_rate=0.001, gamma=0.4, colsample_bytree=0.8 -   0.0s\n",
      "[CV] subsample=0.75, reg_alpha=0.005, n_estimators=10, min_child_weight=9, max_depth=4, learning_rate=0.001, gamma=0.4, colsample_bytree=0.8 \n",
      "[CV]  subsample=0.75, reg_alpha=0.005, n_estimators=10, min_child_weight=9, max_depth=4, learning_rate=0.001, gamma=0.4, colsample_bytree=0.8 -   0.0s\n",
      "[CV] subsample=0.75, reg_alpha=0, n_estimators=700, min_child_weight=5, max_depth=10, learning_rate=0.01, gamma=0.0, colsample_bytree=0.85 \n"
     ]
    },
    {
     "name": "stderr",
     "output_type": "stream",
     "text": [
      "C:\\Users\\DELL PC\\Anaconda3\\lib\\site-packages\\sklearn\\preprocessing\\label.py:171: DeprecationWarning: The truth value of an empty array is ambiguous. Returning False, but in future this will result in an error. Use `array.size > 0` to check that an array is not empty.\n",
      "  if diff:\n"
     ]
    },
    {
     "name": "stdout",
     "output_type": "stream",
     "text": [
      "[CV]  subsample=0.75, reg_alpha=0, n_estimators=700, min_child_weight=5, max_depth=10, learning_rate=0.01, gamma=0.0, colsample_bytree=0.85 -   0.2s\n",
      "[CV] subsample=0.75, reg_alpha=0, n_estimators=700, min_child_weight=5, max_depth=10, learning_rate=0.01, gamma=0.0, colsample_bytree=0.85 \n"
     ]
    },
    {
     "name": "stderr",
     "output_type": "stream",
     "text": [
      "C:\\Users\\DELL PC\\Anaconda3\\lib\\site-packages\\sklearn\\preprocessing\\label.py:171: DeprecationWarning: The truth value of an empty array is ambiguous. Returning False, but in future this will result in an error. Use `array.size > 0` to check that an array is not empty.\n",
      "  if diff:\n"
     ]
    },
    {
     "name": "stdout",
     "output_type": "stream",
     "text": [
      "[CV]  subsample=0.75, reg_alpha=0, n_estimators=700, min_child_weight=5, max_depth=10, learning_rate=0.01, gamma=0.0, colsample_bytree=0.85 -   0.2s\n",
      "[CV] subsample=0.75, reg_alpha=0, n_estimators=700, min_child_weight=5, max_depth=10, learning_rate=0.01, gamma=0.0, colsample_bytree=0.85 \n"
     ]
    },
    {
     "name": "stderr",
     "output_type": "stream",
     "text": [
      "C:\\Users\\DELL PC\\Anaconda3\\lib\\site-packages\\sklearn\\preprocessing\\label.py:171: DeprecationWarning: The truth value of an empty array is ambiguous. Returning False, but in future this will result in an error. Use `array.size > 0` to check that an array is not empty.\n",
      "  if diff:\n"
     ]
    },
    {
     "name": "stdout",
     "output_type": "stream",
     "text": [
      "[CV]  subsample=0.75, reg_alpha=0, n_estimators=700, min_child_weight=5, max_depth=10, learning_rate=0.01, gamma=0.0, colsample_bytree=0.85 -   0.2s\n",
      "[CV] subsample=0.75, reg_alpha=0, n_estimators=700, min_child_weight=5, max_depth=10, learning_rate=0.01, gamma=0.0, colsample_bytree=0.85 \n"
     ]
    },
    {
     "name": "stderr",
     "output_type": "stream",
     "text": [
      "C:\\Users\\DELL PC\\Anaconda3\\lib\\site-packages\\sklearn\\preprocessing\\label.py:171: DeprecationWarning: The truth value of an empty array is ambiguous. Returning False, but in future this will result in an error. Use `array.size > 0` to check that an array is not empty.\n",
      "  if diff:\n"
     ]
    },
    {
     "name": "stdout",
     "output_type": "stream",
     "text": [
      "[CV]  subsample=0.75, reg_alpha=0, n_estimators=700, min_child_weight=5, max_depth=10, learning_rate=0.01, gamma=0.0, colsample_bytree=0.85 -   0.2s\n",
      "[CV] subsample=0.75, reg_alpha=0, n_estimators=700, min_child_weight=5, max_depth=10, learning_rate=0.01, gamma=0.0, colsample_bytree=0.85 \n"
     ]
    },
    {
     "name": "stderr",
     "output_type": "stream",
     "text": [
      "C:\\Users\\DELL PC\\Anaconda3\\lib\\site-packages\\sklearn\\preprocessing\\label.py:171: DeprecationWarning: The truth value of an empty array is ambiguous. Returning False, but in future this will result in an error. Use `array.size > 0` to check that an array is not empty.\n",
      "  if diff:\n",
      "C:\\Users\\DELL PC\\Anaconda3\\lib\\site-packages\\sklearn\\preprocessing\\label.py:171: DeprecationWarning: The truth value of an empty array is ambiguous. Returning False, but in future this will result in an error. Use `array.size > 0` to check that an array is not empty.\n",
      "  if diff:\n",
      "C:\\Users\\DELL PC\\Anaconda3\\lib\\site-packages\\sklearn\\preprocessing\\label.py:171: DeprecationWarning: The truth value of an empty array is ambiguous. Returning False, but in future this will result in an error. Use `array.size > 0` to check that an array is not empty.\n",
      "  if diff:\n",
      "C:\\Users\\DELL PC\\Anaconda3\\lib\\site-packages\\sklearn\\preprocessing\\label.py:171: DeprecationWarning: The truth value of an empty array is ambiguous. Returning False, but in future this will result in an error. Use `array.size > 0` to check that an array is not empty.\n",
      "  if diff:\n",
      "C:\\Users\\DELL PC\\Anaconda3\\lib\\site-packages\\sklearn\\preprocessing\\label.py:171: DeprecationWarning: The truth value of an empty array is ambiguous. Returning False, but in future this will result in an error. Use `array.size > 0` to check that an array is not empty.\n",
      "  if diff:\n",
      "C:\\Users\\DELL PC\\Anaconda3\\lib\\site-packages\\sklearn\\preprocessing\\label.py:171: DeprecationWarning: The truth value of an empty array is ambiguous. Returning False, but in future this will result in an error. Use `array.size > 0` to check that an array is not empty.\n",
      "  if diff:\n",
      "C:\\Users\\DELL PC\\Anaconda3\\lib\\site-packages\\sklearn\\preprocessing\\label.py:171: DeprecationWarning: The truth value of an empty array is ambiguous. Returning False, but in future this will result in an error. Use `array.size > 0` to check that an array is not empty.\n",
      "  if diff:\n",
      "C:\\Users\\DELL PC\\Anaconda3\\lib\\site-packages\\sklearn\\preprocessing\\label.py:171: DeprecationWarning: The truth value of an empty array is ambiguous. Returning False, but in future this will result in an error. Use `array.size > 0` to check that an array is not empty.\n",
      "  if diff:\n",
      "C:\\Users\\DELL PC\\Anaconda3\\lib\\site-packages\\sklearn\\preprocessing\\label.py:171: DeprecationWarning: The truth value of an empty array is ambiguous. Returning False, but in future this will result in an error. Use `array.size > 0` to check that an array is not empty.\n",
      "  if diff:\n"
     ]
    },
    {
     "name": "stdout",
     "output_type": "stream",
     "text": [
      "[CV]  subsample=0.75, reg_alpha=0, n_estimators=700, min_child_weight=5, max_depth=10, learning_rate=0.01, gamma=0.0, colsample_bytree=0.85 -   0.2s\n",
      "[CV] subsample=0.85, reg_alpha=0.05, n_estimators=30, min_child_weight=5, max_depth=6, learning_rate=0.01, gamma=0.3, colsample_bytree=0.75 \n",
      "[CV]  subsample=0.85, reg_alpha=0.05, n_estimators=30, min_child_weight=5, max_depth=6, learning_rate=0.01, gamma=0.3, colsample_bytree=0.75 -   0.0s\n",
      "[CV] subsample=0.85, reg_alpha=0.05, n_estimators=30, min_child_weight=5, max_depth=6, learning_rate=0.01, gamma=0.3, colsample_bytree=0.75 \n",
      "[CV]  subsample=0.85, reg_alpha=0.05, n_estimators=30, min_child_weight=5, max_depth=6, learning_rate=0.01, gamma=0.3, colsample_bytree=0.75 -   0.0s\n",
      "[CV] subsample=0.85, reg_alpha=0.05, n_estimators=30, min_child_weight=5, max_depth=6, learning_rate=0.01, gamma=0.3, colsample_bytree=0.75 \n",
      "[CV]  subsample=0.85, reg_alpha=0.05, n_estimators=30, min_child_weight=5, max_depth=6, learning_rate=0.01, gamma=0.3, colsample_bytree=0.75 -   0.0s\n",
      "[CV] subsample=0.85, reg_alpha=0.05, n_estimators=30, min_child_weight=5, max_depth=6, learning_rate=0.01, gamma=0.3, colsample_bytree=0.75 \n",
      "[CV]  subsample=0.85, reg_alpha=0.05, n_estimators=30, min_child_weight=5, max_depth=6, learning_rate=0.01, gamma=0.3, colsample_bytree=0.75 -   0.0s\n",
      "[CV] subsample=0.85, reg_alpha=0.05, n_estimators=30, min_child_weight=5, max_depth=6, learning_rate=0.01, gamma=0.3, colsample_bytree=0.75 \n",
      "[CV]  subsample=0.85, reg_alpha=0.05, n_estimators=30, min_child_weight=5, max_depth=6, learning_rate=0.01, gamma=0.3, colsample_bytree=0.75 -   0.0s\n",
      "[CV] subsample=0.85, reg_alpha=0.001, n_estimators=100, min_child_weight=7, max_depth=9, learning_rate=0.15, gamma=0.2, colsample_bytree=0.85 \n",
      "[CV]  subsample=0.85, reg_alpha=0.001, n_estimators=100, min_child_weight=7, max_depth=9, learning_rate=0.15, gamma=0.2, colsample_bytree=0.85 -   0.0s\n",
      "[CV] subsample=0.85, reg_alpha=0.001, n_estimators=100, min_child_weight=7, max_depth=9, learning_rate=0.15, gamma=0.2, colsample_bytree=0.85 \n",
      "[CV]  subsample=0.85, reg_alpha=0.001, n_estimators=100, min_child_weight=7, max_depth=9, learning_rate=0.15, gamma=0.2, colsample_bytree=0.85 -   0.0s\n",
      "[CV] subsample=0.85, reg_alpha=0.001, n_estimators=100, min_child_weight=7, max_depth=9, learning_rate=0.15, gamma=0.2, colsample_bytree=0.85 \n",
      "[CV]  subsample=0.85, reg_alpha=0.001, n_estimators=100, min_child_weight=7, max_depth=9, learning_rate=0.15, gamma=0.2, colsample_bytree=0.85 -   0.0s\n",
      "[CV] subsample=0.85, reg_alpha=0.001, n_estimators=100, min_child_weight=7, max_depth=9, learning_rate=0.15, gamma=0.2, colsample_bytree=0.85 \n"
     ]
    },
    {
     "name": "stderr",
     "output_type": "stream",
     "text": [
      "C:\\Users\\DELL PC\\Anaconda3\\lib\\site-packages\\sklearn\\preprocessing\\label.py:171: DeprecationWarning: The truth value of an empty array is ambiguous. Returning False, but in future this will result in an error. Use `array.size > 0` to check that an array is not empty.\n",
      "  if diff:\n",
      "C:\\Users\\DELL PC\\Anaconda3\\lib\\site-packages\\sklearn\\preprocessing\\label.py:171: DeprecationWarning: The truth value of an empty array is ambiguous. Returning False, but in future this will result in an error. Use `array.size > 0` to check that an array is not empty.\n",
      "  if diff:\n"
     ]
    },
    {
     "name": "stdout",
     "output_type": "stream",
     "text": [
      "[CV]  subsample=0.85, reg_alpha=0.001, n_estimators=100, min_child_weight=7, max_depth=9, learning_rate=0.15, gamma=0.2, colsample_bytree=0.85 -   0.0s\n",
      "[CV] subsample=0.85, reg_alpha=0.001, n_estimators=100, min_child_weight=7, max_depth=9, learning_rate=0.15, gamma=0.2, colsample_bytree=0.85 \n",
      "[CV]  subsample=0.85, reg_alpha=0.001, n_estimators=100, min_child_weight=7, max_depth=9, learning_rate=0.15, gamma=0.2, colsample_bytree=0.85 -   0.0s\n",
      "[CV] subsample=0.75, reg_alpha=1e-05, n_estimators=1000, min_child_weight=9, max_depth=10, learning_rate=0.21, gamma=0.2, colsample_bytree=0.85 \n"
     ]
    },
    {
     "name": "stderr",
     "output_type": "stream",
     "text": [
      "C:\\Users\\DELL PC\\Anaconda3\\lib\\site-packages\\sklearn\\preprocessing\\label.py:171: DeprecationWarning: The truth value of an empty array is ambiguous. Returning False, but in future this will result in an error. Use `array.size > 0` to check that an array is not empty.\n",
      "  if diff:\n"
     ]
    },
    {
     "name": "stdout",
     "output_type": "stream",
     "text": [
      "[CV]  subsample=0.75, reg_alpha=1e-05, n_estimators=1000, min_child_weight=9, max_depth=10, learning_rate=0.21, gamma=0.2, colsample_bytree=0.85 -   0.2s\n",
      "[CV] subsample=0.75, reg_alpha=1e-05, n_estimators=1000, min_child_weight=9, max_depth=10, learning_rate=0.21, gamma=0.2, colsample_bytree=0.85 \n"
     ]
    },
    {
     "name": "stderr",
     "output_type": "stream",
     "text": [
      "C:\\Users\\DELL PC\\Anaconda3\\lib\\site-packages\\sklearn\\preprocessing\\label.py:171: DeprecationWarning: The truth value of an empty array is ambiguous. Returning False, but in future this will result in an error. Use `array.size > 0` to check that an array is not empty.\n",
      "  if diff:\n"
     ]
    },
    {
     "name": "stdout",
     "output_type": "stream",
     "text": [
      "[CV]  subsample=0.75, reg_alpha=1e-05, n_estimators=1000, min_child_weight=9, max_depth=10, learning_rate=0.21, gamma=0.2, colsample_bytree=0.85 -   0.2s\n",
      "[CV] subsample=0.75, reg_alpha=1e-05, n_estimators=1000, min_child_weight=9, max_depth=10, learning_rate=0.21, gamma=0.2, colsample_bytree=0.85 \n"
     ]
    },
    {
     "name": "stderr",
     "output_type": "stream",
     "text": [
      "C:\\Users\\DELL PC\\Anaconda3\\lib\\site-packages\\sklearn\\preprocessing\\label.py:171: DeprecationWarning: The truth value of an empty array is ambiguous. Returning False, but in future this will result in an error. Use `array.size > 0` to check that an array is not empty.\n",
      "  if diff:\n"
     ]
    },
    {
     "name": "stdout",
     "output_type": "stream",
     "text": [
      "[CV]  subsample=0.75, reg_alpha=1e-05, n_estimators=1000, min_child_weight=9, max_depth=10, learning_rate=0.21, gamma=0.2, colsample_bytree=0.85 -   0.2s\n",
      "[CV] subsample=0.75, reg_alpha=1e-05, n_estimators=1000, min_child_weight=9, max_depth=10, learning_rate=0.21, gamma=0.2, colsample_bytree=0.85 \n"
     ]
    },
    {
     "name": "stderr",
     "output_type": "stream",
     "text": [
      "C:\\Users\\DELL PC\\Anaconda3\\lib\\site-packages\\sklearn\\preprocessing\\label.py:171: DeprecationWarning: The truth value of an empty array is ambiguous. Returning False, but in future this will result in an error. Use `array.size > 0` to check that an array is not empty.\n",
      "  if diff:\n"
     ]
    },
    {
     "name": "stdout",
     "output_type": "stream",
     "text": [
      "[CV]  subsample=0.75, reg_alpha=1e-05, n_estimators=1000, min_child_weight=9, max_depth=10, learning_rate=0.21, gamma=0.2, colsample_bytree=0.85 -   0.2s\n",
      "[CV] subsample=0.75, reg_alpha=1e-05, n_estimators=1000, min_child_weight=9, max_depth=10, learning_rate=0.21, gamma=0.2, colsample_bytree=0.85 \n"
     ]
    },
    {
     "name": "stderr",
     "output_type": "stream",
     "text": [
      "C:\\Users\\DELL PC\\Anaconda3\\lib\\site-packages\\sklearn\\preprocessing\\label.py:171: DeprecationWarning: The truth value of an empty array is ambiguous. Returning False, but in future this will result in an error. Use `array.size > 0` to check that an array is not empty.\n",
      "  if diff:\n",
      "C:\\Users\\DELL PC\\Anaconda3\\lib\\site-packages\\sklearn\\preprocessing\\label.py:171: DeprecationWarning: The truth value of an empty array is ambiguous. Returning False, but in future this will result in an error. Use `array.size > 0` to check that an array is not empty.\n",
      "  if diff:\n",
      "C:\\Users\\DELL PC\\Anaconda3\\lib\\site-packages\\sklearn\\preprocessing\\label.py:171: DeprecationWarning: The truth value of an empty array is ambiguous. Returning False, but in future this will result in an error. Use `array.size > 0` to check that an array is not empty.\n",
      "  if diff:\n",
      "C:\\Users\\DELL PC\\Anaconda3\\lib\\site-packages\\sklearn\\preprocessing\\label.py:171: DeprecationWarning: The truth value of an empty array is ambiguous. Returning False, but in future this will result in an error. Use `array.size > 0` to check that an array is not empty.\n",
      "  if diff:\n",
      "C:\\Users\\DELL PC\\Anaconda3\\lib\\site-packages\\sklearn\\preprocessing\\label.py:171: DeprecationWarning: The truth value of an empty array is ambiguous. Returning False, but in future this will result in an error. Use `array.size > 0` to check that an array is not empty.\n",
      "  if diff:\n",
      "C:\\Users\\DELL PC\\Anaconda3\\lib\\site-packages\\sklearn\\preprocessing\\label.py:171: DeprecationWarning: The truth value of an empty array is ambiguous. Returning False, but in future this will result in an error. Use `array.size > 0` to check that an array is not empty.\n",
      "  if diff:\n"
     ]
    },
    {
     "name": "stdout",
     "output_type": "stream",
     "text": [
      "[CV]  subsample=0.75, reg_alpha=1e-05, n_estimators=1000, min_child_weight=9, max_depth=10, learning_rate=0.21, gamma=0.2, colsample_bytree=0.85 -   0.2s\n",
      "[CV] subsample=0.75, reg_alpha=0.05, n_estimators=60, min_child_weight=5, max_depth=5, learning_rate=0.01, gamma=0.2, colsample_bytree=0.85 \n",
      "[CV]  subsample=0.75, reg_alpha=0.05, n_estimators=60, min_child_weight=5, max_depth=5, learning_rate=0.01, gamma=0.2, colsample_bytree=0.85 -   0.0s\n",
      "[CV] subsample=0.75, reg_alpha=0.05, n_estimators=60, min_child_weight=5, max_depth=5, learning_rate=0.01, gamma=0.2, colsample_bytree=0.85 \n",
      "[CV]  subsample=0.75, reg_alpha=0.05, n_estimators=60, min_child_weight=5, max_depth=5, learning_rate=0.01, gamma=0.2, colsample_bytree=0.85 -   0.0s\n",
      "[CV] subsample=0.75, reg_alpha=0.05, n_estimators=60, min_child_weight=5, max_depth=5, learning_rate=0.01, gamma=0.2, colsample_bytree=0.85 \n",
      "[CV]  subsample=0.75, reg_alpha=0.05, n_estimators=60, min_child_weight=5, max_depth=5, learning_rate=0.01, gamma=0.2, colsample_bytree=0.85 -   0.0s\n",
      "[CV] subsample=0.75, reg_alpha=0.05, n_estimators=60, min_child_weight=5, max_depth=5, learning_rate=0.01, gamma=0.2, colsample_bytree=0.85 \n",
      "[CV]  subsample=0.75, reg_alpha=0.05, n_estimators=60, min_child_weight=5, max_depth=5, learning_rate=0.01, gamma=0.2, colsample_bytree=0.85 -   0.0s\n",
      "[CV] subsample=0.75, reg_alpha=0.05, n_estimators=60, min_child_weight=5, max_depth=5, learning_rate=0.01, gamma=0.2, colsample_bytree=0.85 \n",
      "[CV]  subsample=0.75, reg_alpha=0.05, n_estimators=60, min_child_weight=5, max_depth=5, learning_rate=0.01, gamma=0.2, colsample_bytree=0.85 -   0.0s\n",
      "[CV] subsample=0.75, reg_alpha=1, n_estimators=1000, min_child_weight=3, max_depth=9, learning_rate=0.21, gamma=0.0, colsample_bytree=0.75 \n"
     ]
    },
    {
     "name": "stderr",
     "output_type": "stream",
     "text": [
      "C:\\Users\\DELL PC\\Anaconda3\\lib\\site-packages\\sklearn\\preprocessing\\label.py:171: DeprecationWarning: The truth value of an empty array is ambiguous. Returning False, but in future this will result in an error. Use `array.size > 0` to check that an array is not empty.\n",
      "  if diff:\n"
     ]
    },
    {
     "name": "stdout",
     "output_type": "stream",
     "text": [
      "[CV]  subsample=0.75, reg_alpha=1, n_estimators=1000, min_child_weight=3, max_depth=9, learning_rate=0.21, gamma=0.0, colsample_bytree=0.75 -   0.2s\n",
      "[CV] subsample=0.75, reg_alpha=1, n_estimators=1000, min_child_weight=3, max_depth=9, learning_rate=0.21, gamma=0.0, colsample_bytree=0.75 \n"
     ]
    },
    {
     "name": "stderr",
     "output_type": "stream",
     "text": [
      "C:\\Users\\DELL PC\\Anaconda3\\lib\\site-packages\\sklearn\\preprocessing\\label.py:171: DeprecationWarning: The truth value of an empty array is ambiguous. Returning False, but in future this will result in an error. Use `array.size > 0` to check that an array is not empty.\n",
      "  if diff:\n"
     ]
    },
    {
     "name": "stdout",
     "output_type": "stream",
     "text": [
      "[CV]  subsample=0.75, reg_alpha=1, n_estimators=1000, min_child_weight=3, max_depth=9, learning_rate=0.21, gamma=0.0, colsample_bytree=0.75 -   0.2s\n",
      "[CV] subsample=0.75, reg_alpha=1, n_estimators=1000, min_child_weight=3, max_depth=9, learning_rate=0.21, gamma=0.0, colsample_bytree=0.75 \n"
     ]
    },
    {
     "name": "stderr",
     "output_type": "stream",
     "text": [
      "C:\\Users\\DELL PC\\Anaconda3\\lib\\site-packages\\sklearn\\preprocessing\\label.py:171: DeprecationWarning: The truth value of an empty array is ambiguous. Returning False, but in future this will result in an error. Use `array.size > 0` to check that an array is not empty.\n",
      "  if diff:\n"
     ]
    },
    {
     "name": "stdout",
     "output_type": "stream",
     "text": [
      "[CV]  subsample=0.75, reg_alpha=1, n_estimators=1000, min_child_weight=3, max_depth=9, learning_rate=0.21, gamma=0.0, colsample_bytree=0.75 -   0.2s\n",
      "[CV] subsample=0.75, reg_alpha=1, n_estimators=1000, min_child_weight=3, max_depth=9, learning_rate=0.21, gamma=0.0, colsample_bytree=0.75 \n"
     ]
    },
    {
     "name": "stderr",
     "output_type": "stream",
     "text": [
      "C:\\Users\\DELL PC\\Anaconda3\\lib\\site-packages\\sklearn\\preprocessing\\label.py:171: DeprecationWarning: The truth value of an empty array is ambiguous. Returning False, but in future this will result in an error. Use `array.size > 0` to check that an array is not empty.\n",
      "  if diff:\n"
     ]
    },
    {
     "name": "stdout",
     "output_type": "stream",
     "text": [
      "[CV]  subsample=0.75, reg_alpha=1, n_estimators=1000, min_child_weight=3, max_depth=9, learning_rate=0.21, gamma=0.0, colsample_bytree=0.75 -   0.2s\n",
      "[CV] subsample=0.75, reg_alpha=1, n_estimators=1000, min_child_weight=3, max_depth=9, learning_rate=0.21, gamma=0.0, colsample_bytree=0.75 \n"
     ]
    },
    {
     "name": "stderr",
     "output_type": "stream",
     "text": [
      "C:\\Users\\DELL PC\\Anaconda3\\lib\\site-packages\\sklearn\\preprocessing\\label.py:171: DeprecationWarning: The truth value of an empty array is ambiguous. Returning False, but in future this will result in an error. Use `array.size > 0` to check that an array is not empty.\n",
      "  if diff:\n",
      "C:\\Users\\DELL PC\\Anaconda3\\lib\\site-packages\\sklearn\\preprocessing\\label.py:171: DeprecationWarning: The truth value of an empty array is ambiguous. Returning False, but in future this will result in an error. Use `array.size > 0` to check that an array is not empty.\n",
      "  if diff:\n",
      "C:\\Users\\DELL PC\\Anaconda3\\lib\\site-packages\\sklearn\\preprocessing\\label.py:171: DeprecationWarning: The truth value of an empty array is ambiguous. Returning False, but in future this will result in an error. Use `array.size > 0` to check that an array is not empty.\n",
      "  if diff:\n",
      "C:\\Users\\DELL PC\\Anaconda3\\lib\\site-packages\\sklearn\\preprocessing\\label.py:171: DeprecationWarning: The truth value of an empty array is ambiguous. Returning False, but in future this will result in an error. Use `array.size > 0` to check that an array is not empty.\n",
      "  if diff:\n",
      "C:\\Users\\DELL PC\\Anaconda3\\lib\\site-packages\\sklearn\\preprocessing\\label.py:171: DeprecationWarning: The truth value of an empty array is ambiguous. Returning False, but in future this will result in an error. Use `array.size > 0` to check that an array is not empty.\n",
      "  if diff:\n",
      "C:\\Users\\DELL PC\\Anaconda3\\lib\\site-packages\\sklearn\\preprocessing\\label.py:171: DeprecationWarning: The truth value of an empty array is ambiguous. Returning False, but in future this will result in an error. Use `array.size > 0` to check that an array is not empty.\n",
      "  if diff:\n",
      "C:\\Users\\DELL PC\\Anaconda3\\lib\\site-packages\\sklearn\\preprocessing\\label.py:171: DeprecationWarning: The truth value of an empty array is ambiguous. Returning False, but in future this will result in an error. Use `array.size > 0` to check that an array is not empty.\n",
      "  if diff:\n"
     ]
    },
    {
     "name": "stdout",
     "output_type": "stream",
     "text": [
      "[CV]  subsample=0.75, reg_alpha=1, n_estimators=1000, min_child_weight=3, max_depth=9, learning_rate=0.21, gamma=0.0, colsample_bytree=0.75 -   0.2s\n",
      "[CV] subsample=0.75, reg_alpha=0.05, n_estimators=60, min_child_weight=5, max_depth=4, learning_rate=0.001, gamma=0.0, colsample_bytree=0.85 \n",
      "[CV]  subsample=0.75, reg_alpha=0.05, n_estimators=60, min_child_weight=5, max_depth=4, learning_rate=0.001, gamma=0.0, colsample_bytree=0.85 -   0.0s\n",
      "[CV] subsample=0.75, reg_alpha=0.05, n_estimators=60, min_child_weight=5, max_depth=4, learning_rate=0.001, gamma=0.0, colsample_bytree=0.85 \n",
      "[CV]  subsample=0.75, reg_alpha=0.05, n_estimators=60, min_child_weight=5, max_depth=4, learning_rate=0.001, gamma=0.0, colsample_bytree=0.85 -   0.0s\n",
      "[CV] subsample=0.75, reg_alpha=0.05, n_estimators=60, min_child_weight=5, max_depth=4, learning_rate=0.001, gamma=0.0, colsample_bytree=0.85 \n",
      "[CV]  subsample=0.75, reg_alpha=0.05, n_estimators=60, min_child_weight=5, max_depth=4, learning_rate=0.001, gamma=0.0, colsample_bytree=0.85 -   0.0s\n",
      "[CV] subsample=0.75, reg_alpha=0.05, n_estimators=60, min_child_weight=5, max_depth=4, learning_rate=0.001, gamma=0.0, colsample_bytree=0.85 \n",
      "[CV]  subsample=0.75, reg_alpha=0.05, n_estimators=60, min_child_weight=5, max_depth=4, learning_rate=0.001, gamma=0.0, colsample_bytree=0.85 -   0.0s\n",
      "[CV] subsample=0.75, reg_alpha=0.05, n_estimators=60, min_child_weight=5, max_depth=4, learning_rate=0.001, gamma=0.0, colsample_bytree=0.85 \n",
      "[CV]  subsample=0.75, reg_alpha=0.05, n_estimators=60, min_child_weight=5, max_depth=4, learning_rate=0.001, gamma=0.0, colsample_bytree=0.85 -   0.0s\n",
      "[CV] subsample=0.85, reg_alpha=0, n_estimators=200, min_child_weight=5, max_depth=4, learning_rate=0.01, gamma=0.2, colsample_bytree=0.85 \n",
      "[CV]  subsample=0.85, reg_alpha=0, n_estimators=200, min_child_weight=5, max_depth=4, learning_rate=0.01, gamma=0.2, colsample_bytree=0.85 -   0.0s"
     ]
    },
    {
     "name": "stderr",
     "output_type": "stream",
     "text": [
      "C:\\Users\\DELL PC\\Anaconda3\\lib\\site-packages\\sklearn\\preprocessing\\label.py:171: DeprecationWarning: The truth value of an empty array is ambiguous. Returning False, but in future this will result in an error. Use `array.size > 0` to check that an array is not empty.\n",
      "  if diff:\n",
      "C:\\Users\\DELL PC\\Anaconda3\\lib\\site-packages\\sklearn\\preprocessing\\label.py:171: DeprecationWarning: The truth value of an empty array is ambiguous. Returning False, but in future this will result in an error. Use `array.size > 0` to check that an array is not empty.\n",
      "  if diff:\n",
      "C:\\Users\\DELL PC\\Anaconda3\\lib\\site-packages\\sklearn\\preprocessing\\label.py:171: DeprecationWarning: The truth value of an empty array is ambiguous. Returning False, but in future this will result in an error. Use `array.size > 0` to check that an array is not empty.\n",
      "  if diff:\n",
      "C:\\Users\\DELL PC\\Anaconda3\\lib\\site-packages\\sklearn\\preprocessing\\label.py:171: DeprecationWarning: The truth value of an empty array is ambiguous. Returning False, but in future this will result in an error. Use `array.size > 0` to check that an array is not empty.\n",
      "  if diff:\n"
     ]
    },
    {
     "name": "stdout",
     "output_type": "stream",
     "text": [
      "\n",
      "[CV] subsample=0.85, reg_alpha=0, n_estimators=200, min_child_weight=5, max_depth=4, learning_rate=0.01, gamma=0.2, colsample_bytree=0.85 \n",
      "[CV]  subsample=0.85, reg_alpha=0, n_estimators=200, min_child_weight=5, max_depth=4, learning_rate=0.01, gamma=0.2, colsample_bytree=0.85 -   0.0s\n",
      "[CV] subsample=0.85, reg_alpha=0, n_estimators=200, min_child_weight=5, max_depth=4, learning_rate=0.01, gamma=0.2, colsample_bytree=0.85 \n",
      "[CV]  subsample=0.85, reg_alpha=0, n_estimators=200, min_child_weight=5, max_depth=4, learning_rate=0.01, gamma=0.2, colsample_bytree=0.85 -   0.0s\n",
      "[CV] subsample=0.85, reg_alpha=0, n_estimators=200, min_child_weight=5, max_depth=4, learning_rate=0.01, gamma=0.2, colsample_bytree=0.85 \n",
      "[CV]  subsample=0.85, reg_alpha=0, n_estimators=200, min_child_weight=5, max_depth=4, learning_rate=0.01, gamma=0.2, colsample_bytree=0.85 -   0.0s\n",
      "[CV] subsample=0.85, reg_alpha=0, n_estimators=200, min_child_weight=5, max_depth=4, learning_rate=0.01, gamma=0.2, colsample_bytree=0.85 \n",
      "[CV]  subsample=0.85, reg_alpha=0, n_estimators=200, min_child_weight=5, max_depth=4, learning_rate=0.01, gamma=0.2, colsample_bytree=0.85 -   0.0s\n",
      "[CV] subsample=0.75, reg_alpha=1, n_estimators=100, min_child_weight=3, max_depth=8, learning_rate=0.15, gamma=0.1, colsample_bytree=0.75 \n"
     ]
    },
    {
     "name": "stderr",
     "output_type": "stream",
     "text": [
      "C:\\Users\\DELL PC\\Anaconda3\\lib\\site-packages\\sklearn\\preprocessing\\label.py:171: DeprecationWarning: The truth value of an empty array is ambiguous. Returning False, but in future this will result in an error. Use `array.size > 0` to check that an array is not empty.\n",
      "  if diff:\n",
      "C:\\Users\\DELL PC\\Anaconda3\\lib\\site-packages\\sklearn\\preprocessing\\label.py:171: DeprecationWarning: The truth value of an empty array is ambiguous. Returning False, but in future this will result in an error. Use `array.size > 0` to check that an array is not empty.\n",
      "  if diff:\n",
      "C:\\Users\\DELL PC\\Anaconda3\\lib\\site-packages\\sklearn\\preprocessing\\label.py:171: DeprecationWarning: The truth value of an empty array is ambiguous. Returning False, but in future this will result in an error. Use `array.size > 0` to check that an array is not empty.\n",
      "  if diff:\n",
      "C:\\Users\\DELL PC\\Anaconda3\\lib\\site-packages\\sklearn\\preprocessing\\label.py:171: DeprecationWarning: The truth value of an empty array is ambiguous. Returning False, but in future this will result in an error. Use `array.size > 0` to check that an array is not empty.\n",
      "  if diff:\n",
      "C:\\Users\\DELL PC\\Anaconda3\\lib\\site-packages\\sklearn\\preprocessing\\label.py:171: DeprecationWarning: The truth value of an empty array is ambiguous. Returning False, but in future this will result in an error. Use `array.size > 0` to check that an array is not empty.\n",
      "  if diff:\n"
     ]
    },
    {
     "name": "stdout",
     "output_type": "stream",
     "text": [
      "[CV]  subsample=0.75, reg_alpha=1, n_estimators=100, min_child_weight=3, max_depth=8, learning_rate=0.15, gamma=0.1, colsample_bytree=0.75 -   0.0s\n",
      "[CV] subsample=0.75, reg_alpha=1, n_estimators=100, min_child_weight=3, max_depth=8, learning_rate=0.15, gamma=0.1, colsample_bytree=0.75 \n",
      "[CV]  subsample=0.75, reg_alpha=1, n_estimators=100, min_child_weight=3, max_depth=8, learning_rate=0.15, gamma=0.1, colsample_bytree=0.75 -   0.0s\n",
      "[CV] subsample=0.75, reg_alpha=1, n_estimators=100, min_child_weight=3, max_depth=8, learning_rate=0.15, gamma=0.1, colsample_bytree=0.75 \n",
      "[CV]  subsample=0.75, reg_alpha=1, n_estimators=100, min_child_weight=3, max_depth=8, learning_rate=0.15, gamma=0.1, colsample_bytree=0.75 -   0.0s\n",
      "[CV] subsample=0.75, reg_alpha=1, n_estimators=100, min_child_weight=3, max_depth=8, learning_rate=0.15, gamma=0.1, colsample_bytree=0.75 \n",
      "[CV]  subsample=0.75, reg_alpha=1, n_estimators=100, min_child_weight=3, max_depth=8, learning_rate=0.15, gamma=0.1, colsample_bytree=0.75 -   0.0s\n",
      "[CV] subsample=0.75, reg_alpha=1, n_estimators=100, min_child_weight=3, max_depth=8, learning_rate=0.15, gamma=0.1, colsample_bytree=0.75 \n",
      "[CV]  subsample=0.75, reg_alpha=1, n_estimators=100, min_child_weight=3, max_depth=8, learning_rate=0.15, gamma=0.1, colsample_bytree=0.75 -   0.0s\n",
      "[CV] subsample=0.75, reg_alpha=1e-05, n_estimators=200, min_child_weight=9, max_depth=7, learning_rate=0.05, gamma=0.2, colsample_bytree=0.75 \n"
     ]
    },
    {
     "name": "stderr",
     "output_type": "stream",
     "text": [
      "C:\\Users\\DELL PC\\Anaconda3\\lib\\site-packages\\sklearn\\preprocessing\\label.py:171: DeprecationWarning: The truth value of an empty array is ambiguous. Returning False, but in future this will result in an error. Use `array.size > 0` to check that an array is not empty.\n",
      "  if diff:\n",
      "C:\\Users\\DELL PC\\Anaconda3\\lib\\site-packages\\sklearn\\preprocessing\\label.py:171: DeprecationWarning: The truth value of an empty array is ambiguous. Returning False, but in future this will result in an error. Use `array.size > 0` to check that an array is not empty.\n",
      "  if diff:\n",
      "C:\\Users\\DELL PC\\Anaconda3\\lib\\site-packages\\sklearn\\preprocessing\\label.py:171: DeprecationWarning: The truth value of an empty array is ambiguous. Returning False, but in future this will result in an error. Use `array.size > 0` to check that an array is not empty.\n",
      "  if diff:\n",
      "C:\\Users\\DELL PC\\Anaconda3\\lib\\site-packages\\sklearn\\preprocessing\\label.py:171: DeprecationWarning: The truth value of an empty array is ambiguous. Returning False, but in future this will result in an error. Use `array.size > 0` to check that an array is not empty.\n",
      "  if diff:\n"
     ]
    },
    {
     "name": "stdout",
     "output_type": "stream",
     "text": [
      "[CV]  subsample=0.75, reg_alpha=1e-05, n_estimators=200, min_child_weight=9, max_depth=7, learning_rate=0.05, gamma=0.2, colsample_bytree=0.75 -   0.0s\n",
      "[CV] subsample=0.75, reg_alpha=1e-05, n_estimators=200, min_child_weight=9, max_depth=7, learning_rate=0.05, gamma=0.2, colsample_bytree=0.75 \n",
      "[CV]  subsample=0.75, reg_alpha=1e-05, n_estimators=200, min_child_weight=9, max_depth=7, learning_rate=0.05, gamma=0.2, colsample_bytree=0.75 -   0.0s\n",
      "[CV] subsample=0.75, reg_alpha=1e-05, n_estimators=200, min_child_weight=9, max_depth=7, learning_rate=0.05, gamma=0.2, colsample_bytree=0.75 \n",
      "[CV]  subsample=0.75, reg_alpha=1e-05, n_estimators=200, min_child_weight=9, max_depth=7, learning_rate=0.05, gamma=0.2, colsample_bytree=0.75 -   0.0s\n",
      "[CV] subsample=0.75, reg_alpha=1e-05, n_estimators=200, min_child_weight=9, max_depth=7, learning_rate=0.05, gamma=0.2, colsample_bytree=0.75 \n",
      "[CV]  subsample=0.75, reg_alpha=1e-05, n_estimators=200, min_child_weight=9, max_depth=7, learning_rate=0.05, gamma=0.2, colsample_bytree=0.75 -   0.0s\n",
      "[CV] subsample=0.75, reg_alpha=1e-05, n_estimators=200, min_child_weight=9, max_depth=7, learning_rate=0.05, gamma=0.2, colsample_bytree=0.75 \n"
     ]
    },
    {
     "name": "stderr",
     "output_type": "stream",
     "text": [
      "C:\\Users\\DELL PC\\Anaconda3\\lib\\site-packages\\sklearn\\preprocessing\\label.py:171: DeprecationWarning: The truth value of an empty array is ambiguous. Returning False, but in future this will result in an error. Use `array.size > 0` to check that an array is not empty.\n",
      "  if diff:\n"
     ]
    },
    {
     "name": "stdout",
     "output_type": "stream",
     "text": [
      "[CV]  subsample=0.75, reg_alpha=1e-05, n_estimators=200, min_child_weight=9, max_depth=7, learning_rate=0.05, gamma=0.2, colsample_bytree=0.75 -   0.0s\n",
      "[CV] subsample=0.8, reg_alpha=0.1, n_estimators=1000, min_child_weight=5, max_depth=8, learning_rate=0.001, gamma=0.4, colsample_bytree=0.75 \n"
     ]
    },
    {
     "name": "stderr",
     "output_type": "stream",
     "text": [
      "C:\\Users\\DELL PC\\Anaconda3\\lib\\site-packages\\sklearn\\preprocessing\\label.py:171: DeprecationWarning: The truth value of an empty array is ambiguous. Returning False, but in future this will result in an error. Use `array.size > 0` to check that an array is not empty.\n",
      "  if diff:\n"
     ]
    },
    {
     "name": "stdout",
     "output_type": "stream",
     "text": [
      "[CV]  subsample=0.8, reg_alpha=0.1, n_estimators=1000, min_child_weight=5, max_depth=8, learning_rate=0.001, gamma=0.4, colsample_bytree=0.75 -   0.3s\n",
      "[CV] subsample=0.8, reg_alpha=0.1, n_estimators=1000, min_child_weight=5, max_depth=8, learning_rate=0.001, gamma=0.4, colsample_bytree=0.75 \n"
     ]
    },
    {
     "name": "stderr",
     "output_type": "stream",
     "text": [
      "C:\\Users\\DELL PC\\Anaconda3\\lib\\site-packages\\sklearn\\preprocessing\\label.py:171: DeprecationWarning: The truth value of an empty array is ambiguous. Returning False, but in future this will result in an error. Use `array.size > 0` to check that an array is not empty.\n",
      "  if diff:\n"
     ]
    },
    {
     "name": "stdout",
     "output_type": "stream",
     "text": [
      "[CV]  subsample=0.8, reg_alpha=0.1, n_estimators=1000, min_child_weight=5, max_depth=8, learning_rate=0.001, gamma=0.4, colsample_bytree=0.75 -   0.3s\n",
      "[CV] subsample=0.8, reg_alpha=0.1, n_estimators=1000, min_child_weight=5, max_depth=8, learning_rate=0.001, gamma=0.4, colsample_bytree=0.75 \n"
     ]
    },
    {
     "name": "stderr",
     "output_type": "stream",
     "text": [
      "C:\\Users\\DELL PC\\Anaconda3\\lib\\site-packages\\sklearn\\preprocessing\\label.py:171: DeprecationWarning: The truth value of an empty array is ambiguous. Returning False, but in future this will result in an error. Use `array.size > 0` to check that an array is not empty.\n",
      "  if diff:\n"
     ]
    },
    {
     "name": "stdout",
     "output_type": "stream",
     "text": [
      "[CV]  subsample=0.8, reg_alpha=0.1, n_estimators=1000, min_child_weight=5, max_depth=8, learning_rate=0.001, gamma=0.4, colsample_bytree=0.75 -   0.3s\n",
      "[CV] subsample=0.8, reg_alpha=0.1, n_estimators=1000, min_child_weight=5, max_depth=8, learning_rate=0.001, gamma=0.4, colsample_bytree=0.75 \n"
     ]
    },
    {
     "name": "stderr",
     "output_type": "stream",
     "text": [
      "C:\\Users\\DELL PC\\Anaconda3\\lib\\site-packages\\sklearn\\preprocessing\\label.py:171: DeprecationWarning: The truth value of an empty array is ambiguous. Returning False, but in future this will result in an error. Use `array.size > 0` to check that an array is not empty.\n",
      "  if diff:\n"
     ]
    },
    {
     "name": "stdout",
     "output_type": "stream",
     "text": [
      "[CV]  subsample=0.8, reg_alpha=0.1, n_estimators=1000, min_child_weight=5, max_depth=8, learning_rate=0.001, gamma=0.4, colsample_bytree=0.75 -   0.3s\n",
      "[CV] subsample=0.8, reg_alpha=0.1, n_estimators=1000, min_child_weight=5, max_depth=8, learning_rate=0.001, gamma=0.4, colsample_bytree=0.75 \n"
     ]
    },
    {
     "name": "stderr",
     "output_type": "stream",
     "text": [
      "C:\\Users\\DELL PC\\Anaconda3\\lib\\site-packages\\sklearn\\preprocessing\\label.py:171: DeprecationWarning: The truth value of an empty array is ambiguous. Returning False, but in future this will result in an error. Use `array.size > 0` to check that an array is not empty.\n",
      "  if diff:\n",
      "C:\\Users\\DELL PC\\Anaconda3\\lib\\site-packages\\sklearn\\preprocessing\\label.py:171: DeprecationWarning: The truth value of an empty array is ambiguous. Returning False, but in future this will result in an error. Use `array.size > 0` to check that an array is not empty.\n",
      "  if diff:\n",
      "C:\\Users\\DELL PC\\Anaconda3\\lib\\site-packages\\sklearn\\preprocessing\\label.py:171: DeprecationWarning: The truth value of an empty array is ambiguous. Returning False, but in future this will result in an error. Use `array.size > 0` to check that an array is not empty.\n",
      "  if diff:\n"
     ]
    },
    {
     "name": "stdout",
     "output_type": "stream",
     "text": [
      "[CV]  subsample=0.8, reg_alpha=0.1, n_estimators=1000, min_child_weight=5, max_depth=8, learning_rate=0.001, gamma=0.4, colsample_bytree=0.75 -   0.3s\n",
      "[CV] subsample=0.8, reg_alpha=0, n_estimators=200, min_child_weight=3, max_depth=8, learning_rate=0.05, gamma=0.4, colsample_bytree=0.8 \n",
      "[CV]  subsample=0.8, reg_alpha=0, n_estimators=200, min_child_weight=3, max_depth=8, learning_rate=0.05, gamma=0.4, colsample_bytree=0.8 -   0.0s\n",
      "[CV] subsample=0.8, reg_alpha=0, n_estimators=200, min_child_weight=3, max_depth=8, learning_rate=0.05, gamma=0.4, colsample_bytree=0.8 \n",
      "[CV]  subsample=0.8, reg_alpha=0, n_estimators=200, min_child_weight=3, max_depth=8, learning_rate=0.05, gamma=0.4, colsample_bytree=0.8 -   0.0s\n",
      "[CV] subsample=0.8, reg_alpha=0, n_estimators=200, min_child_weight=3, max_depth=8, learning_rate=0.05, gamma=0.4, colsample_bytree=0.8 \n"
     ]
    },
    {
     "name": "stderr",
     "output_type": "stream",
     "text": [
      "C:\\Users\\DELL PC\\Anaconda3\\lib\\site-packages\\sklearn\\preprocessing\\label.py:171: DeprecationWarning: The truth value of an empty array is ambiguous. Returning False, but in future this will result in an error. Use `array.size > 0` to check that an array is not empty.\n",
      "  if diff:\n",
      "C:\\Users\\DELL PC\\Anaconda3\\lib\\site-packages\\sklearn\\preprocessing\\label.py:171: DeprecationWarning: The truth value of an empty array is ambiguous. Returning False, but in future this will result in an error. Use `array.size > 0` to check that an array is not empty.\n",
      "  if diff:\n"
     ]
    },
    {
     "name": "stdout",
     "output_type": "stream",
     "text": [
      "[CV]  subsample=0.8, reg_alpha=0, n_estimators=200, min_child_weight=3, max_depth=8, learning_rate=0.05, gamma=0.4, colsample_bytree=0.8 -   0.0s\n",
      "[CV] subsample=0.8, reg_alpha=0, n_estimators=200, min_child_weight=3, max_depth=8, learning_rate=0.05, gamma=0.4, colsample_bytree=0.8 \n",
      "[CV]  subsample=0.8, reg_alpha=0, n_estimators=200, min_child_weight=3, max_depth=8, learning_rate=0.05, gamma=0.4, colsample_bytree=0.8 -   0.0s\n",
      "[CV] subsample=0.8, reg_alpha=0, n_estimators=200, min_child_weight=3, max_depth=8, learning_rate=0.05, gamma=0.4, colsample_bytree=0.8 \n"
     ]
    },
    {
     "name": "stderr",
     "output_type": "stream",
     "text": [
      "C:\\Users\\DELL PC\\Anaconda3\\lib\\site-packages\\sklearn\\preprocessing\\label.py:171: DeprecationWarning: The truth value of an empty array is ambiguous. Returning False, but in future this will result in an error. Use `array.size > 0` to check that an array is not empty.\n",
      "  if diff:\n",
      "C:\\Users\\DELL PC\\Anaconda3\\lib\\site-packages\\sklearn\\preprocessing\\label.py:171: DeprecationWarning: The truth value of an empty array is ambiguous. Returning False, but in future this will result in an error. Use `array.size > 0` to check that an array is not empty.\n",
      "  if diff:\n"
     ]
    },
    {
     "name": "stdout",
     "output_type": "stream",
     "text": [
      "[CV]  subsample=0.8, reg_alpha=0, n_estimators=200, min_child_weight=3, max_depth=8, learning_rate=0.05, gamma=0.4, colsample_bytree=0.8 -   0.0s\n",
      "[CV] subsample=0.8, reg_alpha=0.01, n_estimators=300, min_child_weight=5, max_depth=8, learning_rate=0.001, gamma=0.1, colsample_bytree=0.8 \n",
      "[CV]  subsample=0.8, reg_alpha=0.01, n_estimators=300, min_child_weight=5, max_depth=8, learning_rate=0.001, gamma=0.1, colsample_bytree=0.8 -   0.0s\n",
      "[CV] subsample=0.8, reg_alpha=0.01, n_estimators=300, min_child_weight=5, max_depth=8, learning_rate=0.001, gamma=0.1, colsample_bytree=0.8 \n"
     ]
    },
    {
     "name": "stderr",
     "output_type": "stream",
     "text": [
      "C:\\Users\\DELL PC\\Anaconda3\\lib\\site-packages\\sklearn\\preprocessing\\label.py:171: DeprecationWarning: The truth value of an empty array is ambiguous. Returning False, but in future this will result in an error. Use `array.size > 0` to check that an array is not empty.\n",
      "  if diff:\n",
      "C:\\Users\\DELL PC\\Anaconda3\\lib\\site-packages\\sklearn\\preprocessing\\label.py:171: DeprecationWarning: The truth value of an empty array is ambiguous. Returning False, but in future this will result in an error. Use `array.size > 0` to check that an array is not empty.\n",
      "  if diff:\n"
     ]
    },
    {
     "name": "stdout",
     "output_type": "stream",
     "text": [
      "[CV]  subsample=0.8, reg_alpha=0.01, n_estimators=300, min_child_weight=5, max_depth=8, learning_rate=0.001, gamma=0.1, colsample_bytree=0.8 -   0.0s\n",
      "[CV] subsample=0.8, reg_alpha=0.01, n_estimators=300, min_child_weight=5, max_depth=8, learning_rate=0.001, gamma=0.1, colsample_bytree=0.8 \n",
      "[CV]  subsample=0.8, reg_alpha=0.01, n_estimators=300, min_child_weight=5, max_depth=8, learning_rate=0.001, gamma=0.1, colsample_bytree=0.8 -   0.0s\n",
      "[CV] subsample=0.8, reg_alpha=0.01, n_estimators=300, min_child_weight=5, max_depth=8, learning_rate=0.001, gamma=0.1, colsample_bytree=0.8 \n"
     ]
    },
    {
     "name": "stderr",
     "output_type": "stream",
     "text": [
      "C:\\Users\\DELL PC\\Anaconda3\\lib\\site-packages\\sklearn\\preprocessing\\label.py:171: DeprecationWarning: The truth value of an empty array is ambiguous. Returning False, but in future this will result in an error. Use `array.size > 0` to check that an array is not empty.\n",
      "  if diff:\n",
      "C:\\Users\\DELL PC\\Anaconda3\\lib\\site-packages\\sklearn\\preprocessing\\label.py:171: DeprecationWarning: The truth value of an empty array is ambiguous. Returning False, but in future this will result in an error. Use `array.size > 0` to check that an array is not empty.\n",
      "  if diff:\n"
     ]
    },
    {
     "name": "stdout",
     "output_type": "stream",
     "text": [
      "[CV]  subsample=0.8, reg_alpha=0.01, n_estimators=300, min_child_weight=5, max_depth=8, learning_rate=0.001, gamma=0.1, colsample_bytree=0.8 -   0.0s\n",
      "[CV] subsample=0.8, reg_alpha=0.01, n_estimators=300, min_child_weight=5, max_depth=8, learning_rate=0.001, gamma=0.1, colsample_bytree=0.8 \n",
      "[CV]  subsample=0.8, reg_alpha=0.01, n_estimators=300, min_child_weight=5, max_depth=8, learning_rate=0.001, gamma=0.1, colsample_bytree=0.8 -   0.0s\n",
      "[CV] subsample=0.85, reg_alpha=0.005, n_estimators=700, min_child_weight=5, max_depth=9, learning_rate=0.01, gamma=0.3, colsample_bytree=0.8 \n"
     ]
    },
    {
     "name": "stderr",
     "output_type": "stream",
     "text": [
      "C:\\Users\\DELL PC\\Anaconda3\\lib\\site-packages\\sklearn\\preprocessing\\label.py:171: DeprecationWarning: The truth value of an empty array is ambiguous. Returning False, but in future this will result in an error. Use `array.size > 0` to check that an array is not empty.\n",
      "  if diff:\n"
     ]
    },
    {
     "name": "stdout",
     "output_type": "stream",
     "text": [
      "[CV]  subsample=0.85, reg_alpha=0.005, n_estimators=700, min_child_weight=5, max_depth=9, learning_rate=0.01, gamma=0.3, colsample_bytree=0.8 -   0.2s\n",
      "[CV] subsample=0.85, reg_alpha=0.005, n_estimators=700, min_child_weight=5, max_depth=9, learning_rate=0.01, gamma=0.3, colsample_bytree=0.8 \n"
     ]
    },
    {
     "name": "stderr",
     "output_type": "stream",
     "text": [
      "C:\\Users\\DELL PC\\Anaconda3\\lib\\site-packages\\sklearn\\preprocessing\\label.py:171: DeprecationWarning: The truth value of an empty array is ambiguous. Returning False, but in future this will result in an error. Use `array.size > 0` to check that an array is not empty.\n",
      "  if diff:\n"
     ]
    },
    {
     "name": "stdout",
     "output_type": "stream",
     "text": [
      "[CV]  subsample=0.85, reg_alpha=0.005, n_estimators=700, min_child_weight=5, max_depth=9, learning_rate=0.01, gamma=0.3, colsample_bytree=0.8 -   0.2s\n",
      "[CV] subsample=0.85, reg_alpha=0.005, n_estimators=700, min_child_weight=5, max_depth=9, learning_rate=0.01, gamma=0.3, colsample_bytree=0.8 \n"
     ]
    },
    {
     "name": "stderr",
     "output_type": "stream",
     "text": [
      "C:\\Users\\DELL PC\\Anaconda3\\lib\\site-packages\\sklearn\\preprocessing\\label.py:171: DeprecationWarning: The truth value of an empty array is ambiguous. Returning False, but in future this will result in an error. Use `array.size > 0` to check that an array is not empty.\n",
      "  if diff:\n"
     ]
    },
    {
     "name": "stdout",
     "output_type": "stream",
     "text": [
      "[CV]  subsample=0.85, reg_alpha=0.005, n_estimators=700, min_child_weight=5, max_depth=9, learning_rate=0.01, gamma=0.3, colsample_bytree=0.8 -   0.2s\n",
      "[CV] subsample=0.85, reg_alpha=0.005, n_estimators=700, min_child_weight=5, max_depth=9, learning_rate=0.01, gamma=0.3, colsample_bytree=0.8 \n"
     ]
    },
    {
     "name": "stderr",
     "output_type": "stream",
     "text": [
      "C:\\Users\\DELL PC\\Anaconda3\\lib\\site-packages\\sklearn\\preprocessing\\label.py:171: DeprecationWarning: The truth value of an empty array is ambiguous. Returning False, but in future this will result in an error. Use `array.size > 0` to check that an array is not empty.\n",
      "  if diff:\n"
     ]
    },
    {
     "name": "stdout",
     "output_type": "stream",
     "text": [
      "[CV]  subsample=0.85, reg_alpha=0.005, n_estimators=700, min_child_weight=5, max_depth=9, learning_rate=0.01, gamma=0.3, colsample_bytree=0.8 -   0.2s\n",
      "[CV] subsample=0.85, reg_alpha=0.005, n_estimators=700, min_child_weight=5, max_depth=9, learning_rate=0.01, gamma=0.3, colsample_bytree=0.8 \n"
     ]
    },
    {
     "name": "stderr",
     "output_type": "stream",
     "text": [
      "C:\\Users\\DELL PC\\Anaconda3\\lib\\site-packages\\sklearn\\preprocessing\\label.py:171: DeprecationWarning: The truth value of an empty array is ambiguous. Returning False, but in future this will result in an error. Use `array.size > 0` to check that an array is not empty.\n",
      "  if diff:\n",
      "[Parallel(n_jobs=1)]: Done 500 out of 500 | elapsed:  1.0min finished\n"
     ]
    },
    {
     "name": "stdout",
     "output_type": "stream",
     "text": [
      "[CV]  subsample=0.85, reg_alpha=0.005, n_estimators=700, min_child_weight=5, max_depth=9, learning_rate=0.01, gamma=0.3, colsample_bytree=0.8 -   0.2s\n",
      "Wall time: 1min 2s\n"
     ]
    }
   ],
   "source": [
    "%%time \n",
    "randcvXGB = RandomizedSearchCV(xgb, XGB_param_grid, cv=5, n_iter=100, scoring='accuracy',verbose=2)\n",
    "randcvXGB.fit(X_train, Y_train)"
   ]
  },
  {
   "cell_type": "code",
   "execution_count": 25,
   "metadata": {},
   "outputs": [
    {
     "name": "stdout",
     "output_type": "stream",
     "text": [
      "0.8356741573033708\n",
      "{'subsample': 0.75, 'reg_alpha': 0.05, 'n_estimators': 700, 'min_child_weight': 5, 'max_depth': 3, 'learning_rate': 0.15, 'gamma': 0.4, 'colsample_bytree': 0.8}\n"
     ]
    }
   ],
   "source": [
    "print(randcvXGB.best_score_)\n",
    "print(randcvXGB.best_params_)"
   ]
  },
  {
   "cell_type": "code",
   "execution_count": 35,
   "metadata": {},
   "outputs": [],
   "source": [
    "tunedXGB= XGBClassifier(subsample=0.75, reg_alpha= 0.05 , min_child_weight= 5, learning_rate= 0.15, gamma= 0.4, colsample_bytree= 0.8, n_estimators=700, max_depth=3)"
   ]
  },
  {
   "cell_type": "code",
   "execution_count": 36,
   "metadata": {},
   "outputs": [
    {
     "data": {
      "text/plain": [
       "XGBClassifier(base_score=0.5, booster='gbtree', colsample_bylevel=1,\n",
       "       colsample_bytree=0.8, gamma=0.4, learning_rate=0.15,\n",
       "       max_delta_step=0, max_depth=3, min_child_weight=5, missing=None,\n",
       "       n_estimators=700, n_jobs=1, nthread=None,\n",
       "       objective='binary:logistic', random_state=0, reg_alpha=0.05,\n",
       "       reg_lambda=1, scale_pos_weight=1, seed=None, silent=True,\n",
       "       subsample=0.75)"
      ]
     },
     "execution_count": 36,
     "metadata": {},
     "output_type": "execute_result"
    }
   ],
   "source": [
    "tunedXGB.fit(X_train,Y_train)"
   ]
  },
  {
   "cell_type": "code",
   "execution_count": 37,
   "metadata": {},
   "outputs": [
    {
     "name": "stderr",
     "output_type": "stream",
     "text": [
      "C:\\Users\\DELL PC\\Anaconda3\\lib\\site-packages\\sklearn\\preprocessing\\label.py:171: DeprecationWarning: The truth value of an empty array is ambiguous. Returning False, but in future this will result in an error. Use `array.size > 0` to check that an array is not empty.\n",
      "  if diff:\n"
     ]
    }
   ],
   "source": [
    "predictions = tunedXGB.predict(X_test)"
   ]
  },
  {
   "cell_type": "code",
   "execution_count": 38,
   "metadata": {},
   "outputs": [
    {
     "data": {
      "text/plain": [
       "array([0, 0, 0, 0, 0, 0, 0, 0, 1, 0, 0, 0, 1, 0, 1, 1, 0, 0, 0, 0, 1, 0,\n",
       "       1, 1, 1, 0, 1, 0, 1, 0, 0, 0, 1, 0, 1, 0, 1, 0, 0, 1, 0, 1, 0, 1,\n",
       "       1, 1, 0, 0, 1, 0, 1, 0, 1, 1, 0, 0, 0, 0, 0, 1, 0, 0, 0, 1, 1, 1,\n",
       "       1, 0, 0, 1, 1, 0, 1, 0, 1, 1, 0, 1, 0, 1, 1, 0, 0, 0, 0, 0, 0, 1,\n",
       "       0, 1, 0, 0, 1, 0, 1, 1, 1, 0, 0, 0, 1, 0, 0, 0, 1, 0, 0, 0, 0, 0,\n",
       "       0, 0, 1, 1, 1, 0, 0, 1, 1, 1, 1, 0, 1, 0, 0, 1, 0, 0, 0, 0, 0, 0,\n",
       "       1, 0, 0, 0, 0, 0, 0, 0, 0, 1, 0, 0, 0, 0, 1, 0, 1, 0, 1, 0, 0, 0,\n",
       "       0, 0, 1, 0, 0, 0, 0, 1, 1, 0, 0, 0, 0, 0, 1, 0, 0, 0, 0, 0, 0, 1,\n",
       "       1, 1, 1, 1, 0, 1, 1, 0, 1, 0, 1, 0, 0, 0, 0, 1, 0, 0, 1, 0, 1, 1,\n",
       "       0, 1, 1, 0, 0, 1, 0, 1, 0, 0, 1, 0, 0, 0, 0, 1, 0, 0, 1, 0, 1, 0,\n",
       "       1, 0, 1, 0, 1, 1, 0, 0, 0, 0, 0, 1, 0, 0, 1, 0, 0, 0, 1, 1, 1, 1,\n",
       "       0, 0, 0, 0, 1, 0, 1, 0, 1, 0, 0, 0, 0, 0, 0, 0, 1, 0, 0, 0, 1, 1,\n",
       "       0, 0, 0, 0, 1, 0, 1, 0, 1, 0, 0, 1, 0, 0, 0, 0, 0, 1, 0, 0, 1, 0,\n",
       "       0, 0, 0, 0, 1, 0, 0, 0, 0, 0, 1, 0, 0, 0, 0, 0, 0, 0, 0, 1, 1, 1,\n",
       "       0, 0, 0, 0, 0, 0, 1, 1, 0, 0, 0, 0, 0, 1, 0, 1, 1, 0, 1, 0, 0, 0,\n",
       "       1, 0, 0, 1, 0, 1, 0, 0, 1, 0, 0, 0, 0, 1, 0, 1, 0, 0, 0, 1, 1, 0,\n",
       "       0, 0, 1, 0, 1, 0, 0, 0, 0, 1, 1, 0, 1, 1, 0, 0, 1, 0, 0, 1, 0, 0,\n",
       "       1, 1, 0, 0, 0, 1, 0, 0, 1, 1, 0, 1, 0, 0, 0, 0, 0, 1, 0, 0, 0, 1,\n",
       "       0, 1, 0, 0, 1, 0, 1, 0, 0, 0, 0, 0, 0, 1, 0, 1, 0, 0, 1, 0, 0, 0],\n",
       "      dtype=int64)"
      ]
     },
     "execution_count": 38,
     "metadata": {},
     "output_type": "execute_result"
    }
   ],
   "source": [
    "predictions"
   ]
  },
  {
   "cell_type": "code",
   "execution_count": 39,
   "metadata": {},
   "outputs": [
    {
     "data": {
      "text/plain": [
       "(418, 7)"
      ]
     },
     "execution_count": 39,
     "metadata": {},
     "output_type": "execute_result"
    }
   ],
   "source": [
    "X_test.shape"
   ]
  },
  {
   "cell_type": "code",
   "execution_count": 40,
   "metadata": {},
   "outputs": [
    {
     "data": {
      "text/html": [
       "<div>\n",
       "<style>\n",
       "    .dataframe thead tr:only-child th {\n",
       "        text-align: right;\n",
       "    }\n",
       "\n",
       "    .dataframe thead th {\n",
       "        text-align: left;\n",
       "    }\n",
       "\n",
       "    .dataframe tbody tr th {\n",
       "        vertical-align: top;\n",
       "    }\n",
       "</style>\n",
       "<table border=\"1\" class=\"dataframe\">\n",
       "  <thead>\n",
       "    <tr style=\"text-align: right;\">\n",
       "      <th></th>\n",
       "      <th>PassengerId</th>\n",
       "      <th>Pclass</th>\n",
       "      <th>Name</th>\n",
       "      <th>Sex</th>\n",
       "      <th>Age</th>\n",
       "      <th>SibSp</th>\n",
       "      <th>Parch</th>\n",
       "      <th>Ticket</th>\n",
       "      <th>Fare</th>\n",
       "      <th>Cabin</th>\n",
       "      <th>Embarked</th>\n",
       "    </tr>\n",
       "  </thead>\n",
       "  <tbody>\n",
       "    <tr>\n",
       "      <th>0</th>\n",
       "      <td>892</td>\n",
       "      <td>3</td>\n",
       "      <td>Kelly, Mr. James</td>\n",
       "      <td>male</td>\n",
       "      <td>34.5</td>\n",
       "      <td>0</td>\n",
       "      <td>0</td>\n",
       "      <td>330911</td>\n",
       "      <td>7.8292</td>\n",
       "      <td>NaN</td>\n",
       "      <td>Q</td>\n",
       "    </tr>\n",
       "    <tr>\n",
       "      <th>1</th>\n",
       "      <td>893</td>\n",
       "      <td>3</td>\n",
       "      <td>Wilkes, Mrs. James (Ellen Needs)</td>\n",
       "      <td>female</td>\n",
       "      <td>47.0</td>\n",
       "      <td>1</td>\n",
       "      <td>0</td>\n",
       "      <td>363272</td>\n",
       "      <td>7.0000</td>\n",
       "      <td>NaN</td>\n",
       "      <td>S</td>\n",
       "    </tr>\n",
       "    <tr>\n",
       "      <th>2</th>\n",
       "      <td>894</td>\n",
       "      <td>2</td>\n",
       "      <td>Myles, Mr. Thomas Francis</td>\n",
       "      <td>male</td>\n",
       "      <td>62.0</td>\n",
       "      <td>0</td>\n",
       "      <td>0</td>\n",
       "      <td>240276</td>\n",
       "      <td>9.6875</td>\n",
       "      <td>NaN</td>\n",
       "      <td>Q</td>\n",
       "    </tr>\n",
       "    <tr>\n",
       "      <th>3</th>\n",
       "      <td>895</td>\n",
       "      <td>3</td>\n",
       "      <td>Wirz, Mr. Albert</td>\n",
       "      <td>male</td>\n",
       "      <td>27.0</td>\n",
       "      <td>0</td>\n",
       "      <td>0</td>\n",
       "      <td>315154</td>\n",
       "      <td>8.6625</td>\n",
       "      <td>NaN</td>\n",
       "      <td>S</td>\n",
       "    </tr>\n",
       "    <tr>\n",
       "      <th>4</th>\n",
       "      <td>896</td>\n",
       "      <td>3</td>\n",
       "      <td>Hirvonen, Mrs. Alexander (Helga E Lindqvist)</td>\n",
       "      <td>female</td>\n",
       "      <td>22.0</td>\n",
       "      <td>1</td>\n",
       "      <td>1</td>\n",
       "      <td>3101298</td>\n",
       "      <td>12.2875</td>\n",
       "      <td>NaN</td>\n",
       "      <td>S</td>\n",
       "    </tr>\n",
       "  </tbody>\n",
       "</table>\n",
       "</div>"
      ],
      "text/plain": [
       "   PassengerId  Pclass                                          Name     Sex  \\\n",
       "0          892       3                              Kelly, Mr. James    male   \n",
       "1          893       3              Wilkes, Mrs. James (Ellen Needs)  female   \n",
       "2          894       2                     Myles, Mr. Thomas Francis    male   \n",
       "3          895       3                              Wirz, Mr. Albert    male   \n",
       "4          896       3  Hirvonen, Mrs. Alexander (Helga E Lindqvist)  female   \n",
       "\n",
       "    Age  SibSp  Parch   Ticket     Fare Cabin Embarked  \n",
       "0  34.5      0      0   330911   7.8292   NaN        Q  \n",
       "1  47.0      1      0   363272   7.0000   NaN        S  \n",
       "2  62.0      0      0   240276   9.6875   NaN        Q  \n",
       "3  27.0      0      0   315154   8.6625   NaN        S  \n",
       "4  22.0      1      1  3101298  12.2875   NaN        S  "
      ]
     },
     "execution_count": 40,
     "metadata": {},
     "output_type": "execute_result"
    }
   ],
   "source": [
    "testOriginalData.head()"
   ]
  },
  {
   "cell_type": "code",
   "execution_count": 43,
   "metadata": {
    "collapsed": true
   },
   "outputs": [],
   "source": [
    "results = pd.DataFrame({\n",
    "    \"PassengerId\": testOriginalData['PassengerId'],\n",
    "    \"Survived\": predictions})"
   ]
  },
  {
   "cell_type": "code",
   "execution_count": 45,
   "metadata": {},
   "outputs": [],
   "source": [
    "results.to_csv('titanic_XGB2.csv', index=False)   "
   ]
  },
  {
   "cell_type": "code",
   "execution_count": null,
   "metadata": {
    "collapsed": true
   },
   "outputs": [],
   "source": []
  },
  {
   "cell_type": "code",
   "execution_count": null,
   "metadata": {
    "collapsed": true
   },
   "outputs": [],
   "source": []
  }
 ],
 "metadata": {
  "kernelspec": {
   "display_name": "Python 3",
   "language": "python",
   "name": "python3"
  },
  "language_info": {
   "codemirror_mode": {
    "name": "ipython",
    "version": 3
   },
   "file_extension": ".py",
   "mimetype": "text/x-python",
   "name": "python",
   "nbconvert_exporter": "python",
   "pygments_lexer": "ipython3",
   "version": "3.6.1"
  }
 },
 "nbformat": 4,
 "nbformat_minor": 2
}
