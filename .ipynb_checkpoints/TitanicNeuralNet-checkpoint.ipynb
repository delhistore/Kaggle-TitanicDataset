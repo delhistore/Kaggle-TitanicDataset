{
 "cells": [
  {
   "cell_type": "markdown",
   "metadata": {},
   "source": [
    "# ANN implementation "
   ]
  },
  {
   "cell_type": "code",
   "execution_count": 211,
   "metadata": {
    "collapsed": true
   },
   "outputs": [],
   "source": [
    "train_location = 'C:/Users/DELL PC/Desktop/Kaggle/Titanic/train.csv'\n",
    "test_location = 'C:/Users/DELL PC/Desktop/Kaggle/Titanic/test.csv'\n",
    "Original_test_location = 'C:/Users/DELL PC/Desktop/Kaggle/Titanic/testOriginal.csv'"
   ]
  },
  {
   "cell_type": "code",
   "execution_count": 212,
   "metadata": {},
   "outputs": [],
   "source": [
    "import numpy as np\n",
    "import pandas as pd\n",
    "from sklearn.cross_validation import cross_val_score\n",
    "from sklearn.grid_search import GridSearchCV\n",
    "from sklearn.grid_search import RandomizedSearchCV\n",
    "import matplotlib as plt"
   ]
  },
  {
   "cell_type": "code",
   "execution_count": 213,
   "metadata": {
    "collapsed": true
   },
   "outputs": [],
   "source": [
    "trainData = pd.read_csv(train_location)\n",
    "# dropping any row where age is nan because it is a huge factor\n",
    "trainData = trainData.dropna(how='any',axis=0) \n",
    "X_train = trainData.iloc[:,:7].values\n",
    "Y_train = trainData.iloc[:,7].values"
   ]
  },
  {
   "cell_type": "code",
   "execution_count": null,
   "metadata": {
    "collapsed": true
   },
   "outputs": [],
   "source": [
    "# You are passing a target array of shape (712, 1) while using as loss `categorical_crossentropy`. `categorical_crossentropy` \n",
    "# expects targets to be binary matrices (1s and 0s) of shape (samples, classes). If your targets are integer classes, you \n",
    "# can convert them to the expected format via: ie convert 1 and 0 to [1, 0] and [0, 1] respectively.\n",
    "\n",
    "from keras.utils import to_categorical\n",
    "Y_train = to_categorical(Y_train)"
   ]
  },
  {
   "cell_type": "code",
   "execution_count": 214,
   "metadata": {
    "collapsed": true
   },
   "outputs": [],
   "source": [
    "testData = pd.read_csv(test_location)\n",
    "X_test = testData.iloc[:,:7].values"
   ]
  },
  {
   "cell_type": "code",
   "execution_count": 215,
   "metadata": {},
   "outputs": [
    {
     "data": {
      "text/plain": [
       "(712, 8)"
      ]
     },
     "execution_count": 215,
     "metadata": {},
     "output_type": "execute_result"
    }
   ],
   "source": [
    "trainData.shape"
   ]
  },
  {
   "cell_type": "code",
   "execution_count": 216,
   "metadata": {},
   "outputs": [
    {
     "data": {
      "text/plain": [
       "(418, 7)"
      ]
     },
     "execution_count": 216,
     "metadata": {},
     "output_type": "execute_result"
    }
   ],
   "source": [
    "testData.shape"
   ]
  },
  {
   "cell_type": "code",
   "execution_count": 217,
   "metadata": {},
   "outputs": [],
   "source": [
    "trainData;"
   ]
  },
  {
   "cell_type": "code",
   "execution_count": 218,
   "metadata": {
    "collapsed": true
   },
   "outputs": [],
   "source": [
    "# dont drop test values as it is required to submit 418 rows of predictions\n",
    "from sklearn.preprocessing import Imputer\n",
    "imputer = Imputer(missing_values='NaN', strategy='mean', axis=0)\n",
    "testImputer = imputer.fit(X_test[:,:])\n",
    "X_test[:,:] = testImputer.transform(X_test[:,:])"
   ]
  },
  {
   "cell_type": "code",
   "execution_count": 219,
   "metadata": {},
   "outputs": [
    {
     "data": {
      "text/plain": [
       "array([[ 3.    ,  0.    , 22.    , ...,  0.    ,  7.25  ,  1.    ],\n",
       "       [ 1.    ,  1.    , 38.    , ...,  0.    , 71.2833,  0.    ],\n",
       "       [ 3.    ,  1.    , 26.    , ...,  0.    ,  7.925 ,  1.    ],\n",
       "       ...,\n",
       "       [ 1.    ,  1.    , 19.    , ...,  0.    , 30.    ,  1.    ],\n",
       "       [ 1.    ,  0.    , 26.    , ...,  0.    , 30.    ,  0.    ],\n",
       "       [ 3.    ,  0.    , 32.    , ...,  0.    ,  7.75  ,  2.    ]])"
      ]
     },
     "execution_count": 219,
     "metadata": {},
     "output_type": "execute_result"
    }
   ],
   "source": [
    "X_train"
   ]
  },
  {
   "cell_type": "code",
   "execution_count": 220,
   "metadata": {},
   "outputs": [],
   "source": [
    "# scaling \n",
    "from sklearn.preprocessing import MinMaxScaler\n",
    "scaler = MinMaxScaler(feature_range=(0, 1), copy=True)\n",
    "X_train = scaler.fit_transform(X_train)\n",
    "X_test = scaler.fit_transform(X_test)"
   ]
  },
  {
   "cell_type": "code",
   "execution_count": 221,
   "metadata": {},
   "outputs": [
    {
     "data": {
      "text/plain": [
       "(712, 7)"
      ]
     },
     "execution_count": 221,
     "metadata": {},
     "output_type": "execute_result"
    }
   ],
   "source": [
    "X_train.shape"
   ]
  },
  {
   "cell_type": "code",
   "execution_count": 222,
   "metadata": {},
   "outputs": [
    {
     "data": {
      "text/plain": [
       "dtype('float64')"
      ]
     },
     "execution_count": 222,
     "metadata": {},
     "output_type": "execute_result"
    }
   ],
   "source": [
    "X_train.dtype"
   ]
  },
  {
   "cell_type": "markdown",
   "metadata": {},
   "source": [
    "# Building ANN"
   ]
  },
  {
   "cell_type": "code",
   "execution_count": 331,
   "metadata": {
    "collapsed": true
   },
   "outputs": [],
   "source": [
    "import keras\n",
    "from keras import layers\n",
    "from keras import models\n",
    "from keras import optimizers"
   ]
  },
  {
   "cell_type": "code",
   "execution_count": 348,
   "metadata": {
    "collapsed": true
   },
   "outputs": [],
   "source": [
    "model = models.Sequential()"
   ]
  },
  {
   "cell_type": "code",
   "execution_count": 349,
   "metadata": {},
   "outputs": [],
   "source": [
    "model.add(layers.Dense(4, input_shape=(7,), activation='relu'))\n",
    "# the model now takes input of dimensions (*,7)\n",
    "model.add(layers.Dense(8, activation='relu'))\n",
    "model.add(layers.Dense(16, activation='relu'))\n",
    "model.add(layers.Dense(2, activation='softmax'))"
   ]
  },
  {
   "cell_type": "code",
   "execution_count": 350,
   "metadata": {},
   "outputs": [
    {
     "name": "stdout",
     "output_type": "stream",
     "text": [
      "_________________________________________________________________\n",
      "Layer (type)                 Output Shape              Param #   \n",
      "=================================================================\n",
      "dense_98 (Dense)             (None, 4)                 32        \n",
      "_________________________________________________________________\n",
      "dense_99 (Dense)             (None, 8)                 40        \n",
      "_________________________________________________________________\n",
      "dense_100 (Dense)            (None, 16)                144       \n",
      "_________________________________________________________________\n",
      "dense_101 (Dense)            (None, 2)                 34        \n",
      "=================================================================\n",
      "Total params: 250\n",
      "Trainable params: 250\n",
      "Non-trainable params: 0\n",
      "_________________________________________________________________\n"
     ]
    }
   ],
   "source": [
    "model.summary()"
   ]
  },
  {
   "cell_type": "code",
   "execution_count": 351,
   "metadata": {},
   "outputs": [],
   "source": [
    "model.compile(loss='categorical_crossentropy', optimizer='adam', metrics=['accuracy'])"
   ]
  },
  {
   "cell_type": "code",
   "execution_count": 352,
   "metadata": {},
   "outputs": [],
   "source": [
    "Y_train;"
   ]
  },
  {
   "cell_type": "code",
   "execution_count": 353,
   "metadata": {},
   "outputs": [
    {
     "name": "stdout",
     "output_type": "stream",
     "text": [
      "Train on 498 samples, validate on 214 samples\n",
      "Epoch 1/100\n",
      " - 1s - loss: 0.8809 - acc: 0.4137 - val_loss: 0.8410 - val_acc: 0.3832\n",
      "Epoch 2/100\n",
      " - 0s - loss: 0.7815 - acc: 0.4137 - val_loss: 0.7545 - val_acc: 0.3832\n",
      "Epoch 3/100\n",
      " - 0s - loss: 0.7224 - acc: 0.4137 - val_loss: 0.7063 - val_acc: 0.3832\n",
      "Epoch 4/100\n",
      " - 0s - loss: 0.6936 - acc: 0.5040 - val_loss: 0.6831 - val_acc: 0.6168\n",
      "Epoch 5/100\n",
      " - 0s - loss: 0.6841 - acc: 0.5863 - val_loss: 0.6727 - val_acc: 0.6168\n",
      "Epoch 6/100\n",
      " - 0s - loss: 0.6793 - acc: 0.5863 - val_loss: 0.6689 - val_acc: 0.6168\n",
      "Epoch 7/100\n",
      " - 0s - loss: 0.6780 - acc: 0.5863 - val_loss: 0.6665 - val_acc: 0.6168\n",
      "Epoch 8/100\n",
      " - 0s - loss: 0.6769 - acc: 0.5863 - val_loss: 0.6652 - val_acc: 0.6168\n",
      "Epoch 9/100\n",
      " - 0s - loss: 0.6755 - acc: 0.5863 - val_loss: 0.6645 - val_acc: 0.6168\n",
      "Epoch 10/100\n",
      " - 0s - loss: 0.6747 - acc: 0.5863 - val_loss: 0.6639 - val_acc: 0.6168\n",
      "Epoch 11/100\n",
      " - 0s - loss: 0.6751 - acc: 0.5863 - val_loss: 0.6610 - val_acc: 0.6168\n",
      "Epoch 12/100\n",
      " - 0s - loss: 0.6728 - acc: 0.5863 - val_loss: 0.6611 - val_acc: 0.6168\n",
      "Epoch 13/100\n",
      " - 0s - loss: 0.6707 - acc: 0.5863 - val_loss: 0.6589 - val_acc: 0.6168\n",
      "Epoch 14/100\n",
      " - 0s - loss: 0.6689 - acc: 0.5863 - val_loss: 0.6565 - val_acc: 0.6168\n",
      "Epoch 15/100\n",
      " - 0s - loss: 0.6669 - acc: 0.5863 - val_loss: 0.6540 - val_acc: 0.6168\n",
      "Epoch 16/100\n",
      " - 0s - loss: 0.6645 - acc: 0.5863 - val_loss: 0.6506 - val_acc: 0.6168\n",
      "Epoch 17/100\n",
      " - 0s - loss: 0.6613 - acc: 0.5863 - val_loss: 0.6472 - val_acc: 0.6168\n",
      "Epoch 18/100\n",
      " - 0s - loss: 0.6577 - acc: 0.5863 - val_loss: 0.6428 - val_acc: 0.6168\n",
      "Epoch 19/100\n",
      " - 0s - loss: 0.6535 - acc: 0.5863 - val_loss: 0.6379 - val_acc: 0.6168\n",
      "Epoch 20/100\n",
      " - 0s - loss: 0.6485 - acc: 0.5863 - val_loss: 0.6323 - val_acc: 0.6168\n",
      "Epoch 21/100\n",
      " - 0s - loss: 0.6431 - acc: 0.5884 - val_loss: 0.6268 - val_acc: 0.6215\n",
      "Epoch 22/100\n",
      " - 0s - loss: 0.6375 - acc: 0.5904 - val_loss: 0.6174 - val_acc: 0.6215\n",
      "Epoch 23/100\n",
      " - 0s - loss: 0.6282 - acc: 0.5944 - val_loss: 0.6097 - val_acc: 0.6355\n",
      "Epoch 24/100\n",
      " - 0s - loss: 0.6202 - acc: 0.6546 - val_loss: 0.6003 - val_acc: 0.7103\n",
      "Epoch 25/100\n",
      " - 0s - loss: 0.6108 - acc: 0.7048 - val_loss: 0.5893 - val_acc: 0.7430\n",
      "Epoch 26/100\n",
      " - 0s - loss: 0.6006 - acc: 0.7189 - val_loss: 0.5779 - val_acc: 0.7757\n",
      "Epoch 27/100\n",
      " - 0s - loss: 0.5922 - acc: 0.7631 - val_loss: 0.5679 - val_acc: 0.7991\n",
      "Epoch 28/100\n",
      " - 0s - loss: 0.5791 - acc: 0.7731 - val_loss: 0.5545 - val_acc: 0.7944\n",
      "Epoch 29/100\n",
      " - 0s - loss: 0.5690 - acc: 0.7771 - val_loss: 0.5421 - val_acc: 0.7991\n",
      "Epoch 30/100\n",
      " - 0s - loss: 0.5581 - acc: 0.7651 - val_loss: 0.5321 - val_acc: 0.7944\n",
      "Epoch 31/100\n",
      " - 0s - loss: 0.5487 - acc: 0.7711 - val_loss: 0.5229 - val_acc: 0.7897\n",
      "Epoch 32/100\n",
      " - 0s - loss: 0.5392 - acc: 0.7731 - val_loss: 0.5120 - val_acc: 0.7897\n",
      "Epoch 33/100\n",
      " - 0s - loss: 0.5308 - acc: 0.7731 - val_loss: 0.5030 - val_acc: 0.7897\n",
      "Epoch 34/100\n",
      " - 0s - loss: 0.5235 - acc: 0.7751 - val_loss: 0.4954 - val_acc: 0.7850\n",
      "Epoch 35/100\n",
      " - 0s - loss: 0.5172 - acc: 0.7771 - val_loss: 0.4892 - val_acc: 0.7897\n",
      "Epoch 36/100\n",
      " - 0s - loss: 0.5125 - acc: 0.7751 - val_loss: 0.4830 - val_acc: 0.7850\n",
      "Epoch 37/100\n",
      " - 0s - loss: 0.5070 - acc: 0.7751 - val_loss: 0.4781 - val_acc: 0.7897\n",
      "Epoch 38/100\n",
      " - 0s - loss: 0.5027 - acc: 0.7771 - val_loss: 0.4738 - val_acc: 0.7897\n",
      "Epoch 39/100\n",
      " - 0s - loss: 0.4993 - acc: 0.7771 - val_loss: 0.4698 - val_acc: 0.7897\n",
      "Epoch 40/100\n",
      " - 0s - loss: 0.4971 - acc: 0.7751 - val_loss: 0.4657 - val_acc: 0.7897\n",
      "Epoch 41/100\n",
      " - 0s - loss: 0.4941 - acc: 0.7771 - val_loss: 0.4636 - val_acc: 0.7897\n",
      "Epoch 42/100\n",
      " - 0s - loss: 0.4923 - acc: 0.7751 - val_loss: 0.4595 - val_acc: 0.7897\n",
      "Epoch 43/100\n",
      " - 0s - loss: 0.4894 - acc: 0.7751 - val_loss: 0.4573 - val_acc: 0.7897\n",
      "Epoch 44/100\n",
      " - 0s - loss: 0.4875 - acc: 0.7771 - val_loss: 0.4554 - val_acc: 0.7897\n",
      "Epoch 45/100\n",
      " - 0s - loss: 0.4857 - acc: 0.7771 - val_loss: 0.4522 - val_acc: 0.7897\n",
      "Epoch 46/100\n",
      " - 0s - loss: 0.4837 - acc: 0.7771 - val_loss: 0.4498 - val_acc: 0.7897\n",
      "Epoch 47/100\n",
      " - 0s - loss: 0.4831 - acc: 0.7791 - val_loss: 0.4468 - val_acc: 0.7991\n",
      "Epoch 48/100\n",
      " - 0s - loss: 0.4808 - acc: 0.7791 - val_loss: 0.4453 - val_acc: 0.7897\n",
      "Epoch 49/100\n",
      " - 0s - loss: 0.4791 - acc: 0.7811 - val_loss: 0.4420 - val_acc: 0.7991\n",
      "Epoch 50/100\n",
      " - 0s - loss: 0.4774 - acc: 0.7751 - val_loss: 0.4404 - val_acc: 0.7991\n",
      "Epoch 51/100\n",
      " - 0s - loss: 0.4760 - acc: 0.7791 - val_loss: 0.4377 - val_acc: 0.7991\n",
      "Epoch 52/100\n",
      " - 0s - loss: 0.4741 - acc: 0.7771 - val_loss: 0.4361 - val_acc: 0.7991\n",
      "Epoch 53/100\n",
      " - 0s - loss: 0.4730 - acc: 0.7791 - val_loss: 0.4341 - val_acc: 0.7991\n",
      "Epoch 54/100\n",
      " - 0s - loss: 0.4717 - acc: 0.7791 - val_loss: 0.4327 - val_acc: 0.7991\n",
      "Epoch 55/100\n",
      " - 0s - loss: 0.4707 - acc: 0.7791 - val_loss: 0.4307 - val_acc: 0.7991\n",
      "Epoch 56/100\n",
      " - 0s - loss: 0.4695 - acc: 0.7791 - val_loss: 0.4287 - val_acc: 0.7991\n",
      "Epoch 57/100\n",
      " - 0s - loss: 0.4684 - acc: 0.7811 - val_loss: 0.4275 - val_acc: 0.7991\n",
      "Epoch 58/100\n",
      " - 0s - loss: 0.4676 - acc: 0.7831 - val_loss: 0.4260 - val_acc: 0.7991\n",
      "Epoch 59/100\n",
      " - 0s - loss: 0.4670 - acc: 0.7791 - val_loss: 0.4248 - val_acc: 0.8037\n",
      "Epoch 60/100\n",
      " - 0s - loss: 0.4656 - acc: 0.7811 - val_loss: 0.4236 - val_acc: 0.8084\n",
      "Epoch 61/100\n",
      " - 0s - loss: 0.4647 - acc: 0.7831 - val_loss: 0.4228 - val_acc: 0.8037\n",
      "Epoch 62/100\n",
      " - 0s - loss: 0.4642 - acc: 0.7791 - val_loss: 0.4221 - val_acc: 0.8037\n",
      "Epoch 63/100\n",
      " - 0s - loss: 0.4638 - acc: 0.7831 - val_loss: 0.4201 - val_acc: 0.8084\n",
      "Epoch 64/100\n",
      " - 0s - loss: 0.4626 - acc: 0.7811 - val_loss: 0.4193 - val_acc: 0.8084\n",
      "Epoch 65/100\n",
      " - 0s - loss: 0.4621 - acc: 0.7851 - val_loss: 0.4182 - val_acc: 0.8131\n",
      "Epoch 66/100\n",
      " - 0s - loss: 0.4615 - acc: 0.7892 - val_loss: 0.4173 - val_acc: 0.8131\n",
      "Epoch 67/100\n",
      " - 0s - loss: 0.4606 - acc: 0.7932 - val_loss: 0.4168 - val_acc: 0.8084\n",
      "Epoch 68/100\n",
      " - 0s - loss: 0.4606 - acc: 0.7912 - val_loss: 0.4160 - val_acc: 0.8131\n",
      "Epoch 69/100\n",
      " - 0s - loss: 0.4606 - acc: 0.7912 - val_loss: 0.4156 - val_acc: 0.8131\n",
      "Epoch 70/100\n",
      " - 0s - loss: 0.4592 - acc: 0.7972 - val_loss: 0.4144 - val_acc: 0.8224\n",
      "Epoch 71/100\n",
      " - 0s - loss: 0.4589 - acc: 0.8032 - val_loss: 0.4143 - val_acc: 0.8178\n",
      "Epoch 72/100\n",
      " - 0s - loss: 0.4584 - acc: 0.7952 - val_loss: 0.4136 - val_acc: 0.8178\n",
      "Epoch 73/100\n",
      " - 0s - loss: 0.4581 - acc: 0.7932 - val_loss: 0.4135 - val_acc: 0.8178\n",
      "Epoch 74/100\n",
      " - 0s - loss: 0.4578 - acc: 0.8032 - val_loss: 0.4126 - val_acc: 0.8224\n",
      "Epoch 75/100\n",
      " - 0s - loss: 0.4584 - acc: 0.7912 - val_loss: 0.4132 - val_acc: 0.8178\n",
      "Epoch 76/100\n",
      " - 0s - loss: 0.4573 - acc: 0.8032 - val_loss: 0.4116 - val_acc: 0.8271\n",
      "Epoch 77/100\n",
      " - 0s - loss: 0.4565 - acc: 0.8072 - val_loss: 0.4117 - val_acc: 0.8271\n",
      "Epoch 78/100\n",
      " - 0s - loss: 0.4564 - acc: 0.7992 - val_loss: 0.4117 - val_acc: 0.8224\n",
      "Epoch 79/100\n",
      " - 0s - loss: 0.4573 - acc: 0.7912 - val_loss: 0.4121 - val_acc: 0.8224\n",
      "Epoch 80/100\n",
      " - 0s - loss: 0.4560 - acc: 0.8072 - val_loss: 0.4106 - val_acc: 0.8271\n",
      "Epoch 81/100\n",
      " - 0s - loss: 0.4559 - acc: 0.8012 - val_loss: 0.4106 - val_acc: 0.8271\n",
      "Epoch 82/100\n",
      " - 0s - loss: 0.4550 - acc: 0.8032 - val_loss: 0.4103 - val_acc: 0.8318\n",
      "Epoch 83/100\n",
      " - 0s - loss: 0.4553 - acc: 0.8072 - val_loss: 0.4106 - val_acc: 0.8271\n",
      "Epoch 84/100\n",
      " - 0s - loss: 0.4547 - acc: 0.8052 - val_loss: 0.4100 - val_acc: 0.8271\n",
      "Epoch 85/100\n",
      " - 0s - loss: 0.4552 - acc: 0.8092 - val_loss: 0.4096 - val_acc: 0.8271\n",
      "Epoch 86/100\n",
      " - 0s - loss: 0.4545 - acc: 0.8032 - val_loss: 0.4100 - val_acc: 0.8271\n",
      "Epoch 87/100\n",
      " - 0s - loss: 0.4543 - acc: 0.8032 - val_loss: 0.4094 - val_acc: 0.8271\n",
      "Epoch 88/100\n",
      " - 0s - loss: 0.4538 - acc: 0.8052 - val_loss: 0.4099 - val_acc: 0.8271\n",
      "Epoch 89/100\n",
      " - 0s - loss: 0.4537 - acc: 0.8032 - val_loss: 0.4092 - val_acc: 0.8271\n",
      "Epoch 90/100\n",
      " - 0s - loss: 0.4535 - acc: 0.8072 - val_loss: 0.4092 - val_acc: 0.8318\n",
      "Epoch 91/100\n",
      " - 0s - loss: 0.4537 - acc: 0.8072 - val_loss: 0.4090 - val_acc: 0.8271\n",
      "Epoch 92/100\n",
      " - 0s - loss: 0.4532 - acc: 0.8032 - val_loss: 0.4095 - val_acc: 0.8271\n",
      "Epoch 93/100\n",
      " - 0s - loss: 0.4532 - acc: 0.8012 - val_loss: 0.4092 - val_acc: 0.8271\n",
      "Epoch 94/100\n",
      " - 0s - loss: 0.4536 - acc: 0.8012 - val_loss: 0.4100 - val_acc: 0.8224\n",
      "Epoch 95/100\n",
      " - 0s - loss: 0.4525 - acc: 0.8032 - val_loss: 0.4088 - val_acc: 0.8271\n",
      "Epoch 96/100\n",
      " - 0s - loss: 0.4528 - acc: 0.8092 - val_loss: 0.4088 - val_acc: 0.8318\n"
     ]
    },
    {
     "name": "stdout",
     "output_type": "stream",
     "text": [
      "Epoch 97/100\n",
      " - 0s - loss: 0.4526 - acc: 0.8112 - val_loss: 0.4087 - val_acc: 0.8318\n",
      "Epoch 98/100\n",
      " - 0s - loss: 0.4525 - acc: 0.8032 - val_loss: 0.4092 - val_acc: 0.8224\n",
      "Epoch 99/100\n",
      " - 0s - loss: 0.4520 - acc: 0.8012 - val_loss: 0.4094 - val_acc: 0.8224\n",
      "Epoch 100/100\n",
      " - 0s - loss: 0.4520 - acc: 0.8032 - val_loss: 0.4093 - val_acc: 0.8271\n"
     ]
    },
    {
     "data": {
      "text/plain": [
       "<keras.callbacks.History at 0x16e08d298d0>"
      ]
     },
     "execution_count": 353,
     "metadata": {},
     "output_type": "execute_result"
    }
   ],
   "source": [
    "model.fit(x=X_train, y=Y_train, epochs=100, verbose=2, validation_split=0.3, shuffle=True)"
   ]
  },
  {
   "cell_type": "code",
   "execution_count": 344,
   "metadata": {},
   "outputs": [
    {
     "data": {
      "text/plain": [
       "(418,)"
      ]
     },
     "execution_count": 344,
     "metadata": {},
     "output_type": "execute_result"
    }
   ],
   "source": [
    "predictions = model.predict_classes(X_test)\n",
    "predictions.shape"
   ]
  },
  {
   "cell_type": "code",
   "execution_count": 345,
   "metadata": {
    "collapsed": true
   },
   "outputs": [],
   "source": [
    "testDataOriginal = pd.read_csv(Original_test_location)\n",
    "testDataOriginal[\"PassengerId\"];"
   ]
  },
  {
   "cell_type": "code",
   "execution_count": 346,
   "metadata": {
    "collapsed": true
   },
   "outputs": [],
   "source": [
    "results = pd.DataFrame({\n",
    "    \"PassengerId\": testDataOriginal[\"PassengerId\"],\n",
    "    \"Survived\": predictions})"
   ]
  },
  {
   "cell_type": "code",
   "execution_count": 347,
   "metadata": {},
   "outputs": [],
   "source": [
    "results.to_csv('titanic_ANN4.csv', index=False)"
   ]
  },
  {
   "cell_type": "code",
   "execution_count": null,
   "metadata": {
    "collapsed": true
   },
   "outputs": [],
   "source": []
  },
  {
   "cell_type": "code",
   "execution_count": null,
   "metadata": {
    "collapsed": true
   },
   "outputs": [],
   "source": []
  },
  {
   "cell_type": "code",
   "execution_count": null,
   "metadata": {
    "collapsed": true
   },
   "outputs": [],
   "source": []
  },
  {
   "cell_type": "code",
   "execution_count": null,
   "metadata": {
    "collapsed": true
   },
   "outputs": [],
   "source": []
  },
  {
   "cell_type": "code",
   "execution_count": null,
   "metadata": {
    "collapsed": true
   },
   "outputs": [],
   "source": []
  },
  {
   "cell_type": "code",
   "execution_count": null,
   "metadata": {
    "collapsed": true
   },
   "outputs": [],
   "source": []
  },
  {
   "cell_type": "code",
   "execution_count": null,
   "metadata": {
    "collapsed": true
   },
   "outputs": [],
   "source": []
  },
  {
   "cell_type": "code",
   "execution_count": null,
   "metadata": {
    "collapsed": true
   },
   "outputs": [],
   "source": []
  },
  {
   "cell_type": "code",
   "execution_count": null,
   "metadata": {
    "collapsed": true
   },
   "outputs": [],
   "source": []
  }
 ],
 "metadata": {
  "kernelspec": {
   "display_name": "Python 3",
   "language": "python",
   "name": "python3"
  },
  "language_info": {
   "codemirror_mode": {
    "name": "ipython",
    "version": 3
   },
   "file_extension": ".py",
   "mimetype": "text/x-python",
   "name": "python",
   "nbconvert_exporter": "python",
   "pygments_lexer": "ipython3",
   "version": "3.6.1"
  }
 },
 "nbformat": 4,
 "nbformat_minor": 2
}
